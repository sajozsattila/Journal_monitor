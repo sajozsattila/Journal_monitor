{
 "cells": [
  {
   "cell_type": "code",
   "execution_count": 1,
   "metadata": {},
   "outputs": [
    {
     "name": "stderr",
     "output_type": "stream",
     "text": [
      "── \u001b[1mAttaching packages\u001b[22m ─────────────────────────────────────── tidyverse 1.3.0 ──\n",
      "\n",
      "\u001b[32m✔\u001b[39m \u001b[34mggplot2\u001b[39m 3.3.2     \u001b[32m✔\u001b[39m \u001b[34mpurrr  \u001b[39m 0.3.4\n",
      "\u001b[32m✔\u001b[39m \u001b[34mtibble \u001b[39m 3.0.4     \u001b[32m✔\u001b[39m \u001b[34mdplyr  \u001b[39m 1.0.2\n",
      "\u001b[32m✔\u001b[39m \u001b[34mtidyr  \u001b[39m 1.1.2     \u001b[32m✔\u001b[39m \u001b[34mstringr\u001b[39m 1.4.0\n",
      "\u001b[32m✔\u001b[39m \u001b[34mreadr  \u001b[39m 1.4.0     \u001b[32m✔\u001b[39m \u001b[34mforcats\u001b[39m 0.5.0\n",
      "\n",
      "── \u001b[1mConflicts\u001b[22m ────────────────────────────────────────── tidyverse_conflicts() ──\n",
      "\u001b[31m✖\u001b[39m \u001b[34mdplyr\u001b[39m::\u001b[32mfilter()\u001b[39m masks \u001b[34mstats\u001b[39m::filter()\n",
      "\u001b[31m✖\u001b[39m \u001b[34mdplyr\u001b[39m::\u001b[32mlag()\u001b[39m    masks \u001b[34mstats\u001b[39m::lag()\n",
      "\n"
     ]
    }
   ],
   "source": [
    "library('rorcid')\n",
    "library(\"tidyverse\")"
   ]
  },
  {
   "cell_type": "code",
   "execution_count": 2,
   "metadata": {},
   "outputs": [
    {
     "data": {
      "text/plain": [
       "[1] ‘0.6.4’"
      ]
     },
     "metadata": {},
     "output_type": "display_data"
    }
   ],
   "source": [
    "packageVersion(\"rorcid\")         # Check package version of dplyr"
   ]
  },
  {
   "cell_type": "code",
   "execution_count": 3,
   "metadata": {},
   "outputs": [],
   "source": [
    "library(\"utils\")\n",
    "library(\"tidyverse\")\n",
    "filename <- \"data/journal_Annals_of_Glaciology_1.0.0.csv\"\n",
    "df <- read.csv((filename), header=TRUE, sep = \"|\", stringsAsFactors = FALSE)\n"
   ]
  },
  {
   "cell_type": "code",
   "execution_count": 4,
   "metadata": {},
   "outputs": [],
   "source": [
    "# split writers\n",
    "writers <- strsplit(as.character(df$writer), split = \"#\", fixed = TRUE)"
   ]
  },
  {
   "cell_type": "code",
   "execution_count": 11,
   "metadata": {},
   "outputs": [],
   "source": [
    "# cut the writer column to individual writers and return the tokkenised writer name \n",
    "namesfilter  <- function (writerlist) {\n",
    "            # index for list\n",
    "            i <- 1\n",
    "            # the list of the result\n",
    "            filterednames <- list()\n",
    "            for ( wi in 1:length(writerlist) ) {\n",
    "               print(writerlist[[wi]])\n",
    "               writername <- try(strsplit( \n",
    "                   strsplit( \n",
    "                       writerlist[[wi]], \n",
    "                       split = \"--\", fixed = TRUE )[[1]][1],\n",
    "                   split = \" \", fixed = TRUE )[[1]]\n",
    "                                 ,silent=TRUE)\n",
    "               if(class(writername) %in% 'try-error') {print(writerlist[[wi]])}\n",
    "               # drop empty\n",
    "               for ( ni in length(writername):1 ) {\n",
    "                   if ( str_length(writername[[ni]]) < 1 ) {\n",
    "                       writername <- writername[-ni]\n",
    "                   } else {\n",
    "                       writername[ni] <- str_to_lower(writername[[ni]])\n",
    "                   }\n",
    "               }\n",
    "               # add to result\n",
    "               filterednames[[i]] = writername\n",
    "               i <- i + 1\n",
    "            }            \n",
    "            return(filterednames)\n",
    "        }"
   ]
  },
  {
   "cell_type": "code",
   "execution_count": 13,
   "metadata": {
    "scrolled": false
   },
   "outputs": [
    {
     "name": "stdout",
     "output_type": "stream",
     "text": [
      "[1] \"Jon Ove Hagen--Department of Physical Geography, University of Oslo\"\n",
      "[1] \"Bernd Etzelmüller--Department of Physical Geography, University of Oslo\"\n",
      "[1] \"Anne-Marie Nuttall--Bristol Glaciology Centre, School of Geographical Sciences, University of Bristol---0000-0002-6716-3491\"\n",
      "[1] \"Roberto Udisti--Department of Chemistry, University of Florence\"\n",
      "[1] \"Silvia Becagli--Department of Chemistry, University of Florence\"\n",
      "[1] \"Silvia Benassai--Department of Chemistry, University of Florence\"\n",
      "[1] \"Martine De Angelis\"\n",
      "[1] \"Margareta E. Hansson--Department of Physical Geography and Quaternary Geology, Stockholm University\"\n",
      "[1] \"Jean Jouzel\"\n",
      "[1] \"Jacob Schwander--Physics Institute, University of Bern\"\n",
      "[1] \"Jørgen P. Steffensen--Department of Geophysics, The Niels Bohr Institute, University of Copenhagen\"\n",
      "[1] \"Rita Traversi--Department of Chemistry, University of Florence\"\n",
      "[1] \"Eric Wolff--British Antarctic Survey, Natural Environment Research Council---0000-0002-5914-8531\"\n"
     ]
    },
    {
     "name": "stderr",
     "output_type": "stream",
     "text": [
      "Warning message:\n",
      "“Unknown or uninitialised column: `orcid-identifier.path`.”\n"
     ]
    },
    {
     "name": "stdout",
     "output_type": "stream",
     "text": [
      "[1] \"Akira Hori--Institute of Low Temperature Science, Hokkaido University\"\n",
      "[1] \"Takeo Hondoh--Institute of Low Temperature Science, Hokkaido University---0000-0003-4129-022X\"\n",
      "[1] \"Mitsugu Oguro\"\n",
      "[1] \"Vladimir Ya. Lipenkov--Arctic and Antarctic Research Institute\"\n"
     ]
    },
    {
     "name": "stderr",
     "output_type": "stream",
     "text": [
      "Warning message:\n",
      "“Unknown or uninitialised column: `orcid-identifier.path`.”\n",
      "Warning message:\n",
      "“Unknown or uninitialised column: `orcid-identifier.path`.”\n",
      "Warning message:\n",
      "“Unknown or uninitialised column: `orcid-identifier.path`.”\n"
     ]
    },
    {
     "name": "stdout",
     "output_type": "stream",
     "text": [
      "[1] \"Douglas R. MacAyeal--Department of Geophysical Sciences---0000-0003-0647-6176\"\n",
      "[1] \"Dorian S. Abbot--Department of Geophysical Sciences\"\n",
      "[1] \"Olga V. Sergienko--Atmospheric and Oceanic Sciences Program---0000-0002-5764-8815\"\n",
      "[1] \"T. M. Jordan--University of Bristol---0000-0002-2096-8858\"\n",
      "[1] \"D. Z. Besson--Kansas University---0000-0001-6733-963X\"\n",
      "[1] \"I. Kravchenko--University of Nebraska\"\n",
      "[1] \"U. Latif--Kansas University\"\n",
      "[1] \"B. Madison--Kansas University\"\n",
      "[1] \"A. Nokikov--Kansas University\"\n",
      "[1] \"A. Shultz--Kansas University\"\n"
     ]
    },
    {
     "name": "stderr",
     "output_type": "stream",
     "text": [
      "Warning message:\n",
      "“Unknown or uninitialised column: `orcid-identifier.path`.”\n"
     ]
    },
    {
     "name": "stdout",
     "output_type": "stream",
     "text": [
      "[1] \"E.Yu. Osipov---0000-0002-8997-210X\"\n",
      "[1] \"O.P. Osipova\"\n"
     ]
    },
    {
     "name": "stderr",
     "output_type": "stream",
     "text": [
      "Warning message:\n",
      "“Unknown or uninitialised column: `orcid-identifier.path`.”\n",
      "Warning message:\n",
      "“Unknown or uninitialised column: `orcid-identifier.path`.”\n",
      "Warning message:\n",
      "“Unknown or uninitialised column: `orcid-identifier.path`.”\n"
     ]
    },
    {
     "name": "stdout",
     "output_type": "stream",
     "text": [
      "[1] \"Claire L. Parkinson---0000-0001-6730-4197\"\n",
      "[1] \"Donald J. Cavalieri\"\n"
     ]
    },
    {
     "name": "stderr",
     "output_type": "stream",
     "text": [
      "Warning message:\n",
      "“Unknown or uninitialised column: `orcid-identifier.path`.”\n",
      "Warning message:\n",
      "“Unknown or uninitialised column: `orcid-identifier.path`.”\n",
      "Warning message:\n",
      "“Unknown or uninitialised column: `orcid-identifier.path`.”\n",
      "Warning message:\n",
      "“Unknown or uninitialised column: `orcid-identifier.path`.”\n"
     ]
    },
    {
     "name": "stdout",
     "output_type": "stream",
     "text": [
      "[1] \"G. H. Gudmundsson--Versuchsanstalt für Wasserbau, Hydrologie und Glaziologie\"\n",
      "[1] \"A. Bassi--Versuchsanstalt für Wasserbau, Hydrologie und Glaziologie\"\n",
      "[1] \"M. Vonmoos--Versuchsanstalt für Wasserbau, Hydrologie und Glaziologie\"\n",
      "[1] \"A. Bauder--Versuchsanstalt für Wasserbau, Hydrologie und Glaziologie\"\n",
      "[1] \"U. H. Fischer--Versuchsanstalt für Wasserbau, Hydrologie und Glaziologie\"\n",
      "[1] \"M. Funk--Versuchsanstalt für Wasserbau, Hydrologie und Glaziologie---0000-0003-4236-5369\"\n"
     ]
    },
    {
     "name": "stderr",
     "output_type": "stream",
     "text": [
      "Warning message:\n",
      "“Unknown or uninitialised column: `orcid-identifier.path`.”\n",
      "Warning message:\n",
      "“Unknown or uninitialised column: `orcid-identifier.path`.”\n",
      "Warning message:\n",
      "“Unknown or uninitialised column: `orcid-identifier.path`.”\n"
     ]
    },
    {
     "name": "stdout",
     "output_type": "stream",
     "text": [
      "[1] \"Kelvin J. Michael\"\n",
      "[1] \"Clemente S. Hungria\"\n",
      "[1] \"R. A. Massom---0000-0003-1533-5084\"\n"
     ]
    },
    {
     "name": "stderr",
     "output_type": "stream",
     "text": [
      "Warning message:\n",
      "“Unknown or uninitialised column: `orcid-identifier.path`.”\n",
      "Warning message:\n",
      "“Unknown or uninitialised column: `orcid-identifier.path`.”\n",
      "Warning message:\n",
      "“Unknown or uninitialised column: `orcid-identifier.path`.”\n"
     ]
    },
    {
     "name": "stdout",
     "output_type": "stream",
     "text": [
      "[1] \"Olivier Lecomte--Georges Lemaître Centre for Earth and Climate Research (TECLIM),  Université Catholique de Louvain\"\n",
      "[1] \"Thierry Fichefet--Georges Lemaître Centre for Earth and Climate Research (TECLIM),  Université Catholique de Louvain\"\n",
      "[1] \"Martin Vancoppenolle--Georges Lemaître Centre for Earth and Climate Research (TECLIM),  Université Catholique de Louvain---0000-0002-7573-8582\"\n",
      "[1] \"Marcel Nicolaus--Alfred Wegener Institute for Polar and Marine Research\"\n"
     ]
    },
    {
     "name": "stderr",
     "output_type": "stream",
     "text": [
      "Warning message:\n",
      "“Unknown or uninitialised column: `orcid-identifier.path`.”\n"
     ]
    },
    {
     "name": "stdout",
     "output_type": "stream",
     "text": [
      "[1] \"Thorben Dunse--University of Oslo\"\n",
      "[1] \"Thomas Vikhamar Schuler--University of Oslo---0000-0003-0972-3929\"\n",
      "[1] \"Jon Ove Hagen--University of Oslo\"\n",
      "[1] \"Trond Eiken--University of Oslo\"\n",
      "[1] \"Ola Brandt--Norwegian Polar Institute\"\n",
      "[1] \"Kjell Arild Høgda\"\n"
     ]
    },
    {
     "name": "stderr",
     "output_type": "stream",
     "text": [
      "Warning message:\n",
      "“Unknown or uninitialised column: `orcid-identifier.path`.”\n",
      "Warning message:\n",
      "“Unknown or uninitialised column: `orcid-identifier.path`.”\n"
     ]
    },
    {
     "name": "stdout",
     "output_type": "stream",
     "text": [
      "[1] \"Annette F.M. Foster\"\n",
      "[1] \"Mark A.J. Curran\"\n",
      "[1] \"Barbara T. Smith\"\n",
      "[1] \"Tas D. Van Ommen---0000-0002-2463-1718\"\n",
      "[1] \"Vin I. Morgan\"\n"
     ]
    },
    {
     "name": "stderr",
     "output_type": "stream",
     "text": [
      "Warning message:\n",
      "“Unknown or uninitialised column: `orcid-identifier.path`.”\n"
     ]
    },
    {
     "name": "stdout",
     "output_type": "stream",
     "text": [
      "[1] \"A. Pozdnoukhov\"\n",
      "[1] \"R.S. Purves\"\n",
      "[1] \"M. Kanevski---0000-0001-6602-6551\"\n"
     ]
    },
    {
     "name": "stderr",
     "output_type": "stream",
     "text": [
      "Warning message:\n",
      "“Unknown or uninitialised column: `orcid-identifier.path`.”\n",
      "Warning message:\n",
      "“Unknown or uninitialised column: `orcid-identifier.path`.”\n"
     ]
    },
    {
     "name": "stdout",
     "output_type": "stream",
     "text": [
      "[1] \"Leslie W. Morland\"\n",
      "[1] \"Ryszard Staroszczyk---0000-0002-0423-1717\"\n"
     ]
    },
    {
     "name": "stderr",
     "output_type": "stream",
     "text": [
      "Warning message:\n",
      "“Unknown or uninitialised column: `orcid-identifier.path`.”\n",
      "Warning message:\n",
      "“Unknown or uninitialised column: `orcid-identifier.path`.”\n",
      "Warning message:\n",
      "“Unknown or uninitialised column: `orcid-identifier.path`.”\n",
      "Warning message:\n",
      "“Unknown or uninitialised column: `orcid-identifier.path`.”\n",
      "Warning message:\n",
      "“Unknown or uninitialised column: `orcid-identifier.path`.”\n",
      "Warning message:\n",
      "“Unknown or uninitialised column: `orcid-identifier.path`.”\n"
     ]
    },
    {
     "name": "stdout",
     "output_type": "stream",
     "text": [
      "[1] \"Eric J. Steig--Quaternary Research Center and Department of Earth and Space Sciences\"\n",
      "[1] \"Richard B. Alley--Environment Institute and Department of Geosciences\"\n"
     ]
    },
    {
     "name": "stderr",
     "output_type": "stream",
     "text": [
      "Warning message:\n",
      "“Unknown or uninitialised column: `orcid-identifier.path`.”\n",
      "Warning message:\n",
      "“Unknown or uninitialised column: `orcid-identifier.path`.”\n",
      "Warning message:\n",
      "“Unknown or uninitialised column: `orcid-identifier.path`.”\n",
      "Warning message:\n",
      "“Unknown or uninitialised column: `orcid-identifier.path`.”\n",
      "Warning message:\n",
      "“Unknown or uninitialised column: `orcid-identifier.path`.”\n",
      "Warning message:\n",
      "“Unknown or uninitialised column: `orcid-identifier.path`.”\n"
     ]
    },
    {
     "name": "stdout",
     "output_type": "stream",
     "text": [
      "[1] \"Ginny A. Catania--Department of Earth and Space Sciences---0000-0002-7561-5902\"\n",
      "[1] \"Howard B. Conway--Department of Earth and Space Sciences\"\n",
      "[1] \"Anthony M. Gades--Department of Earth and Space Sciences\"\n",
      "[1] \"Charles F. Raymond--Department of Earth and Space Sciences\"\n",
      "[1] \"Hermann Engelhardt--Division of Geological and Planetary Sciences\"\n"
     ]
    },
    {
     "name": "stderr",
     "output_type": "stream",
     "text": [
      "Warning message:\n",
      "“Unknown or uninitialised column: `orcid-identifier.path`.”\n",
      "Warning message:\n",
      "“Unknown or uninitialised column: `orcid-identifier.path`.”\n",
      "Warning message:\n",
      "“Unknown or uninitialised column: `orcid-identifier.path`.”\n"
     ]
    },
    {
     "name": "stdout",
     "output_type": "stream",
     "text": [
      "[1] \"John Turner--British Antarctic Survey, Natural Environment Research Council---0000-0002-6111-5122\"\n",
      "[1] \"William Connolley--British Antarctic Survey, Natural Environment Research Council\"\n",
      "[1] \"Doug Cresswell--Hadley Centre for Climate Prediction and Research, Meteorological Office\"\n",
      "[1] \"Steven Harangozo--British Antarctic Survey, Natural Environment Research Council\"\n",
      "[1] \"Kelly M. Brunt\"\n",
      "[1] \"Olga Sergienko\"\n",
      "[1] \"Douglas R. MacAyeal---0000-0003-0647-6176\"\n"
     ]
    },
    {
     "name": "stderr",
     "output_type": "stream",
     "text": [
      "Warning message:\n",
      "“Unknown or uninitialised column: `orcid-identifier.path`.”\n",
      "Warning message:\n",
      "“Unknown or uninitialised column: `orcid-identifier.path`.”\n",
      "Warning message:\n",
      "“Unknown or uninitialised column: `orcid-identifier.path`.”\n"
     ]
    },
    {
     "name": "stdout",
     "output_type": "stream",
     "text": [
      "[1] \"Stefan Kern--Center for Climate System Analysis and Prediction (Cl:SAP),  University of Hamburg\"\n",
      "[1] \"Stefano Aliani--CNR Institute Marine Science\"\n",
      "[1] \"Add: 0000-0002-2555-4398\"\n",
      "[1] \"Add: 0000-0001-7281-3746\"\n"
     ]
    },
    {
     "name": "stderr",
     "output_type": "stream",
     "text": [
      "Warning message:\n",
      "“Unknown or uninitialised column: `orcid-identifier.path`.”\n",
      "Warning message:\n",
      "“Unknown or uninitialised column: `orcid-identifier.path`.”\n",
      "Warning message:\n",
      "“Unknown or uninitialised column: `orcid-identifier.path`.”\n",
      "Warning message:\n",
      "“Unknown or uninitialised column: `orcid-identifier.path`.”\n",
      "Warning message:\n",
      "“Unknown or uninitialised column: `orcid-identifier.path`.”\n"
     ]
    },
    {
     "name": "stdout",
     "output_type": "stream",
     "text": [
      "[1] \"Roger J. Braithwaite--University of Manchester\"\n",
      "[1] \"Add: 0000-0002-0387-7591\"\n",
      "[1] \"Benjamin M. Wagman--Institute for Geophysics, University of Texas at Austin\"\n",
      "[1] \"Ginny A. Catania--Institute for Geophysics, University of Texas at Austin\"\n",
      "[1] \"Add: 0000-0001-7179-9831\"\n"
     ]
    },
    {
     "name": "stderr",
     "output_type": "stream",
     "text": [
      "Warning message:\n",
      "“Unknown or uninitialised column: `orcid-identifier.path`.”\n",
      "Warning message:\n",
      "“Unknown or uninitialised column: `orcid-identifier.path`.”\n",
      "Warning message:\n",
      "“Unknown or uninitialised column: `orcid-identifier.path`.”\n"
     ]
    },
    {
     "name": "stdout",
     "output_type": "stream",
     "text": [
      "[1] \"Richard C.A. Hindmarsh--British Antarctic Survey, Natural Environment Research Council, High Cross\"\n",
      "[1] \"Add: 0000-0003-1633-2416\"\n"
     ]
    },
    {
     "name": "stderr",
     "output_type": "stream",
     "text": [
      "Warning message:\n",
      "“Unknown or uninitialised column: `orcid-identifier.path`.”\n",
      "Warning message:\n",
      "“Unknown or uninitialised column: `orcid-identifier.path`.”\n"
     ]
    },
    {
     "name": "stdout",
     "output_type": "stream",
     "text": [
      "[1] \"Marinka Spiess--RWTH Aachen University\"\n",
      "[1] \"Christoph Schneider--RWTH Aachen University\"\n",
      "[1] \"Fabien Maussion--lnstitute of Meteorology and Geophysics\"\n",
      "[1] \"Add: 0000-0002-9914-3217\"\n",
      "[1] \"Add: 0000-0002-3211-506X\"\n"
     ]
    },
    {
     "name": "stderr",
     "output_type": "stream",
     "text": [
      "Warning message:\n",
      "“Unknown or uninitialised column: `orcid-identifier.path`.”\n",
      "Warning message:\n",
      "“Unknown or uninitialised column: `orcid-identifier.path`.”\n",
      "Warning message:\n",
      "“Unknown or uninitialised column: `orcid-identifier.path`.”\n",
      "Warning message:\n",
      "“Unknown or uninitialised column: `orcid-identifier.path`.”\n",
      "Warning message:\n",
      "“Unknown or uninitialised column: `orcid-identifier.path`.”\n"
     ]
    },
    {
     "name": "stdout",
     "output_type": "stream",
     "text": [
      "[1] \"Torborg Haug\"\n",
      "[1] \"Cecilie Rolstad\"\n",
      "[1] \"Hallgeir Elvehøy\"\n",
      "[1] \"Miriam Jackson\"\n",
      "[1] \"Ivar Maalen-Johansen\"\n",
      "[1] \"Add: 0000-0003-3719-6716\"\n"
     ]
    },
    {
     "name": "stderr",
     "output_type": "stream",
     "text": [
      "Warning message:\n",
      "“Unknown or uninitialised column: `orcid-identifier.path`.”\n"
     ]
    },
    {
     "name": "stdout",
     "output_type": "stream",
     "text": [
      "[1] \"Marjorie Schmeltz--Jet Propulsion Laboratory, California Institute of Technology\"\n",
      "[1] \"Eric Rignot--Jet Propulsion Laboratory, California Institute of Technology\"\n",
      "[1] \"Douglas MacAyeal--Department of the Geophysical Sciences, University of Chicago\"\n",
      "[1] \"Add: 0000-0002-3366-0481\"\n",
      "[1] \"Martin Schneebeli--WSL Swiss Federal Institute for Snow and Avalanche Research\"\n",
      "[1] \"Add: 0000-0003-2872-4409\"\n",
      "[1] \"Dirk Heinen--RWTH Aachen University---0000-0002-4502-7288\"\n",
      "[1] \"Peter Linder--RWTH Aachen University---0000-0002-6775-0872\"\n",
      "[1] \"Simon Zierke--RWTH Aachen University---0000-0002-0731-2491\"\n",
      "[1] \"Christopher Wiebusch--RWTH Aachen University---0000-0002-6418-3008\"\n"
     ]
    },
    {
     "name": "stderr",
     "output_type": "stream",
     "text": [
      "Warning message:\n",
      "“Unknown or uninitialised column: `orcid-identifier.path`.”\n"
     ]
    },
    {
     "name": "stdout",
     "output_type": "stream",
     "text": [
      "[1] \"Andreas Vieli--Centre for Polar Observation and Modelling, School of Geographical Sciences, University of Bristol\"\n",
      "[1] \"Antony J. Payne--Centre for Polar Observation and Modelling, School of Geographical Sciences, University of Bristol\"\n",
      "[1] \"Add: 0000-0002-2870-5921\"\n"
     ]
    },
    {
     "name": "stderr",
     "output_type": "stream",
     "text": [
      "Warning message:\n",
      "“Unknown or uninitialised column: `orcid-identifier.path`.”\n"
     ]
    },
    {
     "name": "stdout",
     "output_type": "stream",
     "text": [
      "[1] \"François Louchet--LTPCM UMR CNRS 5614/INP de Grenoble, Université Joseph Fourier\"\n",
      "[1] \"Add: 0000-0003-2159-8809\"\n"
     ]
    },
    {
     "name": "stderr",
     "output_type": "stream",
     "text": [
      "Warning message:\n",
      "“Unknown or uninitialised column: `orcid-identifier.path`.”\n",
      "Warning message:\n",
      "“Unknown or uninitialised column: `orcid-identifier.path`.”\n",
      "Warning message:\n",
      "“Unknown or uninitialised column: `orcid-identifier.path`.”\n",
      "Warning message:\n",
      "“Unknown or uninitialised column: `orcid-identifier.path`.”\n",
      "Warning message:\n",
      "“Unknown or uninitialised column: `orcid-identifier.path`.”\n"
     ]
    },
    {
     "name": "stdout",
     "output_type": "stream",
     "text": [
      "[1] \"H. Tuffen--Department of Earth Sciences, Open University\"\n",
      "[1] \"D.W. McGarvie--Department of Earth Sciences, Open University\"\n",
      "[1] \"J.S. Gilbert--Department of Environmental Science, Lancaster University\"\n",
      "[1] \"Add: 0000-0001-8829-1751\"\n",
      "[1] \"A. Rivera--Centro de Estudios Cientificos\"\n",
      "[1] \"G. Casassa--Centro de Estudios Cientificos\"\n",
      "[1] \"R. Thomas--Centro de Estudios Cientificos\"\n",
      "[1] \"E. Rignot--Centro de Estudios Cientificos\"\n",
      "[1] \"R. Zamora--Centro de Estudios Cientificos\"\n",
      "[1] \"D. Antúnez--Centro de Estudios Cientificos\"\n",
      "[1] \"C. Acuña--Centro de Estudios Cientificos\"\n",
      "[1] \"F. Ordenes--Centro de Estudios Cientificos\"\n",
      "[1] \"Add: 0000-0002-2779-4192\"\n"
     ]
    },
    {
     "name": "stderr",
     "output_type": "stream",
     "text": [
      "Warning message:\n",
      "“Unknown or uninitialised column: `orcid-identifier.path`.”\n",
      "Warning message:\n",
      "“Unknown or uninitialised column: `orcid-identifier.path`.”\n",
      "Warning message:\n",
      "“Unknown or uninitialised column: `orcid-identifier.path`.”\n",
      "Warning message:\n",
      "“Unknown or uninitialised column: `orcid-identifier.path`.”\n"
     ]
    },
    {
     "name": "stdout",
     "output_type": "stream",
     "text": [
      "[1] \"Andrew G. Fountain--Departments of Geology and Geography, Portland State University\"\n",
      "[1] \"Robert B. Schlichting--Cleveland High School\"\n",
      "[1] \"Peter Jansson--Department of Physical Geography, Stockholm University\"\n",
      "[1] \"Robert W. Jacobel--Saint Olaf College\"\n",
      "[1] \"Add: 0000-0002-8832-8806\"\n"
     ]
    },
    {
     "name": "stderr",
     "output_type": "stream",
     "text": [
      "Warning message:\n",
      "“Unknown or uninitialised column: `orcid-identifier.path`.”\n"
     ]
    },
    {
     "name": "stdout",
     "output_type": "stream",
     "text": [
      "[1] \"S.R.M. Ligtenberg--Institute for Marine and Atmospheric Research Utrecht (IMAU), Utrecht University, Utrecht\"\n",
      "[1] \"B. Medley--NASA Goddard Space Flight Center, Greenbelt, MD, USA\"\n",
      "[1] \"M.R. Van Den Broeke--Institute for Marine and Atmospheric Research Utrecht (IMAU), Utrecht University, Utrecht\"\n",
      "[1] \"P. Kuipers Munneke--Institute for Marine and Atmospheric Research Utrecht (IMAU), Utrecht University, Utrecht\"\n",
      "[1] \"Add: 0000-0001-5555-3831\"\n",
      "[1] \"David Bekaert--Earth Observation Projects Department\"\n",
      "[1] \"Nicolas Gebert--Earth Observation Projects Department\"\n",
      "[1] \"Chung-Chi Lin--Earth Observation Projects Department\"\n",
      "[1] \"Florence Hélière--Earth Observation Projects Department\"\n",
      "[1] \"Jørgen Dall--National Space Institute\"\n",
      "[1] \"Anders Kusk--National Space Institute\"\n",
      "[1] \"Steen Savstrup Kristensen--National Space Institute\"\n",
      "[1] \"Add: 0000-0001-7822-4758\"\n",
      "[1] \"Add: 0000-0002-3873-1074\"\n"
     ]
    },
    {
     "name": "stderr",
     "output_type": "stream",
     "text": [
      "Warning message:\n",
      "“Unknown or uninitialised column: `orcid-identifier.path`.”\n"
     ]
    },
    {
     "name": "stdout",
     "output_type": "stream",
     "text": [
      "[1] \"Bernhard Stauffer--Physics Institute, University of Bern\"\n",
      "[1] \"Jacqueline Flückiger--Physics Institute, University of Bern\"\n",
      "[1] \"Eric Wolff\"\n",
      "[1] \"Piers Barnes\"\n",
      "[1] \"Add: 0000-0002-5914-8531\"\n"
     ]
    },
    {
     "name": "stderr",
     "output_type": "stream",
     "text": [
      "Warning message:\n",
      "“Unknown or uninitialised column: `orcid-identifier.path`.”\n",
      "Warning message:\n",
      "“Unknown or uninitialised column: `orcid-identifier.path`.”\n",
      "Warning message:\n",
      "“Unknown or uninitialised column: `orcid-identifier.path`.”\n",
      "Warning message:\n",
      "“Unknown or uninitialised column: `orcid-identifier.path`.”\n"
     ]
    },
    {
     "name": "stdout",
     "output_type": "stream",
     "text": [
      "[1] \"V.D. Mishra--Snow and Avalanche Study Establishment (SASE)\"\n",
      "[1] \"J.K. Sharma--Rayat Institute of Engineering and Information Technology\"\n",
      "[1] \"R. Khanna--Electronics and Communication Engineering, Thapar University\"\n",
      "[1] \"Add: 0000-0002-2331-1667\"\n"
     ]
    },
    {
     "name": "stderr",
     "output_type": "stream",
     "text": [
      "Warning message:\n",
      "“Unknown or uninitialised column: `orcid-identifier.path`.”\n"
     ]
    },
    {
     "name": "stdout",
     "output_type": "stream",
     "text": [
      "[1] \"Guglielmina Diolaiuti--Department of Earth Sciences ‘Ardito Desio’, University of Milan\"\n",
      "[1] \"Claudio Smiraglia--Department of Earth Sciences ‘Ardito Desio’, University of Milan\"\n",
      "[1] \"Giorgio Vassena--Department of Civil Engineering, University of Brescia\"\n",
      "[1] \"Michele Motta--Department of Earth Sciences, University of Turin\"\n",
      "[1] \"Add: 0000-0001-7363-4256\"\n",
      "[1] \"Add: 0000-0002-2249-8853\"\n"
     ]
    },
    {
     "name": "stderr",
     "output_type": "stream",
     "text": [
      "Warning message:\n",
      "“Unknown or uninitialised column: `orcid-identifier.path`.”\n",
      "Warning message:\n",
      "“Unknown or uninitialised column: `orcid-identifier.path`.”\n",
      "Warning message:\n",
      "“Unknown or uninitialised column: `orcid-identifier.path`.”\n"
     ]
    },
    {
     "name": "stdout",
     "output_type": "stream",
     "text": [
      "[1] \"Paul Vallelonga--Department of Applied Physics, Curtin University of Technology\"\n",
      "[1] \"Carlo Barbante--Department of Environmental Sciences, University of Venice\"\n",
      "[1] \"Giulio Cozzi--Department of Environmental Sciences, University of Venice\"\n",
      "[1] \"Vania Gaspari--Department of Environmental Sciences, University of Venice\"\n",
      "[1] \"Jean-Pierre Candelone--Department of Applied Physics, Curtin University of Technology\"\n",
      "[1] \"Katja Van De Velde--Department of Applied Physics, Curtin University of Technology\"\n",
      "[1] \"Vin I. Morgan--Department of Applied Physics, Curtin University of Technology\"\n",
      "[1] \"Kevin J. R. Rosman\"\n",
      "[1] \"Claude F. Boutron--Laboratoire de Glaciologie et Géophysique de l’Environnement du CNRS, 54 rue Molière, Domaine Universitaire\"\n",
      "[1] \"Paolo Cescon--Department of Environmental Sciences, University of Venice\"\n",
      "[1] \"Add: 0000-0003-1055-7235\"\n"
     ]
    },
    {
     "name": "stderr",
     "output_type": "stream",
     "text": [
      "Warning message:\n",
      "“Unknown or uninitialised column: `orcid-identifier.path`.”\n",
      "Warning message:\n",
      "“Unknown or uninitialised column: `orcid-identifier.path`.”\n",
      "Warning message:\n",
      "“Unknown or uninitialised column: `orcid-identifier.path`.”\n",
      "Warning message:\n",
      "“Unknown or uninitialised column: `orcid-identifier.path`.”\n",
      "Warning message:\n",
      "“Unknown or uninitialised column: `orcid-identifier.path`.”\n",
      "Warning message:\n",
      "“Unknown or uninitialised column: `orcid-identifier.path`.”\n"
     ]
    },
    {
     "name": "stdout",
     "output_type": "stream",
     "text": [
      "[1] \"M. Tedesco--The City College of New York, The City University of New York\"\n",
      "[1] \"C.M. Foreman--Center for Biofilm Engineering and the Department of Land Resources and Environmental Sciences, Montana State University\"\n",
      "[1] \"J. Anton--The Graduate Center of The City University of New York\"\n",
      "[1] \"N. Steiner--The Graduate Center of The City University of New York\"\n",
      "[1] \"T. Schwartzman--The City College of New York, The City University of New York\"\n",
      "[1] \"Add: 0000-0003-0230-4692\"\n"
     ]
    },
    {
     "name": "stderr",
     "output_type": "stream",
     "text": [
      "Warning message:\n",
      "“Unknown or uninitialised column: `orcid-identifier.path`.”\n"
     ]
    },
    {
     "name": "stdout",
     "output_type": "stream",
     "text": [
      "[1] \"Victoria Parry--School of GeoSciences\"\n",
      "[1] \"Peter Nienow--School of GeoSciences\"\n",
      "[1] \"Douglas Mair--School of Geosciences\"\n",
      "[1] \"Julian Scott--School of GeoSciences\"\n",
      "[1] \"Bryn Hubbard--Institute of Geography and Earth Sciences\"\n",
      "[1] \"Konrad Steffen--Cooperative Institute for Research in Environmental Sciences (CIRES)\"\n",
      "[1] \"Duncan Wingham--University College London\"\n",
      "[1] \"Add: 0000-0002-3565-3875\"\n"
     ]
    },
    {
     "name": "stderr",
     "output_type": "stream",
     "text": [
      "Warning message:\n",
      "“Unknown or uninitialised column: `orcid-identifier.path`.”\n",
      "Warning message:\n",
      "“Unknown or uninitialised column: `orcid-identifier.path`.”\n"
     ]
    },
    {
     "name": "stdout",
     "output_type": "stream",
     "text": [
      "[1] \"Inga J. Smith--Department of Physics, University of Otago\"\n",
      "[1] \"Patricia J. Langhorne--Department of Physics, University of Otago\"\n",
      "[1] \"Timothy G. Haskell--Industrial Research Limited\"\n",
      "[1] \"H. Joe Trodahl--School of Physics and Chemistry, Victoria University\"\n",
      "[1] \"Russell Frew--Department of Chemistry, University of Otago\"\n",
      "[1] \"M. Ross Vennell--Department of Marine Science, University of Otago\"\n",
      "[1] \"Add: 0000-0001-6961-9977\"\n",
      "[1] \"Add: 0000-0003-0239-7657\"\n",
      "[1] \"Add: 0000-0002-6138-2116\"\n"
     ]
    },
    {
     "name": "stderr",
     "output_type": "stream",
     "text": [
      "Warning message:\n",
      "“Unknown or uninitialised column: `orcid-identifier.path`.”\n",
      "Warning message:\n",
      "“Unknown or uninitialised column: `orcid-identifier.path`.”\n"
     ]
    },
    {
     "name": "stdout",
     "output_type": "stream",
     "text": [
      "[1] \"A. Martín-Español--Department of Applied Mathematics, Technical University of Madrid\"\n",
      "[1] \"E.V. Vasilenko--Institute of Industrial Research Akadempribor, Academy of Sciences of Uzbekistan\"\n",
      "[1] \"F.J. Navarro--Department of Applied Mathematics, Technical University of Madrid\"\n",
      "[1] \"J. Otero--Department of Applied Mathematics, Technical University of Madrid\"\n",
      "[1] \"J.J. Lapazaran--Department of Applied Mathematics, Technical University of Madrid\"\n",
      "[1] \"I. Lavrentiev--Institute of Geography, Russian Academy of Sciences\"\n",
      "[1] \"Y.Y. Macheret--Institute of Geography, Russian Academy of Sciences\"\n",
      "[1] \"F. Machío--Escuela Superior de Ingeniería y Arquitectura, Universidad Pontificia de Salamanca en Madrid/Fundación Pablo VI\"\n",
      "[1] \"Add: 0000-0001-6429-9708\"\n",
      "[1] \"Add: 0000-0001-5687-5381\"\n",
      "[1] \"Add: 0000-0002-3518-7763\"\n",
      "[1] \"Robert Mulvaney\"\n",
      "[1] \"Olivier Alemany\"\n",
      "[1] \"Philippe Possenti\"\n",
      "[1] \"Add: 0000-0002-5372-8148\"\n"
     ]
    },
    {
     "name": "stderr",
     "output_type": "stream",
     "text": [
      "Warning message:\n",
      "“Unknown or uninitialised column: `orcid-identifier.path`.”\n"
     ]
    },
    {
     "name": "stdout",
     "output_type": "stream",
     "text": [
      "[1] \"Michael Lehning--WSL Swiss Federal Institute for Snow and Avalanche Research SLF\"\n",
      "[1] \"Charles Fierz--WSL Swiss Federal Institute for Snow and Avalanche Research SLF\"\n",
      "[1] \"Bob Brown\"\n",
      "[1] \"Bruce Jamieson\"\n",
      "[1] \"Add: 0000-0001-9490-6732\"\n"
     ]
    },
    {
     "name": "stderr",
     "output_type": "stream",
     "text": [
      "Warning message:\n",
      "“Unknown or uninitialised column: `orcid-identifier.path`.”\n",
      "Warning message:\n",
      "“Unknown or uninitialised column: `orcid-identifier.path`.”\n",
      "Warning message:\n",
      "“Unknown or uninitialised column: `orcid-identifier.path`.”\n",
      "Warning message:\n",
      "“Unknown or uninitialised column: `orcid-identifier.path`.”\n",
      "Warning message:\n",
      "“Unknown or uninitialised column: `orcid-identifier.path`.”\n"
     ]
    },
    {
     "name": "stdout",
     "output_type": "stream",
     "text": [
      "[1] \"Ute C. Herzfeld--Department of Electrical, Computer and Energy Engineering, University of Colorado\"\n",
      "[1] \"Brian McDonald--Department of Electrical, Computer and Energy Engineering, University of Colorado\"\n",
      "[1] \"Maciej Stachura--Department of Aerospace Sciences, University of Colorado\"\n",
      "[1] \"Robert Griffin Hale--Cooperative Institute for Research in Environmental Sciences, University of Colorado\"\n",
      "[1] \"Phillip Chen--Department of Electrical, Computer and Energy Engineering, University of Colorado\"\n",
      "[1] \"Thomas Trantow--Cooperative Institute for Research in Environmental Sciences, University of Colorado\"\n",
      "[1] \"Add: 0000-0003-2271-6854\"\n",
      "[1] \"Add: 0000-0002-5694-4698\"\n"
     ]
    },
    {
     "name": "stderr",
     "output_type": "stream",
     "text": [
      "Warning message:\n",
      "“Unknown or uninitialised column: `orcid-identifier.path`.”\n",
      "Warning message:\n",
      "“Unknown or uninitialised column: `orcid-identifier.path`.”\n",
      "Warning message:\n",
      "“Unknown or uninitialised column: `orcid-identifier.path`.”\n",
      "Warning message:\n",
      "“Unknown or uninitialised column: `orcid-identifier.path`.”\n",
      "Warning message:\n",
      "“Unknown or uninitialised column: `orcid-identifier.path`.”\n"
     ]
    },
    {
     "name": "stdout",
     "output_type": "stream",
     "text": [
      "[1] \"Christophe Kinnard\"\n",
      "[1] \"Christian M. Zdanowicz\"\n",
      "[1] \"David A. Fisher\"\n",
      "[1] \"Bea Alt\"\n",
      "[1] \"Steve Mccourt\"\n",
      "[1] \"Add: 0000-0002-1045-5063\"\n"
     ]
    },
    {
     "name": "stderr",
     "output_type": "stream",
     "text": [
      "Warning message:\n",
      "“Unknown or uninitialised column: `orcid-identifier.path`.”\n",
      "Warning message:\n",
      "“Unknown or uninitialised column: `orcid-identifier.path`.”\n",
      "Warning message:\n",
      "“Unknown or uninitialised column: `orcid-identifier.path`.”\n"
     ]
    },
    {
     "name": "stdout",
     "output_type": "stream",
     "text": [
      "[1] \"T. D. van Ommen--Antarctic CRG and Australian Antarctic Division\"\n",
      "[1] \"V. I. Morgan--Antarctic CRG and Australian Antarctic Division\"\n",
      "[1] \"T. H. Jacka--Antarctic CRG and Australian Antarctic Division\"\n",
      "[1] \"S. Woon--Antarctic CRG and Australian Antarctic Division\"\n",
      "[1] \"A. Elcheikh--Antarctic CRG and Australian Antarctic Division\"\n",
      "[1] \"Add: 0000-0002-2463-1718\"\n"
     ]
    },
    {
     "name": "stderr",
     "output_type": "stream",
     "text": [
      "Warning message:\n",
      "“Unknown or uninitialised column: `orcid-identifier.path`.”\n",
      "Warning message:\n",
      "“Unknown or uninitialised column: `orcid-identifier.path`.”\n"
     ]
    },
    {
     "name": "stdout",
     "output_type": "stream",
     "text": [
      "[1] \"Xiaopeng Fan--Polar Research Center, Jilin University\"\n",
      "[1] \"Pavel Talalay--Polar Research Center, Jilin University---0000-0002-8230-4600\"\n",
      "[1] \"Youhong Sun--Polar Research Center, Jilin University\"\n",
      "[1] \"Xingchen Li--Polar Research Center, Jilin University\"\n",
      "[1] \"Nan Zhang--Polar Research Center, Jilin University\"\n",
      "[1] \"Alexey Markov--Polar Research Center, Jilin University\"\n",
      "[1] \"Yang Yang--Polar Research Center, Jilin University\"\n",
      "[1] \"Pinlu Cao--Polar Research Center, Jilin University\"\n",
      "[1] \"Rusheng Wang--Polar Research Center, Jilin University\"\n",
      "[1] \"Yongwen Liu--Polar Research Center, Jilin University\"\n",
      "[1] \"Yunchen Liu--Polar Research Center, Jilin University\"\n",
      "[1] \"Ting Wang--Polar Research Center, Jilin University\"\n",
      "[1] \"Wei Wu--Polar Research Center, Jilin University\"\n",
      "[1] \"Cheng Yang--Polar Research Center, Jilin University\"\n",
      "[1] \"Jialin Hong--Polar Research Center, Jilin University\"\n",
      "[1] \"Da Gong--Polar Research Center, Jilin University\"\n",
      "[1] \"Han Zhang--Polar Research Center, Jilin University\"\n",
      "[1] \"Mikhail Sysoev--Polar Research Center, Jilin University\"\n",
      "[1] \"Xiao Li--Polar Research Center, Jilin University\"\n",
      "[1] \"An Liu--Polar Research Center, Jilin University\"\n",
      "[1] \"Yazhou Li--Polar Research Center, Jilin University\"\n"
     ]
    },
    {
     "name": "stderr",
     "output_type": "stream",
     "text": [
      "Warning message:\n",
      "“Unknown or uninitialised column: `orcid-identifier.path`.”\n",
      "Warning message:\n",
      "“Unknown or uninitialised column: `orcid-identifier.path`.”\n",
      "Warning message:\n",
      "“Unknown or uninitialised column: `orcid-identifier.path`.”\n",
      "Warning message:\n",
      "“Unknown or uninitialised column: `orcid-identifier.path`.”\n"
     ]
    },
    {
     "name": "stdout",
     "output_type": "stream",
     "text": [
      "[1] \"E.N. Kazakova--Far East Geological Institute (FEGI)\"\n",
      "[1] \"V.A. Lobkina--Far East Geological Institute (FEGI)\"\n",
      "[1] \"N.V. Zarubina--Far East Geological Institute (FEGI)\"\n",
      "[1] \"E.V. Elovskiy--Far East Geological Institute (FEGI)\"\n",
      "[1] \"Add: 0000-0002-8916-0910\"\n",
      "[1] \"Add: 0000-0002-5774-4030\"\n"
     ]
    },
    {
     "name": "stderr",
     "output_type": "stream",
     "text": [
      "Warning message:\n",
      "“Unknown or uninitialised column: `orcid-identifier.path`.”\n",
      "Warning message:\n",
      "“Unknown or uninitialised column: `orcid-identifier.path`.”\n"
     ]
    },
    {
     "name": "stdout",
     "output_type": "stream",
     "text": [
      "[1] \"Jeffery A. Thompson--Minnesota Supercomputing Institute---0000-0001-8438-4424\"\n",
      "[1] \"Lora S. Koenig--National Snow and Ice Data Center (NSIDC), Cooperative Research Institute for Research in Environmental Sciences, University of Colorado Boulder\"\n"
     ]
    },
    {
     "name": "stderr",
     "output_type": "stream",
     "text": [
      "Warning message:\n",
      "“Unknown or uninitialised column: `orcid-identifier.path`.”\n",
      "Warning message:\n",
      "“Unknown or uninitialised column: `orcid-identifier.path`.”\n",
      "Warning message:\n",
      "“Unknown or uninitialised column: `orcid-identifier.path`.”\n",
      "Warning message:\n",
      "“Unknown or uninitialised column: `orcid-identifier.path`.”\n"
     ]
    },
    {
     "name": "stdout",
     "output_type": "stream",
     "text": [
      "[1] \"Mihaela Triglav-Čekada--Geodetic Institute of Slovenia\"\n",
      "[1] \"Matej Gabrovec--Anton Melik Geographical Institute, Scientific Research Centre of the Slovenian Academy of Sciences and Arts\"\n",
      "[1] \"Add: 0000-0002-4018-3070\"\n"
     ]
    },
    {
     "name": "stderr",
     "output_type": "stream",
     "text": [
      "Warning message:\n",
      "“Unknown or uninitialised column: `orcid-identifier.path`.”\n"
     ]
    },
    {
     "name": "stdout",
     "output_type": "stream",
     "text": [
      "[1] \"Roger J. Braithwaite--School of Environment and Development\"\n",
      "[1] \"Add: 0000-0002-0387-7591\"\n",
      "[1] \"Christian Jaedicke--Norwegian Geotechnical Institute\"\n",
      "[1] \"Peter Gauer--Norwegian Geotechnical Institute\"\n",
      "[1] \"Add: 0000-0003-4982-8557\"\n"
     ]
    },
    {
     "name": "stderr",
     "output_type": "stream",
     "text": [
      "Warning message:\n",
      "“Unknown or uninitialised column: `orcid-identifier.path`.”\n",
      "Warning message:\n",
      "“Unknown or uninitialised column: `orcid-identifier.path`.”\n",
      "Warning message:\n",
      "“Unknown or uninitialised column: `orcid-identifier.path`.”\n",
      "Warning message:\n",
      "“Unknown or uninitialised column: `orcid-identifier.path`.”\n"
     ]
    },
    {
     "name": "stdout",
     "output_type": "stream",
     "text": [
      "[1] \"P. Skvarca--Instituto Antártico Argentino\"\n",
      "[1] \"H. De Angelis--Instituto Antártico Argentino\"\n",
      "[1] \"R. Naruse--Institute of Low Temperature Science, Hokkaido University\"\n",
      "[1] \"C.R. Warren--School of Geography and Geosciences, University of St Andrews\"\n",
      "[1] \"M. Aniya--Institute of Geoscience, University of Tsukuba, Tsukuba\"\n",
      "[1] \"Add: 0000-0002-8584-272X\"\n"
     ]
    },
    {
     "name": "stderr",
     "output_type": "stream",
     "text": [
      "Warning message:\n",
      "“Unknown or uninitialised column: `orcid-identifier.path`.”\n",
      "Warning message:\n",
      "“Unknown or uninitialised column: `orcid-identifier.path`.”\n",
      "Warning message:\n",
      "“Unknown or uninitialised column: `orcid-identifier.path`.”\n",
      "Warning message:\n",
      "“Unknown or uninitialised column: `orcid-identifier.path`.”\n",
      "Warning message:\n",
      "“Unknown or uninitialised column: `orcid-identifier.path`.”\n",
      "Warning message:\n",
      "“Unknown or uninitialised column: `orcid-identifier.path`.”\n"
     ]
    },
    {
     "name": "stdout",
     "output_type": "stream",
     "text": [
      "[1] \"Shigeki Murakami--Kyushu Research Center, Forestry and Forest Products Research Institute\"\n",
      "[1] \"Yukari Takeuchi--Tohkamachi Experimental Station, Forestry and Forest Products Research Institute\"\n",
      "[1] \"Add: 0000-0002-4193-055X\"\n"
     ]
    },
    {
     "name": "stderr",
     "output_type": "stream",
     "text": [
      "Warning message:\n",
      "“Unknown or uninitialised column: `orcid-identifier.path`.”\n",
      "Warning message:\n",
      "“Unknown or uninitialised column: `orcid-identifier.path`.”\n",
      "Warning message:\n",
      "“Unknown or uninitialised column: `orcid-identifier.path`.”\n"
     ]
    },
    {
     "name": "stdout",
     "output_type": "stream",
     "text": [
      "[1] \"Adrienne White--University of Ottawa\"\n",
      "[1] \"Luke Copland--University of Ottawa\"\n",
      "[1] \"Derek Mueller--Carleton University\"\n",
      "[1] \"Wesley Van Wychen--University of Ottawa\"\n",
      "[1] \"Add: 0000-0002-4275-6768\"\n",
      "[1] \"C. Nuth--Norwegian Polar Institute\"\n",
      "[1] \"J. Kohler--Norwegian Polar Institute\"\n",
      "[1] \"H.F. Aas--Norwegian Polar Institute\"\n",
      "[1] \"O. Brandt--Norwegian Polar Institute\"\n",
      "[1] \"J.O. Hagen--University of Oslo\"\n",
      "[1] \"Add: 0000-0002-1063-2832\"\n",
      "[1] \"Douglas J. Brinkerhoff--University of Montana\"\n",
      "[1] \"Toby W. Meierbachtol--University of Montana\"\n",
      "[1] \"Jesse V. Johnson--University of Montana\"\n",
      "[1] \"Joel T. Harper--University of Montana\"\n",
      "[1] \"Add: 0000-0002-7387-6500\"\n"
     ]
    },
    {
     "name": "stderr",
     "output_type": "stream",
     "text": [
      "Warning message:\n",
      "“Unknown or uninitialised column: `orcid-identifier.path`.”\n",
      "Warning message:\n",
      "“Unknown or uninitialised column: `orcid-identifier.path`.”\n",
      "Warning message:\n",
      "“Unknown or uninitialised column: `orcid-identifier.path`.”\n",
      "Warning message:\n",
      "“Unknown or uninitialised column: `orcid-identifier.path`.”\n",
      "Warning message:\n",
      "“Unknown or uninitialised column: `orcid-identifier.path`.”\n",
      "Warning message:\n",
      "“Unknown or uninitialised column: `orcid-identifier.path`.”\n",
      "Warning message:\n",
      "“Unknown or uninitialised column: `orcid-identifier.path`.”\n",
      "Warning message:\n",
      "“Unknown or uninitialised column: `orcid-identifier.path`.”\n"
     ]
    },
    {
     "name": "stdout",
     "output_type": "stream",
     "text": [
      "[1] \"Manfred Stähli--ETH Zürich, Institute of Terrestrial Ecology\"\n",
      "[1] \"Andreas Papritz--ETH Zürich, Institute of Terrestrial Ecology\"\n",
      "[1] \"Peter Waldner--Swiss Federal Institute WSL\"\n",
      "[1] \"Felix Forster--Swiss Federal Institute WSL\"\n",
      "[1] \"Add: 0000-0002-6870-4747\"\n",
      "[1] \"Add: 0000-0001-8982-6156\"\n"
     ]
    },
    {
     "name": "stderr",
     "output_type": "stream",
     "text": [
      "Warning message:\n",
      "“Unknown or uninitialised column: `orcid-identifier.path`.”\n",
      "Warning message:\n",
      "“Unknown or uninitialised column: `orcid-identifier.path`.”\n",
      "Warning message:\n",
      "“Unknown or uninitialised column: `orcid-identifier.path`.”\n",
      "Warning message:\n",
      "“Unknown or uninitialised column: `orcid-identifier.path`.”\n",
      "Warning message:\n",
      "“Unknown or uninitialised column: `orcid-identifier.path`.”\n"
     ]
    },
    {
     "name": "stdout",
     "output_type": "stream",
     "text": [
      "[1] \"Carleen Reijmer--Institute for Marine and Atmospheric Research Utrecht, Utrecht University\"\n",
      "[1] \"Wouter Greuell--Institute for Marine and Atmospheric Research Utrecht, Utrecht University\"\n",
      "[1] \"Johannes Oerlemans--Institute for Marine and Atmospheric Research Utrecht, Utrecht University\"\n",
      "[1] \"Add: 0000-0001-8299-3883\"\n"
     ]
    },
    {
     "name": "stderr",
     "output_type": "stream",
     "text": [
      "Warning message:\n",
      "“Unknown or uninitialised column: `orcid-identifier.path`.”\n",
      "Warning message:\n",
      "“Unknown or uninitialised column: `orcid-identifier.path`.”\n",
      "Warning message:\n",
      "“Unknown or uninitialised column: `orcid-identifier.path`.”\n",
      "Warning message:\n",
      "“Unknown or uninitialised column: `orcid-identifier.path`.”\n",
      "Warning message:\n",
      "“Unknown or uninitialised column: `orcid-identifier.path`.”\n",
      "Warning message:\n",
      "“Unknown or uninitialised column: `orcid-identifier.path`.”\n",
      "Warning message:\n",
      "“Unknown or uninitialised column: `orcid-identifier.path`.”\n"
     ]
    },
    {
     "name": "stdout",
     "output_type": "stream",
     "text": [
      "[1] \"Ian Simmonds\"\n",
      "[1] \"David A. Jones\"\n",
      "[1] \"David J. Walland\"\n",
      "[1] \"Add: 0000-0002-4479-3255\"\n"
     ]
    },
    {
     "name": "stderr",
     "output_type": "stream",
     "text": [
      "Warning message:\n",
      "“Unknown or uninitialised column: `orcid-identifier.path`.”\n",
      "Warning message:\n",
      "“Unknown or uninitialised column: `orcid-identifier.path`.”\n",
      "Warning message:\n",
      "“Unknown or uninitialised column: `orcid-identifier.path`.”\n"
     ]
    },
    {
     "name": "stdout",
     "output_type": "stream",
     "text": [
      "[1] \"Olaf Eisen\"\n",
      "[1] \"Wolfgang Rack\"\n",
      "[1] \"Uwe Nixdorf\"\n",
      "[1] \"Frank Wilhelms\"\n",
      "[1] \"Add: 0000-0002-6288-4361\"\n",
      "[1] \"Add: 0000-0001-7688-3135\"\n",
      "[1] \"Add: 0000-0003-2447-377X\"\n",
      "[1] \"Add: 0000-0002-6380-962X\"\n"
     ]
    },
    {
     "name": "stderr",
     "output_type": "stream",
     "text": [
      "Warning message:\n",
      "“Unknown or uninitialised column: `orcid-identifier.path`.”\n",
      "Warning message:\n",
      "“Unknown or uninitialised column: `orcid-identifier.path`.”\n",
      "Warning message:\n",
      "“Unknown or uninitialised column: `orcid-identifier.path`.”\n"
     ]
    },
    {
     "name": "stdout",
     "output_type": "stream",
     "text": [
      "[1] \"Dan Singh\"\n",
      "[1] \"Amreek Singh\"\n",
      "[1] \"Ashwagosha Ganju\"\n",
      "[1] \"Add: 0000-0001-9795-5302\"\n",
      "[1] \"Atsuhiro Muto--Department of Geosciences and Earth and Environmental Systems Institute, The Pennsylvania State University\"\n",
      "[1] \"Sridhar Anandakrishnan--Department of Geosciences and Earth and Environmental Systems Institute, The Pennsylvania State University\"\n",
      "[1] \"Richard B. Alley--Department of Geosciences and Earth and Environmental Systems Institute, The Pennsylvania State University\"\n",
      "[1] \"Add: 0000-0002-1722-2457\"\n",
      "[1] \"Peter Jansson--Stockholm University\"\n",
      "[1] \"Hans W. Linderholm--Göteborg University\"\n",
      "[1] \"Rickard Pettersson\"\n",
      "[1] \"Torbjörn Karlin--Stockholm University\"\n",
      "[1] \"Carl-Magnus Mörth--Stockholm University\"\n",
      "[1] \"Add: 0000-0002-8832-8806\"\n",
      "[1] \"Add: 0000-0002-1522-8919\"\n"
     ]
    },
    {
     "name": "stderr",
     "output_type": "stream",
     "text": [
      "Warning message:\n",
      "“Unknown or uninitialised column: `orcid-identifier.path`.”\n",
      "Warning message:\n",
      "“Unknown or uninitialised column: `orcid-identifier.path`.”\n",
      "Warning message:\n",
      "“Unknown or uninitialised column: `orcid-identifier.path`.”\n"
     ]
    },
    {
     "name": "stdout",
     "output_type": "stream",
     "text": [
      "[1] \"Luke G. Bennetts--University of Adelaide\"\n",
      "[1] \"Siobhan O’Farrell\"\n",
      "[1] \"Petteri Uotila\"\n",
      "[1] \"Vernon A. Squire--University of Otago\"\n",
      "[1] \"Add: 0000-0001-9386-7882\"\n",
      "[1] \"Add: 0000-0002-5570-3446\"\n",
      "[1] \"Add: 0000-0002-2939-7561\"\n",
      "[1] \"S. Georgiou--School of Geosciences\"\n",
      "[1] \"A. Shepherd--School of Geosciences\"\n",
      "[1] \"M. McMillan--School of Geosciences\"\n",
      "[1] \"P. Nienow--School of Geosciences\"\n",
      "[1] \"Add: 0000-0002-5113-0177\"\n",
      "[1] \"Add: 0000-0002-4914-1299\"\n"
     ]
    },
    {
     "name": "stderr",
     "output_type": "stream",
     "text": [
      "Warning message:\n",
      "“Unknown or uninitialised column: `orcid-identifier.path`.”\n",
      "Warning message:\n",
      "“Unknown or uninitialised column: `orcid-identifier.path`.”\n",
      "Warning message:\n",
      "“Unknown or uninitialised column: `orcid-identifier.path`.”\n",
      "Warning message:\n",
      "“Unknown or uninitialised column: `orcid-identifier.path`.”\n",
      "Warning message:\n",
      "“Unknown or uninitialised column: `orcid-identifier.path`.”\n",
      "Warning message:\n",
      "“Unknown or uninitialised column: `orcid-identifier.path`.”\n",
      "Warning message:\n",
      "“Unknown or uninitialised column: `orcid-identifier.path`.”\n"
     ]
    },
    {
     "name": "stdout",
     "output_type": "stream",
     "text": [
      "[1] \"Pedro Skvarca--Instituto Antártico Argentino, Cerrito 1248, C1010AAZ Buenos Aires\"\n",
      "[1] \"Hernán De Angelis--Instituto Antártico Argentino, Cerrito 1248, C1010AAZ Buenos Aires\"\n",
      "[1] \"Andrés F. Zakrajsek--Instituto Antártico Argentino, Cerrito 1248, C1010AAZ Buenos Aires\"\n",
      "[1] \"Add: 0000-0002-8584-272X\"\n"
     ]
    },
    {
     "name": "stderr",
     "output_type": "stream",
     "text": [
      "Warning message:\n",
      "“Unknown or uninitialised column: `orcid-identifier.path`.”\n",
      "Warning message:\n",
      "“Unknown or uninitialised column: `orcid-identifier.path`.”\n"
     ]
    },
    {
     "name": "stdout",
     "output_type": "stream",
     "text": [
      "[1] \"Lindsey Nicholson\"\n",
      "[1] \"Jorge Marín\"\n",
      "[1] \"David Lopez\"\n",
      "[1] \"Antoine Rabatel\"\n",
      "[1] \"Francisca Bown\"\n",
      "[1] \"Andrés Rivera\"\n",
      "[1] \"Add: 0000-0003-0430-7950\"\n",
      "[1] \"Add: 0000-0002-2779-4192\"\n"
     ]
    },
    {
     "name": "stderr",
     "output_type": "stream",
     "text": [
      "Warning message:\n",
      "“Unknown or uninitialised column: `orcid-identifier.path`.”\n",
      "Warning message:\n",
      "“Unknown or uninitialised column: `orcid-identifier.path`.”\n",
      "Warning message:\n",
      "“Unknown or uninitialised column: `orcid-identifier.path`.”\n",
      "Warning message:\n",
      "“Unknown or uninitialised column: `orcid-identifier.path`.”\n",
      "Warning message:\n",
      "“Unknown or uninitialised column: `orcid-identifier.path`.”\n"
     ]
    },
    {
     "name": "stdout",
     "output_type": "stream",
     "text": [
      "[1] \"Ute C. Herzfeld--University of Colorado\"\n",
      "[1] \"Brian W. McDonald--University of Colorado\"\n",
      "[1] \"Bruce F. Wallin--University of Colorado\"\n",
      "[1] \"Phillip A. Chen--University of Colorado\"\n",
      "[1] \"Helmut Mayer\"\n",
      "[1] \"John Paden--University of Kansas\"\n",
      "[1] \"Carlton J. Leuschen--University of Kansas\"\n",
      "[1] \"Add: 0000-0002-5694-4698\"\n"
     ]
    },
    {
     "name": "stderr",
     "output_type": "stream",
     "text": [
      "Warning message:\n",
      "“Unknown or uninitialised column: `orcid-identifier.path`.”\n",
      "Warning message:\n",
      "“Unknown or uninitialised column: `orcid-identifier.path`.”\n",
      "Warning message:\n",
      "“Unknown or uninitialised column: `orcid-identifier.path`.”\n",
      "Warning message:\n",
      "“Unknown or uninitialised column: `orcid-identifier.path`.”\n",
      "Warning message:\n",
      "“Unknown or uninitialised column: `orcid-identifier.path`.”\n",
      "Warning message:\n",
      "“Unknown or uninitialised column: `orcid-identifier.path`.”\n",
      "Warning message:\n",
      "“Unknown or uninitialised column: `orcid-identifier.path`.”\n",
      "Warning message:\n",
      "“Unknown or uninitialised column: `orcid-identifier.path`.”\n",
      "Warning message:\n",
      "“Unknown or uninitialised column: `orcid-identifier.path`.”\n",
      "Warning message:\n",
      "“Unknown or uninitialised column: `orcid-identifier.path`.”\n",
      "Warning message:\n",
      "“Unknown or uninitialised column: `orcid-identifier.path`.”\n",
      "Warning message:\n",
      "“Unknown or uninitialised column: `orcid-identifier.path`.”\n"
     ]
    },
    {
     "name": "stdout",
     "output_type": "stream",
     "text": [
      "[1] \"Pavel Talalay\"\n",
      "[1] \"Zhengyi Hu\"\n",
      "[1] \"Huiwen Xu\"\n",
      "[1] \"Dahui Yu\"\n",
      "[1] \"Lili Han\"\n",
      "[1] \"Junjie Han\"\n",
      "[1] \"Lili Wang\"\n",
      "[1] \"Add: 0000-0002-8230-4600\"\n"
     ]
    },
    {
     "name": "stderr",
     "output_type": "stream",
     "text": [
      "Warning message:\n",
      "“Unknown or uninitialised column: `orcid-identifier.path`.”\n"
     ]
    },
    {
     "name": "stdout",
     "output_type": "stream",
     "text": [
      "[1] \"Walter N. Meier--Cooperative Institute for Research in Environmental Sciences\"\n",
      "[1] \"Julienne Stroeve--Cooperative Institute for Research in Environmental Sciences\"\n",
      "[1] \"Add: 0000-0003-2857-0550\"\n",
      "[1] \"Anne-Marie Nuttall--School of Biological and Earth Sciences, Liverpool John Moores University\"\n",
      "[1] \"Richard Hodgkins--Department of Geography, Royal Holloway, University of London\"\n",
      "[1] \"Add: 0000-0002-6716-3491\"\n",
      "[1] \"Luca Vittuari--DISTART, Università di Bologna\"\n",
      "[1] \"Christian Vincent\"\n",
      "[1] \"Massimo Frezzotti\"\n",
      "[1] \"Francesco Mancini--DISTART, Università di Bologna\"\n",
      "[1] \"Stefano Gandolfi--DISTART, Università di Bologna\"\n",
      "[1] \"Gabriele Bitelli--DISTART, Università di Bologna\"\n",
      "[1] \"Alessandro Capra\"\n",
      "[1] \"Add: 0000-0002-8553-345X\"\n",
      "[1] \"C. Bock--Alfred Wegener Institute for Polar and Marine Research\"\n",
      "[1] \"H. Eicken--Geophysical Institute, University of Alaska\"\n",
      "[1] \"Add: 0000-0003-0052-3090\"\n"
     ]
    },
    {
     "name": "stderr",
     "output_type": "stream",
     "text": [
      "Warning message:\n",
      "“Unknown or uninitialised column: `orcid-identifier.path`.”\n",
      "Warning message:\n",
      "“Unknown or uninitialised column: `orcid-identifier.path`.”\n",
      "Warning message:\n",
      "“Unknown or uninitialised column: `orcid-identifier.path`.”\n",
      "Warning message:\n",
      "“Unknown or uninitialised column: `orcid-identifier.path`.”\n",
      "Warning message:\n",
      "“Unknown or uninitialised column: `orcid-identifier.path`.”\n",
      "Warning message:\n",
      "“Unknown or uninitialised column: `orcid-identifier.path`.”\n"
     ]
    },
    {
     "name": "stdout",
     "output_type": "stream",
     "text": [
      "[1] \"H. Jay Zwally--Laboratory for Oceans, NASA/Goddard Space Flight Center\"\n",
      "[1] \"John E. Walsh--Department of Atmospheric Sciences, University of Illinois\"\n",
      "[1] \"Add: 0000-0001-9541-5927\"\n",
      "[1] \"Marlene Kronenberg--University of Fribourg\"\n",
      "[1] \"Martina Barandun--University of Fribourg\"\n",
      "[1] \"Martin Hoelzle--University of Fribourg\"\n",
      "[1] \"Matthias Huss--University of Fribourg\"\n",
      "[1] \"Daniel Farinotti--Swiss Federal Institute for Forest\"\n",
      "[1] \"Erlan Azisov--Central Asian Institute of Applied Geosciences (CAIAG)\"\n",
      "[1] \"Ryskul Usubaliev--Central Asian Institute of Applied Geosciences (CAIAG)\"\n",
      "[1] \"Abror Gafurov\"\n",
      "[1] \"Dmitry Petrakov--Lomonosov Moscow State University\"\n",
      "[1] \"Andreas Kääb--University of Oslo\"\n",
      "[1] \"Add: 0000-0002-0990-495X\"\n",
      "[1] \"Add: 0000-0003-0337-465X\"\n",
      "[1] \"Add: 0000-0003-3417-4570\"\n",
      "[1] \"Add: 0000-0002-2377-6923\"\n",
      "[1] \"Add: 0000-0002-3591-4377\"\n",
      "[1] \"Add: 0000-0002-6017-6564\"\n"
     ]
    },
    {
     "name": "stderr",
     "output_type": "stream",
     "text": [
      "Warning message:\n",
      "“Unknown or uninitialised column: `orcid-identifier.path`.”\n",
      "Warning message:\n",
      "“Unknown or uninitialised column: `orcid-identifier.path`.”\n",
      "Warning message:\n",
      "“Unknown or uninitialised column: `orcid-identifier.path`.”\n",
      "Warning message:\n",
      "“Unknown or uninitialised column: `orcid-identifier.path`.”\n"
     ]
    },
    {
     "name": "stdout",
     "output_type": "stream",
     "text": [
      "[1] \"Michael C. R. Davies--Department of Civil Engineering, University of Dundee\"\n",
      "[1] \"Omar Hamza--Department of Civil Engineering, University of Dundee\"\n",
      "[1] \"Bruce W. Lumsden--Department of Civil Engineering, University of Dundee\"\n",
      "[1] \"Charles Harris--School of Earth Sciences, University of Wales\"\n",
      "[1] \"Add: 0000-0002-5048-0423\"\n"
     ]
    },
    {
     "name": "stderr",
     "output_type": "stream",
     "text": [
      "Warning message:\n",
      "“Unknown or uninitialised column: `orcid-identifier.path`.”\n"
     ]
    },
    {
     "name": "stdout",
     "output_type": "stream",
     "text": [
      "[1] \"Paul D. Bates\"\n",
      "[1] \"Martin J. Siegert\"\n",
      "[1] \"Victoria Lee\"\n",
      "[1] \"Bryn P. Hubbard\"\n",
      "[1] \"Peter W. Nienow\"\n",
      "[1] \"Add: 0000-0002-3565-3875\"\n",
      "[1] \"Add: 0000-0001-9192-9963\"\n"
     ]
    },
    {
     "name": "stderr",
     "output_type": "stream",
     "text": [
      "Warning message:\n",
      "“Unknown or uninitialised column: `orcid-identifier.path`.”\n"
     ]
    },
    {
     "name": "stdout",
     "output_type": "stream",
     "text": [
      "[1] \"D.J. Alexander--Climate Research Group, School of Geography, Planning and Environmental Management, University of Queensland\"\n",
      "[1] \"T.R.H. Davies--Department of Geological Sciences, University of Canterbury\"\n",
      "[1] \"J. Shulmeister--Climate Research Group, School of Geography, Planning and Environmental Management, University of Queensland\"\n",
      "[1] \"Add: 0000-0001-5863-9462\"\n"
     ]
    },
    {
     "name": "stderr",
     "output_type": "stream",
     "text": [
      "Warning message:\n",
      "“Unknown or uninitialised column: `orcid-identifier.path`.”\n",
      "Warning message:\n",
      "“Unknown or uninitialised column: `orcid-identifier.path`.”\n"
     ]
    },
    {
     "name": "stdout",
     "output_type": "stream",
     "text": [
      "[1] \"Susanne Ingvander--Department of Physical Geography and Quaternary Geology, Stockholm University\"\n",
      "[1] \"Gunhild Rosqvist--Department of Physical Geography and Quaternary Geology, Stockholm University\"\n",
      "[1] \"Jonas Svensson--Climate Change Unit, Finnish Meteorological Institute\"\n",
      "[1] \"Helen E. Dahlke--Department of Physical Geography and Quaternary Geology, Stockholm University\"\n",
      "[1] \"Add: 0000-0001-8757-6982\"\n"
     ]
    },
    {
     "name": "stderr",
     "output_type": "stream",
     "text": [
      "Warning message:\n",
      "“Unknown or uninitialised column: `orcid-identifier.path`.”\n"
     ]
    },
    {
     "name": "stdout",
     "output_type": "stream",
     "text": [
      "[1] \"Alison L. Kohout--National Institute of Water and Atmospheric Research---0000-0001-7193-8977\"\n",
      "[1] \"Madison Smith--University of Washington\"\n",
      "[1] \"Lettie A. Roach--University of Washington\"\n",
      "[1] \"Guy Williams--University of Tasmania\"\n",
      "[1] \"Fabien Montiel--University of Otago\"\n",
      "[1] \"Michael J. M. Williams--National Institute of Water and Atmospheric Research\"\n"
     ]
    },
    {
     "name": "stderr",
     "output_type": "stream",
     "text": [
      "Warning message:\n",
      "“Unknown or uninitialised column: `orcid-identifier.path`.”\n"
     ]
    },
    {
     "name": "stdout",
     "output_type": "stream",
     "text": [
      "[1] \"P.R. Porter--University of Hertfordshire\"\n",
      "[1] \"A.J. Evans--School of Geography\"\n",
      "[1] \"A.J. Hodson--University of Sheffield\"\n",
      "[1] \"A.T. Lowe\"\n",
      "[1] \"M.D. Crabtree--School of Geography\"\n",
      "[1] \"Add: 0000-0002-1255-7987\"\n"
     ]
    },
    {
     "name": "stderr",
     "output_type": "stream",
     "text": [
      "Warning message:\n",
      "“Unknown or uninitialised column: `orcid-identifier.path`.”\n"
     ]
    },
    {
     "name": "stdout",
     "output_type": "stream",
     "text": [
      "[1] \"B. Medley--Cryospheric Sciences Laboratory, NASA Goddard Space Flight Center\"\n",
      "[1] \"S.R.M. Ligtenberg--Institute for Marine and Atmospheric Research Utrecht, Utrecht University\"\n",
      "[1] \"I. Joughin--Polar Science Center, Applied Physics Laboratory, University of Washington\"\n",
      "[1] \"M.R. Van den Broeke--Institute for Marine and Atmospheric Research Utrecht, Utrecht University\"\n",
      "[1] \"S. Gogineni--Center for Remote Sensing of Ice Sheets, University of Kansas, Lawrence, KS, USA\"\n",
      "[1] \"S. Nowicki--Cryospheric Sciences Laboratory, NASA Goddard Space Flight Center\"\n",
      "[1] \"Add: 0000-0001-6229-679X\"\n",
      "[1] \"Olaf Eisen\"\n",
      "[1] \"Frank Wilhelms\"\n",
      "[1] \"Uwe Nixdorf\"\n",
      "[1] \"Heinrich Miller\"\n",
      "[1] \"Add: 0000-0002-6380-962X\"\n",
      "[1] \"Kalle Kronholm--WSL Swiss Federal Institute for Snow and Avalanche Research SLF\"\n",
      "[1] \"Martin Schneebeli--WSL Swiss Federal Institute for Snow and Avalanche Research SLF\"\n",
      "[1] \"Jürg Schweizer--WSL Swiss Federal Institute for Snow and Avalanche Research SLF\"\n",
      "[1] \"Add: 0000-0001-5076-2968\"\n",
      "[1] \"Hallgeir Elvehøy\"\n",
      "[1] \"Miriam Jackson\"\n",
      "[1] \"Liss M. Andreassen\"\n",
      "[1] \"Add: 0000-0003-3719-6716\"\n",
      "[1] \"Siobhan F. Killingbeck--School of Earth and Environment, University of Leeds\"\n",
      "[1] \"Adam D. Booth--School of Earth and Environment, University of Leeds\"\n",
      "[1] \"Philip W. Livermore--School of Earth and Environment, University of Leeds\"\n",
      "[1] \"Landis J. West--School of Earth and Environment, University of Leeds\"\n",
      "[1] \"Benedict T. I. Reinardy--Stockholm University and Bolin Centre for Climate Research\"\n",
      "[1] \"Atle Nesje--University of Bergen\"\n",
      "[1] \"Add: 0000-0001-8405-7212\"\n"
     ]
    },
    {
     "name": "stderr",
     "output_type": "stream",
     "text": [
      "Warning message:\n",
      "“Unknown or uninitialised column: `orcid-identifier.path`.”\n",
      "Warning message:\n",
      "“Unknown or uninitialised column: `orcid-identifier.path`.”\n"
     ]
    },
    {
     "name": "stdout",
     "output_type": "stream",
     "text": [
      "[1] \"Joel A. Harrington--Geology and Geophysics, University of Wyoming, Laramie\"\n",
      "[1] \"Neil F. Humphrey--Geology and Geophysics, University of Wyoming, Laramie\"\n",
      "[1] \"Joel T. Harper--Geology and Geophysics, University of Wyoming, Laramie\"\n",
      "[1] \"Add: 0000-0002-5175-2080\"\n"
     ]
    },
    {
     "name": "stderr",
     "output_type": "stream",
     "text": [
      "Warning message:\n",
      "“Unknown or uninitialised column: `orcid-identifier.path`.”\n",
      "Warning message:\n",
      "“Unknown or uninitialised column: `orcid-identifier.path`.”\n",
      "Warning message:\n",
      "“Unknown or uninitialised column: `orcid-identifier.path`.”\n",
      "Warning message:\n",
      "“Unknown or uninitialised column: `orcid-identifier.path`.”\n",
      "Warning message:\n",
      "“Unknown or uninitialised column: `orcid-identifier.path`.”\n",
      "Warning message:\n",
      "“Unknown or uninitialised column: `orcid-identifier.path`.”\n",
      "Warning message:\n",
      "“Unknown or uninitialised column: `orcid-identifier.path`.”\n",
      "Warning message:\n",
      "“Unknown or uninitialised column: `orcid-identifier.path`.”\n",
      "Warning message:\n",
      "“Unknown or uninitialised column: `orcid-identifier.path`.”\n",
      "Warning message:\n",
      "“Unknown or uninitialised column: `orcid-identifier.path`.”\n"
     ]
    },
    {
     "name": "stdout",
     "output_type": "stream",
     "text": [
      "[1] \"Lars H. Smedsrud--Bjerknes Centre for Climate Research,  c/o Geophysical Institute\"\n",
      "[1] \"Add: 0000-0001-7391-0740\"\n",
      "[1] \"Dmitrii Murashkin--University of Bremen\"\n",
      "[1] \"Gunnar Spreen--University of Bremen\"\n",
      "[1] \"Marcus Huntemann--University of Bremen\"\n",
      "[1] \"Wolfgang Dierking--Alfred Wegener Institute for Polar and Marine Research\"\n",
      "[1] \"Add: 0000-0002-5818-0038\"\n",
      "[1] \"Add: 0000-0003-0165-8448\"\n",
      "[1] \"Barbara T. Smith\"\n",
      "[1] \"Tas D. Van Ommen\"\n",
      "[1] \"Mark A. J. Curran\"\n",
      "[1] \"Add: 0000-0002-2463-1718\"\n"
     ]
    },
    {
     "name": "stderr",
     "output_type": "stream",
     "text": [
      "Warning message:\n",
      "“Unknown or uninitialised column: `orcid-identifier.path`.”\n",
      "Warning message:\n",
      "“Unknown or uninitialised column: `orcid-identifier.path`.”\n",
      "Warning message:\n",
      "“Unknown or uninitialised column: `orcid-identifier.path`.”\n",
      "Warning message:\n",
      "“Unknown or uninitialised column: `orcid-identifier.path`.”\n"
     ]
    },
    {
     "name": "stdout",
     "output_type": "stream",
     "text": [
      "[1] \"John E. Walsh--Department of Atmospheric Sciences, University of Illinois\"\n",
      "[1] \"William L. Chapman--Department of Atmospheric Sciences, University of Illinois\"\n",
      "[1] \"Add: 0000-0001-9541-5927\"\n"
     ]
    },
    {
     "name": "stderr",
     "output_type": "stream",
     "text": [
      "Warning message:\n",
      "“Unknown or uninitialised column: `orcid-identifier.path`.”\n",
      "Warning message:\n",
      "“Unknown or uninitialised column: `orcid-identifier.path`.”\n",
      "Warning message:\n",
      "“Unknown or uninitialised column: `orcid-identifier.path`.”\n",
      "Warning message:\n",
      "“Unknown or uninitialised column: `orcid-identifier.path`.”\n"
     ]
    },
    {
     "name": "stdout",
     "output_type": "stream",
     "text": [
      "[1] \"Bryn Hubbard--Institute of Geography and Earth Sciences\"\n",
      "[1] \"Jean-Louis Tison--Université Libre de Bruxelles\"\n",
      "[1] \"Frank Pattyn--Université Libre de Bruxelles\"\n",
      "[1] \"Marie Dierckx--Université Libre de Bruxelles\"\n",
      "[1] \"Thierry Boereboom--Université Libre de Bruxelles\"\n",
      "[1] \"Denis Samyn--Université Libre de Bruxelles\"\n",
      "[1] \"Add: 0000-0002-9758-3454\"\n",
      "[1] \"Add: 0000-0002-3565-3875\"\n",
      "[1] \"Add: 0000-0003-4805-5636\"\n"
     ]
    },
    {
     "name": "stderr",
     "output_type": "stream",
     "text": [
      "Warning message:\n",
      "“Unknown or uninitialised column: `orcid-identifier.path`.”\n"
     ]
    },
    {
     "name": "stdout",
     "output_type": "stream",
     "text": [
      "[1] \"Lisbeth T. Nielsen--Centre for Ice and Climate, Niels Bohr Institute, University of\"\n",
      "[1] \"Nanna B. Karlsson--Centre for Ice and Climate, Niels Bohr Institute, University of\"\n",
      "[1] \"Christine S. Hvidberg--Centre for Ice and Climate, Niels Bohr Institute, University of\"\n",
      "[1] \"Add: 0000-0003-0423-8705\"\n",
      "[1] \"Add: 0000-0002-9665-1339\"\n"
     ]
    },
    {
     "name": "stderr",
     "output_type": "stream",
     "text": [
      "Warning message:\n",
      "“Unknown or uninitialised column: `orcid-identifier.path`.”\n"
     ]
    },
    {
     "name": "stdout",
     "output_type": "stream",
     "text": [
      "[1] \"Yongjian Ding--Key Laboratory of Cryosphere and Environment, Cold and Arid Regions Environmental and Engineering Research Institute, Chinese Academy of Sciences\"\n",
      "[1] \"Shiyin Liu--Key Laboratory of Cryosphere and Environment, Cold and Arid Regions Environmental and Engineering Research Institute, Chinese Academy of Sciences\"\n",
      "[1] \"Jing Li--Key Laboratory of Cryosphere and Environment, Cold and Arid Regions Environmental and Engineering Research Institute, Chinese Academy of Sciences\"\n",
      "[1] \"Donghui Shangguan--Key Laboratory of Cryosphere and Environment, Cold and Arid Regions Environmental and Engineering Research Institute, Chinese Academy of Sciences\"\n",
      "[1] \"Add: 0000-0002-9625-7497\"\n"
     ]
    },
    {
     "name": "stderr",
     "output_type": "stream",
     "text": [
      "Warning message:\n",
      "“Unknown or uninitialised column: `orcid-identifier.path`.”\n",
      "Warning message:\n",
      "“Unknown or uninitialised column: `orcid-identifier.path`.”\n",
      "Warning message:\n",
      "“Unknown or uninitialised column: `orcid-identifier.path`.”\n"
     ]
    },
    {
     "name": "stdout",
     "output_type": "stream",
     "text": [
      "[1] \"Ge Peng--North Carolina State University\"\n",
      "[1] \"Walter N. Meier--NASA Goddard Space Flight Center\"\n",
      "[1] \"Add: 0000-0002-1986-9115\"\n"
     ]
    },
    {
     "name": "stderr",
     "output_type": "stream",
     "text": [
      "Warning message:\n",
      "“Unknown or uninitialised column: `orcid-identifier.path`.”\n",
      "Warning message:\n",
      "“Unknown or uninitialised column: `orcid-identifier.path`.”\n",
      "Warning message:\n",
      "“Unknown or uninitialised column: `orcid-identifier.path`.”\n"
     ]
    },
    {
     "name": "stdout",
     "output_type": "stream",
     "text": [
      "[1] \"I. Severskiy\"\n",
      "[1] \"E. Vilesov\"\n",
      "[1] \"R. Armstrong\"\n",
      "[1] \"A. Kokarev\"\n",
      "[1] \"L. Kogutenko\"\n",
      "[1] \"Z. Usmanova\"\n",
      "[1] \"V. Morozova\"\n",
      "[1] \"B. Raup\"\n",
      "[1] \"Add: 0000-0002-1418-2920\"\n"
     ]
    },
    {
     "name": "stderr",
     "output_type": "stream",
     "text": [
      "Warning message:\n",
      "“Unknown or uninitialised column: `orcid-identifier.path`.”\n",
      "Warning message:\n",
      "“Unknown or uninitialised column: `orcid-identifier.path`.”\n"
     ]
    },
    {
     "name": "stdout",
     "output_type": "stream",
     "text": [
      "[1] \"Evan S. Miles--Scott Polar Research Institute\"\n",
      "[1] \"Francesca Pellicciotti--Institute for Environmental Engineering\"\n",
      "[1] \"Ian C. Willis--Northumbria University\"\n",
      "[1] \"Jakob F. Steiner--Institute for Environmental Engineering\"\n",
      "[1] \"Pascal Buri--Institute for Environmental Engineering\"\n",
      "[1] \"Neil S. Arnold--Scott Polar Research Institute\"\n",
      "[1] \"Add: 0000-0002-0063-0067\"\n",
      "[1] \"Add: 0000-0001-5446-8571\"\n",
      "[1] \"Add: 0000-0002-0750-7088\"\n"
     ]
    },
    {
     "name": "stderr",
     "output_type": "stream",
     "text": [
      "Warning message:\n",
      "“Unknown or uninitialised column: `orcid-identifier.path`.”\n",
      "Warning message:\n",
      "“Unknown or uninitialised column: `orcid-identifier.path`.”\n",
      "Warning message:\n",
      "“Unknown or uninitialised column: `orcid-identifier.path`.”\n"
     ]
    },
    {
     "name": "stdout",
     "output_type": "stream",
     "text": [
      "[1] \"Sohey Nihashi--Institute of Low Temperature Science,  Hokkaido University\"\n",
      "[1] \"Naoto Ebuchi--Institute of Low Temperature Science,  Hokkaido University\"\n",
      "[1] \"Yasushi Fukamachi--Institute of Low Temperature Science,  Hokkaido University\"\n",
      "[1] \"Shuhei Takahashi--Snow and Ice Research Laboratory,  Kitami Institute of Technology\"\n",
      "[1] \"Add: 0000-0001-5798-9380\"\n",
      "[1] \"Add: 0000-0003-2303-8928\"\n"
     ]
    },
    {
     "name": "stderr",
     "output_type": "stream",
     "text": [
      "Warning message:\n",
      "“Unknown or uninitialised column: `orcid-identifier.path`.”\n",
      "Warning message:\n",
      "“Unknown or uninitialised column: `orcid-identifier.path`.”\n"
     ]
    },
    {
     "name": "stdout",
     "output_type": "stream",
     "text": [
      "[1] \"Joseph M. Shea\"\n",
      "[1] \"Walter W. Immerzeel\"\n",
      "[1] \"Add: 0000-0002-4557-1283\"\n",
      "[1] \"Add: 0000-0002-2010-9543\"\n",
      "[1] \"Joseph M. Souney--Institute for the Study of Earth, Oceans and Space, University of New Hampshire\"\n",
      "[1] \"Mark S. Twickler--Institute for the Study of Earth, Oceans and Space, University of New Hampshire\"\n",
      "[1] \"Geoffrey M. Hargreaves--National Ice Core Laboratory, US Geological Survey\"\n",
      "[1] \"Brian M. Bencivengo--National Ice Core Laboratory, US Geological Survey\"\n",
      "[1] \"Matthew J. Kippenhan--Antarctic Support Contract, US Antarctic Program\"\n",
      "[1] \"Jay A. Johnson--Ice Drilling Design and Operations, University of Wisconsin–Madison\"\n",
      "[1] \"Eric D. Cravens--ADC Management Services, Inc.\"\n",
      "[1] \"Peter D. Neff--Antarctic Research Centre, Victoria University of Wellington\"\n",
      "[1] \"Richard M. Nunn--National Ice Core Laboratory, US Geological Survey\"\n",
      "[1] \"Anais J. Orsi--Laboratoire des Sciences du Climat et de l’Environnement, CEA–CNRS–UVSQ/IPSL\"\n",
      "[1] \"Trevor J. Popp--Niels Bohr Institute, University of Copenhagen\"\n",
      "[1] \"John F. Rhoades--National Ice Core Laboratory, US Geological Survey\"\n",
      "[1] \"Bruce H. Vaughn--Institute of Arctic and Alpine Research, University of Colorado\"\n",
      "[1] \"Donald E. Voigt--Department of Geosciences, The Pennsylvania State University\"\n",
      "[1] \"Gifford J. Wong--Department of Earth Sciences, Dartmouth College\"\n",
      "[1] \"Kendrick C. Taylor--Desert Research Institute, Nevada System of Higher Education\"\n",
      "[1] \"Add: 0000-0002-1492-6432\"\n",
      "[1] \"Add: 0000-0001-8535-1261\"\n",
      "[1] \"Add: 0000-0001-6503-957X\"\n"
     ]
    },
    {
     "name": "stderr",
     "output_type": "stream",
     "text": [
      "Warning message:\n",
      "“Unknown or uninitialised column: `orcid-identifier.path`.”\n",
      "Warning message:\n",
      "“Unknown or uninitialised column: `orcid-identifier.path`.”\n"
     ]
    },
    {
     "name": "stdout",
     "output_type": "stream",
     "text": [
      "[1] \"Douglas R. MacAyeal--The University of Chicago---0000-0003-0647-6176\"\n",
      "[1] \"Alison F. Banwell--Scott Polar Research Institute, University of Cambridge---0000-0001-9545-829X\"\n",
      "[1] \"Emile A. Okal--Northwestern University\"\n",
      "[1] \"Jinqiao Lin--The University of Chicago\"\n",
      "[1] \"Ian C. Willis--Scott Polar Research Institute, University of Cambridge---0000-0002-0750-7088\"\n",
      "[1] \"Becky Goodsell--The University of Chicago\"\n",
      "[1] \"Grant J. MacDonald--The University of Chicago---0000-0002-9295-085X\"\n",
      "[1] \"Add: 0000-0001-9545-829X\"\n"
     ]
    },
    {
     "name": "stderr",
     "output_type": "stream",
     "text": [
      "Warning message:\n",
      "“Unknown or uninitialised column: `orcid-identifier.path`.”\n"
     ]
    },
    {
     "name": "stdout",
     "output_type": "stream",
     "text": [
      "[1] \"Jason M. Amundson--University of Chicago\"\n",
      "[1] \"John F. Clinton\"\n",
      "[1] \"Mark Fahnestock--Institute for the Study of Earth\"\n",
      "[1] \"Martin Truffer--Geophysical Institute\"\n",
      "[1] \"Martin P. Lüthi\"\n",
      "[1] \"Roman J. Motyka--Geophysical Institute\"\n",
      "[1] \"Add: 0000-0001-8626-2703\"\n",
      "[1] \"Add: 0000-0003-4419-8496\"\n",
      "[1] \"Thomas Hollands--Alfred Wegener Institute for Polar and Marine Research\"\n",
      "[1] \"Wolfgang Dierking--Alfred Wegener Institute for Polar and Marine Research\"\n",
      "[1] \"Add: 0000-0003-0824-4037\"\n",
      "[1] \"Christine Schøtt Hvidberg--Niels Bohr Institute\"\n",
      "[1] \"Kristian Keller--National Survey and Cadastre (KMS)\"\n",
      "[1] \"Niels S. Gundestrup--Niels Bohr Institute\"\n",
      "[1] \"Add: 0000-0002-9665-1339\"\n"
     ]
    },
    {
     "name": "stderr",
     "output_type": "stream",
     "text": [
      "Warning message:\n",
      "“Unknown or uninitialised column: `orcid-identifier.path`.”\n",
      "Warning message:\n",
      "“Unknown or uninitialised column: `orcid-identifier.path`.”\n"
     ]
    },
    {
     "name": "stdout",
     "output_type": "stream",
     "text": [
      "[1] \"Niraj S. Pradhananga\"\n",
      "[1] \"Rijan B. Kayastha\"\n",
      "[1] \"Bikas C. Bhattarai\"\n",
      "[1] \"Tirtha R. Adhikari\"\n",
      "[1] \"Suresh C. Pradhan\"\n",
      "[1] \"Lochan P. Devkota\"\n",
      "[1] \"Arun B. Shrestha\"\n",
      "[1] \"Pradeep K. Mool\"\n",
      "[1] \"Add: 0000-0002-7653-5162\"\n",
      "[1] \"Add: 0000-0002-5896-1731\"\n",
      "[1] \"Guðefinna Aðalgeirsdóttir\"\n",
      "[1] \"G. Hilmar Gudmundsson\"\n",
      "[1] \"Helgi Björnsson\"\n",
      "[1] \"Add: 0000-0003-4236-5369\"\n",
      "[1] \"P.G. Talalay\"\n",
      "[1] \"Roger LeB. Hooke\"\n",
      "[1] \"Add: 0000-0002-8230-4600\"\n",
      "[1] \"Thomas Krumpen--Department of Sea Ice Physics,  Alfred Wegener Institute for Polar and Marine Research\"\n",
      "[1] \"Sascha Willmes--Department of Environmental Meteorology,  University of Trier\"\n",
      "[1] \"Miguel Angel Morales Maqueda--National Oceanography Centre\"\n",
      "[1] \"Christian Haas--Department of Earth & Atmospheric Sciences,  University of Alberta\"\n",
      "[1] \"Jens A. Hölemann--Department of Observational Oceanography,  Alfred Wegener Institute for Polar and Marine Research\"\n",
      "[1] \"Rüdiger Gerdes--Department of Sea Ice Physics,  Alfred Wegener Institute for Polar and Marine Research\"\n",
      "[1] \"David Schröder--Department of Environmental Meteorology,  University of Trier\"\n",
      "[1] \"Add: 0000-0001-6234-8756\"\n",
      "[1] \"Add: 0000-0002-7674-3500\"\n",
      "[1] \"Valentina A. Lobkina--Far East Geological Institute\"\n",
      "[1] \"Add: 0000-0002-8916-0910\"\n",
      "[1] \"M. Wiese\"\n",
      "[1] \"P. Griewank\"\n",
      "[1] \"D. Notz\"\n",
      "[1] \"Add: 0000-0003-0906-3553\"\n",
      "[1] \"Add: 0000-0003-0365-5654\"\n"
     ]
    },
    {
     "name": "stderr",
     "output_type": "stream",
     "text": [
      "Warning message:\n",
      "“Unknown or uninitialised column: `orcid-identifier.path`.”\n",
      "Warning message:\n",
      "“Unknown or uninitialised column: `orcid-identifier.path`.”\n"
     ]
    },
    {
     "name": "stdout",
     "output_type": "stream",
     "text": [
      "[1] \"Sigfús J. Johnsen\"\n",
      "[1] \"Steffen Bo Hansen\"\n",
      "[1] \"Simon G. Sheldon\"\n",
      "[1] \"Dorthe Dahl-Jensen\"\n",
      "[1] \"Jørgen P. Steffensen\"\n",
      "[1] \"Laurent Augustin\"\n",
      "[1] \"Paul Journé\"\n",
      "[1] \"Olivier Alemany\"\n",
      "[1] \"Henry Rufli\"\n",
      "[1] \"Jakob Schwander\"\n",
      "[1] \"Nobuhiko Azuma\"\n",
      "[1] \"Hideaki Motoyama\"\n",
      "[1] \"Trevor Popp\"\n",
      "[1] \"Pavel Talalay\"\n",
      "[1] \"Thorsteinn Thorsteinsson\"\n",
      "[1] \"Frank Wilhelms\"\n",
      "[1] \"Victor Zagorodnov\"\n",
      "[1] \"Add: 0000-0001-7688-3135\"\n",
      "[1] \"Add: 0000-0002-8230-4600\"\n",
      "[1] \"Add: 0000-0002-5516-1093\"\n",
      "[1] \"Add: 0000-0002-1474-1948\"\n",
      "[1] \"Nancy A.N. Bertler--Antarctic Research Centre\"\n",
      "[1] \"Paul A. Mayewski--Climate Change Institute\"\n",
      "[1] \"Sharon B. Sneed--Climate Change Institute\"\n",
      "[1] \"Tim R. Naish--Antarctic Research Centre\"\n",
      "[1] \"Uwe Morgenstern--GNS Science\"\n",
      "[1] \"Peter J. Barrett--Antarctic Research Centre\"\n",
      "[1] \"Add: 0000-0001-6028-4891\"\n",
      "[1] \"Add: 0000-0002-1185-9932\"\n",
      "[1] \"M.S. Moussavi--Remote Sensing Department, K.N. Toosi University of Technology\"\n",
      "[1] \"M.J. Valadan Zoej--Remote Sensing Department, K.N. Toosi University of Technology\"\n",
      "[1] \"F. Vaziri--Remote Sensing Department, K.N. Toosi University of Technology\"\n",
      "[1] \"M.R. Sahebi--Remote Sensing Department, K.N. Toosi University of Technology\"\n",
      "[1] \"Y. Rezaei--Remote Sensing Department, K.N. Toosi University of Technology\"\n",
      "[1] \"Add: 0000-0001-6876-7994\"\n",
      "[1] \"Add: 0000-0001-7742-3974\"\n",
      "[1] \"Add: 0000-0003-4325-8741\"\n"
     ]
    },
    {
     "name": "stderr",
     "output_type": "stream",
     "text": [
      "Warning message:\n",
      "“Unknown or uninitialised column: `orcid-identifier.path`.”\n",
      "Warning message:\n",
      "“Unknown or uninitialised column: `orcid-identifier.path`.”\n",
      "Warning message:\n",
      "“Unknown or uninitialised column: `orcid-identifier.path`.”\n",
      "Warning message:\n",
      "“Unknown or uninitialised column: `orcid-identifier.path`.”\n"
     ]
    },
    {
     "name": "stdout",
     "output_type": "stream",
     "text": [
      "[1] \"M.-A.N. Moen--University of Tromsø\"\n",
      "[1] \"S.N. Anfinsen--University of Tromsø\"\n",
      "[1] \"A.P. Doulgeris--University of Tromsø\"\n",
      "[1] \"A.H.H. Renner--Norwegian Polar Institute\"\n",
      "[1] \" S. Gerland--Norwegian Polar Institute\"\n",
      "[1] \"Add: 0000-0002-9997-6366\"\n",
      "[1] \"Add: 0000-0002-3758-4295\"\n"
     ]
    },
    {
     "name": "stderr",
     "output_type": "stream",
     "text": [
      "Warning message:\n",
      "“Unknown or uninitialised column: `orcid-identifier.path`.”\n",
      "Warning message:\n",
      "“Unknown or uninitialised column: `orcid-identifier.path`.”\n",
      "Warning message:\n",
      "“Unknown or uninitialised column: `orcid-identifier.path`.”\n",
      "Warning message:\n",
      "“Unknown or uninitialised column: `orcid-identifier.path`.”\n",
      "Warning message:\n",
      "“Unknown or uninitialised column: `orcid-identifier.path`.”\n"
     ]
    },
    {
     "name": "stdout",
     "output_type": "stream",
     "text": [
      "[1] \"Helmut Rott--Institute of Meteorology and Geophysics, University of Innsbruck\"\n",
      "[1] \"Wolfgang Rack--Institute of Meteorology and Geophysics, University of Innsbruck\"\n",
      "[1] \"Pedro Skvarca--Instituto Antártico Argentino\"\n",
      "[1] \"Hernán De Angelis--Instituto Antártico Argentino\"\n",
      "[1] \"Add: 0000-0002-8584-272X\"\n"
     ]
    },
    {
     "name": "stderr",
     "output_type": "stream",
     "text": [
      "Warning message:\n",
      "“Unknown or uninitialised column: `orcid-identifier.path`.”\n"
     ]
    },
    {
     "name": "stdout",
     "output_type": "stream",
     "text": [
      "[1] \"Elisabeth Isaksson--Norwegian Polar Institute, Norwegian Environmental Centre\"\n",
      "[1] \"Teija Kekonen--Arctic Centre, University of Lapland\"\n",
      "[1] \"John Moore--Arctic Centre, University of Lapland\"\n",
      "[1] \"Robert Mulvaney--British Antarctic Survey, Natural Environment Research Council\"\n",
      "[1] \"Add: 0000-0002-5372-8148\"\n",
      "[1] \"Mark W. Williams--Institute of Arctic and Alpine Research\"\n",
      "[1] \"Alana Wilson--Institute of Arctic and Alpine Research\"\n",
      "[1] \"Dendup Tshering--Royal University of Bhutan\"\n",
      "[1] \"Pankaj Thapa--Royal University of Bhutan\"\n",
      "[1] \"Rijan B. Kayastha--School of Science\"\n",
      "[1] \"Add: 0000-0002-6629-9872\"\n",
      "[1] \"Add: 0000-0002-5896-1731\"\n",
      "[1] \"Felix Ng--Department of Geography, University of Sheffield\"\n",
      "[1] \" Edward C. King--British Antarctic Survey, Natural Environment Research Council\"\n",
      "[1] \"Add: 0000-0001-6352-0351\"\n"
     ]
    },
    {
     "name": "stderr",
     "output_type": "stream",
     "text": [
      "Warning message:\n",
      "“Unknown or uninitialised column: `orcid-identifier.path`.”\n",
      "Warning message:\n",
      "“Unknown or uninitialised column: `orcid-identifier.path`.”\n",
      "Warning message:\n",
      "“Unknown or uninitialised column: `orcid-identifier.path`.”\n",
      "Warning message:\n",
      "“Unknown or uninitialised column: `orcid-identifier.path`.”\n",
      "Warning message:\n",
      "“Unknown or uninitialised column: `orcid-identifier.path`.”\n"
     ]
    },
    {
     "name": "stdout",
     "output_type": "stream",
     "text": [
      "[1] \"Shun Tsutaki--Graduate School of Environmental Science\"\n",
      "[1] \"Daisuke Nishimura--Graduate School of Environmental Science\"\n",
      "[1] \"Takeshi Yoshizawa--Graduate School of Environmental Science\"\n",
      "[1] \"Shin Sugiyama--Institute of Low Temperature Science\"\n",
      "[1] \"Add: 0000-0002-5716-225X\"\n"
     ]
    },
    {
     "name": "stderr",
     "output_type": "stream",
     "text": [
      "Warning message:\n",
      "“Unknown or uninitialised column: `orcid-identifier.path`.”\n",
      "Warning message:\n",
      "“Unknown or uninitialised column: `orcid-identifier.path`.”\n",
      "Warning message:\n",
      "“Unknown or uninitialised column: `orcid-identifier.path`.”\n"
     ]
    },
    {
     "name": "stdout",
     "output_type": "stream",
     "text": [
      "[1] \"Atsushi Miyamoto--Institute of Low Temperature Science, Hokkaido University\"\n",
      "[1] \"Hitoshi Shoji--Kitami Institute of Technology\"\n",
      "[1] \"Akira Hori--Institute of Low Temperature Science, Hokkaido University\"\n",
      "[1] \"Takeo Hondoh--Institute of Low Temperature Science, Hokkaido University\"\n",
      "[1] \"Henrik B. Clausen--Niels Bohr Institute for Astronomy, Physics and Geophysics, University of Copenhagen\"\n",
      "[1] \"Okitsugu Watanabe--National Institute of Polar Research\"\n",
      "[1] \"Add: 0000-0003-4129-022X\"\n"
     ]
    },
    {
     "name": "stderr",
     "output_type": "stream",
     "text": [
      "Warning message:\n",
      "“Unknown or uninitialised column: `orcid-identifier.path`.”\n"
     ]
    },
    {
     "name": "stdout",
     "output_type": "stream",
     "text": [
      "[1] \"Jari Uusikivi\"\n",
      "[1] \"Jens Ehn\"\n",
      "[1] \"Mats A. Granskog\"\n",
      "[1] \"Add: 0000-0002-5035-4347\"\n"
     ]
    },
    {
     "name": "stderr",
     "output_type": "stream",
     "text": [
      "Warning message:\n",
      "“Unknown or uninitialised column: `orcid-identifier.path`.”\n",
      "Warning message:\n",
      "“Unknown or uninitialised column: `orcid-identifier.path`.”\n",
      "Warning message:\n",
      "“Unknown or uninitialised column: `orcid-identifier.path`.”\n"
     ]
    },
    {
     "name": "stdout",
     "output_type": "stream",
     "text": [
      "[1] \"A. P. Ahlstrøm\"\n",
      "[1] \"C. Egede Bøggild\"\n",
      "[1] \"J. J. Mohr--Ørsted-DTU, Electromagnetic Systems, Technical University of Denmark\"\n",
      "[1] \"N. Reeh--Ørsted-DTU, Electromagnetic Systems, Technical University of Denmark\"\n",
      "[1] \"E. Lintz Christensen--Ørsted-DTU, Electromagnetic Systems, Technical University of Denmark\"\n",
      "[1] \"O. B. Olesen\"\n",
      "[1] \"K. Keller\"\n",
      "[1] \"Add: 0000-0001-8235-8070\"\n"
     ]
    },
    {
     "name": "stderr",
     "output_type": "stream",
     "text": [
      "Warning message:\n",
      "“Unknown or uninitialised column: `orcid-identifier.path`.”\n",
      "Warning message:\n",
      "“Unknown or uninitialised column: `orcid-identifier.path`.”\n"
     ]
    },
    {
     "name": "stdout",
     "output_type": "stream",
     "text": [
      "[1] \"Prashant Baral\"\n",
      "[1] \"Rijan B. Kayastha\"\n",
      "[1] \"Walter W. Immerzeel\"\n",
      "[1] \"Niraj S. Pradhananga\"\n",
      "[1] \"Bikas C. Bhattarai\"\n",
      "[1] \"Sonika Shahi\"\n",
      "[1] \"Stephan Galos\"\n",
      "[1] \"Claudia Springer\"\n",
      "[1] \"Sharad P. Joshi\"\n",
      "[1] \"Pradeep K. Mool\"\n",
      "[1] \"Add: 0000-0002-9087-2667\"\n",
      "[1] \"Add: 0000-0002-7653-5162\"\n",
      "[1] \"Add: 0000-0002-5896-1731\"\n",
      "[1] \"Add: 0000-0002-2010-9543\"\n"
     ]
    },
    {
     "name": "stderr",
     "output_type": "stream",
     "text": [
      "Warning message:\n",
      "“Unknown or uninitialised column: `orcid-identifier.path`.”\n",
      "Warning message:\n",
      "“Unknown or uninitialised column: `orcid-identifier.path`.”\n",
      "Warning message:\n",
      "“Unknown or uninitialised column: `orcid-identifier.path`.”\n",
      "Warning message:\n",
      "“Unknown or uninitialised column: `orcid-identifier.path`.”\n"
     ]
    },
    {
     "name": "stdout",
     "output_type": "stream",
     "text": [
      "[1] \"Patricia J. Langhorne\"\n",
      "[1] \"Vernon A. Squire\"\n",
      "[1] \"Colin Fox\"\n",
      "[1] \"Timothy G. Haskell\"\n",
      "[1] \"Add: 0000-0002-9278-1777\"\n"
     ]
    },
    {
     "name": "stderr",
     "output_type": "stream",
     "text": [
      "Warning message:\n",
      "“Unknown or uninitialised column: `orcid-identifier.path`.”\n",
      "Warning message:\n",
      "“Unknown or uninitialised column: `orcid-identifier.path`.”\n",
      "Warning message:\n",
      "“Unknown or uninitialised column: `orcid-identifier.path`.”\n",
      "Warning message:\n",
      "“Unknown or uninitialised column: `orcid-identifier.path`.”\n",
      "Warning message:\n",
      "“Unknown or uninitialised column: `orcid-identifier.path`.”\n",
      "Warning message:\n",
      "“Unknown or uninitialised column: `orcid-identifier.path`.”\n",
      "Warning message:\n",
      "“Unknown or uninitialised column: `orcid-identifier.path`.”\n",
      "Warning message:\n",
      "“Unknown or uninitialised column: `orcid-identifier.path`.”\n"
     ]
    },
    {
     "name": "stdout",
     "output_type": "stream",
     "text": [
      "[1] \"M. Canals\"\n",
      "[1] \"F. Estrada\"\n",
      "[1] \"R. Urgeles\"\n",
      "[1] \" Gebrap 96/97 Team\"\n",
      "[1] \"Add: 0000-0001-5536-0183\"\n",
      "[1] \"Error in: 435 owi:0000-0002-6512-0770\"\n"
     ]
    },
    {
     "name": "stderr",
     "output_type": "stream",
     "text": [
      "Warning message:\n",
      "“Unknown or uninitialised column: `orcid-identifier.path`.”\n",
      "Warning message:\n",
      "“Unknown or uninitialised column: `orcid-identifier.path`.”\n",
      "Warning message:\n",
      "“Unknown or uninitialised column: `orcid-identifier.path`.”\n",
      "Warning message:\n",
      "“Unknown or uninitialised column: `orcid-identifier.path`.”\n"
     ]
    },
    {
     "name": "stdout",
     "output_type": "stream",
     "text": [
      "[1] \"E.A. Bagshaw\"\n",
      "[1] \"B. Lishman\"\n",
      "[1] \"J.L. Wadham\"\n",
      "[1] \"J.A. Bowden\"\n",
      "[1] \"S.G. Burrow\"\n",
      "[1] \"L.R. Clare\"\n",
      "[1] \"D. Chandler\"\n",
      "[1] \"Add: 0000-0002-8384-8140\"\n"
     ]
    },
    {
     "name": "stderr",
     "output_type": "stream",
     "text": [
      "Warning message:\n",
      "“Unknown or uninitialised column: `orcid-identifier.path`.”\n",
      "Warning message:\n",
      "“Unknown or uninitialised column: `orcid-identifier.path`.”\n"
     ]
    },
    {
     "name": "stdout",
     "output_type": "stream",
     "text": [
      "[1] \"P.K. Satyawali\"\n",
      "[1] \"A.K. Singh\"\n",
      "[1] \"S.K. Dewali\"\n",
      "[1] \"Praveen Kumar\"\n",
      "[1] \"Vinod Kumar\"\n",
      "[1] \"Add: 0000-0003-3431-8263\"\n",
      "[1] \"P.K. Satyawali--Snow and Avalanche Study Establishment\"\n",
      "[1] \"M. Schneebeli--WSL Institute for Snow and Avalanche Research SLF\"\n",
      "[1] \"Add: 0000-0003-2872-4409\"\n",
      "[1] \"Joel T. Harper--Department of Geology, University of Montana\"\n",
      "[1] \"Neil F. Humphrey--University of Wyoming\"\n",
      "[1] \"W. Tad Pfeffer--Institute of Arctic and Alpine Research, University of Colorado\"\n",
      "[1] \"Tyler Fudge--University of Wyoming\"\n",
      "[1] \"Shad O’Neel--Institute of Arctic and Alpine Research, University of Colorado\"\n",
      "[1] \"Add: 0000-0002-6818-7479\"\n",
      "[1] \"Add: 0000-0002-5175-2080\"\n"
     ]
    },
    {
     "name": "stderr",
     "output_type": "stream",
     "text": [
      "Warning message:\n",
      "“Unknown or uninitialised column: `orcid-identifier.path`.”\n"
     ]
    },
    {
     "name": "stdout",
     "output_type": "stream",
     "text": [
      "[1] \"W.J. Van De Berg--Institute for Marine and Atmospheric Research Utrecht\"\n",
      "[1] \"M.R. Van Den Broeke--Institute for Marine and Atmospheric Research Utrecht\"\n",
      "[1] \"C.H. Reijmer--Institute for Marine and Atmospheric Research Utrecht\"\n",
      "[1] \"E. Van Meijgaard\"\n",
      "[1] \"Add: 0000-0001-8299-3883\"\n",
      "[1] \"Atsushi Miyamoto--Institute of Low Temperature Science, Hokkaido University\"\n",
      "[1] \"Hideki Narita--Institute of Low Temperature Science, Hokkaido University\"\n",
      "[1] \"Takeo Hondoh--Institute of Low Temperature Science, Hokkaido University\"\n",
      "[1] \"Hitoshi Shoji--Kitami Institute of Technology\"\n",
      "[1] \"Kunio Kawada--Faculty of Science, Toyama University\"\n",
      "[1] \"Okitsugu Watanabe--National Institute of Polar Research\"\n",
      "[1] \"Dorthe Dahl-Jensen--The Niels Bohr Institute, Department of Geophysics, University of Copenhagen\"\n",
      "[1] \"Niels S. Gundestrup--The Niels Bohr Institute, Department of Geophysics, University of Copenhagen\"\n",
      "[1] \"Henrik B. Clausen--The Niels Bohr Institute, Department of Geophysics, University of Copenhagen\"\n",
      "[1] \"Paul Duval--Laboratoire de Glaciologie et Géophysique de l’Environnement du CNRS\"\n",
      "[1] \"Add: 0000-0003-4129-022X\"\n",
      "[1] \"Add: 0000-0002-1474-1948\"\n",
      "[1] \"Lijun Tian--University of Texas at San Antonio---0000-0003-3772-2835\"\n",
      "[1] \"Yongli Gao--University of Texas at San Antonio---0000-0001-9063-4792\"\n",
      "[1] \"Blake Weissling--University of Texas at San Antonio\"\n",
      "[1] \"Stephen F. Ackley--University of Texas at San Antonio\"\n"
     ]
    },
    {
     "name": "stderr",
     "output_type": "stream",
     "text": [
      "Warning message:\n",
      "“Unknown or uninitialised column: `orcid-identifier.path`.”\n",
      "Warning message:\n",
      "“Unknown or uninitialised column: `orcid-identifier.path`.”\n",
      "Warning message:\n",
      "“Unknown or uninitialised column: `orcid-identifier.path`.”\n",
      "Warning message:\n",
      "“Unknown or uninitialised column: `orcid-identifier.path`.”\n",
      "Warning message:\n",
      "“Unknown or uninitialised column: `orcid-identifier.path`.”\n",
      "Warning message:\n",
      "“Unknown or uninitialised column: `orcid-identifier.path`.”\n",
      "Warning message:\n",
      "“Unknown or uninitialised column: `orcid-identifier.path`.”\n",
      "Warning message:\n",
      "“Unknown or uninitialised column: `orcid-identifier.path`.”\n",
      "Warning message:\n",
      "“Unknown or uninitialised column: `orcid-identifier.path`.”\n",
      "Warning message:\n",
      "“Unknown or uninitialised column: `orcid-identifier.path`.”\n",
      "Warning message:\n",
      "“Unknown or uninitialised column: `orcid-identifier.path`.”\n",
      "Warning message:\n",
      "“Unknown or uninitialised column: `orcid-identifier.path`.”\n",
      "Warning message:\n",
      "“Unknown or uninitialised column: `orcid-identifier.path`.”\n",
      "Warning message:\n",
      "“Unknown or uninitialised column: `orcid-identifier.path`.”\n",
      "Warning message:\n",
      "“Unknown or uninitialised column: `orcid-identifier.path`.”\n"
     ]
    },
    {
     "name": "stdout",
     "output_type": "stream",
     "text": [
      "[1] \"Rebecca Mott\"\n",
      "[1] \"Françoise Faure\"\n",
      "[1] \"Michael Lehning\"\n",
      "[1] \"Henning LӦWE\"\n",
      "[1] \"Bernhard Hynek\"\n",
      "[1] \"Gernot Michlmayer\"\n",
      "[1] \"Alexander Prokop\"\n",
      "[1] \"Wolfgang Schӧner\"\n",
      "[1] \"Add: 0000-0002-6389-7703\"\n",
      "[1] \"Error in: 467 owi:0000-0001-6546-0639\"\n"
     ]
    },
    {
     "name": "stderr",
     "output_type": "stream",
     "text": [
      "Warning message:\n",
      "“Unknown or uninitialised column: `orcid-identifier.path`.”\n",
      "Warning message:\n",
      "“Unknown or uninitialised column: `orcid-identifier.path`.”\n",
      "Warning message:\n",
      "“Unknown or uninitialised column: `orcid-identifier.path`.”\n"
     ]
    },
    {
     "name": "stdout",
     "output_type": "stream",
     "text": [
      "[1] \"Urs Ruth--Alfred Wegener Institute for Polar and Marine Research\"\n",
      "[1] \"Dietmar Wagenbach--Institute of Environmental Physics, University of Heidelberg\"\n",
      "[1] \"Robert Mulvaney\"\n",
      "[1] \"Hans Oerter--Alfred Wegener Institute for Polar and Marine Research\"\n",
      "[1] \"Wolfgang Graf\"\n",
      "[1] \"Henning Pulz--Institute of Environmental Physics, University of Heidelberg\"\n",
      "[1] \"Genevieve Littot\"\n",
      "[1] \"Add: 0000-0002-5372-8148\"\n"
     ]
    },
    {
     "name": "stderr",
     "output_type": "stream",
     "text": [
      "Warning message:\n",
      "“Unknown or uninitialised column: `orcid-identifier.path`.”\n",
      "Warning message:\n",
      "“Unknown or uninitialised column: `orcid-identifier.path`.”\n",
      "Warning message:\n",
      "“Unknown or uninitialised column: `orcid-identifier.path`.”\n",
      "Warning message:\n",
      "“Unknown or uninitialised column: `orcid-identifier.path`.”\n",
      "Warning message:\n",
      "“Unknown or uninitialised column: `orcid-identifier.path`.”\n",
      "Warning message:\n",
      "“Unknown or uninitialised column: `orcid-identifier.path`.”\n",
      "Warning message:\n",
      "“Unknown or uninitialised column: `orcid-identifier.path`.”\n"
     ]
    },
    {
     "name": "stdout",
     "output_type": "stream",
     "text": [
      "[1] \"Takeshi Tamura--National Institute of Polar Research\"\n",
      "[1] \"Kay I. Ohshima--Hokkaido University\"\n",
      "[1] \"Jan L. Lieser--University of Tasmania\"\n",
      "[1] \"Takenobu Toyota--Hokkaido University\"\n",
      "[1] \"Kazutaka Tateyama--Kitami Institute of Technology\"\n",
      "[1] \"Daiki Nomura--Hokkaido University\"\n",
      "[1] \"Kazuki Nakata--Hokkaido University\"\n",
      "[1] \"Alexander D. Fraser--University of Tasmania\"\n",
      "[1] \"Peter W. Jansen--University of Tasmania\"\n",
      "[1] \"Kym B. Newbery\"\n",
      "[1] \"Robert A. Massom--University of Tasmania\"\n",
      "[1] \"Shuki Ushio--National Institute of Polar Research\"\n",
      "[1] \"Add: 0000-0001-6870-1311\"\n",
      "[1] \"Add: 0000-0003-1533-5084\"\n"
     ]
    },
    {
     "name": "stderr",
     "output_type": "stream",
     "text": [
      "Warning message:\n",
      "“Unknown or uninitialised column: `orcid-identifier.path`.”\n"
     ]
    },
    {
     "name": "stdout",
     "output_type": "stream",
     "text": [
      "[1] \"Jacob C. Yde--Department of Earth Sciences, University of Aarhus\"\n",
      "[1] \"N. Tvis Knudsen--Department of Earth Sciences, University of Aarhus\"\n",
      "[1] \"Nicolaj K. Larsen--Department of Earth Sciences, University of Aarhus\"\n",
      "[1] \"Christian Kronborg--Department of Earth Sciences, University of Aarhus\"\n",
      "[1] \"Ole B. Nielsen--Department of Earth Sciences, University of Aarhus\"\n",
      "[1] \"Jan Heinemeier--AMS C-14 Dating Centre, Department of Physics and Astronomy, University of Aarhus\"\n",
      "[1] \"Jesper Olsen--AMS C-14 Dating Centre, Department of Physics and Astronomy, University of Aarhus\"\n",
      "[1] \"Add: 0000-0002-6211-2601\"\n",
      "[1] \"Add: 0000-0002-0117-1106\"\n",
      "[1] \"Add: 0000-0002-4445-5520\"\n"
     ]
    },
    {
     "name": "stderr",
     "output_type": "stream",
     "text": [
      "Warning message:\n",
      "“Unknown or uninitialised column: `orcid-identifier.path`.”\n",
      "Warning message:\n",
      "“Unknown or uninitialised column: `orcid-identifier.path`.”\n"
     ]
    },
    {
     "name": "stdout",
     "output_type": "stream",
     "text": [
      "[1] \"Marco Möller--RWTH Aachen University\"\n",
      "[1] \"Christoph Schneider--RWTH Aachen University\"\n",
      "[1] \"Add: 0000-0002-4503-0989\"\n",
      "[1] \"Add: 0000-0002-9914-3217\"\n",
      "[1] \"Romeu André Pieritz\"\n",
      "[1] \"Jean-Bruno Brzoska\"\n",
      "[1] \"Frédéric Flin\"\n",
      "[1] \"Bernard Lesaffre\"\n",
      "[1] \"Cécile Coléou\"\n",
      "[1] \"Add: 0000-0001-9931-7769\"\n"
     ]
    },
    {
     "name": "stderr",
     "output_type": "stream",
     "text": [
      "Warning message:\n",
      "“Unknown or uninitialised column: `orcid-identifier.path`.”\n",
      "Warning message:\n",
      "“Unknown or uninitialised column: `orcid-identifier.path`.”\n",
      "Warning message:\n",
      "“Unknown or uninitialised column: `orcid-identifier.path`.”\n",
      "Warning message:\n",
      "“Unknown or uninitialised column: `orcid-identifier.path`.”\n",
      "Warning message:\n",
      "“Unknown or uninitialised column: `orcid-identifier.path`.”\n",
      "Warning message:\n",
      "“Unknown or uninitialised column: `orcid-identifier.path`.”\n",
      "Warning message:\n",
      "“Unknown or uninitialised column: `orcid-identifier.path`.”\n"
     ]
    },
    {
     "name": "stdout",
     "output_type": "stream",
     "text": [
      "[1] \"Jianguang Shi--Hangzhou Dianzi University---0000-0003-4148-6388\"\n",
      "[1] \"Shengmiao Huang--Hangzhou Dianzi University\"\n",
      "[1] \"Binyan Wang--Hangzhou Dianzi University\"\n",
      "[1] \"Chong Li--Hangzhou Dianzi University\"\n",
      "[1] \"Shilin Peng--Hangzhou Dianzi University---0000-0003-4329-0012\"\n",
      "[1] \"Youhong Sun--Jilin University\"\n",
      "[1] \"Pavel Talalay--Jilin University---0000-0002-8230-4600\"\n",
      "[1] \"Haibin Yu--Hangzhou Dianzi University\"\n"
     ]
    },
    {
     "name": "stderr",
     "output_type": "stream",
     "text": [
      "Warning message:\n",
      "“Unknown or uninitialised column: `orcid-identifier.path`.”\n"
     ]
    },
    {
     "name": "stdout",
     "output_type": "stream",
     "text": [
      "[1] \"Fuyuki Saito\"\n",
      "[1] \"Ayako Abe-Ouchi\"\n",
      "[1] \"Heinz Blatter--Institute for Atmospheric and Climate Science\"\n",
      "[1] \"Add: 0000-0001-5935-9614\"\n",
      "[1] \"Add: 0000-0003-1745-5952\"\n",
      "[1] \"Caixin Wang--Norwegian Polar Institute, Fram Centre\"\n",
      "[1] \"Liqiong Shi--Dalian University of Technology\"\n",
      "[1] \"Sebastian Gerland--Norwegian Polar Institute, Fram Centre\"\n",
      "[1] \"Mats A. Granskog--Norwegian Polar Institute, Fram Centre\"\n",
      "[1] \"Angelika H.H. Renner--Norwegian Polar Institute, Fram Centre\"\n",
      "[1] \"Zhijun Li--Dalian University of Technology\"\n",
      "[1] \"Edmond Hansen--Norwegian Polar Institute, Fram Centre\"\n",
      "[1] \"Tõnu Martma--Tallinn University of Technology\"\n",
      "[1] \"Add: 0000-0002-9997-6366\"\n",
      "[1] \"Add: 0000-0001-5894-7692\"\n",
      "[1] \"Add: 0000-0002-5035-4347\"\n",
      "[1] \"Geneviève C. Littot--British Antarctic Survey\"\n",
      "[1] \"Robert Mulvaney--British Antarctic Survey\"\n",
      "[1] \"Regine Röthlisberger--British Antarctic Survey\"\n",
      "[1] \"Roberto Udisti\"\n",
      "[1] \"Eric W. Wolff--British Antarctic Survey\"\n",
      "[1] \"Emiliano Castellano--Department of Chemistry\"\n",
      "[1] \"Martine De Angelis--Laboratoire de Glaciologie et Géophysique de l’Environnement du CNRS\"\n",
      "[1] \"Margareta E. Hansson--Department of Physical Geography and Quaternary Geology\"\n",
      "[1] \"Stefan Sommer--Climate and Environmental Physics\"\n",
      "[1] \"Jørgen P. Steffensen--Department of Geophysics\"\n",
      "[1] \"Add: 0000-0002-5372-8148\"\n",
      "[1] \"Add: 0000-0002-5914-8531\"\n",
      "[1] \"Mark Brandon--The Open University---0000-0002-7779-0958\"\n",
      "[1] \"Richard Hodgkins--Loughborough University\"\n",
      "[1] \"Helgi Björnsson--Institute of Earth Sciences\"\n",
      "[1] \"Jón Ólafsson--Institute of Earth Sciences\"\n",
      "[1] \"Vincent Rommelaere--Laboratoire de Glaciologie et Géophysique de l’Environnement\"\n",
      "[1] \"Catherine Ritz--Laboratoire de Glaciologie et Géophysique de l’Environnement\"\n",
      "[1] \"Add: 0000-0003-0785-8571\"\n"
     ]
    },
    {
     "name": "stderr",
     "output_type": "stream",
     "text": [
      "Warning message:\n",
      "“Unknown or uninitialised column: `orcid-identifier.path`.”\n",
      "Warning message:\n",
      "“Unknown or uninitialised column: `orcid-identifier.path`.”\n"
     ]
    },
    {
     "name": "stdout",
     "output_type": "stream",
     "text": [
      "[1] \"Aslak Grinsted--Department of Geophysics\"\n",
      "[1] \"Dorthe Dahl-Jensen--Department of Geophysics\"\n",
      "[1] \"Add: 0000-0002-1474-1948\"\n"
     ]
    },
    {
     "name": "stderr",
     "output_type": "stream",
     "text": [
      "Warning message:\n",
      "“Unknown or uninitialised column: `orcid-identifier.path`.”\n"
     ]
    },
    {
     "name": "stdout",
     "output_type": "stream",
     "text": [
      "[1] \"Pierre-Marie Lefeuvre--Department of Geosciences, University of Oslo\"\n",
      "[1] \"Miriam Jackson--Norwegian Water Resources and Energy Directorate\"\n",
      "[1] \"Gaute Lappegard--Statkraft Energi AS\"\n",
      "[1] \"Jon Ove Hagen--Department of Geosciences, University of Oslo\"\n",
      "[1] \"Add: 0000-0002-5217-7102\"\n",
      "[1] \"Add: 0000-0003-3719-6716\"\n",
      "[1] \"Simon Schneiderbauer\"\n",
      "[1] \"Thomas Tschachler\"\n",
      "[1] \"Johann Fischbacher\"\n",
      "[1] \"Walter Hinterberger\"\n",
      "[1] \"Peter Fischer\"\n",
      "[1] \"Add: 0000-0001-7690-9884\"\n"
     ]
    },
    {
     "name": "stderr",
     "output_type": "stream",
     "text": [
      "Warning message:\n",
      "“Unknown or uninitialised column: `orcid-identifier.path`.”\n",
      "Warning message:\n",
      "“Unknown or uninitialised column: `orcid-identifier.path`.”\n"
     ]
    },
    {
     "name": "stdout",
     "output_type": "stream",
     "text": [
      "[1] \"Angelika H. H. Renner--Norwegian Polar Institute, Fram Centre\"\n",
      "[1] \"Stefan Hendricks--Alfred Wegener Institute for Polar and Marine Research\"\n",
      "[1] \"Sebastian Gerland--Norwegian Polar Institute, Fram Centre\"\n",
      "[1] \"Justin Beckers--Department of Earth and Atmospheric Sciences, University of Alberta\"\n",
      "[1] \"Christian Haas--Department of Earth and Atmospheric Sciences, University of Alberta\"\n",
      "[1] \"Thomas Krumpen--Alfred Wegener Institute for Polar and Marine Research\"\n",
      "[1] \"Add: 0000-0002-9997-6366\"\n",
      "[1] \"Add: 0000-0003-0751-3995\"\n",
      "[1] \"Add: 0000-0001-6234-8756\"\n",
      "[1] \"Add: 0000-0002-7674-3500\"\n",
      "[1] \"Add: 0000-0002-1412-3146\"\n"
     ]
    },
    {
     "name": "stderr",
     "output_type": "stream",
     "text": [
      "Warning message:\n",
      "“Unknown or uninitialised column: `orcid-identifier.path`.”\n"
     ]
    },
    {
     "name": "stdout",
     "output_type": "stream",
     "text": [
      "[1] \"Francesca Pellicciotti--Institute of Environmental Engineering\"\n",
      "[1] \"Marco Carenzo--Institute of Environmental Engineering\"\n",
      "[1] \"Jakob Helbing--Swiss Federal Institute of Aquatic Science and Technology (Eawag)\"\n",
      "[1] \"Stefan Rimkus--Institute of Environmental Engineering\"\n",
      "[1] \"Paolo Burlando--Institute of Environmental Engineering\"\n",
      "[1] \"Add: 0000-0002-1636-4226\"\n",
      "[1] \"P. Thompson Davis--Department of Natural Sciences, Bentley College\"\n",
      "[1] \"Paul R. Bierman--Department of Geology, University of Vermont\"\n",
      "[1] \"Kimberly A. Marsella--Department of Geology, University of Vermont\"\n",
      "[1] \"Marc W. Caffee--Lawrence Livermore National Laboratory, Livermore\"\n",
      "[1] \"John R. Southon--Lawrence Livermore National Laboratory, Livermore\"\n",
      "[1] \"Add: 0000-0001-9627-4601\"\n",
      "[1] \"George Royston-Bishop--Bristol Glaciology Centre, School of Geographical Sciences, University of Bristol\"\n",
      "[1] \"John C. Priscu--Department of Land Resources and Environmental Sciences, Montana State University\"\n",
      "[1] \"Martyn Tranter--Bristol Glaciology Centre, School of Geographical Sciences, University of Bristol\"\n",
      "[1] \"Brent Christner--Department of Land Resources and Environmental Sciences, Montana State University\"\n",
      "[1] \"Martin J. Siegert--Bristol Glaciology Centre, School of Geographical Sciences, University of Bristol\"\n",
      "[1] \"Victoria Lee--Bristol Glaciology Centre, School of Geographical Sciences, University of Bristol\"\n",
      "[1] \"Add: 0000-0003-2071-3094\"\n"
     ]
    },
    {
     "name": "stderr",
     "output_type": "stream",
     "text": [
      "Warning message:\n",
      "“Unknown or uninitialised column: `orcid-identifier.path`.”\n",
      "Warning message:\n",
      "“Unknown or uninitialised column: `orcid-identifier.path`.”\n",
      "Warning message:\n",
      "“Unknown or uninitialised column: `orcid-identifier.path`.”\n"
     ]
    },
    {
     "name": "stdout",
     "output_type": "stream",
     "text": [
      "[1] \"Karin Andreassen--University of Tromsø\"\n",
      "[1] \"Monica Winsborrow--University of Tromsø\"\n",
      "[1] \"Add: 0000-0002-9407-526X\"\n"
     ]
    },
    {
     "name": "stderr",
     "output_type": "stream",
     "text": [
      "Warning message:\n",
      "“Unknown or uninitialised column: `orcid-identifier.path`.”\n"
     ]
    },
    {
     "name": "stdout",
     "output_type": "stream",
     "text": [
      "[1] \"Tomasz Wawrzyniak--Institute of Geophysics, Polish Academy of Sciences\"\n",
      "[1] \"Marzena Osuch--Institute of Geophysics, Polish Academy of Sciences\"\n",
      "[1] \"Adam Nawrot--Institute of Geophysics, Polish Academy of Sciences\"\n",
      "[1] \"Jaroslaw Jan Napiorkowski--Institute of Geophysics, Polish Academy of Sciences\"\n",
      "[1] \"Add: 0000-0002-6619-6478\"\n",
      "[1] \"Add: 0000-0002-0273-4193\"\n"
     ]
    },
    {
     "name": "stderr",
     "output_type": "stream",
     "text": [
      "Warning message:\n",
      "“Unknown or uninitialised column: `orcid-identifier.path`.”\n",
      "Warning message:\n",
      "“Unknown or uninitialised column: `orcid-identifier.path`.”\n"
     ]
    },
    {
     "name": "stdout",
     "output_type": "stream",
     "text": [
      "[1] \"David P. Schneider--University of Washington\"\n",
      "[1] \"Eric J. Steig--University of Washington\"\n",
      "[1] \"Tas Van Ommen\"\n",
      "[1] \"Add: 0000-0002-2463-1718\"\n",
      "[1] \"Morimasa Takata--Institute of Low Temperature Science, Hokkaido University\"\n",
      "[1] \"Yoshinori Iizuka--Yuge National College of Maritime Technology\"\n",
      "[1] \"Takeo Hondoh--Institute of Low Temperature Science, Hokkaido University\"\n",
      "[1] \"Shuji Fujita--National Institute of Polar Research\"\n",
      "[1] \"Yoshiyuki Fujii--National Institute of Polar Research\"\n",
      "[1] \"Hitoshi Shoji--Kitami Institute of Technology\"\n",
      "[1] \"Add: 0000-0001-7241-6062\"\n",
      "[1] \"Add: 0000-0003-4129-022X\"\n",
      "[1] \"N. I. Osokin--Institute of Geography, Russian Academy of Sciences\"\n",
      "[1] \"R. S. Samoylov--Institute of Geography, Russian Academy of Sciences\"\n",
      "[1] \"A.V. Sosnovskiy--Institute of Geography, Russian Academy of Sciences\"\n",
      "[1] \"S. A. Sokratov--Institute of Geography, Russian Academy of Sciences\"\n",
      "[1] \"V. A. Zhidkov--Institute of Geography, Russian Academy of Sciences\"\n",
      "[1] \"Add: 0000-0003-4217-321X\"\n",
      "[1] \"Add: 0000-0002-4598-0968\"\n"
     ]
    },
    {
     "name": "stderr",
     "output_type": "stream",
     "text": [
      "Warning message:\n",
      "“Unknown or uninitialised column: `orcid-identifier.path`.”\n",
      "Warning message:\n",
      "“Unknown or uninitialised column: `orcid-identifier.path`.”\n"
     ]
    },
    {
     "name": "stdout",
     "output_type": "stream",
     "text": [
      "[1] \"Peter Gauer--Norwegian Geotechnical Institute\"\n",
      "[1] \"Dieter Issler--Norwegian Geotechnical Institute\"\n",
      "[1] \"Add: 0000-0003-4982-8557\"\n",
      "[1] \"Add: 0000-0003-2151-2331\"\n"
     ]
    },
    {
     "name": "stderr",
     "output_type": "stream",
     "text": [
      "Warning message:\n",
      "“Unknown or uninitialised column: `orcid-identifier.path`.”\n"
     ]
    },
    {
     "name": "stdout",
     "output_type": "stream",
     "text": [
      "[1] \"Pavel Talalay--Polar Research Center, Jilin University---0000-0002-8230-4600\"\n",
      "[1] \"Youhong Sun--Polar Research Center, Jilin University\"\n",
      "[1] \"Xiaopeng Fan--Polar Research Center, Jilin University\"\n",
      "[1] \"Nan Zhang--Polar Research Center, Jilin University\"\n",
      "[1] \"Pinlu Cao--Polar Research Center, Jilin University\"\n",
      "[1] \"Rusheng Wang--Polar Research Center, Jilin University\"\n",
      "[1] \"Alexey Markov--Polar Research Center, Jilin University\"\n",
      "[1] \"Xingchen Li--Polar Research Center, Jilin University\"\n",
      "[1] \"Yang Yang--Polar Research Center, Jilin University\"\n",
      "[1] \"Mikhail Sysoev--Polar Research Center, Jilin University\"\n",
      "[1] \"Yongwen Liu--Polar Research Center, Jilin University\"\n",
      "[1] \"Yunchen Liu--Polar Research Center, Jilin University\"\n",
      "[1] \"Wei Wu--Polar Research Center, Jilin University\"\n",
      "[1] \"Da Gong--Polar Research Center, Jilin University\"\n"
     ]
    },
    {
     "name": "stderr",
     "output_type": "stream",
     "text": [
      "Warning message:\n",
      "“Unknown or uninitialised column: `orcid-identifier.path`.”\n",
      "Warning message:\n",
      "“Unknown or uninitialised column: `orcid-identifier.path`.”\n",
      "Warning message:\n",
      "“Unknown or uninitialised column: `orcid-identifier.path`.”\n",
      "Warning message:\n",
      "“Unknown or uninitialised column: `orcid-identifier.path`.”\n",
      "Warning message:\n",
      "“Unknown or uninitialised column: `orcid-identifier.path`.”\n",
      "Warning message:\n",
      "“Unknown or uninitialised column: `orcid-identifier.path`.”\n",
      "Warning message:\n",
      "“Unknown or uninitialised column: `orcid-identifier.path`.”\n",
      "Warning message:\n",
      "“Unknown or uninitialised column: `orcid-identifier.path`.”\n",
      "Warning message:\n",
      "“Unknown or uninitialised column: `orcid-identifier.path`.”\n",
      "Warning message:\n",
      "“Unknown or uninitialised column: `orcid-identifier.path`.”\n",
      "Warning message:\n",
      "“Unknown or uninitialised column: `orcid-identifier.path`.”\n",
      "Warning message:\n",
      "“Unknown or uninitialised column: `orcid-identifier.path`.”\n",
      "Warning message:\n",
      "“Unknown or uninitialised column: `orcid-identifier.path`.”\n",
      "Warning message:\n",
      "“Unknown or uninitialised column: `orcid-identifier.path`.”\n",
      "Warning message:\n",
      "“Unknown or uninitialised column: `orcid-identifier.path`.”\n",
      "Warning message:\n",
      "“Unknown or uninitialised column: `orcid-identifier.path`.”\n",
      "Warning message:\n",
      "“Unknown or uninitialised column: `orcid-identifier.path`.”\n"
     ]
    },
    {
     "name": "stdout",
     "output_type": "stream",
     "text": [
      "[1] \"David E. Stillman--Department of Space Studies, Southwest Research Institute\"\n",
      "[1] \"Joseph A. Macgregor--Institute for Geophysics, John A. and Katherine G. Jackson School of Geosciences, University of Texas at Austin\"\n",
      "[1] \"Robert E. Grimm--Department of Space Studies, Southwest Research Institute\"\n",
      "[1] \"Add: 0000-0002-7588-1194\"\n"
     ]
    },
    {
     "name": "stderr",
     "output_type": "stream",
     "text": [
      "Warning message:\n",
      "“Unknown or uninitialised column: `orcid-identifier.path`.”\n",
      "Warning message:\n",
      "“Unknown or uninitialised column: `orcid-identifier.path`.”\n",
      "Warning message:\n",
      "“Unknown or uninitialised column: `orcid-identifier.path`.”\n",
      "Warning message:\n",
      "“Unknown or uninitialised column: `orcid-identifier.path`.”\n"
     ]
    },
    {
     "name": "stdout",
     "output_type": "stream",
     "text": [
      "[1] \"Oleg V. Nagornov--Moscow Engineering Physics Institute (State University)\"\n",
      "[1] \"Yuri V. Konovalov--Moscow Engineering Physics Institute (State University)\"\n",
      "[1] \"Vladimir Tchijov--Universidad Nacional Autónoma de México,\"\n",
      "[1] \"Add: 0000-0002-8469-9706\"\n"
     ]
    },
    {
     "name": "stderr",
     "output_type": "stream",
     "text": [
      "Warning message:\n",
      "“Unknown or uninitialised column: `orcid-identifier.path`.”\n",
      "Warning message:\n",
      "“Unknown or uninitialised column: `orcid-identifier.path`.”\n",
      "Warning message:\n",
      "“Unknown or uninitialised column: `orcid-identifier.path`.”\n",
      "Warning message:\n",
      "“Unknown or uninitialised column: `orcid-identifier.path`.”\n",
      "Warning message:\n",
      "“Unknown or uninitialised column: `orcid-identifier.path`.”\n",
      "Warning message:\n",
      "“Unknown or uninitialised column: `orcid-identifier.path`.”\n",
      "Warning message:\n",
      "“Unknown or uninitialised column: `orcid-identifier.path`.”\n",
      "Warning message:\n",
      "“Unknown or uninitialised column: `orcid-identifier.path`.”\n",
      "Warning message:\n",
      "“Unknown or uninitialised column: `orcid-identifier.path`.”\n"
     ]
    },
    {
     "name": "stdout",
     "output_type": "stream",
     "text": [
      "[1] \"Dirk Notz\"\n",
      "[1] \"M. Grae Worster\"\n",
      "[1] \"Add: 0000-0003-0365-5654\"\n",
      "[1] \"Add: 0000-0002-9248-2144\"\n"
     ]
    },
    {
     "name": "stderr",
     "output_type": "stream",
     "text": [
      "Warning message:\n",
      "“Unknown or uninitialised column: `orcid-identifier.path`.”\n",
      "Warning message:\n",
      "“Unknown or uninitialised column: `orcid-identifier.path`.”\n",
      "Warning message:\n",
      "“Unknown or uninitialised column: `orcid-identifier.path`.”\n",
      "Warning message:\n",
      "“Unknown or uninitialised column: `orcid-identifier.path`.”\n"
     ]
    },
    {
     "name": "stdout",
     "output_type": "stream",
     "text": [
      "[1] \"Shin Sugiyama\"\n",
      "[1] \"G. Hilmar Gudmundsson\"\n",
      "[1] \"Jakob Helbing\"\n",
      "[1] \"Add: 0000-0003-4236-5369\"\n"
     ]
    },
    {
     "name": "stderr",
     "output_type": "stream",
     "text": [
      "Warning message:\n",
      "“Unknown or uninitialised column: `orcid-identifier.path`.”\n",
      "Warning message:\n",
      "“Unknown or uninitialised column: `orcid-identifier.path`.”\n",
      "Warning message:\n",
      "“Unknown or uninitialised column: `orcid-identifier.path`.”\n"
     ]
    },
    {
     "name": "stdout",
     "output_type": "stream",
     "text": [
      "[1] \"M. Jackson--The Ohio State University\"\n",
      "[1] \"I.M. Whillans--The Ohio State University\"\n",
      "[1] \"Add: 0000-0003-3719-6716\"\n",
      "[1] \"Wieslaw Ziaja--Institute of Geography and Spatial Management, Jagiellonian University\"\n",
      "[1] \"Add: 0000-0003-1087-736X\"\n"
     ]
    },
    {
     "name": "stderr",
     "output_type": "stream",
     "text": [
      "Warning message:\n",
      "“Unknown or uninitialised column: `orcid-identifier.path`.”\n",
      "Warning message:\n",
      "“Unknown or uninitialised column: `orcid-identifier.path`.”\n"
     ]
    },
    {
     "name": "stdout",
     "output_type": "stream",
     "text": [
      "[1] \"Chiyuki Narama--Department of Environmental Studies, Nagoya University\"\n",
      "[1] \"Yuichi Shimamura--Department of Geography, Tokyo Metropolitan University\"\n",
      "[1] \"Daichi Nakayama--Department of Geography, Tokyo Metropolitan University\"\n",
      "[1] \"Kanatbek Abdrakhmatov--Institute of Seismology, Kyrgyz Academy of Science\"\n",
      "[1] \"Add: 0000-0002-8106-3876\"\n"
     ]
    },
    {
     "name": "stderr",
     "output_type": "stream",
     "text": [
      "Warning message:\n",
      "“Unknown or uninitialised column: `orcid-identifier.path`.”\n",
      "Warning message:\n",
      "“Unknown or uninitialised column: `orcid-identifier.path`.”\n",
      "Warning message:\n",
      "“Unknown or uninitialised column: `orcid-identifier.path`.”\n",
      "Warning message:\n",
      "“Unknown or uninitialised column: `orcid-identifier.path`.”\n"
     ]
    },
    {
     "name": "stdout",
     "output_type": "stream",
     "text": [
      "[1] \"Elizabeth R. Thomas\"\n",
      "[1] \"Robert Mulvaney\"\n",
      "[1] \"Eric W. Wolff\"\n",
      "[1] \"Add: 0000-0002-3010-6493\"\n",
      "[1] \"Add: 0000-0002-5372-8148\"\n",
      "[1] \"Add: 0000-0002-5914-8531\"\n"
     ]
    },
    {
     "name": "stderr",
     "output_type": "stream",
     "text": [
      "Warning message:\n",
      "“Unknown or uninitialised column: `orcid-identifier.path`.”\n",
      "Warning message:\n",
      "“Unknown or uninitialised column: `orcid-identifier.path`.”\n",
      "Warning message:\n",
      "“Unknown or uninitialised column: `orcid-identifier.path`.”\n",
      "Warning message:\n",
      "“Unknown or uninitialised column: `orcid-identifier.path`.”\n",
      "Warning message:\n",
      "“Unknown or uninitialised column: `orcid-identifier.path`.”\n",
      "Warning message:\n",
      "“Unknown or uninitialised column: `orcid-identifier.path`.”\n",
      "Warning message:\n",
      "“Unknown or uninitialised column: `orcid-identifier.path`.”\n"
     ]
    },
    {
     "name": "stdout",
     "output_type": "stream",
     "text": [
      "[1] \"Rijan Bhakta Kayastha--Max Planck Institute for Biogeochemistry\"\n",
      "[1] \"Sandy P. Harrison--Max Planck Institute for Biogeochemistry\"\n",
      "[1] \"Add: 0000-0002-5896-1731\"\n",
      "[1] \"Add: 0000-0001-5687-1903\"\n"
     ]
    },
    {
     "name": "stderr",
     "output_type": "stream",
     "text": [
      "Warning message:\n",
      "“Unknown or uninitialised column: `orcid-identifier.path`.”\n",
      "Warning message:\n",
      "“Unknown or uninitialised column: `orcid-identifier.path`.”\n"
     ]
    },
    {
     "name": "stdout",
     "output_type": "stream",
     "text": [
      "[1] \"Jürg Schweizer\"\n",
      "[1] \"Gerard Michot\"\n",
      "[1] \"Helmut O.K. Kirchner\"\n",
      "[1] \"Add: 0000-0001-5076-2968\"\n"
     ]
    },
    {
     "name": "stderr",
     "output_type": "stream",
     "text": [
      "Warning message:\n",
      "“Unknown or uninitialised column: `orcid-identifier.path`.”\n",
      "Warning message:\n",
      "“Unknown or uninitialised column: `orcid-identifier.path`.”\n",
      "Warning message:\n",
      "“Unknown or uninitialised column: `orcid-identifier.path`.”\n",
      "Warning message:\n",
      "“Unknown or uninitialised column: `orcid-identifier.path`.”\n"
     ]
    },
    {
     "name": "stdout",
     "output_type": "stream",
     "text": [
      "[1] \"Alison F. Banwell\"\n",
      "[1] \"Martamaria Caballero\"\n",
      "[1] \"Neil S. Arnold\"\n",
      "[1] \"Neil F. Glasser\"\n",
      "[1] \"L. Mac Cathles\"\n",
      "[1] \"Douglas R. MacAyeal\"\n",
      "[1] \"Add: 0000-0001-9545-829X\"\n",
      "[1] \"Add: 0000-0002-8245-2670\"\n"
     ]
    },
    {
     "name": "stderr",
     "output_type": "stream",
     "text": [
      "Warning message:\n",
      "“Unknown or uninitialised column: `orcid-identifier.path`.”\n",
      "Warning message:\n",
      "“Unknown or uninitialised column: `orcid-identifier.path`.”\n",
      "Warning message:\n",
      "“Unknown or uninitialised column: `orcid-identifier.path`.”\n",
      "Warning message:\n",
      "“Unknown or uninitialised column: `orcid-identifier.path`.”\n",
      "Warning message:\n",
      "“Unknown or uninitialised column: `orcid-identifier.path`.”\n",
      "Warning message:\n",
      "“Unknown or uninitialised column: `orcid-identifier.path`.”\n"
     ]
    },
    {
     "name": "stdout",
     "output_type": "stream",
     "text": [
      "[1] \"W. L.Wang--Antarctic CRC\"\n",
      "[1] \"Roland C. Warner--Antarctic CRC\"\n",
      "[1] \"Add: 0000-0002-9778-3544\"\n"
     ]
    },
    {
     "name": "stderr",
     "output_type": "stream",
     "text": [
      "Warning message:\n",
      "“Unknown or uninitialised column: `orcid-identifier.path`.”\n",
      "Warning message:\n",
      "“Unknown or uninitialised column: `orcid-identifier.path`.”\n",
      "Warning message:\n",
      "“Unknown or uninitialised column: `orcid-identifier.path`.”\n"
     ]
    },
    {
     "name": "stdout",
     "output_type": "stream",
     "text": [
      "[1] \"Oliver T. Bartlett--University of Exeter---0000-0002-0347-7926\"\n",
      "[1] \"Steven J. Palmer--University of Exeter---0000-0003-3977-8509\"\n",
      "[1] \"Dustin M. Schroeder--Stanford University\"\n",
      "[1] \"Emma J. MacKie--Stanford University---0000-0002-6303-5249\"\n",
      "[1] \"Timothy T. Barrows--School of Earth, Atmospheric and Life Sciences, University of Wollongong\"\n",
      "[1] \"Alastair G. C. Graham--College of Marine Science, University of South Florida\"\n",
      "[1] \"Add: 0000-0003-2614-7177\"\n"
     ]
    },
    {
     "name": "stderr",
     "output_type": "stream",
     "text": [
      "Warning message:\n",
      "“Unknown or uninitialised column: `orcid-identifier.path`.”\n",
      "Warning message:\n",
      "“Unknown or uninitialised column: `orcid-identifier.path`.”\n",
      "Warning message:\n",
      "“Unknown or uninitialised column: `orcid-identifier.path`.”\n"
     ]
    },
    {
     "name": "stdout",
     "output_type": "stream",
     "text": [
      "[1] \"Jinro Ukita--Faculty of Science,  Niigata University\"\n",
      "[1] \"Chiyuki Narama--Research Institute for Humanity and Nature\"\n",
      "[1] \"Takeo Tadono--Japan Aerospace Exploration Agency\"\n",
      "[1] \"Tsutomu Yamanokuchi--Remote Sensing Technology Center of Japan\"\n",
      "[1] \"Nobuhiro Tomiyama--Remote Sensing Technology Center of Japan\"\n",
      "[1] \"Sachi Kawamoto--Remote Sensing Technology Center of Japan\"\n",
      "[1] \"Chika Abe--Faculty of Science,  Niigata University\"\n",
      "[1] \"Tsuyoshi Uda--Faculty of Science,  Niigata University\"\n",
      "[1] \"Hironori Yabuki--Japan Agency for Marine–Earth Science and Technology\"\n",
      "[1] \"Koji Fujita--Graduate School of Environmental Studies\"\n",
      "[1] \"Kouichi Nishimura--Graduate School of Environmental Studies\"\n",
      "[1] \"Add: 0000-0003-2521-2491\"\n",
      "[1] \"G. Zdorovennova--Northern Water Problems Institute, Karelian Scientific Centre, Russian Academy of Sciences\"\n",
      "[1] \"R. Zdorovennov--Northern Water Problems Institute, Karelian Scientific Centre, Russian Academy of Sciences\"\n",
      "[1] \"N. Palshin--Northern Water Problems Institute, Karelian Scientific Centre, Russian Academy of Sciences\"\n",
      "[1] \"A. Terzhevik--Northern Water Problems Institute, Karelian Scientific Centre, Russian Academy of Sciences\"\n",
      "[1] \"Add: 0000-0002-0837-9065\"\n",
      "[1] \"Add: 0000-0003-1695-4872\"\n",
      "[1] \"Add: 0000-0003-2726-0104\"\n"
     ]
    },
    {
     "name": "stderr",
     "output_type": "stream",
     "text": [
      "Warning message:\n",
      "“Unknown or uninitialised column: `orcid-identifier.path`.”\n",
      "Warning message:\n",
      "“Unknown or uninitialised column: `orcid-identifier.path`.”\n"
     ]
    },
    {
     "name": "stdout",
     "output_type": "stream",
     "text": [
      "[1] \"Jeevan Kafle--School of Science\"\n",
      "[1] \"Puskar R. Pokhrel--School of Science\"\n",
      "[1] \"Khim B. Khattri--School of Science\"\n",
      "[1] \"Parameshwari Kattel--School of Science\"\n",
      "[1] \"Bhadra Man Tuladhar--School of Science\"\n",
      "[1] \"Shiva P. Pudasaini--Steinmann Institute\"\n",
      "[1] \"Add: 0000-0001-5165-8337\"\n",
      "[1] \"Pirjo-Leena Forsström\"\n",
      "[1] \"Olli Sallasmaa\"\n",
      "[1] \"Ralf Greve\"\n",
      "[1] \"Thomas Zwinger\"\n",
      "[1] \"Add: 0000-0002-1341-4777\"\n",
      "[1] \"Add: 0000-0003-3360-4401\"\n"
     ]
    },
    {
     "name": "stderr",
     "output_type": "stream",
     "text": [
      "Warning message:\n",
      "“Unknown or uninitialised column: `orcid-identifier.path`.”\n",
      "Warning message:\n",
      "“Unknown or uninitialised column: `orcid-identifier.path`.”\n"
     ]
    },
    {
     "name": "stdout",
     "output_type": "stream",
     "text": [
      "[1] \"Andreas Bauder\"\n",
      "[1] \"Martin Funk\"\n",
      "[1] \"Matthias Huss\"\n",
      "[1] \"Add: 0000-0002-2377-6923\"\n",
      "[1] \"Tomoko Ikeda--Institute of Low Temperature Science, Hokkaido University\"\n",
      "[1] \"Andrey N. Salamatin--Department of Applied Mathematics, Kazan State University\"\n",
      "[1] \"Vladimir Ya. Lipenkov--Arctic and Antarctic Research Institute\"\n",
      "[1] \"Shinji Mae--Department of Applied Physics, Hokkaido University\"\n",
      "[1] \"Takeo Hondoh--Institute of Low Temperature Science, Hokkaido University\"\n",
      "[1] \"Add: 0000-0003-4129-022X\"\n"
     ]
    },
    {
     "name": "stderr",
     "output_type": "stream",
     "text": [
      "Warning message:\n",
      "“Unknown or uninitialised column: `orcid-identifier.path`.”\n",
      "Warning message:\n",
      "“Unknown or uninitialised column: `orcid-identifier.path`.”\n",
      "Warning message:\n",
      "“Unknown or uninitialised column: `orcid-identifier.path`.”\n",
      "Warning message:\n",
      "“Unknown or uninitialised column: `orcid-identifier.path`.”\n"
     ]
    },
    {
     "name": "stdout",
     "output_type": "stream",
     "text": [
      "[1] \"Jane K. Hart--Department of Geography, University of Southampton\"\n",
      "[1] \"Add: 0000-0002-2348-3944\"\n",
      "[1] \"Richard Hodgkins--Loughborough University\"\n",
      "[1] \"Adrian Fox\"\n",
      "[1] \"Anne-Marie Nuttall--School of Biological and Earth Sciences\"\n",
      "[1] \"Add: 0000-0002-6716-3491\"\n"
     ]
    },
    {
     "name": "stderr",
     "output_type": "stream",
     "text": [
      "Warning message:\n",
      "“Unknown or uninitialised column: `orcid-identifier.path`.”\n",
      "Warning message:\n",
      "“Unknown or uninitialised column: `orcid-identifier.path`.”\n"
     ]
    },
    {
     "name": "stdout",
     "output_type": "stream",
     "text": [
      "[1] \"Wei Junfeng\"\n",
      "[1] \"Liu Shiyin\"\n",
      "[1] \"Guo Wanqin\"\n",
      "[1] \"Yao Xiaojun\"\n",
      "[1] \"Xu Junli\"\n",
      "[1] \"Bao Weijia\"\n",
      "[1] \"Jiang Zongli\"\n",
      "[1] \"Add: 0000-0002-3211-9300\"\n"
     ]
    },
    {
     "name": "stderr",
     "output_type": "stream",
     "text": [
      "Warning message:\n",
      "“Unknown or uninitialised column: `orcid-identifier.path`.”\n",
      "Warning message:\n",
      "“Unknown or uninitialised column: `orcid-identifier.path`.”\n",
      "Warning message:\n",
      "“Unknown or uninitialised column: `orcid-identifier.path`.”\n",
      "Warning message:\n",
      "“Unknown or uninitialised column: `orcid-identifier.path`.”\n",
      "Warning message:\n",
      "“Unknown or uninitialised column: `orcid-identifier.path`.”\n",
      "Warning message:\n",
      "“Unknown or uninitialised column: `orcid-identifier.path`.”\n",
      "Warning message:\n",
      "“Unknown or uninitialised column: `orcid-identifier.path`.”\n",
      "Warning message:\n",
      "“Unknown or uninitialised column: `orcid-identifier.path`.”\n",
      "Warning message:\n",
      "“Unknown or uninitialised column: `orcid-identifier.path`.”\n",
      "Warning message:\n",
      "“Unknown or uninitialised column: `orcid-identifier.path`.”\n"
     ]
    },
    {
     "name": "stdout",
     "output_type": "stream",
     "text": [
      "[1] \"Xiaohua Gou--Center for Arid Environment and Paleoclimate Research, Lanzhou University\"\n",
      "[1] \"Fahu Chen--Center for Arid Environment and Paleoclimate Research, Lanzhou University\"\n",
      "[1] \"Meixue Yang--Cold and Arid Regions Environmental and Engineering Research Institute, Chinese Academy of Sciences\"\n",
      "[1] \"Gordon Jacoby--Tree-Ring Laboratory, Lamont–Doherty Earth Observatory, Columbia University\"\n",
      "[1] \"Jianfeng Peng--Center for Arid Environment and Paleoclimate Research, Lanzhou University\"\n",
      "[1] \"Yongxiang Zhang--Center for Arid Environment and Paleoclimate Research, Lanzhou University\"\n",
      "[1] \"Add: 0000-0002-8874-1035\"\n"
     ]
    },
    {
     "name": "stderr",
     "output_type": "stream",
     "text": [
      "Warning message:\n",
      "“Unknown or uninitialised column: `orcid-identifier.path`.”\n",
      "Warning message:\n",
      "“Unknown or uninitialised column: `orcid-identifier.path`.”\n",
      "Warning message:\n",
      "“Unknown or uninitialised column: `orcid-identifier.path`.”\n",
      "Warning message:\n",
      "“Unknown or uninitialised column: `orcid-identifier.path`.”\n",
      "Warning message:\n",
      "“Unknown or uninitialised column: `orcid-identifier.path`.”\n",
      "Warning message:\n",
      "“Unknown or uninitialised column: `orcid-identifier.path`.”\n"
     ]
    },
    {
     "name": "stdout",
     "output_type": "stream",
     "text": [
      "[1] \"D.M. Etheridge\"\n",
      "[1] \"G.I. Pearman\"\n",
      "[1] \"F. de Silva\"\n",
      "[1] \"Add: 0000-0001-7970-2002\"\n",
      "[1] \"Anja Rösel--Institute of Oceanography, University of Hamburg\"\n",
      "[1] \"Lars Kaleschke--Institute of Oceanography, University of Hamburg\"\n",
      "[1] \"Add: 0000-0002-1802-1219\"\n",
      "[1] \"Add: 0000-0001-7086-3299\"\n"
     ]
    },
    {
     "name": "stderr",
     "output_type": "stream",
     "text": [
      "Warning message:\n",
      "“Unknown or uninitialised column: `orcid-identifier.path`.”\n",
      "Warning message:\n",
      "“Unknown or uninitialised column: `orcid-identifier.path`.”\n",
      "Warning message:\n",
      "“Unknown or uninitialised column: `orcid-identifier.path`.”\n",
      "Warning message:\n",
      "“Unknown or uninitialised column: `orcid-identifier.path`.”\n",
      "Warning message:\n",
      "“Unknown or uninitialised column: `orcid-identifier.path`.”\n"
     ]
    },
    {
     "name": "stdout",
     "output_type": "stream",
     "text": [
      "[1] \"M.A. Carignano\"\n",
      "[1] \"E. Baskaran\"\n",
      "[1] \"P.B. Shepson\"\n",
      "[1] \"I. Szleifer\"\n",
      "[1] \"Add: 0000-0001-8345-7724\"\n"
     ]
    },
    {
     "name": "stderr",
     "output_type": "stream",
     "text": [
      "Warning message:\n",
      "“Unknown or uninitialised column: `orcid-identifier.path`.”\n",
      "Warning message:\n",
      "“Unknown or uninitialised column: `orcid-identifier.path`.”\n",
      "Warning message:\n",
      "“Unknown or uninitialised column: `orcid-identifier.path`.”\n",
      "Warning message:\n",
      "“Unknown or uninitialised column: `orcid-identifier.path`.”\n",
      "Warning message:\n",
      "“Unknown or uninitialised column: `orcid-identifier.path`.”\n"
     ]
    },
    {
     "name": "stdout",
     "output_type": "stream",
     "text": [
      "[1] \"Ian M. Howat--Department of Earth Sciences, University of California\"\n",
      "[1] \"Slawek Tulaczyk--Department of Earth Sciences, University of California\"\n",
      "[1] \"Add: 0000-0002-9711-4332\"\n",
      "[1] \"Add: 0000-0002-8072-6260\"\n"
     ]
    },
    {
     "name": "stderr",
     "output_type": "stream",
     "text": [
      "Warning message:\n",
      "“Unknown or uninitialised column: `orcid-identifier.path`.”\n",
      "Warning message:\n",
      "“Unknown or uninitialised column: `orcid-identifier.path`.”\n",
      "Warning message:\n",
      "“Unknown or uninitialised column: `orcid-identifier.path`.”\n",
      "Warning message:\n",
      "“Unknown or uninitialised column: `orcid-identifier.path`.”\n"
     ]
    },
    {
     "name": "stdout",
     "output_type": "stream",
     "text": [
      "[1] \"Rebecca A. Segal--University of Victoria---0000-0003-3474-6989\"\n",
      "[1] \"Randall K. Scharien--University of Victoria\"\n",
      "[1] \"Silvie Cafarella--University of Victoria\"\n",
      "[1] \"Andrew Tedstone--Université de Fribourg\"\n"
     ]
    },
    {
     "name": "stderr",
     "output_type": "stream",
     "text": [
      "Warning message:\n",
      "“Unknown or uninitialised column: `orcid-identifier.path`.”\n",
      "Warning message:\n",
      "“Unknown or uninitialised column: `orcid-identifier.path`.”\n",
      "Warning message:\n",
      "“Unknown or uninitialised column: `orcid-identifier.path`.”\n"
     ]
    },
    {
     "name": "stdout",
     "output_type": "stream",
     "text": [
      "[1] \"T.V. Schuler--Department of Geosciences, University of Oslo,\"\n",
      "[1] \"K. Melvold--Department of Geosciences, University of Oslo,\"\n",
      "[1] \"J.O. Hagen--Department of Geosciences, University of Oslo,\"\n",
      "[1] \"R. Hock--Department of Physical Geography and Quaternary Geology, Stockholm University\"\n",
      "[1] \"Add: 0000-0003-0972-3929\"\n",
      "[1] \"Add: 0000-0001-8336-9441\"\n"
     ]
    },
    {
     "name": "stderr",
     "output_type": "stream",
     "text": [
      "Warning message:\n",
      "“Unknown or uninitialised column: `orcid-identifier.path`.”\n"
     ]
    },
    {
     "name": "stdout",
     "output_type": "stream",
     "text": [
      "[1] \"J.D. Barker--Byrd Polar Research Center, The Ohio State University\"\n",
      "[1] \"J.L. Klassen--Department of Biological Sciences, University of Alberta\"\n",
      "[1] \"M.J. Sharp--Department of Earth and Atmospheric Sciences, University of Alberta\"\n",
      "[1] \"S.J. Fitzsimons--Department of Geography, University of Otago\"\n",
      "[1] \"R.J. Turner--Department of Biological Sciences, University of Calgary\"\n",
      "[1] \"Add: 0000-0003-1661-2709\"\n",
      "[1] \"Add: 0000-0003-1745-8838\"\n"
     ]
    },
    {
     "name": "stderr",
     "output_type": "stream",
     "text": [
      "Warning message:\n",
      "“Unknown or uninitialised column: `orcid-identifier.path`.”\n"
     ]
    },
    {
     "name": "stdout",
     "output_type": "stream",
     "text": [
      "[1] \"S. Sun--College of Global Change and Earth Systerm Science, Beijing Normal University\"\n",
      "[1] \"S. L. Cornford--School of Geographical Sciences, University of Bristol\"\n",
      "[1] \"D. E. Gwyther--Institute for Marine and Antarctic Studies, University of Tasmania\"\n",
      "[1] \"R. M. Gladstone--ETH Zürich, Versuchsanstalt für Wasserbau, Hydrologie und Glaziologie VAW\"\n",
      "[1] \"B. K. Galton-Fenzi--Antarctic Climate & Ecosystems Cooperative Research Centre, University of Tasmania\"\n",
      "[1] \"L. Zhao--College of Global Change and Earth Systerm Science, Beijing Normal University\"\n",
      "[1] \"J. C. Moore--College of Global Change and Earth Systerm Science, Beijing Normal University\"\n",
      "[1] \"Add: 0000-0002-7218-2785\"\n",
      "[1] \"Add: 0000-0003-1404-4103\"\n",
      "[1] \"Add: 0000-0003-1844-274X\"\n"
     ]
    },
    {
     "name": "stderr",
     "output_type": "stream",
     "text": [
      "Warning message:\n",
      "“Unknown or uninitialised column: `orcid-identifier.path`.”\n",
      "Warning message:\n",
      "“Unknown or uninitialised column: `orcid-identifier.path`.”\n",
      "Warning message:\n",
      "“Unknown or uninitialised column: `orcid-identifier.path`.”\n",
      "Warning message:\n",
      "“Unknown or uninitialised column: `orcid-identifier.path`.”\n"
     ]
    },
    {
     "name": "stdout",
     "output_type": "stream",
     "text": [
      "[1] \"Naoko Nagatsuka--National Institute of Polar Research---0000-0002-0852-447X\"\n",
      "[1] \"Nozomu Takeuchi--Graduate School of Science, Chiba University---0000-0002-3267-5534\"\n",
      "[1] \"Ki-Cheol Shin--Research Institute for Humanity and Nature\"\n",
      "[1] \"Takanori Nakano--Faculty of Science and Engineering, Waseda University\"\n",
      "[1] \"Shin Sugiyama--Institute of Low Temperature Science, Hokkaido University\"\n",
      "[1] \"Hiroyuki Enomoto--Department of Civil and Environmental Engineering, Kitami Institute of Technology\"\n",
      "[1] \"Shuji Fujita--National Institute of Polar Research\"\n",
      "[1] \"Kotaro Fukui--Tateyama Caldera Sabo Museum\"\n",
      "[1] \"Fumio Nakazawa--National Institute of Polar Research\"\n",
      "[1] \"Per Holmlund--Department of Physical Geography and Quaternary Geology, Stockholm University\"\n",
      "[1] \"Add: 0000-0003-2106-0232\"\n",
      "[1] \"Add: 0000-0003-0127-0777\"\n",
      "[1] \"Craig R. Purdie\"\n",
      "[1] \"Patricia J. Langhorne\"\n",
      "[1] \"Greg H. Leonard\"\n",
      "[1] \"Tim G. Haskell\"\n",
      "[1] \"Add: 0000-0001-7679-9486\"\n",
      "[1] \"Add: 0000-0003-0239-7657\"\n",
      "[1] \"Veijo A. Pohjola--Department of Earth Sciences\"\n",
      "[1] \"Tõnu A. Martma--Institute of Geology\"\n",
      "[1] \"Harro A. J. Meijer--Centre for Isotope Research\"\n",
      "[1] \"John C. Moore--Arctic Centre\"\n",
      "[1] \"Elisabeth Isaksson--Norwegian Polar Institute\"\n",
      "[1] \"Rein Vaikmäe--Institute of Geology\"\n",
      "[1] \"Roderik S.W. van de Wal--Institute of Marine and Atmospheric Research\"\n",
      "[1] \"Add: 0000-0002-9837-163X\"\n",
      "[1] \"Add: 0000-0001-6851-1673\"\n",
      "[1] \"Eleanor A. Bash\"\n",
      "[1] \"Shawn J. Marshall\"\n",
      "[1] \"Add: 0000-0002-8539-6686\"\n"
     ]
    },
    {
     "name": "stderr",
     "output_type": "stream",
     "text": [
      "Warning message:\n",
      "“Unknown or uninitialised column: `orcid-identifier.path`.”\n"
     ]
    },
    {
     "name": "stdout",
     "output_type": "stream",
     "text": [
      "[1] \"Bergrun A. Oladottir--Université Blaise Pascal, OPGC and CNRS\"\n",
      "[1] \"Thor Thordarson--University of Edinburgh, School of Geoscience\"\n",
      "[1] \"Gudrun Larsen--Institute of Earth Sciences, University of Iceland\"\n",
      "[1] \"Olgeir Sigmarsson--Université Blaise Pascal, OPGC and CNRS\"\n",
      "[1] \"Add: 0000-0003-4011-7185\"\n"
     ]
    },
    {
     "name": "stderr",
     "output_type": "stream",
     "text": [
      "Warning message:\n",
      "“Unknown or uninitialised column: `orcid-identifier.path`.”\n",
      "Warning message:\n",
      "“Unknown or uninitialised column: `orcid-identifier.path`.”\n",
      "Warning message:\n",
      "“Unknown or uninitialised column: `orcid-identifier.path`.”\n"
     ]
    },
    {
     "name": "stdout",
     "output_type": "stream",
     "text": [
      "[1] \"Joseph A. MacGregor--University of Washington\"\n",
      "[1] \"Kenichi Matsuoka--University of Washington\"\n",
      "[1] \"Michelle R. Koutnik--University of Washington\"\n",
      "[1] \"Edwin D. Waddington--University of Washington\"\n",
      "[1] \"Michael Studinger--Columbia University\"\n",
      "[1] \"Dale P. Winebrenner--University of Washington\"\n",
      "[1] \"Add: 0000-0003-1265-4741\"\n"
     ]
    },
    {
     "name": "stderr",
     "output_type": "stream",
     "text": [
      "Warning message:\n",
      "“Unknown or uninitialised column: `orcid-identifier.path`.”\n",
      "Warning message:\n",
      "“Unknown or uninitialised column: `orcid-identifier.path`.”\n",
      "Warning message:\n",
      "“Unknown or uninitialised column: `orcid-identifier.path`.”\n",
      "Warning message:\n",
      "“Unknown or uninitialised column: `orcid-identifier.path`.”\n",
      "Warning message:\n",
      "“Unknown or uninitialised column: `orcid-identifier.path`.”\n",
      "Warning message:\n",
      "“Unknown or uninitialised column: `orcid-identifier.path`.”\n",
      "Warning message:\n",
      "“Unknown or uninitialised column: `orcid-identifier.path`.”\n",
      "Warning message:\n",
      "“Unknown or uninitialised column: `orcid-identifier.path`.”\n",
      "Warning message:\n",
      "“Unknown or uninitialised column: `orcid-identifier.path`.”\n",
      "Warning message:\n",
      "“Unknown or uninitialised column: `orcid-identifier.path`.”\n",
      "Warning message:\n",
      "“Unknown or uninitialised column: `orcid-identifier.path`.”\n"
     ]
    },
    {
     "name": "stdout",
     "output_type": "stream",
     "text": [
      "[1] \"H.C. Steen-Larsen--Niels Bohr Institute\"\n",
      "[1] \"D. Dahl-Jensen--Niels Bohr Institute\"\n",
      "[1] \"Add: 0000-0002-7202-5907\"\n",
      "[1] \"Add: 0000-0002-1474-1948\"\n",
      "[1] \"Robert G. Bingham\"\n",
      "[1] \"Peter W. Nienow\"\n",
      "[1] \"Martin J. Sharp\"\n",
      "[1] \"Add: 0000-0002-0630-2021\"\n"
     ]
    },
    {
     "name": "stderr",
     "output_type": "stream",
     "text": [
      "Warning message:\n",
      "“Unknown or uninitialised column: `orcid-identifier.path`.”\n",
      "Warning message:\n",
      "“Unknown or uninitialised column: `orcid-identifier.path`.”\n",
      "Warning message:\n",
      "“Unknown or uninitialised column: `orcid-identifier.path`.”\n",
      "Warning message:\n",
      "“Unknown or uninitialised column: `orcid-identifier.path`.”\n"
     ]
    },
    {
     "name": "stdout",
     "output_type": "stream",
     "text": [
      "[1] \"Ashley Dubnick--Department of Earth and Atmospheric Sciences, University of Alberta\"\n",
      "[1] \"Joel Barker--School of Earth Sciences, Ohio State University\"\n",
      "[1] \"Martin Sharp--Department of Earth and Atmospheric Sciences, University of Alberta\"\n",
      "[1] \"Jemma Wadham--School of Geographical Sciences, University of Bristol\"\n",
      "[1] \"Grzegorz Lis--School of Geographical Sciences, University of Bristol\"\n",
      "[1] \"Jon Telling--School of Geographical Sciences, University of Bristol\"\n",
      "[1] \"Sean Fitzsimons--Department of Geography, University of Otago\"\n",
      "[1] \"Miriam Jackson--Norwegian Water Resources and Energy Directorate (NVE)\"\n",
      "[1] \"Add: 0000-0003-1661-2709\"\n",
      "[1] \"Add: 0000-0001-5796-7798\"\n",
      "[1] \"Add: 0000-0003-3719-6716\"\n",
      "[1] \"Add: 0000-0002-8180-0979\"\n",
      "[1] \"M.J. Doble\"\n",
      "[1] \"D.J.L. Mercer\"\n",
      "[1] \"D.T. Meldrum\"\n",
      "[1] \"O.C. Peppe\"\n",
      "[1] \"Add: 0000-0001-8185-6510\"\n"
     ]
    },
    {
     "name": "stderr",
     "output_type": "stream",
     "text": [
      "Warning message:\n",
      "“Unknown or uninitialised column: `orcid-identifier.path`.”\n",
      "Warning message:\n",
      "“Unknown or uninitialised column: `orcid-identifier.path`.”\n",
      "Warning message:\n",
      "“Unknown or uninitialised column: `orcid-identifier.path`.”\n",
      "Warning message:\n",
      "“Unknown or uninitialised column: `orcid-identifier.path`.”\n",
      "Warning message:\n",
      "“Unknown or uninitialised column: `orcid-identifier.path`.”\n",
      "Warning message:\n",
      "“Unknown or uninitialised column: `orcid-identifier.path`.”\n",
      "Warning message:\n",
      "“Unknown or uninitialised column: `orcid-identifier.path`.”\n",
      "Warning message:\n",
      "“Unknown or uninitialised column: `orcid-identifier.path`.”\n",
      "Warning message:\n",
      "“Unknown or uninitialised column: `orcid-identifier.path`.”\n",
      "Warning message:\n",
      "“Unknown or uninitialised column: `orcid-identifier.path`.”\n"
     ]
    },
    {
     "name": "stdout",
     "output_type": "stream",
     "text": [
      "[1] \"Guisella Gacitúa--Glaciology Laboratory, Centro de Estudios Científicos (CECs)\"\n",
      "[1] \"José A. Uribe--Glaciology Laboratory, Centro de Estudios Científicos (CECs)\"\n",
      "[1] \"Ryan Wilson--Glaciology Laboratory, Centro de Estudios Científicos (CECs)\"\n",
      "[1] \"Thomas Loriaux--Glaciology Laboratory, Centro de Estudios Científicos (CECs)\"\n",
      "[1] \"Jorge Hernández--Glaciology Laboratory, Centro de Estudios Científicos (CECs)\"\n",
      "[1] \"Andrés Rivera--Glaciology Laboratory, Centro de Estudios Científicos (CECs)\"\n",
      "[1] \"Add: 0000-0003-4451-3089\"\n",
      "[1] \"Add: 0000-0002-5281-2719\"\n",
      "[1] \"Add: 0000-0002-2779-4192\"\n"
     ]
    },
    {
     "name": "stderr",
     "output_type": "stream",
     "text": [
      "Warning message:\n",
      "“Unknown or uninitialised column: `orcid-identifier.path`.”\n",
      "Warning message:\n",
      "“Unknown or uninitialised column: `orcid-identifier.path`.”\n",
      "Warning message:\n",
      "“Unknown or uninitialised column: `orcid-identifier.path`.”\n",
      "Warning message:\n",
      "“Unknown or uninitialised column: `orcid-identifier.path`.”\n",
      "Warning message:\n",
      "“Unknown or uninitialised column: `orcid-identifier.path`.”\n",
      "Warning message:\n",
      "“Unknown or uninitialised column: `orcid-identifier.path`.”\n",
      "Warning message:\n",
      "“Unknown or uninitialised column: `orcid-identifier.path`.”\n",
      "Warning message:\n",
      "“Unknown or uninitialised column: `orcid-identifier.path`.”\n"
     ]
    },
    {
     "name": "stdout",
     "output_type": "stream",
     "text": [
      "[1] \"Atsuhiro Muto--Temple University\"\n",
      "[1] \"Richard B. Alley--The Pennsylvania State University---0000-0003-1833-0115\"\n",
      "[1] \"Byron R. Parizek--The Pennsylvania State University\"\n",
      "[1] \"Sridhar Anandakrishnan--The Pennsylvania State University\"\n",
      "[1] \"Add: 0000-0002-1722-2457\"\n"
     ]
    },
    {
     "name": "stderr",
     "output_type": "stream",
     "text": [
      "Warning message:\n",
      "“Unknown or uninitialised column: `orcid-identifier.path`.”\n"
     ]
    },
    {
     "name": "stdout",
     "output_type": "stream",
     "text": [
      "[1] \"O. Eisen\"\n",
      "[1] \"A. Bauder\"\n",
      "[1] \"M. Lüthi\"\n",
      "[1] \"P. Riesen\"\n",
      "[1] \"M. Funk\"\n",
      "[1] \"Add: 0000-0002-6380-962X\"\n",
      "[1] \"Add: 0000-0003-4419-8496\"\n"
     ]
    },
    {
     "name": "stderr",
     "output_type": "stream",
     "text": [
      "Warning message:\n",
      "“Unknown or uninitialised column: `orcid-identifier.path`.”\n",
      "Warning message:\n",
      "“Unknown or uninitialised column: `orcid-identifier.path`.”\n"
     ]
    },
    {
     "name": "stdout",
     "output_type": "stream",
     "text": [
      "[1] \"Teresa G. Bárcena--Center for Geomicrobiology, University of Aarhus\"\n",
      "[1] \"Jacob C. Yde--Center for Geomicrobiology, University of Aarhus\"\n",
      "[1] \"Kai W. Finster--Department of Biological Sciences, University of Aarhus\"\n",
      "[1] \"Add: 0000-0002-9467-692X\"\n",
      "[1] \"Add: 0000-0002-6211-2601\"\n",
      "[1] \"Add: 0000-0002-9132-5542\"\n"
     ]
    },
    {
     "name": "stderr",
     "output_type": "stream",
     "text": [
      "Warning message:\n",
      "“Unknown or uninitialised column: `orcid-identifier.path`.”\n"
     ]
    },
    {
     "name": "stdout",
     "output_type": "stream",
     "text": [
      "[1] \"Marta Wenta--Institute of Oceanography, University of Gdansk\"\n",
      "[1] \"Agnieszka Herman--Institute of Oceanography, University of Gdansk\"\n",
      "[1] \"Add: 0000-0001-7264-820X\"\n",
      "[1] \"Add: 0000-0001-5112-7165\"\n",
      "[1] \"Adam D. Booth--Department of Earth Science and Engineering, Imperial College London\"\n",
      "[1] \"Andrew Mercer--Department of Physical Geography and Quaternary Geology, Stockholm University\"\n",
      "[1] \" Roger Clark--Institute of Geophysics and Tectonics, School of Earth and Environment, University of Leeds\"\n",
      "[1] \"Tavi Murray--Glaciology Group, Department of Geography, College of Science, Swansea University\"\n",
      "[1] \"Peter Jansson--Department of Physical Geography and Quaternary Geology, Stockholm University\"\n",
      "[1] \"Charlotte Axtell--Glaciology Group, Department of Geography, College of Science, Swansea University\"\n",
      "[1] \"Add: 0000-0003-2636-6126\"\n",
      "[1] \"Add: 0000-0002-8166-9608\"\n",
      "[1] \"Add: 0000-0002-8832-8806\"\n",
      "[1] \"RK Scharien--University of Victoria\"\n",
      "[1] \"R Segal--University of Victoria\"\n",
      "[1] \"JJ Yackel--University of Calgary, Cryosphere Climate Research Group\"\n",
      "[1] \"SEL Howell--Climate Research Division, Environment and Climate Change Canada\"\n",
      "[1] \"S Nasonova--University of Victoria\"\n",
      "[1] \"Add: 0000-0003-3474-6989\"\n"
     ]
    },
    {
     "name": "stderr",
     "output_type": "stream",
     "text": [
      "Warning message:\n",
      "“Unknown or uninitialised column: `orcid-identifier.path`.”\n",
      "Warning message:\n",
      "“Unknown or uninitialised column: `orcid-identifier.path`.”\n",
      "Warning message:\n",
      "“Unknown or uninitialised column: `orcid-identifier.path`.”\n",
      "Warning message:\n",
      "“Unknown or uninitialised column: `orcid-identifier.path`.”\n",
      "Warning message:\n",
      "“Unknown or uninitialised column: `orcid-identifier.path`.”\n",
      "Warning message:\n",
      "“Unknown or uninitialised column: `orcid-identifier.path`.”\n"
     ]
    },
    {
     "name": "stdout",
     "output_type": "stream",
     "text": [
      "[1] \"Horst Machguth--Department of Geography, University of Zürich-Irchel\"\n",
      "[1] \"Frank Paul--Department of Geography, University of Zürich-Irchel\"\n",
      "[1] \"Martin Hoelzle--Department of Geography, University of Zürich-Irchel\"\n",
      "[1] \"Wilfried Haeberli--Department of Geography, University of Zürich-Irchel\"\n",
      "[1] \"Add: 0000-0002-3591-4377\"\n",
      "[1] \"T. J. Fudge--Department of Geology and Geophysics, University of Wyoming\"\n",
      "[1] \"Joel T. Harper\"\n",
      "[1] \"Neil F. Humphrey--Department of Geology and Geophysics, University of Wyoming\"\n",
      "[1] \"W. Tad Pfeffer\"\n",
      "[1] \"Add: 0000-0002-6818-7479\"\n",
      "[1] \"Add: 0000-0002-5175-2080\"\n"
     ]
    },
    {
     "name": "stderr",
     "output_type": "stream",
     "text": [
      "Warning message:\n",
      "“Unknown or uninitialised column: `orcid-identifier.path`.”\n"
     ]
    },
    {
     "name": "stdout",
     "output_type": "stream",
     "text": [
      "[1] \"Daniel Farinotti--Laboratory of Hydraulics, Hydrology and Glaciology (VAW)\"\n",
      "[1] \"Hugh Corr--British Antarctic Survey\"\n",
      "[1] \"G.Hilmar Gudmundsson--British Antarctic Survey\"\n",
      "[1] \"Add: 0000-0003-3417-4570\"\n",
      "[1] \"Add: 0000-0003-4236-5369\"\n",
      "[1] \"Throstur Thorsteinsson--Department of Earth and Space Sciences\"\n",
      "[1] \"Edwin D. Waddington--Department of Earth and Space Sciences\"\n",
      "[1] \"Add: 0000-0001-5964-866X\"\n",
      "[1] \"Douglas J. Brinkerhoff--Geophysical Institute, University of Alaska Fairbanks\"\n",
      "[1] \"Colin R. Meyer--School of Engineering and Applied Sciences, Harvard University\"\n",
      "[1] \"Ed Bueler--Geophysical Institute, University of Alaska Fairbanks\"\n",
      "[1] \"Martin Truffer--Geophysical Institute, University of Alaska Fairbanks\"\n",
      "[1] \"Timothy C. Bartholomaus--Institute for Geophysics, University of Texas at Austin\"\n",
      "[1] \"Add: 0000-0002-1470-6720\"\n"
     ]
    },
    {
     "name": "stderr",
     "output_type": "stream",
     "text": [
      "Warning message:\n",
      "“Unknown or uninitialised column: `orcid-identifier.path`.”\n",
      "Warning message:\n",
      "“Unknown or uninitialised column: `orcid-identifier.path`.”\n",
      "Warning message:\n",
      "“Unknown or uninitialised column: `orcid-identifier.path`.”\n",
      "Warning message:\n",
      "“Unknown or uninitialised column: `orcid-identifier.path`.”\n"
     ]
    },
    {
     "name": "stdout",
     "output_type": "stream",
     "text": [
      "[1] \"Yukari Takeuchi--Tohkamachi Experimental Station\"\n",
      "[1] \"Hiroyuki Torita--Forest Research Department\"\n",
      "[1] \"Koichi Nishimura--Graduate School of Environmental Studies\"\n",
      "[1] \"Hiroyuki Hirashima--Snow and Ice Research Center\"\n",
      "[1] \"Add: 0000-0003-2521-2491\"\n"
     ]
    },
    {
     "name": "stderr",
     "output_type": "stream",
     "text": [
      "Warning message:\n",
      "“Unknown or uninitialised column: `orcid-identifier.path`.”\n",
      "Warning message:\n",
      "“Unknown or uninitialised column: `orcid-identifier.path`.”\n",
      "Warning message:\n",
      "“Unknown or uninitialised column: `orcid-identifier.path`.”\n"
     ]
    },
    {
     "name": "stdout",
     "output_type": "stream",
     "text": [
      "[1] \"Susanne L. Buchardt--Niels Bohr Institute\"\n",
      "[1] \"Dorthe Dahl-Jensen--Niels Bohr Institute\"\n",
      "[1] \"Add: 0000-0002-1474-1948\"\n",
      "[1] \"Regine Hock--Uppsala University\"\n",
      "[1] \"Valentina Radić--Geophysical Institute\"\n",
      "[1] \"Mattias De Woul--Stockholm University\"\n",
      "[1] \"Error in: 767 owi:0000-0002-1185-0751\"\n",
      "[1] \"Add: 0000-0001-8336-9441\"\n"
     ]
    },
    {
     "name": "stderr",
     "output_type": "stream",
     "text": [
      "Warning message:\n",
      "“Unknown or uninitialised column: `orcid-identifier.path`.”\n",
      "Warning message:\n",
      "“Unknown or uninitialised column: `orcid-identifier.path`.”\n"
     ]
    },
    {
     "name": "stdout",
     "output_type": "stream",
     "text": [
      "[1] \"Christopher J. Banks\"\n",
      "[1] \"Mark A. Brandon\"\n",
      "[1] \"Paul H. Garthwaite\"\n",
      "[1] \"Add: 0000-0003-4457-0876\"\n",
      "[1] \"Add: 0000-0002-7779-0958\"\n"
     ]
    },
    {
     "name": "stderr",
     "output_type": "stream",
     "text": [
      "Warning message:\n",
      "“Unknown or uninitialised column: `orcid-identifier.path`.”\n",
      "Warning message:\n",
      "“Unknown or uninitialised column: `orcid-identifier.path`.”\n",
      "Warning message:\n",
      "“Unknown or uninitialised column: `orcid-identifier.path`.”\n",
      "Warning message:\n",
      "“Unknown or uninitialised column: `orcid-identifier.path`.”\n",
      "Warning message:\n",
      "“Unknown or uninitialised column: `orcid-identifier.path`.”\n",
      "Warning message:\n",
      "“Unknown or uninitialised column: `orcid-identifier.path`.”\n",
      "Warning message:\n",
      "“Unknown or uninitialised column: `orcid-identifier.path`.”\n",
      "Warning message:\n",
      "“Unknown or uninitialised column: `orcid-identifier.path`.”\n",
      "Warning message:\n",
      "“Unknown or uninitialised column: `orcid-identifier.path`.”\n",
      "Warning message:\n",
      "“Unknown or uninitialised column: `orcid-identifier.path`.”\n"
     ]
    },
    {
     "name": "stdout",
     "output_type": "stream",
     "text": [
      "[1] \"Angelika H.H. Renner--Norwegian Polar Institute\"\n",
      "[1] \"Victoria Lytle--Norwegian Polar Institute\"\n",
      "[1] \"Add: 0000-0002-9997-6366\"\n"
     ]
    },
    {
     "name": "stderr",
     "output_type": "stream",
     "text": [
      "Warning message:\n",
      "“Unknown or uninitialised column: `orcid-identifier.path`.”\n",
      "Warning message:\n",
      "“Unknown or uninitialised column: `orcid-identifier.path`.”\n",
      "Warning message:\n",
      "“Unknown or uninitialised column: `orcid-identifier.path`.”\n"
     ]
    },
    {
     "name": "stdout",
     "output_type": "stream",
     "text": [
      "[1] \"Barbara T. Smith--Antarctic CRC and Australian Antarctic Division\"\n",
      "[1] \"Tas D. van Ommen--Antarctic CRC and Australian Antarctic Division\"\n",
      "[1] \"Vin I. Morgan--Antarctic CRC and Australian Antarctic Division\"\n",
      "[1] \"Add: 0000-0002-2463-1718\"\n"
     ]
    },
    {
     "name": "stderr",
     "output_type": "stream",
     "text": [
      "Warning message:\n",
      "“Unknown or uninitialised column: `orcid-identifier.path`.”\n",
      "Warning message:\n",
      "“Unknown or uninitialised column: `orcid-identifier.path`.”\n",
      "Warning message:\n",
      "“Unknown or uninitialised column: `orcid-identifier.path`.”\n",
      "Warning message:\n",
      "“Unknown or uninitialised column: `orcid-identifier.path`.”\n",
      "Warning message:\n",
      "“Unknown or uninitialised column: `orcid-identifier.path`.”\n",
      "Warning message:\n",
      "“Unknown or uninitialised column: `orcid-identifier.path`.”\n"
     ]
    },
    {
     "name": "stdout",
     "output_type": "stream",
     "text": [
      "[1] \"S. F. Ackley--Center for Advanced Measurements in Extreme Environments, University of Texas at San Antonio\"\n",
      "[1] \"S. Stammerjohn--University of Colorado\"\n",
      "[1] \"T. Maksym--Woods Hole Oceanographic Institution\"\n",
      "[1] \"M. Smith--University of Washington\"\n",
      "[1] \"J. Cassano--University of Colorado\"\n",
      "[1] \"P. Guest--NPS\"\n",
      "[1] \"J.-L. Tison--Université Libre de Bruxelles---0000-0002-9758-3454\"\n",
      "[1] \"B. Delille--University of Liège\"\n",
      "[1] \"B. Loose--Graduate School of Oceanography, University of Rhode Island\"\n",
      "[1] \"P. Sedwick--Old Dominion University\"\n",
      "[1] \"L. DePace--US Coast Guard Academy\"\n",
      "[1] \"L. Roach--University of Washington\"\n",
      "[1] \"J. Parno--Cold Regions Research and Engineering Laboratory\"\n",
      "[1] \"Add: 0000-0003-0502-8101\"\n",
      "[1] \"Jacob C. Yde--University of Aarhus\"\n",
      "[1] \"N. Tvis Knudsen--University of Aarhus\"\n",
      "[1] \"Add: 0000-0002-6211-2601\"\n",
      "[1] \"Per Holmlund--Tarfala Research Station, Department of Physical Geography and Quaternary Geology, Stockholm University\"\n",
      "[1] \"Peter Jansson--Tarfala Research Station, Department of Physical Geography and Quaternary Geology, Stockholm University\"\n",
      "[1] \"Rickard Pettersson--Tarfala Research Station, Department of Physical Geography and Quaternary Geology, Stockholm University\"\n",
      "[1] \"Add: 0000-0002-8832-8806\"\n"
     ]
    },
    {
     "name": "stderr",
     "output_type": "stream",
     "text": [
      "Warning message:\n",
      "“Unknown or uninitialised column: `orcid-identifier.path`.”\n",
      "Warning message:\n",
      "“Unknown or uninitialised column: `orcid-identifier.path`.”\n",
      "Warning message:\n",
      "“Unknown or uninitialised column: `orcid-identifier.path`.”\n",
      "Warning message:\n",
      "“Unknown or uninitialised column: `orcid-identifier.path`.”\n"
     ]
    },
    {
     "name": "stdout",
     "output_type": "stream",
     "text": [
      "[1] \"M.J. Fried\"\n",
      "[1] \"C.L. Hulbe\"\n",
      "[1] \"M.A. Fahnestock\"\n",
      "[1] \"Add: 0000-0003-4765-7037\"\n",
      "[1] \"J. McElwaine--Institute of Low Temperature Science, Hokkaido University, Sapporo\"\n",
      "[1] \"K. Nishimura--Institute of Low Temperature Science, Hokkaido University, Sapporo\"\n",
      "[1] \"Add: 0000-0002-6292-2014\"\n",
      "[1] \"Add: 0000-0003-2521-2491\"\n"
     ]
    },
    {
     "name": "stderr",
     "output_type": "stream",
     "text": [
      "Warning message:\n",
      "“Unknown or uninitialised column: `orcid-identifier.path`.”\n"
     ]
    },
    {
     "name": "stdout",
     "output_type": "stream",
     "text": [
      "[1] \"A. Jenkins\"\n",
      "[1] \"C.S.M. Doake\"\n",
      "[1] \"Add: 0000-0002-9117-0616\"\n"
     ]
    },
    {
     "name": "stderr",
     "output_type": "stream",
     "text": [
      "Warning message:\n",
      "“Unknown or uninitialised column: `orcid-identifier.path`.”\n"
     ]
    },
    {
     "name": "stdout",
     "output_type": "stream",
     "text": [
      "[1] \"Sérgio H. Faria\"\n",
      "[1] \"Gilberto M. Kremer\"\n",
      "[1] \"Kolumban Hutter\"\n",
      "[1] \"Add: 0000-0001-6067-5710\"\n"
     ]
    },
    {
     "name": "stderr",
     "output_type": "stream",
     "text": [
      "Warning message:\n",
      "“Unknown or uninitialised column: `orcid-identifier.path`.”\n"
     ]
    },
    {
     "name": "stdout",
     "output_type": "stream",
     "text": [
      "[1] \"Christina L. Hulbe\"\n",
      "[1] \"Eric Rignot\"\n",
      "[1] \"Douglas R. Macayeal\"\n",
      "[1] \"Add: 0000-0003-4765-7037\"\n"
     ]
    },
    {
     "name": "stderr",
     "output_type": "stream",
     "text": [
      "Warning message:\n",
      "“Unknown or uninitialised column: `orcid-identifier.path`.”\n",
      "Warning message:\n",
      "“Unknown or uninitialised column: `orcid-identifier.path`.”\n",
      "Warning message:\n",
      "“Unknown or uninitialised column: `orcid-identifier.path`.”\n",
      "Warning message:\n",
      "“Unknown or uninitialised column: `orcid-identifier.path`.”\n"
     ]
    },
    {
     "name": "stdout",
     "output_type": "stream",
     "text": [
      "[1] \"Carlo Baroni--Dipartimento di Scienze della Terra, Università di Pisa\"\n",
      "[1] \"Massimo Frezzotti\"\n",
      "[1] \" Maria Cristina Salvatore--Dipartimento di Scienze della Terra, Università di Roma ‘La Sapienza’\"\n",
      "[1] \"Mirco Meneghel--Dipartimento di Geografia ‘G. Morandini’, Università di Padova\"\n",
      "[1] \"Ignazio E. Tabacco--Dipartimento di Scienze della Terra, sez. Geofisica, Università di Milano\"\n",
      "[1] \"Luca Vittuari\"\n",
      "[1] \"Aldino Bondesan--Dipartimento di Geografia ‘G. Morandini’, Università di Padova\"\n",
      "[1] \"Alessandro Biasini--Dipartimento di Scienze della Terra, Università di Roma ‘La Sapienza’\"\n",
      "[1] \"Alessandro Cimbelli\"\n",
      "[1] \"Giuseppe Orombelli--Dipartimento di Scienze dell’Ambiente e del Territorio, Università di Milano-Bicocca\"\n",
      "[1] \"Add: 0000-0001-5905-4650\"\n",
      "[1] \"G. Hilmar Gudmundsson--Versuchsanstalt für Wasserbau, Hydrologie und Glaziologie\"\n",
      "[1] \"Andreas Bauder--Versuchsanstalt für Wasserbau, Hydrologie und Glaziologie\"\n",
      "[1] \"Martin Lüthi--Versuchsanstalt für Wasserbau, Hydrologie und Glaziologie\"\n",
      "[1] \"Urs H. Fischer--Versuchsanstalt für Wasserbau, Hydrologie und Glaziologie\"\n",
      "[1] \"Martin Funk--Versuchsanstalt für Wasserbau, Hydrologie und Glaziologie\"\n",
      "[1] \"Add: 0000-0003-4236-5369\"\n"
     ]
    },
    {
     "name": "stderr",
     "output_type": "stream",
     "text": [
      "Warning message:\n",
      "“Unknown or uninitialised column: `orcid-identifier.path`.”\n",
      "Warning message:\n",
      "“Unknown or uninitialised column: `orcid-identifier.path`.”\n",
      "Warning message:\n",
      "“Unknown or uninitialised column: `orcid-identifier.path`.”\n",
      "Warning message:\n",
      "“Unknown or uninitialised column: `orcid-identifier.path`.”\n",
      "Warning message:\n",
      "“Unknown or uninitialised column: `orcid-identifier.path`.”\n",
      "Warning message:\n",
      "“Unknown or uninitialised column: `orcid-identifier.path`.”\n"
     ]
    },
    {
     "name": "stdout",
     "output_type": "stream",
     "text": [
      "[1] \"Perry Bartelt--WSL Institute for Snow and Avalanche Research SLF\"\n",
      "[1] \"Othmar Buser--WSL Institute for Snow and Avalanche Research SLF\"\n",
      "[1] \"Cesar Vera Valero--WSL Institute for Snow and Avalanche Research SLF\"\n",
      "[1] \"Yves Bühler--WSL Institute for Snow and Avalanche Research SLF\"\n",
      "[1] \"Add: 0000-0002-0815-2717\"\n"
     ]
    },
    {
     "name": "stderr",
     "output_type": "stream",
     "text": [
      "Warning message:\n",
      "“Unknown or uninitialised column: `orcid-identifier.path`.”\n"
     ]
    },
    {
     "name": "stdout",
     "output_type": "stream",
     "text": [
      "[1] \"Jim Hedfors--Department of Earth Sciences, Uppsala University\"\n",
      "[1] \"Veijo Allan Pohjola--Department of Earth Sciences, Uppsala University\"\n",
      "[1] \"Add: 0000-0001-6851-1673\"\n"
     ]
    },
    {
     "name": "stderr",
     "output_type": "stream",
     "text": [
      "Warning message:\n",
      "“Unknown or uninitialised column: `orcid-identifier.path`.”\n",
      "Warning message:\n",
      "“Unknown or uninitialised column: `orcid-identifier.path`.”\n"
     ]
    },
    {
     "name": "stdout",
     "output_type": "stream",
     "text": [
      "[1] \"C. Plelmeier--Swiss Federal Institute for Snow and Avalanche Research\"\n",
      "[1] \"M. Schneebeli--Swiss Federal Institute for Snow and Avalanche Research\"\n",
      "[1] \"T. Stucki--Swiss Federal Institute for Snow and Avalanche Research\"\n",
      "[1] \"Add: 0000-0003-2872-4409\"\n"
     ]
    },
    {
     "name": "stderr",
     "output_type": "stream",
     "text": [
      "Warning message:\n",
      "“Unknown or uninitialised column: `orcid-identifier.path`.”\n",
      "Warning message:\n",
      "“Unknown or uninitialised column: `orcid-identifier.path`.”\n"
     ]
    },
    {
     "name": "stdout",
     "output_type": "stream",
     "text": [
      "[1] \"Frank Wilhelms--Alfred-Wegener-Institut Helmholtz-Zentrum für Polar- und Meeresforschung (AWI)\"\n",
      "[1] \"Heinrich Miller--Alfred-Wegener-Institut Helmholtz-Zentrum für Polar- und Meeresforschung (AWI)\"\n",
      "[1] \"Michael D. Gerasimoff--Dynamic Devices\"\n",
      "[1] \"Cord Drücker--Alfred-Wegener-Institut Helmholtz-Zentrum für Polar- und Meeresforschung (AWI)\"\n",
      "[1] \"Andreas Frenzel--Alfred-Wegener-Institut Helmholtz-Zentrum für Polar- und Meeresforschung (AWI)\"\n",
      "[1] \"Diedrich Fritzsche--Alfred-Wegener-Institut Helmholtz-Zentrum für Polar- und Meeresforschung (AWI)\"\n",
      "[1] \"Hannes Grobe--Alfred-Wegener-Institut Helmholtz-Zentrum für Polar- und Meeresforschung (AWI)\"\n",
      "[1] \"Steffen Bo Hansen--Centre for Ice and Climate, Niels Bohr Institute, University of Copenhagen\"\n",
      "[1] \"Sverrir Æ. Hilmarsson--Alfred-Wegener-Institut Helmholtz-Zentrum für Polar- und Meeresforschung (AWI)\"\n",
      "[1] \"Georg Hoffmann--Laboratoire des Sciences du Climat et de l’Environnement (LSCE/IPSL/CEA/CNRS/UVSQ), Gif-sure-Yvette, France and Institute for Marine and Atmospheric Research Utrecht (IMAU), Utrecht University\"\n",
      "[1] \"Kerstin Hörnby--Department of Physical Geography, Stockholm University, Stockholm\"\n",
      "[1] \"Andrea Jaeschke--Alfred-Wegener-Institut Helmholtz-Zentrum für Polar- und Meeresforschung (AWI)\"\n",
      "[1] \"Steinunn S. Jakobsdóttir--Alfred-Wegener-Institut Helmholtz-Zentrum für Polar- und Meeresforschung (AWI)\"\n",
      "[1] \"Paul Juckschat--Alfred-Wegener-Institut Helmholtz-Zentrum für Polar- und Meeresforschung (AWI)\"\n",
      "[1] \"Achim Karsten--Alfred-Wegener-Institut Helmholtz-Zentrum für Polar- und Meeresforschung (AWI)\"\n",
      "[1] \"Lorenz Karsten--Alfred-Wegener-Institut Helmholtz-Zentrum für Polar- und Meeresforschung (AWI)\"\n",
      "[1] \"Patrik R. Kaufmann--Climate and Environmental Physics, Physics Institute, University of Bern\"\n",
      "[1] \"Torbjörn Karlin--Department of Physical Geography, Stockholm University, Stockholm\"\n",
      "[1] \"Eberhard Kohlberg--Alfred-Wegener-Institut Helmholtz-Zentrum für Polar- und Meeresforschung (AWI)\"\n",
      "[1] \"Guido Kleffel--Alfred-Wegener-Institut Helmholtz-Zentrum für Polar- und Meeresforschung (AWI)\"\n",
      "[1] \"Anja Lambrecht--Alfred-Wegener-Institut Helmholtz-Zentrum für Polar- und Meeresforschung (AWI)\"\n",
      "[1] \"Astrid Lambrecht--Alfred-Wegener-Institut Helmholtz-Zentrum für Polar- und Meeresforschung (AWI)\"\n",
      "[1] \"Gunther Lawer--Alfred-Wegener-Institut Helmholtz-Zentrum für Polar- und Meeresforschung (AWI)\"\n",
      "[1] \"Ivan Schärmeli--Climate and Environmental Physics, Physics Institute, University of Bern\"\n",
      "[1] \"Jochen Schmitt--Alfred-Wegener-Institut Helmholtz-Zentrum für Polar- und Meeresforschung (AWI)\"\n",
      "[1] \"Simon G. Sheldon--Centre for Ice and Climate, Niels Bohr Institute, University of Copenhagen\"\n",
      "[1] \"Morimasa Takata--Department of Mechanical Engineering, Nagaoka University of Technology\"\n",
      "[1] \"Marcus Trenke--Alfred-Wegener-Institut Helmholtz-Zentrum für Polar- und Meeresforschung (AWI)\"\n",
      "[1] \"Birthe Twarloh--Alfred-Wegener-Institut Helmholtz-Zentrum für Polar- und Meeresforschung (AWI)\"\n",
      "[1] \"Fernando Valero-Delgado--Alfred-Wegener-Institut Helmholtz-Zentrum für Polar- und Meeresforschung (AWI)\"\n",
      "[1] \"Dorothee Wilhelms-Dick--Alfred-Wegener-Institut Helmholtz-Zentrum für Polar- und Meeresforschung (AWI)\"\n",
      "[1] \"Add: 0000-0001-5024-153X\"\n",
      "[1] \"Add: 0000-0002-0018-8993\"\n",
      "[1] \"Add: 0000-0001-7688-3135\"\n",
      "[1] \"Add: 0000-0003-4695-3029\"\n",
      "[1] \"E. Rignot--University of California\"\n",
      "[1] \"I. Fenty\"\n",
      "[1] \"D. Menemenlis\"\n",
      "[1] \"Y. Xu--University of California\"\n",
      "[1] \"Add: 0000-0002-3716-5517\"\n",
      "[1] \"Add: 0000-0002-3366-0481\"\n"
     ]
    },
    {
     "name": "stderr",
     "output_type": "stream",
     "text": [
      "Warning message:\n",
      "“Unknown or uninitialised column: `orcid-identifier.path`.”\n"
     ]
    },
    {
     "name": "stdout",
     "output_type": "stream",
     "text": [
      "[1] \"Carola Von Saldern\"\n",
      "[1] \"Christian Haas\"\n",
      "[1] \"Wolfgang Dierking\"\n",
      "[1] \"Add: 0000-0002-7674-3500\"\n"
     ]
    },
    {
     "name": "stderr",
     "output_type": "stream",
     "text": [
      "Warning message:\n",
      "“Unknown or uninitialised column: `orcid-identifier.path`.”\n",
      "Warning message:\n",
      "“Unknown or uninitialised column: `orcid-identifier.path`.”\n",
      "Warning message:\n",
      "“Unknown or uninitialised column: `orcid-identifier.path`.”\n",
      "Warning message:\n",
      "“Unknown or uninitialised column: `orcid-identifier.path`.”\n",
      "Warning message:\n",
      "“Unknown or uninitialised column: `orcid-identifier.path`.”\n"
     ]
    },
    {
     "name": "stdout",
     "output_type": "stream",
     "text": [
      "[1] \"Andrew Bliss--Geophysical Institute, University of Alaska Fairbanks\"\n",
      "[1] \"Regine Hock--Geophysical Institute, University of Alaska Fairbanks\"\n",
      "[1] \"J. Graham Cogley--Department of Geography, Trent University\"\n",
      "[1] \"Add: 0000-0002-8637-1923\"\n",
      "[1] \"Add: 0000-0001-8336-9441\"\n"
     ]
    },
    {
     "name": "stderr",
     "output_type": "stream",
     "text": [
      "Warning message:\n",
      "“Unknown or uninitialised column: `orcid-identifier.path`.”\n"
     ]
    },
    {
     "name": "stdout",
     "output_type": "stream",
     "text": [
      "[1] \"Łukasz Stachnik--Institute of Geography and Spatial Management, Jagiellonian University\"\n",
      "[1] \"Jacob C. Yde--Sogn og Fjordane University College\"\n",
      "[1] \"Marta Kondracka--Institute of Geophysics, Polish Academy of Sciences\"\n",
      "[1] \"Dariusz Ignatiuk--Institute of Geophysics, Polish Academy of Sciences\"\n",
      "[1] \"Magdalena Grzesik--Institute of Geophysics, Polish Academy of Sciences\"\n",
      "[1] \"Add: 0000-0003-2749-2562\"\n",
      "[1] \"Add: 0000-0001-8897-5678\"\n",
      "[1] \"Add: 0000-0002-2947-474X\"\n",
      "[1] \"Add: 0000-0002-6211-2601\"\n"
     ]
    },
    {
     "name": "stderr",
     "output_type": "stream",
     "text": [
      "Warning message:\n",
      "“Unknown or uninitialised column: `orcid-identifier.path`.”\n"
     ]
    },
    {
     "name": "stdout",
     "output_type": "stream",
     "text": [
      "[1] \"Sebastian Gerland--Norwegian Polar Institute, Fram Centre,  NO-9296 Tromsø\"\n",
      "[1] \"Christian Haas--Department of Earth & Atmospheric Sciences, University of Alberta,\"\n",
      "[1] \"Add: 0000-0002-7674-3500\"\n"
     ]
    },
    {
     "name": "stderr",
     "output_type": "stream",
     "text": [
      "Warning message:\n",
      "“Unknown or uninitialised column: `orcid-identifier.path`.”\n",
      "Warning message:\n",
      "“Unknown or uninitialised column: `orcid-identifier.path`.”\n",
      "Warning message:\n",
      "“Unknown or uninitialised column: `orcid-identifier.path`.”\n",
      "Warning message:\n",
      "“Unknown or uninitialised column: `orcid-identifier.path`.”\n",
      "Warning message:\n",
      "“Unknown or uninitialised column: `orcid-identifier.path`.”\n"
     ]
    },
    {
     "name": "stdout",
     "output_type": "stream",
     "text": [
      "[1] \"P.G. Talalay\"\n",
      "[1] \"V.S. Zagorodnov\"\n",
      "[1] \"A.N. Markov\"\n",
      "[1] \"M.A. Sysoev\"\n",
      "[1] \"J. Hong\"\n",
      "[1] \"Add: 0000-0002-8230-4600\"\n"
     ]
    },
    {
     "name": "stderr",
     "output_type": "stream",
     "text": [
      "Warning message:\n",
      "“Unknown or uninitialised column: `orcid-identifier.path`.”\n",
      "Warning message:\n",
      "“Unknown or uninitialised column: `orcid-identifier.path`.”\n",
      "Warning message:\n",
      "“Unknown or uninitialised column: `orcid-identifier.path`.”\n",
      "Warning message:\n",
      "“Unknown or uninitialised column: `orcid-identifier.path`.”\n"
     ]
    },
    {
     "name": "stdout",
     "output_type": "stream",
     "text": [
      "[1] \"Ted A. Scambos\"\n",
      "[1] \"Terry M. Haran\"\n",
      "[1] \"Robert Massom\"\n",
      "[1] \"Add: 0000-0003-1533-5084\"\n",
      "[1] \"Hans-Werner Jacobi--Alfred Wegener Institute for Polar and Marine Research\"\n",
      "[1] \"Bright Kwakye-Awuah--Alfred Wegener Institute for Polar and Marine Research\"\n",
      "[1] \"Otto Schrems--Alfred Wegener Institute for Polar and Marine Research\"\n",
      "[1] \"Add: 0000-0003-2230-3136\"\n",
      "[1] \"Marek Stibal--Bristol Glaciology Centre, School of Geographical Sciences, University of Bristol\"\n",
      "[1] \"Emily C. Lawson--Bristol Glaciology Centre, School of Geographical Sciences, University of Bristol\"\n",
      "[1] \"Grzegorz P. Lis--Bristol Glaciology Centre, School of Geographical Sciences, University of Bristol\"\n",
      "[1] \"Ka Man Mak--Bristol Glaciology Centre, School of Geographical Sciences, University of Bristol\"\n",
      "[1] \"Jemma L. Wadham--Bristol Glaciology Centre, School of Geographical Sciences, University of Bristol\"\n",
      "[1] \"Alexandre M. Anesio--Bristol Glaciology Centre, School of Geographical Sciences, University of Bristol\"\n",
      "[1] \"Add: 0000-0003-4303-4705\"\n",
      "[1] \"Add: 0000-0001-5796-7798\"\n",
      "[1] \"Add: 0000-0002-9998-5086\"\n"
     ]
    },
    {
     "name": "stderr",
     "output_type": "stream",
     "text": [
      "Warning message:\n",
      "“Unknown or uninitialised column: `orcid-identifier.path`.”\n",
      "Warning message:\n",
      "“Unknown or uninitialised column: `orcid-identifier.path`.”\n",
      "Warning message:\n",
      "“Unknown or uninitialised column: `orcid-identifier.path`.”\n",
      "Warning message:\n",
      "“Unknown or uninitialised column: `orcid-identifier.path`.”\n",
      "Warning message:\n",
      "“Unknown or uninitialised column: `orcid-identifier.path`.”\n"
     ]
    },
    {
     "name": "stdout",
     "output_type": "stream",
     "text": [
      "[1] \"Matti Leppäranta--University of Helsinki\"\n",
      "[1] \"Elisa Lindgren--University of Helsinki\"\n",
      "[1] \"Lauri Arvola--University of Helsinki\"\n",
      "[1] \"Add: 0000-0002-4754-5564\"\n",
      "[1] \"Robert W. Jacobel--St Olaf College\"\n",
      "[1] \"Knut Christianson--St Olaf College\"\n",
      "[1] \"Adam C. Wood--St Olaf College\"\n",
      "[1] \"Kevin J. Dallasanta--St Olaf College\"\n",
      "[1] \"Rebecca M. Gobel--St Olaf College\"\n",
      "[1] \"Add: 0000-0002-5411-7728\"\n"
     ]
    },
    {
     "name": "stderr",
     "output_type": "stream",
     "text": [
      "Warning message:\n",
      "“Unknown or uninitialised column: `orcid-identifier.path`.”\n"
     ]
    },
    {
     "name": "stdout",
     "output_type": "stream",
     "text": [
      "[1] \"Kaplan Yalcin--Climate Change Research Center, Institute for the Study of Earth, Oceans, and Space, University of New Hampshire\"\n",
      "[1] \"Cameron P. Wake--Climate Change Research Center, Institute for the Study of Earth, Oceans, and Space, University of New Hampshire\"\n",
      "[1] \"Shichang Kang--Institute of Tibetan Plateau Research, Chinese Academy of Sciences\"\n",
      "[1] \"Karl J. Kreutz--Climate Change Institute and Department of Earth Sciences, University of Maine\"\n",
      "[1] \"Sallie I. Whitlow--Climate Change Research Center, Institute for the Study of Earth, Oceans, and Space, University of New Hampshire\"\n",
      "[1] \"Add: 0000-0002-5961-5902\"\n",
      "[1] \"Add: 0000-0003-2115-9005\"\n"
     ]
    },
    {
     "name": "stderr",
     "output_type": "stream",
     "text": [
      "Warning message:\n",
      "“Unknown or uninitialised column: `orcid-identifier.path`.”\n"
     ]
    },
    {
     "name": "stdout",
     "output_type": "stream",
     "text": [
      "[1] \"Ekaterina A. Cherniavskaia--Arctic and Antarctic Research Institute\"\n",
      "[1] \"Ivan Sudakov--University of Dayton\"\n",
      "[1] \"Kenneth M. Golden--University of Utah\"\n",
      "[1] \"Courtenay Strong--University of Utah\"\n",
      "[1] \"Leonid A. Timokhov--Arctic and Antarctic Research Institute\"\n",
      "[1] \"Add: 0000-0003-2614-8794\"\n",
      "[1] \"Inga Zaitseva-Pärnaste--Institute of Cybernetics, Tallinn University of Technology\"\n",
      "[1] \"Tarmo Soomere--Institute of Cybernetics, Tallinn University of Technology\"\n",
      "[1] \"Add: 0000-0003-2900-0840\"\n"
     ]
    },
    {
     "name": "stderr",
     "output_type": "stream",
     "text": [
      "Warning message:\n",
      "“Unknown or uninitialised column: `orcid-identifier.path`.”\n",
      "Warning message:\n",
      "“Unknown or uninitialised column: `orcid-identifier.path`.”\n",
      "Warning message:\n",
      "“Unknown or uninitialised column: `orcid-identifier.path`.”\n",
      "Warning message:\n",
      "“Unknown or uninitialised column: `orcid-identifier.path`.”\n",
      "Warning message:\n",
      "“Unknown or uninitialised column: `orcid-identifier.path`.”\n",
      "Warning message:\n",
      "“Unknown or uninitialised column: `orcid-identifier.path`.”\n",
      "Warning message:\n",
      "“Unknown or uninitialised column: `orcid-identifier.path`.”\n",
      "Warning message:\n",
      "“Unknown or uninitialised column: `orcid-identifier.path`.”\n"
     ]
    },
    {
     "name": "stdout",
     "output_type": "stream",
     "text": [
      "[1] \"L. Maclagan Cathles--University of Chicago\"\n",
      "[1] \"Dorian S. Abbot--University of Chicago\"\n",
      "[1] \"Jeremy N. Bassis--University of Michigan\"\n",
      "[1] \"Douglas R. MacAyeal--University of Chicago\"\n",
      "[1] \"Add: 0000-0003-2946-7176\"\n",
      "[1] \"Add: 0000-0003-0647-6176\"\n"
     ]
    },
    {
     "name": "stderr",
     "output_type": "stream",
     "text": [
      "Warning message:\n",
      "“Unknown or uninitialised column: `orcid-identifier.path`.”\n",
      "Warning message:\n",
      "“Unknown or uninitialised column: `orcid-identifier.path`.”\n",
      "Warning message:\n",
      "“Unknown or uninitialised column: `orcid-identifier.path`.”\n",
      "Warning message:\n",
      "“Unknown or uninitialised column: `orcid-identifier.path`.”\n",
      "Warning message:\n",
      "“Unknown or uninitialised column: `orcid-identifier.path`.”\n",
      "Warning message:\n",
      "“Unknown or uninitialised column: `orcid-identifier.path`.”\n",
      "Warning message:\n",
      "“Unknown or uninitialised column: `orcid-identifier.path`.”\n",
      "Warning message:\n",
      "“Unknown or uninitialised column: `orcid-identifier.path`.”\n",
      "Warning message:\n",
      "“Unknown or uninitialised column: `orcid-identifier.path`.”\n",
      "Warning message:\n",
      "“Unknown or uninitialised column: `orcid-identifier.path`.”\n",
      "Warning message:\n",
      "“Unknown or uninitialised column: `orcid-identifier.path`.”\n",
      "Warning message:\n",
      "“Unknown or uninitialised column: `orcid-identifier.path`.”\n",
      "Warning message:\n",
      "“Unknown or uninitialised column: `orcid-identifier.path`.”\n",
      "Warning message:\n",
      "“Unknown or uninitialised column: `orcid-identifier.path`.”\n"
     ]
    },
    {
     "name": "stdout",
     "output_type": "stream",
     "text": [
      "[1] \"Jacob I. Walter--University of California\"\n",
      "[1] \"Jason E. Box--The Ohio State University (OSU)\"\n",
      "[1] \"Slawek Tulaczyk--University of California\"\n",
      "[1] \"Emily E. Brodsky--University of California\"\n",
      "[1] \"Ian M. Howat--The Ohio State University (OSU)\"\n",
      "[1] \"Yushin Ahn--School of Technology\"\n",
      "[1] \"Abel Brown--The Ohio State University (OSU)\"\n",
      "[1] \"Add: 0000-0002-5305-6396\"\n",
      "[1] \"Add: 0000-0001-7127-9422\"\n",
      "[1] \"Add: 0000-0002-6855-6860\"\n",
      "[1] \"Add: 0000-0002-9711-4332\"\n",
      "[1] \"Add: 0000-0002-8072-6260\"\n",
      "[1] \"Add: 0000-0003-0052-8705\"\n",
      "[1] \"D.W. McGarvie--Department of Earth Sciences, The Open University\"\n",
      "[1] \"J.A. Stevenson--Environmental Sciences, Lancaster University\"\n",
      "[1] \"R. Burgess--School of Earth, Atmospheric and Environmental Sciences, University of Manchester\"\n",
      "[1] \"H. Tuffen--Environmental Sciences, Lancaster University\"\n",
      "[1] \"A.G. Tindle--Department of Earth Sciences, The Open University\"\n",
      "[1] \"Add: 0000-0001-8829-1751\"\n",
      "[1] \"Add: 0000-0001-7674-8718\"\n"
     ]
    },
    {
     "name": "stderr",
     "output_type": "stream",
     "text": [
      "Warning message:\n",
      "“Unknown or uninitialised column: `orcid-identifier.path`.”\n",
      "Warning message:\n",
      "“Unknown or uninitialised column: `orcid-identifier.path`.”\n"
     ]
    },
    {
     "name": "stdout",
     "output_type": "stream",
     "text": [
      "[1] \"Matthias Braun--Institut für Physische Geographie, Universität Freiburg\"\n",
      "[1] \"Frank Rau--Institut für Physische Geographie, Universität Freiburg\"\n",
      "[1] \"Helmut Saurer--Institut für Physische Geographie, Universität Freiburg\"\n",
      "[1] \"Hermann Gobmann--Institut für Physische Geographie, Universität Freiburg\"\n",
      "[1] \"Add: 0000-0001-5169-1567\"\n",
      "[1] \"Colin Fox\"\n",
      "[1] \"Vernon A. Squire\"\n",
      "[1] \"Add: 0000-0002-9278-1777\"\n"
     ]
    },
    {
     "name": "stderr",
     "output_type": "stream",
     "text": [
      "Warning message:\n",
      "“Unknown or uninitialised column: `orcid-identifier.path`.”\n",
      "Warning message:\n",
      "“Unknown or uninitialised column: `orcid-identifier.path`.”\n",
      "Warning message:\n",
      "“Unknown or uninitialised column: `orcid-identifier.path`.”\n"
     ]
    },
    {
     "name": "stdout",
     "output_type": "stream",
     "text": [
      "[1] \"Roger J. Braithwaite--School of Environment and Development\"\n",
      "[1] \"Sarah C.B. Raper--Dalton Research Institute\"\n",
      "[1] \"Add: 0000-0002-0387-7591\"\n"
     ]
    },
    {
     "name": "stderr",
     "output_type": "stream",
     "text": [
      "Warning message:\n",
      "“Unknown or uninitialised column: `orcid-identifier.path`.”\n",
      "Warning message:\n",
      "“Unknown or uninitialised column: `orcid-identifier.path`.”\n",
      "Warning message:\n",
      "“Unknown or uninitialised column: `orcid-identifier.path`.”\n"
     ]
    },
    {
     "name": "stdout",
     "output_type": "stream",
     "text": [
      "[1] \"Eric Rignot--Jet Propulsion Laboratory, California Institute of Technology\"\n",
      "[1] \"Robert H. Thomas\"\n",
      "[1] \"Pannir Kanagaratnam--The University of Kansas\"\n",
      "[1] \"Gino Casassa--The University of Kansas\"\n",
      "[1] \"Earl Frederick\"\n",
      "[1] \"Sivaprasad Gogineni\"\n",
      "[1] \"William Krabill--The University of Kansas\"\n",
      "[1] \"Andrès Rivera\"\n",
      "[1] \"Robert Russell\"\n",
      "[1] \"John Sonntag\"\n",
      "[1] \"Robert Swift\"\n",
      "[1] \"James Yungel\"\n",
      "[1] \"Add: 0000-0002-2779-4192\"\n",
      "[1] \"Add: 0000-0002-3366-0481\"\n"
     ]
    },
    {
     "name": "stderr",
     "output_type": "stream",
     "text": [
      "Warning message:\n",
      "“Unknown or uninitialised column: `orcid-identifier.path`.”\n"
     ]
    },
    {
     "name": "stdout",
     "output_type": "stream",
     "text": [
      "[1] \"Thierry Faug\"\n",
      "[1] \"Benoit Chanut\"\n",
      "[1] \"Mohamed Naaim\"\n",
      "[1] \"Bertrand Perrin\"\n",
      "[1] \"Add: 0000-0001-6023-2549\"\n"
     ]
    },
    {
     "name": "stderr",
     "output_type": "stream",
     "text": [
      "Warning message:\n",
      "“Unknown or uninitialised column: `orcid-identifier.path`.”\n",
      "Warning message:\n",
      "“Unknown or uninitialised column: `orcid-identifier.path`.”\n"
     ]
    },
    {
     "name": "stdout",
     "output_type": "stream",
     "text": [
      "[1] \"D.K. Perovich--US Army Engineer Research and Development Center,  Cold Regions Research and Engineering Laboratory\"\n",
      "[1] \"K.F. Jones--US Army Engineer Research and Development Center,  Cold Regions Research and Engineering Laboratory\"\n",
      "[1] \"B. Light--Polar Science Center, Applied Physics Laboratory,  University of Washington\"\n",
      "[1] \"H. Eicken--Geophysical Institute,  University of Alaska Fairbanks\"\n",
      "[1] \"T. Markus--NASA Goddard Space Flight Center\"\n",
      "[1] \"J. Stroeve--National Snow and Ice Data Center,  University of Colorado\"\n",
      "[1] \"R. Lindsay--Polar Science Center, Applied Physics Laboratory,  University of Washington\"\n",
      "[1] \"Add: 0000-0003-2640-5738\"\n"
     ]
    },
    {
     "name": "stderr",
     "output_type": "stream",
     "text": [
      "Warning message:\n",
      "“Unknown or uninitialised column: `orcid-identifier.path`.”\n",
      "Warning message:\n",
      "“Unknown or uninitialised column: `orcid-identifier.path`.”\n",
      "Warning message:\n",
      "“Unknown or uninitialised column: `orcid-identifier.path`.”\n",
      "Warning message:\n",
      "“Unknown or uninitialised column: `orcid-identifier.path`.”\n",
      "Warning message:\n",
      "“Unknown or uninitialised column: `orcid-identifier.path`.”\n"
     ]
    },
    {
     "name": "stdout",
     "output_type": "stream",
     "text": [
      "[1] \"Sebastian Gerland--Norwegian Polar Institute\"\n",
      "[1] \"Angelika H.H. Renner--Norwegian Polar Institute\"\n",
      "[1] \"Add: 0000-0002-9997-6366\"\n"
     ]
    },
    {
     "name": "stderr",
     "output_type": "stream",
     "text": [
      "Warning message:\n",
      "“Unknown or uninitialised column: `orcid-identifier.path`.”\n",
      "Warning message:\n",
      "“Unknown or uninitialised column: `orcid-identifier.path`.”\n"
     ]
    },
    {
     "name": "stdout",
     "output_type": "stream",
     "text": [
      "[1] \"John R. Appleby--Massey University\"\n",
      "[1] \"Martin S. Brook--The University of Auckland---0000-0002-1030-3246\"\n",
      "[1] \"Travis W. Horton--University of Canterbury\"\n",
      "[1] \"Ian C. Fuller--Massey University\"\n",
      "[1] \"Katherine A. Holt--Massey University\"\n",
      "[1] \"Duncan J. Quincey--University of Leeds\"\n",
      "[1] \"Add: 0000-0003-0558-2970\"\n",
      "[1] \"Markus Engelhardt--Department of Geosciences, University of Oslo\"\n",
      "[1] \"Thomas V. Schuler--Department of Geosciences, University of Oslo\"\n",
      "[1] \"Liss M. Andreassen--Norwegian Water Resources and Energy Directorate (NVE)\"\n",
      "[1] \"Add: 0000-0003-0972-3929\"\n"
     ]
    },
    {
     "name": "stderr",
     "output_type": "stream",
     "text": [
      "Warning message:\n",
      "“Unknown or uninitialised column: `orcid-identifier.path`.”\n"
     ]
    },
    {
     "name": "stdout",
     "output_type": "stream",
     "text": [
      "[1] \"Stefan Kern--University of Hamburg\"\n",
      "[1] \"Gunnar Spreen--Norwegian Polar Institute\"\n",
      "[1] \"Add: 0000-0001-7281-3746\"\n",
      "[1] \"Add: 0000-0003-0165-8448\"\n"
     ]
    },
    {
     "name": "stderr",
     "output_type": "stream",
     "text": [
      "Warning message:\n",
      "“Unknown or uninitialised column: `orcid-identifier.path`.”\n",
      "Warning message:\n",
      "“Unknown or uninitialised column: `orcid-identifier.path`.”\n"
     ]
    },
    {
     "name": "stdout",
     "output_type": "stream",
     "text": [
      "[1] \"U. Minora--‘A. Desio’ Department of Earth Sciences, Università degli Studi di Milano\"\n",
      "[1] \"A. Senese--‘A. Desio’ Department of Earth Sciences, Università degli Studi di Milano\"\n",
      "[1] \"D. Bocchiola--Department of Civil and Environmental Engineering, Politecnico di Milano\"\n",
      "[1] \"A. Soncini--Department of Civil and Environmental Engineering, Politecnico di Milano\"\n",
      "[1] \"C. D’agata--‘A. Desio’ Department of Earth Sciences, Università degli Studi di Milano\"\n",
      "[1] \"R. Ambrosini--Department of Biotechnology and Biosciences, Università degli Studi di Milano Bicocca\"\n",
      "[1] \"C. Mayer--Ev-K2-CNR\"\n",
      "[1] \"A. Lambrecht--Bavarian Academy of Sciences and Humanities\"\n",
      "[1] \"E. Vuillermoz--Ev-K2-CNR\"\n",
      "[1] \"C. Smiraglia--‘A. Desio’ Department of Earth Sciences, Università degli Studi di Milano\"\n",
      "[1] \"G. Diolaiuti--‘A. Desio’ Department of Earth Sciences, Università degli Studi di Milano\"\n",
      "[1] \"Add: 0000-0001-9011-616X\"\n",
      "[1] \"Add: 0000-0001-6635-2074\"\n",
      "[1] \"Add: 0000-0002-3883-9309\"\n",
      "[1] \"Add: 0000-0002-7148-1468\"\n",
      "[1] \"Huiwen Xu--Polar Research Center, Jilin University\"\n",
      "[1] \"Lili Han--Institute of Exploration Techniques\"\n",
      "[1] \"Pinlu Cao--Polar Research Center, Jilin University\"\n",
      "[1] \"Mingyi Guo--Polar Research Center, Jilin University\"\n",
      "[1] \"Junjie Han--Polar Research Center, Jilin University\"\n",
      "[1] \"Dahui Yu--Polar Research Center, Jilin University\"\n",
      "[1] \"Pavel Talalay--Polar Research Center, Jilin University\"\n",
      "[1] \"Add: 0000-0002-8230-4600\"\n"
     ]
    },
    {
     "name": "stderr",
     "output_type": "stream",
     "text": [
      "Warning message:\n",
      "“Unknown or uninitialised column: `orcid-identifier.path`.”\n"
     ]
    },
    {
     "name": "stdout",
     "output_type": "stream",
     "text": [
      "[1] \"Jing Zhang--Geophysical Institute\"\n",
      "[1] \"Uma S. Bhatt--Geophysical Institute\"\n",
      "[1] \"Wendell V. Tangborn\"\n",
      "[1] \"Craig S. Lingle--Geophysical Institute\"\n",
      "[1] \"Add: 0000-0001-7530-1121\"\n",
      "[1] \"Julian B.T. Scott--British Antarctic Survey, Natural Environment Research Council\"\n",
      "[1] \"Andrew M. Smith--British Antarctic Survey, Natural Environment Research Council\"\n",
      "[1] \"Robert G. Bingham--British Antarctic Survey, Natural Environment Research Council\"\n",
      "[1] \"David G. Vaughan--British Antarctic Survey, Natural Environment Research Council\"\n",
      "[1] \"Add: 0000-0002-0630-2021\"\n",
      "[1] \"Add: 0000-0002-9065-0570\"\n"
     ]
    },
    {
     "name": "stderr",
     "output_type": "stream",
     "text": [
      "Warning message:\n",
      "“Unknown or uninitialised column: `orcid-identifier.path`.”\n",
      "Warning message:\n",
      "“Unknown or uninitialised column: `orcid-identifier.path`.”\n",
      "Warning message:\n",
      "“Unknown or uninitialised column: `orcid-identifier.path`.”\n",
      "Warning message:\n",
      "“Unknown or uninitialised column: `orcid-identifier.path`.”\n"
     ]
    },
    {
     "name": "stdout",
     "output_type": "stream",
     "text": [
      "[1] \"Peter Jansson--Department of Physical Geography, Stockholm University\"\n",
      "[1] \"Cecilia Richardson--Department of Physical Geography, Stockholm University\"\n",
      "[1] \"Stig Jonsson--Department of Physical Geography, Stockholm University\"\n",
      "[1] \"Add: 0000-0002-8832-8806\"\n"
     ]
    },
    {
     "name": "stderr",
     "output_type": "stream",
     "text": [
      "Warning message:\n",
      "“Unknown or uninitialised column: `orcid-identifier.path`.”\n"
     ]
    },
    {
     "name": "stdout",
     "output_type": "stream",
     "text": [
      "[1] \"Lynn Montgomery--University of Colorado Boulder---0000-0001-7286-2329\"\n",
      "[1] \"Lora Koenig--Cooperative Institute for Research in Environmental Studies\"\n",
      "[1] \"Jan T. M. Lenaerts--University of Colorado Boulder---0000-0003-4309-4011\"\n",
      "[1] \"Peter Kuipers Munneke--Utrecht University\"\n",
      "[1] \"Yuri V. Konovalov--Bauman Moscow State Technical University---0000-0002-8469-9706\"\n"
     ]
    },
    {
     "name": "stderr",
     "output_type": "stream",
     "text": [
      "Warning message:\n",
      "“Unknown or uninitialised column: `orcid-identifier.path`.”\n",
      "Warning message:\n",
      "“Unknown or uninitialised column: `orcid-identifier.path`.”\n",
      "Warning message:\n",
      "“Unknown or uninitialised column: `orcid-identifier.path`.”\n",
      "Warning message:\n",
      "“Unknown or uninitialised column: `orcid-identifier.path`.”\n",
      "Warning message:\n",
      "“Unknown or uninitialised column: `orcid-identifier.path`.”\n",
      "Warning message:\n",
      "“Unknown or uninitialised column: `orcid-identifier.path`.”\n"
     ]
    },
    {
     "name": "stdout",
     "output_type": "stream",
     "text": [
      "[1] \"Robert S. Fausto\"\n",
      "[1] \"Christoph Mayer\"\n",
      "[1] \"Andreas P. Ahlstrøm\"\n",
      "[1] \"Add: 0000-0003-1317-8185\"\n"
     ]
    },
    {
     "name": "stderr",
     "output_type": "stream",
     "text": [
      "Warning message:\n",
      "“Unknown or uninitialised column: `orcid-identifier.path`.”\n",
      "Warning message:\n",
      "“Unknown or uninitialised column: `orcid-identifier.path`.”\n"
     ]
    },
    {
     "name": "stdout",
     "output_type": "stream",
     "text": [
      "[1] \"Nozomu Takeuchi--Research Institute for Humanity and Nature\"\n",
      "[1] \"Jun Uetake--Tokyo Institute of Technology\"\n",
      "[1] \"Koji Fujita--Graduate School of Environmental Studies, Nagoya University\"\n",
      "[1] \"Vladimir B. Aizen--College of Mines and Earth Resources\"\n",
      "[1] \"Stanislav D. Nikitin--Glacio-Climatological Laboratory, Tomsk State University\"\n",
      "[1] \"Add: 0000-0002-3267-5534\"\n",
      "[1] \"Add: 0000-0003-3753-4981\"\n"
     ]
    },
    {
     "name": "stderr",
     "output_type": "stream",
     "text": [
      "Warning message:\n",
      "“Unknown or uninitialised column: `orcid-identifier.path`.”\n"
     ]
    },
    {
     "name": "stdout",
     "output_type": "stream",
     "text": [
      "[1] \"Daniel Steinhage--Alfred-Wegener-Institut fur Polar- und Meeresforschung\"\n",
      "[1] \"Olaf Eisen--Alfred-Wegener-Institut fur Polar- und Meeresforschung\"\n",
      "[1] \"Henrik Brink Clausen--Niels Bohr Institutet for Astronomi, Fysik og Geofysik, Københavns Universitet\"\n",
      "[1] \"Add: 0000-0002-6380-962X\"\n"
     ]
    },
    {
     "name": "stderr",
     "output_type": "stream",
     "text": [
      "Warning message:\n",
      "“Unknown or uninitialised column: `orcid-identifier.path`.”\n",
      "Warning message:\n",
      "“Unknown or uninitialised column: `orcid-identifier.path`.”\n",
      "Warning message:\n",
      "“Unknown or uninitialised column: `orcid-identifier.path`.”\n",
      "Warning message:\n",
      "“Unknown or uninitialised column: `orcid-identifier.path`.”\n",
      "Warning message:\n",
      "“Unknown or uninitialised column: `orcid-identifier.path`.”\n",
      "Warning message:\n",
      "“Unknown or uninitialised column: `orcid-identifier.path`.”\n",
      "Warning message:\n",
      "“Unknown or uninitialised column: `orcid-identifier.path`.”\n",
      "Warning message:\n",
      "“Unknown or uninitialised column: `orcid-identifier.path`.”\n",
      "Warning message:\n",
      "“Unknown or uninitialised column: `orcid-identifier.path`.”\n"
     ]
    },
    {
     "name": "stdout",
     "output_type": "stream",
     "text": [
      "[1] \"Lars H. Smedsrud\"\n",
      "[1] \"W.Paul Budgell\"\n",
      "[1] \"Alastair D. Jenkins\"\n",
      "[1] \"Bjørn Ådlandsvik\"\n",
      "[1] \"Add: 0000-0001-7391-0740\"\n"
     ]
    },
    {
     "name": "stderr",
     "output_type": "stream",
     "text": [
      "Warning message:\n",
      "“Unknown or uninitialised column: `orcid-identifier.path`.”\n"
     ]
    },
    {
     "name": "stdout",
     "output_type": "stream",
     "text": [
      "[1] \"Alāna M. Wilson--Institute of Arctic and Alpine Research\"\n",
      "[1] \"Mark W. Williams--Institute of Arctic and Alpine Research\"\n",
      "[1] \"Rijan B. Kayastha--School of Science\"\n",
      "[1] \"Adina Racoviteanu--University of Colorado Boulder\"\n",
      "[1] \"Add: 0000-0002-6629-9872\"\n",
      "[1] \"Add: 0000-0003-4954-1871\"\n",
      "[1] \"Add: 0000-0002-5896-1731\"\n",
      "[1] \"Malte Thoma\"\n",
      "[1] \"Klaus Grosfeld--Alfred Wegener Institute for Polar and Marine Research\"\n",
      "[1] \"Christoph Mayer\"\n",
      "[1] \"Frank Pattyn--Université Libre de Bruxelles\"\n",
      "[1] \"Add: 0000-0002-4033-3905\"\n",
      "[1] \"Add: 0000-0001-5936-179X\"\n",
      "[1] \"Add: 0000-0003-4805-5636\"\n"
     ]
    },
    {
     "name": "stderr",
     "output_type": "stream",
     "text": [
      "Warning message:\n",
      "“Unknown or uninitialised column: `orcid-identifier.path`.”\n",
      "Warning message:\n",
      "“Unknown or uninitialised column: `orcid-identifier.path`.”\n"
     ]
    },
    {
     "name": "stdout",
     "output_type": "stream",
     "text": [
      "[1] \"James N. McElwaine--Department of Applied Mathematics and Theoretical Physics, Centre for Mathematical Sciences, University of Cambridge\"\n",
      "[1] \"Norikazu Maeno--Institute of Low Temperature Science, Hokkaido University\"\n",
      "[1] \"Konosuke Sugiura\"\n",
      "[1] \"Add: 0000-0002-6292-2014\"\n"
     ]
    },
    {
     "name": "stderr",
     "output_type": "stream",
     "text": [
      "Warning message:\n",
      "“Unknown or uninitialised column: `orcid-identifier.path`.”\n",
      "Warning message:\n",
      "“Unknown or uninitialised column: `orcid-identifier.path`.”\n"
     ]
    },
    {
     "name": "stdout",
     "output_type": "stream",
     "text": [
      "[1] \"R.J. Braithwaite--School of Environment and Development\"\n",
      "[1] \"S.C.B. Raper--Manchester Metropolitan University\"\n",
      "[1] \"Add: 0000-0002-0387-7591\"\n"
     ]
    },
    {
     "name": "stderr",
     "output_type": "stream",
     "text": [
      "Warning message:\n",
      "“Unknown or uninitialised column: `orcid-identifier.path`.”\n",
      "Warning message:\n",
      "“Unknown or uninitialised column: `orcid-identifier.path`.”\n",
      "Warning message:\n",
      "“Unknown or uninitialised column: `orcid-identifier.path`.”\n",
      "Warning message:\n",
      "“Unknown or uninitialised column: `orcid-identifier.path`.”\n"
     ]
    },
    {
     "name": "stdout",
     "output_type": "stream",
     "text": [
      "[1] \"Sergey A. Sokratov\"\n",
      "[1] \"Norikazu Maeno--Institute of Low Temperature Science, Hokkaido University\"\n",
      "[1] \"Add: 0000-0001-9265-2935\"\n",
      "[1] \"Ralf Greve--Institute of Low Temperature Science, Hokkaido University\"\n",
      "[1] \"Ute C. Herzfeld--Cooperative Institute for Research in Environmental Sciences, University of Colorado\"\n",
      "[1] \"Add: 0000-0002-1341-4777\"\n",
      "[1] \"Tatsuya Yamamoto--Graduate School of Environmental Earth Science, Hokkaido University\"\n",
      "[1] \"Kenichi Matsuoka--Graduate School of Environmental Earth Science, Hokkaido University\"\n",
      "[1] \"Renji Naruse--Institute of Low Temperature Science, Hokkaido University\"\n",
      "[1] \"Add: 0000-0002-3587-3405\"\n",
      "[1] \"Jun Ono--University of Tokyo\"\n",
      "[1] \"Yoshiki Komuro--Japan Agency for Marine-Earth Science and Technology\"\n",
      "[1] \"Hiroaki Tatebe--Japan Agency for Marine-Earth Science and Technology\"\n",
      "[1] \"Add: 0000-0002-2265-5847\"\n"
     ]
    },
    {
     "name": "stderr",
     "output_type": "stream",
     "text": [
      "Warning message:\n",
      "“Unknown or uninitialised column: `orcid-identifier.path`.”\n",
      "Warning message:\n",
      "“Unknown or uninitialised column: `orcid-identifier.path`.”\n",
      "Warning message:\n",
      "“Unknown or uninitialised column: `orcid-identifier.path`.”\n",
      "Warning message:\n",
      "“Unknown or uninitialised column: `orcid-identifier.path`.”\n"
     ]
    },
    {
     "name": "stdout",
     "output_type": "stream",
     "text": [
      "[1] \"Andrés Rivera--Centro de Estudios Científicos\"\n",
      "[1] \"R. Zamora--Centro de Estudios Científicos\"\n",
      "[1] \"Camilo Rada--Centro de Estudios Científicos\"\n",
      "[1] \"Jonathan Walton--Antarctic Logistics and Expeditions (ALE)\"\n",
      "[1] \"Stuart Proctor--Topcon Europe Positioning B. V.\"\n",
      "[1] \"Add: 0000-0001-9865-2530\"\n",
      "[1] \"Add: 0000-0002-2779-4192\"\n",
      "[1] \"Gino Casassa\"\n",
      "[1] \"Andrés Rivera\"\n",
      "[1] \"César Acuña\"\n",
      "[1] \"Henry Brecher\"\n",
      "[1] \"Heiner Lange\"\n",
      "[1] \"Add: 0000-0002-2779-4192\"\n"
     ]
    },
    {
     "name": "stderr",
     "output_type": "stream",
     "text": [
      "Warning message:\n",
      "“Unknown or uninitialised column: `orcid-identifier.path`.”\n"
     ]
    },
    {
     "name": "stdout",
     "output_type": "stream",
     "text": [
      "[1] \"Kaj M. Hansen--Niels Bohr Institute for Astronomy\"\n",
      "[1] \"Anders Svensson--Niels Bohr Institute for Astronomy\"\n",
      "[1] \"Yun Wang--Alfred-Wegener-Institut für Polar- und Meeresforschung\"\n",
      "[1] \"Jørgen Peder Steffensen--Niels Bohr Institute for Astronomy\"\n",
      "[1] \"Add: 0000-0002-5516-1093\"\n",
      "[1] \"Add: 0000-0002-4364-6085\"\n",
      "[1] \"Lene Petersen--Institute of Environmental Engineering, ETH Zürich\"\n",
      "[1] \"Francesca Pellicciotti--Institute of Environmental Engineering, ETH Zürich\"\n",
      "[1] \"Inge Juszak--Institute of Environmental Engineering, ETH Zürich\"\n",
      "[1] \"Marco Carenzo--Institute of Environmental Engineering, ETH Zürich\"\n",
      "[1] \"Ben Brock--School of the Built and Natural Environment, Northumbria University\"\n",
      "[1] \"Error in: 997 owi:0000-0002-5748-8102\"\n",
      "[1] \"Add: 0000-0002-5377-0776\"\n"
     ]
    },
    {
     "name": "stderr",
     "output_type": "stream",
     "text": [
      "Warning message:\n",
      "“Unknown or uninitialised column: `orcid-identifier.path`.”\n",
      "Warning message:\n",
      "“Unknown or uninitialised column: `orcid-identifier.path`.”\n",
      "Warning message:\n",
      "“Unknown or uninitialised column: `orcid-identifier.path`.”\n",
      "Warning message:\n",
      "“Unknown or uninitialised column: `orcid-identifier.path`.”\n",
      "Warning message:\n",
      "“Unknown or uninitialised column: `orcid-identifier.path`.”\n",
      "Warning message:\n",
      "“Unknown or uninitialised column: `orcid-identifier.path`.”\n",
      "Warning message:\n",
      "“Unknown or uninitialised column: `orcid-identifier.path`.”\n",
      "Warning message:\n",
      "“Unknown or uninitialised column: `orcid-identifier.path`.”\n"
     ]
    },
    {
     "name": "stdout",
     "output_type": "stream",
     "text": [
      "[1] \"N. Deichmann--Institutfiir Geophysik, ETH Hönggerberg\"\n",
      "[1] \"J. Ansorge--Institutfiir Geophysik, ETH Hönggerberg\"\n",
      "[1] \"F. Scherbaum--Geowissenschaften, Unversität Potsdam\"\n",
      "[1] \"A. Aschwanden--Institutfiir Geophysik, ETH Hönggerberg\"\n",
      "[1] \"F. Bernard--Institutfiir Geophysik, ETH Hönggerberg\"\n",
      "[1] \"G. H. Gudmundsson--Versuchsanstalt für Wasserbau, Hydrologie und Glaziologie, ETH Zentrum\"\n",
      "[1] \"Add: 0000-0003-4236-5369\"\n",
      "[1] \"Miriam Jackson--Norwegian Water Resources and Energy Directorate (NVE),\"\n",
      "[1] \"Ian A. Brown--Department of Physical Geography and Quaternary Geology Stockholm University\"\n",
      "[1] \"Hallgeir Elvehøy--Norwegian Water Resources and Energy Directorate (NVE),\"\n",
      "[1] \"Add: 0000-0003-3719-6716\"\n"
     ]
    },
    {
     "name": "stderr",
     "output_type": "stream",
     "text": [
      "Warning message:\n",
      "“Unknown or uninitialised column: `orcid-identifier.path`.”\n",
      "Warning message:\n",
      "“Unknown or uninitialised column: `orcid-identifier.path`.”\n",
      "Warning message:\n",
      "“Unknown or uninitialised column: `orcid-identifier.path`.”\n",
      "Warning message:\n",
      "“Unknown or uninitialised column: `orcid-identifier.path`.”\n",
      "Warning message:\n",
      "“Unknown or uninitialised column: `orcid-identifier.path`.”\n",
      "Warning message:\n",
      "“Unknown or uninitialised column: `orcid-identifier.path`.”\n",
      "Warning message:\n",
      "“Unknown or uninitialised column: `orcid-identifier.path`.”\n",
      "Warning message:\n",
      "“Unknown or uninitialised column: `orcid-identifier.path`.”\n",
      "Warning message:\n",
      "“Unknown or uninitialised column: `orcid-identifier.path`.”\n",
      "Warning message:\n",
      "“Unknown or uninitialised column: `orcid-identifier.path`.”\n",
      "Warning message:\n",
      "“Unknown or uninitialised column: `orcid-identifier.path`.”\n",
      "Warning message:\n",
      "“Unknown or uninitialised column: `orcid-identifier.path`.”\n",
      "Warning message:\n",
      "“Unknown or uninitialised column: `orcid-identifier.path`.”\n",
      "Warning message:\n",
      "“Unknown or uninitialised column: `orcid-identifier.path`.”\n",
      "Warning message:\n",
      "“Unknown or uninitialised column: `orcid-identifier.path`.”\n",
      "Warning message:\n",
      "“Unknown or uninitialised column: `orcid-identifier.path`.”\n",
      "Warning message:\n",
      "“Unknown or uninitialised column: `orcid-identifier.path`.”\n"
     ]
    },
    {
     "name": "stdout",
     "output_type": "stream",
     "text": [
      "[1] \"Jeff W. Crompton--Simon Fraser University---0000-0001-8348-0086\"\n",
      "[1] \"Gwenn E. Flowers--Simon Fraser University---0000-0002-3574-9324\"\n",
      "[1] \"Brendan Dyck--Simon Fraser University\"\n"
     ]
    },
    {
     "name": "stderr",
     "output_type": "stream",
     "text": [
      "Warning message:\n",
      "“Unknown or uninitialised column: `orcid-identifier.path`.”\n"
     ]
    },
    {
     "name": "stdout",
     "output_type": "stream",
     "text": [
      "[1] \"Poul Christoffersen--Scott Polar Research Institute\"\n",
      "[1] \"Martin O'Leary--Scott Polar Research Institute\"\n",
      "[1] \"Jan H. Van Angelen--Institute for Marine and Atmospheric Research Utrecht\"\n",
      "[1] \"Michiel Van Den Broeke--Institute for Marine and Atmospheric Research Utrecht\"\n",
      "[1] \"Add: 0000-0003-2643-8724\"\n",
      "[1] \"Valery V. Lukin\"\n",
      "[1] \"Nikolay I. Vasiliev\"\n",
      "[1] \"Add: 0000-0002-2279-699X\"\n",
      "[1] \"G. Aðalgeirsdóttir--Versuchsanstalt für Wasserbau, Hydrologie und Glaziologie, ETH Zentrum\"\n",
      "[1] \"G. H. Gudmundsson--Versuchsanstalt für Wasserbau, Hydrologie und Glaziologie, ETH Zentrum\"\n",
      "[1] \"H. Björnsson--Science Institute, University of Iceland\"\n",
      "[1] \"Add: 0000-0003-4236-5369\"\n"
     ]
    },
    {
     "name": "stderr",
     "output_type": "stream",
     "text": [
      "Warning message:\n",
      "“Unknown or uninitialised column: `orcid-identifier.path`.”\n",
      "Warning message:\n",
      "“Unknown or uninitialised column: `orcid-identifier.path`.”\n",
      "Warning message:\n",
      "“Unknown or uninitialised column: `orcid-identifier.path`.”\n",
      "Warning message:\n",
      "“Unknown or uninitialised column: `orcid-identifier.path`.”\n",
      "Warning message:\n",
      "“Unknown or uninitialised column: `orcid-identifier.path`.”\n"
     ]
    },
    {
     "name": "stdout",
     "output_type": "stream",
     "text": [
      "[1] \"L. Augustin\"\n",
      "[1] \"H. Motoyama\"\n",
      "[1] \"F. Wilhelms\"\n",
      "[1] \"S. Johnsen--Department of Geophysics University of Copenhagen\"\n",
      "[1] \"S.B. Hansen--Department of Geophysics University of Copenhagen\"\n",
      "[1] \"P. Talalay--St Petersburg State Mining Institute\"\n",
      "[1] \"N. Vasiliev--St Petersburg State Mining Institute\"\n",
      "[1] \"Add: 0000-0002-2279-699X\"\n",
      "[1] \"Add: 0000-0001-7688-3135\"\n",
      "[1] \"Add: 0000-0002-8230-4600\"\n"
     ]
    },
    {
     "name": "stderr",
     "output_type": "stream",
     "text": [
      "Warning message:\n",
      "“Unknown or uninitialised column: `orcid-identifier.path`.”\n",
      "Warning message:\n",
      "“Unknown or uninitialised column: `orcid-identifier.path`.”\n",
      "Warning message:\n",
      "“Unknown or uninitialised column: `orcid-identifier.path`.”\n",
      "Warning message:\n",
      "“Unknown or uninitialised column: `orcid-identifier.path`.”\n",
      "Warning message:\n",
      "“Unknown or uninitialised column: `orcid-identifier.path`.”\n",
      "Warning message:\n",
      "“Unknown or uninitialised column: `orcid-identifier.path`.”\n",
      "Warning message:\n",
      "“Unknown or uninitialised column: `orcid-identifier.path`.”\n",
      "Warning message:\n",
      "“Unknown or uninitialised column: `orcid-identifier.path`.”\n",
      "Warning message:\n",
      "“Unknown or uninitialised column: `orcid-identifier.path`.”\n",
      "Warning message:\n",
      "“Unknown or uninitialised column: `orcid-identifier.path`.”\n",
      "Warning message:\n",
      "“Unknown or uninitialised column: `orcid-identifier.path`.”\n",
      "Warning message:\n",
      "“Unknown or uninitialised column: `orcid-identifier.path`.”\n",
      "Warning message:\n",
      "“Unknown or uninitialised column: `orcid-identifier.path`.”\n",
      "Warning message:\n",
      "“Unknown or uninitialised column: `orcid-identifier.path`.”\n",
      "Warning message:\n",
      "“Unknown or uninitialised column: `orcid-identifier.path`.”\n",
      "Warning message:\n",
      "“Unknown or uninitialised column: `orcid-identifier.path`.”\n",
      "Warning message:\n",
      "“Unknown or uninitialised column: `orcid-identifier.path`.”\n",
      "Warning message:\n",
      "“Unknown or uninitialised column: `orcid-identifier.path`.”\n",
      "Warning message:\n",
      "“Unknown or uninitialised column: `orcid-identifier.path`.”\n",
      "Warning message:\n",
      "“Unknown or uninitialised column: `orcid-identifier.path`.”\n"
     ]
    },
    {
     "name": "stdout",
     "output_type": "stream",
     "text": [
      "[1] \"Donghui Shangguan\"\n",
      "[1] \"Shiyin Liu\"\n",
      "[1] \"Yongjian Ding\"\n",
      "[1] \"Lizong Wu\"\n",
      "[1] \"Wei Deng\"\n",
      "[1] \"Wanqin Guo\"\n",
      "[1] \"Yuan Wang\"\n",
      "[1] \"Junli Xu\"\n",
      "[1] \"Xiaojun Yao\"\n",
      "[1] \"Zhilong Guo\"\n",
      "[1] \"Wanwan Zhu\"\n",
      "[1] \"Add: 0000-0002-3211-9300\"\n"
     ]
    },
    {
     "name": "stderr",
     "output_type": "stream",
     "text": [
      "Warning message:\n",
      "“Unknown or uninitialised column: `orcid-identifier.path`.”\n"
     ]
    },
    {
     "name": "stdout",
     "output_type": "stream",
     "text": [
      "[1] \"Eleri Evans\"\n",
      "[1] \"Richard Essery\"\n",
      "[1] \"Richard Lucas\"\n",
      "[1] \"Add: 0000-0003-2393-4271\"\n",
      "[1] \"Add: 0000-0003-1756-9095\"\n",
      "[1] \"Add: 0000-0003-3010-3302\"\n"
     ]
    },
    {
     "name": "stderr",
     "output_type": "stream",
     "text": [
      "Warning message:\n",
      "“Unknown or uninitialised column: `orcid-identifier.path`.”\n",
      "Warning message:\n",
      "“Unknown or uninitialised column: `orcid-identifier.path`.”\n",
      "Warning message:\n",
      "“Unknown or uninitialised column: `orcid-identifier.path`.”\n",
      "Warning message:\n",
      "“Unknown or uninitialised column: `orcid-identifier.path`.”\n",
      "Warning message:\n",
      "“Unknown or uninitialised column: `orcid-identifier.path`.”\n"
     ]
    },
    {
     "name": "stdout",
     "output_type": "stream",
     "text": [
      "[1] \"Andy Hodson--Department of Geography, University of Sheffield\"\n",
      "[1] \"Carl Bøggild--The University Centre in Svalbard (UNIS)\"\n",
      "[1] \"Edward Hanna--Department of Geography, University of Sheffield\"\n",
      "[1] \"Phillipe Huybrechts--Earth System Sciences & Department of Geography, Vrije Universiteit Brussel\"\n",
      "[1] \"Harry Langford--Department of Geography, University of Sheffield\"\n",
      "[1] \"Karen Cameron--Department of Geography, University of Sheffield\"\n",
      "[1] \"Alexandra Houldsworth--Department of Geography, University of Sheffield\"\n",
      "[1] \"Add: 0000-0003-4015-0452\"\n",
      "[1] \"Add: 0000-0002-1255-7987\"\n",
      "[1] \"Add: 0000-0002-8683-182X\"\n",
      "[1] \"Add: 0000-0003-1406-0525\"\n"
     ]
    },
    {
     "name": "stderr",
     "output_type": "stream",
     "text": [
      "Warning message:\n",
      "“Unknown or uninitialised column: `orcid-identifier.path`.”\n",
      "Warning message:\n",
      "“Unknown or uninitialised column: `orcid-identifier.path`.”\n",
      "Warning message:\n",
      "“Unknown or uninitialised column: `orcid-identifier.path`.”\n",
      "Warning message:\n",
      "“Unknown or uninitialised column: `orcid-identifier.path`.”\n",
      "Warning message:\n",
      "“Unknown or uninitialised column: `orcid-identifier.path`.”\n"
     ]
    },
    {
     "name": "stdout",
     "output_type": "stream",
     "text": [
      "[1] \"Takayuki Shiraiwa--Institute of Low Temperature Science\"\n",
      "[1] \"Shiro Kohshima--Faculty of Bioscience and Biotechnology\"\n",
      "[1] \"Ryu Uemura--Department of Environmental Science and Technology\"\n",
      "[1] \"Naohiro Yoshida--Department of Environmental Science and Technology\"\n",
      "[1] \"Sumito Matoba--Institute of Low Temperature Science\"\n",
      "[1] \"Jun Uetake--Faculty of Bioscience and Biotechnology\"\n",
      "[1] \"Maria Angelica Godoi--Instituto de la Patagonia\"\n",
      "[1] \"Add: 0000-0003-0454-3849\"\n"
     ]
    },
    {
     "name": "stderr",
     "output_type": "stream",
     "text": [
      "Warning message:\n",
      "“Unknown or uninitialised column: `orcid-identifier.path`.”\n",
      "Warning message:\n",
      "“Unknown or uninitialised column: `orcid-identifier.path`.”\n",
      "Warning message:\n",
      "“Unknown or uninitialised column: `orcid-identifier.path`.”\n",
      "Warning message:\n",
      "“Unknown or uninitialised column: `orcid-identifier.path`.”\n"
     ]
    },
    {
     "name": "stdout",
     "output_type": "stream",
     "text": [
      "[1] \"Nina Maass--Institute of Oceanography\"\n",
      "[1] \"Lars Kaleschke--Institute of Oceanography\"\n",
      "[1] \"Xiangshan Tian-Kunze--Institute of Oceanography\"\n",
      "[1] \"Rasmus T. Tonboe--Danish Meteorological Institute\"\n",
      "[1] \"Add: 0000-0001-7086-3299\"\n"
     ]
    },
    {
     "name": "stderr",
     "output_type": "stream",
     "text": [
      "Warning message:\n",
      "“Unknown or uninitialised column: `orcid-identifier.path`.”\n"
     ]
    },
    {
     "name": "stdout",
     "output_type": "stream",
     "text": [
      "[1] \"Agneta Fransson--Norwegian Polar Institute\"\n",
      "[1] \"Melissa Chierici--University of Gothenburg\"\n",
      "[1] \"Katarina Abrahamsson--University of Gothenburg\"\n",
      "[1] \"Maria Andersson--University of Gothenburg\"\n",
      "[1] \"Anna Granfors--University of Gothenburg\"\n",
      "[1] \"Katarina Gårdfeldt--Chalmers University of Technology\"\n",
      "[1] \"Anders Torstensson--University of Gothenburg\"\n",
      "[1] \"Angela Wulff--University of Gothenburg\"\n",
      "[1] \"Add: 0000-0002-8283-656X\"\n",
      "[1] \"Christoph Mayer--Geological Survey of Denmark and Greenland\"\n",
      "[1] \"Thomas V. Schuler--Department of Geosciences, University of Oslo\"\n",
      "[1] \"Add: 0000-0003-0972-3929\"\n",
      "[1] \"Charles Fierz--Swiss Federal Institute for Snow and Avalanche Research\"\n",
      "[1] \"Thorsten Baunach--Swiss Federal Institute for Snow and Avalanche Research\"\n",
      "[1] \"Add: 0000-0001-9490-6732\"\n",
      "[1] \"Mark C. Serreze--Cooperative Institute for Research in Environmental Sciences, University of Colorado\"\n",
      "[1] \"Mark C. Rehder--Cooperative Institute for Research in Environmental Sciences, University of Colorado\"\n",
      "[1] \"Roger G. Barry--Cooperative Institute for Research in Environmental Sciences, University of Colorado\"\n",
      "[1] \"John E. Walsh--Department of Atmospheric Sciences, University of Illinois–Urbana-Champaign\"\n",
      "[1] \"David A. Robinson--Department of Geography, Rutgers University\"\n",
      "[1] \"Add: 0000-0001-9541-5927\"\n",
      "[1] \"Evgeniy Ermolin--Instituto Antártico Argentino\"\n",
      "[1] \"Hernán De Angelis--Instituto Antártico Argentino\"\n",
      "[1] \"Pedro Skvarca--Instituto Antártico Argentino\"\n",
      "[1] \"Frank Rau--Institut für Physische Geographie, Universität Freiburg\"\n",
      "[1] \"Add: 0000-0002-8584-272X\"\n",
      "[1] \"Adrian McCallum--University of the Sunshine Coast\"\n",
      "[1] \"Add: 0000-0002-3718-614X\"\n"
     ]
    },
    {
     "name": "stderr",
     "output_type": "stream",
     "text": [
      "Warning message:\n",
      "“Unknown or uninitialised column: `orcid-identifier.path`.”\n",
      "Warning message:\n",
      "“Unknown or uninitialised column: `orcid-identifier.path`.”\n"
     ]
    },
    {
     "name": "stdout",
     "output_type": "stream",
     "text": [
      "[1] \"Fabian Lindner--Hydrology and Glaciology (VAW)---0000-0002-1697-2838\"\n",
      "[1] \"Gabi Laske--Institute of Geophysics and Planetary Physics, Scripps Institution of Oceanography\"\n",
      "[1] \"Fabian Walter--Hydrology and Glaciology (VAW)\"\n",
      "[1] \"Adrian K. Doran--Institute of Geophysics and Planetary Physics, Scripps Institution of Oceanography\"\n",
      "[1] \"Add: 0000-0001-6952-2761\"\n",
      "[1] \"G. Hilmar Gudmundsson--British Antarctic Survey, Natural Environment Research Council, Madingley Road\"\n",
      "[1] \"Gudfinna Ađalgeirsdóttir--Versuchsanstalt für Wasserbau, Hydrologie und Glaziologie, Eidgenössische Technische Hochschule\"\n",
      "[1] \"Helgi Björnsson--Science Institute, University of Iceland\"\n",
      "[1] \"Add: 0000-0003-4236-5369\"\n",
      "[1] \"Roderik S.W. van de Wal--Institute for Marine and Atmospheric Research\"\n",
      "[1] \"Robert Mulvaney--British Antarctic Survey\"\n",
      "[1] \"Elisabeth Isaksson--Norwegian Polar Institute\"\n",
      "[1] \"John C. Moore--Arctic Centre\"\n",
      "[1] \"Jean Francis Pinglot--Laboratoire de Glaciologie et Géophysique de l’Environnement du CNRS\"\n",
      "[1] \"Veijo A. Pohjola--Institute of Earth Sciences\"\n",
      "[1] \"Martijn P. A. Thomassen--Institute for Marine and Atmospheric Research\"\n",
      "[1] \"Add: 0000-0001-6851-1673\"\n",
      "[1] \"Add: 0000-0002-5372-8148\"\n"
     ]
    },
    {
     "name": "stderr",
     "output_type": "stream",
     "text": [
      "Warning message:\n",
      "“Unknown or uninitialised column: `orcid-identifier.path`.”\n",
      "Warning message:\n",
      "“Unknown or uninitialised column: `orcid-identifier.path`.”\n",
      "Warning message:\n",
      "“Unknown or uninitialised column: `orcid-identifier.path`.”\n",
      "Warning message:\n",
      "“Unknown or uninitialised column: `orcid-identifier.path`.”\n"
     ]
    },
    {
     "name": "stdout",
     "output_type": "stream",
     "text": [
      "[1] \"Torbjørn I. Østby--Institute of Geoscience, University of Oslo\"\n",
      "[1] \"Thomas V. Schuler--Institute of Geoscience, University of Oslo\"\n",
      "[1] \"Jon Ove Hagen--Institute of Geoscience, University of Oslo\"\n",
      "[1] \"Regine Hock--Geophysical Institute, University of Alaska Fairbanks\"\n",
      "[1] \"Carleen H. Reijmer--Institute for Marine and Atmospheric Research, Utrecht University\"\n",
      "[1] \"Add: 0000-0003-0972-3929\"\n",
      "[1] \"Add: 0000-0001-8336-9441\"\n"
     ]
    },
    {
     "name": "stderr",
     "output_type": "stream",
     "text": [
      "Warning message:\n",
      "“Unknown or uninitialised column: `orcid-identifier.path`.”\n",
      "Warning message:\n",
      "“Unknown or uninitialised column: `orcid-identifier.path`.”\n",
      "Warning message:\n",
      "“Unknown or uninitialised column: `orcid-identifier.path`.”\n"
     ]
    },
    {
     "name": "stdout",
     "output_type": "stream",
     "text": [
      "[1] \"D. Noone\"\n",
      "[1] \"I. Simmonds\"\n",
      "[1] \"Add: 0000-0002-4479-3255\"\n"
     ]
    },
    {
     "name": "stderr",
     "output_type": "stream",
     "text": [
      "Warning message:\n",
      "“Unknown or uninitialised column: `orcid-identifier.path`.”\n"
     ]
    },
    {
     "name": "stdout",
     "output_type": "stream",
     "text": [
      "[1] \"Oleg Nagornov--Moscow Engineering Physics Institute (Technical University)\"\n",
      "[1] \"Yuri Konovalov--Moscow Engineering Physics Institute (Technical University)\"\n",
      "[1] \"Vladimir Mikhalenko--Institute of Geography, Russian Academy of Sciences\"\n",
      "[1] \"Add: 0000-0003-1355-788X\"\n",
      "[1] \"Add: 0000-0002-8469-9706\"\n"
     ]
    },
    {
     "name": "stderr",
     "output_type": "stream",
     "text": [
      "Warning message:\n",
      "“Unknown or uninitialised column: `orcid-identifier.path`.”\n",
      "Warning message:\n",
      "“Unknown or uninitialised column: `orcid-identifier.path`.”\n",
      "Warning message:\n",
      "“Unknown or uninitialised column: `orcid-identifier.path`.”\n",
      "Warning message:\n",
      "“Unknown or uninitialised column: `orcid-identifier.path`.”\n",
      "Warning message:\n",
      "“Unknown or uninitialised column: `orcid-identifier.path`.”\n"
     ]
    },
    {
     "name": "stdout",
     "output_type": "stream",
     "text": [
      "[1] \"Bryn P. Hubbard\"\n",
      "[1] \"Alun Hubbard\"\n",
      "[1] \"Heidy M. Mader\"\n",
      "[1] \"Jean-Louis Tison\"\n",
      "[1] \"Karin Grust\"\n",
      "[1] \"Peter W. Nienow\"\n",
      "[1] \"Add: 0000-0002-9758-3454\"\n",
      "[1] \"Add: 0000-0002-3565-3875\"\n"
     ]
    },
    {
     "name": "stderr",
     "output_type": "stream",
     "text": [
      "Warning message:\n",
      "“Unknown or uninitialised column: `orcid-identifier.path`.”\n",
      "Warning message:\n",
      "“Unknown or uninitialised column: `orcid-identifier.path`.”\n",
      "Warning message:\n",
      "“Unknown or uninitialised column: `orcid-identifier.path`.”\n",
      "Warning message:\n",
      "“Unknown or uninitialised column: `orcid-identifier.path`.”\n"
     ]
    },
    {
     "name": "stdout",
     "output_type": "stream",
     "text": [
      "Error : Internal Server Error (HTTP 500).\n",
      " - org.apache.solr.client.solrj.impl.HttpSolrClient.RemoteSolrException Full validation error: Error from server at http://solr-loc.orcid.org/solr/profile: Expected mime type application/xml but got text/html. &lt;!DOCTYPE HTML PUBLIC &quot;-//W3C//DTD HTML 4.01//EN&quot; &quot;http://www.w3.org/TR/html4/strict.dtd&quot;&gt;\n",
      "&lt;html&gt;\n",
      "&lt;head&gt;\n",
      "&lt;meta http-equiv=&quot;Content-Type&quot; content=&quot;text/html;charset=utf-8&quot;&gt;\n",
      "&lt;title&gt;Service Unavailable&lt;/title&gt;\n",
      "&lt;style type=&quot;text/css&quot;&gt;\n",
      "body, p, h1 {\n",
      "  font-family: Verdana, Arial, Helvetica, sans-serif;\n",
      "}\n",
      "h2 {\n",
      "  font-family: Arial, Helvetica, sans-serif;\n",
      "  color: #b10b29;\n",
      "}\n",
      "&lt;/style&gt;\n",
      "&lt;/head&gt;\n",
      "&lt;body&gt;\n",
      "&lt;h2&gt;Service Unavailable&lt;/h2&gt;\n",
      "&lt;p&gt;The service is temporarily unavailable. Please try again later.&lt;/p&gt;\n",
      "&lt;/body&gt;\n",
      "&lt;/html&gt;\n",
      "\n"
     ]
    },
    {
     "name": "stderr",
     "output_type": "stream",
     "text": [
      "Warning message:\n",
      "“Unknown or uninitialised column: `orcid-identifier.path`.”\n",
      "Warning message:\n",
      "“Unknown or uninitialised column: `orcid-identifier.path`.”\n",
      "Warning message:\n",
      "“Unknown or uninitialised column: `orcid-identifier.path`.”\n",
      "Warning message:\n",
      "“Unknown or uninitialised column: `orcid-identifier.path`.”\n"
     ]
    },
    {
     "name": "stdout",
     "output_type": "stream",
     "text": [
      "[1] \"Andrés Rivera--Centro de Estudios Científicos\"\n",
      "[1] \"Francisca Bown--Centro de Estudios Científicos\"\n",
      "[1] \"Ronald Mella--Centro de Estudios Científicos\"\n",
      "[1] \"Jens Wendt--Centro de Estudios Científicos\"\n",
      "[1] \"Gino Casassa--Centro de Estudios Científicos\"\n",
      "[1] \"César Acuña--Centro de Estudios Científicos\"\n",
      "[1] \"Eric Rignot--Jet Propulsion Laboratory, California Institute of Technology\"\n",
      "[1] \"Jorge Clavero--Servicio Nacional de Geología y Minería\"\n",
      "[1] \"Benjamin Brock--Department of Geography, University of Dundee\"\n",
      "[1] \"Add: 0000-0002-5377-0776\"\n",
      "[1] \"Add: 0000-0002-2779-4192\"\n",
      "[1] \"Add: 0000-0002-3366-0481\"\n",
      "[1] \"P.G. Talalay--Polar Research Center, Jilin University\"\n",
      "[1] \"Add: 0000-0002-8230-4600\"\n"
     ]
    },
    {
     "name": "stderr",
     "output_type": "stream",
     "text": [
      "Warning message:\n",
      "“Unknown or uninitialised column: `orcid-identifier.path`.”\n",
      "Warning message:\n",
      "“Unknown or uninitialised column: `orcid-identifier.path`.”\n",
      "Warning message:\n",
      "“Unknown or uninitialised column: `orcid-identifier.path`.”\n",
      "Warning message:\n",
      "“Unknown or uninitialised column: `orcid-identifier.path`.”\n",
      "Warning message:\n",
      "“Unknown or uninitialised column: `orcid-identifier.path`.”\n",
      "Warning message:\n",
      "“Unknown or uninitialised column: `orcid-identifier.path`.”\n"
     ]
    },
    {
     "name": "stdout",
     "output_type": "stream",
     "text": [
      "[1] \"A. Humbert--Institute for Geophysics, KlimaCampus, University of Hamburg\"\n",
      "[1] \"D. Gross--Division of Solid Mechanics, Technische Hochschule Darmstadt\"\n",
      "[1] \"R. Müller--Department of Mechanical and Process Engineering, Univeristy of Kaiserslautern\"\n",
      "[1] \"M. Braun--Center for Remote Sensing of Land Surfaces (ZFL), University of Bonn\"\n",
      "[1] \"R.S.W. van de Wal--Institute for Marine and Atmospheric Research, Utrecht University\"\n",
      "[1] \"M.R. van den Broeke--Institute for Marine and Atmospheric Research, Utrecht University\"\n",
      "[1] \"D.G. Vaughan--British Antarctic Survey, Natural Environment Research Council\"\n",
      "[1] \"W.J. van de Berg--Institute for Marine and Atmospheric Research, Utrecht University\"\n",
      "[1] \"Add: 0000-0001-5169-1567\"\n",
      "[1] \"Add: 0000-0002-9065-0570\"\n"
     ]
    },
    {
     "name": "stderr",
     "output_type": "stream",
     "text": [
      "Warning message:\n",
      "“Unknown or uninitialised column: `orcid-identifier.path`.”\n"
     ]
    },
    {
     "name": "stdout",
     "output_type": "stream",
     "text": [
      "[1] \"Robin Wojcik--GFZ German Research Centre for Geosciences---0000-0003-3941-9979\"\n",
      "[1] \"Johanna Donhauser--Swiss Federal Research Institute WSL\"\n",
      "[1] \"Beat Frey--Swiss Federal Research Institute WSL\"\n",
      "[1] \"Stine Holm--GFZ German Research Centre for Geosciences\"\n",
      "[1] \"Alexandra Holland--University of Bristol\"\n",
      "[1] \"Alexandre M. Anesio--Aarhus University, 4000 Roskilde\"\n",
      "[1] \"David A. Pearce--Northumbria University\"\n",
      "[1] \"Lucie Malard--Northumbria University\"\n",
      "[1] \"Dirk Wagner--GFZ German Research Centre for Geosciences\"\n",
      "[1] \"Liane G. Benning--GFZ German Research Centre for Geosciences\"\n",
      "[1] \"Add: 0000-0001-9988-2127\"\n",
      "[1] \"Add: 0000-0003-2990-4014\"\n",
      "[1] \"Add: 0000-0001-5064-497X\"\n"
     ]
    },
    {
     "name": "stderr",
     "output_type": "stream",
     "text": [
      "Warning message:\n",
      "“Unknown or uninitialised column: `orcid-identifier.path`.”\n",
      "Warning message:\n",
      "“Unknown or uninitialised column: `orcid-identifier.path`.”\n",
      "Warning message:\n",
      "“Unknown or uninitialised column: `orcid-identifier.path`.”\n"
     ]
    },
    {
     "name": "stdout",
     "output_type": "stream",
     "text": [
      "[1] \"Charles Fierz\"\n",
      "[1] \"Christian Plüss\"\n",
      "[1] \"Eric Martin\"\n",
      "[1] \"Add: 0000-0001-9490-6732\"\n"
     ]
    },
    {
     "name": "stderr",
     "output_type": "stream",
     "text": [
      "Warning message:\n",
      "“Unknown or uninitialised column: `orcid-identifier.path`.”\n",
      "Warning message:\n",
      "“Unknown or uninitialised column: `orcid-identifier.path`.”\n",
      "Warning message:\n",
      "“Unknown or uninitialised column: `orcid-identifier.path`.”\n",
      "Warning message:\n",
      "“Unknown or uninitialised column: `orcid-identifier.path`.”\n",
      "Warning message:\n",
      "“Unknown or uninitialised column: `orcid-identifier.path`.”\n"
     ]
    },
    {
     "name": "stdout",
     "output_type": "stream",
     "text": [
      "[1] \"Wendy M. Calvin--Department of Geological Sciences, University of Nevada\"\n",
      "[1] \"Margaret Milman--Department of Geology and Geophysics, University of Hawaii\"\n",
      "[1] \"Hugh H. Kieffer\"\n",
      "[1] \"Add: 0000-0002-6097-9586\"\n"
     ]
    },
    {
     "name": "stderr",
     "output_type": "stream",
     "text": [
      "Warning message:\n",
      "“Unknown or uninitialised column: `orcid-identifier.path`.”\n",
      "Warning message:\n",
      "“Unknown or uninitialised column: `orcid-identifier.path`.”\n",
      "Warning message:\n",
      "“Unknown or uninitialised column: `orcid-identifier.path`.”\n",
      "Warning message:\n",
      "“Unknown or uninitialised column: `orcid-identifier.path`.”\n",
      "Warning message:\n",
      "“Unknown or uninitialised column: `orcid-identifier.path`.”\n",
      "Warning message:\n",
      "“Unknown or uninitialised column: `orcid-identifier.path`.”\n",
      "Warning message:\n",
      "“Unknown or uninitialised column: `orcid-identifier.path`.”\n",
      "Warning message:\n",
      "“Unknown or uninitialised column: `orcid-identifier.path`.”\n",
      "Warning message:\n",
      "“Unknown or uninitialised column: `orcid-identifier.path`.”\n",
      "Warning message:\n",
      "“Unknown or uninitialised column: `orcid-identifier.path`.”\n",
      "Warning message:\n",
      "“Unknown or uninitialised column: `orcid-identifier.path`.”\n",
      "Warning message:\n",
      "“Unknown or uninitialised column: `orcid-identifier.path`.”\n",
      "Warning message:\n",
      "“Unknown or uninitialised column: `orcid-identifier.path`.”\n",
      "Warning message:\n",
      "“Unknown or uninitialised column: `orcid-identifier.path`.”\n",
      "Warning message:\n",
      "“Unknown or uninitialised column: `orcid-identifier.path`.”\n",
      "Warning message:\n",
      "“Unknown or uninitialised column: `orcid-identifier.path`.”\n"
     ]
    },
    {
     "name": "stdout",
     "output_type": "stream",
     "text": [
      "[1] \"W.D. Harrison--Geophysical Institute\"\n",
      "[1] \"L.H Cox--University of Montana\"\n",
      "[1] \"R. Hock--Geophysical Institute\"\n",
      "[1] \"R.S. March\"\n",
      "[1] \"E.C. Pettit\"\n",
      "[1] \"Add: 0000-0001-8336-9441\"\n",
      "[1] \"Patrick Ginot--Department of Chemistry and Biochemistry\"\n",
      "[1] \"Margit Schwikowski--Paul Scherrer Institute\"\n",
      "[1] \"Ulrich Schotterer--Department of Chemistry and Biochemistry\"\n",
      "[1] \"Willibald Stichler--GSF Institute for Hydrology\"\n",
      "[1] \"Heinz W. Gäggeler--Department of Chemistry and Biochemistry\"\n",
      "[1] \"Bernard Francou\"\n",
      "[1] \"Robert Gallaire\"\n",
      "[1] \"Bernard Pouyaud\"\n",
      "[1] \"Add: 0000-0002-0856-5183\"\n",
      "[1] \"John M. Fegyveresi--U.S. Cold Regions Research and Engineering Laboratory, ERDC---0000-0002-1029-6277\"\n",
      "[1] \"Richard B. Alley--Pennsylvania State University---0000-0003-1833-0115\"\n",
      "[1] \"Donald E. Voigt--Pennsylvania State University\"\n",
      "[1] \"Joan J. Fitzpatrick--Geosciences and Environmental Change Science Center, USGS\"\n",
      "[1] \"Lawrence A. Wilen--Yale University\"\n",
      "[1] \"Add: 0000-0003-1833-0115\"\n"
     ]
    },
    {
     "name": "stderr",
     "output_type": "stream",
     "text": [
      "Warning message:\n",
      "“Unknown or uninitialised column: `orcid-identifier.path`.”\n",
      "Warning message:\n",
      "“Unknown or uninitialised column: `orcid-identifier.path`.”\n"
     ]
    },
    {
     "name": "stdout",
     "output_type": "stream",
     "text": [
      "[1] \"Geir Moholdt--University of Oslo\"\n",
      "[1] \"Torborg Heid--University of Oslo\"\n",
      "[1] \"Toby Benham--Scott Polar Research Institute\"\n",
      "[1] \"Julian A. Dowdeswell--Scott Polar Research Institute\"\n",
      "[1] \"Add: 0000-0003-2723-1880\"\n",
      "[1] \"Add: 0000-0003-1369-9482\"\n"
     ]
    },
    {
     "name": "stderr",
     "output_type": "stream",
     "text": [
      "Warning message:\n",
      "“Unknown or uninitialised column: `orcid-identifier.path`.”\n",
      "Warning message:\n",
      "“Unknown or uninitialised column: `orcid-identifier.path`.”\n",
      "Warning message:\n",
      "“Unknown or uninitialised column: `orcid-identifier.path`.”\n",
      "Warning message:\n",
      "“Unknown or uninitialised column: `orcid-identifier.path`.”\n",
      "Warning message:\n",
      "“Unknown or uninitialised column: `orcid-identifier.path`.”\n",
      "Warning message:\n",
      "“Unknown or uninitialised column: `orcid-identifier.path`.”\n"
     ]
    },
    {
     "name": "stdout",
     "output_type": "stream",
     "text": [
      "[1] \"David M. Chandler--Institute of Geography and Earth Sciences, University of Wales\"\n",
      "[1] \"Richard I. Waller--School of Earth Sciences and Geography, Keele University\"\n",
      "[1] \"William G. Adam--School of Earth Sciences and Geography, Keele University\"\n",
      "[1] \"Add: 0000-0001-5759-2412\"\n"
     ]
    },
    {
     "name": "stderr",
     "output_type": "stream",
     "text": [
      "Warning message:\n",
      "“Unknown or uninitialised column: `orcid-identifier.path`.”\n"
     ]
    },
    {
     "name": "stdout",
     "output_type": "stream",
     "text": [
      "[1] \"Thomas S. Hudson--NERC British Antarctic Survey---0000-0003-2944-883X\"\n",
      "[1] \"Jonathan Smith--University of Cambridge\"\n",
      "[1] \"Alex M. Brisbourne--NERC British Antarctic Survey\"\n",
      "[1] \"Robert S. White--University of Cambridge\"\n"
     ]
    },
    {
     "name": "stderr",
     "output_type": "stream",
     "text": [
      "Warning message:\n",
      "“Unknown or uninitialised column: `orcid-identifier.path`.”\n",
      "Warning message:\n",
      "“Unknown or uninitialised column: `orcid-identifier.path`.”\n",
      "Warning message:\n",
      "“Unknown or uninitialised column: `orcid-identifier.path`.”\n",
      "Warning message:\n",
      "“Unknown or uninitialised column: `orcid-identifier.path`.”\n"
     ]
    },
    {
     "name": "stdout",
     "output_type": "stream",
     "text": [
      "[1] \"Takeo Hondoh--Institute of Low Temperature Science\"\n",
      "[1] \"Hitoshi Shoji--New Energy Resources Research Center\"\n",
      "[1] \"Okitsugu Watanabe--National Institute of Polar Research\"\n",
      "[1] \"Andrey N. Salamatin--Department of Applied Mathematics\"\n",
      "[1] \"Vladimir Ya. Lipenkov--Arctic and Antarctic Research Institute\"\n",
      "[1] \"Add: 0000-0002-5988-6024\"\n",
      "[1] \"Add: 0000-0003-4129-022X\"\n"
     ]
    },
    {
     "name": "stderr",
     "output_type": "stream",
     "text": [
      "Warning message:\n",
      "“Unknown or uninitialised column: `orcid-identifier.path`.”\n",
      "Warning message:\n",
      "“Unknown or uninitialised column: `orcid-identifier.path`.”\n",
      "Warning message:\n",
      "“Unknown or uninitialised column: `orcid-identifier.path`.”\n",
      "Warning message:\n",
      "“Unknown or uninitialised column: `orcid-identifier.path`.”\n"
     ]
    },
    {
     "name": "stdout",
     "output_type": "stream",
     "text": [
      "[1] \"Martin Rückamp--Institute for Geophysics, University of Münster\"\n",
      "[1] \"Norbert Blindow--Institute for Geophysics, University of Münster\"\n",
      "[1] \"Sonja Suckro--Institute for Geophysics, University of Münster\"\n",
      "[1] \"Matthias Braun--Center for Remote Sensing of Land Surfaces, University of Bonn\"\n",
      "[1] \"Angelika Humbert--Institute for Geophysics, KlimaCampus, University of Hamburg\"\n",
      "[1] \"Add: 0000-0003-2512-7238\"\n",
      "[1] \"Add: 0000-0001-5169-1567\"\n",
      "[1] \"Yoshinori Iizuka--Yuge National College of Maritime Technology\"\n",
      "[1] \"Morimasa Takata--Institute of Low Temperature Science, Hokkaido University\"\n",
      "[1] \"Takeo Hondoh--Institute of Low Temperature Science, Hokkaido University\"\n",
      "[1] \"Yoshiyuki Fujii--National Institute of Polar Research\"\n",
      "[1] \"Add: 0000-0001-7241-6062\"\n",
      "[1] \"Add: 0000-0003-4129-022X\"\n",
      "[1] \"Dustin M. Schroeder--Stanford University---0000-0003-1916-3929\"\n",
      "[1] \"Emma J. MacKie--Stanford University\"\n",
      "[1] \"Timothy T. Creyts--Columbia University---0000-0003-1756-5211\"\n",
      "[1] \"John B. Anderson--Rice University\"\n"
     ]
    },
    {
     "name": "stderr",
     "output_type": "stream",
     "text": [
      "Warning message:\n",
      "“Unknown or uninitialised column: `orcid-identifier.path`.”\n",
      "Warning message:\n",
      "“Unknown or uninitialised column: `orcid-identifier.path`.”\n",
      "Warning message:\n",
      "“Unknown or uninitialised column: `orcid-identifier.path`.”\n",
      "Warning message:\n",
      "“Unknown or uninitialised column: `orcid-identifier.path`.”\n",
      "Warning message:\n",
      "“Unknown or uninitialised column: `orcid-identifier.path`.”\n"
     ]
    },
    {
     "name": "stdout",
     "output_type": "stream",
     "text": [
      "[1] \"Ute C. Herzfeld\"\n",
      "[1] \"Bruce Wallin\"\n",
      "[1] \"Add: 0000-0002-5694-4698\"\n"
     ]
    },
    {
     "name": "stderr",
     "output_type": "stream",
     "text": [
      "Warning message:\n",
      "“Unknown or uninitialised column: `orcid-identifier.path`.”\n"
     ]
    },
    {
     "name": "stdout",
     "output_type": "stream",
     "text": [
      "[1] \"I. Dmitrenko--Arctic and Antarctic Research Institute\"\n",
      "[1] \"J.A. Hölemann--Alfred Wegener Institute for Polar and Marine Research\"\n",
      "[1] \"K. Tyshko--Arctic and Antarctic Research Institute\"\n",
      "[1] \"V. Churun--Arctic and Antarctic Research Institute\"\n",
      "[1] \"S. Kirillov--Arctic and Antarctic Research Institute\"\n",
      "[1] \"H. Kassens --GEOMAR Forschungszentrum\"\n",
      "[1] \"Add: 0000-0001-5102-4086\"\n"
     ]
    },
    {
     "name": "stderr",
     "output_type": "stream",
     "text": [
      "Warning message:\n",
      "“Unknown or uninitialised column: `orcid-identifier.path`.”\n"
     ]
    },
    {
     "name": "stdout",
     "output_type": "stream",
     "text": [
      "[1] \"M. Morlighem--University of California-Irvine\"\n",
      "[1] \"E. Rignot--University of California-Irvine\"\n",
      "[1] \"J. Mouginot--University of California-Irvine\"\n",
      "[1] \"H. Seroussi--Jet Propulsion Laboratory, California Institute of Technology, Pasadena\"\n",
      "[1] \"E. Larour--Jet Propulsion Laboratory, California Institute of Technology, Pasadena\"\n",
      "[1] \"Add: 0000-0001-9155-5455\"\n",
      "[1] \"Add: 0000-0002-3366-0481\"\n",
      "[1] \"Add: 0000-0001-5219-1310\"\n"
     ]
    },
    {
     "name": "stderr",
     "output_type": "stream",
     "text": [
      "Warning message:\n",
      "“Unknown or uninitialised column: `orcid-identifier.path`.”\n",
      "Warning message:\n",
      "“Unknown or uninitialised column: `orcid-identifier.path`.”\n",
      "Warning message:\n",
      "“Unknown or uninitialised column: `orcid-identifier.path`.”\n",
      "Warning message:\n",
      "“Unknown or uninitialised column: `orcid-identifier.path`.”\n",
      "Warning message:\n",
      "“Unknown or uninitialised column: `orcid-identifier.path`.”\n",
      "Warning message:\n",
      "“Unknown or uninitialised column: `orcid-identifier.path`.”\n",
      "Warning message:\n",
      "“Unknown or uninitialised column: `orcid-identifier.path`.”\n",
      "Warning message:\n",
      "“Unknown or uninitialised column: `orcid-identifier.path`.”\n"
     ]
    },
    {
     "name": "stdout",
     "output_type": "stream",
     "text": [
      "[1] \"Olga V. Sergienko--Princeton University/Geophysical Fluid Dynamics Laboratory\"\n",
      "[1] \"Christina L. Hulbe--Portland State University\"\n",
      "[1] \"Add: 0000-0003-4765-7037\"\n"
     ]
    },
    {
     "name": "stderr",
     "output_type": "stream",
     "text": [
      "Warning message:\n",
      "“Unknown or uninitialised column: `orcid-identifier.path`.”\n",
      "Warning message:\n",
      "“Unknown or uninitialised column: `orcid-identifier.path`.”\n"
     ]
    },
    {
     "name": "stdout",
     "output_type": "stream",
     "text": [
      "[1] \"Dieter Issler\"\n",
      "[1] \"Peter Gauer\"\n",
      "[1] \"Add: 0000-0003-4982-8557\"\n",
      "[1] \"Add: 0000-0003-2151-2331\"\n"
     ]
    },
    {
     "name": "stderr",
     "output_type": "stream",
     "text": [
      "Warning message:\n",
      "“Unknown or uninitialised column: `orcid-identifier.path`.”\n"
     ]
    },
    {
     "name": "stdout",
     "output_type": "stream",
     "text": [
      "[1] \"Teruo Aoki--Meteorological Research Institute\"\n",
      "[1] \"Hiroki Motoyoshi--The Graduate University for Advanced Studies\"\n",
      "[1] \"Yuji Kodama--Hokkaido University\"\n",
      "[1] \"Teppei J. Yasunari--Hokkaido University\"\n",
      "[1] \"Konosuke Sugiura--Institute of Observational Research for Global Change\"\n",
      "[1] \"Add: 0000-0002-9896-9404\"\n"
     ]
    },
    {
     "name": "stderr",
     "output_type": "stream",
     "text": [
      "Warning message:\n",
      "“Unknown or uninitialised column: `orcid-identifier.path`.”\n",
      "Warning message:\n",
      "“Unknown or uninitialised column: `orcid-identifier.path`.”\n",
      "Warning message:\n",
      "“Unknown or uninitialised column: `orcid-identifier.path`.”\n"
     ]
    },
    {
     "name": "stdout",
     "output_type": "stream",
     "text": [
      "[1] \"J. Telling--Bristol Glaciology Centre, School of Geographical Sciences, University of Bristol\"\n",
      "[1] \"A.M. Anesio--Bristol Glaciology Centre, School of Geographical Sciences, University of Bristol\"\n",
      "[1] \"J. Hawkings--Bristol Glaciology Centre, School of Geographical Sciences, University of Bristol\"\n",
      "[1] \"M. Tranter--Bristol Glaciology Centre, School of Geographical Sciences, University of Bristol\"\n",
      "[1] \"J.L. Wadham--Bristol Glaciology Centre, School of Geographical Sciences, University of Bristol\"\n",
      "[1] \"A.J. Hodson--Department of Geography, University of Sheffield\"\n",
      "[1] \"T. Irvine-Fynn--Department of Geography, University of Sheffield\"\n",
      "[1] \"M.L. Yallop--School of Biological Sciences, University of Bristol\"\n",
      "[1] \"Add: 0000-0003-4813-8474\"\n",
      "[1] \"Add: 0000-0002-8180-0979\"\n",
      "[1] \"Add: 0000-0003-3157-6646\"\n",
      "[1] \"Add: 0000-0002-1255-7987\"\n"
     ]
    },
    {
     "name": "stderr",
     "output_type": "stream",
     "text": [
      "Warning message:\n",
      "“Unknown or uninitialised column: `orcid-identifier.path`.”\n"
     ]
    },
    {
     "name": "stdout",
     "output_type": "stream",
     "text": [
      "[1] \"Guillaume Chambon--Cemagref, UR ETGR\"\n",
      "[1] \"Mohamed Naaim--Cemagref, UR ETGR\"\n",
      "[1] \"Add: 0000-0002-9812-9683\"\n",
      "[1] \"Stefan Keller--Institute of Low Temperature Science\"\n",
      "[1] \"Yoichi Ito--Institute of Low Temperature Science\"\n",
      "[1] \"Kouichi Nishimura--Institute of Low Temperature Science\"\n",
      "[1] \"Add: 0000-0003-2521-2491\"\n",
      "[1] \"Justin C. Burton--Department of Physics and the James Franck Institute, University of Chicago\"\n",
      "[1] \"L. Mac Cathles--Department of the Geophysical Sciences, University of Chicago\"\n",
      "[1] \"W. Grant Wilder--Department of the Geophysical Sciences, University of Chicago\"\n",
      "[1] \"Add: 0000-0002-4797-8968\"\n",
      "[1] \"John W. Weatherly--Cold Regions Research and Engineering Laboratory, U.S. Army Corps of Engineers\"\n",
      "[1] \"Julie M. Arblaster--National Center for Atmospheric Research\"\n",
      "[1] \"Add: 0000-0002-4287-2363\"\n"
     ]
    },
    {
     "name": "stderr",
     "output_type": "stream",
     "text": [
      "Warning message:\n",
      "“Unknown or uninitialised column: `orcid-identifier.path`.”\n",
      "Warning message:\n",
      "“Unknown or uninitialised column: `orcid-identifier.path`.”\n",
      "Warning message:\n",
      "“Unknown or uninitialised column: `orcid-identifier.path`.”\n"
     ]
    },
    {
     "name": "stdout",
     "output_type": "stream",
     "text": [
      "[1] \"Susann Müller--Department of Environmental Sciences,  University of Helsinki\"\n",
      "[1] \"Anssi V. Vähätalo--Department of Environmental Sciences,  University of Helsinki\"\n",
      "[1] \"Mats A. Granskog--Norwegian Polar Institute,  Polar Environmental Centre\"\n",
      "[1] \"Riitta Autio--Marine Research Centre,  Finnish Environment Institute\"\n",
      "[1] \"Hermanni Kaartokallio--Marine Research Centre,  Finnish Environment Institute\"\n",
      "[1] \"Add: 0000-0003-3434-5915\"\n"
     ]
    },
    {
     "name": "stderr",
     "output_type": "stream",
     "text": [
      "Warning message:\n",
      "“Unknown or uninitialised column: `orcid-identifier.path`.”\n",
      "Warning message:\n",
      "“Unknown or uninitialised column: `orcid-identifier.path`.”\n",
      "Warning message:\n",
      "“Unknown or uninitialised column: `orcid-identifier.path`.”\n",
      "Warning message:\n",
      "“Unknown or uninitialised column: `orcid-identifier.path`.”\n",
      "Warning message:\n",
      "“Unknown or uninitialised column: `orcid-identifier.path`.”\n",
      "Warning message:\n",
      "“Unknown or uninitialised column: `orcid-identifier.path`.”\n",
      "Warning message:\n",
      "“Unknown or uninitialised column: `orcid-identifier.path`.”\n"
     ]
    },
    {
     "name": "stdout",
     "output_type": "stream",
     "text": [
      "[1] \"Roland C. Warner--Antarctic CRC and Australian Antarctic Division\"\n",
      "[1] \"W. F. Budd--Antarctic CRC and Australian Antarctic Division\"\n",
      "[1] \"Add: 0000-0002-9778-3544\"\n"
     ]
    },
    {
     "name": "stderr",
     "output_type": "stream",
     "text": [
      "Warning message:\n",
      "“Unknown or uninitialised column: `orcid-identifier.path`.”\n",
      "Warning message:\n",
      "“Unknown or uninitialised column: `orcid-identifier.path`.”\n",
      "Warning message:\n",
      "“Unknown or uninitialised column: `orcid-identifier.path`.”\n",
      "Warning message:\n",
      "“Unknown or uninitialised column: `orcid-identifier.path`.”\n",
      "Warning message:\n",
      "“Unknown or uninitialised column: `orcid-identifier.path`.”\n",
      "Warning message:\n",
      "“Unknown or uninitialised column: `orcid-identifier.path`.”\n",
      "Warning message:\n",
      "“Unknown or uninitialised column: `orcid-identifier.path`.”\n",
      "Warning message:\n",
      "“Unknown or uninitialised column: `orcid-identifier.path`.”\n"
     ]
    },
    {
     "name": "stdout",
     "output_type": "stream",
     "text": [
      "[1] \"Gernot R. Koboltschnig--University of Natural Resources and Applied Life Sciences (BOKU)\"\n",
      "[1] \"Wolfgang Schöner--Central Institute of Meteorology and Geodynamics (ZAMG)\"\n",
      "[1] \"Massimiliano Zappa--Swiss Federal Institute for Forest\"\n",
      "[1] \"Hubert Holzmann--University of Natural Resources and Applied Life Sciences (BOKU)\"\n",
      "[1] \"Add: 0000-0001-6546-0639\"\n",
      "[1] \"Add: 0000-0002-2837-8190\"\n"
     ]
    },
    {
     "name": "stderr",
     "output_type": "stream",
     "text": [
      "Warning message:\n",
      "“Unknown or uninitialised column: `orcid-identifier.path`.”\n",
      "Warning message:\n",
      "“Unknown or uninitialised column: `orcid-identifier.path`.”\n",
      "Warning message:\n",
      "“Unknown or uninitialised column: `orcid-identifier.path`.”\n",
      "Warning message:\n",
      "“Unknown or uninitialised column: `orcid-identifier.path`.”\n"
     ]
    },
    {
     "name": "stdout",
     "output_type": "stream",
     "text": [
      "[1] \"Penelope How--Institute of Geography, School of GeoSciences, University of Edinburgh---0000-0002-8088-8497\"\n",
      "[1] \"Kristin M. Schild--University of Oregon\"\n",
      "[1] \"Douglas I. Benn--University of St. Andrews\"\n",
      "[1] \"Riko Noormets--University Centre in Svalbard\"\n",
      "[1] \"Nina Kirchner--Stockholm University\"\n",
      "[1] \"Adrian Luckman--College of Science, Swansea University\"\n",
      "[1] \"Dorothée Vallot--Uppsala University\"\n",
      "[1] \"Nicholas R. J. Hulton--Institute of Geography, School of GeoSciences, University of Edinburgh\"\n",
      "[1] \"Chris Borstad--University Centre in Svalbard\"\n",
      "[1] \"Add: 0000-0002-0128-3386\"\n",
      "[1] \"Add: 0000-0001-6992-1770\"\n",
      "[1] \"Add: 0000-0002-3604-0886\"\n",
      "[1] \"Add: 0000-0002-2832-386X\"\n"
     ]
    },
    {
     "name": "stderr",
     "output_type": "stream",
     "text": [
      "Warning message:\n",
      "“Unknown or uninitialised column: `orcid-identifier.path`.”\n",
      "Warning message:\n",
      "“Unknown or uninitialised column: `orcid-identifier.path`.”\n",
      "Warning message:\n",
      "“Unknown or uninitialised column: `orcid-identifier.path`.”\n"
     ]
    },
    {
     "name": "stdout",
     "output_type": "stream",
     "text": [
      "[1] \"Michael Kuhn--University of Innsbruck\"\n",
      "[1] \"Kay Helfricht--Austrian Academy of Sciences\"\n",
      "[1] \"Martin Ortner--Central Agency of Meteorology and Geodynamics\"\n",
      "[1] \"Johannes Landmann--University of Innsbruck\"\n",
      "[1] \"Wolfgang Gurgiser--University of Innsbruck\"\n",
      "[1] \"Add: 0000-0003-0514-3521\"\n",
      "[1] \"Add: 0000-0002-8843-7594\"\n"
     ]
    },
    {
     "name": "stderr",
     "output_type": "stream",
     "text": [
      "Warning message:\n",
      "“Unknown or uninitialised column: `orcid-identifier.path`.”\n",
      "Warning message:\n",
      "“Unknown or uninitialised column: `orcid-identifier.path`.”\n"
     ]
    },
    {
     "name": "stdout",
     "output_type": "stream",
     "text": [
      "[1] \"Sebastian Goeller--Alfred Wegener Institute\"\n",
      "[1] \"Daniel Steinhage--Alfred Wegener Institute\"\n",
      "[1] \"Malte Thoma--Alfred Wegener Institute\"\n",
      "[1] \"Klaus Grosfeld--Alfred Wegener Institute\"\n",
      "[1] \"Add: 0000-0001-5936-179X\"\n",
      "[1] \"Eric Rignot--Jet Propulsion Laboratory, California Institute of Technology\"\n",
      "[1] \"Add: 0000-0002-3366-0481\"\n"
     ]
    },
    {
     "name": "stderr",
     "output_type": "stream",
     "text": [
      "Warning message:\n",
      "“Unknown or uninitialised column: `orcid-identifier.path`.”\n"
     ]
    },
    {
     "name": "stdout",
     "output_type": "stream",
     "text": [
      "[1] \"Suzanne L. Bevan--Swansea University\"\n",
      "[1] \"Tavi Murray--Swansea University\"\n",
      "[1] \"Adrian J. Luckman--Swansea University\"\n",
      "[1] \"Edward Hanna--University of Sheffield\"\n",
      "[1] \"Philippe Huybrechts--Vrije Universiteit Brussel\"\n",
      "[1] \"Add: 0000-0002-9618-5905\"\n",
      "[1] \"Add: 0000-0002-8683-182X\"\n",
      "[1] \"Add: 0000-0003-1406-0525\"\n"
     ]
    },
    {
     "name": "stderr",
     "output_type": "stream",
     "text": [
      "Warning message:\n",
      "“Unknown or uninitialised column: `orcid-identifier.path`.”\n",
      "Warning message:\n",
      "“Unknown or uninitialised column: `orcid-identifier.path`.”\n"
     ]
    },
    {
     "name": "stdout",
     "output_type": "stream",
     "text": [
      "[1] \"D. Binder--Institute of Geodesy and Geophysics\"\n",
      "[1] \"E. Brückl--Institute of Geodesy and Geophysics\"\n",
      "[1] \"K.H. Roch--Institute of Geodesy and Geophysics\"\n",
      "[1] \"M. Behm--Institute of Geodesy and Geophysics\"\n",
      "[1] \"W. Schöner--Central Institute for Meteorology and Geodynamics (ZAMG)\"\n",
      "[1] \"B. Hynek--Central Institute for Meteorology and Geodynamics (ZAMG)\"\n",
      "[1] \"Add: 0000-0001-6546-0639\"\n",
      "[1] \"Peter Kuipers Munneke--Institute for Marine and Atmospheric Research, Utrecht University\"\n",
      "[1] \"Stefan R.M. Ligtenberg--Geographisches Institut, Rheinisch-Westfälische Technische Hochschule Aachen\"\n",
      "[1] \"Eric A. Suder--Geographisches Institut, Rheinisch-Westfälische Technische Hochschule Aachen\"\n",
      "[1] \"Michiel R. Van den Broeke--Institute for Marine and Atmospheric Research, Utrecht University\"\n",
      "[1] \"Add: 0000-0001-5555-3831\"\n",
      "[1] \"Dustin M. Schroeder--Stanford University\"\n",
      "[1] \"Robert G. Bingham--University of Edinburgh\"\n",
      "[1] \"Donald D. Blankenship--University of Texas\"\n",
      "[1] \"Knut Christianson--University of Washington\"\n",
      "[1] \"Olaf Eisen--Alfred-Wegener-Institut---0000-0002-6380-962X\"\n",
      "[1] \"Gwenn E. Flowers--Simon Fraser University---0000-0002-3574-9324\"\n",
      "[1] \"Nanna B. Karlsson--Geological Survey of Denmark and Greenland---0000-0003-0423-8705\"\n",
      "[1] \"Michelle R. Koutnik--University of Washington\"\n",
      "[1] \"John D. Paden--University of Kansas---0000-0003-0775-6284\"\n",
      "[1] \"Martin J. Siegert--Imperial College London---0000-0002-0090-4806\"\n"
     ]
    },
    {
     "name": "stderr",
     "output_type": "stream",
     "text": [
      "Warning message:\n",
      "“Unknown or uninitialised column: `orcid-identifier.path`.”\n",
      "Warning message:\n",
      "“Unknown or uninitialised column: `orcid-identifier.path`.”\n",
      "Warning message:\n",
      "“Unknown or uninitialised column: `orcid-identifier.path`.”\n",
      "Warning message:\n",
      "“Unknown or uninitialised column: `orcid-identifier.path`.”\n",
      "Warning message:\n",
      "“Unknown or uninitialised column: `orcid-identifier.path`.”\n",
      "Warning message:\n",
      "“Unknown or uninitialised column: `orcid-identifier.path`.”\n",
      "Warning message:\n",
      "“Unknown or uninitialised column: `orcid-identifier.path`.”\n",
      "Warning message:\n",
      "“Unknown or uninitialised column: `orcid-identifier.path`.”\n",
      "Warning message:\n",
      "“Unknown or uninitialised column: `orcid-identifier.path`.”\n",
      "Warning message:\n",
      "“Unknown or uninitialised column: `orcid-identifier.path`.”\n"
     ]
    },
    {
     "name": "stdout",
     "output_type": "stream",
     "text": [
      "[1] \"Olaf Eisen--Alfred-Wegener-Institut Helmholtz-Zentrum für Polar- und Meeresforschung---0000-0002-6380-962X\"\n",
      "[1] \"Anna Winter--Alfred-Wegener-Institut Helmholtz-Zentrum für Polar- und Meeresforschung\"\n",
      "[1] \"Daniel Steinhage--Alfred-Wegener-Institut Helmholtz-Zentrum für Polar- und Meeresforschung\"\n",
      "[1] \"Thomas Kleiner--Alfred-Wegener-Institut Helmholtz-Zentrum für Polar- und Meeresforschung---0000-0001-7825-5765\"\n",
      "[1] \"Angelika Humbert--Alfred-Wegener-Institut Helmholtz-Zentrum für Polar- und Meeresforschung\"\n"
     ]
    },
    {
     "name": "stderr",
     "output_type": "stream",
     "text": [
      "Warning message:\n",
      "“Unknown or uninitialised column: `orcid-identifier.path`.”\n"
     ]
    },
    {
     "name": "stdout",
     "output_type": "stream",
     "text": [
      "[1] \"Daniel Steinhage--Alfred- Wegener-Institut Helmholtz-Zentrum für Polar und Meeresforschung\"\n",
      "[1] \" Sepp Kipfstuhl--Alfred- Wegener-Institut Helmholtz-Zentrum für Polar und Meeresforschung\"\n",
      "[1] \"Uwe Nixdorf--Alfred- Wegener-Institut Helmholtz-Zentrum für Polar und Meeresforschung\"\n",
      "[1] \"Heinz Miller--Alfred- Wegener-Institut Helmholtz-Zentrum für Polar und Meeresforschung\"\n",
      "[1] \"Add: 0000-0002-6288-4361\"\n",
      "[1] \"Pietro Buzzini--Dipartimento di Biologia Vegetale e Biotecnologie Agroambientali, Sezione di Microbiologia Applicata, Università di Perugia\"\n",
      "[1] \"Benedetta Turchetti--Dipartimento di Biologia Vegetale e Biotecnologie Agroambientali, Sezione di Microbiologia Applicata, Università di Perugia\"\n",
      "[1] \"Guglielmina Diolaiuti--Dipartimento di Scienze della Terra ‘Ardito Desio’, Universita` di Milano\"\n",
      "[1] \"Carlo D’Agata--Dipartimento di Scienze della Terra ‘Ardito Desio’, Universita` di Milano\"\n",
      "[1] \"Alessandro Martini--Dipartimento di Biologia Vegetale e Biotecnologie Agroambientali, Sezione di Microbiologia Applicata, Università di Perugia\"\n",
      "[1] \"Error in: 1286 owi:0000-0002-3337-7301\"\n",
      "[1] \"Error in: 1286 owi:0000-0001-6635-2074\"\n",
      "[1] \"Add: 0000-0002-3883-9309\"\n",
      "[1] \"Add: 0000-0001-6793-0606\"\n"
     ]
    },
    {
     "name": "stderr",
     "output_type": "stream",
     "text": [
      "Warning message:\n",
      "“Unknown or uninitialised column: `orcid-identifier.path`.”\n",
      "Warning message:\n",
      "“Unknown or uninitialised column: `orcid-identifier.path`.”\n",
      "Warning message:\n",
      "“Unknown or uninitialised column: `orcid-identifier.path`.”\n"
     ]
    },
    {
     "name": "stdout",
     "output_type": "stream",
     "text": [
      "[1] \"Christine Schøtt Hvidberg--Department of Geophysics, University of Copenhagen\"\n",
      "[1] \"Add: 0000-0002-9665-1339\"\n",
      "[1] \"Bernd Kulessa--Centre for Glaciology, Institute of Earth Studies, University of Wales\"\n",
      "[1] \"Bryn Hubbard--Centre for Glaciology, Institute of Earth Studies, University of Wales\"\n",
      "[1] \"Add: 0000-0002-3565-3875\"\n"
     ]
    },
    {
     "name": "stderr",
     "output_type": "stream",
     "text": [
      "Warning message:\n",
      "“Unknown or uninitialised column: `orcid-identifier.path`.”\n",
      "Warning message:\n",
      "“Unknown or uninitialised column: `orcid-identifier.path`.”\n",
      "Warning message:\n",
      "“Unknown or uninitialised column: `orcid-identifier.path`.”\n",
      "Warning message:\n",
      "“Unknown or uninitialised column: `orcid-identifier.path`.”\n",
      "Warning message:\n",
      "“Unknown or uninitialised column: `orcid-identifier.path`.”\n",
      "Warning message:\n",
      "“Unknown or uninitialised column: `orcid-identifier.path`.”\n",
      "Warning message:\n",
      "“Unknown or uninitialised column: `orcid-identifier.path`.”\n",
      "Warning message:\n",
      "“Unknown or uninitialised column: `orcid-identifier.path`.”\n"
     ]
    },
    {
     "name": "stdout",
     "output_type": "stream",
     "text": [
      "[1] \"Thorsten Baunach--Swiss Federal Institute for Snow and Avalanche Research\"\n",
      "[1] \"Charles Fierz--Swiss Federal Institute for Snow and Avalanche Research\"\n",
      "[1] \"Pramod K. Satyawali--Snow and Avalanche Study Establishment\"\n",
      "[1] \"Martin Schneebeli--Swiss Federal Institute for Snow and Avalanche Research\"\n",
      "[1] \"Add: 0000-0001-9490-6732\"\n"
     ]
    },
    {
     "name": "stderr",
     "output_type": "stream",
     "text": [
      "Warning message:\n",
      "“Unknown or uninitialised column: `orcid-identifier.path`.”\n",
      "Warning message:\n",
      "“Unknown or uninitialised column: `orcid-identifier.path`.”\n",
      "Warning message:\n",
      "“Unknown or uninitialised column: `orcid-identifier.path`.”\n",
      "Warning message:\n",
      "“Unknown or uninitialised column: `orcid-identifier.path`.”\n",
      "Warning message:\n",
      "“Unknown or uninitialised column: `orcid-identifier.path`.”\n",
      "Warning message:\n",
      "“Unknown or uninitialised column: `orcid-identifier.path`.”\n"
     ]
    },
    {
     "name": "stdout",
     "output_type": "stream",
     "text": [
      "[1] \"Bangbing Wang--School of Earth Science, Zhejiang University\"\n",
      "[1] \"Bo Sun--Polar Research Institute of China\"\n",
      "[1] \"Jiaxin Wang--College of Mathematics, Physics and Information Engineering, Zhejing Normal University\"\n",
      "[1] \"Jamin Greenbaum--Institute for Geophysics, University of Texas at Austin\"\n",
      "[1] \"Jingxue Guo--Polar Research Institute of China\"\n",
      "[1] \"Laura Lindzey--Institute for Geophysics, University of Texas at Austin\"\n",
      "[1] \"Xiangbin Cui--Polar Research Institute of China\"\n",
      "[1] \"Duncan A. Young--Institute for Geophysics, University of Texas at Austin\"\n",
      "[1] \"Donald D. Blankenship--Institute for Geophysics, University of Texas at Austin\"\n",
      "[1] \"Martin J. Siegert--Imperial College London---0000-0002-0090-4806\"\n"
     ]
    },
    {
     "name": "stderr",
     "output_type": "stream",
     "text": [
      "Warning message:\n",
      "“Unknown or uninitialised column: `orcid-identifier.path`.”\n",
      "Warning message:\n",
      "“Unknown or uninitialised column: `orcid-identifier.path`.”\n",
      "Warning message:\n",
      "“Unknown or uninitialised column: `orcid-identifier.path`.”\n",
      "Warning message:\n",
      "“Unknown or uninitialised column: `orcid-identifier.path`.”\n",
      "Warning message:\n",
      "“Unknown or uninitialised column: `orcid-identifier.path`.”\n",
      "Warning message:\n",
      "“Unknown or uninitialised column: `orcid-identifier.path`.”\n",
      "Warning message:\n",
      "“Unknown or uninitialised column: `orcid-identifier.path`.”\n"
     ]
    },
    {
     "name": "stdout",
     "output_type": "stream",
     "text": [
      "[1] \"Douglas R. MacAyeal--The University of Chicago---0000-0003-0647-6176\"\n",
      "[1] \"Gino Casassa\"\n",
      "[1] \"Henry H. Brecher\"\n",
      "[1] \"Carlos Cárdenas\"\n",
      "[1] \"Andrés Rivera\"\n",
      "[1] \"Error in: 1317 owi:0000-0003-1011-643X\"\n",
      "[1] \"Rudolf Sailer\"\n",
      "[1] \"Wolfgang Fellin--Institute of Infrastructure\"\n",
      "[1] \"Reinhard Fromm\"\n",
      "[1] \"Philipp Jörg\"\n",
      "[1] \"Lambert Rammer\"\n",
      "[1] \"Peter Sampl\"\n",
      "[1] \"Andreas Schaffhauser\"\n",
      "[1] \"Add: 0000-0001-5729-866X\"\n",
      "[1] \"Add: 0000-0003-2140-9748\"\n",
      "[1] \"Marcos W. D. De Freitas\"\n",
      "[1] \"Cláudio W. Mendes Júnior\"\n",
      "[1] \"Jorge Arigony-Neto\"\n",
      "[1] \"Juliana Costi\"\n",
      "[1] \"Jefferson C. Simões\"\n",
      "[1] \"Add: 0000-0001-5555-3401\"\n"
     ]
    },
    {
     "name": "stderr",
     "output_type": "stream",
     "text": [
      "Warning message:\n",
      "“Unknown or uninitialised column: `orcid-identifier.path`.”\n",
      "Warning message:\n",
      "“Unknown or uninitialised column: `orcid-identifier.path`.”\n"
     ]
    },
    {
     "name": "stdout",
     "output_type": "stream",
     "text": [
      "[1] \"Jan T. M. Lenaerts--University of Colorado---0000-0003-4309-4011\"\n",
      "[1] \"Stefan R. M. Ligtenberg--Utrecht University\"\n",
      "[1] \"Brooke Medley\"\n",
      "[1] \"Willem Jan Van de Berg--Utrecht University\"\n",
      "[1] \"Hannes Konrad---0000-0002-5058-8637\"\n",
      "[1] \"Julien P. Nicolas\"\n",
      "[1] \"J. Melchior Van Wessem--Utrecht University\"\n",
      "[1] \"Luke D. Trusel\"\n",
      "[1] \"Robert Mulvaney--British Antarctic Survey\"\n",
      "[1] \"Rebecca J. Tuckwell--British Antarctic Survey\"\n",
      "[1] \"Anna E. Hogg\"\n",
      "[1] \"Elizabeth R. Thomas--British Antarctic Survey\"\n",
      "[1] \"Add: 0000-0002-6389-3091\"\n",
      "[1] \"Add: 0000-0002-7792-6173\"\n"
     ]
    },
    {
     "name": "stderr",
     "output_type": "stream",
     "text": [
      "Warning message:\n",
      "“Unknown or uninitialised column: `orcid-identifier.path`.”\n",
      "Warning message:\n",
      "“Unknown or uninitialised column: `orcid-identifier.path`.”\n"
     ]
    },
    {
     "name": "stdout",
     "output_type": "stream",
     "text": [
      "[1] \"John Turner\"\n",
      "[1] \"Steven Leonard\"\n",
      "[1] \"Tom Lachlan-Cope\"\n",
      "[1] \"Gareth J. Marshall\"\n",
      "[1] \"Add: 0000-0002-6111-5122\"\n",
      "[1] \"Andreas Köhler--University of Oslo---0000-0002-1060-7637\"\n",
      "[1] \"Valerie Maupin--Centre for Earth Evolution and Dynamics\"\n",
      "[1] \"Christopher Nuth--University of Oslo\"\n",
      "[1] \"Ward van Pelt--Uppsala University---0000-0003-4839-7900\"\n",
      "[1] \"Add: 0000-0001-8050-3596\"\n"
     ]
    },
    {
     "name": "stderr",
     "output_type": "stream",
     "text": [
      "Warning message:\n",
      "“Unknown or uninitialised column: `orcid-identifier.path`.”\n",
      "Warning message:\n",
      "“Unknown or uninitialised column: `orcid-identifier.path`.”\n",
      "Warning message:\n",
      "“Unknown or uninitialised column: `orcid-identifier.path`.”\n",
      "Warning message:\n",
      "“Unknown or uninitialised column: `orcid-identifier.path`.”\n"
     ]
    },
    {
     "name": "stdout",
     "output_type": "stream",
     "text": [
      "[1] \"Sinéad L. Farrell--Cooperative Institute for Climate and Satellites, Earth System Science Interdisciplinary Center,  University of Maryland\"\n",
      "[1] \"Thorsten Markus--Cryospheric Sciences Branch,  NASA Goddard Space Flight Center\"\n",
      "[1] \"Ron Kwok--Jet Propulsion Laboratory,  California Institute of Technology\"\n",
      "[1] \"Laurence Connor--NOAA Laboratory for Satellite Altimetry,  1335 East–West Highway\"\n",
      "[1] \"Add: 0000-0002-5276-6257\"\n",
      "[1] \"Add: 0000-0003-3222-2751\"\n"
     ]
    },
    {
     "name": "stderr",
     "output_type": "stream",
     "text": [
      "Warning message:\n",
      "“Unknown or uninitialised column: `orcid-identifier.path`.”\n",
      "Warning message:\n",
      "“Unknown or uninitialised column: `orcid-identifier.path`.”\n",
      "Warning message:\n",
      "“Unknown or uninitialised column: `orcid-identifier.path`.”\n",
      "Warning message:\n",
      "“Unknown or uninitialised column: `orcid-identifier.path`.”\n",
      "Warning message:\n",
      "“Unknown or uninitialised column: `orcid-identifier.path`.”\n",
      "Warning message:\n",
      "“Unknown or uninitialised column: `orcid-identifier.path`.”\n"
     ]
    },
    {
     "name": "stdout",
     "output_type": "stream",
     "text": [
      "[1] \"Amandine Sergeant--Laboratory of Hydraulics, Hydrology and Glaciology\"\n",
      "[1] \"Anne Mangeney--Institut de Physique du Globe de Paris\"\n",
      "[1] \"Vladislav A. Yastrebov--MINES ParisTech, PSL Research University, Centre des Matériaux\"\n",
      "[1] \"Fabian Walter--Laboratory of Hydraulics, Hydrology and Glaciology\"\n",
      "[1] \"Jean-Paul Montagner--Institut de Physique du Globe de Paris\"\n",
      "[1] \"Olivier Castelnau--Laboratoire PIMM\"\n",
      "[1] \"Eléonore Stutzmann--Institut de Physique du Globe de Paris\"\n",
      "[1] \"Pauline Bonnet--Institut de Physique du Globe de Paris\"\n",
      "[1] \"Velotioana Jean-Luc Ralaiarisoa--Institut de Physique du Globe de Paris\"\n",
      "[1] \"Suzanne Bevan--Swansea University---0000-0003-2649-2982\"\n",
      "[1] \"Adrian Luckman--Swansea University\"\n",
      "[1] \"Add: 0000-0001-6952-2761\"\n",
      "[1] \"Add: 0000-0002-3197-6087\"\n"
     ]
    },
    {
     "name": "stderr",
     "output_type": "stream",
     "text": [
      "Warning message:\n",
      "“Unknown or uninitialised column: `orcid-identifier.path`.”\n",
      "Warning message:\n",
      "“Unknown or uninitialised column: `orcid-identifier.path`.”\n",
      "Warning message:\n",
      "“Unknown or uninitialised column: `orcid-identifier.path`.”\n"
     ]
    },
    {
     "name": "stdout",
     "output_type": "stream",
     "text": [
      "[1] \"M. Zemp--University of Zürich\"\n",
      "[1] \"M. Hoelzle--University of Zürich\"\n",
      "[1] \"W. Haeberli--University of Zürich\"\n",
      "[1] \"Add: 0000-0002-3591-4377\"\n"
     ]
    },
    {
     "name": "stderr",
     "output_type": "stream",
     "text": [
      "Warning message:\n",
      "“Unknown or uninitialised column: `orcid-identifier.path`.”\n"
     ]
    },
    {
     "name": "stdout",
     "output_type": "stream",
     "text": [
      "[1] \"Sean Fitzsimons--University of Otago\"\n",
      "[1] \"Sarah Mager--University of Otago\"\n",
      "[1] \"Russell Frew--University of Otago\"\n",
      "[1] \"Andrew Clifford--University of Otago\"\n",
      "[1] \"Gary Wilson--University of Otago\"\n",
      "[1] \"Add: 0000-0001-6610-5874\"\n",
      "[1] \"Add: 0000-0003-0025-3641\"\n",
      "[1] \"Add: 0000-0002-6138-2116\"\n"
     ]
    },
    {
     "name": "stderr",
     "output_type": "stream",
     "text": [
      "Warning message:\n",
      "“Unknown or uninitialised column: `orcid-identifier.path`.”\n",
      "Warning message:\n",
      "“Unknown or uninitialised column: `orcid-identifier.path`.”\n",
      "Warning message:\n",
      "“Unknown or uninitialised column: `orcid-identifier.path`.”\n",
      "Warning message:\n",
      "“Unknown or uninitialised column: `orcid-identifier.path`.”\n",
      "Warning message:\n",
      "“Unknown or uninitialised column: `orcid-identifier.path`.”\n",
      "Warning message:\n",
      "“Unknown or uninitialised column: `orcid-identifier.path`.”\n"
     ]
    },
    {
     "name": "stdout",
     "output_type": "stream",
     "text": [
      "[1] \"Chris R. Stokes--Department of Geography, University of Sheffield\"\n",
      "[1] \"Chris D. Clark--Department of Geography, University of Sheffield\"\n",
      "[1] \"Add: 0000-0003-3355-1573\"\n",
      "[1] \"Edward Hanna--Institute of Marine Studies\"\n",
      "[1] \"Philippe Huybrechts--Alfred-Wegener-Institut\"\n",
      "[1] \"Thomas L. Mote--Department of Geography\"\n",
      "[1] \"Add: 0000-0002-0021-0134\"\n"
     ]
    },
    {
     "name": "stderr",
     "output_type": "stream",
     "text": [
      "Warning message:\n",
      "“Unknown or uninitialised column: `orcid-identifier.path`.”\n",
      "Warning message:\n",
      "“Unknown or uninitialised column: `orcid-identifier.path`.”\n",
      "Warning message:\n",
      "“Unknown or uninitialised column: `orcid-identifier.path`.”\n",
      "Warning message:\n",
      "“Unknown or uninitialised column: `orcid-identifier.path`.”\n",
      "Warning message:\n",
      "“Unknown or uninitialised column: `orcid-identifier.path`.”\n",
      "Warning message:\n",
      "“Unknown or uninitialised column: `orcid-identifier.path`.”\n",
      "Warning message:\n",
      "“Unknown or uninitialised column: `orcid-identifier.path`.”\n"
     ]
    },
    {
     "name": "stdout",
     "output_type": "stream",
     "text": [
      "[1] \"Clément Miège--Department of Geography, University of Utah\"\n",
      "[1] \"Richard R. Forster--Department of Geography, University of Utah\"\n",
      "[1] \"Jason E. Box--Department of Geography, The Ohio State University\"\n",
      "[1] \"Evan W. Burgess--Department of Geography, University of Utah\"\n",
      "[1] \"Joseph R. McConnell--Desert Research Institute\"\n",
      "[1] \"Daniel R. Pasteris--Desert Research Institute\"\n",
      "[1] \"Vandy B. Spikes--Earth Science Agency, LLC\"\n",
      "[1] \"Add: 0000-0002-1894-3723\"\n",
      "[1] \"Add: 0000-0003-0052-8705\"\n"
     ]
    },
    {
     "name": "stderr",
     "output_type": "stream",
     "text": [
      "Warning message:\n",
      "“Unknown or uninitialised column: `orcid-identifier.path`.”\n"
     ]
    },
    {
     "name": "stdout",
     "output_type": "stream",
     "text": [
      "[1] \"Alexander A. Robel--California Institute of Technology\"\n",
      "[1] \"Victor C. Tsai--California Institute of Technology\"\n",
      "[1] \"Brent Minchew--British Antarctic Survey, University of Cambridge\"\n",
      "[1] \"Mark Simons--California Institute of Technology\"\n",
      "[1] \"Add: 0000-0003-4520-0105\"\n",
      "[1] \"Add: 0000-0003-1809-6672\"\n",
      "[1] \"Weili Wang\"\n",
      "[1] \"H. Jay Zwally\"\n",
      "[1] \"Christina L. Hulbe\"\n",
      "[1] \"Martin J. Siegert\"\n",
      "[1] \"Ias Joughin\"\n",
      "[1] \"Add: 0000-0003-4765-7037\"\n",
      "[1] \"Cathleen Geiger--University of Delaware\"\n",
      "[1] \"Hans-Reinhard Müller--Dartmouth College\"\n",
      "[1] \"Jesse P. Samluk--University of Delaware\"\n",
      "[1] \"E. Rachel Bernstein--University of Delaware\"\n",
      "[1] \"Jacqueline Richter-Menge--US Army Cold Regions Research and Engineering Laboratory\"\n",
      "[1] \"Add: 0000-0001-7364-5377\"\n"
     ]
    },
    {
     "name": "stderr",
     "output_type": "stream",
     "text": [
      "Warning message:\n",
      "“Unknown or uninitialised column: `orcid-identifier.path`.”\n",
      "Warning message:\n",
      "“Unknown or uninitialised column: `orcid-identifier.path`.”\n",
      "Warning message:\n",
      "“Unknown or uninitialised column: `orcid-identifier.path`.”\n"
     ]
    },
    {
     "name": "stdout",
     "output_type": "stream",
     "text": [
      "[1] \"Walter N. Meier\"\n",
      "[1] \"Mingrui Dai\"\n",
      "[1] \"Add: 0000-0003-2857-0550\"\n"
     ]
    },
    {
     "name": "stderr",
     "output_type": "stream",
     "text": [
      "Warning message:\n",
      "“Unknown or uninitialised column: `orcid-identifier.path`.”\n",
      "Warning message:\n",
      "“Unknown or uninitialised column: `orcid-identifier.path`.”\n",
      "Warning message:\n",
      "“Unknown or uninitialised column: `orcid-identifier.path`.”\n",
      "Warning message:\n",
      "“Unknown or uninitialised column: `orcid-identifier.path`.”\n"
     ]
    },
    {
     "name": "stdout",
     "output_type": "stream",
     "text": [
      "[1] \"Dominik Gräff--Laboratory of Hydraulics, Hydrology and Glaciology\"\n",
      "[1] \"Fabian Walter--Laboratory of Hydraulics, Hydrology and Glaciology\"\n",
      "[1] \"Bradley P. Lipovsky--Harvard University\"\n",
      "[1] \"Add: 0000-0003-1642-4783\"\n",
      "[1] \"Add: 0000-0001-6952-2761\"\n"
     ]
    },
    {
     "name": "stderr",
     "output_type": "stream",
     "text": [
      "Warning message:\n",
      "“Unknown or uninitialised column: `orcid-identifier.path`.”\n"
     ]
    },
    {
     "name": "stdout",
     "output_type": "stream",
     "text": [
      "[1] \"Cunde Xiao--Cold and Arid Regions Environmental and Engineering Research Institute\"\n",
      "[1] \"Shiyin Liu--Cold and Arid Regions Environmental and Engineering Research Institute\"\n",
      "[1] \"Lin Zhao--Cold and Arid Regions Environmental and Engineering Research Institute\"\n",
      "[1] \"Qingbai Wu--Cold and Arid Regions Environmental and Engineering Research Institute\"\n",
      "[1] \"Peiji Li--Cold and Arid Regions Environmental and Engineering Research Institute\"\n",
      "[1] \"Chunzhen Liu\"\n",
      "[1] \"Qiwen Zhang\"\n",
      "[1] \"Yongjian Ding\"\n",
      "[1] \"Tandong Yao--Cold and Arid Regions Environmental and Engineering Research Institute\"\n",
      "[1] \"Zhongqin Li\"\n",
      "[1] \"Jiancheng Pu--Cold and Arid Regions Environmental and Engineering Research Institute\"\n",
      "[1] \"Add: 0000-0002-9625-7497\"\n"
     ]
    },
    {
     "name": "stderr",
     "output_type": "stream",
     "text": [
      "Warning message:\n",
      "“Unknown or uninitialised column: `orcid-identifier.path`.”\n",
      "Warning message:\n",
      "“Unknown or uninitialised column: `orcid-identifier.path`.”\n",
      "Warning message:\n",
      "“Unknown or uninitialised column: `orcid-identifier.path`.”\n",
      "Warning message:\n",
      "“Unknown or uninitialised column: `orcid-identifier.path`.”\n"
     ]
    },
    {
     "name": "stdout",
     "output_type": "stream",
     "text": [
      "[1] \"R. Le Bris--University of Zürich-Irchel\"\n",
      "[1] \"F. Paul--University of Zürich-Irchel\"\n",
      "[1] \"H. Frey--University of Zürich-Irchel\"\n",
      "[1] \"T. Bolch--University of Zürich-Irchel\"\n",
      "[1] \"Add: 0000-0002-8201-5059\"\n",
      "[1] \"Krista M. McKinzey--Institute of Geography, School of GeoSciences, University of Edinburgh\"\n",
      "[1] \"John F. Orwin--Earth Sciences, Simon Fraser University\"\n",
      "[1] \"Tom Bradwell--British Geological Survey\"\n",
      "[1] \"Add: 0000-0001-5683-4723\"\n",
      "[1] \"Add: 0000-0003-0947-3309\"\n",
      "[1] \"An Liu--Jilin University\"\n",
      "[1] \"Rusheng Wang--Jilin University\"\n",
      "[1] \"Yang Yang--Jilin University\"\n",
      "[1] \"Liang Wang--Jilin University\"\n",
      "[1] \"Xiao Li--Jilin University\"\n",
      "[1] \"Yazhou Li--Jilin University\"\n",
      "[1] \"Pavel Talalay--Jilin University---0000-0002-8230-4600\"\n"
     ]
    },
    {
     "name": "stderr",
     "output_type": "stream",
     "text": [
      "Warning message:\n",
      "“Unknown or uninitialised column: `orcid-identifier.path`.”\n"
     ]
    },
    {
     "name": "stdout",
     "output_type": "stream",
     "text": [
      "[1] \"Bin Cheng--Finnish Institute of Marine Research\"\n",
      "[1] \"Jouko Launiainen--Finnish Institute of Marine Research\"\n",
      "[1] \"Timo Vihma--Finnish Institute of Marine Research\"\n",
      "[1] \"Juha Uotila--Finnish Institute of Marine Research\"\n",
      "[1] \"Add: 0000-0002-2939-7561\"\n",
      "[1] \"Richard C.A. Hindmarsh\"\n",
      "[1] \"Gwendolyn J.-M.C. Leysinger Vieli\"\n",
      "[1] \"Frédéric Parrenin--Laboratoire de Glaciologie et Géophysique de l’Environnement du CNRS (associé à l’Université Joseph Fourier – Grenoble I)\"\n",
      "[1] \"Add: 0000-0003-1817-0641\"\n",
      "[1] \"Add: 0000-0003-1633-2416\"\n",
      "[1] \"Add: 0000-0002-9489-3991\"\n",
      "[1] \"A. Soruco\"\n",
      "[1] \"C. Vincent\"\n",
      "[1] \"B. Francou\"\n",
      "[1] \"P. Ribstein--Université Pierre et Marie Curie\"\n",
      "[1] \"T. Berger\"\n",
      "[1] \"J.E. Sicart\"\n",
      "[1] \"P. Wagnon\"\n",
      "[1] \"Y. Arnaud\"\n",
      "[1] \"V. Favier\"\n",
      "[1] \"Y. Lejeune\"\n",
      "[1] \"Add: 0000-0002-1710-8267\"\n",
      "[1] \"Add: 0000-0001-6024-9498\"\n"
     ]
    },
    {
     "name": "stderr",
     "output_type": "stream",
     "text": [
      "Warning message:\n",
      "“Unknown or uninitialised column: `orcid-identifier.path`.”\n",
      "Warning message:\n",
      "“Unknown or uninitialised column: `orcid-identifier.path`.”\n",
      "Warning message:\n",
      "“Unknown or uninitialised column: `orcid-identifier.path`.”\n",
      "Warning message:\n",
      "“Unknown or uninitialised column: `orcid-identifier.path`.”\n",
      "Warning message:\n",
      "“Unknown or uninitialised column: `orcid-identifier.path`.”\n"
     ]
    },
    {
     "name": "stdout",
     "output_type": "stream",
     "text": [
      "[1] \"Weicai Wang--Institute of Tibetan Plateau Research\"\n",
      "[1] \"Tandong Yao--Institute of Tibetan Plateau Research\"\n",
      "[1] \"Xiaoxin Yang--Institute of Tibetan Plateau Research\"\n",
      "[1] \"Add: 0000-0003-1352-6303\"\n",
      "[1] \"Grant J. Macdonald--University of Chicago---0000-0002-9295-085X\"\n",
      "[1] \"Predrag Popović--University of Chicago\"\n",
      "[1] \"David P. Mayer--Astrogeology Science Center\"\n",
      "[1] \"Add: 0000-0001-8351-1807\"\n",
      "[1] \"Anders Svensson\"\n",
      "[1] \"Pauli Baadsager\"\n",
      "[1] \"Asbjørn Persson\"\n",
      "[1] \"Christine Schøtt Hvidberg\"\n",
      "[1] \"Marie-Louise Siggaard-Andersen\"\n",
      "[1] \"Add: 0000-0002-9665-1339\"\n",
      "[1] \"Add: 0000-0002-4364-6085\"\n"
     ]
    },
    {
     "name": "stderr",
     "output_type": "stream",
     "text": [
      "Warning message:\n",
      "“Unknown or uninitialised column: `orcid-identifier.path`.”\n"
     ]
    },
    {
     "name": "stdout",
     "output_type": "stream",
     "text": [
      "[1] \"Mary R. Albert--Cold Regions Research and Engineering Laboratory\"\n",
      "[1] \"Robert L. Hawley--Geophysics Program, University of Washington\"\n",
      "[1] \"Add: 0000-0001-7842-2359\"\n"
     ]
    },
    {
     "name": "stderr",
     "output_type": "stream",
     "text": [
      "Warning message:\n",
      "“Unknown or uninitialised column: `orcid-identifier.path`.”\n"
     ]
    },
    {
     "name": "stdout",
     "output_type": "stream",
     "text": [
      "[1] \"Matthew R. Siegfried--Stanford University---0000-0002-0868-4633\"\n",
      "[1] \"Helen A. Fricker--University of California\"\n",
      "[1] \"Add: 0000-0002-0921-1432\"\n",
      "[1] \"Koji Fujita--Graduate School of Environmental Studies\"\n",
      "[1] \"Add: 0000-0003-3753-4981\"\n",
      "[1] \"Julienne Stroeve\"\n",
      "[1] \"Thorsten Markus\"\n",
      "[1] \"Walter N. Meier\"\n",
      "[1] \"Jeff Miller\"\n",
      "[1] \"Add: 0000-0003-2857-0550\"\n",
      "[1] \"Helen E. Dahlke--Department of Physical Geography and Quaternary Geology, Stockholm University\"\n",
      "[1] \"Steve W. Lyon--Department of Physical Geography and Quaternary Geology, Stockholm University\"\n",
      "[1] \"Add: 0000-0001-8757-6982\"\n"
     ]
    },
    {
     "name": "stderr",
     "output_type": "stream",
     "text": [
      "Warning message:\n",
      "“Unknown or uninitialised column: `orcid-identifier.path`.”\n",
      "Warning message:\n",
      "“Unknown or uninitialised column: `orcid-identifier.path`.”\n",
      "Warning message:\n",
      "“Unknown or uninitialised column: `orcid-identifier.path`.”\n",
      "Warning message:\n",
      "“Unknown or uninitialised column: `orcid-identifier.path`.”\n",
      "Warning message:\n",
      "“Unknown or uninitialised column: `orcid-identifier.path`.”\n",
      "Warning message:\n",
      "“Unknown or uninitialised column: `orcid-identifier.path`.”\n",
      "Warning message:\n",
      "“Unknown or uninitialised column: `orcid-identifier.path`.”\n"
     ]
    },
    {
     "name": "stdout",
     "output_type": "stream",
     "text": [
      "[1] \"Pavel Talalay--Polar Research Center, Jilin University---0000-0002-8230-4600\"\n",
      "[1] \"Xingchen Li--Polar Research Center, Jilin University\"\n",
      "[1] \"Nan Zhang--Polar Research Center, Jilin University\"\n",
      "[1] \"Xiaopeng Fan--Polar Research Center, Jilin University\"\n",
      "[1] \"Youhong Sun--Polar Research Center, Jilin University\"\n",
      "[1] \"Pinlu Cao--Polar Research Center, Jilin University\"\n",
      "[1] \"Rusheng Wang--Polar Research Center, Jilin University\"\n",
      "[1] \"Yang Yang--Polar Research Center, Jilin University\"\n",
      "[1] \"Yongwen Liu--Polar Research Center, Jilin University\"\n",
      "[1] \"Yunchen Liu--Polar Research Center, Jilin University\"\n",
      "[1] \"Wei Wu--Polar Research Center, Jilin University\"\n",
      "[1] \"Cheng Yang--Polar Research Center, Jilin University\"\n",
      "[1] \"Jialin Hong--Polar Research Center, Jilin University\"\n",
      "[1] \"Da Gong--Polar Research Center, Jilin University\"\n",
      "[1] \"Han Zhang--Polar Research Center, Jilin University\"\n",
      "[1] \"Xiao Li--Polar Research Center, Jilin University\"\n",
      "[1] \"Yunwang Chen--Polar Research Center, Jilin University\"\n",
      "[1] \"An Liu--Polar Research Center, Jilin University\"\n",
      "[1] \"Yazhou Li--Polar Research Center, Jilin University\"\n"
     ]
    },
    {
     "name": "stderr",
     "output_type": "stream",
     "text": [
      "Warning message:\n",
      "“Unknown or uninitialised column: `orcid-identifier.path`.”\n"
     ]
    },
    {
     "name": "stdout",
     "output_type": "stream",
     "text": [
      "[1] \"Adam J. Campbell--School of Surveying, University of Otago\"\n",
      "[1] \"Christina L. Hulbe--School of Surveying, University of Otago\"\n",
      "[1] \"Choon-Ki Lee--Korea Polar Research Institute\"\n",
      "[1] \"Add: 0000-0003-4765-7037\"\n"
     ]
    },
    {
     "name": "stderr",
     "output_type": "stream",
     "text": [
      "Warning message:\n",
      "“Unknown or uninitialised column: `orcid-identifier.path`.”\n",
      "Warning message:\n",
      "“Unknown or uninitialised column: `orcid-identifier.path`.”\n",
      "Warning message:\n",
      "“Unknown or uninitialised column: `orcid-identifier.path`.”\n"
     ]
    },
    {
     "name": "stdout",
     "output_type": "stream",
     "text": [
      "[1] \"Jurgita Simaityte\"\n",
      "[1] \"Daniele Bocchiola\"\n",
      "[1] \"Juozas Augutis\"\n",
      "[1] \"Renzo Rosso\"\n",
      "[1] \"Add: 0000-0001-9335-3734\"\n",
      "[1] \"Add: 0000-0003-1062-1911\"\n"
     ]
    },
    {
     "name": "stderr",
     "output_type": "stream",
     "text": [
      "Warning message:\n",
      "“Unknown or uninitialised column: `orcid-identifier.path`.”\n",
      "Warning message:\n",
      "“Unknown or uninitialised column: `orcid-identifier.path`.”\n",
      "Warning message:\n",
      "“Unknown or uninitialised column: `orcid-identifier.path`.”\n",
      "Warning message:\n",
      "“Unknown or uninitialised column: `orcid-identifier.path`.”\n"
     ]
    },
    {
     "name": "stdout",
     "output_type": "stream",
     "text": [
      "[1] \"Tavi Murray--School of Geography, University of Leeds\"\n",
      "[1] \"Adrian Luckman--Department of Geography, University of Wales Swansea\"\n",
      "[1] \"Tazio Strozzi--Department of Geography, University of Wales Swansea\"\n",
      "[1] \"Anne-Marie Nuttall--School of Biological and Earth Sciences, Liverpool John Moores University\"\n",
      "[1] \"Add: 0000-0002-6716-3491\"\n",
      "[1] \"Ian M. Shoemaker--Virginia Tech---0000-0001-5434-3744\"\n",
      "[1] \"Alexander Kusenko--University of California\"\n",
      "[1] \"Peter Kuipers Munneke--Utrecht University---0000-0001-5555-3831\"\n",
      "[1] \"Andrew Romero-Wolf--California Institute of Technology---0000-0002-4992-4162\"\n",
      "[1] \"Dustin M. Schroeder--Stanford University---0000-0003-1916-3929\"\n",
      "[1] \"Martin J. Siegert--Imperial College London---0000-0002-0090-4806\"\n",
      "[1] \"Kenneth D. Mankoff--University of California Santa Cruz\"\n",
      "[1] \"Stanley S. Jacobs--Columbia University\"\n",
      "[1] \"Slawek M. Tulaczyk--University of California Santa Cruz\"\n",
      "[1] \"Sharon E. Stammerjohn--University of California Santa Cruz\"\n",
      "[1] \"Add: 0000-0001-5453-2019\"\n",
      "[1] \"Add: 0000-0002-1697-8244\"\n",
      "[1] \"Add: 0000-0002-9711-4332\"\n",
      "[1] \"Frédérique Rémy\"\n",
      "[1] \"Laurent Testut\"\n",
      "[1] \"Benoît Legrésy\"\n",
      "[1] \"Alessandro Forieri\"\n",
      "[1] \"Cesido Bianchi\"\n",
      "[1] \"Ignazio E. Tabacco\"\n",
      "[1] \"Add: 0000-0002-3969-2919\"\n"
     ]
    },
    {
     "name": "stderr",
     "output_type": "stream",
     "text": [
      "Warning message:\n",
      "“Unknown or uninitialised column: `orcid-identifier.path`.”\n",
      "Warning message:\n",
      "“Unknown or uninitialised column: `orcid-identifier.path`.”\n",
      "Warning message:\n",
      "“Unknown or uninitialised column: `orcid-identifier.path`.”\n",
      "Warning message:\n",
      "“Unknown or uninitialised column: `orcid-identifier.path`.”\n",
      "Warning message:\n",
      "“Unknown or uninitialised column: `orcid-identifier.path`.”\n",
      "Warning message:\n",
      "“Unknown or uninitialised column: `orcid-identifier.path`.”\n",
      "Warning message:\n",
      "“Unknown or uninitialised column: `orcid-identifier.path`.”\n",
      "Warning message:\n",
      "“Unknown or uninitialised column: `orcid-identifier.path`.”\n"
     ]
    },
    {
     "name": "stdout",
     "output_type": "stream",
     "text": [
      "[1] \"Ryan Wilson--Centro de Estudios Cientificos (CECs)\"\n",
      "[1] \"Daniela Carrión--Centro de Estudios Cientificos (CECs)\"\n",
      "[1] \"Andrés Rivera--Centro de Estudios Cientificos (CECs)\"\n",
      "[1] \"Add: 0000-0002-2779-4192\"\n"
     ]
    },
    {
     "name": "stderr",
     "output_type": "stream",
     "text": [
      "Warning message:\n",
      "“Unknown or uninitialised column: `orcid-identifier.path`.”\n",
      "Warning message:\n",
      "“Unknown or uninitialised column: `orcid-identifier.path`.”\n",
      "Warning message:\n",
      "“Unknown or uninitialised column: `orcid-identifier.path`.”\n",
      "Warning message:\n",
      "“Unknown or uninitialised column: `orcid-identifier.path`.”\n",
      "Warning message:\n",
      "“Unknown or uninitialised column: `orcid-identifier.path`.”\n"
     ]
    },
    {
     "name": "stdout",
     "output_type": "stream",
     "text": [
      "[1] \"Matthias Huss--Department of Geosciences, University of Fribourg\"\n",
      "[1] \"Leo Sold--Department of Geosciences, University of Fribourg\"\n",
      "[1] \"Martin Hoelzle--Department of Geosciences, University of Fribourg\"\n",
      "[1] \"Mazzal Stokvis--Department of Geosciences, University of Fribourg\"\n",
      "[1] \"Nadine Salzmann--Department of Geosciences, University of Fribourg\"\n",
      "[1] \"Daniel Farinotti--Laboratory of Hydraulics, Hydrology and Glaciology (VAW)\"\n",
      "[1] \"Michael Zemp--Department of Geography, University of Zürich\"\n",
      "[1] \"Add: 0000-0003-3417-4570\"\n",
      "[1] \"Add: 0000-0002-2377-6923\"\n",
      "[1] \"Add: 0000-0002-3591-4377\"\n",
      "[1] \"Pedro Skvarca--Instituto Antartico Argentino\"\n",
      "[1] \"Bruce Raup--National Snow and Ice Data Center, University of Colorado\"\n",
      "[1] \"Hernan de Angelis--Instituto Antartico Argentino\"\n",
      "[1] \"Add: 0000-0002-8584-272X\"\n"
     ]
    },
    {
     "name": "stderr",
     "output_type": "stream",
     "text": [
      "Warning message:\n",
      "“Unknown or uninitialised column: `orcid-identifier.path`.”\n"
     ]
    },
    {
     "name": "stdout",
     "output_type": "stream",
     "text": [
      "[1] \"C. Haas\"\n",
      "[1] \"S. Hendricks\"\n",
      "[1] \"M. Doble\"\n",
      "[1] \"Add: 0000-0001-8185-6510\"\n",
      "[1] \"Add: 0000-0002-7674-3500\"\n",
      "[1] \"Add: 0000-0002-1412-3146\"\n",
      "[1] \"Jocelyn Étienne\"\n",
      "[1] \"Pierre Saramito\"\n",
      "[1] \"Emil J. Hopfinger\"\n",
      "[1] \"Error in: 1449 owi:0000-0002-1866-5604\"\n"
     ]
    },
    {
     "name": "stderr",
     "output_type": "stream",
     "text": [
      "Warning message:\n",
      "“Unknown or uninitialised column: `orcid-identifier.path`.”\n",
      "Warning message:\n",
      "“Unknown or uninitialised column: `orcid-identifier.path`.”\n",
      "Warning message:\n",
      "“Unknown or uninitialised column: `orcid-identifier.path`.”\n",
      "Warning message:\n",
      "“Unknown or uninitialised column: `orcid-identifier.path`.”\n",
      "Warning message:\n",
      "“Unknown or uninitialised column: `orcid-identifier.path`.”\n"
     ]
    },
    {
     "name": "stdout",
     "output_type": "stream",
     "text": [
      "[1] \"Fuyuki Saito--Center for Climate System Research, The University of Tokyo\"\n",
      "[1] \"Ayako Abe-Ouchi--Center for Climate System Research, The University of Tokyo\"\n",
      "[1] \"Add: 0000-0001-5935-9614\"\n",
      "[1] \"Add: 0000-0003-1745-5952\"\n"
     ]
    },
    {
     "name": "stderr",
     "output_type": "stream",
     "text": [
      "Warning message:\n",
      "“Unknown or uninitialised column: `orcid-identifier.path`.”\n"
     ]
    },
    {
     "name": "stdout",
     "output_type": "stream",
     "text": [
      "[1] \"Barbara Turnbull--Division of Process and Environmental Engineering, University of Nottingham\"\n",
      "[1] \"Jim N. McElwaine--Department of Applied Mathematics and Theoretical Physics, University of Cambridge\"\n",
      "[1] \"Add: 0000-0002-6292-2014\"\n",
      "[1] \"Roger J. Braithwaite--School of Environment and Development, University of Manchester\"\n",
      "[1] \"Add: 0000-0002-0387-7591\"\n"
     ]
    },
    {
     "name": "stderr",
     "output_type": "stream",
     "text": [
      "Warning message:\n",
      "“Unknown or uninitialised column: `orcid-identifier.path`.”\n",
      "Warning message:\n",
      "“Unknown or uninitialised column: `orcid-identifier.path`.”\n",
      "Warning message:\n",
      "“Unknown or uninitialised column: `orcid-identifier.path`.”\n"
     ]
    },
    {
     "name": "stdout",
     "output_type": "stream",
     "text": [
      "[1] \"K. Nishimura--Institute of Law Temperature Science, Hokkaido University\"\n",
      "[1] \"K. Sugiura--Institute of Law Temperature Science, Hokkaido University\"\n",
      "[1] \"M. Nemoto--Institute of Law Temperature Science, Hokkaido University\"\n",
      "[1] \"N. Maeno--Institute of Law Temperature Science, Hokkaido University\"\n",
      "[1] \"Add: 0000-0003-2521-2491\"\n"
     ]
    },
    {
     "name": "stderr",
     "output_type": "stream",
     "text": [
      "Warning message:\n",
      "“Unknown or uninitialised column: `orcid-identifier.path`.”\n",
      "Warning message:\n",
      "“Unknown or uninitialised column: `orcid-identifier.path`.”\n"
     ]
    },
    {
     "name": "stdout",
     "output_type": "stream",
     "text": [
      "[1] \"J. Rachel Carr--Newcastle University\"\n",
      "[1] \"Chris. R. Stokes--Durham University\"\n",
      "[1] \"Andreas Vieli--University of Zurich\"\n",
      "[1] \"Add: 0000-0003-3355-1573\"\n"
     ]
    },
    {
     "name": "stderr",
     "output_type": "stream",
     "text": [
      "Warning message:\n",
      "“Unknown or uninitialised column: `orcid-identifier.path`.”\n",
      "Warning message:\n",
      "“Unknown or uninitialised column: `orcid-identifier.path`.”\n",
      "Warning message:\n",
      "“Unknown or uninitialised column: `orcid-identifier.path`.”\n",
      "Warning message:\n",
      "“Unknown or uninitialised column: `orcid-identifier.path`.”\n",
      "Warning message:\n",
      "“Unknown or uninitialised column: `orcid-identifier.path`.”\n",
      "Warning message:\n",
      "“Unknown or uninitialised column: `orcid-identifier.path`.”\n",
      "Warning message:\n",
      "“Unknown or uninitialised column: `orcid-identifier.path`.”\n",
      "Warning message:\n",
      "“Unknown or uninitialised column: `orcid-identifier.path`.”\n",
      "Warning message:\n",
      "“Unknown or uninitialised column: `orcid-identifier.path`.”\n",
      "Warning message:\n",
      "“Unknown or uninitialised column: `orcid-identifier.path`.”\n",
      "Warning message:\n",
      "“Unknown or uninitialised column: `orcid-identifier.path`.”\n",
      "Warning message:\n",
      "“Unknown or uninitialised column: `orcid-identifier.path`.”\n"
     ]
    },
    {
     "name": "stdout",
     "output_type": "stream",
     "text": [
      "[1] \"Andrew J. Stumpf--Illinois State Geological Survey, Prairie Research Institute, University of Illinois\"\n",
      "[1] \" Ahmed Ismail--Illinois State Geological Survey, Prairie Research Institute, University of Illinois\"\n",
      "[1] \"Add: 0000-0003-2940-7333\"\n"
     ]
    },
    {
     "name": "stderr",
     "output_type": "stream",
     "text": [
      "Warning message:\n",
      "“Unknown or uninitialised column: `orcid-identifier.path`.”\n"
     ]
    },
    {
     "name": "stdout",
     "output_type": "stream",
     "text": [
      "[1] \"Christine Schøtt Hvidberg\"\n",
      "[1] \"Add: 0000-0002-9665-1339\"\n"
     ]
    },
    {
     "name": "stderr",
     "output_type": "stream",
     "text": [
      "Warning message:\n",
      "“Unknown or uninitialised column: `orcid-identifier.path`.”\n",
      "Warning message:\n",
      "“Unknown or uninitialised column: `orcid-identifier.path`.”\n",
      "Warning message:\n",
      "“Unknown or uninitialised column: `orcid-identifier.path`.”\n"
     ]
    },
    {
     "name": "stdout",
     "output_type": "stream",
     "text": [
      "[1] \"Hubert Gallée\"\n",
      "[1] \"Vincent Peyaud\"\n",
      "[1] \"Ian Goodwin--School of Environmental and Life Sciences\"\n",
      "[1] \"Add: 0000-0001-8682-6409\"\n"
     ]
    },
    {
     "name": "stderr",
     "output_type": "stream",
     "text": [
      "Warning message:\n",
      "“Unknown or uninitialised column: `orcid-identifier.path`.”\n"
     ]
    },
    {
     "name": "stdout",
     "output_type": "stream",
     "text": [
      "[1] \"Addy Pope--School of the Environment and Society\"\n",
      "[1] \"Tavi Murray--School of the Environment and Society\"\n",
      "[1] \"Adrian Luckman--School of the Environment and Society\"\n",
      "[1] \"Add: 0000-0002-9618-5905\"\n",
      "[1] \"Beatriz Benjumea\"\n",
      "[1] \"Yury Ya. Macheret\"\n",
      "[1] \"Francisco J. Navarro\"\n",
      "[1] \"Teresa Teixidό\"\n",
      "[1] \"Error in: 1489 owi:0000-0002-0387-2205\"\n",
      "[1] \"Add: 0000-0002-5147-0067\"\n"
     ]
    },
    {
     "name": "stderr",
     "output_type": "stream",
     "text": [
      "Warning message:\n",
      "“Unknown or uninitialised column: `orcid-identifier.path`.”\n",
      "Warning message:\n",
      "“Unknown or uninitialised column: `orcid-identifier.path`.”\n",
      "Warning message:\n",
      "“Unknown or uninitialised column: `orcid-identifier.path`.”\n",
      "Warning message:\n",
      "“Unknown or uninitialised column: `orcid-identifier.path`.”\n"
     ]
    },
    {
     "name": "stdout",
     "output_type": "stream",
     "text": [
      "[1] \"Ruth Mottram--Geological Survey of Denmark and Greenland\"\n",
      "[1] \"Claus Nielsen--Geological Survey of Denmark and Greenland\"\n",
      "[1] \"Andreas P. Ahlstrøm--Geological Survey of Denmark and Greenland\"\n",
      "[1] \"Niels René--Geological Survey of Denmark and Greenland\"\n",
      "[1] \"Steen S. Kristensen--DTU-Space\"\n",
      "[1] \"Erik L. Christensen--DTU-Space\"\n",
      "[1] \"Rene´ Forsberg--DTU-Space\"\n",
      "[1] \"Lars Stenseng--DTU-Space\"\n",
      "[1] \"Add: 0000-0003-4690-4200\"\n"
     ]
    },
    {
     "name": "stderr",
     "output_type": "stream",
     "text": [
      "Warning message:\n",
      "“Unknown or uninitialised column: `orcid-identifier.path`.”\n",
      "Warning message:\n",
      "“Unknown or uninitialised column: `orcid-identifier.path`.”\n"
     ]
    },
    {
     "name": "stdout",
     "output_type": "stream",
     "text": [
      "[1] \"M. L. Chester--College of Science, Swansea University\"\n",
      "[1] \"B. Kulessa--College of Science, Swansea University\"\n",
      "[1] \"A. J. Luckman--College of Science, Swansea University\"\n",
      "[1] \"J. N. Bassis--University of Michigan\"\n",
      "[1] \"P. Kuipers Munneke--Utrecht University\"\n",
      "[1] \"Add: 0000-0002-4830-4949\"\n"
     ]
    },
    {
     "name": "stderr",
     "output_type": "stream",
     "text": [
      "Warning message:\n",
      "“Unknown or uninitialised column: `orcid-identifier.path`.”\n",
      "Warning message:\n",
      "“Unknown or uninitialised column: `orcid-identifier.path`.”\n"
     ]
    },
    {
     "name": "stdout",
     "output_type": "stream",
     "text": [
      "[1] \"Shun Tsutaki--Hokkaido University\"\n",
      "[1] \"Shin Sugiyama--Hokkaido University\"\n",
      "[1] \"Daiki Sakakibara--Hokkaido University\"\n",
      "[1] \"Teruo Aoki--Okayama University\"\n",
      "[1] \"Masashi Niwano--Meteorological Research Institute\"\n",
      "[1] \"Add: 0000-0002-5716-225X\"\n",
      "[1] \"Add: 0000-0003-3121-3802\"\n"
     ]
    },
    {
     "name": "stderr",
     "output_type": "stream",
     "text": [
      "Warning message:\n",
      "“Unknown or uninitialised column: `orcid-identifier.path`.”\n"
     ]
    },
    {
     "name": "stdout",
     "output_type": "stream",
     "text": [
      "[1] \"Yves Bühler--WSL Swiss Federal Institute for Snow and Avalanche Research SLF\"\n",
      "[1] \"Marc Christen--WSL Swiss Federal Institute for Snow and Avalanche Research SLF\"\n",
      "[1] \"Julia Kowalski--WSL Swiss Federal Institute for Snow and Avalanche Research SLF\"\n",
      "[1] \"Perry Bartelt--WSL Swiss Federal Institute for Snow and Avalanche Research SLF\"\n",
      "[1] \"Add: 0000-0002-0815-2717\"\n"
     ]
    },
    {
     "name": "stderr",
     "output_type": "stream",
     "text": [
      "Warning message:\n",
      "“Unknown or uninitialised column: `orcid-identifier.path`.”\n",
      "Warning message:\n",
      "“Unknown or uninitialised column: `orcid-identifier.path`.”\n",
      "Warning message:\n",
      "“Unknown or uninitialised column: `orcid-identifier.path`.”\n",
      "Warning message:\n",
      "“Unknown or uninitialised column: `orcid-identifier.path`.”\n"
     ]
    },
    {
     "name": "stdout",
     "output_type": "stream",
     "text": [
      "[1] \"Yubing Cheng--Institute of Atmospheric Physics, Chinese Academy of Sciences\"\n",
      "[1] \"Bin Cheng--Finnish Meteorological Institute---0000-0001-8156-8412\"\n",
      "[1] \"Fei Zheng--Institute of Atmospheric Physics, Chinese Academy of Sciences\"\n",
      "[1] \"Timo Vihma--Finnish Meteorological Institute\"\n",
      "[1] \"Anna Kontu--Finnish Meteorological Institute\"\n",
      "[1] \"Qinghua Yang--School of Atmospheric Sciences and Guangdong Province Key Laboratory for Climate Change and Natural Disaster Studies, Sun Yat-sen University---0000-0002-7114-2036\"\n",
      "[1] \"Zeliang Liao--School of Data and Computer Science, Sun Yat-sen University\"\n"
     ]
    },
    {
     "name": "stderr",
     "output_type": "stream",
     "text": [
      "Warning message:\n",
      "“Unknown or uninitialised column: `orcid-identifier.path`.”\n"
     ]
    },
    {
     "name": "stdout",
     "output_type": "stream",
     "text": [
      "[1] \"David A. Bailey--Cooperative Institute for Research in Environmental Sciences (ORES) /Program in Atmospheric and Oceanic Sciences\"\n",
      "[1] \"Amanda H. Lynch--Cooperative Institute for Research in Environmental Sciences (ORES) /Program in Atmospheric and Oceanic Sciences\"\n",
      "[1] \"Add: 0000-0003-2990-1016\"\n"
     ]
    },
    {
     "name": "stderr",
     "output_type": "stream",
     "text": [
      "Warning message:\n",
      "“Unknown or uninitialised column: `orcid-identifier.path`.”\n",
      "Warning message:\n",
      "“Unknown or uninitialised column: `orcid-identifier.path`.”\n",
      "Warning message:\n",
      "“Unknown or uninitialised column: `orcid-identifier.path`.”\n",
      "Warning message:\n",
      "“Unknown or uninitialised column: `orcid-identifier.path`.”\n"
     ]
    },
    {
     "name": "stdout",
     "output_type": "stream",
     "text": [
      "[1] \"David A. Lilien--University of Washington---0000-0001-8667-8020\"\n",
      "[1] \"Benjamin H. Hills--University of Washington---0000-0003-4490-7416\"\n",
      "[1] \"Joshua Driscol--University of Washington\"\n",
      "[1] \"Robert Jacobel--St. Olaf College\"\n",
      "[1] \"Knut Christianson--University of Washington\"\n"
     ]
    },
    {
     "name": "stderr",
     "output_type": "stream",
     "text": [
      "Warning message:\n",
      "“Unknown or uninitialised column: `orcid-identifier.path`.”\n",
      "Warning message:\n",
      "“Unknown or uninitialised column: `orcid-identifier.path`.”\n",
      "Warning message:\n",
      "“Unknown or uninitialised column: `orcid-identifier.path`.”\n",
      "Warning message:\n",
      "“Unknown or uninitialised column: `orcid-identifier.path`.”\n"
     ]
    },
    {
     "name": "stdout",
     "output_type": "stream",
     "text": [
      "[1] \"Christian Panton--Niels Bohr Institute\"\n",
      "[1] \"Add: 0000-0003-4438-271X\"\n"
     ]
    },
    {
     "name": "stderr",
     "output_type": "stream",
     "text": [
      "Warning message:\n",
      "“Unknown or uninitialised column: `orcid-identifier.path`.”\n"
     ]
    },
    {
     "name": "stdout",
     "output_type": "stream",
     "text": [
      "[1] \"J. Jania--Faculty of Earth Sciences, University of Silesia\"\n",
      "[1] \"Yu.Ya. Macheret--Institute of Geography, Russian Academy of Sciences\"\n",
      "[1] \"F.J. Navarro--Departamento de Matemática Aplicada, ETSI de Telecomunicación, Universidad Politécnica de Madrid, Ciudad Universitaria\"\n",
      "[1] \"A.F. Glazovsky--Institute of Geography, Russian Academy of Sciences\"\n",
      "[1] \"E.V. Vasilenko--Institute of Industrial Research Akadempribor, Academy of Sciences of Uzbekistan\"\n",
      "[1] \"J. Lapazaran--Departamento de Matemática Aplicada, ETSI de Telecomunicación, Universidad Politécnica de Madrid, Ciudad Universitaria\"\n",
      "[1] \"P. Glowacki--Institute of Geophysics, Polish Academy of Sciences\"\n",
      "[1] \"K. Migala--Institute of Geography, Wroclaw University\"\n",
      "[1] \"A. Balut--AGH – University of Science and Technology\"\n",
      "[1] \"B.A. Piwowar--Faculty of Earth Sciences, University of Silesia\"\n",
      "[1] \"Add: 0000-0001-5687-5381\"\n",
      "[1] \"Add: 0000-0003-1820-4960\"\n",
      "[1] \"Rakesh Kaur--National Technical Research Organization\"\n",
      "[1] \"Anil V. Kulkarni--Space Applications Centre, Indian Space Research Organisation\"\n",
      "[1] \"B.S. Chaudhary--Department of Geophysics, Kurukshetra University\"\n",
      "[1] \"Add: 0000-0003-3789-8443\"\n"
     ]
    },
    {
     "name": "stderr",
     "output_type": "stream",
     "text": [
      "Warning message:\n",
      "“Unknown or uninitialised column: `orcid-identifier.path`.”\n"
     ]
    },
    {
     "name": "stdout",
     "output_type": "stream",
     "text": [
      "[1] \"Olga V. Sergienko\"\n",
      "[1] \"Douglas R. MacAyeal\"\n",
      "[1] \"Jonathan E. Thom\"\n",
      "[1] \"Add: 0000-0002-5764-8815\"\n",
      "[1] \"Add: 0000-0003-0647-6176\"\n",
      "[1] \"M. Shahgedanova--University of Reading\"\n",
      "[1] \"V. Popovnin--Moscow State University\"\n",
      "[1] \"A. Aleynikov--Moscow State University\"\n",
      "[1] \"D. Petrakov--Moscow State University\"\n",
      "[1] \"C.R. Stokes--University of Reading\"\n",
      "[1] \"Add: 0000-0002-0990-495X\"\n",
      "[1] \"Add: 0000-0002-2320-3885\"\n",
      "[1] \"Add: 0000-0003-3355-1573\"\n"
     ]
    },
    {
     "name": "stderr",
     "output_type": "stream",
     "text": [
      "Warning message:\n",
      "“Unknown or uninitialised column: `orcid-identifier.path`.”\n"
     ]
    },
    {
     "name": "stdout",
     "output_type": "stream",
     "text": [
      "[1] \"David W. Ashmore--School of Geosciences\"\n",
      "[1] \"Robert G. Bingham--School of Geosciences\"\n",
      "[1] \"Richard C.A. Hindmarsh--British Antarctic Survey (BAS)\"\n",
      "[1] \"Hugh F.J. Corr--British Antarctic Survey (BAS)\"\n",
      "[1] \"Ian R. Joughin--Applied Physics Laboratory\"\n",
      "[1] \"Add: 0000-0003-4829-7854\"\n",
      "[1] \"Add: 0000-0002-0630-2021\"\n",
      "[1] \"Add: 0000-0003-1633-2416\"\n",
      "[1] \"Agnieszka Herman--Institute of Oceanography, University of Gdansk\"\n",
      "[1] \"Add: 0000-0001-5112-7165\"\n",
      "[1] \"Adeline Fabre--Laboratoire de Glaciologie et de Géophysique de l‘nvironnement\"\n",
      "[1] \"Catherine Ritz--Laboratoire de Glaciologie et de Géophysique de l‘nvironnement\"\n",
      "[1] \"Gilles Ramstein--Laboratoire de Modélisation du Climat et de l’Environnement\"\n",
      "[1] \"Add: 0000-0003-0785-8571\"\n",
      "[1] \"Jacob C. Yde--Center for Geomicrobiology, Aarhus University\"\n",
      "[1] \"Kai W. Finster--Department of Biological Sciences, Aarhus University\"\n",
      "[1] \"Rob Raiswell--School of Earth and Environment, University of Leeds\"\n",
      "[1] \"Jørgen P. Steffensen--Centre for Ice and Climate, University of Copenhagen\"\n",
      "[1] \"Jan Heinemeier--AMS <span class='sup'>14</span>C Dating Centre, Department of Physics and Astronomy, Aarhus University\"\n",
      "[1] \"Jesper Olsen--14 CHRONO Centre for Climate, the Environment and Chronology, School of Geography, Archaeology and Palaeoecology Queen’s University\"\n",
      "[1] \"Haraldur P. Gunnlaugsson--Department of Physics and Astronomy, Aarhus University\"\n",
      "[1] \"Ole B. Nielsen--Department of Earth Sciences, Aarhus University\"\n",
      "[1] \"Add: 0000-0002-6211-2601\"\n",
      "[1] \"Add: 0000-0002-5516-1093\"\n",
      "[1] \"Add: 0000-0002-4445-5520\"\n"
     ]
    },
    {
     "name": "stderr",
     "output_type": "stream",
     "text": [
      "Warning message:\n",
      "“Unknown or uninitialised column: `orcid-identifier.path`.”\n"
     ]
    },
    {
     "name": "stdout",
     "output_type": "stream",
     "text": [
      "[1] \"Christine Schøtt Hvidberg--The Niels Bohr Institute\"\n",
      "[1] \"Jørgen Peder Steffensen--The Niels Bohr Institute\"\n",
      "[1] \"Henrik B. Clausen--The Niels Bohr Institute\"\n",
      "[1] \"Hitoshi Shoji--Department of Civil Engineering\"\n",
      "[1] \"Joseph Kipfstuhl--Alfred-Wegener-Institut für Polar- und Meeresforschung\"\n",
      "[1] \"Add: 0000-0002-9665-1339\"\n"
     ]
    },
    {
     "name": "stderr",
     "output_type": "stream",
     "text": [
      "Warning message:\n",
      "“Unknown or uninitialised column: `orcid-identifier.path`.”\n",
      "Warning message:\n",
      "“Unknown or uninitialised column: `orcid-identifier.path`.”\n",
      "Warning message:\n",
      "“Unknown or uninitialised column: `orcid-identifier.path`.”\n",
      "Warning message:\n",
      "“Unknown or uninitialised column: `orcid-identifier.path`.”\n",
      "Warning message:\n",
      "“Unknown or uninitialised column: `orcid-identifier.path`.”\n",
      "Warning message:\n",
      "“Unknown or uninitialised column: `orcid-identifier.path`.”\n",
      "Warning message:\n",
      "“Unknown or uninitialised column: `orcid-identifier.path`.”\n",
      "Warning message:\n",
      "“Unknown or uninitialised column: `orcid-identifier.path`.”\n"
     ]
    },
    {
     "name": "stdout",
     "output_type": "stream",
     "text": [
      "[1] \"S. L. Cornford--University of Bristol, Bristol\"\n",
      "[1] \"D. F. Martin--Lawrence Berkeley National Laboratory, Berkeley\"\n",
      "[1] \"V. Lee--University of Bristol, Bristol\"\n",
      "[1] \"A. J. Payne--University of Bristol, Bristol\"\n",
      "[1] \"E. G. Ng--Lawrence Berkeley National Laboratory, Berkeley\"\n",
      "[1] \"Add: 0000-0003-1844-274X\"\n"
     ]
    },
    {
     "name": "stderr",
     "output_type": "stream",
     "text": [
      "Warning message:\n",
      "“Unknown or uninitialised column: `orcid-identifier.path`.”\n",
      "Warning message:\n",
      "“Unknown or uninitialised column: `orcid-identifier.path`.”\n",
      "Warning message:\n",
      "“Unknown or uninitialised column: `orcid-identifier.path`.”\n"
     ]
    },
    {
     "name": "stdout",
     "output_type": "stream",
     "text": [
      "[1] \"J.C. Kapil--Snow and Avalanche Study Establishment (SASE)\"\n",
      "[1] \"C. Prasher--Snow and Avalanche Study Establishment (SASE)\"\n",
      "[1] \"P. Datt--Snow and Avalanche Study Establishment (SASE)\"\n",
      "[1] \"P.K. Satyawali--Snow and Avalanche Study Establishment (SASE)\"\n",
      "[1] \"Add: 0000-0003-2586-481X\"\n"
     ]
    },
    {
     "name": "stderr",
     "output_type": "stream",
     "text": [
      "Warning message:\n",
      "“Unknown or uninitialised column: `orcid-identifier.path`.”\n",
      "Warning message:\n",
      "“Unknown or uninitialised column: `orcid-identifier.path`.”\n"
     ]
    },
    {
     "name": "stdout",
     "output_type": "stream",
     "text": [
      "[1] \"Marco Belo--University of Milan\"\n",
      "[1] \"Christoph Mayer\"\n",
      "[1] \"Claudio Smiraglia--University of Milan\"\n",
      "[1] \"Andrea Tamburini\"\n",
      "[1] \"Add: 0000-0001-6635-2074\"\n",
      "[1] \"Fengming Hui\"\n",
      "[1] \"Tianyu Ci\"\n",
      "[1] \"Xiao Cheng\"\n",
      "[1] \"Ted A. Scambo\"\n",
      "[1] \"Yan Liu\"\n",
      "[1] \"Yanmei Zhang\"\n",
      "[1] \"Zhaohui Chi\"\n",
      "[1] \"Huabing Huang\"\n",
      "[1] \"Xianwei Wang\"\n",
      "[1] \"Fang Wang\"\n",
      "[1] \"Chen Zhao\"\n",
      "[1] \"Zhenyu Jin\"\n",
      "[1] \"Kun Wang\"\n",
      "[1] \"Add: 0000-0002-4842-9573\"\n",
      "[1] \"Error in: 1549 owi:0000-0001-6253-8437\"\n",
      "[1] \"Pat Wongpan--Institute of Low Temperature Science, Hokkaido University---0000-0002-7113-8221\"\n",
      "[1] \"Daiki Nomura--Field Science Center for Northern Biosphere, Hokkaido University---0000-0003-3047-4023\"\n",
      "[1] \"Takenobu Toyota--Institute of Low Temperature Science, Hokkaido University---0000-0003-1264-1844\"\n",
      "[1] \"Tomonori Tanikawa--Meteorological Research Institute, Japan Meteorological Agency---0000-0002-8516-6514\"\n",
      "[1] \"Klaus M. Meiners--Kingston---0000-0001-7118-9136\"\n",
      "[1] \"Tomomi Ishino--School of Fisheries Sciences, Hokkaido University\"\n",
      "[1] \"Tetsuya P. Tamura--School of Fisheries Sciences, Hokkaido University---0000-0001-6596-6584\"\n",
      "[1] \"Manami Tozawa--School of Fisheries Sciences, Hokkaido University---0000-0002-9278-2753\"\n",
      "[1] \"Yuichi Nosaka--School of Biological Sciences, Tokai University\"\n",
      "[1] \"Toru Hirawake--Faculty of Fisheries Sciences, Hokkaido University---0000-0003-0274-6642\"\n",
      "[1] \"Atsushi Ooki--Faculty of Fisheries Sciences, Hokkaido University---0000-0001-5459-106X\"\n",
      "[1] \"Shigeru Aoki--Institute of Low Temperature Science, Hokkaido University---0000-0002-3314-484X\"\n",
      "[1] \"Add: 0000-0003-4573-115X\"\n",
      "[1] \"Benjamin A. Keisling--St Olaf College\"\n",
      "[1] \"Knut Christianson--St Olaf College\"\n",
      "[1] \"Richard B. Alley--Department of Geosciences and Earth and Environmental Systems Institute\"\n",
      "[1] \"Leo E. Peters--Department of Geosciences and Earth and Environmental Systems Institute\"\n",
      "[1] \"John E.M. Christian--St Olaf College\"\n",
      "[1] \"Sridhar Anandakrishnan--Department of Geosciences and Earth and Environmental Systems Institute\"\n",
      "[1] \"Kiya L. Riverman--Department of Geosciences and Earth and Environmental Systems Institute\"\n",
      "[1] \"Atsuhiro Muto--Department of Geosciences and Earth and Environmental Systems Institute\"\n",
      "[1] \"Robert W. Jacobel--St Olaf College\"\n",
      "[1] \"Add: 0000-0002-7290-1137\"\n",
      "[1] \"Add: 0000-0002-2182-2025\"\n",
      "[1] \"Add: 0000-0002-1722-2457\"\n"
     ]
    },
    {
     "name": "stderr",
     "output_type": "stream",
     "text": [
      "Warning message:\n",
      "“Unknown or uninitialised column: `orcid-identifier.path`.”\n",
      "Warning message:\n",
      "“Unknown or uninitialised column: `orcid-identifier.path`.”\n",
      "Warning message:\n",
      "“Unknown or uninitialised column: `orcid-identifier.path`.”\n"
     ]
    },
    {
     "name": "stdout",
     "output_type": "stream",
     "text": [
      "[1] \"Victoria I. Lytle\"\n",
      "[1] \"A. P. Worby\"\n",
      "[1] \"R. A. Massom\"\n",
      "[1] \"Add: 0000-0003-1533-5084\"\n"
     ]
    },
    {
     "name": "stderr",
     "output_type": "stream",
     "text": [
      "Warning message:\n",
      "“Unknown or uninitialised column: `orcid-identifier.path`.”\n",
      "Warning message:\n",
      "“Unknown or uninitialised column: `orcid-identifier.path`.”\n",
      "Warning message:\n",
      "“Unknown or uninitialised column: `orcid-identifier.path`.”\n"
     ]
    },
    {
     "name": "stdout",
     "output_type": "stream",
     "text": [
      "[1] \"Samuel Taylor-Offord--Antarctic Research Centre, Victoria University of Wellington---0000-0002-6770-2731\"\n",
      "[1] \"Huw Horgan--Antarctic Research Centre, Victoria University of Wellington---0000-0002-4836-0078\"\n",
      "[1] \"John Townend--Victoria University of Wellington---0000-0002-7017-620X\"\n",
      "[1] \"J. Paul Winberry--Central Washington University\"\n"
     ]
    },
    {
     "name": "stderr",
     "output_type": "stream",
     "text": [
      "Warning message:\n",
      "“Unknown or uninitialised column: `orcid-identifier.path`.”\n"
     ]
    },
    {
     "name": "stdout",
     "output_type": "stream",
     "text": [
      "[1] \"Steven Franke--Alfred Wegener Institute---0000-0001-8462-4379\"\n",
      "[1] \"Daniela Jansen--Alfred Wegener Institute---0000-0002-4412-5820\"\n",
      "[1] \"Tobias Binder--Alfred Wegener Institute\"\n",
      "[1] \"Nils Dörr--Alfred Wegener Institute---0000-0002-7594-7886\"\n",
      "[1] \"Veit Helm--Alfred Wegener Institute---0000-0001-7788-9328\"\n",
      "[1] \"John Paden--University of Kansas---0000-0003-0775-6284\"\n",
      "[1] \"Daniel Steinhage--Alfred Wegener Institute---0000-0003-4737-9751\"\n",
      "[1] \"Olaf Eisen--Alfred Wegener Institute---0000-0002-6380-962X\"\n",
      "[1] \"Vladimir B. Aizen--College of Science, University of Idaho\"\n",
      "[1] \"Elena M. Aizen--College of Science, University of Idaho\"\n",
      "[1] \"Daniel R. Joswiak--College of Science, University of Idaho\"\n",
      "[1] \"Koji Fujita--Hydrospheric Atmospheric Research Center, Nagoya University\"\n",
      "[1] \"Nozomu Takeuchi--Research Institute for Humanity and Nature\"\n",
      "[1] \"Stanislav A. Nikitin--Department of Glacio-Climatology, Tomsk State University\"\n",
      "[1] \"Add: 0000-0002-3267-5534\"\n",
      "[1] \"Add: 0000-0003-3753-4981\"\n",
      "[1] \"Christian Hjort\"\n",
      "[1] \"Svante Björck\"\n",
      "[1] \"Ólafur Ingólfsson\"\n",
      "[1] \"Per Möller\"\n",
      "[1] \"Add: 0000-0001-5365-2668\"\n"
     ]
    },
    {
     "name": "stderr",
     "output_type": "stream",
     "text": [
      "Warning message:\n",
      "“Unknown or uninitialised column: `orcid-identifier.path`.”\n"
     ]
    },
    {
     "name": "stdout",
     "output_type": "stream",
     "text": [
      "[1] \"Peter D. Bromirski--Scripps Institution of Oceanography\"\n",
      "[1] \"Ralph A. Stephen--Woods Hole Oceanographic Institution\"\n",
      "[1] \"Add: 0000-0003-0937-2049\"\n",
      "[1] \"Vladimir N. Golubev\"\n",
      "[1] \"Marina N. Petrushina\"\n",
      "[1] \"Denis M. Frolov\"\n",
      "[1] \"Add: 0000-0002-0307-8175\"\n",
      "[1] \"Shaun Mcdonald--University of Manitoba\"\n",
      "[1] \"Theodoro Koulis--University of Manitoba\"\n",
      "[1] \"Jens Ehn--University of Manitoba\"\n",
      "[1] \"Karley Campbell--University of Manitoba\"\n",
      "[1] \"Michel Gosselin--Université du Québec à Rimouski\"\n",
      "[1] \"C.J. Mundy--University of Manitoba\"\n",
      "[1] \"Add: 0000-0001-5008-0705\"\n",
      "[1] \"Add: 0000-0002-1044-0793\"\n"
     ]
    },
    {
     "name": "stderr",
     "output_type": "stream",
     "text": [
      "Warning message:\n",
      "“Unknown or uninitialised column: `orcid-identifier.path`.”\n",
      "Warning message:\n",
      "“Unknown or uninitialised column: `orcid-identifier.path`.”\n",
      "Warning message:\n",
      "“Unknown or uninitialised column: `orcid-identifier.path`.”\n",
      "Warning message:\n",
      "“Unknown or uninitialised column: `orcid-identifier.path`.”\n"
     ]
    },
    {
     "name": "stdout",
     "output_type": "stream",
     "text": [
      "[1] \"William Colgan--Geological Survey of Denmark and Greenland\"\n",
      "[1] \"Jason E. Box--Geological Survey of Denmark and Greenland\"\n",
      "[1] \"Morten L. Andersen--Geological Survey of Denmark and Greenland\"\n",
      "[1] \"Xavier Fettweis--University of Liège, Liège\"\n",
      "[1] \"Beáta Csathó--State University of New York\"\n",
      "[1] \"Robert S. Fausto--Geological Survey of Denmark and Greenland\"\n",
      "[1] \"Dirk Van As--Geological Survey of Denmark and Greenland\"\n",
      "[1] \"John Wahr--University of Colorado\"\n",
      "[1] \"Add: 0000-0003-1317-8185\"\n",
      "[1] \"Add: 0000-0001-6334-1660\"\n",
      "[1] \"Add: 0000-0002-6553-8982\"\n",
      "[1] \"Add: 0000-0003-0052-8705\"\n",
      "[1] \"Add: 0000-0002-4140-3813\"\n"
     ]
    },
    {
     "name": "stderr",
     "output_type": "stream",
     "text": [
      "Warning message:\n",
      "“Unknown or uninitialised column: `orcid-identifier.path`.”\n"
     ]
    },
    {
     "name": "stdout",
     "output_type": "stream",
     "text": [
      "[1] \"Shunying Ji--Dalian University of Technology\"\n",
      "[1] \"Xiaodong Chen--Dalian University of Technology---0000-0002-8810-3586\"\n",
      "[1] \"Anliang Wang--National Marine Environmental Forecasting Center\"\n"
     ]
    },
    {
     "name": "stderr",
     "output_type": "stream",
     "text": [
      "Warning message:\n",
      "“Unknown or uninitialised column: `orcid-identifier.path`.”\n",
      "Warning message:\n",
      "“Unknown or uninitialised column: `orcid-identifier.path`.”\n",
      "Warning message:\n",
      "“Unknown or uninitialised column: `orcid-identifier.path`.”\n",
      "Warning message:\n",
      "“Unknown or uninitialised column: `orcid-identifier.path`.”\n",
      "Warning message:\n",
      "“Unknown or uninitialised column: `orcid-identifier.path`.”\n"
     ]
    },
    {
     "name": "stdout",
     "output_type": "stream",
     "text": [
      "[1] \"Peter Jansson--Department of Physical Geography and Quaternary Geology, Stockholm University\"\n",
      "[1] \"Hans W. Linderholm--Regional Climate Group, Earth Sciences Center, Göteborg University\"\n",
      "[1] \"Add: 0000-0002-8832-8806\"\n",
      "[1] \"Add: 0000-0002-1522-8919\"\n"
     ]
    },
    {
     "name": "stderr",
     "output_type": "stream",
     "text": [
      "Warning message:\n",
      "“Unknown or uninitialised column: `orcid-identifier.path`.”\n",
      "Warning message:\n",
      "“Unknown or uninitialised column: `orcid-identifier.path`.”\n",
      "Warning message:\n",
      "“Unknown or uninitialised column: `orcid-identifier.path`.”\n",
      "Warning message:\n",
      "“Unknown or uninitialised column: `orcid-identifier.path`.”\n",
      "Warning message:\n",
      "“Unknown or uninitialised column: `orcid-identifier.path`.”\n"
     ]
    },
    {
     "name": "stdout",
     "output_type": "stream",
     "text": [
      "[1] \"Ben Lishman--Institute for Risk and Disaster Reduction, University College London\"\n",
      "[1] \"Jemma Wadham--School of Geographical Sciences, Bristol University\"\n",
      "[1] \"Bruce Drinkwater--Faculty of Engineering, Bristol University\"\n",
      "[1] \"J.-Michael Kendall--School of Earth Sciences, Bristol University\"\n",
      "[1] \"Steve Burrow--Faculty of Engineering, Bristol University\"\n",
      "[1] \"Geoff Hilton--Faculty of Engineering, Bristol University\"\n",
      "[1] \"Ian Craddock--Faculty of Engineering, Bristol University\"\n",
      "[1] \"Add: 0000-0002-8384-8140\"\n",
      "[1] \"Add: 0000-0002-8307-1175\"\n",
      "[1] \"Add: 0000-0002-1486-3945\"\n"
     ]
    },
    {
     "name": "stderr",
     "output_type": "stream",
     "text": [
      "Warning message:\n",
      "“Unknown or uninitialised column: `orcid-identifier.path`.”\n",
      "Warning message:\n",
      "“Unknown or uninitialised column: `orcid-identifier.path`.”\n",
      "Warning message:\n",
      "“Unknown or uninitialised column: `orcid-identifier.path`.”\n",
      "Warning message:\n",
      "“Unknown or uninitialised column: `orcid-identifier.path`.”\n"
     ]
    },
    {
     "name": "stdout",
     "output_type": "stream",
     "text": [
      "[1] \"Christoph Mitterer--WSL Institute for Snow and Avalanche Research SLF\"\n",
      "[1] \"Hiroyuki Hirashima--Snow and Ice Research Center\"\n",
      "[1] \"Jürg Schweizer--WSL Institute for Snow and Avalanche Research SLF\"\n",
      "[1] \"Add: 0000-0001-5076-2968\"\n",
      "[1] \"Hans Oerter--Alfred Wegener Institute for Polar and Marine Research\"\n",
      "[1] \"Wolfgang Graf--GSF-Institute of Groundwater Ecology\"\n",
      "[1] \"Hanno Meyer--Alfred Wegener Institute for Polar and Marine Research\"\n",
      "[1] \"Frank Wilhelms--Alfred Wegener Institute for Polar and Marine Research\"\n",
      "[1] \"Add: 0000-0003-4129-4706\"\n"
     ]
    },
    {
     "name": "stderr",
     "output_type": "stream",
     "text": [
      "Warning message:\n",
      "“Unknown or uninitialised column: `orcid-identifier.path`.”\n",
      "Warning message:\n",
      "“Unknown or uninitialised column: `orcid-identifier.path`.”\n"
     ]
    },
    {
     "name": "stdout",
     "output_type": "stream",
     "text": [
      "[1] \"Carlos Martín--Departamento de Matemática Aplicada, ETSI de Telecomunicación, Universidad Politécnica de Madrid, Ciudad Universitaria\"\n",
      "[1] \"Francisco Navarro--Departamento de Matemática Aplicada, ETSI de Telecomunicación, Universidad Politécnica de Madrid, Ciudad Universitaria\"\n",
      "[1] \"Jaime Otero--Departamento de Matemática Aplicada, ETSI de Telecomunicación, Universidad Politécnica de Madrid, Ciudad Universitaria\"\n",
      "[1] \"María L. Cuadrado--Departamento de Matemática Aplicada, ETSI de Telecomunicación, Universidad Politécnica de Madrid, Ciudad Universitaria\"\n",
      "[1] \"María I. Corcuera--Departamento de Matemática Aplicada, ETSI de Telecomunicación, Universidad Politécnica de Madrid, Ciudad Universitaria\"\n",
      "[1] \"Add: 0000-0002-3518-7763\"\n",
      "[1] \"Add: 0000-0002-5147-0067\"\n"
     ]
    },
    {
     "name": "stderr",
     "output_type": "stream",
     "text": [
      "Warning message:\n",
      "“Unknown or uninitialised column: `orcid-identifier.path`.”\n",
      "Warning message:\n",
      "“Unknown or uninitialised column: `orcid-identifier.path`.”\n",
      "Warning message:\n",
      "“Unknown or uninitialised column: `orcid-identifier.path`.”\n",
      "Warning message:\n",
      "“Unknown or uninitialised column: `orcid-identifier.path`.”\n",
      "Warning message:\n",
      "“Unknown or uninitialised column: `orcid-identifier.path`.”\n",
      "Warning message:\n",
      "“Unknown or uninitialised column: `orcid-identifier.path`.”\n",
      "Warning message:\n",
      "“Unknown or uninitialised column: `orcid-identifier.path`.”\n"
     ]
    },
    {
     "name": "stdout",
     "output_type": "stream",
     "text": [
      "[1] \"Martin Heynen--Institute of Environmental Engineering\"\n",
      "[1] \"Evan Miles--Scott Polar Research Institute\"\n",
      "[1] \"Silvan Ragettli--Institute of Environmental Engineering\"\n",
      "[1] \"Pascal Buri--Institute of Environmental Engineering\"\n",
      "[1] \"Walter W. Immerzeel--Utrecht University\"\n",
      "[1] \"Francesca Pellicciotti--Institute of Environmental Engineering\"\n",
      "[1] \"Add: 0000-0001-9817-8541\"\n",
      "[1] \"Add: 0000-0001-5446-8571\"\n",
      "[1] \"Add: 0000-0002-2010-9543\"\n"
     ]
    },
    {
     "name": "stderr",
     "output_type": "stream",
     "text": [
      "Warning message:\n",
      "“Unknown or uninitialised column: `orcid-identifier.path`.”\n",
      "Warning message:\n",
      "“Unknown or uninitialised column: `orcid-identifier.path`.”\n",
      "Warning message:\n",
      "“Unknown or uninitialised column: `orcid-identifier.path`.”\n",
      "Warning message:\n",
      "“Unknown or uninitialised column: `orcid-identifier.path`.”\n"
     ]
    },
    {
     "name": "stdout",
     "output_type": "stream",
     "text": [
      "[1] \"Monica J.S. Nelson--University of Otago\"\n",
      "[1] \"Bastien Y. Queste--University of East Anglia\"\n",
      "[1] \"Inga J. Smith--University of Otago\"\n",
      "[1] \"Gregory H. Leonard--University of Otago\"\n",
      "[1] \"Benjamin G.M. Webber--University of East Anglia\"\n",
      "[1] \"Kenneth G. Hughes--University of Victoria\"\n",
      "[1] \"Add: 0000-0001-5066-3310\"\n",
      "[1] \"Add: 0000-0001-7679-9486\"\n",
      "[1] \"Add: 0000-0002-8812-5929\"\n",
      "[1] \"Add: 0000-0002-3786-2275\"\n"
     ]
    },
    {
     "name": "stderr",
     "output_type": "stream",
     "text": [
      "Warning message:\n",
      "“Unknown or uninitialised column: `orcid-identifier.path`.”\n",
      "Warning message:\n",
      "“Unknown or uninitialised column: `orcid-identifier.path`.”\n",
      "Warning message:\n",
      "“Unknown or uninitialised column: `orcid-identifier.path`.”\n",
      "Warning message:\n",
      "“Unknown or uninitialised column: `orcid-identifier.path`.”\n",
      "Warning message:\n",
      "“Unknown or uninitialised column: `orcid-identifier.path`.”\n",
      "Warning message:\n",
      "“Unknown or uninitialised column: `orcid-identifier.path`.”\n",
      "Warning message:\n",
      "“Unknown or uninitialised column: `orcid-identifier.path`.”\n",
      "Warning message:\n",
      "“Unknown or uninitialised column: `orcid-identifier.path`.”\n"
     ]
    },
    {
     "name": "stdout",
     "output_type": "stream",
     "text": [
      "[1] \"Emiliano Cimoli--University of Tasmania\"\n",
      "[1] \"Arko Lucieer--University of Tasmania\"\n",
      "[1] \"Klaus M. Meiners--Department of the Environment and Energy\"\n",
      "[1] \"Lars Chresten Lund-Hansen--Aarhus University\"\n",
      "[1] \"Fraser Kennedy--University of Tasmania\"\n",
      "[1] \"Andrew Martin--University of Tasmania\"\n",
      "[1] \"Andrew McMinn--University of Tasmania\"\n",
      "[1] \"Vanessa Lucieer--University of Tasmania\"\n",
      "[1] \"Add: 0000-0001-7964-2716\"\n",
      "[1] \"Add: 0000-0003-1796-0764\"\n",
      "[1] \"Add: 0000-0001-5925-322X\"\n",
      "[1] \"Add: 0000-0001-7531-5750\"\n",
      "[1] \"Add: 0000-0002-9468-4516\"\n"
     ]
    },
    {
     "name": "stderr",
     "output_type": "stream",
     "text": [
      "Warning message:\n",
      "“Unknown or uninitialised column: `orcid-identifier.path`.”\n",
      "Warning message:\n",
      "“Unknown or uninitialised column: `orcid-identifier.path`.”\n",
      "Warning message:\n",
      "“Unknown or uninitialised column: `orcid-identifier.path`.”\n",
      "Warning message:\n",
      "“Unknown or uninitialised column: `orcid-identifier.path`.”\n"
     ]
    },
    {
     "name": "stdout",
     "output_type": "stream",
     "text": [
      "[1] \"Thomas V. Schuler--Department of Physical Geography and Quaternary Geology, Stockholm University\"\n",
      "[1] \"Regine Hock--Department of Physical Geography and Quaternary Geology, Stockholm University\"\n",
      "[1] \"Miriam Jackson--Norwegian Water Resources and Energy Directorate (NVE)\"\n",
      "[1] \"Hallgeir Elvehøy--Norwegian Water Resources and Energy Directorate (NVE)\"\n",
      "[1] \"Matthias Braun--Zentrum für Fernerkundung der Landoberfläche, University Bonn\"\n",
      "[1] \"Ian Brown--Department of Physical Geography and Quaternary Geology, Stockholm University\"\n",
      "[1] \"Jon-Ove Hagen--Department of Geosciences, University of Oslo\"\n",
      "[1] \"Add: 0000-0003-3719-6716\"\n",
      "[1] \"Add: 0000-0003-0972-3929\"\n",
      "[1] \"Add: 0000-0001-8336-9441\"\n",
      "[1] \"Add: 0000-0001-5169-1567\"\n"
     ]
    },
    {
     "name": "stderr",
     "output_type": "stream",
     "text": [
      "Warning message:\n",
      "“Unknown or uninitialised column: `orcid-identifier.path`.”\n"
     ]
    },
    {
     "name": "stdout",
     "output_type": "stream",
     "text": [
      "[1] \"Roger J. Braithwaite--School of Environment and Development, University of Manchester\"\n",
      "[1] \"Sarah C.B. Raper--Centre for Air Transport and the Environment, Manchester Metropolitan University\"\n",
      "[1] \"Romain Candela--Centre for Air Transport and the Environment, Manchester Metropolitan University\"\n",
      "[1] \"Add: 0000-0002-0387-7591\"\n"
     ]
    },
    {
     "name": "stderr",
     "output_type": "stream",
     "text": [
      "Warning message:\n",
      "“Unknown or uninitialised column: `orcid-identifier.path`.”\n",
      "Warning message:\n",
      "“Unknown or uninitialised column: `orcid-identifier.path`.”\n"
     ]
    },
    {
     "name": "stdout",
     "output_type": "stream",
     "text": [
      "[1] \"Adeline Fabre--Laboratoire de Glaciologie et de Géophysique de l’Environnement\"\n",
      "[1] \"Anne Letréguilly--Laboratoire de Glaciologie et de Géophysique de l’Environnement\"\n",
      "[1] \"Catherine Ritz--Laboratoire de Glaciologie et de Géophysique de l’Environnement\"\n",
      "[1] \"Anne Mangeney--Laboratoire de Glaciologie et de Géophysique de l’Environnement\"\n",
      "[1] \"Add: 0000-0003-0785-8571\"\n"
     ]
    },
    {
     "name": "stderr",
     "output_type": "stream",
     "text": [
      "Warning message:\n",
      "“Unknown or uninitialised column: `orcid-identifier.path`.”\n"
     ]
    },
    {
     "name": "stdout",
     "output_type": "stream",
     "text": [
      "[1] \"Mats A. Granskog\"\n",
      "[1] \"Jari Uusikivi\"\n",
      "[1] \"Alberto Blanco Sequeiros\"\n",
      "[1] \"Eloni Sonninen\"\n",
      "[1] \"Add: 0000-0002-5035-4347\"\n"
     ]
    },
    {
     "name": "stderr",
     "output_type": "stream",
     "text": [
      "Warning message:\n",
      "“Unknown or uninitialised column: `orcid-identifier.path`.”\n",
      "Warning message:\n",
      "“Unknown or uninitialised column: `orcid-identifier.path`.”\n",
      "Warning message:\n",
      "“Unknown or uninitialised column: `orcid-identifier.path`.”\n",
      "Warning message:\n",
      "“Unknown or uninitialised column: `orcid-identifier.path`.”\n"
     ]
    },
    {
     "name": "stdout",
     "output_type": "stream",
     "text": [
      "[1] \"Gaël Durand--Laboratoire de Glaciologie et Géophysique de l’Environnement du CNRS (associè à l’Université Joseph Fournier– Grenoble I)\"\n",
      "[1] \"Olivier Gagliardini--Laboratoire de Glaciologie et Géophysique de l’Environnement du CNRS (associè à l’Université Joseph Fournier– Grenoble I)\"\n",
      "[1] \"Thomas Zwinger\"\n",
      "[1] \"Emmanuel Le Meur--Laboratoire de Glaciologie et Géophysique de l’Environnement du CNRS (associè à l’Université Joseph Fournier– Grenoble I)\"\n",
      "[1] \"Richard C.A. Hindmarsh\"\n",
      "[1] \"Add: 0000-0001-8979-2355\"\n",
      "[1] \"Add: 0000-0003-1633-2416\"\n",
      "[1] \"Add: 0000-0003-3360-4401\"\n",
      "[1] \"Richard Delf--University of Edinburgh---0000-0001-8407-2420\"\n",
      "[1] \"Dustin M. Schroeder--Stanford University---0000-0003-1916-3929\"\n",
      "[1] \"Andrew Curtis--University of Edinburgh---0000-0003-1222-1583\"\n",
      "[1] \"Antonios Giannopoulos--University of Edinburgh---0000-0001-7108-6997\"\n",
      "[1] \"Robert G. Bingham--University of Edinburgh---0000-0002-0630-2021\"\n"
     ]
    },
    {
     "name": "stderr",
     "output_type": "stream",
     "text": [
      "Warning message:\n",
      "“Unknown or uninitialised column: `orcid-identifier.path`.”\n",
      "Warning message:\n",
      "“Unknown or uninitialised column: `orcid-identifier.path`.”\n",
      "Warning message:\n",
      "“Unknown or uninitialised column: `orcid-identifier.path`.”\n",
      "Warning message:\n",
      "“Unknown or uninitialised column: `orcid-identifier.path`.”\n",
      "Warning message:\n",
      "“Unknown or uninitialised column: `orcid-identifier.path`.”\n",
      "Warning message:\n",
      "“Unknown or uninitialised column: `orcid-identifier.path`.”\n",
      "Warning message:\n",
      "“Unknown or uninitialised column: `orcid-identifier.path`.”\n",
      "Warning message:\n",
      "“Unknown or uninitialised column: `orcid-identifier.path`.”\n"
     ]
    },
    {
     "name": "stdout",
     "output_type": "stream",
     "text": [
      "[1] \"Ed Bueler--University of Alaska Fairbanks\"\n",
      "[1] \"Craig S. Lingle--Geophysical Institute\"\n",
      "[1] \"Jed Brown--University of Alaska Fairbanks\"\n",
      "[1] \"Add: 0000-0002-9945-0639\"\n",
      "[1] \"M. L. Pittard--Institute for Marine and Antarctic Studies, University of Tasmania\"\n",
      "[1] \"J. L. Roberts--Antarctic Climate & Ecosystems Cooperative Research Centre, University of Tasmania\"\n",
      "[1] \"B. K. Galton-Fenzi--Antarctic Climate & Ecosystems Cooperative Research Centre, University of Tasmania\"\n",
      "[1] \"C. S. Watson--School of Land and Food, University of Tasmania\"\n",
      "[1] \"Add: 0000-0002-9026-7571\"\n",
      "[1] \"Add: 0000-0002-7464-4592\"\n",
      "[1] \"Add: 0000-0002-3477-4069\"\n",
      "[1] \"Add: 0000-0003-1404-4103\"\n"
     ]
    },
    {
     "name": "stderr",
     "output_type": "stream",
     "text": [
      "Warning message:\n",
      "“Unknown or uninitialised column: `orcid-identifier.path`.”\n",
      "Warning message:\n",
      "“Unknown or uninitialised column: `orcid-identifier.path`.”\n"
     ]
    },
    {
     "name": "stdout",
     "output_type": "stream",
     "text": [
      "[1] \"Wiebke Aldenhoff--Chalmers University of Technology\"\n",
      "[1] \"Céline Heuzé--University of Gothenburg\"\n",
      "[1] \"Leif E.B. Eriksson--Chalmers University of Technology\"\n",
      "[1] \"Add: 0000-0002-8850-5868\"\n",
      "[1] \"Add: 0000-0001-7155-333X\"\n"
     ]
    },
    {
     "name": "stderr",
     "output_type": "stream",
     "text": [
      "Warning message:\n",
      "“Unknown or uninitialised column: `orcid-identifier.path`.”\n",
      "Warning message:\n",
      "“Unknown or uninitialised column: `orcid-identifier.path`.”\n"
     ]
    },
    {
     "name": "stdout",
     "output_type": "stream",
     "text": [
      "[1] \"Alexei A. Ekaykin--Arctic and Antarctic Research Institute\"\n",
      "[1] \"Vladimir Ya. Lipenkov--Arctic and Antarctic Research Institute\"\n",
      "[1] \"Irina N. Kuzmina--Arctic and Antarctic Research Institute\"\n",
      "[1] \"Jean Robert Petit\"\n",
      "[1] \"Valérie MASSON-Delmotte\"\n",
      "[1] \"Sigfus J. Johnsen--The Niels Bohr Institute\"\n",
      "[1] \"Add: 0000-0002-6104-7414\"\n",
      "[1] \"Add: 0000-0003-4221-5440\"\n",
      "[1] \"Add: 0000-0001-8296-381X\"\n"
     ]
    },
    {
     "name": "stderr",
     "output_type": "stream",
     "text": [
      "Warning message:\n",
      "“Unknown or uninitialised column: `orcid-identifier.path`.”\n"
     ]
    },
    {
     "name": "stdout",
     "output_type": "stream",
     "text": [
      "[1] \"Regine Röthlisberger--Climate and Environmental Physics\"\n",
      "[1] \"Manuel A. Hutterli--Department of Hydrology and Water Resources\"\n",
      "[1] \"Eric W. Wolff\"\n",
      "[1] \"Robert Mulvaney\"\n",
      "[1] \"Hubertus Fischer--Alfred Wegener Institute for Polar and Marine Research\"\n",
      "[1] \"Matthias Bigler--Climate and Environmental Physics\"\n",
      "[1] \"Kumiko Goto-Azuma--National Institute of Polar Research\"\n",
      "[1] \"Margareta E. Hansson--Department of Physical Geography and Quaternary Geology\"\n",
      "[1] \"Urs Ruth--Alfred Wegener Institute for Polar and Marine Research\"\n",
      "[1] \"Marie-Louise Siggaard-Andersen--Department of Geophysics\"\n",
      "[1] \"Jørgen P. Steffensen--Department of Geophysics\"\n",
      "[1] \"Add: 0000-0002-5372-8148\"\n",
      "[1] \"Add: 0000-0002-5914-8531\"\n"
     ]
    },
    {
     "name": "stderr",
     "output_type": "stream",
     "text": [
      "Warning message:\n",
      "“Unknown or uninitialised column: `orcid-identifier.path`.”\n",
      "Warning message:\n",
      "“Unknown or uninitialised column: `orcid-identifier.path`.”\n",
      "Warning message:\n",
      "“Unknown or uninitialised column: `orcid-identifier.path`.”\n",
      "Warning message:\n",
      "“Unknown or uninitialised column: `orcid-identifier.path`.”\n"
     ]
    },
    {
     "name": "stdout",
     "output_type": "stream",
     "text": [
      "[1] \"Hideki Narita--Institute of Low Temperature Science, Hokkaido University\"\n",
      "[1] \"Nobuhiko Azuma--Magaoka University of Technology\"\n",
      "[1] \"Takeo Hondoh--Institute of Low Temperature Science, Hokkaido University\"\n",
      "[1] \"Michiko Fujii--Institute of Low Temperature Science, Hokkaido University\"\n",
      "[1] \"Mituo Kawaguchi--Magaoka University of Technology\"\n",
      "[1] \"Shinji Mae--Department of Engineering, Hokkaido University\"\n",
      "[1] \"Hitoshi Shoji--Kitami Institute of Technology\"\n",
      "[1] \"Takao Kameda--Kitami Institute of Technology\"\n",
      "[1] \"Okitusgu Watanabe--National Institute of Polar Research\"\n",
      "[1] \"Add: 0000-0003-4129-022X\"\n"
     ]
    },
    {
     "name": "stderr",
     "output_type": "stream",
     "text": [
      "Warning message:\n",
      "“Unknown or uninitialised column: `orcid-identifier.path`.”\n",
      "Warning message:\n",
      "“Unknown or uninitialised column: `orcid-identifier.path`.”\n",
      "Warning message:\n",
      "“Unknown or uninitialised column: `orcid-identifier.path`.”\n",
      "Warning message:\n",
      "“Unknown or uninitialised column: `orcid-identifier.path`.”\n",
      "Warning message:\n",
      "“Unknown or uninitialised column: `orcid-identifier.path`.”\n",
      "Warning message:\n",
      "“Unknown or uninitialised column: `orcid-identifier.path`.”\n",
      "Warning message:\n",
      "“Unknown or uninitialised column: `orcid-identifier.path`.”\n",
      "Warning message:\n",
      "“Unknown or uninitialised column: `orcid-identifier.path`.”\n",
      "Warning message:\n",
      "“Unknown or uninitialised column: `orcid-identifier.path`.”\n",
      "Warning message:\n",
      "“Unknown or uninitialised column: `orcid-identifier.path`.”\n",
      "Warning message:\n",
      "“Unknown or uninitialised column: `orcid-identifier.path`.”\n",
      "Warning message:\n",
      "“Unknown or uninitialised column: `orcid-identifier.path`.”\n",
      "Warning message:\n",
      "“Unknown or uninitialised column: `orcid-identifier.path`.”\n"
     ]
    },
    {
     "name": "stdout",
     "output_type": "stream",
     "text": [
      "[1] \"Christina L. Hulbe--Laboratory for Hydrospheric Processes, NASA Goddard Space Flight Center\"\n",
      "[1] \"Ian R. Joughin--Jet Propulsion Laboratory, California Institute of Technology\"\n",
      "[1] \"David L. Morse--Institute for Geophysics, University of Texas at Austin\"\n",
      "[1] \"Robert A. Bindschadler--Laboratory for Hydrospheric Processes, NASA Goddard Space Flight Center\"\n",
      "[1] \"Add: 0000-0003-4765-7037\"\n",
      "[1] \"Christian Camponovo--Swiss Federal Institute for Snow and Avalanche Research (SLF)\"\n",
      "[1] \"Jürg Schweizer--Swiss Federal Institute for Snow and Avalanche Research (SLF)\"\n",
      "[1] \"Add: 0000-0001-5076-2968\"\n",
      "[1] \"Hyuck Chung--Mathematics Department, University of Auckland\"\n",
      "[1] \"Colin Fox--Mathematics Department, University of Auckland\"\n",
      "[1] \"Add: 0000-0002-9278-1777\"\n",
      "[1] \"Gunnar Spreen\"\n",
      "[1] \"Stefan Kern\"\n",
      "[1] \"Detlef Stammer\"\n",
      "[1] \"Rene Forsberg\"\n",
      "[1] \"Jörg Haarpaintner\"\n",
      "[1] \"Add: 0000-0003-0165-8448\"\n",
      "[1] \"Add: 0000-0001-7281-3746\"\n",
      "[1] \"Sirpa Rasmus--Division of Geophysics, Department of Physical Sciences, University of Helsinki\"\n",
      "[1] \"Jouni Räisänen--Rossby Centre, Swedish Meteorological and Hydrological Institute\"\n",
      "[1] \"Michael Lehning--WSL Swiss Federal Institute for Snow and Avalanche Research SLF\"\n",
      "[1] \"Add: 0000-0003-3657-1588\"\n"
     ]
    },
    {
     "name": "stderr",
     "output_type": "stream",
     "text": [
      "Warning message:\n",
      "“Unknown or uninitialised column: `orcid-identifier.path`.”\n"
     ]
    },
    {
     "name": "stdout",
     "output_type": "stream",
     "text": [
      "[1] \"R. B. Alley--Pennsylvania State University---0000-0003-1833-0115\"\n",
      "[1] \"K. M. Cuffey--University of California–Berkeley---0000-0001-9314-2996\"\n",
      "[1] \"L. K. Zoet--University of Wisconsin–Madison---0000-0002-9635-4051\"\n"
     ]
    },
    {
     "name": "stderr",
     "output_type": "stream",
     "text": [
      "Warning message:\n",
      "“Unknown or uninitialised column: `orcid-identifier.path`.”\n"
     ]
    },
    {
     "name": "stdout",
     "output_type": "stream",
     "text": [
      "[1] \"Gareth L. Vaughan\"\n",
      "[1] \"Vernon A. Squire\"\n",
      "[1] \"Add: 0000-0002-5570-3446\"\n"
     ]
    },
    {
     "name": "stderr",
     "output_type": "stream",
     "text": [
      "Warning message:\n",
      "“Unknown or uninitialised column: `orcid-identifier.path`.”\n",
      "Warning message:\n",
      "“Unknown or uninitialised column: `orcid-identifier.path`.”\n",
      "Warning message:\n",
      "“Unknown or uninitialised column: `orcid-identifier.path`.”\n"
     ]
    },
    {
     "name": "stdout",
     "output_type": "stream",
     "text": [
      "[1] \"Grant J. Macdonald--University of Chicago\"\n",
      "[1] \"Alison F. Banwell--Scott Polar Research Institute, University of Cambridge---0000-0001-9545-829X\"\n",
      "[1] \"Douglas R. MacAyeal--University of Chicago\"\n",
      "[1] \"Add: 0000-0002-9295-085X\"\n",
      "[1] \"Bergur Einarsson\"\n",
      "[1] \"Eyjólfur Magnússon--University of Iceland\"\n",
      "[1] \"Matthew J. Roberts\"\n",
      "[1] \"Finnur Pálsson--University of Iceland\"\n",
      "[1] \"Thorsteinn Thorsteinsson\"\n",
      "[1] \"Tómas Jóhannesson\"\n",
      "[1] \"Add: 0000-0002-1984-9982\"\n"
     ]
    },
    {
     "name": "stderr",
     "output_type": "stream",
     "text": [
      "Warning message:\n",
      "“Unknown or uninitialised column: `orcid-identifier.path`.”\n",
      "Warning message:\n",
      "“Unknown or uninitialised column: `orcid-identifier.path`.”\n",
      "Warning message:\n",
      "“Unknown or uninitialised column: `orcid-identifier.path`.”\n",
      "Warning message:\n",
      "“Unknown or uninitialised column: `orcid-identifier.path`.”\n"
     ]
    },
    {
     "name": "stdout",
     "output_type": "stream",
     "text": [
      "[1] \"T. Kawamura--Institute of Low Temperature Science, Hokkaido University\"\n",
      "[1] \"K. Shirasawa--Sea Ice Research Laboratory, Institute of Low Temperature Science, Hokkaido University\"\n",
      "[1] \"N. Ishikawa--Institute of Low Temperature Science, Hokkaido University\"\n",
      "[1] \"A. Lindfors--Department of Geophysics, P.O. Box 4 (Fabianinkatu 24 A), University of Helsinki\"\n",
      "[1] \"K. Rasmus--Department of Geophysics, P.O. Box 4 (Fabianinkatu 24 A), University of Helsinki\"\n",
      "[1] \"M. A. Granskog--Department of Geophysics, P.O. Box 4 (Fabianinkatu 24 A), University of Helsinki\"\n",
      "[1] \"J. Ehn--Department of Geophysics, P.O. Box 4 (Fabianinkatu 24 A), University of Helsinki\"\n",
      "[1] \"M. Leppäranta--Department of Geophysics, P.O. Box 4 (Fabianinkatu 24 A), University of Helsinki\"\n",
      "[1] \"T. Martha--Institute of Geology, Tallinn Technical University\"\n",
      "[1] \"R. Vaikmäe--Institute of Geology, Tallinn Technical University\"\n",
      "[1] \"Add: 0000-0002-9837-163X\"\n"
     ]
    },
    {
     "name": "stderr",
     "output_type": "stream",
     "text": [
      "Warning message:\n",
      "“Unknown or uninitialised column: `orcid-identifier.path`.”\n"
     ]
    },
    {
     "name": "stdout",
     "output_type": "stream",
     "text": [
      "[1] \"R. Timmermann--Alfred Wegener Institute for Polar and Marine Research\"\n",
      "[1] \"Q. Wang--Alfred Wegener Institute for Polar and Marine Research\"\n",
      "[1] \"H.H. Hellmer--Alfred Wegener Institute for Polar and Marine Research\"\n",
      "[1] \"Add: 0000-0002-2704-5394\"\n",
      "[1] \"Add: 0000-0002-9357-9853\"\n"
     ]
    },
    {
     "name": "stderr",
     "output_type": "stream",
     "text": [
      "Warning message:\n",
      "“Unknown or uninitialised column: `orcid-identifier.path`.”\n",
      "Warning message:\n",
      "“Unknown or uninitialised column: `orcid-identifier.path`.”\n",
      "Warning message:\n",
      "“Unknown or uninitialised column: `orcid-identifier.path`.”\n",
      "Warning message:\n",
      "“Unknown or uninitialised column: `orcid-identifier.path`.”\n",
      "Warning message:\n",
      "“Unknown or uninitialised column: `orcid-identifier.path`.”\n",
      "Warning message:\n",
      "“Unknown or uninitialised column: `orcid-identifier.path`.”\n",
      "Warning message:\n",
      "“Unknown or uninitialised column: `orcid-identifier.path`.”\n",
      "Warning message:\n",
      "“Unknown or uninitialised column: `orcid-identifier.path`.”\n"
     ]
    },
    {
     "name": "stdout",
     "output_type": "stream",
     "text": [
      "[1] \"Mattias De Woul--Department of Physical Geography and Quaternary Geology, Stockholm University\"\n",
      "[1] \"Regine Hock--Department of Physical Geography and Quaternary Geology, Stockholm University\"\n",
      "[1] \"Add: 0000-0001-8336-9441\"\n"
     ]
    },
    {
     "name": "stderr",
     "output_type": "stream",
     "text": [
      "Warning message:\n",
      "“Unknown or uninitialised column: `orcid-identifier.path`.”\n"
     ]
    },
    {
     "name": "stdout",
     "output_type": "stream",
     "text": [
      "[1] \"Ralf Greve--Institut für Mechanik III, Technische Universität Darmstadt\"\n",
      "[1] \"Karl-Heinz Wyrwoll--Department of Geography, The University of Western Australia\"\n",
      "[1] \"Anton Eisenhauer--Geochemisches Institut, Universität Göttingen\"\n",
      "[1] \"Add: 0000-0002-1341-4777\"\n",
      "[1] \"Anja Rösel--Norwegian Polar Institute\"\n",
      "[1] \"Jennifer King--Norwegian Polar Institute\"\n",
      "[1] \"Anthony P. Doulgeris--UiT The Arctic University of Norway\"\n",
      "[1] \"Penelope M. Wagner--met.no, The Norwegian Meteorological Institute\"\n",
      "[1] \"A. Malin Johansson--UiT The Arctic University of Norway\"\n",
      "[1] \"Sebastian Gerland--Norwegian Polar Institute\"\n",
      "[1] \"Add: 0000-0001-5268-4510\"\n"
     ]
    },
    {
     "name": "stderr",
     "output_type": "stream",
     "text": [
      "Warning message:\n",
      "“Unknown or uninitialised column: `orcid-identifier.path`.”\n",
      "Warning message:\n",
      "“Unknown or uninitialised column: `orcid-identifier.path`.”\n",
      "Warning message:\n",
      "“Unknown or uninitialised column: `orcid-identifier.path`.”\n",
      "Warning message:\n",
      "“Unknown or uninitialised column: `orcid-identifier.path`.”\n"
     ]
    },
    {
     "name": "stdout",
     "output_type": "stream",
     "text": [
      "[1] \"W. Huang--School of Environmental Science and Engineering, Chang'an University\"\n",
      "[1] \"P. Lu--Dalian University of Technology\"\n",
      "[1] \"R. Lei--Polar Research Institute of China\"\n",
      "[1] \"H. Xie--University of Texas at San Antonio\"\n",
      "[1] \"Z. Li--Dalian University of Technology\"\n",
      "[1] \"Add: 0000-0001-6694-1194\"\n",
      "[1] \"J. Ignacio López-Moreno\"\n",
      "[1] \"J. Latron\"\n",
      "[1] \"Add: 0000-0003-3253-6734\"\n",
      "[1] \"Error in: 1723 owi:0000-0002-7270-9313\"\n"
     ]
    },
    {
     "name": "stderr",
     "output_type": "stream",
     "text": [
      "Warning message:\n",
      "“Unknown or uninitialised column: `orcid-identifier.path`.”\n",
      "Warning message:\n",
      "“Unknown or uninitialised column: `orcid-identifier.path`.”\n",
      "Warning message:\n",
      "“Unknown or uninitialised column: `orcid-identifier.path`.”\n",
      "Warning message:\n",
      "“Unknown or uninitialised column: `orcid-identifier.path`.”\n",
      "Warning message:\n",
      "“Unknown or uninitialised column: `orcid-identifier.path`.”\n",
      "Warning message:\n",
      "“Unknown or uninitialised column: `orcid-identifier.path`.”\n"
     ]
    },
    {
     "name": "stdout",
     "output_type": "stream",
     "text": [
      "[1] \"Jim Hedfors\"\n",
      "[1] \"Vincent Peyaud\"\n",
      "[1] \"Veijio A. Pohjola\"\n",
      "[1] \"Peter Jansson\"\n",
      "[1] \"Rickard Pettersson\"\n",
      "[1] \"Add: 0000-0002-8832-8806\"\n",
      "[1] \"Add: 0000-0001-6851-1673\"\n"
     ]
    },
    {
     "name": "stderr",
     "output_type": "stream",
     "text": [
      "Warning message:\n",
      "“Unknown or uninitialised column: `orcid-identifier.path`.”\n",
      "Warning message:\n",
      "“Unknown or uninitialised column: `orcid-identifier.path`.”\n",
      "Warning message:\n",
      "“Unknown or uninitialised column: `orcid-identifier.path`.”\n",
      "Warning message:\n",
      "“Unknown or uninitialised column: `orcid-identifier.path`.”\n",
      "Warning message:\n",
      "“Unknown or uninitialised column: `orcid-identifier.path`.”\n",
      "Warning message:\n",
      "“Unknown or uninitialised column: `orcid-identifier.path`.”\n",
      "Warning message:\n",
      "“Unknown or uninitialised column: `orcid-identifier.path`.”\n",
      "Warning message:\n",
      "“Unknown or uninitialised column: `orcid-identifier.path`.”\n"
     ]
    },
    {
     "name": "stdout",
     "output_type": "stream",
     "text": [
      "[1] \"Robert Mulvaney--British Antarctic Survey\"\n",
      "[1] \"Hans Oerter--Alfred-Wegener-Institut für Polar- und Meeresforschung\"\n",
      "[1] \"David A. Peel--British Antarctic Survey\"\n",
      "[1] \"Wolfgang Graf\"\n",
      "[1] \"Carol Arrowsmith--Isotope Geosciences Laboratory\"\n",
      "[1] \"Elizabeth C. Pasteur--British Antarctic Survey\"\n",
      "[1] \"Bruce Knight--British Antarctic Survey\"\n",
      "[1] \"Geneviève C. Littot--British Antarctic Survey\"\n",
      "[1] \"William D. Miners--British Antarctic Survey\"\n",
      "[1] \"Add: 0000-0002-5372-8148\"\n",
      "[1] \"Ralf Greve--Institute of Low Temperature Science, Hokkaido University,\"\n",
      "[1] \"Add: 0000-0002-1341-4777\"\n"
     ]
    },
    {
     "name": "stderr",
     "output_type": "stream",
     "text": [
      "Warning message:\n",
      "“Unknown or uninitialised column: `orcid-identifier.path`.”\n",
      "Warning message:\n",
      "“Unknown or uninitialised column: `orcid-identifier.path`.”\n",
      "Warning message:\n",
      "“Unknown or uninitialised column: `orcid-identifier.path`.”\n",
      "Warning message:\n",
      "“Unknown or uninitialised column: `orcid-identifier.path`.”\n",
      "Warning message:\n",
      "“Unknown or uninitialised column: `orcid-identifier.path`.”\n",
      "Warning message:\n",
      "“Unknown or uninitialised column: `orcid-identifier.path`.”\n",
      "Warning message:\n",
      "“Unknown or uninitialised column: `orcid-identifier.path`.”\n",
      "Warning message:\n",
      "“Unknown or uninitialised column: `orcid-identifier.path`.”\n"
     ]
    },
    {
     "name": "stdout",
     "output_type": "stream",
     "text": [
      "[1] \"Jefferson C. Simões--Laboratório de Pesquisas Antárticas e Glaciológicas, Departamento de Geografia, Institute de Geociencias, Universidade Federal do Rio Grande do Sul\"\n",
      "[1] \"Ulisses F. Bremer--Laboratório de Pesquisas Antárticas e Glaciológicas, Departamento de Geografia, Institute de Geociencias, Universidade Federal do Rio Grande do Sul\"\n",
      "[1] \"Francisco E. Aquino--Laboratório de Pesquisas Antárticas e Glaciológicas, Departamento de Geografia, Institute de Geociencias, Universidade Federal do Rio Grande do Sul\"\n",
      "[1] \"Francisco A. Ferron--Laboratório de Pesquisas Antárticas e Glaciológicas, Departamento de Geografia, Institute de Geociencias, Universidade Federal do Rio Grande do Sul\"\n",
      "[1] \"Add: 0000-0003-0519-5807\"\n"
     ]
    },
    {
     "name": "stderr",
     "output_type": "stream",
     "text": [
      "Warning message:\n",
      "“Unknown or uninitialised column: `orcid-identifier.path`.”\n",
      "Warning message:\n",
      "“Unknown or uninitialised column: `orcid-identifier.path`.”\n"
     ]
    },
    {
     "name": "stdout",
     "output_type": "stream",
     "text": [
      "[1] \"Alun Hubbard--Department of Geography, University of Edinburgh\"\n",
      "[1] \"Wendy Lawson--Department of Geography, University of Canterbury\"\n",
      "[1] \"Brian Anderson--Department of Geography, University of Canterbury\"\n",
      "[1] \"Bryn Hubbard--Centre for Glaciology, Institute of Geography and Earth Sciences, University of Wales\"\n",
      "[1] \"Heinz Blatter--Institute of Geography, Swiss Federal Institute of Technology (ETH)\"\n",
      "[1] \"Add: 0000-0002-3565-3875\"\n",
      "[1] \"Phil Reid--Bureau of Meteorology\"\n",
      "[1] \"Sharon Stammerjohn--University of Colorado at Boulder\"\n",
      "[1] \"Rob Massom--Australian Antarctic Division and Antarctic Climate and Ecosystems CRC\"\n",
      "[1] \"Ted Scambos--A National Snow and Ice Data Center\"\n",
      "[1] \"Jan Lieser\"\n",
      "[1] \"Add: 0000-0001-6870-1311\"\n",
      "[1] \"Add: 0000-0002-1697-8244\"\n",
      "[1] \"Add: 0000-0003-1533-5084\"\n"
     ]
    },
    {
     "name": "stderr",
     "output_type": "stream",
     "text": [
      "Warning message:\n",
      "“Unknown or uninitialised column: `orcid-identifier.path`.”\n"
     ]
    },
    {
     "name": "stdout",
     "output_type": "stream",
     "text": [
      "[1] \"Mary R. Albert--U.S. Army Cold Regions Research and Engineering Laboratory\"\n",
      "[1] \"Add: 0000-0001-7842-2359\"\n",
      "[1] \"Ahmet E. Tekeli--Department of Geological Sciences, University of Texas at San Antonio\"\n",
      "[1] \"Stefan Kern--Center for Marine and Atmospheric Science\"\n",
      "[1] \"Stephen F. Ackley--Department of Geological Sciences, University of Texas at San Antonio\"\n",
      "[1] \"Burcu Ozsoy-Cicek--Department of Geological Sciences, University of Texas at San Antonio\"\n",
      "[1] \"Hongjie Xie--Department of Geological Sciences, University of Texas at San Antonio\"\n",
      "[1] \"Error in: 1758 owi:0000-0003-4320-1796\"\n",
      "[1] \"Add: 0000-0001-7281-3746\"\n"
     ]
    },
    {
     "name": "stderr",
     "output_type": "stream",
     "text": [
      "Warning message:\n",
      "“Unknown or uninitialised column: `orcid-identifier.path`.”\n"
     ]
    },
    {
     "name": "stdout",
     "output_type": "stream",
     "text": [
      "[1] \"Karen Guldbæ K Schmidt\"\n",
      "[1] \"Dorthe Dahl-Jensen\"\n",
      "[1] \"Add: 0000-0002-1474-1948\"\n",
      "[1] \"Fuyuki Saito--Japan Agency for Marine–Earth Science and Technology\"\n",
      "[1] \"Ayako Abe-Ouchi--Japan Agency for Marine–Earth Science and Technology\"\n",
      "[1] \"Add: 0000-0001-5935-9614\"\n",
      "[1] \"Add: 0000-0003-1745-5952\"\n"
     ]
    },
    {
     "name": "stderr",
     "output_type": "stream",
     "text": [
      "Warning message:\n",
      "“Unknown or uninitialised column: `orcid-identifier.path`.”\n",
      "Warning message:\n",
      "“Unknown or uninitialised column: `orcid-identifier.path`.”\n"
     ]
    },
    {
     "name": "stdout",
     "output_type": "stream",
     "text": [
      "[1] \"Charles Fierz--Swiss Federal Institute for Snow and Avalanche Research\"\n",
      "[1] \"Add: 0000-0001-9490-6732\"\n",
      "[1] \"Gwenn E. Flowers--Simon Fraser University\"\n",
      "[1] \"Alexander H. Jarosch--Institute of Earth Sciences, University of Iceland\"\n",
      "[1] \"Patrick T. A. P. Belliveau--Simon Fraser University\"\n",
      "[1] \"Lucas A. Fuhrman--Simon Fraser University\"\n",
      "[1] \"Add: 0000-0003-2646-4527\"\n"
     ]
    },
    {
     "name": "stderr",
     "output_type": "stream",
     "text": [
      "Warning message:\n",
      "“Unknown or uninitialised column: `orcid-identifier.path`.”\n",
      "Warning message:\n",
      "“Unknown or uninitialised column: `orcid-identifier.path`.”\n",
      "Warning message:\n",
      "“Unknown or uninitialised column: `orcid-identifier.path`.”\n",
      "Warning message:\n",
      "“Unknown or uninitialised column: `orcid-identifier.path`.”\n"
     ]
    },
    {
     "name": "stdout",
     "output_type": "stream",
     "text": [
      "[1] \"Walter N. Meier\"\n",
      "[1] \"Florence Fetterer--University of Colorado\"\n",
      "[1] \"J. Scott Stewart--University of Colorado\"\n",
      "[1] \"Sean Helfrich--US National Ice Center\"\n",
      "[1] \"Add: 0000-0003-2857-0550\"\n"
     ]
    },
    {
     "name": "stderr",
     "output_type": "stream",
     "text": [
      "Warning message:\n",
      "“Unknown or uninitialised column: `orcid-identifier.path`.”\n",
      "Warning message:\n",
      "“Unknown or uninitialised column: `orcid-identifier.path`.”\n",
      "Warning message:\n",
      "“Unknown or uninitialised column: `orcid-identifier.path`.”\n"
     ]
    },
    {
     "name": "stdout",
     "output_type": "stream",
     "text": [
      "[1] \"Nick J. Rutter--Department of Geography, University of Oxford\"\n",
      "[1] \"Add: 0000-0002-5008-3575\"\n"
     ]
    },
    {
     "name": "stderr",
     "output_type": "stream",
     "text": [
      "Warning message:\n",
      "“Unknown or uninitialised column: `orcid-identifier.path`.”\n",
      "Warning message:\n",
      "“Unknown or uninitialised column: `orcid-identifier.path`.”\n"
     ]
    },
    {
     "name": "stdout",
     "output_type": "stream",
     "text": [
      "[1] \"F. Paul--University of Zürich\"\n",
      "[1] \"N.E. Barrand--British Antarctic Survey, Natural Environment Research Council\"\n",
      "[1] \"S. Baumann--Technical University Munich\"\n",
      "[1] \"E. Berthier--Legos, Centre National de la Recherche Scientifique, Université de Toulouse\"\n",
      "[1] \"T. Bolch--University of Zürich\"\n",
      "[1] \"K. Casey--Cryospheric Sciences Branch, NASA Goddard Space Flight Center\"\n",
      "[1] \"H. Frey--University of Zürich\"\n",
      "[1] \"S.P. Joshi--International Centre for Integrated Mountain Development\"\n",
      "[1] \"V. Konovalov--Russian Academy of Sciences\"\n",
      "[1] \"R. Le Bris--University of Zürich\"\n",
      "[1] \"N. Mölg--University of Zürich\"\n",
      "[1] \"G. Nosenko--Russian Academy of Sciences\"\n",
      "[1] \"C. Nuth--University of Oslo\"\n",
      "[1] \"A. Pope--Scott Polar Research Institute, University of Cambridge\"\n",
      "[1] \"A. Racoviteanu--Laboratoire de Glaciologie et Géophysique de l’Environnment, CNRS/Université\"\n",
      "[1] \"P. Rastner--University of Zürich\"\n",
      "[1] \"B. Raup--National Snow and Ice Data Center, CIRES, University of Colorado\"\n",
      "[1] \"K. Scharrer--Environmental Earth Observation (ENVEO)\"\n",
      "[1] \"S. Steffen--University of Colorado\"\n",
      "[1] \"S. Winsvold--Norwegian Water Resources and Energy Directorate (NVE)\"\n",
      "[1] \"Add: 0000-0002-8727-050X\"\n",
      "[1] \"Add: 0000-0001-9699-7500\"\n",
      "[1] \"Add: 0000-0002-1063-2832\"\n",
      "[1] \"Add: 0000-0002-6115-7525\"\n",
      "[1] \"Add: 0000-0002-8201-5059\"\n",
      "[1] \"Add: 0000-0001-5978-9155\"\n",
      "[1] \"A. Khatwa--Department of Geography, University of Southampton\"\n",
      "[1] \"J. K. Hart--Department of Geography, University of Southampton\"\n",
      "[1] \"A. J. Payne--Department of Geography, University of Southampton\"\n",
      "[1] \"Add: 0000-0002-2348-3944\"\n",
      "[1] \"Alvaro Soruco--UMSA, Instituto de Geológicas y del Medio Ambiente\"\n",
      "[1] \"Christian Vincent--Université Grenoble Alpes, CNRS, LGGE (UMR 5183)\"\n",
      "[1] \"Antoine Rabatel--Université Grenoble Alpes, CNRS, LGGE (UMR 5183)\"\n",
      "[1] \"Bernard Francou--IRD, Université Grenoble Alpes, CNRS, G-INP, LTHE (UMR 5564)\"\n",
      "[1] \"Emmanuel Thibert--IRSTEA, UR ETGR, Erosion torrentielle neige et avalanches, Saint-Martin-d’Hères\"\n",
      "[1] \"Jean Emmanuel Sicart--IRD, Université Grenoble Alpes, CNRS, G-INP, LTHE (UMR 5564)\"\n",
      "[1] \"Thomas Condom--IRD, Université Grenoble Alpes, CNRS, G-INP, LTHE (UMR 5564)\"\n",
      "[1] \"Add: 0000-0003-2843-5367\"\n",
      "[1] \"Add: 0000-0002-5304-1055\"\n"
     ]
    },
    {
     "name": "stderr",
     "output_type": "stream",
     "text": [
      "Warning message:\n",
      "“Unknown or uninitialised column: `orcid-identifier.path`.”\n",
      "Warning message:\n",
      "“Unknown or uninitialised column: `orcid-identifier.path`.”\n",
      "Warning message:\n",
      "“Unknown or uninitialised column: `orcid-identifier.path`.”\n",
      "Warning message:\n",
      "“Unknown or uninitialised column: `orcid-identifier.path`.”\n",
      "Warning message:\n",
      "“Unknown or uninitialised column: `orcid-identifier.path`.”\n",
      "Warning message:\n",
      "“Unknown or uninitialised column: `orcid-identifier.path`.”\n",
      "Warning message:\n",
      "“Unknown or uninitialised column: `orcid-identifier.path`.”\n"
     ]
    },
    {
     "name": "stdout",
     "output_type": "stream",
     "text": [
      "[1] \"Harry Langford--Department of Geography, University of Sheffield\"\n",
      "[1] \"Andy Hodson--Department of Geography, University of Sheffield\"\n",
      "[1] \"Steve Banwart--Kroto Research Institute, University of Sheffield\"\n",
      "[1] \"Carl Bøggild--The University Centre in Svalbard (UNIS)\"\n",
      "[1] \"Add: 0000-0003-4015-0452\"\n",
      "[1] \"Add: 0000-0002-1255-7987\"\n",
      "[1] \"Add: 0000-0001-7223-6678\"\n",
      "[1] \"Jouko Launiainen--Finnish Institute of Marine Research\"\n",
      "[1] \"Bin Cheng--Finnish Institute of Marine Research\"\n",
      "[1] \"Juha Uotila--Finnish Institute of Marine Research\"\n",
      "[1] \"Timo Vihma--Finnish Institute of Marine Research\"\n",
      "[1] \"Add: 0000-0002-2939-7561\"\n"
     ]
    },
    {
     "name": "stderr",
     "output_type": "stream",
     "text": [
      "Warning message:\n",
      "“Unknown or uninitialised column: `orcid-identifier.path`.”\n",
      "Warning message:\n",
      "“Unknown or uninitialised column: `orcid-identifier.path`.”\n",
      "Warning message:\n",
      "“Unknown or uninitialised column: `orcid-identifier.path`.”\n",
      "Warning message:\n",
      "“Unknown or uninitialised column: `orcid-identifier.path`.”\n",
      "Warning message:\n",
      "“Unknown or uninitialised column: `orcid-identifier.path`.”\n",
      "Warning message:\n",
      "“Unknown or uninitialised column: `orcid-identifier.path`.”\n",
      "Warning message:\n",
      "“Unknown or uninitialised column: `orcid-identifier.path`.”\n",
      "Warning message:\n",
      "“Unknown or uninitialised column: `orcid-identifier.path`.”\n",
      "Warning message:\n",
      "“Unknown or uninitialised column: `orcid-identifier.path`.”\n"
     ]
    },
    {
     "name": "stdout",
     "output_type": "stream",
     "text": [
      "[1] \"Margit Schwikowski--Paul Scherrer Institut\"\n",
      "[1] \"Theo M. Jenk--Paul Scherrer Institut\"\n",
      "[1] \"Dieter Stampfli--icedrill.ch AG\"\n",
      "[1] \"Felix Stampfli--icedrill.ch AG\"\n",
      "[1] \"Add: 0000-0001-6820-8615\"\n",
      "[1] \"Add: 0000-0002-0856-5183\"\n",
      "[1] \"R. A. Massom--Antarctic CRC\"\n",
      "[1] \"K. L. Hill--Antarctic CRC\"\n",
      "[1] \"V. I. Lytle--Antarctic CRC\"\n",
      "[1] \"A. P. Worby--Antarctic CRC\"\n",
      "[1] \"M.J. Paget--Antarctic CRC\"\n",
      "[1] \"I. Allison--Antarctic CRC\"\n",
      "[1] \"Add: 0000-0003-1533-5084\"\n"
     ]
    },
    {
     "name": "stderr",
     "output_type": "stream",
     "text": [
      "Warning message:\n",
      "“Unknown or uninitialised column: `orcid-identifier.path`.”\n",
      "Warning message:\n",
      "“Unknown or uninitialised column: `orcid-identifier.path`.”\n"
     ]
    },
    {
     "name": "stdout",
     "output_type": "stream",
     "text": [
      "[1] \"Lisa Dreier--WSL Institute for Snow and Avalanche Research SLF\"\n",
      "[1] \"Yves Bühler--WSL Institute for Snow and Avalanche Research SLF\"\n",
      "[1] \"Christian Ginzler--Swiss Federal Institute for Forest\"\n",
      "[1] \"Perry Bartelt--WSL Institute for Snow and Avalanche Research SLF\"\n",
      "[1] \"Add: 0000-0001-6365-2151\"\n",
      "[1] \"Add: 0000-0002-0815-2717\"\n"
     ]
    },
    {
     "name": "stderr",
     "output_type": "stream",
     "text": [
      "Warning message:\n",
      "“Unknown or uninitialised column: `orcid-identifier.path`.”\n"
     ]
    },
    {
     "name": "stdout",
     "output_type": "stream",
     "text": [
      "Error : Internal Server Error (HTTP 500).\n",
      " - org.apache.solr.client.solrj.impl.HttpSolrClient.RemoteSolrException Full validation error: Error from server at http://solr-loc.orcid.org/solr/profile: Expected mime type application/xml but got text/html. &lt;!DOCTYPE HTML PUBLIC &quot;-//W3C//DTD HTML 4.01//EN&quot; &quot;http://www.w3.org/TR/html4/strict.dtd&quot;&gt;\n",
      "&lt;html&gt;\n",
      "&lt;head&gt;\n",
      "&lt;meta http-equiv=&quot;Content-Type&quot; content=&quot;text/html;charset=utf-8&quot;&gt;\n",
      "&lt;title&gt;Service Unavailable&lt;/title&gt;\n",
      "&lt;style type=&quot;text/css&quot;&gt;\n",
      "body, p, h1 {\n",
      "  font-family: Verdana, Arial, Helvetica, sans-serif;\n",
      "}\n",
      "h2 {\n",
      "  font-family: Arial, Helvetica, sans-serif;\n",
      "  color: #b10b29;\n",
      "}\n",
      "&lt;/style&gt;\n",
      "&lt;/head&gt;\n",
      "&lt;body&gt;\n",
      "&lt;h2&gt;Service Unavailable&lt;/h2&gt;\n",
      "&lt;p&gt;The service is temporarily unavailable. Please try again later.&lt;/p&gt;\n",
      "&lt;/body&gt;\n",
      "&lt;/html&gt;\n",
      "\n"
     ]
    },
    {
     "name": "stderr",
     "output_type": "stream",
     "text": [
      "Warning message:\n",
      "“Unknown or uninitialised column: `orcid-identifier.path`.”\n",
      "Warning message:\n",
      "“Unknown or uninitialised column: `orcid-identifier.path`.”\n",
      "Warning message:\n",
      "“Unknown or uninitialised column: `orcid-identifier.path`.”\n",
      "Warning message:\n",
      "“Unknown or uninitialised column: `orcid-identifier.path`.”\n",
      "Warning message:\n",
      "“Unknown or uninitialised column: `orcid-identifier.path`.”\n",
      "Warning message:\n",
      "“Unknown or uninitialised column: `orcid-identifier.path`.”\n"
     ]
    },
    {
     "name": "stdout",
     "output_type": "stream",
     "text": [
      "[1] \"Keleigh Jones--School of Chemical and Physical Sciences, victoria University of Wellington\"\n",
      "[1] \"Malcolm Ingham--School of Chemical and Physical Sciences, victoria University of Wellington\"\n",
      "[1] \"Daniel Pringle--Geophysical Institute, University of Alaska Fairbanks\"\n",
      "[1] \"Hajo Eicken--Geophysical Institute, University of Alaska Fairbanks\"\n",
      "[1] \"Add: 0000-0003-3128-7131\"\n"
     ]
    },
    {
     "name": "stderr",
     "output_type": "stream",
     "text": [
      "Warning message:\n",
      "“Unknown or uninitialised column: `orcid-identifier.path`.”\n",
      "Warning message:\n",
      "“Unknown or uninitialised column: `orcid-identifier.path`.”\n",
      "Warning message:\n",
      "“Unknown or uninitialised column: `orcid-identifier.path`.”\n",
      "Warning message:\n",
      "“Unknown or uninitialised column: `orcid-identifier.path`.”\n"
     ]
    },
    {
     "name": "stdout",
     "output_type": "stream",
     "text": [
      "[1] \"Dorthe Dahl-Jensen--Niels Bohr Institute for Astronomy\"\n",
      "[1] \"Niels S. Gundestrup--Niels Bohr Institute for Astronomy\"\n",
      "[1] \"Heinz Miller--Alfred-Wegener-Institut für Polar- und Meerforshung\"\n",
      "[1] \"Okitsugu Watanabe--National Institute of Polar Research\"\n",
      "[1] \"Sigfús J. Johnsen--Niels Bohr Institute for Astronomy\"\n",
      "[1] \"Jørgen P. Steffensen--Niels Bohr Institute for Astronomy\"\n",
      "[1] \"Henrik B. Clausen--Niels Bohr Institute for Astronomy\"\n",
      "[1] \"Anders Svensson--Niels Bohr Institute for Astronomy\"\n",
      "[1] \"Lars B. Larsen--Niels Bohr Institute for Astronomy\"\n",
      "[1] \"Add: 0000-0002-5516-1093\"\n",
      "[1] \"Add: 0000-0002-1474-1948\"\n",
      "[1] \"Add: 0000-0002-4364-6085\"\n",
      "[1] \"Michel Legrand--Laboratoire de Glaciologie et Geophysique de l’Environnement du CNRS\"\n",
      "[1] \"Eric Wolff--British Antarctic Survey, Natural Environment Research Council\"\n",
      "[1] \"Dietmar Wagenbach\"\n",
      "[1] \"Add: 0000-0002-5914-8531\"\n"
     ]
    },
    {
     "name": "stderr",
     "output_type": "stream",
     "text": [
      "Warning message:\n",
      "“Unknown or uninitialised column: `orcid-identifier.path`.”\n"
     ]
    },
    {
     "name": "stdout",
     "output_type": "stream",
     "text": [
      "[1] \"Alex S. Gardner--University of Alberta\"\n",
      "[1] \"Martin Sharp--University of Alberta\"\n",
      "[1] \"Add: 0000-0002-8394-8889\"\n"
     ]
    },
    {
     "name": "stderr",
     "output_type": "stream",
     "text": [
      "Warning message:\n",
      "“Unknown or uninitialised column: `orcid-identifier.path`.”\n",
      "Warning message:\n",
      "“Unknown or uninitialised column: `orcid-identifier.path`.”\n",
      "Warning message:\n",
      "“Unknown or uninitialised column: `orcid-identifier.path`.”\n"
     ]
    },
    {
     "name": "stdout",
     "output_type": "stream",
     "text": [
      "[1] \"John H. Bradford--Boise State University\"\n",
      "[1] \"Joshua Nichols--Boise State University\"\n",
      "[1] \"T. Dylan Mikesell--Boise State University\"\n",
      "[1] \"Joel T. Harper--University of Montana\"\n",
      "[1] \"Add: 0000-0001-9900-9846\"\n"
     ]
    },
    {
     "name": "stderr",
     "output_type": "stream",
     "text": [
      "Warning message:\n",
      "“Unknown or uninitialised column: `orcid-identifier.path`.”\n",
      "Warning message:\n",
      "“Unknown or uninitialised column: `orcid-identifier.path`.”\n",
      "Warning message:\n",
      "“Unknown or uninitialised column: `orcid-identifier.path`.”\n",
      "Warning message:\n",
      "“Unknown or uninitialised column: `orcid-identifier.path`.”\n",
      "Warning message:\n",
      "“Unknown or uninitialised column: `orcid-identifier.path`.”\n",
      "Warning message:\n",
      "“Unknown or uninitialised column: `orcid-identifier.path`.”\n",
      "Warning message:\n",
      "“Unknown or uninitialised column: `orcid-identifier.path`.”\n"
     ]
    },
    {
     "name": "stdout",
     "output_type": "stream",
     "text": [
      "[1] \"Walter N. Meier\"\n",
      "[1] \"Julienne Stroeve\"\n",
      "[1] \"Shari Gearheard\"\n",
      "[1] \"Add: 0000-0003-2857-0550\"\n"
     ]
    },
    {
     "name": "stderr",
     "output_type": "stream",
     "text": [
      "Warning message:\n",
      "“Unknown or uninitialised column: `orcid-identifier.path`.”\n",
      "Warning message:\n",
      "“Unknown or uninitialised column: `orcid-identifier.path`.”\n",
      "Warning message:\n",
      "“Unknown or uninitialised column: `orcid-identifier.path`.”\n",
      "Warning message:\n",
      "“Unknown or uninitialised column: `orcid-identifier.path`.”\n"
     ]
    },
    {
     "name": "stdout",
     "output_type": "stream",
     "text": [
      "[1] \"Michiel Van Den Broeke--Institute for Marine and Atmospheric Research Utrecht\"\n",
      "[1] \"Carleen Reijmer--Institute for Marine and Atmospheric Research Utrecht\"\n",
      "[1] \"Dirk Van As--Institute for Marine and Atmospheric Research Utrecht\"\n",
      "[1] \"Roderik Van de Wal--Institute for Marine and Atmospheric Research Utrecht\"\n",
      "[1] \"J. Oerlemans--Institute for Marine and Atmospheric Research Utrecht\"\n",
      "[1] \"Add: 0000-0002-6553-8982\"\n",
      "[1] \"Add: 0000-0001-8299-3883\"\n",
      "[1] \"K. Duncan--University of Maryland\"\n",
      "[1] \"S. L. Farrell--University of Maryland---0000-0003-3222-2751\"\n",
      "[1] \"L. N. Connor--NOAA Laboratory for Satellite Altimetry\"\n",
      "[1] \"J. Richter-Menge--University of Alaska-Fairbanks---0000-0003-2899-0993\"\n",
      "[1] \"J. K. Hutchings--Oregon State University\"\n",
      "[1] \"R. Dominguez--University of California Santa Cruz\"\n",
      "[1] \"Add: 0000-0001-6959-1206\"\n"
     ]
    },
    {
     "name": "stderr",
     "output_type": "stream",
     "text": [
      "Warning message:\n",
      "“Unknown or uninitialised column: `orcid-identifier.path`.”\n"
     ]
    },
    {
     "name": "stdout",
     "output_type": "stream",
     "text": [
      "[1] \"Douglas R. MacAyeal--Department of Geophysical Sciences, University of Chicago\"\n",
      "[1] \"Olga V. Sergienko--GFDL/AOS Program, Princeton University\"\n",
      "[1] \"Add: 0000-0002-5764-8815\"\n",
      "[1] \"Add: 0000-0003-0647-6176\"\n"
     ]
    },
    {
     "name": "stderr",
     "output_type": "stream",
     "text": [
      "Warning message:\n",
      "“Unknown or uninitialised column: `orcid-identifier.path`.”\n"
     ]
    },
    {
     "name": "stdout",
     "output_type": "stream",
     "text": [
      "[1] \"C. Mayer--Commission for Glaciology, Bavarian Academy of Sciences\"\n",
      "[1] \"A. Lambrecht--Institute for Meteorology and Geophysics, University of Innsbruck\"\n",
      "[1] \"M. Belò--Department of Earth Sciences, University of Milan\"\n",
      "[1] \"C. Smiraglia--Department of Earth Sciences, University of Milan\"\n",
      "[1] \"G. Diolaiuti--Department of Earth Sciences, University of Milan\"\n",
      "[1] \"Add: 0000-0001-6635-2074\"\n",
      "[1] \"Add: 0000-0002-3883-9309\"\n"
     ]
    },
    {
     "name": "stderr",
     "output_type": "stream",
     "text": [
      "Warning message:\n",
      "“Unknown or uninitialised column: `orcid-identifier.path`.”\n",
      "Warning message:\n",
      "“Unknown or uninitialised column: `orcid-identifier.path`.”\n",
      "Warning message:\n",
      "“Unknown or uninitialised column: `orcid-identifier.path`.”\n"
     ]
    },
    {
     "name": "stdout",
     "output_type": "stream",
     "text": [
      "[1] \"Stuart John Bartlett--WSL Swiss Federal Institute for Snow and Avalanche Research SLF\"\n",
      "[1] \"Jean-Daniel Rüedi--WSL Swiss Federal Institute for Snow and Avalanche Research SLF\"\n",
      "[1] \"Alasdair Craig--WSL Swiss Federal Institute for Snow and Avalanche Research SLF\"\n",
      "[1] \"Charles Fierz--WSL Swiss Federal Institute for Snow and Avalanche Research SLF\"\n",
      "[1] \"Add: 0000-0001-9490-6732\"\n",
      "[1] \"Wen Jiahong--Shanghai Normal University\"\n",
      "[1] \"Wang Yafeng--Shanghai Normal University\"\n",
      "[1] \"Liu Jiying--Shanghai Normal University\"\n",
      "[1] \"Kenneth C. Jezek--The Ohio State University\"\n",
      "[1] \"Philippe Huybrechts\"\n",
      "[1] \"Beata M. Csathó--The Ohio State University\"\n",
      "[1] \"Katy L. Farness--The Ohio State University\"\n",
      "[1] \"Sun Bo--Polar Research Institute of China\"\n",
      "[1] \"Add: 0000-0003-1406-0525\"\n"
     ]
    },
    {
     "name": "stderr",
     "output_type": "stream",
     "text": [
      "Warning message:\n",
      "“Unknown or uninitialised column: `orcid-identifier.path`.”\n",
      "Warning message:\n",
      "“Unknown or uninitialised column: `orcid-identifier.path`.”\n",
      "Warning message:\n",
      "“Unknown or uninitialised column: `orcid-identifier.path`.”\n",
      "Warning message:\n",
      "“Unknown or uninitialised column: `orcid-identifier.path`.”\n",
      "Warning message:\n",
      "“Unknown or uninitialised column: `orcid-identifier.path`.”\n",
      "Warning message:\n",
      "“Unknown or uninitialised column: `orcid-identifier.path`.”\n",
      "Warning message:\n",
      "“Unknown or uninitialised column: `orcid-identifier.path`.”\n",
      "Warning message:\n",
      "“Unknown or uninitialised column: `orcid-identifier.path`.”\n",
      "Warning message:\n",
      "“Unknown or uninitialised column: `orcid-identifier.path`.”\n"
     ]
    },
    {
     "name": "stdout",
     "output_type": "stream",
     "text": [
      "[1] \"Lucas Girard--Laboratoire de Glaciologie et de Géophysique de l’Environnement\"\n",
      "[1] \"Sylvain Bouillon--Georges Lemaître Centre for Earth and Climate Research, Université Catholique de Louvain\"\n",
      "[1] \"Jérôme Weiss--Laboratoire de Glaciologie et de Géophysique de l’Environnement\"\n",
      "[1] \"David Amitrano--Laboratoire de Géophysique Interne et de Tectonophysique, CNRS–UJF\"\n",
      "[1] \"Thierry Fichefet--Georges Lemaître Centre for Earth and Climate Research, Université Catholique de Louvain\"\n",
      "[1] \"Vincent Legat--Institute of Mechanics, Materials, and Civil Engineering, Université Catholique de Louvain\"\n",
      "[1] \"Add: 0000-0003-3870-0806\"\n"
     ]
    },
    {
     "name": "stderr",
     "output_type": "stream",
     "text": [
      "Warning message:\n",
      "“Unknown or uninitialised column: `orcid-identifier.path`.”\n"
     ]
    },
    {
     "name": "stdout",
     "output_type": "stream",
     "text": [
      "[1] \"Andy Hodson--Geography Department, University of Sheffield,\"\n",
      "[1] \"Jack Kohler--Norwegian Polar Institute, Polar Environmental Centre,\"\n",
      "[1] \"Moana Brinkhaus--Geography Department, University of Sheffield,\"\n",
      "[1] \"Peter Wynn--School of Geography, Earth and Environmental Sciences, University of Birmingham\"\n",
      "[1] \"Add: 0000-0002-1221-5530\"\n",
      "[1] \"Add: 0000-0002-1255-7987\"\n"
     ]
    },
    {
     "name": "stderr",
     "output_type": "stream",
     "text": [
      "Warning message:\n",
      "“Unknown or uninitialised column: `orcid-identifier.path`.”\n",
      "Warning message:\n",
      "“Unknown or uninitialised column: `orcid-identifier.path`.”\n",
      "Warning message:\n",
      "“Unknown or uninitialised column: `orcid-identifier.path`.”\n",
      "Warning message:\n",
      "“Unknown or uninitialised column: `orcid-identifier.path`.”\n",
      "Warning message:\n",
      "“Unknown or uninitialised column: `orcid-identifier.path`.”\n",
      "Warning message:\n",
      "“Unknown or uninitialised column: `orcid-identifier.path`.”\n",
      "Warning message:\n",
      "“Unknown or uninitialised column: `orcid-identifier.path`.”\n",
      "Warning message:\n",
      "“Unknown or uninitialised column: `orcid-identifier.path`.”\n",
      "Warning message:\n",
      "“Unknown or uninitialised column: `orcid-identifier.path`.”\n"
     ]
    },
    {
     "name": "stdout",
     "output_type": "stream",
     "text": [
      "[1] \"Philip Kraaijenbrink--Utrecht University\"\n",
      "[1] \"Sander W. Meijer--Utrecht University\"\n",
      "[1] \"Joseph M. Shea\"\n",
      "[1] \"Francesca Pellicciotti--Institute of Environmental Engineering\"\n",
      "[1] \"Steven M. De Jong--Utrecht University\"\n",
      "[1] \"Walter W. Immerzeel--Utrecht University\"\n",
      "[1] \"Add: 0000-0002-0126-8602\"\n",
      "[1] \"Add: 0000-0002-4557-1283\"\n",
      "[1] \"Add: 0000-0002-1586-9601\"\n",
      "[1] \"Add: 0000-0002-2010-9543\"\n"
     ]
    },
    {
     "name": "stderr",
     "output_type": "stream",
     "text": [
      "Warning message:\n",
      "“Unknown or uninitialised column: `orcid-identifier.path`.”\n",
      "Warning message:\n",
      "“Unknown or uninitialised column: `orcid-identifier.path`.”\n"
     ]
    },
    {
     "name": "stdout",
     "output_type": "stream",
     "text": [
      "[1] \"Thomas Vikhamar Schuler--University of Oslo\"\n",
      "[1] \"Even Loe--University of Oslo\"\n",
      "[1] \"Andrea Taurisano--Norwegian Polar Institute\"\n",
      "[1] \"Trond Eiken--University of Oslo\"\n",
      "[1] \"Jon Ove Hagen--University of Oslo\"\n",
      "[1] \"Jack Kohler--Norwegian Polar Institute\"\n",
      "[1] \"Add: 0000-0003-0972-3929\"\n"
     ]
    },
    {
     "name": "stderr",
     "output_type": "stream",
     "text": [
      "Warning message:\n",
      "“Unknown or uninitialised column: `orcid-identifier.path`.”\n",
      "Warning message:\n",
      "“Unknown or uninitialised column: `orcid-identifier.path`.”\n"
     ]
    },
    {
     "name": "stdout",
     "output_type": "stream",
     "text": [
      "[1] \"Y. C. Tai--Institute for Mechanics, Darmstadt Unmersity of Technology\"\n",
      "[1] \"S. Noelle--Institute of Applied Mathematics, Bonn University\"\n",
      "[1] \"J. M. N.T. Gray--Department of Mathematics, University of Manchester\"\n",
      "[1] \"K. Hutter--Institute for Mechanics, Darmstadt Unmersity of Technology\"\n",
      "[1] \"Add: 0000-0003-3554-0499\"\n",
      "[1] \"Jari Uusikivi--Department of Physics,  University of Helsinki\"\n",
      "[1] \"Mats A. Granskog--Arctic Centre,  University of Lapland\"\n",
      "[1] \"Eloni Sonninen--Dating Laboratory,  University of Helsinki\"\n",
      "[1] \"Add: 0000-0002-5035-4347\"\n",
      "[1] \"Eric Wolff--British Antarctic Survey, Natural Environment Research Council\"\n",
      "[1] \"Isabelle Basile--CEREGE- Unwersité Aix-Marseille III, Europôle Méditerrané\"\n",
      "[1] \"Jean-Robert Petit--Laboratoire de Glaciologie et Géophysique de l’Environnement du CNRS\"\n",
      "[1] \"Jakob Schwander--Physics Institute, University of Bern, Sidlerstrasse 5,\"\n",
      "[1] \"Add: 0000-0002-5914-8531\"\n",
      "[1] \"Wenfeng Huang--Chang’an University\"\n",
      "[1] \"Runling Li--Dalian University of Technology\"\n",
      "[1] \"Hongwei Han--Dalian University of Technology\"\n",
      "[1] \"Fujun Niu--Cold and Arid Regions Environmental and Engineering Research Institute\"\n",
      "[1] \"Qingbai Wu--Cold and Arid Regions Environmental and Engineering Research Institute\"\n",
      "[1] \"Wenke Wang--Chang’an University\"\n",
      "[1] \"Add: 0000-0001-6694-1194\"\n"
     ]
    },
    {
     "name": "stderr",
     "output_type": "stream",
     "text": [
      "Warning message:\n",
      "“Unknown or uninitialised column: `orcid-identifier.path`.”\n",
      "Warning message:\n",
      "“Unknown or uninitialised column: `orcid-identifier.path`.”\n",
      "Warning message:\n",
      "“Unknown or uninitialised column: `orcid-identifier.path`.”\n",
      "Warning message:\n",
      "“Unknown or uninitialised column: `orcid-identifier.path`.”\n"
     ]
    },
    {
     "name": "stdout",
     "output_type": "stream",
     "text": [
      "[1] \"Kristin M. Schild--Dartmouth College\"\n",
      "[1] \"Robert L. Hawley--Dartmouth College\"\n",
      "[1] \"Blaine F. Morriss--Dartmouth College\"\n",
      "[1] \"Add: 0000-0003-3953-5355\"\n"
     ]
    },
    {
     "name": "stderr",
     "output_type": "stream",
     "text": [
      "Warning message:\n",
      "“Unknown or uninitialised column: `orcid-identifier.path`.”\n",
      "Warning message:\n",
      "“Unknown or uninitialised column: `orcid-identifier.path`.”\n"
     ]
    },
    {
     "name": "stdout",
     "output_type": "stream",
     "text": [
      "[1] \"Alessio Gusmeroli--International Arctic Research Center\"\n",
      "[1] \"Gabriel J. Wolken--Alaska Division of Geological & Geophysical Surveys\"\n",
      "[1] \"Anthony A. Arendt--Geophysical Institute\"\n",
      "[1] \"Add: 0000-0002-8355-5591\"\n"
     ]
    },
    {
     "name": "stderr",
     "output_type": "stream",
     "text": [
      "Warning message:\n",
      "“Unknown or uninitialised column: `orcid-identifier.path`.”\n",
      "Warning message:\n",
      "“Unknown or uninitialised column: `orcid-identifier.path`.”\n",
      "Warning message:\n",
      "“Unknown or uninitialised column: `orcid-identifier.path`.”\n",
      "Warning message:\n",
      "“Unknown or uninitialised column: `orcid-identifier.path`.”\n",
      "Warning message:\n",
      "“Unknown or uninitialised column: `orcid-identifier.path`.”\n"
     ]
    },
    {
     "name": "stdout",
     "output_type": "stream",
     "text": [
      "[1] \"G.A. Jones--Institute of Geography and Earth Sciences, Aberystwyth University\"\n",
      "[1] \"B. Kulessa--College of Science, Swansea University\"\n",
      "[1] \"S.H. Doyle--Institute of Geography and Earth Sciences, Aberystwyth University\"\n",
      "[1] \"C.F. Dow--College of Science, Swansea University\"\n",
      "[1] \"A. Hubbard--Institute of Geography and Earth Sciences, Aberystwyth University\"\n",
      "[1] \"Add: 0000-0003-1346-2258\"\n",
      "[1] \"Add: 0000-0002-0853-431X\"\n",
      "[1] \"Add: 0000-0002-4830-4949\"\n",
      "[1] \"Add: 0000-0002-0503-3915\"\n",
      "[1] \"Karsten Müller--Department of Geosciences, University of Oslo\"\n",
      "[1] \"Anna Sinisalo--Department of Geosciences, University of Oslo\"\n",
      "[1] \"Helgard Anschütz--Norwegian Polar Institute, Polar Environmental Centre\"\n",
      "[1] \"Svein-Erik Hamran--Department of Geosciences, University of Oslo\"\n",
      "[1] \"Jon-Ove Hagen--Department of Geosciences, University of Oslo\"\n",
      "[1] \"Joseph R. McConnell--Division of Hydrologic Sciences, Desert Research Institute\"\n",
      "[1] \"Daniel R. Pasteris--Division of Hydrologic Sciences, Desert Research Institute\"\n",
      "[1] \"Add: 0000-0002-7587-1877\"\n"
     ]
    },
    {
     "name": "stderr",
     "output_type": "stream",
     "text": [
      "Warning message:\n",
      "“Unknown or uninitialised column: `orcid-identifier.path`.”\n",
      "Warning message:\n",
      "“Unknown or uninitialised column: `orcid-identifier.path`.”\n",
      "Warning message:\n",
      "“Unknown or uninitialised column: `orcid-identifier.path`.”\n",
      "Warning message:\n",
      "“Unknown or uninitialised column: `orcid-identifier.path`.”\n",
      "Warning message:\n",
      "“Unknown or uninitialised column: `orcid-identifier.path`.”\n"
     ]
    },
    {
     "name": "stdout",
     "output_type": "stream",
     "text": [
      "[1] \"Christina L. Hulbe--Department of Geology, Portland State University\"\n",
      "[1] \"Weili Wang--Department of Geology, Portland State University\"\n",
      "[1] \"Ian R. Joughin--Department of Geology, Portland State University\"\n",
      "[1] \"Martin J. Siegert--Department of Geology, Portland State University\"\n",
      "[1] \"Add: 0000-0003-4765-7037\"\n"
     ]
    },
    {
     "name": "stderr",
     "output_type": "stream",
     "text": [
      "Warning message:\n",
      "“Unknown or uninitialised column: `orcid-identifier.path`.”\n"
     ]
    },
    {
     "name": "stdout",
     "output_type": "stream",
     "text": [
      "[1] \"Stephen F. Price--Department of Earth and Space Sciences, University of Washington\"\n",
      "[1] \"Joseph S. Walder\"\n",
      "[1] \"Add: 0000-0001-6878-2553\"\n",
      "[1] \"Add: 0000-0003-3523-2998\"\n",
      "[1] \"Ewa Bednorz--Institute of Physical Geography and Environmental Planning\"\n",
      "[1] \"Joanna Wibig--University of Łódź\"\n",
      "[1] \"Add: 0000-0002-8560-0325\"\n",
      "[1] \"Add: 0000-0002-5156-5568\"\n"
     ]
    },
    {
     "name": "stderr",
     "output_type": "stream",
     "text": [
      "Warning message:\n",
      "“Unknown or uninitialised column: `orcid-identifier.path`.”\n"
     ]
    },
    {
     "name": "stdout",
     "output_type": "stream",
     "text": [
      "[1] \"A. Malin Johansson--UiT The Arctic University of Norway---0000-0003-0129-2239\"\n",
      "[1] \"Eirik Malnes--NORCE Norwegian Research Centre AS\"\n",
      "[1] \"Sebastian Gerland--Norwegian Polar Institute\"\n",
      "[1] \"Anca Cristea--UiT The Arctic University of Norway\"\n",
      "[1] \"Anthony P. Doulgeris--UiT The Arctic University of Norway\"\n",
      "[1] \"Dmitry V. Divine--Norwegian Polar Institute\"\n",
      "[1] \"Olga Pavlova--Norwegian Polar Institute\"\n",
      "[1] \"Tom Rune Lauknes--NORCE Norwegian Research Centre AS\"\n",
      "[1] \"Ian Simmonds--University of Melbourne\"\n",
      "[1] \"Add: 0000-0002-4479-3255\"\n"
     ]
    },
    {
     "name": "stderr",
     "output_type": "stream",
     "text": [
      "Warning message:\n",
      "“Unknown or uninitialised column: `orcid-identifier.path`.”\n",
      "Warning message:\n",
      "“Unknown or uninitialised column: `orcid-identifier.path`.”\n"
     ]
    },
    {
     "name": "stdout",
     "output_type": "stream",
     "text": [
      "[1] \"Ute C. Herzfeld--University of Colorado\"\n",
      "[1] \"James Fastook--University of Maine\"\n",
      "[1] \"Ralf Greve--Institute of Low Temperature Science\"\n",
      "[1] \"Brian McDonald--University of Colorado\"\n",
      "[1] \"Bruce F. Wallin--University of Colorado\"\n",
      "[1] \"Phillip A. Chen--University of Colorado\"\n",
      "[1] \"Add: 0000-0002-5694-4698\"\n",
      "[1] \"Add: 0000-0003-3900-671X\"\n",
      "[1] \"Add: 0000-0002-1341-4777\"\n"
     ]
    },
    {
     "name": "stderr",
     "output_type": "stream",
     "text": [
      "Warning message:\n",
      "“Unknown or uninitialised column: `orcid-identifier.path`.”\n",
      "Warning message:\n",
      "“Unknown or uninitialised column: `orcid-identifier.path`.”\n",
      "Warning message:\n",
      "“Unknown or uninitialised column: `orcid-identifier.path`.”\n"
     ]
    },
    {
     "name": "stdout",
     "output_type": "stream",
     "text": [
      "[1] \"Roberto Sergio Azzoni--Università degli Studi di Milano---0000-0002-5931-486X\"\n",
      "[1] \"Ilario Tagliaferri--Università Milano-Bicocca\"\n",
      "[1] \"Andrea Franzetti--Università Milano-Bicocca\"\n",
      "[1] \"Christoph Mayer--Bavarian Academy of Sciences and Humanities\"\n",
      "[1] \"Astrid Lambrecht--Bavarian Academy of Sciences and Humanities\"\n",
      "[1] \"Chiara Compostella--Università degli Studi di Milano\"\n",
      "[1] \"Marco Caccianiga--Università degli Studi di Milano\"\n",
      "[1] \"Umberto Filippo Minora--Università degli Studi di Milano\"\n",
      "[1] \"Carlo Alberto Garzonio--Università degli Studi di Firenze\"\n",
      "[1] \"Eraldo Meraldi--ARPA Lombardia\"\n",
      "[1] \"Claudio Smiraglia--Università degli Studi di Milano\"\n",
      "[1] \"Guglielmina Adele Diolaiuti--Università degli Studi di Milano\"\n",
      "[1] \"Roberto Ambrosini--Università degli Studi di Milano---0000-0002-7148-1468\"\n",
      "[1] \"Add: 0000-0003-1279-9940\"\n",
      "[1] \"Alessio Gusmeroli--International Arctic Research Center, University of Alaska Fairbanks\"\n",
      "[1] \"Tavi Murray--Glaciology Group, Department of Geography, Swansea University\"\n",
      "[1] \"Roger A. Clark--School of Earth and Environment, University of Leeds\"\n",
      "[1] \"Bernd Kulessa--Glaciology Group, Department of Geography, Swansea University\"\n",
      "[1] \"Peter Jansson--Department of Geography and Quaternary Geology, Stockholm University\"\n",
      "[1] \"Add: 0000-0002-8355-5591\"\n",
      "[1] \"Add: 0000-0002-8832-8806\"\n",
      "[1] \"Add: 0000-0002-4830-4949\"\n",
      "[1] \"Stefan Kern--Institute of Oceanography\"\n",
      "[1] \"Gunnar Spreen--Institute of Oceanography\"\n",
      "[1] \"Lars Kaleschke--Institute of Environmental Physics\"\n",
      "[1] \"Sara De La Rosa--Institute of Oceanography\"\n",
      "[1] \"Georg Heygster--Institute of Environmental Physics\"\n",
      "[1] \"Add: 0000-0003-0165-8448\"\n",
      "[1] \"Add: 0000-0003-2232-7429\"\n",
      "[1] \"Add: 0000-0001-7281-3746\"\n",
      "[1] \"Add: 0000-0001-7086-3299\"\n",
      "[1] \"S.K. Singh--Marine and Earth Sciences Group (MESG), Space Applications Centre (ISRO)\"\n",
      "[1] \"A.V. Kulkarni--Marine and Earth Sciences Group (MESG), Space Applications Centre (ISRO)\"\n",
      "[1] \"B.S. Chaudhary--Department of Geophysics, Kurukshetra University\"\n",
      "[1] \"Add: 0000-0003-3789-8443\"\n",
      "[1] \"Colin Fox--Mathematics Department, University of Auckland\"\n",
      "[1] \"Tim G. Haskell--Industrial Research Limited\"\n",
      "[1] \"Add: 0000-0002-9278-1777\"\n"
     ]
    },
    {
     "name": "stderr",
     "output_type": "stream",
     "text": [
      "Warning message:\n",
      "“Unknown or uninitialised column: `orcid-identifier.path`.”\n",
      "Warning message:\n",
      "“Unknown or uninitialised column: `orcid-identifier.path`.”\n",
      "Warning message:\n",
      "“Unknown or uninitialised column: `orcid-identifier.path`.”\n",
      "Warning message:\n",
      "“Unknown or uninitialised column: `orcid-identifier.path`.”\n",
      "Warning message:\n",
      "“Unknown or uninitialised column: `orcid-identifier.path`.”\n",
      "Warning message:\n",
      "“Unknown or uninitialised column: `orcid-identifier.path`.”\n",
      "Warning message:\n",
      "“Unknown or uninitialised column: `orcid-identifier.path`.”\n",
      "Warning message:\n",
      "“Unknown or uninitialised column: `orcid-identifier.path`.”\n",
      "Warning message:\n",
      "“Unknown or uninitialised column: `orcid-identifier.path`.”\n",
      "Warning message:\n",
      "“Unknown or uninitialised column: `orcid-identifier.path`.”\n"
     ]
    },
    {
     "name": "stdout",
     "output_type": "stream",
     "text": [
      "[1] \"Robert A. Massom\"\n",
      "[1] \"Anthony Worby\"\n",
      "[1] \"Victoria Lytle\"\n",
      "[1] \"Thorsten Markus\"\n",
      "[1] \"Ian Allison\"\n",
      "[1] \"Theodore Scambos\"\n",
      "[1] \"Hiroyuki Enomoto\"\n",
      "[1] \"Takeshi Tamura\"\n",
      "[1] \"Kazutaka Tateyama\"\n",
      "[1] \"Terence Haran\"\n",
      "[1] \"Josefino C. Comiso\"\n",
      "[1] \"Andreas Pfaffling\"\n",
      "[1] \"Atsuhiro Muto\"\n",
      "[1] \"Pannir Kanagaratnam\"\n",
      "[1] \"Barry Giles\"\n",
      "[1] \"Neal Young\"\n",
      "[1] \"Glenn Hyland\"\n",
      "[1] \"Erica Key\"\n",
      "[1] \"Add: 0000-0002-1722-2457\"\n",
      "[1] \"Add: 0000-0003-1533-5084\"\n"
     ]
    },
    {
     "name": "stderr",
     "output_type": "stream",
     "text": [
      "Warning message:\n",
      "“Unknown or uninitialised column: `orcid-identifier.path`.”\n",
      "Warning message:\n",
      "“Unknown or uninitialised column: `orcid-identifier.path`.”\n",
      "Warning message:\n",
      "“Unknown or uninitialised column: `orcid-identifier.path`.”\n",
      "Warning message:\n",
      "“Unknown or uninitialised column: `orcid-identifier.path`.”\n",
      "Warning message:\n",
      "“Unknown or uninitialised column: `orcid-identifier.path`.”\n"
     ]
    },
    {
     "name": "stdout",
     "output_type": "stream",
     "text": [
      "[1] \"Sergey A. Sokratov--Cooperative Institute for Research in Environmental Sciences (CIRES), University of Colorado\"\n",
      "[1] \"Atsushi Sato--National Research Institute for Earth Science and Disaster Prevention, Shinjo Branch of Snow and Ice Studies\"\n",
      "[1] \"Add: 0000-0001-9265-2935\"\n"
     ]
    },
    {
     "name": "stderr",
     "output_type": "stream",
     "text": [
      "Warning message:\n",
      "“Unknown or uninitialised column: `orcid-identifier.path`.”\n",
      "Warning message:\n",
      "“Unknown or uninitialised column: `orcid-identifier.path`.”\n",
      "Warning message:\n",
      "“Unknown or uninitialised column: `orcid-identifier.path`.”\n",
      "Warning message:\n",
      "“Unknown or uninitialised column: `orcid-identifier.path`.”\n",
      "Warning message:\n",
      "“Unknown or uninitialised column: `orcid-identifier.path`.”\n",
      "Warning message:\n",
      "“Unknown or uninitialised column: `orcid-identifier.path`.”\n",
      "Warning message:\n",
      "“Unknown or uninitialised column: `orcid-identifier.path`.”\n"
     ]
    },
    {
     "name": "stdout",
     "output_type": "stream",
     "text": [
      "[1] \"David Bolius--Paul Scherrer Institut\"\n",
      "[1] \"Margit Schwikowski--Paul Scherrer Institut\"\n",
      "[1] \"Theo Jenk--Paul Scherrer Institut\"\n",
      "[1] \"Heinz W. Gäggeler--Paul Scherrer Institut\"\n",
      "[1] \"Gino Casassa--Centro de Estudios Científicos\"\n",
      "[1] \"Andrés Rivera--Centro de Estudios Científicos\"\n",
      "[1] \"Add: 0000-0001-6820-8615\"\n",
      "[1] \"Add: 0000-0002-2779-4192\"\n",
      "[1] \"Add: 0000-0002-0856-5183\"\n"
     ]
    },
    {
     "name": "stderr",
     "output_type": "stream",
     "text": [
      "Warning message:\n",
      "“Unknown or uninitialised column: `orcid-identifier.path`.”\n",
      "Warning message:\n",
      "“Unknown or uninitialised column: `orcid-identifier.path`.”\n",
      "Warning message:\n",
      "“Unknown or uninitialised column: `orcid-identifier.path`.”\n",
      "Warning message:\n",
      "“Unknown or uninitialised column: `orcid-identifier.path`.”\n"
     ]
    },
    {
     "name": "stdout",
     "output_type": "stream",
     "text": [
      "[1] \"Yuriy M. Kononov--Institute of Geography, Russian Academy of Sciences\"\n",
      "[1] \"Maria D. Ananicheva--Institute of Geography, Russian Academy of Sciences\"\n",
      "[1] \"Ian C. Willis--Institute of Geography, Russian Academy of Sciences\"\n",
      "[1] \"Add: 0000-0003-1900-6501\"\n",
      "[1] \"Add: 0000-0002-0750-7088\"\n"
     ]
    },
    {
     "name": "stderr",
     "output_type": "stream",
     "text": [
      "Warning message:\n",
      "“Unknown or uninitialised column: `orcid-identifier.path`.”\n"
     ]
    },
    {
     "name": "stdout",
     "output_type": "stream",
     "text": [
      "[1] \"Denis Lombardi--Université de Paris, Institut de physique du globe de Paris\"\n",
      "[1] \"Irina Gorodetskaya--University of Aveiro\"\n",
      "[1] \"Guilhem Barruol--Université de Paris, Institut de physique du globe de Paris---0000-0002-4049-2375\"\n",
      "[1] \"Thierry Camelbeeck--Royal Observatory of Belgium\"\n",
      "[1] \"Add: 0000-0002-2294-7823\"\n"
     ]
    },
    {
     "name": "stderr",
     "output_type": "stream",
     "text": [
      "Warning message:\n",
      "“Unknown or uninitialised column: `orcid-identifier.path`.”\n",
      "Warning message:\n",
      "“Unknown or uninitialised column: `orcid-identifier.path`.”\n",
      "Warning message:\n",
      "“Unknown or uninitialised column: `orcid-identifier.path`.”\n"
     ]
    },
    {
     "name": "stdout",
     "output_type": "stream",
     "text": [
      "[1] \"Ioanna Merkouriadi--Finnish Meteorological Institute---0000-0002-1878-3731\"\n",
      "[1] \"Bin Cheng--Finnish Meteorological Institute---0000-0001-8156-8412\"\n",
      "[1] \"Stephen R. Hudson--Norwegian Polar Institute, Fram Centre\"\n",
      "[1] \"Mats A. Granskog--Norwegian Polar Institute, Fram Centre---0000-0002-5035-4347\"\n"
     ]
    },
    {
     "name": "stderr",
     "output_type": "stream",
     "text": [
      "Warning message:\n",
      "“Unknown or uninitialised column: `orcid-identifier.path`.”\n",
      "Warning message:\n",
      "“Unknown or uninitialised column: `orcid-identifier.path`.”\n"
     ]
    },
    {
     "name": "stdout",
     "output_type": "stream",
     "text": [
      "[1] \"Alessio Gusmeroli--International Arctic Research Center, University of Alaska Fairbanks\"\n",
      "[1] \"Anthony Arendt--Geophysical Institute, University of Alaska Fairbanks\"\n",
      "[1] \"Donald Atwood--Geophysical Institute, University of Alaska Fairbanks\"\n",
      "[1] \"Bert Kampes--Fugro EarthData Inc.\"\n",
      "[1] \"Mark Sanford--Fugro EarthData Inc.\"\n",
      "[1] \"Joanna C. Young--Geophysical Institute, University of Alaska Fairbanks\"\n",
      "[1] \"Add: 0000-0002-7044-9554\"\n",
      "[1] \"Add: 0000-0002-8355-5591\"\n",
      "[1] \"Nicholas Guttenberg--University of Chicago\"\n",
      "[1] \"Dorian S. Abbot--University of Chicago\"\n",
      "[1] \"Jason M. Amundson--University of Chicago\"\n",
      "[1] \"Justin C. Burton--University of Chicago\"\n",
      "[1] \"L. Mac Cathles--University of Chicago\"\n",
      "[1] \"Douglas R. MacAyeal--University of Chicago\"\n",
      "[1] \"Wendy W. Zhang--University of Chicago\"\n",
      "[1] \"Add: 0000-0002-4797-8968\"\n",
      "[1] \"Add: 0000-0003-0647-6176\"\n"
     ]
    },
    {
     "name": "stderr",
     "output_type": "stream",
     "text": [
      "Warning message:\n",
      "“Unknown or uninitialised column: `orcid-identifier.path`.”\n"
     ]
    },
    {
     "name": "stdout",
     "output_type": "stream",
     "text": [
      "[1] \"Paul Andrew Mayewski--Climate Change Institute\"\n",
      "[1] \"Massimo Frezzotti\"\n",
      "[1] \"Nancy Bertler--Victoria University of Wellington\"\n",
      "[1] \"Tas VAN Ommen\"\n",
      "[1] \"Gordon Hamilton--Climate Change Institute\"\n",
      "[1] \"Tim H. Jacka\"\n",
      "[1] \"Brian Welch\"\n",
      "[1] \"Markus Frey--The University of Arizona\"\n",
      "[1] \"Qin Dahe\"\n",
      "[1] \"Ren Jiawen--Lanzhou Institute of Glaciology and Geocryology\"\n",
      "[1] \"Jefferson Simões\"\n",
      "[1] \"Michel Fily\"\n",
      "[1] \"Hans Oerter--Alfred Wegener Institute for Polar and Marine Research\"\n",
      "[1] \"Fumihiko Nishio--Center for Environmental Remote Sensing\"\n",
      "[1] \"Elisabeth Isaksson--Norwegian Polar Institute\"\n",
      "[1] \"Robert Mulvaney\"\n",
      "[1] \"Per Holmund--Stockholm University\"\n",
      "[1] \"Volodya Lipenkov--Arctic and Antarctic Research Institute\"\n",
      "[1] \"Ian Goodwin--School of Environmental and Life Sciences\"\n",
      "[1] \"Add: 0000-0001-6028-4891\"\n",
      "[1] \"Add: 0000-0003-4221-5440\"\n",
      "[1] \"Add: 0000-0001-8682-6409\"\n",
      "[1] \"Add: 0000-0002-2461-2883\"\n",
      "[1] \"Add: 0000-0002-5372-8148\"\n",
      "[1] \"Error in: 1968 owi:0000-0001-5555-3401\"\n",
      "[1] \"Add: 0000-0002-2463-1718\"\n"
     ]
    },
    {
     "name": "stderr",
     "output_type": "stream",
     "text": [
      "Warning message:\n",
      "“Unknown or uninitialised column: `orcid-identifier.path`.”\n",
      "Warning message:\n",
      "“Unknown or uninitialised column: `orcid-identifier.path`.”\n",
      "Warning message:\n",
      "“Unknown or uninitialised column: `orcid-identifier.path`.”\n",
      "Warning message:\n",
      "“Unknown or uninitialised column: `orcid-identifier.path`.”\n"
     ]
    },
    {
     "name": "stdout",
     "output_type": "stream",
     "text": [
      "[1] \"J. B. Woodard--University of Wisconsin-Madison---0000-0002-3095-0774\"\n",
      "[1] \"L. K. Zoet--University of Wisconsin-Madison\"\n",
      "[1] \"N. R. Iverson--Iowa State University of Science and Technology\"\n",
      "[1] \"C. Helanow--Iowa State University of Science and Technology\"\n"
     ]
    },
    {
     "name": "stderr",
     "output_type": "stream",
     "text": [
      "Warning message:\n",
      "“Unknown or uninitialised column: `orcid-identifier.path`.”\n"
     ]
    },
    {
     "name": "stdout",
     "output_type": "stream",
     "text": [
      "[1] \"Mark R. Drinkwater--Jet Propulsion Laboratory, California Institute of Technology\"\n",
      "[1] \"Xiang Liu--Jet Propulsion Laboratory, California Institute of Technology\"\n",
      "[1] \"Sabine Harms--Alfred-Wegener-Institut für Polar- Und Meeresforschung\"\n",
      "[1] \"Add: 0000-0002-9250-3806\"\n"
     ]
    },
    {
     "name": "stderr",
     "output_type": "stream",
     "text": [
      "Warning message:\n",
      "“Unknown or uninitialised column: `orcid-identifier.path`.”\n",
      "Warning message:\n",
      "“Unknown or uninitialised column: `orcid-identifier.path`.”\n"
     ]
    },
    {
     "name": "stdout",
     "output_type": "stream",
     "text": [
      "[1] \"M. Heggli--WSL Institute for Snow and Avalanche Research SLF\"\n",
      "[1] \"B. Köchle--WSL Institute for Snow and Avalanche Research SLF\"\n",
      "[1] \"M. Matzl--WSL Institute for Snow and Avalanche Research SLF\"\n",
      "[1] \"B.R. Pinzer--WSL Institute for Snow and Avalanche Research SLF\"\n",
      "[1] \"F. Riche--WSL Institute for Snow and Avalanche Research SLF\"\n",
      "[1] \"S. Steiner--WSL Institute for Snow and Avalanche Research SLF\"\n",
      "[1] \"D. Steinfeld--WSL Institute for Snow and Avalanche Research SLF\"\n",
      "[1] \"M. Schneebeli--WSL Institute for Snow and Avalanche Research SLF\"\n",
      "[1] \"Add: 0000-0003-2872-4409\"\n"
     ]
    },
    {
     "name": "stderr",
     "output_type": "stream",
     "text": [
      "Warning message:\n",
      "“Unknown or uninitialised column: `orcid-identifier.path`.”\n",
      "Warning message:\n",
      "“Unknown or uninitialised column: `orcid-identifier.path`.”\n",
      "Warning message:\n",
      "“Unknown or uninitialised column: `orcid-identifier.path`.”\n"
     ]
    },
    {
     "name": "stdout",
     "output_type": "stream",
     "text": [
      "[1] \"Laura Bakermans--Department of Civil Engineering, University of Calgary\"\n",
      "[1] \"Bruce Jamieson--Department of Civil Engineering, University of Calgary\"\n",
      "[1] \"Jürg Schweizer--WSL Institute for Snow and Avalanche Research SLF\"\n",
      "[1] \"Pascal Haegeli--School of Resource and Environmental Management, Simon Fraser University, 8888 University Drive\"\n",
      "[1] \"Add: 0000-0001-5076-2968\"\n"
     ]
    },
    {
     "name": "stderr",
     "output_type": "stream",
     "text": [
      "Warning message:\n",
      "“Unknown or uninitialised column: `orcid-identifier.path`.”\n",
      "Warning message:\n",
      "“Unknown or uninitialised column: `orcid-identifier.path`.”\n",
      "Warning message:\n",
      "“Unknown or uninitialised column: `orcid-identifier.path`.”\n",
      "Warning message:\n",
      "“Unknown or uninitialised column: `orcid-identifier.path`.”\n",
      "Warning message:\n",
      "“Unknown or uninitialised column: `orcid-identifier.path`.”\n",
      "Warning message:\n",
      "“Unknown or uninitialised column: `orcid-identifier.path`.”\n",
      "Warning message:\n",
      "“Unknown or uninitialised column: `orcid-identifier.path`.”\n",
      "Warning message:\n",
      "“Unknown or uninitialised column: `orcid-identifier.path`.”\n"
     ]
    },
    {
     "name": "stdout",
     "output_type": "stream",
     "text": [
      "[1] \"J. Wendt--Centro de Estudios Científicos (CECS)\"\n",
      "[1] \"A. Rivera--Centro de Estudios Científicos (CECS)\"\n",
      "[1] \"A. Wendt--Centro de Estudios Científicos (CECS)\"\n",
      "[1] \"F. Bown--Centro de Estudios Científicos (CECS)\"\n",
      "[1] \"R. Zamora--Centro de Estudios Científicos (CECS)\"\n",
      "[1] \"G. Casassa--Centro de Estudios Científicos (CECS)\"\n",
      "[1] \"C. Bravo--Centro de Estudios Científicos (CECS)\"\n",
      "[1] \"Add: 0000-0003-4822-4786\"\n",
      "[1] \"Add: 0000-0002-2779-4192\"\n"
     ]
    },
    {
     "name": "stderr",
     "output_type": "stream",
     "text": [
      "Warning message:\n",
      "“Unknown or uninitialised column: `orcid-identifier.path`.”\n",
      "Warning message:\n",
      "“Unknown or uninitialised column: `orcid-identifier.path`.”\n"
     ]
    },
    {
     "name": "stdout",
     "output_type": "stream",
     "text": [
      "[1] \"Thomas Schuler\"\n",
      "[1] \"Urs H. Fischer\"\n",
      "[1] \"Add: 0000-0003-0972-3929\"\n"
     ]
    },
    {
     "name": "stderr",
     "output_type": "stream",
     "text": [
      "Warning message:\n",
      "“Unknown or uninitialised column: `orcid-identifier.path`.”\n",
      "Warning message:\n",
      "“Unknown or uninitialised column: `orcid-identifier.path`.”\n"
     ]
    },
    {
     "name": "stdout",
     "output_type": "stream",
     "text": [
      "[1] \"D. Harrison--Newcastle University---0000-0003-4647-1695\"\n",
      "[1] \"N. Ross--Newcastle University---0000-0002-8338-4905\"\n",
      "[1] \"A. J. Russell--Newcastle University\"\n",
      "[1] \"S. A. Dunning--Newcastle University\"\n",
      "[1] \"Add: 0000-0002-2310-7367\"\n",
      "[1] \"Hiroki Shibata--Cold Regions, Environmental and Energy Engineering, Kitami Institute of Technology\"\n",
      "[1] \"Koh Izumiyama--R&D, Management Planning, North Japan Port Consultants\"\n",
      "[1] \"Kazutaka Tateyama--Civil and Environmental Engineering, Kitami Institute of Technology\"\n",
      "[1] \"Hiroyuki Enomoto--Arctic Environment Research Center, National Institute of Polar Research\"\n",
      "[1] \"Shuhei Takahashi--Civil and Environmental Engineering, Kitami Institute of Technology\"\n",
      "[1] \"Add: 0000-0003-2303-8928\"\n"
     ]
    },
    {
     "name": "stderr",
     "output_type": "stream",
     "text": [
      "Warning message:\n",
      "“Unknown or uninitialised column: `orcid-identifier.path`.”\n"
     ]
    },
    {
     "name": "stdout",
     "output_type": "stream",
     "text": [
      "[1] \"Howard Conway--Department of Earth and Space Sciences\"\n",
      "[1] \"Ben Smith--Department of Earth and Space Sciences\"\n",
      "[1] \"Pavan Vaswani--Department of Earth and Space Sciences\"\n",
      "[1] \"Kenichi Matsuoka--Department of Earth and Space Sciences\"\n",
      "[1] \"Eric Rignot--University of California–Irvine\"\n",
      "[1] \"Paul Claus\"\n",
      "[1] \"Add: 0000-0002-1826-6275\"\n",
      "[1] \"Simon Marsland\"\n",
      "[1] \"Jörg-Olaf Wolff\"\n",
      "[1] \"Add: 0000-0002-5664-5276\"\n"
     ]
    },
    {
     "name": "stderr",
     "output_type": "stream",
     "text": [
      "Warning message:\n",
      "“Unknown or uninitialised column: `orcid-identifier.path`.”\n",
      "Warning message:\n",
      "“Unknown or uninitialised column: `orcid-identifier.path`.”\n",
      "Warning message:\n",
      "“Unknown or uninitialised column: `orcid-identifier.path`.”\n",
      "Warning message:\n",
      "“Unknown or uninitialised column: `orcid-identifier.path`.”\n",
      "Warning message:\n",
      "“Unknown or uninitialised column: `orcid-identifier.path`.”\n"
     ]
    },
    {
     "name": "stdout",
     "output_type": "stream",
     "text": [
      "[1] \"Markus Engelhardt--Department of Geosciences, University of Oslo\"\n",
      "[1] \"Thomas V. Schuler--Department of Geosciences, University of Oslo\"\n",
      "[1] \"Liss M. Andreassen--Norwegian Water Resources and Energy Directorate (NVE)\"\n",
      "[1] \"Add: 0000-0003-0972-3929\"\n"
     ]
    },
    {
     "name": "stderr",
     "output_type": "stream",
     "text": [
      "Warning message:\n",
      "“Unknown or uninitialised column: `orcid-identifier.path`.”\n",
      "Warning message:\n",
      "“Unknown or uninitialised column: `orcid-identifier.path`.”\n",
      "Warning message:\n",
      "“Unknown or uninitialised column: `orcid-identifier.path`.”\n"
     ]
    },
    {
     "name": "stdout",
     "output_type": "stream",
     "text": [
      "[1] \"Cathleen Geiger--University of Delaware\"\n",
      "[1] \"Peter Wadhams\"\n",
      "[1] \"Hans-Reinhard Müller--Dartmouth College\"\n",
      "[1] \"Jacqueline Richter-Menge--US Army Cold Regions Research and Engineering Laboratory (CRREL)\"\n",
      "[1] \"Jesse Samluk--University of Delaware\"\n",
      "[1] \"Tracy Deliberty--University of Delaware\"\n",
      "[1] \"Victoria Corradina--University of Delaware\"\n",
      "[1] \"Error in: 2013 owi:0000-0001-7364-5377\"\n"
     ]
    },
    {
     "name": "stderr",
     "output_type": "stream",
     "text": [
      "Warning message:\n",
      "“Unknown or uninitialised column: `orcid-identifier.path`.”\n"
     ]
    },
    {
     "name": "stdout",
     "output_type": "stream",
     "text": [
      "[1] \"Christian Haas--Department of Earth and Atmospheric Sciences,  University of Alberta\"\n",
      "[1] \"Herve Le Goff--Locean,  Université Pierre et Marie Curie\"\n",
      "[1] \"Samuel Audrain--Locean,  Université Pierre et Marie Curie\"\n",
      "[1] \"Don Perovich--US Army Cold Regions Research and Engineering Laboratory\"\n",
      "[1] \"Jari Haapala--Finnish Meteorological Institute\"\n",
      "[1] \"Add: 0000-0002-7674-3500\"\n",
      "[1] \"Benjamin H. Hills--University of Washington---0000-0003-4490-7416\"\n",
      "[1] \"Dale P. Winebrenner--University of Washington---0000-0003-2341-1083\"\n",
      "[1] \"W. T. Elam--University of Washington\"\n",
      "[1] \"Paul M. S. Kintner--University of Washington\"\n"
     ]
    },
    {
     "name": "stderr",
     "output_type": "stream",
     "text": [
      "Warning message:\n",
      "“Unknown or uninitialised column: `orcid-identifier.path`.”\n",
      "Warning message:\n",
      "“Unknown or uninitialised column: `orcid-identifier.path`.”\n",
      "Warning message:\n",
      "“Unknown or uninitialised column: `orcid-identifier.path`.”\n",
      "Warning message:\n",
      "“Unknown or uninitialised column: `orcid-identifier.path`.”\n"
     ]
    },
    {
     "name": "stdout",
     "output_type": "stream",
     "text": [
      "[1] \"Jeffrey A. VanLooy--University of North Dakota\"\n",
      "[1] \"Richard R. Forster--University of Utah\"\n",
      "[1] \"Add: 0000-0002-7424-5516\"\n"
     ]
    },
    {
     "name": "stderr",
     "output_type": "stream",
     "text": [
      "Warning message:\n",
      "“Unknown or uninitialised column: `orcid-identifier.path`.”\n",
      "Warning message:\n",
      "“Unknown or uninitialised column: `orcid-identifier.path`.”\n",
      "Warning message:\n",
      "“Unknown or uninitialised column: `orcid-identifier.path`.”\n",
      "Warning message:\n",
      "“Unknown or uninitialised column: `orcid-identifier.path`.”\n",
      "Warning message:\n",
      "“Unknown or uninitialised column: `orcid-identifier.path`.”\n",
      "Warning message:\n",
      "“Unknown or uninitialised column: `orcid-identifier.path`.”\n",
      "Warning message:\n",
      "“Unknown or uninitialised column: `orcid-identifier.path`.”\n",
      "Warning message:\n",
      "“Unknown or uninitialised column: `orcid-identifier.path`.”\n"
     ]
    },
    {
     "name": "stdout",
     "output_type": "stream",
     "text": [
      "[1] \"Helen A. Fricker--Institute of Geophysics and Planetary Physics, Scripps Institution of Oceanography, University of California San Diego\"\n",
      "[1] \"Neal W. Young\"\n",
      "[1] \"Ian Allison\"\n",
      "[1] \"Richard Coleman--Antarctic CRC and School of Geography and Environmental Studies, University of Tasmania\"\n",
      "[1] \"Add: 0000-0002-9731-7498\"\n"
     ]
    },
    {
     "name": "stderr",
     "output_type": "stream",
     "text": [
      "Warning message:\n",
      "“Unknown or uninitialised column: `orcid-identifier.path`.”\n",
      "Warning message:\n",
      "“Unknown or uninitialised column: `orcid-identifier.path`.”\n",
      "Warning message:\n",
      "“Unknown or uninitialised column: `orcid-identifier.path`.”\n",
      "Warning message:\n",
      "“Unknown or uninitialised column: `orcid-identifier.path`.”\n"
     ]
    },
    {
     "name": "stdout",
     "output_type": "stream",
     "text": [
      "[1] \"Zhongqin Li\"\n",
      "[1] \"Wenbin Wang\"\n",
      "[1] \"Feiteng Wang\"\n",
      "[1] \"Huilin Li\"\n",
      "[1] \" Mingjun Zhang\"\n",
      "[1] \"Add: 0000-0002-7977-9509\"\n"
     ]
    },
    {
     "name": "stderr",
     "output_type": "stream",
     "text": [
      "Warning message:\n",
      "“Unknown or uninitialised column: `orcid-identifier.path`.”\n"
     ]
    },
    {
     "name": "stdout",
     "output_type": "stream",
     "text": [
      "[1] \"Roberta Pirazzini\"\n",
      "[1] \"Timo Vihma\"\n",
      "[1] \"Mats A. Granskog\"\n",
      "[1] \"Bin Cheng\"\n",
      "[1] \"Add: 0000-0002-5035-4347\"\n"
     ]
    },
    {
     "name": "stderr",
     "output_type": "stream",
     "text": [
      "Warning message:\n",
      "“Unknown or uninitialised column: `orcid-identifier.path`.”\n",
      "Warning message:\n",
      "“Unknown or uninitialised column: `orcid-identifier.path`.”\n"
     ]
    },
    {
     "name": "stdout",
     "output_type": "stream",
     "text": [
      "[1] \"R. Staroszczyk--School of Mathematics, University of East Anglia\"\n",
      "[1] \"L.W. Morland--School of Mathematics, University of East Anglia\"\n",
      "[1] \"Add: 0000-0002-0423-1717\"\n"
     ]
    },
    {
     "name": "stderr",
     "output_type": "stream",
     "text": [
      "Warning message:\n",
      "“Unknown or uninitialised column: `orcid-identifier.path`.”\n",
      "Warning message:\n",
      "“Unknown or uninitialised column: `orcid-identifier.path`.”\n"
     ]
    },
    {
     "name": "stdout",
     "output_type": "stream",
     "text": [
      "[1] \"Dougal D. Hansen--University of Wisconsin-Madison\"\n",
      "[1] \"Lucas K. Zoet--University of Wisconsin-Madison\"\n",
      "[1] \"Add: 0000-0002-9150-9376\"\n"
     ]
    },
    {
     "name": "stderr",
     "output_type": "stream",
     "text": [
      "Warning message:\n",
      "“Unknown or uninitialised column: `orcid-identifier.path`.”\n",
      "Warning message:\n",
      "“Unknown or uninitialised column: `orcid-identifier.path`.”\n"
     ]
    },
    {
     "name": "stdout",
     "output_type": "stream",
     "text": [
      "[1] \"Sönke Maus--Geophysical Institute,  University of Bergen\"\n",
      "[1] \"Susann Müller--Department of Environmental Sciences,  University of Helsinki\"\n",
      "[1] \"Juliane Büttner--Geophysical Institute,  University of Bergen\"\n",
      "[1] \"Sabina Brütsch--Paul Scherrer Institute,  Labor für Radio-und Umweltchemie\"\n",
      "[1] \"Thomas Huthwelker--Paul Scherrer Institute,  Swiss Light Source\"\n",
      "[1] \"Margit Schwikowski--Paul Scherrer Institute,  Labor für Radio-und Umweltchemie\"\n",
      "[1] \"Frieder Enzmann--Institute of Geosciences,  Johannes Gutenberg University\"\n",
      "[1] \"Anssi Vähätolo--Department of Environmental Sciences,  University of Helsinki\"\n",
      "[1] \"Add: 0000-0002-0856-5183\"\n"
     ]
    },
    {
     "name": "stderr",
     "output_type": "stream",
     "text": [
      "Warning message:\n",
      "“Unknown or uninitialised column: `orcid-identifier.path`.”\n",
      "Warning message:\n",
      "“Unknown or uninitialised column: `orcid-identifier.path`.”\n"
     ]
    },
    {
     "name": "stdout",
     "output_type": "stream",
     "text": [
      "[1] \"Lars Steffen Weinstock--III. Physikalisches Institut B, RWTH Aachen University\"\n",
      "[1] \"Simon Zierke--III. Physikalisches Institut B, RWTH Aachen University---0000-0002-0731-2491\"\n",
      "[1] \"Dmitry Eliseev--III. Physikalisches Institut B, RWTH Aachen University\"\n",
      "[1] \"Peter Linder--III. Physikalisches Institut B, RWTH Aachen University\"\n",
      "[1] \"Cornelius Vollbrecht--III. Physikalisches Institut B, RWTH Aachen University\"\n",
      "[1] \"Dirk Heinen--III. Physikalisches Institut B, RWTH Aachen University---0000-0002-4502-7288\"\n",
      "[1] \"Christopher Wiebusch--III. Physikalisches Institut B, RWTH Aachen University---0000-0002-6418-3008\"\n"
     ]
    },
    {
     "name": "stderr",
     "output_type": "stream",
     "text": [
      "Warning message:\n",
      "“Unknown or uninitialised column: `orcid-identifier.path`.”\n"
     ]
    },
    {
     "name": "stdout",
     "output_type": "stream",
     "text": [
      "[1] \"Dieter Issler\"\n",
      "[1] \"Alessia Errera\"\n",
      "[1] \"Stefano Priano\"\n",
      "[1] \"Hansueli Gubler\"\n",
      "[1] \"Bernardo Teufen\"\n",
      "[1] \"Bernhard Krummenacher\"\n",
      "[1] \"Add: 0000-0003-2151-2331\"\n"
     ]
    },
    {
     "name": "stderr",
     "output_type": "stream",
     "text": [
      "Warning message:\n",
      "“Unknown or uninitialised column: `orcid-identifier.path`.”\n",
      "Warning message:\n",
      "“Unknown or uninitialised column: `orcid-identifier.path`.”\n",
      "Warning message:\n",
      "“Unknown or uninitialised column: `orcid-identifier.path`.”\n",
      "Warning message:\n",
      "“Unknown or uninitialised column: `orcid-identifier.path`.”\n"
     ]
    },
    {
     "name": "stdout",
     "output_type": "stream",
     "text": [
      "[1] \"Yasushi Fukamachi--Institute of Low Temperature Science, Hokkaido University\"\n",
      "[1] \"Kay I. Ohshima--Institute of Low Temperature Science, Hokkaido University\"\n",
      "[1] \"Yuji Mukai--Graduate School of Environmental Science,  Hokkaido University\"\n",
      "[1] \"Genta Mizuta--Graduate School of Environmental Science,  Hokkaido University\"\n",
      "[1] \"Masaaki Wakatsuchi--Institute of Low Temperature Science, Hokkaido University\"\n",
      "[1] \"Add: 0000-0001-5798-9380\"\n",
      "[1] \"P. J. Langhorne--Department of Physics, University of Otago\"\n",
      "[1] \"V. A. Squire--Department of Mathematics and Statistics, University of Otago\"\n",
      "[1] \"C. Fox--Department of Mathematics, Auckland University\"\n",
      "[1] \"T. G. Haskell--Industrial Research Limited\"\n",
      "[1] \"Add: 0000-0002-9278-1777\"\n",
      "[1] \"Add: 0000-0003-0239-7657\"\n"
     ]
    },
    {
     "name": "stderr",
     "output_type": "stream",
     "text": [
      "Warning message:\n",
      "“Unknown or uninitialised column: `orcid-identifier.path`.”\n",
      "Warning message:\n",
      "“Unknown or uninitialised column: `orcid-identifier.path`.”\n",
      "Warning message:\n",
      "“Unknown or uninitialised column: `orcid-identifier.path`.”\n",
      "Warning message:\n",
      "“Unknown or uninitialised column: `orcid-identifier.path`.”\n"
     ]
    },
    {
     "name": "stdout",
     "output_type": "stream",
     "text": [
      "[1] \"Pierre Etchevers\"\n",
      "[1] \"Eric Martin\"\n",
      "[1] \"Ross Brown\"\n",
      "[1] \"Charles Fierz\"\n",
      "[1] \"Yves Lejeune\"\n",
      "[1] \"Eric Bazile\"\n",
      "[1] \"Aaron Boone\"\n",
      "[1] \"Yong-Jiu Dai\"\n",
      "[1] \"Richard Essery\"\n",
      "[1] \"Alberto Fernandez\"\n",
      "[1] \"Yeugeniy Gusev\"\n",
      "[1] \"Rachel Jordan\"\n",
      "[1] \"Victor Koren\"\n",
      "[1] \"Eva Kowalczyk\"\n",
      "[1] \"N. Olga Nasonova\"\n",
      "[1] \"R. David Pyles--Cooperative Institute for Research in the Environmental Sciences, University of Colorado\"\n",
      "[1] \"Adam Schlosser\"\n",
      "[1] \"Andrey B. Shmakin\"\n",
      "[1] \"Tatiana G. Smirnova\"\n",
      "[1] \"Ulrich Strasser--Department of Earth and Environmental Sciences, University of Munich\"\n",
      "[1] \"Diana Verseghy\"\n",
      "[1] \"Takeshi Yamazaki\"\n",
      "[1] \"Zong-Liang Yang\"\n",
      "[1] \"Add: 0000-0003-2386-5245\"\n",
      "[1] \"Add: 0000-0003-4776-2822\"\n",
      "[1] \"Add: 0000-0003-3886-2143\"\n"
     ]
    },
    {
     "name": "stderr",
     "output_type": "stream",
     "text": [
      "Warning message:\n",
      "“Unknown or uninitialised column: `orcid-identifier.path`.”\n",
      "Warning message:\n",
      "“Unknown or uninitialised column: `orcid-identifier.path`.”\n",
      "Warning message:\n",
      "“Unknown or uninitialised column: `orcid-identifier.path`.”\n",
      "Warning message:\n",
      "“Unknown or uninitialised column: `orcid-identifier.path`.”\n"
     ]
    },
    {
     "name": "stdout",
     "output_type": "stream",
     "text": [
      "[1] \"Jennifer K. Hutchings--Ocean and Atmospheric Science\"\n",
      "[1] \"Petra Heil--Australian Antarctic Division\"\n",
      "[1] \"Oliver Lecomte--Georges Lemâitre Centre for Earth and Climate Research (TECLIM),\"\n",
      "[1] \"Roger Stevens--Antarctic Climate and Ecosystems Cooperative Research Center\"\n",
      "[1] \"Adam Steer--Australian Antarctic Division\"\n",
      "[1] \"Jan L. Lieser--Antarctic Climate and Ecosystems Cooperative Research Center\"\n",
      "[1] \"Add: 0000-0003-0046-7236\"\n",
      "[1] \"Add: 0000-0001-6870-1311\"\n",
      "[1] \"Add: 0000-0003-2078-0342\"\n",
      "[1] \"Anja Diez\"\n",
      "[1] \"Olaf Eisen\"\n",
      "[1] \"Ilka Weikusat\"\n",
      "[1] \"Jan Eichler\"\n",
      "[1] \"Coen Hofstede\"\n",
      "[1] \"Pascal Bohleber--Institut für Umweltphysik\"\n",
      "[1] \"Thomas Bohlen--Geophysikalisches Institut\"\n",
      "[1] \"Ulrich Polom\"\n",
      "[1] \"Add: 0000-0001-6443-6135\"\n",
      "[1] \"Add: 0000-0002-3023-6036\"\n"
     ]
    },
    {
     "name": "stderr",
     "output_type": "stream",
     "text": [
      "Warning message:\n",
      "“Unknown or uninitialised column: `orcid-identifier.path`.”\n",
      "Warning message:\n",
      "“Unknown or uninitialised column: `orcid-identifier.path`.”\n",
      "Warning message:\n",
      "“Unknown or uninitialised column: `orcid-identifier.path`.”\n",
      "Warning message:\n",
      "“Unknown or uninitialised column: `orcid-identifier.path`.”\n",
      "Warning message:\n",
      "“Unknown or uninitialised column: `orcid-identifier.path`.”\n",
      "Warning message:\n",
      "“Unknown or uninitialised column: `orcid-identifier.path`.”\n",
      "Warning message:\n",
      "“Unknown or uninitialised column: `orcid-identifier.path`.”\n",
      "Warning message:\n",
      "“Unknown or uninitialised column: `orcid-identifier.path`.”\n",
      "Warning message:\n",
      "“Unknown or uninitialised column: `orcid-identifier.path`.”\n",
      "Warning message:\n",
      "“Unknown or uninitialised column: `orcid-identifier.path`.”\n"
     ]
    },
    {
     "name": "stdout",
     "output_type": "stream",
     "text": [
      "[1] \"Jürg Schweizer--Swiss Federal Institute for Snow and Avalanche Research\"\n",
      "[1] \"Christian Camponovo--Swiss Federal Institute for Snow and Avalanche Research\"\n",
      "[1] \"Add: 0000-0001-5076-2968\"\n",
      "[1] \"Anders Svensson\"\n",
      "[1] \"Karen G. Schmidt\"\n",
      "[1] \"Dorthe Dahl-Jensen\"\n",
      "[1] \"Sigfús J. Johnsen\"\n",
      "[1] \"Yun Wang\"\n",
      "[1] \"Sepp Kipfstuhl\"\n",
      "[1] \" Thorsteinn Thorsteinsson\"\n",
      "[1] \"Add: 0000-0002-1474-1948\"\n",
      "[1] \"Add: 0000-0002-4364-6085\"\n"
     ]
    },
    {
     "name": "stderr",
     "output_type": "stream",
     "text": [
      "Warning message:\n",
      "“Unknown or uninitialised column: `orcid-identifier.path`.”\n",
      "Warning message:\n",
      "“Unknown or uninitialised column: `orcid-identifier.path`.”\n",
      "Warning message:\n",
      "“Unknown or uninitialised column: `orcid-identifier.path`.”\n"
     ]
    },
    {
     "name": "stdout",
     "output_type": "stream",
     "text": [
      "[1] \"Madison Smith--University of Washington---0000-0003-2259-042X\"\n",
      "[1] \"Jim Thomson--University of Washington\"\n",
      "[1] \"Robert Thomas\"\n",
      "[1] \"Eric Rignot--Jet Propulsion Laboratory, California Institute of Technology\"\n",
      "[1] \"Pannirselvam Kanagaratnam--Radar Systems and Remote Sensing Laboratory, University of Kansas\"\n",
      "[1] \"William Krabill\"\n",
      "[1] \"Gino Casassa\"\n",
      "[1] \"Add: 0000-0002-3366-0481\"\n"
     ]
    },
    {
     "name": "stderr",
     "output_type": "stream",
     "text": [
      "Warning message:\n",
      "“Unknown or uninitialised column: `orcid-identifier.path`.”\n",
      "Warning message:\n",
      "“Unknown or uninitialised column: `orcid-identifier.path`.”\n",
      "Warning message:\n",
      "“Unknown or uninitialised column: `orcid-identifier.path`.”\n",
      "Warning message:\n",
      "“Unknown or uninitialised column: `orcid-identifier.path`.”\n"
     ]
    },
    {
     "name": "stdout",
     "output_type": "stream",
     "text": [
      "[1] \"Andrey N. Salamatin\"\n",
      "[1] \"Vladimir Ya. Lipenkov\"\n",
      "[1] \"Add: 0000-0002-5988-6024\"\n",
      "[1] \"Add: 0000-0003-4221-5440\"\n"
     ]
    },
    {
     "name": "stderr",
     "output_type": "stream",
     "text": [
      "Warning message:\n",
      "“Unknown or uninitialised column: `orcid-identifier.path`.”\n",
      "Warning message:\n",
      "“Unknown or uninitialised column: `orcid-identifier.path`.”\n",
      "Warning message:\n",
      "“Unknown or uninitialised column: `orcid-identifier.path`.”\n",
      "Warning message:\n",
      "“Unknown or uninitialised column: `orcid-identifier.path`.”\n"
     ]
    },
    {
     "name": "stdout",
     "output_type": "stream",
     "text": [
      "[1] \"Jean-Louis Tison--Université Libre de Bruxelles---0000-0002-9758-3454\"\n",
      "[1] \"Ted Maksym--Woods Hole Oceanographic Institution\"\n",
      "[1] \"Alexander D. Fraser--Institute for Marine and Antarctic Studies, University of Tasmania\"\n",
      "[1] \"Matthew Corkill--Institute for Marine and Antarctic Studies, University of Tasmania---0000-0002-5847-3738\"\n",
      "[1] \"Noriaki Kimura--Atmosphere and Ocean Research Institute, University of Tokyo\"\n",
      "[1] \"Yuichi Nosaka--School of Biological Sciences, Tokai University\"\n",
      "[1] \"Daiki Nomura--Faculty of Fisheries Sciences, Hokkaido University\"\n",
      "[1] \"Martin Vancoppenolle--Institut Pierre-Simon Laplace\"\n",
      "[1] \"Steve Ackley--University of Texas at San Antonio\"\n",
      "[1] \"Sharon Stammerjohn--Institute of Arctic and Alpine Research, University of Colorado\"\n",
      "[1] \"Sarah Wauthy--Université Libre de Bruxelles\"\n",
      "[1] \"Fanny Van der Linden--Université Libre de Bruxelles---0000-0002-2869-8477\"\n",
      "[1] \"Gauthier Carnat--Université Libre de Bruxelles\"\n",
      "[1] \"Célia Sapart--Université Libre de Bruxelles\"\n",
      "[1] \"Jeroen de Jong--Université Libre de Bruxelles\"\n",
      "[1] \"François Fripiat--Université Libre de Bruxelles\"\n",
      "[1] \"Bruno Delille--Freshwater and Oceanic sCience Unit reSearch (FOCUS), Université de Liège\"\n",
      "[1] \"Add: 0000-0003-4573-115X\"\n",
      "[1] \"Add: 0000-0002-3034-5929\"\n",
      "[1] \"Add: 0000-0003-0502-8101\"\n"
     ]
    },
    {
     "name": "stderr",
     "output_type": "stream",
     "text": [
      "Warning message:\n",
      "“Unknown or uninitialised column: `orcid-identifier.path`.”\n",
      "Warning message:\n",
      "“Unknown or uninitialised column: `orcid-identifier.path`.”\n"
     ]
    },
    {
     "name": "stdout",
     "output_type": "stream",
     "text": [
      "[1] \"M. Canals\"\n",
      "[1] \"R. Urgeles\"\n",
      "[1] \"F. Estrada\"\n",
      "[1] \" Gebrap 96/97 Team\"\n",
      "[1] \"Add: 0000-0001-5536-0183\"\n",
      "[1] \"Error in: 2101 owi:0000-0002-6512-0770\"\n",
      "[1] \"Stefan Kern--Center for Marine and Atmospheric Science, Institute of Oceanography,  University of Hamburg\"\n",
      "[1] \"Burcu Ozsoy-Cicek--Laboratory for Remote Sensing and Geoinformatics, Department of Geological Sciences,  University of San Antonio\"\n",
      "[1] \"Sascha Willmes--Department of Environmental Meteorology,  University of Trier\"\n",
      "[1] \"Marcel Nicolaus--Alfred Wegener Institute for Polar and Marine Research\"\n",
      "[1] \"Christian Haas--Department of Earth and Atmospheric Sciences,  University of Alberta\"\n",
      "[1] \"Stephen Ackley--Laboratory for Remote Sensing and Geoinformatics, Department of Geological Sciences,  University of San Antonio\"\n",
      "[1] \"Error in: 2102 owi:0000-0003-4320-1796\"\n",
      "[1] \"Add: 0000-0001-7281-3746\"\n",
      "[1] \"Add: 0000-0002-7674-3500\"\n"
     ]
    },
    {
     "name": "stderr",
     "output_type": "stream",
     "text": [
      "Warning message:\n",
      "“Unknown or uninitialised column: `orcid-identifier.path`.”\n",
      "Warning message:\n",
      "“Unknown or uninitialised column: `orcid-identifier.path`.”\n",
      "Warning message:\n",
      "“Unknown or uninitialised column: `orcid-identifier.path`.”\n",
      "Warning message:\n",
      "“Unknown or uninitialised column: `orcid-identifier.path`.”\n"
     ]
    },
    {
     "name": "stdout",
     "output_type": "stream",
     "text": [
      "[1] \"Matthias Huss\"\n",
      "[1] \"Andreas Bauder\"\n",
      "[1] \"Martin Funk\"\n",
      "[1] \"Add: 0000-0002-2377-6923\"\n"
     ]
    },
    {
     "name": "stderr",
     "output_type": "stream",
     "text": [
      "Warning message:\n",
      "“Unknown or uninitialised column: `orcid-identifier.path`.”\n"
     ]
    },
    {
     "name": "stdout",
     "output_type": "stream",
     "text": [
      "[1] \"Jens-Ove Näslund--Department of Physical Geography and Quaternary Geology,  Stockholm University\"\n",
      "[1] \"Peter Jansson--Department of Physical Geography and Quaternary Geology,  Stockholm University\"\n",
      "[1] \"James L. Fastook--Computer Sciences Department, University of Maine\"\n",
      "[1] \"Jesse Johnson--Department of Computer Science, University of Montana\"\n",
      "[1] \"Leif Andersson\"\n",
      "[1] \"Add: 0000-0002-7387-6500\"\n",
      "[1] \"Add: 0000-0002-8832-8806\"\n",
      "[1] \"Add: 0000-0003-3900-671X\"\n"
     ]
    },
    {
     "name": "stderr",
     "output_type": "stream",
     "text": [
      "Warning message:\n",
      "“Unknown or uninitialised column: `orcid-identifier.path`.”\n",
      "Warning message:\n",
      "“Unknown or uninitialised column: `orcid-identifier.path`.”\n"
     ]
    },
    {
     "name": "stdout",
     "output_type": "stream",
     "text": [
      "[1] \"James McDonald\"\n",
      "[1] \"Ian M. Whillans\"\n",
      "[1] \"Add: 0000-0001-5454-372X\"\n",
      "[1] \"Bin Cheng\"\n",
      "[1] \"Timo Vihma\"\n",
      "[1] \"Roberta Pirazzini\"\n",
      "[1] \"Mats A. Granskog\"\n",
      "[1] \"Add: 0000-0002-5035-4347\"\n",
      "[1] \"Dale P. Winebrenner\"\n",
      "[1] \"Benjamin E. Smith\"\n",
      "[1] \"Ginny A. Catania\"\n",
      "[1] \"Howard B. Conway\"\n",
      "[1] \"Charles F. Raymond\"\n",
      "[1] \"Add: 0000-0002-7561-5902\"\n",
      "[1] \"Johanna Nemec--Vrije Universiteit Brussel\"\n",
      "[1] \"Philippe Huybrechts--Vrije Universiteit Brussel\"\n",
      "[1] \"Oleg Rybak--Vrije Universiteit Brussel\"\n",
      "[1] \"Johannes Oerlemans--Instituut voor Marien en Atmosferisch Onderzoek\"\n",
      "[1] \"Add: 0000-0002-7234-0544\"\n",
      "[1] \"Add: 0000-0003-1406-0525\"\n",
      "[1] \"T.J. Fudge--University of Washington\"\n",
      "[1] \"H. Conway--University of Washington\"\n",
      "[1] \"G. Catania--Institute for Geophysics\"\n",
      "[1] \"D.D. Blankenship--Institute for Geophysics\"\n",
      "[1] \"K. Christianson--St Olaf College\"\n",
      "[1] \"I. Joughin--University of Washington\"\n",
      "[1] \"B. Smith--University of Washington\"\n",
      "[1] \"S.D. Kempf--Institute for Geophysics\"\n",
      "[1] \"D.A. Young--Institute for Geophysics\"\n",
      "[1] \"S. Anandakrishnan--The Pennsylvania State University\"\n",
      "[1] \"Add: 0000-0002-6818-7479\"\n",
      "[1] \"Add: 0000-0002-7561-5902\"\n"
     ]
    },
    {
     "name": "stderr",
     "output_type": "stream",
     "text": [
      "Warning message:\n",
      "“Unknown or uninitialised column: `orcid-identifier.path`.”\n",
      "Warning message:\n",
      "“Unknown or uninitialised column: `orcid-identifier.path`.”\n",
      "Warning message:\n",
      "“Unknown or uninitialised column: `orcid-identifier.path`.”\n",
      "Warning message:\n",
      "“Unknown or uninitialised column: `orcid-identifier.path`.”\n",
      "Warning message:\n",
      "“Unknown or uninitialised column: `orcid-identifier.path`.”\n",
      "Warning message:\n",
      "“Unknown or uninitialised column: `orcid-identifier.path`.”\n",
      "Warning message:\n",
      "“Unknown or uninitialised column: `orcid-identifier.path`.”\n",
      "Warning message:\n",
      "“Unknown or uninitialised column: `orcid-identifier.path`.”\n",
      "Warning message:\n",
      "“Unknown or uninitialised column: `orcid-identifier.path`.”\n",
      "Warning message:\n",
      "“Unknown or uninitialised column: `orcid-identifier.path`.”\n"
     ]
    },
    {
     "name": "stdout",
     "output_type": "stream",
     "text": [
      "[1] \"A. M. MacDonald--British Geological Survey\"\n",
      "[1] \"A. R. Black--University of Dundee\"\n",
      "[1] \"B. É. Ó Dochartaigh--British Geological Survey\"\n",
      "[1] \"J. Everest--British Geological Survey\"\n",
      "[1] \"W. G. Darling--British Geological Survey, MacLean Building, Crowmarsh Gifford\"\n",
      "[1] \"V. Flett--University of Dundee\"\n",
      "[1] \"D. W. Peach--British Geological Survey, Environmental Science Centre\"\n",
      "[1] \"Add: 0000-0001-9292-1146\"\n",
      "[1] \"Martin J. Siegert--Imperial College London\"\n",
      "[1] \"Neil Ross--School of Geography, Politics and Sociology, Newcastle University\"\n",
      "[1] \"Jilu Li--University of Kansas\"\n",
      "[1] \"Dustin M. Schroeder--Stanford University\"\n",
      "[1] \"David Rippin--University of York\"\n",
      "[1] \"David Ashmore--Aberystwyth University\"\n",
      "[1] \"Robert Bingham--University of Edinburgh\"\n",
      "[1] \"Prasad Gogineni--University of Kansas\"\n",
      "[1] \"Add: 0000-0003-4829-7854\"\n",
      "[1] \"Add: 0000-0002-0630-2021\"\n",
      "[1] \"Add: 0000-0003-1916-3929\"\n"
     ]
    },
    {
     "name": "stderr",
     "output_type": "stream",
     "text": [
      "Warning message:\n",
      "“Unknown or uninitialised column: `orcid-identifier.path`.”\n",
      "Warning message:\n",
      "“Unknown or uninitialised column: `orcid-identifier.path`.”\n",
      "Warning message:\n",
      "“Unknown or uninitialised column: `orcid-identifier.path`.”\n",
      "Warning message:\n",
      "“Unknown or uninitialised column: `orcid-identifier.path`.”\n",
      "Warning message:\n",
      "“Unknown or uninitialised column: `orcid-identifier.path`.”\n"
     ]
    },
    {
     "name": "stdout",
     "output_type": "stream",
     "text": [
      "[1] \"Christopher Shuman--JCET, UMBC, NASA Goddard Space Flight Center\"\n",
      "[1] \"Ted Scambos--NSIDC, CIRES, University of Colorado at Boulder\"\n",
      "[1] \"Etienne Berthier--LEGOS, Université de Toulouse, CNES, CNRS, IRD, UPS\"\n",
      "[1] \"Add: 0000-0001-5978-9155\"\n"
     ]
    },
    {
     "name": "stderr",
     "output_type": "stream",
     "text": [
      "Warning message:\n",
      "“Unknown or uninitialised column: `orcid-identifier.path`.”\n",
      "Warning message:\n",
      "“Unknown or uninitialised column: `orcid-identifier.path`.”\n",
      "Warning message:\n",
      "“Unknown or uninitialised column: `orcid-identifier.path`.”\n",
      "Warning message:\n",
      "“Unknown or uninitialised column: `orcid-identifier.path`.”\n",
      "Warning message:\n",
      "“Unknown or uninitialised column: `orcid-identifier.path`.”\n",
      "Warning message:\n",
      "“Unknown or uninitialised column: `orcid-identifier.path`.”\n"
     ]
    },
    {
     "name": "stdout",
     "output_type": "stream",
     "text": [
      "[1] \"Carl Benson--Geophysical Institute, University of Alaska Fairbanks\"\n",
      "[1] \"Roman Motyka--Geophysical Institute, University of Alaska Fairbanks\"\n",
      "[1] \"Stephen McNutt--Geophysical Institute, University of Alaska Fairbanks\"\n",
      "[1] \"Martin Lüthi--Geophysical Institute, University of Alaska Fairbanks\"\n",
      "[1] \"Martin Truffer--Geophysical Institute, University of Alaska Fairbanks\"\n",
      "[1] \"Add: 0000-0003-4419-8496\"\n",
      "[1] \"Craig Stevens--National Institute for Water and Atmospheric Research (NIWA)---0000-0002-4730-6985\"\n",
      "[1] \"Won Sang Lee--Korea Polar Research Institute\"\n",
      "[1] \"Giannetta Fusco--Parthenope University of Naples\"\n",
      "[1] \"Sukyoung Yun--Korea Polar Research Institute\"\n",
      "[1] \"Brett Grant--National Institute for Water and Atmospheric Research (NIWA)\"\n",
      "[1] \"Natalie Robinson--National Institute for Water and Atmospheric Research (NIWA)\"\n",
      "[1] \"Chung Yeon Hwang--Korea Polar Research Institute\"\n",
      "[1] \"Add: 0000-0003-1769-2456\"\n",
      "[1] \"Add: 0000-0002-1074-7672\"\n",
      "[1] \"Add: 0000-0001-9861-0197\"\n"
     ]
    },
    {
     "name": "stderr",
     "output_type": "stream",
     "text": [
      "Warning message:\n",
      "“Unknown or uninitialised column: `orcid-identifier.path`.”\n"
     ]
    },
    {
     "name": "stdout",
     "output_type": "stream",
     "text": [
      "[1] \"Joseph S. Walder\"\n",
      "[1] \"Richard G. LaHusen\"\n",
      "[1] \"James W. Vallance\"\n",
      "[1] \"Steve P. Schilling\"\n",
      "[1] \"Add: 0000-0003-3523-2998\"\n"
     ]
    },
    {
     "name": "stderr",
     "output_type": "stream",
     "text": [
      "Warning message:\n",
      "“Unknown or uninitialised column: `orcid-identifier.path`.”\n"
     ]
    },
    {
     "name": "stdout",
     "output_type": "stream",
     "text": [
      "[1] \"Florian Herla--University of Innsbruck\"\n",
      "[1] \"Gerard H. Roe--University of Washington\"\n",
      "[1] \"Ben Marzeion--University of Bremen\"\n",
      "[1] \"Add: 0000-0002-6185-3539\"\n"
     ]
    },
    {
     "name": "stderr",
     "output_type": "stream",
     "text": [
      "Warning message:\n",
      "“Unknown or uninitialised column: `orcid-identifier.path`.”\n",
      "Warning message:\n",
      "“Unknown or uninitialised column: `orcid-identifier.path`.”\n"
     ]
    },
    {
     "name": "stdout",
     "output_type": "stream",
     "text": [
      "[1] \"Evgeniy Ermolin--Instituto Antártico Argentino\"\n",
      "[1] \"Hernán De Angelis--Instituto Antártico Argentino\"\n",
      "[1] \"Pedro Skvarca--Instituto Antártico Argentino\"\n",
      "[1] \"Add: 0000-0002-8584-272X\"\n"
     ]
    },
    {
     "name": "stderr",
     "output_type": "stream",
     "text": [
      "Warning message:\n",
      "“Unknown or uninitialised column: `orcid-identifier.path`.”\n"
     ]
    },
    {
     "name": "stdout",
     "output_type": "stream",
     "text": [
      "[1] \"J. Oerlemans--Institute for Marine and Atmospheric Research Utrecht, PO Box 80.005, Utrecht University\"\n",
      "[1] \"R.P. Bassford--Bristol Glaciology Centre, School of Geographical Sciences, University of Bristol\"\n",
      "[1] \"W. Chapman--Department of Atmospheric Sciences, University of Illinois\"\n",
      "[1] \"J.A. Dowdeswell--Scott Polar Research Institute, University of Cambridge\"\n",
      "[1] \"A.F. Glazovsky--Institute of Geography, Russian Academy of Sciences\"\n",
      "[1] \"J.-O. Hagen--Department of Geosciences, University of Oslo\"\n",
      "[1] \"K. Melvold--Department of Geosciences, University of Oslo\"\n",
      "[1] \"M. De Ruyter de Wildt--Department of Geosciences, University of Oslo\"\n",
      "[1] \"R.S.W. van de Wal--Department of Geosciences, University of Oslo\"\n",
      "[1] \"Add: 0000-0001-6275-7517\"\n",
      "[1] \"Add: 0000-0003-1369-9482\"\n",
      "[1] \"Derek Fabel--Earth and Atmospheric Sciences, Purdue University\"\n",
      "[1] \"Jon Harbor--Earth and Atmospheric Sciences, Purdue University\"\n",
      "[1] \"Add: 0000-0003-2859-3293\"\n",
      "[1] \"Susanne Ingvander--Department of Physical Geography and Quaternary Geology, Stockholm University\"\n",
      "[1] \"Helen E. Dahlke--Department of Physical Geography and Quaternary Geology, Stockholm University\"\n",
      "[1] \"Peter Jansson--Department of Physical Geography and Quaternary Geology, Stockholm University\"\n",
      "[1] \"Sylviane Surdyk--National Institute of Polar Research, Research Organization of Information and Systems\"\n",
      "[1] \"Add: 0000-0001-8757-6982\"\n",
      "[1] \"Add: 0000-0002-8832-8806\"\n",
      "[1] \"Thomas Zwinger\"\n",
      "[1] \"Ralf Greve--Institute of Low Temperature Science, Hokkaido University\"\n",
      "[1] \"Olivier Gagliardini\"\n",
      "[1] \"Takayuki Shiraiwa--Research Institute for Humanity and Nature\"\n",
      "[1] \"Mikko Lyly\"\n",
      "[1] \"Add: 0000-0002-1341-4777\"\n",
      "[1] \"Add: 0000-0003-3360-4401\"\n",
      "[1] \"Wilfried Haeberli--University of Zürich\"\n",
      "[1] \"Martin Hoelzle--University of Zürich\"\n",
      "[1] \"Frank Paul--University of Zürich\"\n",
      "[1] \"Michael Zemp--University of Zürich\"\n",
      "[1] \"Add: 0000-0002-3591-4377\"\n",
      "[1] \"M. Shahgedanova--Department of Geography and Walker Institute for Climate System Research\"\n",
      "[1] \"V. Popovnin--Department of Cryolithology and Glaciology\"\n",
      "[1] \"A. Aleynikov--Department of Cryolithology and Glaciology\"\n",
      "[1] \"C.R. Stokes--Department of Geography\"\n",
      "[1] \"Add: 0000-0002-2320-3885\"\n",
      "[1] \"Add: 0000-0003-3355-1573\"\n",
      "[1] \"Timothy L. Shy--Department of Atmospheric Sciences, University of Illinois\"\n",
      "[1] \"John E. Walsh--Department of Atmospheric Sciences, University of Illinois\"\n",
      "[1] \"William L. Chapman--Department of Atmospheric Sciences, University of Illinois\"\n",
      "[1] \"Amanda H. Lynch--Program in Atmospheric and Oceanic Sciences, University of Colorado\"\n",
      "[1] \"David A. Bailey--Program in Atmospheric and Oceanic Sciences, University of Colorado\"\n",
      "[1] \"Add: 0000-0003-2990-1016\"\n",
      "[1] \"Add: 0000-0001-9541-5927\"\n",
      "[1] \"C. Mihalcea--University of Milan\"\n",
      "[1] \"C. Mayer\"\n",
      "[1] \"G. Diolaiuti--University of Milan\"\n",
      "[1] \"C. D’Agata--University of Milan\"\n",
      "[1] \"C. Smiraglia--University of Milan\"\n",
      "[1] \"A. Lambrecht--Institute for Meteorology and Geophysics\"\n",
      "[1] \"E. Vuillermoz--Water Research Institute/National Research Council\"\n",
      "[1] \"G. Tartari--Water Research Institute/National Research Council\"\n",
      "[1] \"Add: 0000-0002-3337-7301\"\n",
      "[1] \"Add: 0000-0002-3883-9309\"\n"
     ]
    },
    {
     "name": "stderr",
     "output_type": "stream",
     "text": [
      "Warning message:\n",
      "“Unknown or uninitialised column: `orcid-identifier.path`.”\n",
      "Warning message:\n",
      "“Unknown or uninitialised column: `orcid-identifier.path`.”\n",
      "Warning message:\n",
      "“Unknown or uninitialised column: `orcid-identifier.path`.”\n",
      "Warning message:\n",
      "“Unknown or uninitialised column: `orcid-identifier.path`.”\n",
      "Warning message:\n",
      "“Unknown or uninitialised column: `orcid-identifier.path`.”\n",
      "Warning message:\n",
      "“Unknown or uninitialised column: `orcid-identifier.path`.”\n",
      "Warning message:\n",
      "“Unknown or uninitialised column: `orcid-identifier.path`.”\n",
      "Warning message:\n",
      "“Unknown or uninitialised column: `orcid-identifier.path`.”\n"
     ]
    },
    {
     "name": "stdout",
     "output_type": "stream",
     "text": [
      "[1] \"Keguang Wang--Norwegian Meteorological Institute\"\n",
      "[1] \"Jens Debernard--Norwegian Meteorological Institute\"\n",
      "[1] \"Ann Kristin Sperrevik--Norwegian Meteorological Institute\"\n",
      "[1] \"Pål Erik Isachsen--Norwegian Meteorological Institute\"\n",
      "[1] \"Thomas Lavergne--Norwegian Meteorological Institute\"\n",
      "[1] \"Add: 0000-0002-9498-4551\"\n",
      "[1] \"John E. Walsh--Department of Atmospheric Sciences, University of Illinois, Urbana\"\n",
      "[1] \"William D. Hibler--U.S. Army Cold Regions Research and Engineering Laboratory\"\n",
      "[1] \"Becky Ross--Department of Atmospheric Sciences, University of Illinois, Urbana\"\n",
      "[1] \"Add: 0000-0001-9541-5927\"\n"
     ]
    },
    {
     "name": "stderr",
     "output_type": "stream",
     "text": [
      "Warning message:\n",
      "“Unknown or uninitialised column: `orcid-identifier.path`.”\n",
      "Warning message:\n",
      "“Unknown or uninitialised column: `orcid-identifier.path`.”\n"
     ]
    },
    {
     "name": "stdout",
     "output_type": "stream",
     "text": [
      "[1] \"Mingrui Dai\"\n",
      "[1] \"Todd E. Arbetter\"\n",
      "[1] \"Walter N. Meier\"\n",
      "[1] \"Add: 0000-0003-2857-0550\"\n",
      "[1] \"Martyn Tranter--Bristol Glaciology Centre, School of Geographical Sciences, University of Bristol,  University Road\"\n",
      "[1] \"Andrew G. Fountain--Departments of Geography and Geology, Portland State University\"\n",
      "[1] \"W. Berry Lyons--Byrd Polar Research Center, The Ohio State University\"\n",
      "[1] \"Thomas H. Nylen--Departments of Geography and Geology, Portland State University\"\n",
      "[1] \"Kathy A. Welch--Byrd Polar Research Center, The Ohio State University\"\n",
      "[1] \"Add: 0000-0003-1028-3086\"\n"
     ]
    },
    {
     "name": "stderr",
     "output_type": "stream",
     "text": [
      "Warning message:\n",
      "“Unknown or uninitialised column: `orcid-identifier.path`.”\n",
      "Warning message:\n",
      "“Unknown or uninitialised column: `orcid-identifier.path`.”\n",
      "Warning message:\n",
      "“Unknown or uninitialised column: `orcid-identifier.path`.”\n",
      "Warning message:\n",
      "“Unknown or uninitialised column: `orcid-identifier.path`.”\n",
      "Warning message:\n",
      "“Unknown or uninitialised column: `orcid-identifier.path`.”\n",
      "Warning message:\n",
      "“Unknown or uninitialised column: `orcid-identifier.path`.”\n",
      "Warning message:\n",
      "“Unknown or uninitialised column: `orcid-identifier.path`.”\n",
      "Warning message:\n",
      "“Unknown or uninitialised column: `orcid-identifier.path`.”\n",
      "Warning message:\n",
      "“Unknown or uninitialised column: `orcid-identifier.path`.”\n"
     ]
    },
    {
     "name": "stdout",
     "output_type": "stream",
     "text": [
      "[1] \"Vladimir N. Golubev--Laboratory of Snow Avalanches and Mudflows, Faculty of Geography, Moscow State University\"\n",
      "[1] \"Sergey A. Sokratov--Laboratory of Snow Avalanches and Mudflows, Faculty of Geography, Moscow State University\"\n",
      "[1] \"Add: 0000-0001-9265-2935\"\n"
     ]
    },
    {
     "name": "stderr",
     "output_type": "stream",
     "text": [
      "Warning message:\n",
      "“Unknown or uninitialised column: `orcid-identifier.path`.”\n"
     ]
    },
    {
     "name": "stdout",
     "output_type": "stream",
     "text": [
      "[1] \"S.R. Harland--School of Earth and Environment, University of Leeds\"\n",
      "[1] \"J.-M. Kendall--Department of Earth Sciences, University of Bristol\"\n",
      "[1] \"G.W. Stuart--School of Earth and Environment, University of Leeds\"\n",
      "[1] \"G.E. Lloyd--School of Earth and Environment, University of Leeds\"\n",
      "[1] \"A.F. Baird--Department of Earth Sciences, University of Bristol\"\n",
      "[1] \"A.M. Smith--British Antarctic Survey, Natural Environment Research Council\"\n",
      "[1] \"H.D. Pritchard--British Antarctic Survey, Natural Environment Research Council\"\n",
      "[1] \"A.M. Brisbourne--SEIS-UK, Geology Department, University of Leicester\"\n",
      "[1] \"Add: 0000-0002-8740-9516\"\n",
      "[1] \"Add: 0000-0002-7859-2486\"\n",
      "[1] \"Add: 0000-0002-1486-3945\"\n",
      "[1] \"Priska A. Hunkeler--Alfred-Wegener-Institut Helmholtz-Zentrum für Polar- und Meeresforschung\"\n",
      "[1] \"Stefan Hendricks--Alfred-Wegener-Institut Helmholtz-Zentrum für Polar- und Meeresforschung\"\n",
      "[1] \"Mario Hoppmann--Alfred-Wegener-Institut Helmholtz-Zentrum für Polar- und Meeresforschung\"\n",
      "[1] \"Stephan Paul--University of Trier\"\n",
      "[1] \"Rüdiger Gerdes--Alfred-Wegener-Institut Helmholtz-Zentrum für Polar- und Meeresforschung\"\n",
      "[1] \"Add: 0000-0002-5136-714X\"\n",
      "[1] \"Add: 0000-0002-1412-3146\"\n",
      "[1] \"Tatsuru Sato--Hokkaido University\"\n",
      "[1] \"Ralf Greve--Institute of Low Temperature Science\"\n",
      "[1] \"Add: 0000-0002-1341-4777\"\n",
      "[1] \"Joel Brown--University of Montana\"\n",
      "[1] \"Joel Harper--University of Montana\"\n",
      "[1] \"W. Tad Pfeffer--Institute of Arctic and Alpine Research and Department of Geological Sciences\"\n",
      "[1] \"Neil Humphrey--University of Wyoming\"\n",
      "[1] \"John Bradford--Boise State University\"\n",
      "[1] \"Add: 0000-0001-5823-3083\"\n",
      "[1] \"Add: 0000-0002-5175-2080\"\n"
     ]
    },
    {
     "name": "stderr",
     "output_type": "stream",
     "text": [
      "Warning message:\n",
      "“Unknown or uninitialised column: `orcid-identifier.path`.”\n",
      "Warning message:\n",
      "“Unknown or uninitialised column: `orcid-identifier.path`.”\n",
      "Warning message:\n",
      "“Unknown or uninitialised column: `orcid-identifier.path`.”\n"
     ]
    },
    {
     "name": "stdout",
     "output_type": "stream",
     "text": [
      "[1] \"N. Azuma--Nagaoka University of Technology\"\n",
      "[1] \"Y. Wang--Nagaoka University of Technology\"\n",
      "[1] \"K. Mori--Nagaoka University of Technology\"\n",
      "[1] \"H. Narita--Institute of Low Temperature Science, Hokkaido University\"\n",
      "[1] \"T. Hondoh--Institute of Low Temperature Science, Hokkaido University\"\n",
      "[1] \"H. Shoji--Kitami Institute of Technology\"\n",
      "[1] \"O. Watanabe--National Institute of Polar Research\"\n",
      "[1] \"Add: 0000-0003-4129-022X\"\n"
     ]
    },
    {
     "name": "stderr",
     "output_type": "stream",
     "text": [
      "Warning message:\n",
      "“Unknown or uninitialised column: `orcid-identifier.path`.”\n",
      "Warning message:\n",
      "“Unknown or uninitialised column: `orcid-identifier.path`.”\n",
      "Warning message:\n",
      "“Unknown or uninitialised column: `orcid-identifier.path`.”\n",
      "Warning message:\n",
      "“Unknown or uninitialised column: `orcid-identifier.path`.”\n",
      "Warning message:\n",
      "“Unknown or uninitialised column: `orcid-identifier.path`.”\n"
     ]
    },
    {
     "name": "stdout",
     "output_type": "stream",
     "text": [
      "[1] \"Ricard Molina\"\n",
      "[1] \"Elena Muntán\"\n",
      "[1] \"Laia Andreu--Departament Ecologia, Universitat de Barcelona\"\n",
      "[1] \"Glòria Furdada\"\n",
      "[1] \"Pere Oller\"\n",
      "[1] \"Emilia Gutiérrez--Departament Ecologia, Universitat de Barcelona\"\n",
      "[1] \"Pere Martínez\"\n",
      "[1] \"Joan Manue Vilaplana\"\n",
      "[1] \"Add: 0000-0002-0687-6877\"\n",
      "[1] \"Add: 0000-0003-4185-681X\"\n"
     ]
    },
    {
     "name": "stderr",
     "output_type": "stream",
     "text": [
      "Warning message:\n",
      "“Unknown or uninitialised column: `orcid-identifier.path`.”\n",
      "Warning message:\n",
      "“Unknown or uninitialised column: `orcid-identifier.path`.”\n",
      "Warning message:\n",
      "“Unknown or uninitialised column: `orcid-identifier.path`.”\n",
      "Warning message:\n",
      "“Unknown or uninitialised column: `orcid-identifier.path`.”\n",
      "Warning message:\n",
      "“Unknown or uninitialised column: `orcid-identifier.path`.”\n",
      "Warning message:\n",
      "“Unknown or uninitialised column: `orcid-identifier.path`.”\n",
      "Warning message:\n",
      "“Unknown or uninitialised column: `orcid-identifier.path`.”\n",
      "Warning message:\n",
      "“Unknown or uninitialised column: `orcid-identifier.path`.”\n",
      "Warning message:\n",
      "“Unknown or uninitialised column: `orcid-identifier.path`.”\n",
      "Warning message:\n",
      "“Unknown or uninitialised column: `orcid-identifier.path`.”\n",
      "Warning message:\n",
      "“Unknown or uninitialised column: `orcid-identifier.path`.”\n",
      "Warning message:\n",
      "“Unknown or uninitialised column: `orcid-identifier.path`.”\n",
      "Warning message:\n",
      "“Unknown or uninitialised column: `orcid-identifier.path`.”\n",
      "Warning message:\n",
      "“Unknown or uninitialised column: `orcid-identifier.path`.”\n",
      "Warning message:\n",
      "“Unknown or uninitialised column: `orcid-identifier.path`.”\n"
     ]
    },
    {
     "name": "stdout",
     "output_type": "stream",
     "text": [
      "[1] \"Masahiro Minowa--Instituto de Ciencias Físicas y Matemáticas, Universidad Austral de Chile---0000-0003-2667-9798\"\n",
      "[1] \"Evgeny A. Podolskiy--Hokkaido University---0000-0002-3050-4897\"\n",
      "[1] \"Shin Sugiyama--Institute of Low Temperature Science, Hokkaido University---0000-0001-5323-9558\"\n"
     ]
    },
    {
     "name": "stderr",
     "output_type": "stream",
     "text": [
      "Warning message:\n",
      "“Unknown or uninitialised column: `orcid-identifier.path`.”\n"
     ]
    },
    {
     "name": "stdout",
     "output_type": "stream",
     "text": [
      "[1] \"S. Willmes--University of Trier\"\n",
      "[1] \"G. Heinemann--University of Trier\"\n",
      "[1] \"Add: 0000-0002-4831-9016\"\n",
      "[1] \"Yoshihiro Matsuda--Graduate School of Environmental Studies, Nagoya University\"\n",
      "[1] \"Koji Fujita--Graduate School of Environmental Studies, Nagoya University\"\n",
      "[1] \"Yutaka Ageta--Graduate School of Environmental Studies, Nagoya University\"\n",
      "[1] \"Akiko Sakai--Graduate School of Environmental Studies, Nagoya University\"\n",
      "[1] \"Add: 0000-0003-3753-4981\"\n"
     ]
    },
    {
     "name": "stderr",
     "output_type": "stream",
     "text": [
      "Warning message:\n",
      "“Unknown or uninitialised column: `orcid-identifier.path`.”\n"
     ]
    },
    {
     "name": "stdout",
     "output_type": "stream",
     "text": [
      "[1] \"Jonathan L. Bamber--Bristol Glaciology Centre, School of Geographical Sciences, University of Bristol\"\n",
      "[1] \"William Krabill--Code 972, NASA Wallops Flight Facility\"\n",
      "[1] \"Vivienne Raper--Bristol Glaciology Centre, School of Geographical Sciences, University of Bristol\"\n",
      "[1] \"Julian A. Dowdeswell--Scott Polar Research Institute, University of Cambridge\"\n",
      "[1] \"J. Oerlemans--Institute for Marine and Atmospheric Research Utrecht, Utrecht University\"\n",
      "[1] \"Add: 0000-0002-2280-2819\"\n"
     ]
    },
    {
     "name": "stderr",
     "output_type": "stream",
     "text": [
      "Warning message:\n",
      "“Unknown or uninitialised column: `orcid-identifier.path`.”\n",
      "Warning message:\n",
      "“Unknown or uninitialised column: `orcid-identifier.path`.”\n",
      "Warning message:\n",
      "“Unknown or uninitialised column: `orcid-identifier.path`.”\n",
      "Warning message:\n",
      "“Unknown or uninitialised column: `orcid-identifier.path`.”\n"
     ]
    },
    {
     "name": "stdout",
     "output_type": "stream",
     "text": [
      "[1] \"J.C. Kapil--Snow and Avalanche Study Establishment (SASE)\"\n",
      "[1] \"Anupam Kumar--Department of Physics, Ranchi College\"\n",
      "[1] \"P.S. Negi--Snow and Avalanche Study Establishment (SASE)\"\n",
      "[1] \"Add: 0000-0003-2586-481X\"\n"
     ]
    },
    {
     "name": "stderr",
     "output_type": "stream",
     "text": [
      "Warning message:\n",
      "“Unknown or uninitialised column: `orcid-identifier.path`.”\n"
     ]
    },
    {
     "name": "stdout",
     "output_type": "stream",
     "text": [
      "[1] \"Gifford J. Wong--Dartmouth College, Sherman Fairchild Hall\"\n",
      "[1] \"Robert L. Hawley--Dartmouth College, Sherman Fairchild Hall\"\n",
      "[1] \"Eric R. Lutz--Dartmouth College, Sherman Fairchild Hall\"\n",
      "[1] \"Erich C. Osterberg--Dartmouth College, Sherman Fairchild Hall\"\n",
      "[1] \"Add: 0000-0002-0675-1230\"\n",
      "[1] \"Paul A. Mayewski--Climate Change Institute, University of Maine\"\n",
      "[1] \"Kirk A. Maasch--Climate Change Institute, University of Maine\"\n",
      "[1] \"James W. C. White--Institute for Arctic and Alpine Research, University of Colorado\"\n",
      "[1] \"Eric J. Steig--Quaternary Research Center and Department of Earth and Space Sciences, University of Washington\"\n",
      "[1] \"Eric Meyerson--Climate Change Institute, University of Maine\"\n",
      "[1] \"Ian Goodwin--School of Environmental and Life Sciences, University of Newcastle\"\n",
      "[1] \"Vin I. Morgan\"\n",
      "[1] \"Tas Van Ommen\"\n",
      "[1] \"Mark A. J. Curran\"\n",
      "[1] \"Joseph Souney--Institute for the Study of Earth, Oceans and Space, University of New Hampshire\"\n",
      "[1] \"Karl Kreutz--Climate Change Institute, University of Maine\"\n",
      "[1] \"Add: 0000-0002-2463-1718\"\n",
      "[1] \"Daniel McGrath--University of Colorado at Boulder\"\n",
      "[1] \"Konrad Steffen--University of Colorado at Boulder\"\n",
      "[1] \"Ted Scambos--University of Colorado at Boulder\"\n",
      "[1] \"Harihar Rajaram--University of Colorado at Boulder\"\n",
      "[1] \"Gino Casassa\"\n",
      "[1] \"Jose Luis Rodriguez Lagos\"\n",
      "[1] \"Add: 0000-0002-9462-6842\"\n",
      "[1] \"Manfred Stähli--WSL, Swiss Federal Institute for Snow and Avalanche Research SLF\"\n",
      "[1] \"Markus Stacheder--Forschungszentrum Karlsruhe GmbH, Institute of Meteorology and Climate Research\"\n",
      "[1] \"David Gustafsson--WSL, Swiss Federal Institute for Snow and Avalanche Research SLF\"\n",
      "[1] \"Stefan Schlaeger--Forschungszentrum Karlsruhe GmbH, Institute of Meteorology and Climate Research\"\n",
      "[1] \"Martin Schneebeli--WSL, Swiss Federal Institute for Snow and Avalanche Research SLF\"\n",
      "[1] \"Alexander Brandelik--Forschungszentrum Karlsruhe GmbH, Institute of Meteorology and Climate Research\"\n",
      "[1] \"Add: 0000-0003-2872-4409\"\n"
     ]
    },
    {
     "name": "stderr",
     "output_type": "stream",
     "text": [
      "Warning message:\n",
      "“Unknown or uninitialised column: `orcid-identifier.path`.”\n",
      "Warning message:\n",
      "“Unknown or uninitialised column: `orcid-identifier.path`.”\n"
     ]
    },
    {
     "name": "stdout",
     "output_type": "stream",
     "text": [
      "[1] \"Lionel Benoit--IGN, DRE/SRIG/LOEMI, Saint-Mandé,\"\n",
      "[1] \"Amaury Dehecq--Université de Savoie-Polytech Annecy-Chambéry-LISTIC, Annecy-le-Vieux\"\n",
      "[1] \"Ha-Thai Pham--Université de Savoie-Polytech Annecy-Chambéry-LISTIC, Annecy-le-Vieux\"\n",
      "[1] \"Flavien Vernier--Université de Savoie-Polytech Annecy-Chambéry-LISTIC, Annecy-le-Vieux\"\n",
      "[1] \"Emmanuel Trouvé--Université de Savoie-Polytech Annecy-Chambéry-LISTIC, Annecy-le-Vieux\"\n",
      "[1] \"Luc Moreau--EDYTEM, CNRS, Université de Savoie, Le Bourget-du-Lac\"\n",
      "[1] \"Olivier Martin--IGN, DRE/SRIG/LOEMI, Saint-Mandé,\"\n",
      "[1] \"Christian Thom--IGN, DRE/SRIG/LOEMI, Saint-Mandé,\"\n",
      "[1] \"Marc Pierrot-Deseilligny--IGN, DRE/SRIG/LOEMI, Saint-Mandé,\"\n",
      "[1] \"Pierre Briole--ENS, Laboratoire de Géologie, Paris\"\n",
      "[1] \"Add: 0000-0001-7684-6502\"\n",
      "[1] \"Add: 0000-0002-8182-0152\"\n",
      "[1] \"Add: 0000-0002-5157-1183\"\n",
      "[1] \"Add: 0000-0001-6805-6295\"\n"
     ]
    },
    {
     "name": "stderr",
     "output_type": "stream",
     "text": [
      "Warning message:\n",
      "“Unknown or uninitialised column: `orcid-identifier.path`.”\n"
     ]
    },
    {
     "name": "stdout",
     "output_type": "stream",
     "text": [
      "[1] \"Coen Hofstede--Alfed-Wegener-Institut Helmholtz-Zentrum für Polar- und Meeresforschung\"\n",
      "[1] \"Olaf Eisen--Alfed-Wegener-Institut Helmholtz-Zentrum für Polar- und Meeresforschung\"\n",
      "[1] \"Anja Diez--Alfed-Wegener-Institut Helmholtz-Zentrum für Polar- und Meeresforschung\"\n",
      "[1] \"Daniela Jansen--College of Science, Swansea University\"\n",
      "[1] \"Yngve Kristoffersen--Department of Earth Science, University of Bergen\"\n",
      "[1] \"Astrid Lambrecht--Bavarian Academy of Sciences and Humanities\"\n",
      "[1] \"Christoph Mayer--Bavarian Academy of Sciences and Humanities\"\n",
      "[1] \"Add: 0000-0001-6443-6135\"\n",
      "[1] \"Add: 0000-0002-4412-5820\"\n",
      "[1] \"Yoshitaka Yoshimura--Tokyo Institute of Technology, Ookayama 2-12-1-W3-43\"\n",
      "[1] \"Shiro Kohshima--Tokyo Institute of Technology, Ookayama 2-12-1-W3-43\"\n",
      "[1] \"Nozomu Takeuchi--Tokyo Institute of Technology, Ookayama 2-12-1-W3-43\"\n",
      "[1] \"Katsumoto Seko--Graduate School of Environmental Studies, Nagoya University\"\n",
      "[1] \"Koji Fujita--Graduate School of Environmental Studies, Nagoya University\"\n",
      "[1] \"Add: 0000-0002-3267-5534\"\n",
      "[1] \"Add: 0000-0003-3753-4981\"\n",
      "[1] \"Elena Muntán--Departament d’Ecologia, Facultat de Biologia, Universitat de Barcelona\"\n",
      "[1] \"Laia Andreu--Departament d’Ecologia, Facultat de Biologia, Universitat de Barcelona\"\n",
      "[1] \"Pere Oller\"\n",
      "[1] \"Emilia Gutiérrez--Departament d’Ecologia, Facultat de Biologia, Universitat de Barcelona\"\n",
      "[1] \"Pere Martínez\"\n",
      "[1] \"Add: 0000-0002-0687-6877\"\n",
      "[1] \"Add: 0000-0003-4185-681X\"\n",
      "[1] \"Xiao Cunde--College of Physics, Peking University\"\n",
      "[1] \"Ian Allison\"\n",
      "[1] \"Ren Jiawen--Key Laboratory of Ice Core and Cold Regions Environment, Cold and Arid Regions Environmental and Engineering Research Institute\"\n",
      "[1] \"Qin Dahe--Key Laboratory of Ice Core and Cold Regions Environment, Cold and Arid Regions Environmental and Engineering Research Institute\"\n",
      "[1] \"Zhang Mingjun--Key Laboratory of Ice Core and Cold Regions Environment, Cold and Arid Regions Environmental and Engineering Research Institute\"\n",
      "[1] \"Li Zhongqin--Key Laboratory of Ice Core and Cold Regions Environment, Cold and Arid Regions Environmental and Engineering Research Institute\"\n",
      "[1] \"Add: 0000-0002-7977-9509\"\n",
      "[1] \"K. Kawada\"\n",
      "[1] \"K. Nishimura\"\n",
      "[1] \"N. Maeno\"\n",
      "[1] \"Add: 0000-0003-2521-2491\"\n"
     ]
    },
    {
     "name": "stderr",
     "output_type": "stream",
     "text": [
      "Warning message:\n",
      "“Unknown or uninitialised column: `orcid-identifier.path`.”\n",
      "Warning message:\n",
      "“Unknown or uninitialised column: `orcid-identifier.path`.”\n"
     ]
    },
    {
     "name": "stdout",
     "output_type": "stream",
     "text": [
      "[1] \"L.M. Wake--Durham University\"\n",
      "[1] \"P. Huybrechts--Vrije Universiteit Brussel\"\n",
      "[1] \"J.E. Box--The Ohio State University\"\n",
      "[1] \"E. Hanna--University of Sheffield\"\n",
      "[1] \"I. Janssens--Vrije Universiteit Brussel\"\n",
      "[1] \"G.A. Milne--Durham University\"\n",
      "[1] \"Add: 0000-0002-8683-182X\"\n",
      "[1] \"Add: 0000-0003-1406-0525\"\n"
     ]
    },
    {
     "name": "stderr",
     "output_type": "stream",
     "text": [
      "Warning message:\n",
      "“Unknown or uninitialised column: `orcid-identifier.path`.”\n"
     ]
    },
    {
     "name": "stdout",
     "output_type": "stream",
     "text": [
      "[1] \"Bernd Dachwald\"\n",
      "[1] \"Jill Mikucki\"\n",
      "[1] \"Slawek Tulaczyk\"\n",
      "[1] \"Ilya Digel\"\n",
      "[1] \"Clemens Espe\"\n",
      "[1] \"Marco Feldmann\"\n",
      "[1] \"Gero Francke\"\n",
      "[1] \"Julia Kowalski\"\n",
      "[1] \"Changsheng Xu\"\n",
      "[1] \"Add: 0000-0001-8765-8339\"\n",
      "[1] \"Add: 0000-0002-3418-0252\"\n",
      "[1] \"Add: 0000-0002-9711-4332\"\n",
      "[1] \"Yun Xu--University of California\"\n",
      "[1] \"Eric Rignot--University of California\"\n",
      "[1] \"Dimitris Menemenlis--California Institute of Technology\"\n",
      "[1] \"Michele Koppes--University of British Columbia\"\n",
      "[1] \"Add: 0000-0002-3716-5517\"\n",
      "[1] \"Add: 0000-0002-3366-0481\"\n"
     ]
    },
    {
     "name": "stderr",
     "output_type": "stream",
     "text": [
      "Warning message:\n",
      "“Unknown or uninitialised column: `orcid-identifier.path`.”\n",
      "Warning message:\n",
      "“Unknown or uninitialised column: `orcid-identifier.path`.”\n",
      "Warning message:\n",
      "“Unknown or uninitialised column: `orcid-identifier.path`.”\n",
      "Warning message:\n",
      "“Unknown or uninitialised column: `orcid-identifier.path`.”\n",
      "Warning message:\n",
      "“Unknown or uninitialised column: `orcid-identifier.path`.”\n",
      "Warning message:\n",
      "“Unknown or uninitialised column: `orcid-identifier.path`.”\n",
      "Warning message:\n",
      "“Unknown or uninitialised column: `orcid-identifier.path`.”\n",
      "Warning message:\n",
      "“Unknown or uninitialised column: `orcid-identifier.path`.”\n",
      "Warning message:\n",
      "“Unknown or uninitialised column: `orcid-identifier.path`.”\n"
     ]
    },
    {
     "name": "stdout",
     "output_type": "stream",
     "text": [
      "[1] \"Bryn Hubbard--Centre for Glaciology, Institute of Geography and Earth Sciences, Aberystwyth University\"\n",
      "[1] \" Terry Malone--Centre for Glaciology, Institute of Geography and Earth Sciences, Aberystwyth University\"\n",
      "[1] \"Add: 0000-0002-3565-3875\"\n",
      "[1] \"Mohd Farooq Azam\"\n",
      "[1] \"AL. Ramanathan--School of Environmental Sciences\"\n",
      "[1] \"P. Wagnon\"\n",
      "[1] \"C. Vincent\"\n",
      "[1] \"A. Linda--School of Environmental Sciences\"\n",
      "[1] \"E. Berthier--Université de Toulouse\"\n",
      "[1] \"P. Sharma--School of Environmental Sciences\"\n",
      "[1] \"A. Mandal--School of Environmental Sciences\"\n",
      "[1] \"T. Angchuk--School of Environmental Sciences\"\n",
      "[1] \"V.B. Singh--School of Environmental Sciences\"\n",
      "[1] \"J.G. Pottakkal--School of Environmental Sciences\"\n",
      "[1] \"Add: 0000-0003-1616-6032\"\n",
      "[1] \"Add: 0000-0001-5978-9155\"\n"
     ]
    },
    {
     "name": "stderr",
     "output_type": "stream",
     "text": [
      "Warning message:\n",
      "“Unknown or uninitialised column: `orcid-identifier.path`.”\n",
      "Warning message:\n",
      "“Unknown or uninitialised column: `orcid-identifier.path`.”\n",
      "Warning message:\n",
      "“Unknown or uninitialised column: `orcid-identifier.path`.”\n",
      "Warning message:\n",
      "“Unknown or uninitialised column: `orcid-identifier.path`.”\n",
      "Warning message:\n",
      "“Unknown or uninitialised column: `orcid-identifier.path`.”\n"
     ]
    },
    {
     "name": "stdout",
     "output_type": "stream",
     "text": [
      "[1] \"Tao Zhang--State Oceanic Administration\"\n",
      "[1] \"Yuqiao Chen--State Oceanic Administration\"\n",
      "[1] \"Min Ding--School of Earth and Space Sciences, Peking University---0000-0002-0098-5124\"\n",
      "[1] \"Zhongyan Shen--State Oceanic Administration\"\n",
      "[1] \"Yuande Yang--Chinese Antarctic Center of Surveying and Mapping, Wuhan University\"\n",
      "[1] \"Qingsheng Guan--State Oceanic Administration\"\n",
      "[1] \"Add: 0000-0002-1205-989X\"\n"
     ]
    },
    {
     "name": "stderr",
     "output_type": "stream",
     "text": [
      "Warning message:\n",
      "“Unknown or uninitialised column: `orcid-identifier.path`.”\n"
     ]
    },
    {
     "name": "stdout",
     "output_type": "stream",
     "text": [
      "[1] \"O. Eisen\"\n",
      "[1] \"U. Nixdorf\"\n",
      "[1] \"F. Wilhelms\"\n",
      "[1] \"H. Miller\"\n",
      "[1] \"Add: 0000-0002-6380-962X\"\n",
      "[1] \"Gautami Samui--National Centre for Polar and Ocean Research\"\n",
      "[1] \"Runa Antony--National Centre for Polar and Ocean Research\"\n",
      "[1] \"Meloth Thamban--National Centre for Polar and Ocean Research\"\n",
      "[1] \"Add: 0000-0003-3379-8189\"\n",
      "[1] \"Ioanna Merkouriadi--University of Helsinki\"\n",
      "[1] \"Matti Leppäranta--University of Helsinki\"\n",
      "[1] \"Add: 0000-0002-4754-5564\"\n"
     ]
    },
    {
     "name": "stderr",
     "output_type": "stream",
     "text": [
      "Warning message:\n",
      "“Unknown or uninitialised column: `orcid-identifier.path`.”\n",
      "Warning message:\n",
      "“Unknown or uninitialised column: `orcid-identifier.path`.”\n"
     ]
    },
    {
     "name": "stdout",
     "output_type": "stream",
     "text": [
      "[1] \"Matthias Huss\"\n",
      "[1] \"Andreas Bauder\"\n",
      "[1] \"Add: 0000-0002-2377-6923\"\n",
      "[1] \"Richard C. A. Hindmarsh--British Antarctic Survey, Natural Environment Research Council\"\n",
      "[1] \"Add: 0000-0003-1633-2416\"\n"
     ]
    },
    {
     "name": "stderr",
     "output_type": "stream",
     "text": [
      "Warning message:\n",
      "“Unknown or uninitialised column: `orcid-identifier.path`.”\n",
      "Warning message:\n",
      "“Unknown or uninitialised column: `orcid-identifier.path`.”\n"
     ]
    },
    {
     "name": "stdout",
     "output_type": "stream",
     "text": [
      "[1] \"R.P. Stevens--Institute for Marine and Antarctic Studies and Antarctic Climate and Ecosystems CRC,  University of Tasmania\"\n",
      "[1] \"P. Heil--Australian Antarctic Division and Antarctic Climate and Ecosystems CRC,  University of Tasmania\"\n",
      "[1] \"Add: 0000-0003-2078-0342\"\n"
     ]
    },
    {
     "name": "stderr",
     "output_type": "stream",
     "text": [
      "Warning message:\n",
      "“Unknown or uninitialised column: `orcid-identifier.path`.”\n",
      "Warning message:\n",
      "“Unknown or uninitialised column: `orcid-identifier.path`.”\n"
     ]
    },
    {
     "name": "stdout",
     "output_type": "stream",
     "text": [
      "[1] \"Victoria Lee--Bristol Glaciology Centre, University of Bristol\"\n",
      "[1] \"Stephen L. Cornford--Bristol Glaciology Centre, University of Bristol\"\n",
      "[1] \"Antony J. Payne--Bristol Glaciology Centre, University of Bristol\"\n",
      "[1] \"Add: 0000-0003-1844-274X\"\n"
     ]
    },
    {
     "name": "stderr",
     "output_type": "stream",
     "text": [
      "Warning message:\n",
      "“Unknown or uninitialised column: `orcid-identifier.path`.”\n",
      "Warning message:\n",
      "“Unknown or uninitialised column: `orcid-identifier.path`.”\n"
     ]
    },
    {
     "name": "stdout",
     "output_type": "stream",
     "text": [
      "[1] \"A. Jenkins\"\n",
      "[1] \"C.S.M. Doake\"\n",
      "[1] \"Add: 0000-0002-9117-0616\"\n",
      "[1] \"Sergey Popov--Polar Marine Geosurvey Expedition (PMGE)---0000-0002-1830-8658\"\n"
     ]
    },
    {
     "name": "stderr",
     "output_type": "stream",
     "text": [
      "Warning message:\n",
      "“Unknown or uninitialised column: `orcid-identifier.path`.”\n"
     ]
    },
    {
     "name": "stdout",
     "output_type": "stream",
     "text": [
      "[1] \"Mario Hoppmann--Alfred-Wegener-Institut Helmholtz-Zentrum für Polar- und Meeresforschung---0000-0003-1294-9531\"\n",
      "[1] \"Maren E. Richter--Alfred-Wegener-Institut Helmholtz-Zentrum für Polar- und Meeresforschung---0000-0002-3658-3880\"\n",
      "[1] \"Inga J. Smith--University of Otago---0000-0002-0653-8296\"\n",
      "[1] \"Stefan Jendersie--Victoria University of Wellington\"\n",
      "[1] \"Patricia J. Langhorne--University of Otago\"\n",
      "[1] \"David N. Thomas--Bangor University---0000-0001-8832-5907\"\n",
      "[1] \"Gerhard S. Dieckmann--Alfred-Wegener-Institut Helmholtz-Zentrum für Polar- und Meeresforschung\"\n"
     ]
    },
    {
     "name": "stderr",
     "output_type": "stream",
     "text": [
      "Warning message:\n",
      "“Unknown or uninitialised column: `orcid-identifier.path`.”\n",
      "Warning message:\n",
      "“Unknown or uninitialised column: `orcid-identifier.path`.”\n",
      "Warning message:\n",
      "“Unknown or uninitialised column: `orcid-identifier.path`.”\n",
      "Warning message:\n",
      "“Unknown or uninitialised column: `orcid-identifier.path`.”\n"
     ]
    },
    {
     "name": "stdout",
     "output_type": "stream",
     "text": [
      "[1] \"A.A. Ekaykin\"\n",
      "[1] \"A.V. Kozachek\"\n",
      "[1] \"V.Ya. Lipenkov\"\n",
      "[1] \"Yu.A. Shibaev\"\n",
      "[1] \"Add: 0000-0003-4221-5440\"\n"
     ]
    },
    {
     "name": "stderr",
     "output_type": "stream",
     "text": [
      "Warning message:\n",
      "“Unknown or uninitialised column: `orcid-identifier.path`.”\n"
     ]
    },
    {
     "name": "stdout",
     "output_type": "stream",
     "text": [
      "[1] \"Larissa Nazarenko--Nasa Goddard Institute of Space Studies\"\n",
      "[1] \"James Hansen--Nasa Goddard Institute of Space Studies\"\n",
      "[1] \"Nikolai Tausnev--Nasa Goddard Institute of Space Studies\"\n",
      "[1] \"Reto Ruedy--Nasa Goddard Institute of Space Studies\"\n",
      "[1] \"Add: 0000-0002-1270-1088\"\n"
     ]
    },
    {
     "name": "stderr",
     "output_type": "stream",
     "text": [
      "Warning message:\n",
      "“Unknown or uninitialised column: `orcid-identifier.path`.”\n",
      "Warning message:\n",
      "“Unknown or uninitialised column: `orcid-identifier.path`.”\n",
      "Warning message:\n",
      "“Unknown or uninitialised column: `orcid-identifier.path`.”\n",
      "Warning message:\n",
      "“Unknown or uninitialised column: `orcid-identifier.path`.”\n",
      "Warning message:\n",
      "“Unknown or uninitialised column: `orcid-identifier.path`.”\n",
      "Warning message:\n",
      "“Unknown or uninitialised column: `orcid-identifier.path`.”\n",
      "Warning message:\n",
      "“Unknown or uninitialised column: `orcid-identifier.path`.”\n",
      "Warning message:\n",
      "“Unknown or uninitialised column: `orcid-identifier.path`.”\n"
     ]
    },
    {
     "name": "stdout",
     "output_type": "stream",
     "text": [
      "[1] \"Michel Y. Louge--Sibley School of Mechanical and Aerospace Engineering\"\n",
      "[1] \"Barbara Turnbull--Division of Process and Environmental Engineering\"\n",
      "[1] \"Cian Carroll--Sibley School of Mechanical and Aerospace Engineering\"\n",
      "[1] \"Add: 0000-0002-1155-9163\"\n",
      "[1] \"Takenobu Toyota--Institute of Low Temperature Science, Hokkaido University---0000-0003-1264-1844\"\n",
      "[1] \"Takashi Ono--Graduate School of Environmental Sciences, Hokkaido University\"\n",
      "[1] \"Tomonori Tanikawa--Meteorological Research Institute, Japan Meteorological Agency\"\n",
      "[1] \"Pat Wongpan--Institute of Low Temperature Science, Hokkaido University---0000-0002-7113-8221\"\n",
      "[1] \"Daiki Nomura--Hokkaido University\"\n",
      "[1] \"Stefan Kern\"\n",
      "[1] \"Martin Gade\"\n",
      "[1] \"Christian Haas\"\n",
      "[1] \"Andreas Pfaffling\"\n",
      "[1] \"Add: 0000-0002-6514-1272\"\n",
      "[1] \"Add: 0000-0001-7281-3746\"\n",
      "[1] \"Add: 0000-0002-7674-3500\"\n",
      "[1] \"Mary R. Albert--Cold Regions Research and Engineering Laboratory\"\n",
      "[1] \"Edward F. Shultz--Cold Regions Research and Engineering Laboratory\"\n",
      "[1] \"Frank E. Perron--Cold Regions Research and Engineering Laboratory\"\n",
      "[1] \"Add: 0000-0001-7842-2359\"\n"
     ]
    },
    {
     "name": "stderr",
     "output_type": "stream",
     "text": [
      "Warning message:\n",
      "“Unknown or uninitialised column: `orcid-identifier.path`.”\n",
      "Warning message:\n",
      "“Unknown or uninitialised column: `orcid-identifier.path`.”\n",
      "Warning message:\n",
      "“Unknown or uninitialised column: `orcid-identifier.path`.”\n",
      "Warning message:\n",
      "“Unknown or uninitialised column: `orcid-identifier.path`.”\n",
      "Warning message:\n",
      "“Unknown or uninitialised column: `orcid-identifier.path`.”\n",
      "Warning message:\n",
      "“Unknown or uninitialised column: `orcid-identifier.path`.”\n"
     ]
    },
    {
     "name": "stdout",
     "output_type": "stream",
     "text": [
      "[1] \"Jiechen Zhao--National Marine Environmental Forecasting Centre (NMEFC), Ministry of Natural Resources\"\n",
      "[1] \"Bin Cheng--Finnish Meteorological Institute (FMI)---0000-0001-8156-8412\"\n",
      "[1] \"Timo Vihma--Finnish Meteorological Institute (FMI)\"\n",
      "[1] \"Petra Heil--Australia Antarctic Division & Australian Antarctic Programmer Partnership\"\n",
      "[1] \"Fengming Hui--Sun Yat-sen University\"\n",
      "[1] \"Qi Shu--Laboratory for Regional Oceanography and Numerical Modelling, Qingdao National Laboratory for Marine Science and Technology---0000-0003-4781-571X\"\n",
      "[1] \"Lin Zhang--National Marine Environmental Forecasting Centre (NMEFC), Ministry of Natural Resources\"\n",
      "[1] \"Qinghua Yang--Southern Marine Science and Engineering Guangdong Laboratory (Zhuhai)---0000-0002-7114-2036\"\n"
     ]
    },
    {
     "name": "stderr",
     "output_type": "stream",
     "text": [
      "Warning message:\n",
      "“Unknown or uninitialised column: `orcid-identifier.path`.”\n",
      "Warning message:\n",
      "“Unknown or uninitialised column: `orcid-identifier.path`.”\n",
      "Warning message:\n",
      "“Unknown or uninitialised column: `orcid-identifier.path`.”\n",
      "Warning message:\n",
      "“Unknown or uninitialised column: `orcid-identifier.path`.”\n",
      "Warning message:\n",
      "“Unknown or uninitialised column: `orcid-identifier.path`.”\n",
      "Warning message:\n",
      "“Unknown or uninitialised column: `orcid-identifier.path`.”\n",
      "Warning message:\n",
      "“Unknown or uninitialised column: `orcid-identifier.path`.”\n",
      "Warning message:\n",
      "“Unknown or uninitialised column: `orcid-identifier.path`.”\n",
      "Warning message:\n",
      "“Unknown or uninitialised column: `orcid-identifier.path`.”\n"
     ]
    },
    {
     "name": "stdout",
     "output_type": "stream",
     "text": [
      "[1] \"Sandra Schwegmann--Alfred Wegener Institute for Polar and Marine Research\"\n",
      "[1] \"Christian Haas--Departments of Earth and Atmospheric Science and Geophysics,  University of Alberta\"\n",
      "[1] \"Charles Fowler--Colorado Center for Astrodynamics Research,  University of Colorado at Boulder\"\n",
      "[1] \"Rüdiger Gerdes--Alfred Wegener Institute for Polar and Marine Research\"\n",
      "[1] \"Add: 0000-0002-7674-3500\"\n"
     ]
    },
    {
     "name": "stderr",
     "output_type": "stream",
     "text": [
      "Warning message:\n",
      "“Unknown or uninitialised column: `orcid-identifier.path`.”\n"
     ]
    },
    {
     "name": "stdout",
     "output_type": "stream",
     "text": [
      "[1] \"Alison J. McMorrow\"\n",
      "[1] \"Mark A. J. Curran\"\n",
      "[1] \"Tas D. Van Ommen\"\n",
      "[1] \"Vin I. Morgan\"\n",
      "[1] \"Ian Allison\"\n",
      "[1] \"Add: 0000-0002-2463-1718\"\n"
     ]
    },
    {
     "name": "stderr",
     "output_type": "stream",
     "text": [
      "Warning message:\n",
      "“Unknown or uninitialised column: `orcid-identifier.path`.”\n"
     ]
    },
    {
     "name": "stdout",
     "output_type": "stream",
     "text": [
      "[1] \"K.W. Nicholls\"\n",
      "[1] \"H.F.J. Corr\"\n",
      "[1] \"K. Makinson\"\n",
      "[1] \"C.J. Pudsey--University of Dundee\"\n",
      "[1] \"Add: 0000-0002-5791-1767\"\n"
     ]
    },
    {
     "name": "stderr",
     "output_type": "stream",
     "text": [
      "Warning message:\n",
      "“Unknown or uninitialised column: `orcid-identifier.path`.”\n",
      "Warning message:\n",
      "“Unknown or uninitialised column: `orcid-identifier.path`.”\n",
      "Warning message:\n",
      "“Unknown or uninitialised column: `orcid-identifier.path`.”\n",
      "Warning message:\n",
      "“Unknown or uninitialised column: `orcid-identifier.path`.”\n"
     ]
    },
    {
     "name": "stdout",
     "output_type": "stream",
     "text": [
      "[1] \"Takeshi Tamura\"\n",
      "[1] \"Kay I. Ohshima\"\n",
      "[1] \"Hiroyuki Enomoto\"\n",
      "[1] \"Kazutaka Tateyama\"\n",
      "[1] \"Atsuhiro Muto\"\n",
      "[1] \"Shuki Ushio\"\n",
      "[1] \"Robert A. Massom\"\n",
      "[1] \"Add: 0000-0002-1722-2457\"\n",
      "[1] \"Add: 0000-0003-1533-5084\"\n"
     ]
    },
    {
     "name": "stderr",
     "output_type": "stream",
     "text": [
      "Warning message:\n",
      "“Unknown or uninitialised column: `orcid-identifier.path`.”\n",
      "Warning message:\n",
      "“Unknown or uninitialised column: `orcid-identifier.path`.”\n"
     ]
    },
    {
     "name": "stdout",
     "output_type": "stream",
     "text": [
      "[1] \"Matthias Braun--Institut für Physische Geographie, Universität Freiburg\"\n",
      "[1] \"Christoph Schneider--Institut für Physische Geographie, Universität Freiburg\"\n",
      "[1] \"Add: 0000-0001-5169-1567\"\n",
      "[1] \"Add: 0000-0002-9914-3217\"\n",
      "[1] \"A. M. Smith\"\n",
      "[1] \"D. G. Vaughan\"\n",
      "[1] \"C. S. M. Doake\"\n",
      "[1] \"A. C. Johnson\"\n",
      "[1] \"Add: 0000-0002-9065-0570\"\n",
      "[1] \"Timothy C. Bartholomaus--University of Texas Institute for Geophysics\"\n",
      "[1] \"Leigh A. Stearns--University of Kansas\"\n",
      "[1] \"David A. Sutherland--University of Oregon\"\n",
      "[1] \"Emily L. Shroyer--Oregon State University\"\n",
      "[1] \"Jonathan D. Nash--Oregon State University\"\n",
      "[1] \"Ryan T. Walker--University of Maryland and NASA Goddard Space Flight Center\"\n",
      "[1] \"Ginny Catania--University of Texas Institute for Geophysics\"\n",
      "[1] \"Denis Felikson--University of Texas Institute for Geophysics\"\n",
      "[1] \"Dustin Carroll--University of Oregon\"\n",
      "[1] \"Mason J. Fried--University of Texas Institute for Geophysics\"\n",
      "[1] \"Brice P. Y. Noël--Utrecht University\"\n",
      "[1] \"Michiel R. Van Den Broeke--Utrecht University\"\n",
      "[1] \"Add: 0000-0002-1470-6720\"\n",
      "[1] \"Add: 0000-0002-3785-5112\"\n",
      "[1] \"Add: 0000-0002-7561-5902\"\n",
      "[1] \"Add: 0000-0003-4005-9368\"\n",
      "[1] \"C.F. Dow--Glaciology Group, College of Science, Swansea University\"\n",
      "[1] \"A. Hubbard--Institute of Geography and Earth Sciences, Aberystwyth University\"\n",
      "[1] \"A.D. Booth--Glaciology Group, College of Science, Swansea University\"\n",
      "[1] \"S.H. Doyle--Institute of Geography and Earth Sciences, Aberystwyth University\"\n",
      "[1] \"A. Gusmeroli--Glaciology Group, College of Science, Swansea University\"\n",
      "[1] \"B. Kulessa--Glaciology Group, College of Science, Swansea University\"\n",
      "[1] \"Add: 0000-0003-1346-2258\"\n",
      "[1] \"Add: 0000-0002-8355-5591\"\n",
      "[1] \"Add: 0000-0002-8166-9608\"\n",
      "[1] \"Add: 0000-0002-0853-431X\"\n",
      "[1] \"Add: 0000-0002-4830-4949\"\n"
     ]
    },
    {
     "name": "stderr",
     "output_type": "stream",
     "text": [
      "Warning message:\n",
      "“Unknown or uninitialised column: `orcid-identifier.path`.”\n",
      "Warning message:\n",
      "“Unknown or uninitialised column: `orcid-identifier.path`.”\n",
      "Warning message:\n",
      "“Unknown or uninitialised column: `orcid-identifier.path`.”\n",
      "Warning message:\n",
      "“Unknown or uninitialised column: `orcid-identifier.path`.”\n",
      "Warning message:\n",
      "“Unknown or uninitialised column: `orcid-identifier.path`.”\n",
      "Warning message:\n",
      "“Unknown or uninitialised column: `orcid-identifier.path`.”\n"
     ]
    },
    {
     "name": "stdout",
     "output_type": "stream",
     "text": [
      "[1] \"B. Osmanoğlu--Geophysical Institute, University of Alaska Fairbanks\"\n",
      "[1] \"M. Braun--Geophysical Institute, University of Alaska Fairbanks\"\n",
      "[1] \"R. Hock--Geophysical Institute, University of Alaska Fairbanks\"\n",
      "[1] \"F.J. Navarro--Department of Applied Mathematics, Technical University of Madrid\"\n",
      "[1] \"Add: 0000-0001-5169-1567\"\n",
      "[1] \"Add: 0000-0002-5147-0067\"\n",
      "[1] \"R. Udisti--Department of Chemistry, University of Calabria\"\n",
      "[1] \"S. Becagli--Department of Public Health and Environmental Analytical Chemistry, University of Florence\"\n",
      "[1] \"E. Castellano--Department of Public Health and Environmental Analytical Chemistry, University of Florence\"\n",
      "[1] \"R. Mulvaney--British Antarctic Survey, Natural Environment Research Council\"\n",
      "[1] \"J. Schwander--Physics Institute, University of Bern\"\n",
      "[1] \"S. Torcini--Ente Nazionale Energia e Ambiente\"\n",
      "[1] \"E. Wolff--British Antarctic Survey, Natural Environment Research Council\"\n",
      "[1] \"Add: 0000-0002-5372-8148\"\n",
      "[1] \"Thorsten Markus--NASA Goddard Space Flight Center\"\n",
      "[1] \"Robert Massom--Australian Antarctic Division\"\n",
      "[1] \"Anthony Worby--Australian Antarctic Division\"\n",
      "[1] \"Victoria Lytle--Australian Antarctic Division\"\n",
      "[1] \"Nathan Kurtz--Joint Center for Earth Systems Technology, University of Maryland\"\n",
      "[1] \"Ted Maksym--British Antarctic Survey, Natural Environment Research Council\"\n",
      "[1] \"Add: 0000-0003-1533-5084\"\n"
     ]
    },
    {
     "name": "stderr",
     "output_type": "stream",
     "text": [
      "Warning message:\n",
      "“Unknown or uninitialised column: `orcid-identifier.path`.”\n"
     ]
    },
    {
     "name": "stdout",
     "output_type": "stream",
     "text": [
      "[1] \"Denis Samyn\"\n",
      "[1] \"Anders Svensson--The Niels Bohr Institute\"\n",
      "[1] \"Sean J. Fitzsimons--Department of Geography, University of Otago\"\n",
      "[1] \"Reginald D. Lorrain\"\n",
      "[1] \"Add: 0000-0002-4364-6085\"\n"
     ]
    },
    {
     "name": "stderr",
     "output_type": "stream",
     "text": [
      "Warning message:\n",
      "“Unknown or uninitialised column: `orcid-identifier.path`.”\n",
      "Warning message:\n",
      "“Unknown or uninitialised column: `orcid-identifier.path`.”\n"
     ]
    },
    {
     "name": "stdout",
     "output_type": "stream",
     "text": [
      "[1] \"Marko Mäkynen--Marine Research Unit, Finnish Meteorological Institute\"\n",
      "[1] \"Bin Cheng--Marine Research Unit, Finnish Meteorological Institute\"\n",
      "[1] \"Markku Similä--Marine Research Unit, Finnish Meteorological Institute\"\n",
      "[1] \"Add: 0000-0003-1250-6300\"\n"
     ]
    },
    {
     "name": "stderr",
     "output_type": "stream",
     "text": [
      "Warning message:\n",
      "“Unknown or uninitialised column: `orcid-identifier.path`.”\n",
      "Warning message:\n",
      "“Unknown or uninitialised column: `orcid-identifier.path`.”\n"
     ]
    },
    {
     "name": "stdout",
     "output_type": "stream",
     "text": [
      "[1] \"Erika A. P. Schreiber--University of Colorado---0000-0002-5977-0611\"\n",
      "[1] \"Mark C. Serreze--University of Colorado---0000-0001-7670-0140\"\n"
     ]
    },
    {
     "name": "stderr",
     "output_type": "stream",
     "text": [
      "Warning message:\n",
      "“Unknown or uninitialised column: `orcid-identifier.path`.”\n",
      "Warning message:\n",
      "“Unknown or uninitialised column: `orcid-identifier.path`.”\n",
      "Warning message:\n",
      "“Unknown or uninitialised column: `orcid-identifier.path`.”\n",
      "Warning message:\n",
      "“Unknown or uninitialised column: `orcid-identifier.path`.”\n",
      "Warning message:\n",
      "“Unknown or uninitialised column: `orcid-identifier.path`.”\n"
     ]
    },
    {
     "name": "stdout",
     "output_type": "stream",
     "text": [
      "[1] \"Philippe Huybrechts--Vrije Universiteit Brussel\"\n",
      "[1] \"Oleg Rybak--Vrije Universiteit Brussel\"\n",
      "[1] \"Daniel Steinhage--Alfred-Wegener-Institut für Polar- und Meeresforschung\"\n",
      "[1] \"Frank Pattyn--Universite Libre de Bruxelles\"\n",
      "[1] \"Add: 0000-0002-7234-0544\"\n",
      "[1] \"Add: 0000-0003-4805-5636\"\n",
      "[1] \"Add: 0000-0003-1406-0525\"\n"
     ]
    },
    {
     "name": "stderr",
     "output_type": "stream",
     "text": [
      "Warning message:\n",
      "“Unknown or uninitialised column: `orcid-identifier.path`.”\n",
      "Warning message:\n",
      "“Unknown or uninitialised column: `orcid-identifier.path`.”\n",
      "Warning message:\n",
      "“Unknown or uninitialised column: `orcid-identifier.path`.”\n"
     ]
    },
    {
     "name": "stdout",
     "output_type": "stream",
     "text": [
      "[1] \"Takahiro Segawa--Transdisciplinary Research Integration Center\"\n",
      "[1] \"Nozomu Takeuchi--Department of Earth Sciences, Graduate School of Science, Chiba University\"\n",
      "[1] \"Add: 0000-0002-3111-708X\"\n",
      "[1] \"Add: 0000-0002-3267-5534\"\n"
     ]
    },
    {
     "name": "stderr",
     "output_type": "stream",
     "text": [
      "Warning message:\n",
      "“Unknown or uninitialised column: `orcid-identifier.path`.”\n"
     ]
    },
    {
     "name": "stdout",
     "output_type": "stream",
     "text": [
      "[1] \"Peter W. Keen\"\n",
      "[1] \"Mario P. Brito\"\n",
      "[1] \"Add: 0000-0002-1779-4535\"\n"
     ]
    },
    {
     "name": "stderr",
     "output_type": "stream",
     "text": [
      "Warning message:\n",
      "“Unknown or uninitialised column: `orcid-identifier.path`.”\n",
      "Warning message:\n",
      "“Unknown or uninitialised column: `orcid-identifier.path`.”\n",
      "Warning message:\n",
      "“Unknown or uninitialised column: `orcid-identifier.path`.”\n",
      "Warning message:\n",
      "“Unknown or uninitialised column: `orcid-identifier.path`.”\n",
      "Warning message:\n",
      "“Unknown or uninitialised column: `orcid-identifier.path`.”\n",
      "Warning message:\n",
      "“Unknown or uninitialised column: `orcid-identifier.path`.”\n",
      "Warning message:\n",
      "“Unknown or uninitialised column: `orcid-identifier.path`.”\n",
      "Warning message:\n",
      "“Unknown or uninitialised column: `orcid-identifier.path`.”\n",
      "Warning message:\n",
      "“Unknown or uninitialised column: `orcid-identifier.path`.”\n"
     ]
    },
    {
     "name": "stdout",
     "output_type": "stream",
     "text": [
      "[1] \"F.J. Navarro--Universidad Politécnica de Madrid\"\n",
      "[1] \"J. Otero--Universidad Politécnica de Madrid\"\n",
      "[1] \"Yu.Ya. Macheret--Institute of Geography\"\n",
      "[1] \"E.V. Vasilenko\"\n",
      "[1] \"J.J. Lapazaran--Universidad Politécnica de Madrid\"\n",
      "[1] \"A.P. Ahlstrøm\"\n",
      "[1] \"F. Machío--Universidad Pontificia de Salamanca\"\n",
      "[1] \"Error in: 2389 owi:0000-0001-6429-9708\"\n",
      "[1] \"Add: 0000-0001-5687-5381\"\n"
     ]
    },
    {
     "name": "stderr",
     "output_type": "stream",
     "text": [
      "Warning message:\n",
      "“Unknown or uninitialised column: `orcid-identifier.path`.”\n",
      "Warning message:\n",
      "“Unknown or uninitialised column: `orcid-identifier.path`.”\n",
      "Warning message:\n",
      "“Unknown or uninitialised column: `orcid-identifier.path`.”\n",
      "Warning message:\n",
      "“Unknown or uninitialised column: `orcid-identifier.path`.”\n",
      "Warning message:\n",
      "“Unknown or uninitialised column: `orcid-identifier.path`.”\n",
      "Warning message:\n",
      "“Unknown or uninitialised column: `orcid-identifier.path`.”\n",
      "Warning message:\n",
      "“Unknown or uninitialised column: `orcid-identifier.path`.”\n",
      "Warning message:\n",
      "“Unknown or uninitialised column: `orcid-identifier.path`.”\n",
      "Warning message:\n",
      "“Unknown or uninitialised column: `orcid-identifier.path`.”\n",
      "Warning message:\n",
      "“Unknown or uninitialised column: `orcid-identifier.path`.”\n",
      "Warning message:\n",
      "“Unknown or uninitialised column: `orcid-identifier.path`.”\n",
      "Warning message:\n",
      "“Unknown or uninitialised column: `orcid-identifier.path`.”\n",
      "Warning message:\n",
      "“Unknown or uninitialised column: `orcid-identifier.path`.”\n",
      "Warning message:\n",
      "“Unknown or uninitialised column: `orcid-identifier.path`.”\n",
      "Warning message:\n",
      "“Unknown or uninitialised column: `orcid-identifier.path`.”\n",
      "Warning message:\n",
      "“Unknown or uninitialised column: `orcid-identifier.path`.”\n",
      "Warning message:\n",
      "“Unknown or uninitialised column: `orcid-identifier.path`.”\n",
      "Warning message:\n",
      "“Unknown or uninitialised column: `orcid-identifier.path`.”\n",
      "Warning message:\n",
      "“Unknown or uninitialised column: `orcid-identifier.path`.”\n"
     ]
    },
    {
     "name": "stdout",
     "output_type": "stream",
     "text": [
      "[1] \"Sarah M. Mager--University of Otago\"\n",
      "[1] \"Gregory H. Leonard--University of Otago\"\n",
      "[1] \"Andrew G. Pauling--University of Otago\"\n",
      "[1] \"Inga J. Smith--University of Otago\"\n",
      "[1] \"Add: 0000-0001-7679-9486\"\n",
      "[1] \"Add: 0000-0001-6610-5874\"\n"
     ]
    },
    {
     "name": "stderr",
     "output_type": "stream",
     "text": [
      "Warning message:\n",
      "“Unknown or uninitialised column: `orcid-identifier.path`.”\n"
     ]
    },
    {
     "name": "stdout",
     "output_type": "stream",
     "text": [
      "[1] \"Rosemary Willatt--National Centre for Earth Observation – Centre for Polar Observation and Modelling, University College London\"\n",
      "[1] \"Seymour Laxon--National Centre for Earth Observation – Centre for Polar Observation and Modelling, University College London\"\n",
      "[1] \"Katharine Giles--National Centre for Earth Observation – Centre for Polar Observation and Modelling, University College London\"\n",
      "[1] \"Robert Cullen--European Space Agency/European Space Research and Technology Centre (ESTEC)\"\n",
      "[1] \"Christian Haas--Department of Earth & Atmospheric Sciences, University of Alberta\"\n",
      "[1] \"Veit Helm--Alfred Wegener Institute for Polar and Marine Research\"\n",
      "[1] \"Add: 0000-0003-2512-562X\"\n",
      "[1] \"Add: 0000-0002-7674-3500\"\n"
     ]
    },
    {
     "name": "stderr",
     "output_type": "stream",
     "text": [
      "Warning message:\n",
      "“Unknown or uninitialised column: `orcid-identifier.path`.”\n"
     ]
    },
    {
     "name": "stdout",
     "output_type": "stream",
     "text": [
      "[1] \"Fabien Montiel--University of Otago\"\n",
      "[1] \"Vernon A. Squire--University of Otago\"\n",
      "[1] \"Luke G. Bennetts--University of Adelaide\"\n",
      "[1] \"Add: 0000-0002-6126-6385\"\n",
      "[1] \"Add: 0000-0001-9386-7882\"\n",
      "[1] \"Add: 0000-0002-5570-3446\"\n",
      "[1] \"Tas D. Van Ommen\"\n",
      "[1] \"Vin Morgan\"\n",
      "[1] \"Mark A. J. Curran\"\n",
      "[1] \"Add: 0000-0002-2463-1718\"\n"
     ]
    },
    {
     "name": "stderr",
     "output_type": "stream",
     "text": [
      "Warning message:\n",
      "“Unknown or uninitialised column: `orcid-identifier.path`.”\n",
      "Warning message:\n",
      "“Unknown or uninitialised column: `orcid-identifier.path`.”\n"
     ]
    },
    {
     "name": "stdout",
     "output_type": "stream",
     "text": [
      "[1] \"D.V. Alexandrov\"\n",
      "[1] \"A.P. Malygin\"\n",
      "[1] \"I.V. Alexandrova\"\n",
      "[1] \"Add: 0000-0002-6628-745X\"\n"
     ]
    },
    {
     "name": "stderr",
     "output_type": "stream",
     "text": [
      "Warning message:\n",
      "“Unknown or uninitialised column: `orcid-identifier.path`.”\n",
      "Warning message:\n",
      "“Unknown or uninitialised column: `orcid-identifier.path`.”\n",
      "Warning message:\n",
      "“Unknown or uninitialised column: `orcid-identifier.path`.”\n",
      "Warning message:\n",
      "“Unknown or uninitialised column: `orcid-identifier.path`.”\n",
      "Warning message:\n",
      "“Unknown or uninitialised column: `orcid-identifier.path`.”\n",
      "Warning message:\n",
      "“Unknown or uninitialised column: `orcid-identifier.path`.”\n"
     ]
    },
    {
     "name": "stdout",
     "output_type": "stream",
     "text": [
      "[1] \"Wolfgang Graf\"\n",
      "[1] \"Hans Oerter\"\n",
      "[1] \"Oskar Reinwarth\"\n",
      "[1] \"Willibald Stichler\"\n",
      "[1] \"Frank Wilhelms\"\n",
      "[1] \"Heinz Miller\"\n",
      "[1] \"Robert Mulvaney\"\n",
      "[1] \"Add: 0000-0002-5372-8148\"\n",
      "[1] \"Louis Garcia--Louisiana State University\"\n",
      "[1] \"Karen Luttrell--Louisiana State University\"\n",
      "[1] \"Debi Kilb--Scripps Institution of Oceanography, University of California San Diego\"\n",
      "[1] \"Fabian Walter--Hydrology and Glaciology VAW, ETH\"\n",
      "[1] \"Add: 0000-0002-7252-4167\"\n",
      "[1] \"Add: 0000-0001-6952-2761\"\n"
     ]
    },
    {
     "name": "stderr",
     "output_type": "stream",
     "text": [
      "Warning message:\n",
      "“Unknown or uninitialised column: `orcid-identifier.path`.”\n",
      "Warning message:\n",
      "“Unknown or uninitialised column: `orcid-identifier.path`.”\n",
      "Warning message:\n",
      "“Unknown or uninitialised column: `orcid-identifier.path`.”\n",
      "Warning message:\n",
      "“Unknown or uninitialised column: `orcid-identifier.path`.”\n",
      "Warning message:\n",
      "“Unknown or uninitialised column: `orcid-identifier.path`.”\n",
      "Warning message:\n",
      "“Unknown or uninitialised column: `orcid-identifier.path`.”\n",
      "Warning message:\n",
      "“Unknown or uninitialised column: `orcid-identifier.path`.”\n"
     ]
    },
    {
     "name": "stdout",
     "output_type": "stream",
     "text": [
      "[1] \"David E. Gwyther--University of Tasmania\"\n",
      "[1] \"Eva A. Cougnon--University of Tasmania\"\n",
      "[1] \"Benjamin K. Galton-Fenzi--University of Tasmania\"\n",
      "[1] \"Jason L. Roberts--University of Tasmania\"\n",
      "[1] \"John R. Hunter--University of Tasmania\"\n",
      "[1] \"Michael S. Dinniman--Old Dominion University\"\n",
      "[1] \"Add: 0000-0002-8691-5935\"\n",
      "[1] \"Add: 0000-0002-7218-2785\"\n",
      "[1] \"Add: 0000-0001-7519-9278\"\n",
      "[1] \"Add: 0000-0002-3477-4069\"\n",
      "[1] \"Add: 0000-0003-1404-4103\"\n"
     ]
    },
    {
     "name": "stderr",
     "output_type": "stream",
     "text": [
      "Warning message:\n",
      "“Unknown or uninitialised column: `orcid-identifier.path`.”\n",
      "Warning message:\n",
      "“Unknown or uninitialised column: `orcid-identifier.path`.”\n",
      "Warning message:\n",
      "“Unknown or uninitialised column: `orcid-identifier.path`.”\n",
      "Warning message:\n",
      "“Unknown or uninitialised column: `orcid-identifier.path`.”\n",
      "Warning message:\n",
      "“Unknown or uninitialised column: `orcid-identifier.path`.”\n",
      "Warning message:\n",
      "“Unknown or uninitialised column: `orcid-identifier.path`.”\n",
      "Warning message:\n",
      "“Unknown or uninitialised column: `orcid-identifier.path`.”\n",
      "Warning message:\n",
      "“Unknown or uninitialised column: `orcid-identifier.path`.”\n",
      "Warning message:\n",
      "“Unknown or uninitialised column: `orcid-identifier.path`.”\n"
     ]
    },
    {
     "name": "stdout",
     "output_type": "stream",
     "text": [
      "[1] \"Norbert Blindow--Institute for Geophysics, University of Münster\"\n",
      "[1] \"Sonja K. Suckro--Institute for Geophysics, University of Münster\"\n",
      "[1] \"Martin Rückamp--Institute for Geophysics, University of Münster\"\n",
      "[1] \"Matthias Braun--Center for Remote Sensing of Land Surfaces, University of Bonn\"\n",
      "[1] \"Marion Schindler--Institute for Geophysics, University of Münster\"\n",
      "[1] \"Birgit Breuer--Institute for Geophysics, University of Münster\"\n",
      "[1] \"Helmut Saurer--Department of Physical Geography, University of Freiburg\"\n",
      "[1] \"Jefferson C. Simões--NUPAC, Universidade Federal do Rio Grande do Sul\"\n",
      "[1] \"Manfred A. Lange--Institute for Geophysics, University of Münster\"\n",
      "[1] \"Add: 0000-0003-2512-7238\"\n",
      "[1] \"Add: 0000-0001-5555-3401\"\n",
      "[1] \" Dome-F Deep Coring Group\"\n",
      "[1] \"Error in: 2448 owi:0000-0003-2303-8928\"\n"
     ]
    },
    {
     "name": "stderr",
     "output_type": "stream",
     "text": [
      "Warning message:\n",
      "“Unknown or uninitialised column: `orcid-identifier.path`.”\n",
      "Warning message:\n",
      "“Unknown or uninitialised column: `orcid-identifier.path`.”\n",
      "Warning message:\n",
      "“Unknown or uninitialised column: `orcid-identifier.path`.”\n",
      "Warning message:\n",
      "“Unknown or uninitialised column: `orcid-identifier.path`.”\n"
     ]
    },
    {
     "name": "stdout",
     "output_type": "stream",
     "text": [
      "[1] \"Inger K. Seierstad--Department of Geophysics, University of Copenhagen, Juliane Maries Vej 30\"\n",
      "[1] \"Sigfús J. Johnsen--Department of Geophysics, University of Copenhagen, Juliane Maries Vej 30\"\n",
      "[1] \"Bo M. Vinther--Department of Geophysics, University of Copenhagen, Juliane Maries Vej 30\"\n",
      "[1] \"Jesper Olsen--Department of Physics and Astronomy University of Arhus\"\n",
      "[1] \"Add: 0000-0002-6078-771X\"\n",
      "[1] \"Add: 0000-0002-4445-5520\"\n"
     ]
    },
    {
     "name": "stderr",
     "output_type": "stream",
     "text": [
      "Warning message:\n",
      "“Unknown or uninitialised column: `orcid-identifier.path`.”\n",
      "Warning message:\n",
      "“Unknown or uninitialised column: `orcid-identifier.path`.”\n",
      "Warning message:\n",
      "“Unknown or uninitialised column: `orcid-identifier.path`.”\n",
      "Warning message:\n",
      "“Unknown or uninitialised column: `orcid-identifier.path`.”\n",
      "Warning message:\n",
      "“Unknown or uninitialised column: `orcid-identifier.path`.”\n",
      "Warning message:\n",
      "“Unknown or uninitialised column: `orcid-identifier.path`.”\n",
      "Warning message:\n",
      "“Unknown or uninitialised column: `orcid-identifier.path`.”\n",
      "Warning message:\n",
      "“Unknown or uninitialised column: `orcid-identifier.path`.”\n"
     ]
    },
    {
     "name": "stdout",
     "output_type": "stream",
     "text": [
      "[1] \"Markus Engelhardt--University of Oslo\"\n",
      "[1] \"Paul Leclercq--University of Oslo\"\n",
      "[1] \"Trude Eidhammer--National Center for Atmospheric Research (NCAR)\"\n",
      "[1] \"Pankaj Kumar--Indian Institute of Science Education and Research\"\n",
      "[1] \"Oskar Landgren--Norwegian Meteorological Institute (met.no)\"\n",
      "[1] \"Roy Rasmussen--National Center for Atmospheric Research (NCAR)\"\n",
      "[1] \"Add: 0000-0002-6264-8502\"\n",
      "[1] \"Add: 0000-0003-2281-9351\"\n",
      "[1] \"Michael P. Schodlok--Joint Institute for Regional Earth System Science and Engineering (JIFRESSE)\"\n",
      "[1] \"Dimitris Menemenlis--California Institute of Technology\"\n",
      "[1] \"Eric Rignot--California Institute of Technology\"\n",
      "[1] \"Michael Studinger\"\n",
      "[1] \"Add: 0000-0003-1265-4741\"\n",
      "[1] \"Add: 0000-0002-3366-0481\"\n",
      "[1] \"Ursula K. Rick--Thayer School of Engineering, Dartmouth College\"\n",
      "[1] \"Mary R. Albert--Thayer School of Engineering, Dartmouth College\"\n",
      "[1] \"Add: 0000-0001-7842-2359\"\n"
     ]
    },
    {
     "name": "stderr",
     "output_type": "stream",
     "text": [
      "Warning message:\n",
      "“Unknown or uninitialised column: `orcid-identifier.path`.”\n"
     ]
    },
    {
     "name": "stdout",
     "output_type": "stream",
     "text": [
      "[1] \"Donald K. Perovich--US Army Engineer Research and Development Center,  Cold Regions Research and Engineering Laboratory\"\n",
      "[1] \"Jacqueline A. Richter-Menge--US Army Engineer Research and Development Center,  Cold Regions Research and Engineering Laboratory\"\n",
      "[1] \"Kathleen F. Jones--US Army Engineer Research and Development Center,  Cold Regions Research and Engineering Laboratory\"\n",
      "[1] \"Bonnie Light--Polar Science Center, Applied Physics Laboratory,  University of Washington\"\n",
      "[1] \"Bruce C. Elder--US Army Engineer Research and Development Center,  Cold Regions Research and Engineering Laboratory\"\n",
      "[1] \"Christopher Polashenski--Thayer School of Engineering, Dartmouth College,  Hanover\"\n",
      "[1] \"Daniel Laroche--US Army Engineer Research and Development Center,  Cold Regions Research and Engineering Laboratory\"\n",
      "[1] \"Thorsten Markus--NASA Goddard Space Flight Center\"\n",
      "[1] \"Ronald Lindsay--Polar Science Center, Applied Physics Laboratory,  University of Washington\"\n",
      "[1] \"Add: 0000-0003-2640-5738\"\n"
     ]
    },
    {
     "name": "stderr",
     "output_type": "stream",
     "text": [
      "Warning message:\n",
      "“Unknown or uninitialised column: `orcid-identifier.path`.”\n",
      "Warning message:\n",
      "“Unknown or uninitialised column: `orcid-identifier.path`.”\n",
      "Warning message:\n",
      "“Unknown or uninitialised column: `orcid-identifier.path`.”\n",
      "Warning message:\n",
      "“Unknown or uninitialised column: `orcid-identifier.path`.”\n"
     ]
    },
    {
     "name": "stdout",
     "output_type": "stream",
     "text": [
      "[1] \"Gilles Ramstein\"\n",
      "[1] \"Adeline Fabre\"\n",
      "[1] \"Sophie Pinot\"\n",
      "[1] \"Catherine Ritz\"\n",
      "[1] \"Sylvie Joussaume\"\n",
      "[1] \"Add: 0000-0003-0785-8571\"\n"
     ]
    },
    {
     "name": "stderr",
     "output_type": "stream",
     "text": [
      "Warning message:\n",
      "“Unknown or uninitialised column: `orcid-identifier.path`.”\n",
      "Warning message:\n",
      "“Unknown or uninitialised column: `orcid-identifier.path`.”\n"
     ]
    },
    {
     "name": "stdout",
     "output_type": "stream",
     "text": [
      "[1] \"Olga V. Sergienko--Portland State University\"\n",
      "[1] \"Douglas R. MacAyeal--University of Chicago\"\n",
      "[1] \"Robert A. Bindschadler\"\n",
      "[1] \"Add: 0000-0003-0647-6176\"\n",
      "[1] \"Andrey Proshutinsky--Institute of Marine Science, University of Alaska Fairbanks\"\n",
      "[1] \"Mark Johnson--Institute of Marine Science, University of Alaska Fairbanks\"\n",
      "[1] \"Tatiana Proshutinsky--Institute of Marine Science, University of Alaska Fairbanks\"\n",
      "[1] \"Add: 0000-0003-3087-1934\"\n",
      "[1] \"Mohamed Naaim--Division ETNA, Cemagref\"\n",
      "[1] \"Thierry Faug--Division ETNA, Cemagref\"\n",
      "[1] \"Florence Naaim--Division ETNA, Cemagref\"\n",
      "[1] \"Nicolas Eckert--Division ETNA, Cemagref\"\n",
      "[1] \"Add: 0000-0001-6023-2549\"\n",
      "[1] \"Add: 0000-0002-1880-8820\"\n"
     ]
    },
    {
     "name": "stderr",
     "output_type": "stream",
     "text": [
      "Warning message:\n",
      "“Unknown or uninitialised column: `orcid-identifier.path`.”\n",
      "Warning message:\n",
      "“Unknown or uninitialised column: `orcid-identifier.path`.”\n",
      "Warning message:\n",
      "“Unknown or uninitialised column: `orcid-identifier.path`.”\n"
     ]
    },
    {
     "name": "stdout",
     "output_type": "stream",
     "text": [
      "[1] \"Nuria Andrés--Universidad Complutense de Madrid, Departamento de Geografía Física\"\n",
      "[1] \"Josè J. Zamorano--Universidad Nacional Autónoma de México, Instituto de Geografía\"\n",
      "[1] \"Josè J. Sanjosé--Universidad de Extremadura, Escuela Politécnica\"\n",
      "[1] \"Alan Atkinson--Universidad de Extremadura, Escuela Politécnica\"\n",
      "[1] \"David Palacios--Universidad Complutense de Madrid, Departamento de Geografía Física\"\n",
      "[1] \"Add: 0000-0002-2928-3150\"\n",
      "[1] \"Add: 0000-0002-4362-1195\"\n",
      "[1] \"Add: 0000-0002-8289-0398\"\n"
     ]
    },
    {
     "name": "stderr",
     "output_type": "stream",
     "text": [
      "Warning message:\n",
      "“Unknown or uninitialised column: `orcid-identifier.path`.”\n"
     ]
    },
    {
     "name": "stdout",
     "output_type": "stream",
     "text": [
      "[1] \"Anshuman Bhardwaj--TERI University\"\n",
      "[1] \"Lydia Sam--Sharda University\"\n",
      "[1] \"Shaktiman Singh--Sharda University\"\n",
      "[1] \"Rajesh Kumar--Sharda University\"\n",
      "[1] \"Add: 0000-0003-4304-388X\"\n",
      "[1] \"Add: 0000-0003-3181-2960\"\n",
      "[1] \"Add: 0000-0002-2502-6384\"\n"
     ]
    },
    {
     "name": "stderr",
     "output_type": "stream",
     "text": [
      "Warning message:\n",
      "“Unknown or uninitialised column: `orcid-identifier.path`.”\n"
     ]
    },
    {
     "name": "stdout",
     "output_type": "stream",
     "text": [
      "[1] \"Richard Hodgkins--Loughborough University\"\n",
      "[1] \"Robert Bryant--University of Sheffield\"\n",
      "[1] \"Eleanor Darlington--Loughborough University\"\n",
      "[1] \"Mark Brandon--Open University\"\n",
      "[1] \"Add: 0000-0002-4046-5115\"\n",
      "[1] \"Add: 0000-0002-7779-0958\"\n",
      "[1] \"Add: 0000-0001-7943-4781\"\n",
      "[1] \"Silvia Benassai--University of Florence\"\n",
      "[1] \"Silvia Becagli--University of Florence\"\n",
      "[1] \"Roberto Gragnani\"\n",
      "[1] \"Olivier Magand\"\n",
      "[1] \"Marco Proposito\"\n",
      "[1] \"Ilaria Fattori--University of Florence\"\n",
      "[1] \"Rita Traversi--University of Florence\"\n",
      "[1] \"Roberto Udisti--University of Florence\"\n",
      "[1] \"Add: 0000-0002-9790-2195\"\n",
      "[1] \"Add: 0000-0003-3633-4849\"\n",
      "[1] \"S. Hendricks--Alfred Wegener Institute for Polar and Marine Research\"\n",
      "[1] \"S. Gerland--Norwegian Polar Institute,  Fram Centre\"\n",
      "[1] \"L.H. Smedsrud--Bjerknes Centre for Climate Research,  University of Bergen\"\n",
      "[1] \"C. Haas--Department of Earth & Atmospheric Sciences,  University of Alberta\"\n",
      "[1] \"A.A. Pfaffhuber--Norwegian Geotechnical Institute\"\n",
      "[1] \"F. Nilsen--The University Centre in Svalbard (UNIS)\"\n",
      "[1] \"Add: 0000-0001-7391-0740\"\n",
      "[1] \"Add: 0000-0002-7674-3500\"\n",
      "[1] \"Add: 0000-0002-1412-3146\"\n",
      "[1] \"Frédéric Flin\"\n",
      "[1] \"Jean-Bruno Brzoska\"\n",
      "[1] \"Add: 0000-0001-9931-7769\"\n",
      "[1] \"Mary Albert--US Army Cold Regions Research and Engineering Laboratory\"\n",
      "[1] \"Christopher Shuman\"\n",
      "[1] \"Zoe Courville--US Army Cold Regions Research and Engineering Laboratory\"\n",
      "[1] \"Robert Bauer--National Snow and Ice Data Center, University of Colorado\"\n",
      "[1] \"Mark Fahnestock--Center for the Study of Complex Systems, University of New Hampshire\"\n",
      "[1] \"Ted Scambos--National Snow and Ice Data Center, University of Colorado\"\n",
      "[1] \"Add: 0000-0001-7842-2359\"\n"
     ]
    },
    {
     "name": "stderr",
     "output_type": "stream",
     "text": [
      "Warning message:\n",
      "“Unknown or uninitialised column: `orcid-identifier.path`.”\n",
      "Warning message:\n",
      "“Unknown or uninitialised column: `orcid-identifier.path`.”\n",
      "Warning message:\n",
      "“Unknown or uninitialised column: `orcid-identifier.path`.”\n",
      "Warning message:\n",
      "“Unknown or uninitialised column: `orcid-identifier.path`.”\n",
      "Warning message:\n",
      "“Unknown or uninitialised column: `orcid-identifier.path`.”\n",
      "Warning message:\n",
      "“Unknown or uninitialised column: `orcid-identifier.path`.”\n",
      "Warning message:\n",
      "“Unknown or uninitialised column: `orcid-identifier.path`.”\n",
      "Warning message:\n",
      "“Unknown or uninitialised column: `orcid-identifier.path`.”\n",
      "Warning message:\n",
      "“Unknown or uninitialised column: `orcid-identifier.path`.”\n",
      "Warning message:\n",
      "“Unknown or uninitialised column: `orcid-identifier.path`.”\n",
      "Warning message:\n",
      "“Unknown or uninitialised column: `orcid-identifier.path`.”\n",
      "Warning message:\n",
      "“Unknown or uninitialised column: `orcid-identifier.path`.”\n",
      "Warning message:\n",
      "“Unknown or uninitialised column: `orcid-identifier.path`.”\n",
      "Warning message:\n",
      "“Unknown or uninitialised column: `orcid-identifier.path`.”\n"
     ]
    },
    {
     "name": "stdout",
     "output_type": "stream",
     "text": [
      "[1] \"Takayuki Kuramoto--National Institute of Polar Research\"\n",
      "[1] \"Kumiko Goto-Azuma--National Institute of Polar Research\"\n",
      "[1] \"Motohiro Hirabayashi--National Institute of Polar Research\"\n",
      "[1] \"Takayuki Miyake--National Institute of Polar Research\"\n",
      "[1] \"Hideaki Motoyama--National Institute of Polar Research\"\n",
      "[1] \"Dorthe Dahl-Jensen--Centre for Ice and Climate\"\n",
      "[1] \"Jørgen Peder Steffensen--Centre for Ice and Climate\"\n",
      "[1] \"Add: 0000-0002-5516-1093\"\n",
      "[1] \"Add: 0000-0002-1474-1948\"\n"
     ]
    },
    {
     "name": "stderr",
     "output_type": "stream",
     "text": [
      "Warning message:\n",
      "“Unknown or uninitialised column: `orcid-identifier.path`.”\n",
      "Warning message:\n",
      "“Unknown or uninitialised column: `orcid-identifier.path`.”\n",
      "Warning message:\n",
      "“Unknown or uninitialised column: `orcid-identifier.path`.”\n",
      "Warning message:\n",
      "“Unknown or uninitialised column: `orcid-identifier.path`.”\n"
     ]
    },
    {
     "name": "stdout",
     "output_type": "stream",
     "text": [
      "[1] \"T.A. Neumann\"\n",
      "[1] \"M.R. Albert\"\n",
      "[1] \"R. Lomonaco\"\n",
      "[1] \"C. Engel\"\n",
      "[1] \"Z. Courville\"\n",
      "[1] \"F. Perron\"\n",
      "[1] \"Add: 0000-0002-5968-6620\"\n",
      "[1] \"Add: 0000-0001-7842-2359\"\n",
      "[1] \"Veijo Allan Pohjola\"\n",
      "[1] \"Jim Hedfors\"\n",
      "[1] \"Per Holmlund\"\n",
      "[1] \"Add: 0000-0001-6851-1673\"\n"
     ]
    },
    {
     "name": "stderr",
     "output_type": "stream",
     "text": [
      "Warning message:\n",
      "“Unknown or uninitialised column: `orcid-identifier.path`.”\n",
      "Warning message:\n",
      "“Unknown or uninitialised column: `orcid-identifier.path`.”\n",
      "Warning message:\n",
      "“Unknown or uninitialised column: `orcid-identifier.path`.”\n"
     ]
    },
    {
     "name": "stdout",
     "output_type": "stream",
     "text": [
      "[1] \"Bradley Paul Lipovsky--Harvard University\"\n",
      "[1] \"Colin R. Meyer--University of Oregon\"\n",
      "[1] \"Lucas K. Zoet--University of Wisconsin–Madison\"\n",
      "[1] \"Christine McCarthy--Columbia University\"\n",
      "[1] \"Dougal D. Hansen--University of Wisconsin–Madison\"\n",
      "[1] \"Alan W. Rempel--University of Oregon\"\n",
      "[1] \"Florent Gimbert--University of Grenoble Alpes, CNRS, IRD, Institut des Géosciences de l'Environnement (IGE)\"\n",
      "[1] \"Add: 0000-0002-9150-9376\"\n"
     ]
    },
    {
     "name": "stderr",
     "output_type": "stream",
     "text": [
      "Warning message:\n",
      "“Unknown or uninitialised column: `orcid-identifier.path`.”\n"
     ]
    },
    {
     "name": "stdout",
     "output_type": "stream",
     "text": [
      "[1] \"Suzanne Bevan--School of the Environment and Society\"\n",
      "[1] \"Adrian Luckman--School of the Environment and Society\"\n",
      "[1] \"Tavi Murray--School of the Environment and Society\"\n",
      "[1] \"Helena Sykes--School of the Environment and Society\"\n",
      "[1] \"Jack Kohler--Norwegian Polar Institute\"\n",
      "[1] \"Add: 0000-0002-9618-5905\"\n"
     ]
    },
    {
     "name": "stderr",
     "output_type": "stream",
     "text": [
      "Warning message:\n",
      "“Unknown or uninitialised column: `orcid-identifier.path`.”\n",
      "Warning message:\n",
      "“Unknown or uninitialised column: `orcid-identifier.path`.”\n"
     ]
    },
    {
     "name": "stdout",
     "output_type": "stream",
     "text": [
      "[1] \"Kelly M. Brunt--Institute of Geophysics and Planetary Physics, Scripps Institution of Oceanography University of California\"\n",
      "[1] \"Helen A. Fricker--Institute of Geophysics and Planetary Physics, Scripps Institution of Oceanography University of California\"\n",
      "[1] \"Laurie Padman--Earth & Space Research\"\n",
      "[1] \"Ted A. Scambos--National Snow and Ice Data Center\"\n",
      "[1] \"Shad O’Neel--US Geological Survey\"\n",
      "[1] \"Add: 0000-0002-0921-1432\"\n",
      "[1] \"Add: 0000-0003-2010-642X\"\n"
     ]
    },
    {
     "name": "stderr",
     "output_type": "stream",
     "text": [
      "Warning message:\n",
      "“Unknown or uninitialised column: `orcid-identifier.path`.”\n",
      "Warning message:\n",
      "“Unknown or uninitialised column: `orcid-identifier.path`.”\n"
     ]
    },
    {
     "name": "stdout",
     "output_type": "stream",
     "text": [
      "[1] \"C. Barbante\"\n",
      "[1] \"C. Turetta\"\n",
      "[1] \"A. Gambaro\"\n",
      "[1] \"G. Capodaglio\"\n",
      "[1] \"G. Scarponi\"\n",
      "[1] \"Add: 0000-0002-3689-4865\"\n"
     ]
    },
    {
     "name": "stderr",
     "output_type": "stream",
     "text": [
      "Warning message:\n",
      "“Unknown or uninitialised column: `orcid-identifier.path`.”\n",
      "Warning message:\n",
      "“Unknown or uninitialised column: `orcid-identifier.path`.”\n",
      "Warning message:\n",
      "“Unknown or uninitialised column: `orcid-identifier.path`.”\n",
      "Warning message:\n",
      "“Unknown or uninitialised column: `orcid-identifier.path`.”\n",
      "Warning message:\n",
      "“Unknown or uninitialised column: `orcid-identifier.path`.”\n"
     ]
    },
    {
     "name": "stdout",
     "output_type": "stream",
     "text": [
      "[1] \"Martin J. Siegert\"\n",
      "[1] \"Keith Makinson\"\n",
      "[1] \"David Blake\"\n",
      "[1] \"Matt Mowlem\"\n",
      "[1] \"Neil Ross\"\n",
      "[1] \"Add: 0000-0002-5791-1767\"\n",
      "[1] \"Add: 0000-0002-0090-4806\"\n"
     ]
    },
    {
     "name": "stderr",
     "output_type": "stream",
     "text": [
      "Warning message:\n",
      "“Unknown or uninitialised column: `orcid-identifier.path`.”\n"
     ]
    },
    {
     "name": "stdout",
     "output_type": "stream",
     "text": [
      "[1] \"Michael H. Meylan--University of Newcastle\"\n",
      "[1] \"Lucas J. Yiew--University of Adelaide\"\n",
      "[1] \"Luke G. Bennetts--University of Adelaide\"\n",
      "[1] \"Benjamin J. French--National Centre for Maritime Engineering and Hydrodynamics\"\n",
      "[1] \"Giles A. Thomas--National Centre for Maritime Engineering and Hydrodynamics\"\n",
      "[1] \"Add: 0000-0002-4162-4827\"\n",
      "[1] \"Add: 0000-0001-9386-7882\"\n",
      "[1] \"Add: 0000-0002-3164-1367\"\n",
      "[1] \"Mary R. Albert--U.S. Army Cold Regions Research and Engineering Laboratory\"\n",
      "[1] \"Robert L. Hawley--Geophysics Program\"\n",
      "[1] \"Add: 0000-0001-7842-2359\"\n"
     ]
    },
    {
     "name": "stderr",
     "output_type": "stream",
     "text": [
      "Warning message:\n",
      "“Unknown or uninitialised column: `orcid-identifier.path`.”\n"
     ]
    },
    {
     "name": "stdout",
     "output_type": "stream",
     "text": [
      "[1] \"Thomas J. Ballinger--Texas State University\"\n",
      "[1] \"Edward Hanna--University of Lincoln\"\n",
      "[1] \"Richard J. Hall--University of Lincoln\"\n",
      "[1] \"Thomas E. Cropper--Cardiff University\"\n",
      "[1] \"Jeffrey Miller--NASA Goddard Space Flight Center\"\n",
      "[1] \"Mads H. Ribergaard--Danish Meteorological Institute\"\n",
      "[1] \"James E. Overland--NOAA/Pacific Marine Environmental Laboratory\"\n",
      "[1] \"Jacob L. Høyer--Danish Meteorological Institute\"\n",
      "[1] \"Add: 0000-0002-3696-7905\"\n",
      "[1] \"Add: 0000-0002-8683-182X\"\n"
     ]
    },
    {
     "name": "stderr",
     "output_type": "stream",
     "text": [
      "Warning message:\n",
      "“Unknown or uninitialised column: `orcid-identifier.path`.”\n",
      "Warning message:\n",
      "“Unknown or uninitialised column: `orcid-identifier.path`.”\n",
      "Warning message:\n",
      "“Unknown or uninitialised column: `orcid-identifier.path`.”\n",
      "Warning message:\n",
      "“Unknown or uninitialised column: `orcid-identifier.path`.”\n"
     ]
    },
    {
     "name": "stdout",
     "output_type": "stream",
     "text": [
      "[1] \"Hafeez Jeofry--Imperial College London---0000-0003-4638-4516\"\n",
      "[1] \"Neil Ross--Newcastle University---0000-0002-8338-4905\"\n",
      "[1] \"Martin J. Siegert--Imperial College London---0000-0002-0090-4806\"\n"
     ]
    },
    {
     "name": "stderr",
     "output_type": "stream",
     "text": [
      "Warning message:\n",
      "“Unknown or uninitialised column: `orcid-identifier.path`.”\n",
      "Warning message:\n",
      "“Unknown or uninitialised column: `orcid-identifier.path`.”\n",
      "Warning message:\n",
      "“Unknown or uninitialised column: `orcid-identifier.path`.”\n",
      "Warning message:\n",
      "“Unknown or uninitialised column: `orcid-identifier.path`.”\n",
      "Warning message:\n",
      "“Unknown or uninitialised column: `orcid-identifier.path`.”\n"
     ]
    },
    {
     "name": "stdout",
     "output_type": "stream",
     "text": [
      "[1] \"Frank Rau--Department of Physical Geography, Albert-Ludwigs-Universität Freiburg\"\n",
      "[1] \"Fabian Mauz--Department of Physical Geography, Albert-Ludwigs-Universität Freiburg\"\n",
      "[1] \"Hernán De Angelis--Instituto Antártico Argentino\"\n",
      "[1] \"Ricardo Jaña--Department of Physical Geography, Albert-Ludwigs-Universität Freiburg\"\n",
      "[1] \"Jorge Arigony Neto--Department of Physical Geography, Albert-Ludwigs-Universität Freiburg\"\n",
      "[1] \"Pedro Skvarca--Instituto Antártico Argentino\"\n",
      "[1] \"Steffen Vogt--Department of Physical Geography, Albert-Ludwigs-Universität Freiburg\"\n",
      "[1] \"Helmut Saurer--Department of Physical Geography, Albert-Ludwigs-Universität Freiburg\"\n",
      "[1] \"Hermann Gossmann--Department of Physical Geography, Albert-Ludwigs-Universität Freiburg\"\n",
      "[1] \"Add: 0000-0002-8584-272X\"\n"
     ]
    },
    {
     "name": "stderr",
     "output_type": "stream",
     "text": [
      "Warning message:\n",
      "“Unknown or uninitialised column: `orcid-identifier.path`.”\n",
      "Warning message:\n",
      "“Unknown or uninitialised column: `orcid-identifier.path`.”\n",
      "Warning message:\n",
      "“Unknown or uninitialised column: `orcid-identifier.path`.”\n"
     ]
    },
    {
     "name": "stdout",
     "output_type": "stream",
     "text": [
      "[1] \"Thierry Faug--Cemagref Grenoble, ETGR\"\n",
      "[1] \"Benoit Chanut--Cemagref Grenoble, ETGR\"\n",
      "[1] \"Rémi Beguin--Cemagref Grenoble, ETGR\"\n",
      "[1] \"Mohamed Naaim--Cemagref Grenoble, ETGR\"\n",
      "[1] \"Emmanuel Thibert--Cemagref Grenoble, ETGR\"\n",
      "[1] \"Djebar Baroudi--Cemagref Grenoble, ETGR\"\n",
      "[1] \"Add: 0000-0003-2843-5367\"\n",
      "[1] \"Add: 0000-0001-6023-2549\"\n"
     ]
    },
    {
     "name": "stderr",
     "output_type": "stream",
     "text": [
      "Warning message:\n",
      "“Unknown or uninitialised column: `orcid-identifier.path`.”\n",
      "Warning message:\n",
      "“Unknown or uninitialised column: `orcid-identifier.path`.”\n"
     ]
    },
    {
     "name": "stdout",
     "output_type": "stream",
     "text": [
      "[1] \"Andrés Rivera--Departamento de Geografía, Universidad de Chile\"\n",
      "[1] \"Cesar Acuña--Departamento de Geografía, Universidad de Chile\"\n",
      "[1] \"Gino Casassa--Instituto de la Patagonia, Universidad de Magallanes\"\n",
      "[1] \"Francisca Bown--Departamento de Geografía, Universidad de Chile\"\n",
      "[1] \"Add: 0000-0002-2779-4192\"\n"
     ]
    },
    {
     "name": "stderr",
     "output_type": "stream",
     "text": [
      "Warning message:\n",
      "“Unknown or uninitialised column: `orcid-identifier.path`.”\n"
     ]
    },
    {
     "name": "stdout",
     "output_type": "stream",
     "text": [
      "[1] \"Mark Schaer--Eidgenössisches Institut für Schnee- und Lawinenforsckung (SLF)\"\n",
      "[1] \"Dieter Issler--Eidgenössisches Institut für Schnee- und Lawinenforsckung (SLF)\"\n",
      "[1] \"Add: 0000-0003-2151-2331\"\n"
     ]
    },
    {
     "name": "stderr",
     "output_type": "stream",
     "text": [
      "Warning message:\n",
      "“Unknown or uninitialised column: `orcid-identifier.path`.”\n",
      "Warning message:\n",
      "“Unknown or uninitialised column: `orcid-identifier.path`.”\n"
     ]
    },
    {
     "name": "stdout",
     "output_type": "stream",
     "text": [
      "[1] \"Joseph Pomeroy--Polar and Alpine Research Centre, Department of Geography, Loughborough University\"\n",
      "[1] \"Alex Brisbourne--British Antarctic Survey, Natural Environment Research Council\"\n",
      "[1] \"Jeffrey Evans--Polar and Alpine Research Centre, Department of Geography, Loughborough University\"\n",
      "[1] \"David Graham--Polar and Alpine Research Centre, Department of Geography, Loughborough University\"\n",
      "[1] \"Add: 0000-0001-5287-6459\"\n"
     ]
    },
    {
     "name": "stderr",
     "output_type": "stream",
     "text": [
      "Warning message:\n",
      "“Unknown or uninitialised column: `orcid-identifier.path`.”\n",
      "Warning message:\n",
      "“Unknown or uninitialised column: `orcid-identifier.path`.”\n"
     ]
    },
    {
     "name": "stdout",
     "output_type": "stream",
     "text": [
      "[1] \"Weili Wang\"\n",
      "[1] \"Jun Li\"\n",
      "[1] \"Jay Zwally\"\n",
      "[1] \"Vin Morgan\"\n",
      "[1] \"Tas D. Van Ommen\"\n",
      "[1] \"Add: 0000-0002-2463-1718\"\n"
     ]
    },
    {
     "name": "stderr",
     "output_type": "stream",
     "text": [
      "Warning message:\n",
      "“Unknown or uninitialised column: `orcid-identifier.path`.”\n"
     ]
    },
    {
     "name": "stdout",
     "output_type": "stream",
     "text": [
      "[1] \"Nozomu Takeuchi--Department of Earth Sciences, Graduate School of Science, Chiba University\"\n",
      "[1] \"Hiromu Nishiyama--Department of Earth Sciences, Graduate School of Science, Chiba University\"\n",
      "[1] \"Zhongqin Li--State Key Laboratory of Cryosphere/Tien Shan Glaciological Station, Cold and Arid Regions Environmental and Engineering Research Institute, Chinese Academy of Sciences\"\n",
      "[1] \"Add: 0000-0002-3267-5534\"\n",
      "[1] \"Slawek Tulaczyk\"\n",
      "[1] \"Jill A. Mikucki\"\n",
      "[1] \"Matthew R. Siegfried\"\n",
      "[1] \"John C. Priscu\"\n",
      "[1] \"C. Grace Barcheck\"\n",
      "[1] \"Lucas H. Beem\"\n",
      "[1] \"Alberto Behar\"\n",
      "[1] \"Justin Burnett\"\n",
      "[1] \"Brent C. Christner\"\n",
      "[1] \"Andrew T. Fisher\"\n",
      "[1] \"Helen A. Fricker\"\n",
      "[1] \"Kenneth D. Mankoff\"\n",
      "[1] \"Ross D. Powell\"\n",
      "[1] \"Frank Rack\"\n",
      "[1] \"Daniel Sampson\"\n",
      "[1] \"Reed P. Scherer\"\n",
      "[1] \"Susan Y. Schwartz\"\n",
      "[1] \" The Wissard Science Team\"\n",
      "[1] \"Add: 0000-0001-5453-2019\"\n",
      "[1] \"Add: 0000-0002-0921-1432\"\n"
     ]
    },
    {
     "name": "stderr",
     "output_type": "stream",
     "text": [
      "Warning message:\n",
      "“Unknown or uninitialised column: `orcid-identifier.path`.”\n",
      "Warning message:\n",
      "“Unknown or uninitialised column: `orcid-identifier.path`.”\n"
     ]
    },
    {
     "name": "stdout",
     "output_type": "stream",
     "text": [
      "[1] \"K. Shirasawa--Institute of Low Temperature Science, Hokkaido University\"\n",
      "[1] \"N. Ebuchi--Institute of Low Temperature Science, Hokkaido University\"\n",
      "[1] \"M. Leppäranta--Department of Physics, University of Helsinki\"\n",
      "[1] \"T. Takatsuka--Institute of Low Temperature Science, Hokkaido University\"\n",
      "[1] \"Add: 0000-0002-4754-5564\"\n"
     ]
    },
    {
     "name": "stderr",
     "output_type": "stream",
     "text": [
      "Warning message:\n",
      "“Unknown or uninitialised column: `orcid-identifier.path`.”\n",
      "Warning message:\n",
      "“Unknown or uninitialised column: `orcid-identifier.path`.”\n",
      "Warning message:\n",
      "“Unknown or uninitialised column: `orcid-identifier.path`.”\n",
      "Warning message:\n",
      "“Unknown or uninitialised column: `orcid-identifier.path`.”\n",
      "Warning message:\n",
      "“Unknown or uninitialised column: `orcid-identifier.path`.”\n",
      "Warning message:\n",
      "“Unknown or uninitialised column: `orcid-identifier.path`.”\n"
     ]
    },
    {
     "name": "stdout",
     "output_type": "stream",
     "text": [
      "[1] \"Marcel Nicolaus\"\n",
      "[1] \"Christian Haas\"\n",
      "[1] \"Jörg Bareiss\"\n",
      "[1] \"Sascha Willmes\"\n",
      "[1] \"Add: 0000-0002-7674-3500\"\n"
     ]
    },
    {
     "name": "stderr",
     "output_type": "stream",
     "text": [
      "Warning message:\n",
      "“Unknown or uninitialised column: `orcid-identifier.path`.”\n",
      "Warning message:\n",
      "“Unknown or uninitialised column: `orcid-identifier.path`.”\n"
     ]
    },
    {
     "name": "stdout",
     "output_type": "stream",
     "text": [
      "[1] \"Ø. Nordli--Norwegian Meteorological Institute\"\n",
      "[1] \"E. Lundstad--Norwegian Meteorological Institute\"\n",
      "[1] \"A.E.J. Ogilvie--Institute of Arctic and Alpine Research\"\n",
      "[1] \"Add: 0000-0001-6175-9481\"\n",
      "[1] \"Andrey N. Salamatin--Department of Applied Mathematics, Kazan State University\"\n",
      "[1] \"Vladimir Ya. Lipenkov--Arctic and Antarctic Research Institute\"\n",
      "[1] \"Takeo Hondoh--Institute of Low Temperature Science, Hokkaido University\"\n",
      "[1] \"Tomoko Ikeda--Department of Applied Physics, Hokkaido University\"\n",
      "[1] \"Add: 0000-0002-5988-6024\"\n",
      "[1] \"Add: 0000-0003-4129-022X\"\n"
     ]
    },
    {
     "name": "stderr",
     "output_type": "stream",
     "text": [
      "Warning message:\n",
      "“Unknown or uninitialised column: `orcid-identifier.path`.”\n",
      "Warning message:\n",
      "“Unknown or uninitialised column: `orcid-identifier.path`.”\n",
      "Warning message:\n",
      "“Unknown or uninitialised column: `orcid-identifier.path`.”\n",
      "Warning message:\n",
      "“Unknown or uninitialised column: `orcid-identifier.path`.”\n"
     ]
    },
    {
     "name": "stdout",
     "output_type": "stream",
     "text": [
      "[1] \"Jürgen Determann--Alfred Wegener Institute for Polar and Marine Research\"\n",
      "[1] \"Malte Thoma--Alfred Wegener Institute for Polar and Marine Research\"\n",
      "[1] \"Klaus Grosfeld--Alfred Wegener Institute for Polar and Marine Research\"\n",
      "[1] \"Sylvia Massmann\"\n",
      "[1] \"Add: 0000-0002-4033-3905\"\n",
      "[1] \"Add: 0000-0001-5936-179X\"\n"
     ]
    },
    {
     "name": "stderr",
     "output_type": "stream",
     "text": [
      "Warning message:\n",
      "“Unknown or uninitialised column: `orcid-identifier.path`.”\n"
     ]
    },
    {
     "name": "stdout",
     "output_type": "stream",
     "text": [
      "[1] \"Garetti J. Marshall\"\n",
      "[1] \"John Turner\"\n",
      "[1] \"William D. Miners\"\n",
      "[1] \"Add: 0000-0002-6111-5122\"\n",
      "[1] \"Rupert M. Gladstone--School of Geographical Sciences\"\n",
      "[1] \"Antony J. Payne--School of Geographical Sciences\"\n",
      "[1] \"Stephen L. Cornford--School of Geographical Sciences\"\n",
      "[1] \"Add: 0000-0003-1844-274X\"\n"
     ]
    },
    {
     "name": "stderr",
     "output_type": "stream",
     "text": [
      "Warning message:\n",
      "“Unknown or uninitialised column: `orcid-identifier.path`.”\n"
     ]
    },
    {
     "name": "stdout",
     "output_type": "stream",
     "text": [
      "[1] \"Nozomu Takeuchi--Frontier Observational Research System for Global Change, International Arctic Research Center, University of Alaska Fairbanks\"\n",
      "[1] \"Add: 0000-0002-3267-5534\"\n"
     ]
    },
    {
     "name": "stderr",
     "output_type": "stream",
     "text": [
      "Warning message:\n",
      "“Unknown or uninitialised column: `orcid-identifier.path`.”\n"
     ]
    },
    {
     "name": "stdout",
     "output_type": "stream",
     "text": [
      "[1] \"Wolfgang Schöner\"\n",
      "[1] \"Reinhard Böhm\"\n",
      "[1] \"Add: 0000-0001-6546-0639\"\n"
     ]
    },
    {
     "name": "stderr",
     "output_type": "stream",
     "text": [
      "Warning message:\n",
      "“Unknown or uninitialised column: `orcid-identifier.path`.”\n"
     ]
    },
    {
     "name": "stdout",
     "output_type": "stream",
     "text": [
      "[1] \"Holly Still--National School of Surveying, University of Otago---0000-0002-6021-1964\"\n",
      "[1] \"Adam Campbell--National School of Surveying, University of Otago---0000-0003-2366-2894\"\n",
      "[1] \"Christina Hulbe--National School of Surveying, University of Otago---0000-0003-4765-7037\"\n"
     ]
    },
    {
     "name": "stderr",
     "output_type": "stream",
     "text": [
      "Warning message:\n",
      "“Unknown or uninitialised column: `orcid-identifier.path`.”\n"
     ]
    },
    {
     "name": "stdout",
     "output_type": "stream",
     "text": [
      "[1] \"Pavel Talalay--Polar Research Center, Jilin University\"\n",
      "[1] \"Xiaopeng Fan--Polar Research Center, Jilin University\"\n",
      "[1] \"Zhichuan Zheng--Polar Research Center, Jilin University\"\n",
      "[1] \"Jun Xue--Polar Research Center, Jilin University\"\n",
      "[1] \"Pinlu Cao--Polar Research Center, Jilin University\"\n",
      "[1] \"Nan Zhang--Polar Research Center, Jilin University\"\n",
      "[1] \"Rusheng Wang--Polar Research Center, Jilin University\"\n",
      "[1] \"Dahui Yu--Polar Research Center, Jilin University\"\n",
      "[1] \"Chengfeng Yu--Polar Research Center, Jilin University\"\n",
      "[1] \"Yunlong Zhang--Polar Research Center, Jilin University\"\n",
      "[1] \"Qi Zhang--Polar Research Center, Jilin University\"\n",
      "[1] \"Kai Su--Polar Research Center, Jilin University\"\n",
      "[1] \"Dongdong Yang--Polar Research Center, Jilin University\"\n",
      "[1] \"Jiewei Zhan--Polar Research Center, Jilin University\"\n",
      "[1] \"Add: 0000-0002-8230-4600\"\n",
      "[1] \"Sergey A. Sokratov--Cooperative Institute for Research in Environmental Sciences (CIRES), University of Colorado\"\n",
      "[1] \"Atsushi Sato--National Research Institute for Earth Science and Disaster Prevention, Shinjo Branch of Snow and Ice Studies\"\n",
      "[1] \"Yasushi Kamata--National Research Institute for Earth Science and Disaster Prevention, Shinjo Branch of Snow and Ice Studies\"\n",
      "[1] \"Add: 0000-0001-9265-2935\"\n"
     ]
    },
    {
     "name": "stderr",
     "output_type": "stream",
     "text": [
      "Warning message:\n",
      "“Unknown or uninitialised column: `orcid-identifier.path`.”\n",
      "Warning message:\n",
      "“Unknown or uninitialised column: `orcid-identifier.path`.”\n",
      "Warning message:\n",
      "“Unknown or uninitialised column: `orcid-identifier.path`.”\n",
      "Warning message:\n",
      "“Unknown or uninitialised column: `orcid-identifier.path`.”\n",
      "Warning message:\n",
      "“Unknown or uninitialised column: `orcid-identifier.path`.”\n",
      "Warning message:\n",
      "“Unknown or uninitialised column: `orcid-identifier.path`.”\n",
      "Warning message:\n",
      "“Unknown or uninitialised column: `orcid-identifier.path`.”\n"
     ]
    },
    {
     "name": "stdout",
     "output_type": "stream",
     "text": [
      "[1] \"David B. Reusch--EMS Earth and Environmental Systems Institute\"\n",
      "[1] \"Richard B. Alley--Department of Geosciences and EMS Earth and Environmental Systems Institute\"\n",
      "[1] \"Add: 0000-0002-7582-363X\"\n"
     ]
    },
    {
     "name": "stderr",
     "output_type": "stream",
     "text": [
      "Warning message:\n",
      "“Unknown or uninitialised column: `orcid-identifier.path`.”\n",
      "Warning message:\n",
      "“Unknown or uninitialised column: `orcid-identifier.path`.”\n",
      "Warning message:\n",
      "“Unknown or uninitialised column: `orcid-identifier.path`.”\n",
      "Warning message:\n",
      "“Unknown or uninitialised column: `orcid-identifier.path`.”\n"
     ]
    },
    {
     "name": "stdout",
     "output_type": "stream",
     "text": [
      "[1] \"Shin Sugiyama--Institute of Low Temperature Science, Hokkaido University\"\n",
      "[1] \"Kotaro Fukui--Tateyama Caldera Sabo Museum\"\n",
      "[1] \"Koji Fujita--Graduate School of Environmental Studies, Nagoya University\"\n",
      "[1] \"Kenta Tone--Institute of Low Temperature Science, Hokkaido University\"\n",
      "[1] \"Satoru Yamaguchi--Snow and Ice Research Center, National Research Institute for Earth Science and Disaster Prevention\"\n",
      "[1] \"Add: 0000-0003-2106-0232\"\n",
      "[1] \"Add: 0000-0003-3753-4981\"\n"
     ]
    },
    {
     "name": "stderr",
     "output_type": "stream",
     "text": [
      "Warning message:\n",
      "“Unknown or uninitialised column: `orcid-identifier.path`.”\n",
      "Warning message:\n",
      "“Unknown or uninitialised column: `orcid-identifier.path`.”\n",
      "Warning message:\n",
      "“Unknown or uninitialised column: `orcid-identifier.path`.”\n",
      "Warning message:\n",
      "“Unknown or uninitialised column: `orcid-identifier.path`.”\n",
      "Warning message:\n",
      "“Unknown or uninitialised column: `orcid-identifier.path`.”\n",
      "Warning message:\n",
      "“Unknown or uninitialised column: `orcid-identifier.path`.”\n",
      "Warning message:\n",
      "“Unknown or uninitialised column: `orcid-identifier.path`.”\n",
      "Warning message:\n",
      "“Unknown or uninitialised column: `orcid-identifier.path`.”\n",
      "Warning message:\n",
      "“Unknown or uninitialised column: `orcid-identifier.path`.”\n",
      "Warning message:\n",
      "“Unknown or uninitialised column: `orcid-identifier.path`.”\n"
     ]
    },
    {
     "name": "stdout",
     "output_type": "stream",
     "text": [
      "[1] \"Francesca Pittino--University of Milano Bicocca\"\n",
      "[1] \"Maurizio Maglio--University of Milano Bicocca\"\n",
      "[1] \"Isabella Gandolfi--University of Milano Bicocca\"\n",
      "[1] \"Roberto Sergio Azzoni--University of Milan---0000-0002-5931-486X\"\n",
      "[1] \"Guglielmina Diolaiuti--University of Milan\"\n",
      "[1] \"Roberto Ambrosini--University of Milano Bicocca---0000-0002-7148-1468\"\n",
      "[1] \"Andrea Franzetti--University of Milano Bicocca\"\n",
      "[1] \"Add: 0000-0003-1279-9940\"\n",
      "[1] \"C. Genthon\"\n",
      "[1] \"O. Magand\"\n",
      "[1] \"G. Krinner\"\n",
      "[1] \"M. Fily\"\n",
      "[1] \"Add: 0000-0002-2959-5920\"\n",
      "[1] \"E. Thibert--Domaine universitaire\"\n",
      "[1] \"C. Vincent\"\n",
      "[1] \"Add: 0000-0003-2843-5367\"\n"
     ]
    },
    {
     "name": "stderr",
     "output_type": "stream",
     "text": [
      "Warning message:\n",
      "“Unknown or uninitialised column: `orcid-identifier.path`.”\n",
      "Warning message:\n",
      "“Unknown or uninitialised column: `orcid-identifier.path`.”\n"
     ]
    },
    {
     "name": "stdout",
     "output_type": "stream",
     "text": [
      "[1] \"F.J. Navarro--Departamento de Matemática Aplicada, ETSI de Telecomunicación, Universidad Politécnica de Madrid, Ciudad Universitaria\"\n",
      "[1] \"A.F. Glazovsky--Institute of Geography, Russian Academy of Sciences\"\n",
      "[1] \"Yu.Ya. Macheret--Institute of Geography, Russian Academy of Sciences\"\n",
      "[1] \"E.V. Vasilenko--Institute of Industrial Research Akadempribor, Academy of Sciences of Uzbekistan\"\n",
      "[1] \"M.I. Corcuera--Departamento de Matemática Aplicada, ETSI de Telecomunicación, Universidad Politécnica de Madrid, Ciudad Universitaria\"\n",
      "[1] \"M.L. Cuadrado--Departamento de Matemática Aplicada, ETSI de Telecomunicación, Universidad Politécnica de Madrid, Ciudad Universitaria\"\n",
      "[1] \"Add: 0000-0001-5687-5381\"\n",
      "[1] \"Add: 0000-0001-6275-7517\"\n",
      "[1] \"Add: 0000-0002-5147-0067\"\n"
     ]
    },
    {
     "name": "stderr",
     "output_type": "stream",
     "text": [
      "Warning message:\n",
      "“Unknown or uninitialised column: `orcid-identifier.path`.”\n",
      "Warning message:\n",
      "“Unknown or uninitialised column: `orcid-identifier.path`.”\n",
      "Warning message:\n",
      "“Unknown or uninitialised column: `orcid-identifier.path`.”\n",
      "Warning message:\n",
      "“Unknown or uninitialised column: `orcid-identifier.path`.”\n",
      "Warning message:\n",
      "“Unknown or uninitialised column: `orcid-identifier.path`.”\n",
      "Warning message:\n",
      "“Unknown or uninitialised column: `orcid-identifier.path`.”\n",
      "Warning message:\n",
      "“Unknown or uninitialised column: `orcid-identifier.path`.”\n"
     ]
    },
    {
     "name": "stdout",
     "output_type": "stream",
     "text": [
      "[1] \"Gregory Church--Hydrology and Glaciology\"\n",
      "[1] \"Andreas Bauder--Hydrology and Glaciology\"\n",
      "[1] \"Melchior Grab--Hydrology and Glaciology\"\n",
      "[1] \"Lasse Rabenstein--Hydrology and Glaciology\"\n",
      "[1] \"Satyan Singh--University of Edinburgh\"\n",
      "[1] \"Hansruedi Maurer--Institute of Geophysics\"\n",
      "[1] \"Add: 0000-0003-0114-9950\"\n",
      "[1] \"Daiki Nomura--Norwegian Polar Institute, Fram Centre\"\n",
      "[1] \"Philipp Assmy--Norwegian Polar Institute, Fram Centre\"\n",
      "[1] \"Gernot Nehrke--Alfred Wegener Institute for Polar and Marine Research\"\n",
      "[1] \"Mats A. Granskog--Norwegian Polar Institute, Fram Centre\"\n",
      "[1] \"Michael Fischer--Alfred Wegener Institute for Polar and Marine Research\"\n",
      "[1] \"Gerhard S. Dieckmann--Alfred Wegener Institute for Polar and Marine Research\"\n",
      "[1] \"Agneta Fransson--Norwegian Polar Institute, Fram Centre\"\n",
      "[1] \"Yubin Hu--Alfred Wegener Institute for Polar and Marine Research\"\n",
      "[1] \"Bernhard Schnetger--Institute for Chemistry and Biology of the Marine Environment\"\n",
      "[1] \"Add: 0000-0003-0897-2210\"\n",
      "[1] \"Add: 0000-0002-2851-3049\"\n",
      "[1] \"Add: 0000-0003-1638-3977\"\n",
      "[1] \"Add: 0000-0002-5035-4347\"\n",
      "[1] \"W.D. Hibler\"\n",
      "[1] \"A. Roberts\"\n",
      "[1] \"P. Heil\"\n",
      "[1] \"A.Y. Proshutinsky\"\n",
      "[1] \"H.L. Simmons\"\n",
      "[1] \"J. Lovick\"\n",
      "[1] \"Add: 0000-0002-0394-8396\"\n",
      "[1] \"Add: 0000-0003-2078-0342\"\n"
     ]
    },
    {
     "name": "stderr",
     "output_type": "stream",
     "text": [
      "Warning message:\n",
      "“Unknown or uninitialised column: `orcid-identifier.path`.”\n",
      "Warning message:\n",
      "“Unknown or uninitialised column: `orcid-identifier.path`.”\n",
      "Warning message:\n",
      "“Unknown or uninitialised column: `orcid-identifier.path`.”\n",
      "Warning message:\n",
      "“Unknown or uninitialised column: `orcid-identifier.path`.”\n"
     ]
    },
    {
     "name": "stdout",
     "output_type": "stream",
     "text": [
      "[1] \"M. Möller--RWTH Aachen University\"\n",
      "[1] \"C. Schneider--RWTH Aachen University\"\n",
      "[1] \"R. Kilian--University of Trier\"\n",
      "[1] \"Add: 0000-0002-4503-0989\"\n",
      "[1] \"Add: 0000-0002-9914-3217\"\n"
     ]
    },
    {
     "name": "stderr",
     "output_type": "stream",
     "text": [
      "Warning message:\n",
      "“Unknown or uninitialised column: `orcid-identifier.path`.”\n"
     ]
    },
    {
     "name": "stdout",
     "output_type": "stream",
     "text": [
      "[1] \"J. Mouginot--University of California Irvine\"\n",
      "[1] \"E. Rignot--University of California Irvine\"\n",
      "[1] \"Y. Gim--California Institute of Technology\"\n",
      "[1] \"D. Kirchner--University of Iowa\"\n",
      "[1] \"E. Le Meur\"\n",
      "[1] \"Add: 0000-0001-9155-5455\"\n",
      "[1] \"Add: 0000-0002-3366-0481\"\n",
      "[1] \"Rebecca Schlegel--Alfred-Wegener-Institute Helmholtz Centre for Polar and Marine Research\"\n",
      "[1] \"Anja Diez--Norwegian Polar Institute\"\n",
      "[1] \"Henning Löwe--WSL Institute for Snow and Avalanche Research SLF---0000-0001-7515-6809\"\n",
      "[1] \"Christoph Mayer--Bavarian Academy of Sciences and Humanities\"\n",
      "[1] \"Astrid Lambrecht--Bavarian Academy of Sciences and Humanities\"\n",
      "[1] \"Johannes Freitag--Alfred-Wegener-Institute Helmholtz Centre for Polar and Marine Research\"\n",
      "[1] \"Heinrich Miller--Alfred-Wegener-Institute Helmholtz Centre for Polar and Marine Research\"\n",
      "[1] \"Coen Hofstede--Alfred-Wegener-Institute Helmholtz Centre for Polar and Marine Research\"\n",
      "[1] \"Olaf Eisen--Alfred-Wegener-Institute Helmholtz Centre for Polar and Marine Research\"\n",
      "[1] \"Add: 0000-0003-1149-2816\"\n",
      "[1] \"Add: 0000-0001-6443-6135\"\n"
     ]
    },
    {
     "name": "stderr",
     "output_type": "stream",
     "text": [
      "Warning message:\n",
      "“Unknown or uninitialised column: `orcid-identifier.path`.”\n",
      "Warning message:\n",
      "“Unknown or uninitialised column: `orcid-identifier.path`.”\n",
      "Warning message:\n",
      "“Unknown or uninitialised column: `orcid-identifier.path`.”\n"
     ]
    },
    {
     "name": "stdout",
     "output_type": "stream",
     "text": [
      "[1] \"P.G. Talalay--St Petersburg State Mining Institute\"\n",
      "[1] \"Add: 0000-0002-8230-4600\"\n"
     ]
    },
    {
     "name": "stderr",
     "output_type": "stream",
     "text": [
      "Warning message:\n",
      "“Unknown or uninitialised column: `orcid-identifier.path`.”\n",
      "Warning message:\n",
      "“Unknown or uninitialised column: `orcid-identifier.path`.”\n",
      "Warning message:\n",
      "“Unknown or uninitialised column: `orcid-identifier.path`.”\n",
      "Warning message:\n",
      "“Unknown or uninitialised column: `orcid-identifier.path`.”\n"
     ]
    },
    {
     "name": "stdout",
     "output_type": "stream",
     "text": [
      "[1] \"Frank Rau--Department of Physical Geography, University of Freiburg\"\n",
      "[1] \"Matthias Braun--Department of Physical Geography, University of Freiburg\"\n",
      "[1] \"Add: 0000-0001-5169-1567\"\n"
     ]
    },
    {
     "name": "stderr",
     "output_type": "stream",
     "text": [
      "Warning message:\n",
      "“Unknown or uninitialised column: `orcid-identifier.path`.”\n"
     ]
    },
    {
     "name": "stdout",
     "output_type": "stream",
     "text": [
      "[1] \"Mengxi Zhai--State Key Laboratory of Remote Sensing Science\"\n",
      "[1] \"Xinqing Li--State Key Laboratory of Remote Sensing Science\"\n",
      "[1] \"Fengming Hui--State Key Laboratory of Remote Sensing Science\"\n",
      "[1] \"Xiao Cheng--State Key Laboratory of Remote Sensing Science\"\n",
      "[1] \"Petra Heil--Australian Antarctic Division and Antarctic Climate and Ecosystems Cooperative Research Centre\"\n",
      "[1] \"Tiancheng Zhao--State Key Laboratory of Remote Sensing Science\"\n",
      "[1] \"Tianyu Jiang--State Key Laboratory of Remote Sensing Science\"\n",
      "[1] \"Cheng Cheng--State Key Laboratory of Remote Sensing Science\"\n",
      "[1] \"Tianyu Ci--State Key Laboratory of Remote Sensing Science\"\n",
      "[1] \" Yan Liu--State Key Laboratory of Remote Sensing Science\"\n",
      "[1] \"Zhaohui Chi--Department of Geography\"\n",
      "[1] \"Jian Liu--Polar Research Institute of China\"\n",
      "[1] \"Add: 0000-0002-4842-9573\"\n",
      "[1] \"Add: 0000-0003-2078-0342\"\n",
      "[1] \"Kiya L. Riverman--University of Oregon---0000-0002-8033-3096\"\n",
      "[1] \"Sridhar Anandakrishnan--Pennsylvania State University\"\n",
      "[1] \"Richard B. Alley--Pennsylvania State University---0000-0003-1833-0115\"\n",
      "[1] \"Nicholas Holschuh--University of Washington---0000-0003-1703-5085\"\n",
      "[1] \"Christine F. Dow--University of Waterloo---0000-0003-1346-2258\"\n",
      "[1] \"Atsuhiro Muto--Temple University\"\n",
      "[1] \"Byron R. Parizek--Pennsylvania State University\"\n",
      "[1] \"Knut Christianson--University of Washington\"\n",
      "[1] \"Leo E. Peters--University of the West Indies\"\n",
      "[1] \"Add: 0000-0002-1722-2457\"\n"
     ]
    },
    {
     "name": "stderr",
     "output_type": "stream",
     "text": [
      "Warning message:\n",
      "“Unknown or uninitialised column: `orcid-identifier.path`.”\n",
      "Warning message:\n",
      "“Unknown or uninitialised column: `orcid-identifier.path`.”\n"
     ]
    },
    {
     "name": "stdout",
     "output_type": "stream",
     "text": [
      "[1] \"Peter Jansson--Department of Physical Geography, Stockholm University\"\n",
      "[1] \"Jack Kohler--Glacier and Snow Section, Norwegian Water Resources and Energy Administration\"\n",
      "[1] \"Veijo A. Pohjola--Byrd Polar Research Center\"\n",
      "[1] \"Add: 0000-0001-6851-1673\"\n"
     ]
    },
    {
     "name": "stderr",
     "output_type": "stream",
     "text": [
      "Warning message:\n",
      "“Unknown or uninitialised column: `orcid-identifier.path`.”\n"
     ]
    },
    {
     "name": "stdout",
     "output_type": "stream",
     "text": [
      "[1] \"Andrea Fischer\"\n",
      "[1] \"Helmut Rott\"\n",
      "[1] \"Helgi Björnsson\"\n",
      "[1] \"Add: 0000-0003-1291-8524\"\n",
      "[1] \"Catherine Ritz\"\n",
      "[1] \"Louis Lliboutry\"\n",
      "[1] \"Claude Rado\"\n",
      "[1] \"Add: 0000-0003-0785-8571\"\n",
      "[1] \"H. Zekollari--Earth System Science and Departement Geografie, Vrije Universiteit\"\n",
      "[1] \"P. Huybrechts--Earth System Science and Departement Geografie, Vrije Universiteit\"\n",
      "[1] \"Add: 0000-0002-7443-4034\"\n",
      "[1] \"Add: 0000-0003-1406-0525\"\n",
      "[1] \"Sune Olander Rasmussen--The Niels Bohr Institute\"\n",
      "[1] \"Katrine Krogh Andersen--The Niels Bohr Institute\"\n",
      "[1] \"Marie-Louise Siggaard-Andersen--The Niels Bohr Institute\"\n",
      "[1] \"Henrik B. Clausen--The Niels Bohr Institute\"\n",
      "[1] \"Add: 0000-0003-4178-2195\"\n",
      "[1] \"Add: 0000-0002-4177-3611\"\n",
      "[1] \"Andrea Fischer--Institute for Interdisciplinary Mountain Research, Austrian Academy of Sciences\"\n",
      "[1] \"Michael Kuhn--University of Innsbruck\"\n",
      "[1] \"Add: 0000-0003-1291-8524\"\n",
      "[1] \"N. L. Bindoff--Antarctic CRC, University of Tasmania\"\n",
      "[1] \"G. D. Williams--Antarctic CRC, University of Tasmania\"\n",
      "[1] \"I. Allison--Antarctic CRC, University of Tasmania\"\n",
      "[1] \"Add: 0000-0001-5662-9519\"\n",
      "[1] \"Olga Sergienko--Department of Geophysical Sciences, University of Chicago\"\n",
      "[1] \"Douglas R. Macayeal--Department of Geophysical Sciences, University of Chicago\"\n",
      "[1] \"Add: 0000-0003-0647-6176\"\n",
      "[1] \"Dorthe Dahl-Jensen--The Niels Bohr Institute for Astronomy, Physics and Geophysics, University of Copenhagen\"\n",
      "[1] \"Vin I. Morgan--Antarctic CRC and Australian Antarctic Division\"\n",
      "[1] \"Alan Elcheikh--Antarctic CRC and Australian Antarctic Division\"\n",
      "[1] \"Add: 0000-0002-1474-1948\"\n"
     ]
    },
    {
     "name": "stderr",
     "output_type": "stream",
     "text": [
      "Warning message:\n",
      "“Unknown or uninitialised column: `orcid-identifier.path`.”\n"
     ]
    },
    {
     "name": "stdout",
     "output_type": "stream",
     "text": [
      "[1] \"Andrew Roberts--Naval Postgraduate School\"\n",
      "[1] \"Anthony Craig--Naval Postgraduate School\"\n",
      "[1] \"Wieslaw Maslowski--Naval Postgraduate School\"\n",
      "[1] \"Robert Osinski--Polish Institute of Oceanology\"\n",
      "[1] \"Alice Duvivier--University of Colorado\"\n",
      "[1] \"Mimi Hughes--University of Colorado\"\n",
      "[1] \"Bart Nijssen--University of Washington\"\n",
      "[1] \"John Cassano--University of Colorado\"\n",
      "[1] \"Michael Brunke--University of Arizona\"\n",
      "[1] \"Add: 0000-0001-8698-0799\"\n",
      "[1] \"Add: 0000-0001-6920-5926\"\n",
      "[1] \"Add: 0000-0002-4554-9289\"\n",
      "[1] \"Add: 0000-0002-0394-8396\"\n",
      "[1] \"Add: 0000-0002-4062-0322\"\n"
     ]
    },
    {
     "name": "stderr",
     "output_type": "stream",
     "text": [
      "Warning message:\n",
      "“Unknown or uninitialised column: `orcid-identifier.path`.”\n",
      "Warning message:\n",
      "“Unknown or uninitialised column: `orcid-identifier.path`.”\n",
      "Warning message:\n",
      "“Unknown or uninitialised column: `orcid-identifier.path`.”\n",
      "Warning message:\n",
      "“Unknown or uninitialised column: `orcid-identifier.path`.”\n",
      "Warning message:\n",
      "“Unknown or uninitialised column: `orcid-identifier.path`.”\n",
      "Warning message:\n",
      "“Unknown or uninitialised column: `orcid-identifier.path`.”\n",
      "Warning message:\n",
      "“Unknown or uninitialised column: `orcid-identifier.path`.”\n",
      "Warning message:\n",
      "“Unknown or uninitialised column: `orcid-identifier.path`.”\n",
      "Warning message:\n",
      "“Unknown or uninitialised column: `orcid-identifier.path`.”\n",
      "Warning message:\n",
      "“Unknown or uninitialised column: `orcid-identifier.path`.”\n",
      "Warning message:\n",
      "“Unknown or uninitialised column: `orcid-identifier.path`.”\n",
      "Warning message:\n",
      "“Unknown or uninitialised column: `orcid-identifier.path`.”\n"
     ]
    },
    {
     "name": "stdout",
     "output_type": "stream",
     "text": [
      "[1] \"Christopher A. Shuman--Earth System Science Interdisciplinary Center, University of Maryland, College Park\"\n",
      "[1] \"Josefino C. Comiso--Oceans and Ice Branch, Laboratory for Hydrospheric Processes\"\n",
      "[1] \"Add: 0000-0002-0875-7433\"\n"
     ]
    },
    {
     "name": "stderr",
     "output_type": "stream",
     "text": [
      "Warning message:\n",
      "“Unknown or uninitialised column: `orcid-identifier.path`.”\n"
     ]
    },
    {
     "name": "stdout",
     "output_type": "stream",
     "text": [
      "[1] \"Teija Kekonen--Arctic Centre\"\n",
      "[1] \"John C. Moore--Arctic Centre\"\n",
      "[1] \"Robert Mulvaney--British Antarctic Survey\"\n",
      "[1] \"Elisabeth Isaksson--Norwegian Polar Institute\"\n",
      "[1] \"Veijo Pohjola--Department of Earth Sciences\"\n",
      "[1] \"Roderik S. W. van de Wal--Institute for Marine and Atmospheric Research\"\n",
      "[1] \"Add: 0000-0001-6851-1673\"\n",
      "[1] \"Add: 0000-0002-5372-8148\"\n",
      "[1] \"Dmitry Eliseev--III. Physikalisches Institut, RWTH Aachen University\"\n",
      "[1] \"Dirk Heinen--III. Physikalisches Institut, RWTH Aachen University\"\n",
      "[1] \"Klaus Helbing--Department of Physics, University of Wuppertal\"\n",
      "[1] \"Ruth Hoffmann--Department of Physics, University of Wuppertal\"\n",
      "[1] \"Uwe Naumann--Department of Physics, University of Wuppertal\"\n",
      "[1] \"Franziska Scholz--III. Physikalisches Institut, RWTH Aachen University\"\n",
      "[1] \"Christopher Wiebusch--III. Physikalisches Institut, RWTH Aachen University\"\n",
      "[1] \"Simon Zierke--III. Physikalisches Institut, RWTH Aachen University\"\n",
      "[1] \"Add: 0000-0002-4502-7288\"\n",
      "[1] \"Add: 0000-0002-6418-3008\"\n"
     ]
    },
    {
     "name": "stderr",
     "output_type": "stream",
     "text": [
      "Warning message:\n",
      "“Unknown or uninitialised column: `orcid-identifier.path`.”\n",
      "Warning message:\n",
      "“Unknown or uninitialised column: `orcid-identifier.path`.”\n",
      "Warning message:\n",
      "“Unknown or uninitialised column: `orcid-identifier.path`.”\n",
      "Warning message:\n",
      "“Unknown or uninitialised column: `orcid-identifier.path`.”\n",
      "Warning message:\n",
      "“Unknown or uninitialised column: `orcid-identifier.path`.”\n"
     ]
    },
    {
     "name": "stdout",
     "output_type": "stream",
     "text": [
      "[1] \"Jay A. Johnson--University of Wisconsin-Madison\"\n",
      "[1] \"Tanner Kuhl--University of Wisconsin-Madison\"\n",
      "[1] \"Grant Boeckmann--University of Wisconsin-Madison\"\n",
      "[1] \"Chris Gibson--University of Wisconsin-Madison\"\n",
      "[1] \"Joshua Jetson--University of Wisconsin-Madison\"\n",
      "[1] \"Zachary Meulemans--University of Wisconsin-Madison\"\n",
      "[1] \"Kristina Slawny--University of Wisconsin-Madison\"\n",
      "[1] \"Joseph M. Souney--University of New Hampshire---0000-0002-1492-6432\"\n"
     ]
    },
    {
     "name": "stderr",
     "output_type": "stream",
     "text": [
      "Warning message:\n",
      "“Unknown or uninitialised column: `orcid-identifier.path`.”\n",
      "Warning message:\n",
      "“Unknown or uninitialised column: `orcid-identifier.path`.”\n",
      "Warning message:\n",
      "“Unknown or uninitialised column: `orcid-identifier.path`.”\n",
      "Warning message:\n",
      "“Unknown or uninitialised column: `orcid-identifier.path`.”\n",
      "Warning message:\n",
      "“Unknown or uninitialised column: `orcid-identifier.path`.”\n",
      "Warning message:\n",
      "“Unknown or uninitialised column: `orcid-identifier.path`.”\n",
      "Warning message:\n",
      "“Unknown or uninitialised column: `orcid-identifier.path`.”\n",
      "Warning message:\n",
      "“Unknown or uninitialised column: `orcid-identifier.path`.”\n"
     ]
    },
    {
     "name": "stdout",
     "output_type": "stream",
     "text": [
      "[1] \"Veijo A. Pohjola\"\n",
      "[1] \"Jim Hedfors\"\n",
      "[1] \"Add: 0000-0001-6851-1673\"\n"
     ]
    },
    {
     "name": "stderr",
     "output_type": "stream",
     "text": [
      "Warning message:\n",
      "“Unknown or uninitialised column: `orcid-identifier.path`.”\n",
      "Warning message:\n",
      "“Unknown or uninitialised column: `orcid-identifier.path`.”\n",
      "Warning message:\n",
      "“Unknown or uninitialised column: `orcid-identifier.path`.”\n",
      "Warning message:\n",
      "“Unknown or uninitialised column: `orcid-identifier.path`.”\n",
      "Warning message:\n",
      "“Unknown or uninitialised column: `orcid-identifier.path`.”\n",
      "Warning message:\n",
      "“Unknown or uninitialised column: `orcid-identifier.path`.”\n",
      "Warning message:\n",
      "“Unknown or uninitialised column: `orcid-identifier.path`.”\n",
      "Warning message:\n",
      "“Unknown or uninitialised column: `orcid-identifier.path`.”\n",
      "Warning message:\n",
      "“Unknown or uninitialised column: `orcid-identifier.path`.”\n",
      "Warning message:\n",
      "“Unknown or uninitialised column: `orcid-identifier.path`.”\n",
      "Warning message:\n",
      "“Unknown or uninitialised column: `orcid-identifier.path`.”\n"
     ]
    },
    {
     "name": "stdout",
     "output_type": "stream",
     "text": [
      "[1] \"Alessandro Forieri--Universita` degli Studi di Milano\"\n",
      "[1] \"Luisa Zuccoli--Universita` degli Studi di Siena, Dip. Scienze della Terra\"\n",
      "[1] \"Alfredo Bini--Universita` degli Studi di Milano\"\n",
      "[1] \"Achille Zirizzotti--Istituto Nazionale Geofisica e Vulcanologia\"\n",
      "[1] \"Frédérique Remy\"\n",
      "[1] \"Ignazio E. Tabacco--Universita` degli Studi di Milano\"\n",
      "[1] \"Add: 0000-0001-7586-9219\"\n"
     ]
    },
    {
     "name": "stderr",
     "output_type": "stream",
     "text": [
      "Warning message:\n",
      "“Unknown or uninitialised column: `orcid-identifier.path`.”\n"
     ]
    },
    {
     "name": "stdout",
     "output_type": "stream",
     "text": [
      "[1] \"Azamat Kaldybayev--Xinjiang Institute of Ecology and Geography\"\n",
      "[1] \"Yaning Chen--Xinjiang Institute of Ecology and Geography\"\n",
      "[1] \"Evgeniy Vilesov--Al-Farabi Kazakh National University\"\n",
      "[1] \"Add: 0000-0002-0563-282X\"\n"
     ]
    },
    {
     "name": "stderr",
     "output_type": "stream",
     "text": [
      "Warning message:\n",
      "“Unknown or uninitialised column: `orcid-identifier.path`.”\n",
      "Warning message:\n",
      "“Unknown or uninitialised column: `orcid-identifier.path`.”\n",
      "Warning message:\n",
      "“Unknown or uninitialised column: `orcid-identifier.path`.”\n",
      "Warning message:\n",
      "“Unknown or uninitialised column: `orcid-identifier.path`.”\n",
      "Warning message:\n",
      "“Unknown or uninitialised column: `orcid-identifier.path`.”\n"
     ]
    },
    {
     "name": "stdout",
     "output_type": "stream",
     "text": [
      "[1] \"Luke Copland--University of Ottawa\"\n",
      "[1] \"Sierra Pope--University of Ottawa\"\n",
      "[1] \"Michael P. Bishop--University of Nebraska at Omaha\"\n",
      "[1] \"John F. Shroder, --University of Nebraska at Omaha\"\n",
      "[1] \"Penelope Clendon--University of Canterbury\"\n",
      "[1] \"Andrew Bush--University of Alberta\"\n",
      "[1] \"Ulrich Kamp--University of Montana\"\n",
      "[1] \"Yeong Bae Seong--Korea University\"\n",
      "[1] \"Lewis A. Owen--University of Cincinnati\"\n",
      "[1] \"Add: 0000-0002-2525-5160\"\n",
      "[1] \"Alexandre M. Anesio--Bristol Glaciology Centre, School of Geographical Sciences, University of Bristol\"\n",
      "[1] \"Birgit Sattler--Institute of Ecology, University of Innsbruck\"\n",
      "[1] \"Christine Foreman--Center for Biofilm Engineering and Department of Land Resources and Environmental Sciences, Montana State University\"\n",
      "[1] \"Jon Telling--Bristol Glaciology Centre, School of Geographical Sciences, University of Bristol\"\n",
      "[1] \"Andy Hodson--Department of Geography, University of Sheffield\"\n",
      "[1] \"Martyn Tranter--Bristol Glaciology Centre, School of Geographical Sciences, University of Bristol\"\n",
      "[1] \"Roland Psenner--Institute of Ecology, University of Innsbruck\"\n",
      "[1] \"Add: 0000-0002-8180-0979\"\n",
      "[1] \"Add: 0000-0003-0230-4692\"\n",
      "[1] \"Add: 0000-0002-1255-7987\"\n"
     ]
    },
    {
     "name": "stderr",
     "output_type": "stream",
     "text": [
      "Warning message:\n",
      "“Unknown or uninitialised column: `orcid-identifier.path`.”\n",
      "Warning message:\n",
      "“Unknown or uninitialised column: `orcid-identifier.path`.”\n",
      "Warning message:\n",
      "“Unknown or uninitialised column: `orcid-identifier.path`.”\n",
      "Warning message:\n",
      "“Unknown or uninitialised column: `orcid-identifier.path`.”\n",
      "Warning message:\n",
      "“Unknown or uninitialised column: `orcid-identifier.path`.”\n"
     ]
    },
    {
     "name": "stdout",
     "output_type": "stream",
     "text": [
      "[1] \"C. Genthon\"\n",
      "[1] \"G. Krinner\"\n",
      "[1] \"H. Castebrunet\"\n",
      "[1] \"Add: 0000-0002-2959-5920\"\n",
      "[1] \"Agneta Fransson--Norwegian Polar Institute, Fram Centre---0000-0003-1403-2110\"\n",
      "[1] \"Melissa Chierici--Institute of Marine Research, Fram Centre---0000-0003-0222-2101\"\n",
      "[1] \"Daiki Nomura--Faculty of Fisheries Sciences, Hokkaido University\"\n",
      "[1] \"Mats A. Granskog--Norwegian Polar Institute, Fram Centre---0000-0002-5035-4347\"\n",
      "[1] \"Svein Kristiansen--UiT The Arctic University of Norway\"\n",
      "[1] \"Tõnu Martma--Institute of Geology, Tallinn University of Technology\"\n",
      "[1] \"Gernot Nehrke--Alfred Wegener Institute, Helmholtz Centre for Polar and Marine Research\"\n"
     ]
    },
    {
     "name": "stderr",
     "output_type": "stream",
     "text": [
      "Warning message:\n",
      "“Unknown or uninitialised column: `orcid-identifier.path`.”\n",
      "Warning message:\n",
      "“Unknown or uninitialised column: `orcid-identifier.path`.”\n",
      "Warning message:\n",
      "“Unknown or uninitialised column: `orcid-identifier.path`.”\n",
      "Warning message:\n",
      "“Unknown or uninitialised column: `orcid-identifier.path`.”\n",
      "Warning message:\n",
      "“Unknown or uninitialised column: `orcid-identifier.path`.”\n",
      "Warning message:\n",
      "“Unknown or uninitialised column: `orcid-identifier.path`.”\n"
     ]
    },
    {
     "name": "stdout",
     "output_type": "stream",
     "text": [
      "[1] \"Ralf Greve--Institute of Low Temperature Science\"\n",
      "[1] \"Fuyuki Saito--Japan Agency for Marine–Earth Science and Technology\"\n",
      "[1] \"Ayako Abe-Ouchi--Atmosphere and Ocean Research Institute\"\n",
      "[1] \"Add: 0000-0001-5935-9614\"\n",
      "[1] \"Add: 0000-0002-1341-4777\"\n",
      "[1] \"Add: 0000-0003-1745-5952\"\n"
     ]
    },
    {
     "name": "stderr",
     "output_type": "stream",
     "text": [
      "Warning message:\n",
      "“Unknown or uninitialised column: `orcid-identifier.path`.”\n",
      "Warning message:\n",
      "“Unknown or uninitialised column: `orcid-identifier.path`.”\n",
      "Warning message:\n",
      "“Unknown or uninitialised column: `orcid-identifier.path`.”\n"
     ]
    },
    {
     "name": "stdout",
     "output_type": "stream",
     "text": [
      "[1] \"Andrew R. Mahoney\"\n",
      "[1] \"Hajo Eicken\"\n",
      "[1] \"Yasushi Fukamachi\"\n",
      "[1] \"Kay I. Ohshima\"\n",
      "[1] \"Daisuke Simizu\"\n",
      "[1] \"Chandra Kambhamettu\"\n",
      "[1] \"M.V. Rohith\"\n",
      "[1] \"Stefan Hendricks\"\n",
      "[1] \"Joshua Jones\"\n",
      "[1] \"Add: 0000-0001-5798-9380\"\n",
      "[1] \"Add: 0000-0002-1412-3146\"\n",
      "[1] \"M. Similä--Finnish Meteorological Institute, Marine Research Unit, Ice Research Group\"\n",
      "[1] \"M. Mäkynen--Finnish Meteorological Institute, Marine Research Unit, Ice Research Group\"\n",
      "[1] \"B. Cheng--Finnish Meteorological Institute, Marine Research Unit, Ice Research Group\"\n",
      "[1] \"E. Rinne--Finnish Meteorological Institute, Marine Research Unit, Ice Research Group\"\n",
      "[1] \"Add: 0000-0003-1250-6300\"\n"
     ]
    },
    {
     "name": "stderr",
     "output_type": "stream",
     "text": [
      "Warning message:\n",
      "“Unknown or uninitialised column: `orcid-identifier.path`.”\n",
      "Warning message:\n",
      "“Unknown or uninitialised column: `orcid-identifier.path`.”\n",
      "Warning message:\n",
      "“Unknown or uninitialised column: `orcid-identifier.path`.”\n",
      "Warning message:\n",
      "“Unknown or uninitialised column: `orcid-identifier.path`.”\n",
      "Warning message:\n",
      "“Unknown or uninitialised column: `orcid-identifier.path`.”\n",
      "Warning message:\n",
      "“Unknown or uninitialised column: `orcid-identifier.path`.”\n",
      "Warning message:\n",
      "“Unknown or uninitialised column: `orcid-identifier.path`.”\n",
      "Warning message:\n",
      "“Unknown or uninitialised column: `orcid-identifier.path`.”\n",
      "Warning message:\n",
      "“Unknown or uninitialised column: `orcid-identifier.path`.”\n"
     ]
    },
    {
     "name": "stdout",
     "output_type": "stream",
     "text": [
      "[1] \"Stefan Kern\"\n",
      "[1] \"Youmin Chen\"\n",
      "[1] \"Detlef Stammer\"\n",
      "[1] \"Gunnar Spreen\"\n",
      "[1] \"Add: 0000-0003-0165-8448\"\n",
      "[1] \"Add: 0000-0001-7281-3746\"\n"
     ]
    },
    {
     "name": "stderr",
     "output_type": "stream",
     "text": [
      "Warning message:\n",
      "“Unknown or uninitialised column: `orcid-identifier.path`.”\n",
      "Warning message:\n",
      "“Unknown or uninitialised column: `orcid-identifier.path`.”\n"
     ]
    },
    {
     "name": "stdout",
     "output_type": "stream",
     "text": [
      "[1] \"A. Capra--Department of Structural, Transport, Water, Surveying and Territorial Engineering (DISTART), University of Bologna\"\n",
      "[1] \"R. Cefalo--Department of Civil Engineering, University of Trieste\"\n",
      "[1] \"S. Gandolfi--Department of Structural, Transport, Water, Surveying and Territorial Engineering (DISTART), University of Bologna\"\n",
      "[1] \"G. Manzoni--Department of Civil Engineering, University of Trieste\"\n",
      "[1] \"I. E. Tabacco--Division of Geophysics, Department of Earth Sciences, University of Milano\"\n",
      "[1] \"L. Vittuari--Department of Structural, Transport, Water, Surveying and Territorial Engineering (DISTART), University of Bologna\"\n",
      "[1] \"Add: 0000-0001-5369-9618\"\n",
      "[1] \"Add: 0000-0001-6660-3291\"\n"
     ]
    },
    {
     "name": "stderr",
     "output_type": "stream",
     "text": [
      "Warning message:\n",
      "“Unknown or uninitialised column: `orcid-identifier.path`.”\n"
     ]
    },
    {
     "name": "stdout",
     "output_type": "stream",
     "text": [
      "[1] \"George Royston-Bishop--Bristol Glaciology Centre, School of Geographical Sciences, University of Bristol\"\n",
      "[1] \"Martyn Tranter--Bristol Glaciology Centre, School of Geographical Sciences, University of Bristol\"\n",
      "[1] \"Martin J. Siegert--Bristol Glaciology Centre, School of Geographical Sciences, University of Bristol\"\n",
      "[1] \"Victoria Lee--Bristol Glaciology Centre, School of Geographical Sciences, University of Bristol\"\n",
      "[1] \"Paul D. Bates--Bristol Glaciology Centre, School of Geographical Sciences, University of Bristol\"\n",
      "[1] \"Add: 0000-0003-2071-3094\"\n",
      "[1] \"Add: 0000-0001-9192-9963\"\n",
      "[1] \"A. Hori--Institute of Low Temperature Science, Hokkaido University\"\n",
      "[1] \"K. Tayuki--Institute of Low Temperature Science, Hokkaido University\"\n",
      "[1] \"H. Narita--Institute of Low Temperature Science, Hokkaido University\"\n",
      "[1] \"T. Hondoh--Institute of Low Temperature Science, Hokkaido University\"\n",
      "[1] \"S. Fujita--Department of Applied Physics, Hokkaido University\"\n",
      "[1] \"T. Kameda--Kitami Institute of Technology\"\n",
      "[1] \"H. Shoji--Kitami Institute of Technology\"\n",
      "[1] \"N. Azuma--Department of Mechanical Engineering, Nagaoka University of Technology\"\n",
      "[1] \"K. Kamiyama--National Institute of Polar Research\"\n",
      "[1] \"Y. Fujii--National Institute of Polar Research\"\n",
      "[1] \"H. Motoyama--National Institute of Polar Research\"\n",
      "[1] \"O. Watanabe--National Institute of Polar Research\"\n",
      "[1] \"Add: 0000-0003-4129-022X\"\n"
     ]
    },
    {
     "name": "stderr",
     "output_type": "stream",
     "text": [
      "Warning message:\n",
      "“Unknown or uninitialised column: `orcid-identifier.path`.”\n"
     ]
    },
    {
     "name": "stdout",
     "output_type": "stream",
     "text": [
      "[1] \"Toby W. Meierbachtol--University of Montana\"\n",
      "[1] \"Joel T. Harper--University of Montana\"\n",
      "[1] \"Neil F. Humphrey--University of Wyoming\"\n",
      "[1] \"Patrick J. Wright--University of Montana\"\n",
      "[1] \"Add: 0000-0003-2999-9076\"\n",
      "[1] \"Add: 0000-0002-5175-2080\"\n"
     ]
    },
    {
     "name": "stderr",
     "output_type": "stream",
     "text": [
      "Warning message:\n",
      "“Unknown or uninitialised column: `orcid-identifier.path`.”\n",
      "Warning message:\n",
      "“Unknown or uninitialised column: `orcid-identifier.path`.”\n"
     ]
    },
    {
     "name": "stdout",
     "output_type": "stream",
     "text": [
      "[1] \"Zhongping Zhao--Laboratory of Cryosphere and Environment/Tien Shan Glaciological Station, Cold and Arid Regions Environmental and Engineering Research Institute, Chinese Academy of Sciences\"\n",
      "[1] \"Zhongqin Li--Laboratory of Cryosphere and Environment/Tien Shan Glaciological Station, Cold and Arid Regions Environmental and Engineering Research Institute, Chinese Academy of Sciences\"\n",
      "[1] \"Ross Edwards--Desert Research Institute\"\n",
      "[1] \"Feiteng Wang--Laboratory of Cryosphere and Environment/Tien Shan Glaciological Station, Cold and Arid Regions Environmental and Engineering Research Institute, Chinese Academy of Sciences\"\n",
      "[1] \"Huilin Li--Laboratory of Cryosphere and Environment/Tien Shan Glaciological Station, Cold and Arid Regions Environmental and Engineering Research Institute, Chinese Academy of Sciences\"\n",
      "[1] \"Yuman Zhu--Laboratory of Cryosphere and Environment/Tien Shan Glaciological Station, Cold and Arid Regions Environmental and Engineering Research Institute, Chinese Academy of Sciences\"\n",
      "[1] \"Add: 0000-0002-9233-8775\"\n",
      "[1] \"Takayuki Miyake--National Institute of Polar Research\"\n",
      "[1] \"Fumio Nakazawa--Faculty of Science, Shinshu University\"\n",
      "[1] \"Hiroshi Sakugawa--Graduate School of Biosphere Science, Hiroshima University, Higashi–Hiroshima\"\n",
      "[1] \"Nozomu Takeuchi--Graduate School of Science and Technology, Chiba University\"\n",
      "[1] \"Koji Fujita--Graduate School of Environmental Studies, Nagoya University\"\n",
      "[1] \"Keiichi Ohta--School of Environmental Science, The University of Shiga Prefecture\"\n",
      "[1] \"Masayoshi Nakawo--Research Institute for Humanity and Nature\"\n",
      "[1] \"Add: 0000-0002-3267-5534\"\n",
      "[1] \"Add: 0000-0003-3753-4981\"\n",
      "[1] \"Catherine Ritz\"\n",
      "[1] \"Add: 0000-0003-0785-8571\"\n"
     ]
    },
    {
     "name": "stderr",
     "output_type": "stream",
     "text": [
      "Warning message:\n",
      "“Unknown or uninitialised column: `orcid-identifier.path`.”\n"
     ]
    },
    {
     "name": "stdout",
     "output_type": "stream",
     "text": [
      "[1] \"Lukas E. Preiswerk--Laboratory of Hydraulics, Hydrology and Glaciology (VAW), ETH Zürich---0000-0003-4039-2144\"\n",
      "[1] \"Clotaire Michel--Swiss Seismological Service (SED), ETH Zürich\"\n",
      "[1] \"Fabian Walter--Laboratory of Hydraulics, Hydrology and Glaciology (VAW), ETH Zürich\"\n",
      "[1] \"Donat Fäh--Swiss Seismological Service (SED), ETH Zürich\"\n",
      "[1] \"Add: 0000-0001-6938-8400\"\n",
      "[1] \"Add: 0000-0001-6952-2761\"\n"
     ]
    },
    {
     "name": "stderr",
     "output_type": "stream",
     "text": [
      "Warning message:\n",
      "“Unknown or uninitialised column: `orcid-identifier.path`.”\n"
     ]
    },
    {
     "name": "stdout",
     "output_type": "stream",
     "text": [
      "[1] \"Marco Möller--Department of Geography, RWTH Aachen University\"\n",
      "[1] \"Roman Finkelnburg--Department of Ecology, Technische Universität Berlin\"\n",
      "[1] \"Matthias Braun--Department of Geography, Friedrich-Alexander-University Erlangen-Nürnberg\"\n",
      "[1] \"Dieter Scherer--Department of Ecology, Technische Universität Berlin\"\n",
      "[1] \"Christoph Schneider--Department of Geography, RWTH Aachen University\"\n",
      "[1] \"Add: 0000-0002-4503-0989\"\n",
      "[1] \"Add: 0000-0002-9914-3217\"\n",
      "[1] \"Add: 0000-0001-5169-1567\"\n"
     ]
    },
    {
     "name": "stderr",
     "output_type": "stream",
     "text": [
      "Warning message:\n",
      "“Unknown or uninitialised column: `orcid-identifier.path`.”\n",
      "Warning message:\n",
      "“Unknown or uninitialised column: `orcid-identifier.path`.”\n",
      "Warning message:\n",
      "“Unknown or uninitialised column: `orcid-identifier.path`.”\n"
     ]
    },
    {
     "name": "stdout",
     "output_type": "stream",
     "text": [
      "[1] \"Thomas Geist--Institute of Geography, University of Innsbruck\"\n",
      "[1] \"Hallgeir Elvehøy--Norwegian Water Resources and Energy Directorate (NVE)\"\n",
      "[1] \"Miriam Jackson--Norwegian Water Resources and Energy Directorate (NVE)\"\n",
      "[1] \"Johann Stötter--Institute of Geography, University of Innsbruck\"\n",
      "[1] \"Add: 0000-0003-3719-6716\"\n"
     ]
    },
    {
     "name": "stderr",
     "output_type": "stream",
     "text": [
      "Warning message:\n",
      "“Unknown or uninitialised column: `orcid-identifier.path`.”\n"
     ]
    },
    {
     "name": "stdout",
     "output_type": "stream",
     "text": [
      "[1] \"Andreas Bauder\"\n",
      "[1] \"Martin Funk\"\n",
      "[1] \"G. Hilmar Gudmundsson\"\n",
      "[1] \"Add: 0000-0003-4236-5369\"\n"
     ]
    },
    {
     "name": "stderr",
     "output_type": "stream",
     "text": [
      "Warning message:\n",
      "“Unknown or uninitialised column: `orcid-identifier.path`.”\n"
     ]
    },
    {
     "name": "stdout",
     "output_type": "stream",
     "text": [
      "[1] \"W.G. Rees\"\n",
      "[1] \"I-I Lin\"\n",
      "[1] \"Add: 0000-0001-6020-1232\"\n"
     ]
    },
    {
     "name": "stderr",
     "output_type": "stream",
     "text": [
      "Warning message:\n",
      "“Unknown or uninitialised column: `orcid-identifier.path`.”\n",
      "Warning message:\n",
      "“Unknown or uninitialised column: `orcid-identifier.path`.”\n",
      "Warning message:\n",
      "“Unknown or uninitialised column: `orcid-identifier.path`.”\n",
      "Warning message:\n",
      "“Unknown or uninitialised column: `orcid-identifier.path`.”\n"
     ]
    },
    {
     "name": "stdout",
     "output_type": "stream",
     "text": [
      "[1] \"Gerit Rotschky--Alfred-Wegener-Institut für Polar- und Meeresforschung\"\n",
      "[1] \"Olaf Eisen--Alfred-Wegener-Institut für Polar- und Meeresforschung\"\n",
      "[1] \"Frank Wilhelms--Alfred-Wegener-Institut für Polar- und Meeresforschung\"\n",
      "[1] \"Uwe Nixdorf--Alfred-Wegener-Institut für Polar- und Meeresforschung\"\n",
      "[1] \"Hans Oerter--Alfred-Wegener-Institut für Polar- und Meeresforschung\"\n",
      "[1] \"Add: 0000-0002-6380-962X\"\n"
     ]
    },
    {
     "name": "stderr",
     "output_type": "stream",
     "text": [
      "Warning message:\n",
      "“Unknown or uninitialised column: `orcid-identifier.path`.”\n"
     ]
    },
    {
     "name": "stdout",
     "output_type": "stream",
     "text": [
      "[1] \"Nozomu Takeuchi--Graduate School of Science, Chiba University---0000-0002-3267-5534\"\n",
      "[1] \"Ryutaro Sakaki--Graduate School of Science, Chiba University\"\n",
      "[1] \"Jun Uetake--Colorado State University\"\n",
      "[1] \"Naoko Nagatsuka--National Institute of Polar Research---0000-0002-0852-447X\"\n",
      "[1] \"Rigen Shimada--Japan Aerospace Exploration Agency\"\n",
      "[1] \"Masashi Niwano--Meteorological Research Institute\"\n",
      "[1] \"Teruo Aoki--Meteorological Research Institute\"\n",
      "[1] \"Add: 0000-0003-3121-3802\"\n"
     ]
    },
    {
     "name": "stderr",
     "output_type": "stream",
     "text": [
      "Warning message:\n",
      "“Unknown or uninitialised column: `orcid-identifier.path`.”\n",
      "Warning message:\n",
      "“Unknown or uninitialised column: `orcid-identifier.path`.”\n",
      "Warning message:\n",
      "“Unknown or uninitialised column: `orcid-identifier.path`.”\n",
      "Warning message:\n",
      "“Unknown or uninitialised column: `orcid-identifier.path`.”\n",
      "Warning message:\n",
      "“Unknown or uninitialised column: `orcid-identifier.path`.”\n",
      "Warning message:\n",
      "“Unknown or uninitialised column: `orcid-identifier.path`.”\n"
     ]
    },
    {
     "name": "stdout",
     "output_type": "stream",
     "text": [
      "[1] \"Shuji Fujita--Department of Applied Physics, Graduate School of Engineering, Hokkaido University\"\n",
      "[1] \"Hideo Maeno--Communications Research Laboratory\"\n",
      "[1] \"Teruo Furukawa--National Institute of Polar Research\"\n",
      "[1] \"Kenichi Matsuoka--Institute of Low Temperature Science, Hokkaido University\"\n",
      "[1] \"Add: 0000-0002-3587-3405\"\n",
      "[1] \"Ralf Greve--Technische Universität Darmstadt\"\n",
      "[1] \"Yongqi Wang--Technische Universität Darmstadt\"\n",
      "[1] \"Bernd Mügge--Technische Universität Darmstadt\"\n",
      "[1] \"Add: 0000-0002-1341-4777\"\n"
     ]
    },
    {
     "name": "stderr",
     "output_type": "stream",
     "text": [
      "Warning message:\n",
      "“Unknown or uninitialised column: `orcid-identifier.path`.”\n",
      "Warning message:\n",
      "“Unknown or uninitialised column: `orcid-identifier.path`.”\n",
      "Warning message:\n",
      "“Unknown or uninitialised column: `orcid-identifier.path`.”\n",
      "Warning message:\n",
      "“Unknown or uninitialised column: `orcid-identifier.path`.”\n",
      "Warning message:\n",
      "“Unknown or uninitialised column: `orcid-identifier.path`.”\n",
      "Warning message:\n",
      "“Unknown or uninitialised column: `orcid-identifier.path`.”\n",
      "Warning message:\n",
      "“Unknown or uninitialised column: `orcid-identifier.path`.”\n",
      "Warning message:\n",
      "“Unknown or uninitialised column: `orcid-identifier.path`.”\n"
     ]
    },
    {
     "name": "stdout",
     "output_type": "stream",
     "text": [
      "[1] \"Pascal Buri--Institute of Environmental Engineering\"\n",
      "[1] \"Francesca Pellicciotti--Institute of Environmental Engineering\"\n",
      "[1] \"Jakob F. Steiner--Institute of Environmental Engineering\"\n",
      "[1] \"Evan S. Miles--Scott Polar Research Institute\"\n",
      "[1] \"Walter W. Immerzeel--Utrecht University\"\n",
      "[1] \"Add: 0000-0002-0063-0067\"\n",
      "[1] \"Add: 0000-0001-5446-8571\"\n",
      "[1] \"Add: 0000-0002-2010-9543\"\n"
     ]
    },
    {
     "name": "stderr",
     "output_type": "stream",
     "text": [
      "Warning message:\n",
      "“Unknown or uninitialised column: `orcid-identifier.path`.”\n"
     ]
    },
    {
     "name": "stdout",
     "output_type": "stream",
     "text": [
      "[1] \"Hongzhen Tian\"\n",
      "[1] \"Taibao Yang\"\n",
      "[1] \"Qinping Liu\"\n",
      "[1] \"Add: 0000-0002-0677-597X\"\n",
      "[1] \"C. Vincent\"\n",
      "[1] \"M. Harter\"\n",
      "[1] \"A. Gilbert\"\n",
      "[1] \"E. Berthier\"\n",
      "[1] \"D. SIX\"\n",
      "[1] \"Add: 0000-0001-9009-5143\"\n"
     ]
    },
    {
     "name": "stderr",
     "output_type": "stream",
     "text": [
      "Warning message:\n",
      "“Unknown or uninitialised column: `orcid-identifier.path`.”\n"
     ]
    },
    {
     "name": "stdout",
     "output_type": "stream",
     "text": [
      "[1] \"Yoichi Ito--Public Works Research Institute\"\n",
      "[1] \"Hiroki Matsushita--Civil Engineering Research Institute for Cold Region\"\n",
      "[1] \"Hiroyuki Hirashima--Snow and Ice Research Center\"\n",
      "[1] \"Yasuhiko Ito--Public Works Research Institute\"\n",
      "[1] \"Tomoyuki Noro--Public Works Research Institute\"\n",
      "[1] \"Add: 0000-0002-4720-7688\"\n"
     ]
    },
    {
     "name": "stderr",
     "output_type": "stream",
     "text": [
      "Warning message:\n",
      "“Unknown or uninitialised column: `orcid-identifier.path`.”\n",
      "Warning message:\n",
      "“Unknown or uninitialised column: `orcid-identifier.path`.”\n",
      "Warning message:\n",
      "“Unknown or uninitialised column: `orcid-identifier.path`.”\n",
      "Warning message:\n",
      "“Unknown or uninitialised column: `orcid-identifier.path`.”\n",
      "Warning message:\n",
      "“Unknown or uninitialised column: `orcid-identifier.path`.”\n"
     ]
    },
    {
     "name": "stdout",
     "output_type": "stream",
     "text": [
      "[1] \"J.C. Thouret--Laboratoire Magmas et Volcans, UMR 6524 CNRS, OPGC ad IRD, Université Blaise Pascal\"\n",
      "[1] \"J. Ramírez C.\"\n",
      "[1] \"B. Gibert-Malengreau--Laboratoire Magmas et Volcans, UMR 6524 CNRS, OPGC ad IRD, Université Blaise Pascal\"\n",
      "[1] \"C.A. Vargas--Departamento de Geología, Universidad Nacional, Ciudad Universitaria\"\n",
      "[1] \"J.L. Naranjo--Departamento de Geología, Universidad Nacional, Ciudad Universitaria\"\n",
      "[1] \"J. Vandemeulebrouck--Laboratoire de Géophysique interne et Tectonophysique, UMR C5559, Université de Savoie\"\n",
      "[1] \"F. Valla\"\n",
      "[1] \"M. Funk\"\n",
      "[1] \"Add: 0000-0002-2991-4215\"\n",
      "[1] \"Add: 0000-0002-5027-9519\"\n"
     ]
    },
    {
     "name": "stderr",
     "output_type": "stream",
     "text": [
      "Warning message:\n",
      "“Unknown or uninitialised column: `orcid-identifier.path`.”\n"
     ]
    },
    {
     "name": "stdout",
     "output_type": "stream",
     "text": [
      "[1] \"C.R. Stokes--The University of Reading\"\n",
      "[1] \"V. Popovnin--Moscow State University\"\n",
      "[1] \"A. Aleynikov--Moscow State University\"\n",
      "[1] \"S.D. Gurney--The University of Reading\"\n",
      "[1] \"M. Shahgedanova--The University of Reading\"\n",
      "[1] \"Add: 0000-0002-2320-3885\"\n",
      "[1] \"Add: 0000-0003-3355-1573\"\n"
     ]
    },
    {
     "name": "stderr",
     "output_type": "stream",
     "text": [
      "Warning message:\n",
      "“Unknown or uninitialised column: `orcid-identifier.path`.”\n",
      "Warning message:\n",
      "“Unknown or uninitialised column: `orcid-identifier.path`.”\n",
      "Warning message:\n",
      "“Unknown or uninitialised column: `orcid-identifier.path`.”\n"
     ]
    },
    {
     "name": "stdout",
     "output_type": "stream",
     "text": [
      "[1] \"Qinghua Ye--Institute of Tibetan Plateau Research, Chinese Academy of Sciences\"\n",
      "[1] \"Tandong Yao--Institute of Tibetan Plateau Research, Chinese Academy of Sciences\"\n",
      "[1] \"Shichang Kang--Institute of Tibetan Plateau Research, Chinese Academy of Sciences\"\n",
      "[1] \"Feng Chen--Institute of Tibetan Plateau Research, Chinese Academy of Sciences\"\n",
      "[1] \"Jinghua Wang--Institute of Tibetan Plateau Research, Chinese Academy of Sciences\"\n",
      "[1] \"Add: 0000-0003-2115-9005\"\n",
      "[1] \"Toshiyuki Kawamura--Institute of Low Temperature Science, Hokkaido University\"\n",
      "[1] \"Martin O. Jeffries--Geophysical Institute, University of Alaska Fairbanks\"\n",
      "[1] \"Jean-Louis Tison--Laboratoire de Glaciologie, Département des Sciences de la Terre et de l’Environnement, Faculté des Sciences, CP 160/03, Universite Libre de Bruxelles\"\n",
      "[1] \"H. Roy Krouse--Department of Physics and Astronomy, University of Calgary\"\n",
      "[1] \"Add: 0000-0002-9758-3454\"\n"
     ]
    },
    {
     "name": "stderr",
     "output_type": "stream",
     "text": [
      "Warning message:\n",
      "“Unknown or uninitialised column: `orcid-identifier.path`.”\n"
     ]
    },
    {
     "name": "stdout",
     "output_type": "stream",
     "text": [
      "[1] \"Jonathan Kingslake--Department of Geography, University of Sheffield\"\n",
      "[1] \"Felix Ng--Department of Geography, University of Sheffield\"\n",
      "[1] \"Add: 0000-0001-6352-0351\"\n"
     ]
    },
    {
     "name": "stderr",
     "output_type": "stream",
     "text": [
      "Warning message:\n",
      "“Unknown or uninitialised column: `orcid-identifier.path`.”\n",
      "Warning message:\n",
      "“Unknown or uninitialised column: `orcid-identifier.path`.”\n"
     ]
    },
    {
     "name": "stdout",
     "output_type": "stream",
     "text": [
      "[1] \"Aleksey Marchenko--The University Centre in Svalbard (UNIS)\"\n",
      "[1] \" Eugene Morozov--Shirshov Institute of Oceanology\"\n",
      "[1] \"Sergey Muzylev--Shirshov Institute of Oceanology\"\n",
      "[1] \"Add: 0000-0003-4169-0063\"\n",
      "[1] \"Add: 0000-0002-0251-3454\"\n"
     ]
    },
    {
     "name": "stderr",
     "output_type": "stream",
     "text": [
      "Warning message:\n",
      "“Unknown or uninitialised column: `orcid-identifier.path`.”\n",
      "Warning message:\n",
      "“Unknown or uninitialised column: `orcid-identifier.path`.”\n",
      "Warning message:\n",
      "“Unknown or uninitialised column: `orcid-identifier.path`.”\n",
      "Warning message:\n",
      "“Unknown or uninitialised column: `orcid-identifier.path`.”\n",
      "Warning message:\n",
      "“Unknown or uninitialised column: `orcid-identifier.path`.”\n"
     ]
    },
    {
     "name": "stdout",
     "output_type": "stream",
     "text": [
      "[1] \"Throstur Thorsteinsson\"\n",
      "[1] \"Edwin D. Waddington\"\n",
      "[1] \"Raymond C. Fletcher\"\n",
      "[1] \"Add: 0000-0001-5964-866X\"\n"
     ]
    },
    {
     "name": "stderr",
     "output_type": "stream",
     "text": [
      "Warning message:\n",
      "“Unknown or uninitialised column: `orcid-identifier.path`.”\n",
      "Warning message:\n",
      "“Unknown or uninitialised column: `orcid-identifier.path`.”\n",
      "Warning message:\n",
      "“Unknown or uninitialised column: `orcid-identifier.path`.”\n"
     ]
    },
    {
     "name": "stdout",
     "output_type": "stream",
     "text": [
      "[1] \"Anne S. Palmer--Institute for Antarctic and Southern Ocean Studies\"\n",
      "[1] \"Vin I. Morgan--Antarctic CRC and Australian Antarctic Division\"\n",
      "[1] \"Mark A. J. Curran--Antarctic CRC and Australian Antarctic Division\"\n",
      "[1] \"Tas D. van Ommen--Antarctic CRC and Australian Antarctic Division\"\n",
      "[1] \"Paul A. Mayewski--Climate Studies Center\"\n",
      "[1] \"Add: 0000-0002-2463-1718\"\n"
     ]
    },
    {
     "name": "stderr",
     "output_type": "stream",
     "text": [
      "Warning message:\n",
      "“Unknown or uninitialised column: `orcid-identifier.path`.”\n",
      "Warning message:\n",
      "“Unknown or uninitialised column: `orcid-identifier.path`.”\n",
      "Warning message:\n",
      "“Unknown or uninitialised column: `orcid-identifier.path`.”\n",
      "Warning message:\n",
      "“Unknown or uninitialised column: `orcid-identifier.path`.”\n",
      "Warning message:\n",
      "“Unknown or uninitialised column: `orcid-identifier.path`.”\n",
      "Warning message:\n",
      "“Unknown or uninitialised column: `orcid-identifier.path`.”\n"
     ]
    },
    {
     "name": "stdout",
     "output_type": "stream",
     "text": [
      "[1] \"Jim N. McElwaine--Department of Applied Mathematics and Theoretical Physics, Centre for Mathematical Sciences, University of Cambridge\"\n",
      "[1] \"Add: 0000-0002-6292-2014\"\n",
      "[1] \"Mike Craven\"\n",
      "[1] \"Ian Allison\"\n",
      "[1] \"Russell Brand\"\n",
      "[1] \"Alan Elcheikh\"\n",
      "[1] \"John Hunter\"\n",
      "[1] \"Mark Hemer--Martin Ryan Marine Institute, National University of Ireland, Galway\"\n",
      "[1] \"Shavawn Donoghue\"\n",
      "[1] \"Add: 0000-0002-7725-3474\"\n"
     ]
    },
    {
     "name": "stderr",
     "output_type": "stream",
     "text": [
      "Warning message:\n",
      "“Unknown or uninitialised column: `orcid-identifier.path`.”\n"
     ]
    },
    {
     "name": "stdout",
     "output_type": "stream",
     "text": [
      "[1] \"G.J. Marshall\"\n",
      "[1] \"W.G. Rees\"\n",
      "[1] \"J.A. Dowdeswell\"\n",
      "[1] \"Add: 0000-0001-6020-1232\"\n"
     ]
    },
    {
     "name": "stderr",
     "output_type": "stream",
     "text": [
      "Warning message:\n",
      "“Unknown or uninitialised column: `orcid-identifier.path`.”\n"
     ]
    },
    {
     "name": "stdout",
     "output_type": "stream",
     "text": [
      "[1] \"Yuping Yan--Climate Change Institute\"\n",
      "[1] \"Paul A. Mayewski--Climate Change Institute\"\n",
      "[1] \"Shichang Kang--Climate Change Institute\"\n",
      "[1] \"Eric Meyerson--Climate Change Institute\"\n",
      "[1] \"Add: 0000-0003-2115-9005\"\n"
     ]
    },
    {
     "name": "stderr",
     "output_type": "stream",
     "text": [
      "Warning message:\n",
      "“Unknown or uninitialised column: `orcid-identifier.path`.”\n"
     ]
    },
    {
     "name": "stdout",
     "output_type": "stream",
     "text": [
      "[1] \"Sinéad L. Farrell--University of Maryland\"\n",
      "[1] \"Kelly M. Brunt--University of Maryland\"\n",
      "[1] \"Julia M. Ruth--University of Maryland\"\n",
      "[1] \"John M. Kuhn--NOAA Laboratory for Satellite Altimetry\"\n",
      "[1] \"Laurence N. Connor--NOAA Laboratory for Satellite Altimetry\"\n",
      "[1] \"Kaitlin M. Walsh--Cryospheric Sciences Branch\"\n",
      "[1] \"Add: 0000-0003-3222-2751\"\n",
      "[1] \"Kazuya Kusahara--Hokkaido University\"\n",
      "[1] \"Tatsuru Sato--Hokkaido University\"\n",
      "[1] \"Akira Oka--University of Tokyo\"\n",
      "[1] \"Takashi Obase--University of Tokyo\"\n",
      "[1] \"Ralf Greve--Hokkaido University\"\n",
      "[1] \"Ayako Abe-Ouchi--University of Tokyo\"\n",
      "[1] \"Hiroyasu Hasumi--University of Tokyo\"\n",
      "[1] \"Add: 0000-0002-1341-4777\"\n",
      "[1] \"Add: 0000-0003-1745-5952\"\n"
     ]
    },
    {
     "name": "stderr",
     "output_type": "stream",
     "text": [
      "Warning message:\n",
      "“Unknown or uninitialised column: `orcid-identifier.path`.”\n"
     ]
    },
    {
     "name": "stdout",
     "output_type": "stream",
     "text": [
      "[1] \"Julie Veillette--Departement de Biologie & Centre d’Études Nordiques (CEN), Université Laval\"\n",
      "[1] \"Marie-Josée Martineau--Departement de Biologie & Centre d’Études Nordiques (CEN), Université Laval\"\n",
      "[1] \"Dermot Antoniades--Departement de Biologie & Centre d’Études Nordiques (CEN), Université Laval\"\n",
      "[1] \"Denis Sarrazin--Departement de Biologie & Centre d’Études Nordiques (CEN), Université Laval\"\n",
      "[1] \"Warwick F. Vincent--Departement de Biologie & Centre d’Études Nordiques (CEN), Université Laval\"\n",
      "[1] \"Add: 0000-0001-6629-4839\"\n",
      "[1] \"Add: 0000-0001-9055-1938\"\n",
      "[1] \"Thomas C. Grenfell\"\n",
      "[1] \"Bonnie Light\"\n",
      "[1] \"Donald K. Perovich\"\n",
      "[1] \"Add: 0000-0003-2640-5738\"\n"
     ]
    },
    {
     "name": "stderr",
     "output_type": "stream",
     "text": [
      "Warning message:\n",
      "“Unknown or uninitialised column: `orcid-identifier.path`.”\n"
     ]
    },
    {
     "name": "stdout",
     "output_type": "stream",
     "text": [
      "[1] \"Dieter Issler--Norges Geotekniske Institutt and International Centre for Geohazards\"\n",
      "[1] \"Manuel Pastor Pérez--ETS de Ingenieros de Caminos\"\n",
      "[1] \"Add: 0000-0003-2151-2331\"\n",
      "[1] \"Add: 0000-0001-8080-0013\"\n"
     ]
    },
    {
     "name": "stderr",
     "output_type": "stream",
     "text": [
      "Warning message:\n",
      "“Unknown or uninitialised column: `orcid-identifier.path`.”\n",
      "Warning message:\n",
      "“Unknown or uninitialised column: `orcid-identifier.path`.”\n",
      "Warning message:\n",
      "“Unknown or uninitialised column: `orcid-identifier.path`.”\n"
     ]
    },
    {
     "name": "stdout",
     "output_type": "stream",
     "text": [
      "[1] \"Helgard Anschütz--Alfred-Wegener-Institut für Polar- und Meeresforschung\"\n",
      "[1] \"Olaf Eisen--Alfred-Wegener-Institut für Polar- und Meeresforschung\"\n",
      "[1] \"Hans Oerter--Alfred-Wegener-Institut für Polar- und Meeresforschung\"\n",
      "[1] \"Daniel Steinhage--Alfred-Wegener-Institut für Polar- und Meeresforschung\"\n",
      "[1] \"Mirko Scheinert--Institut für Planetare Geodäsie\"\n",
      "[1] \"Add: 0000-0002-6380-962X\"\n"
     ]
    },
    {
     "name": "stderr",
     "output_type": "stream",
     "text": [
      "Warning message:\n",
      "“Unknown or uninitialised column: `orcid-identifier.path`.”\n"
     ]
    },
    {
     "name": "stdout",
     "output_type": "stream",
     "text": [
      "[1] \"Prateek Gantayat--Divecha Centre for Climate Change, Indian Institute of Science\"\n",
      "[1] \"Anil V. Kulkarni--Divecha Centre for Climate Change, Indian Institute of Science\"\n",
      "[1] \"J. Srinivasan--Divecha Centre for Climate Change, Indian Institute of Science\"\n",
      "[1] \"Maurice J Schmeits--Koninklijk Nederlands Meteorologisch Instituut\"\n",
      "[1] \"Add: 0000-0002-0433-0774\"\n",
      "[1] \"Paul Andrew Mayewski--Climate Change Institute\"\n",
      "[1] \"Kirk A. Maasch--Climate Change Institute\"\n",
      "[1] \"Yuping Yan--Climate Change Institute\"\n",
      "[1] \"Shichang Kang--Climate Change Institute\"\n",
      "[1] \"Eric A. Meyerson--Climate Change Institute\"\n",
      "[1] \"Sharon B. Sneed--Climate Change Institute\"\n",
      "[1] \"Susan D. Kaspari--Climate Change Institute\"\n",
      "[1] \"Daniel A. Dixon--Climate Change Institute\"\n",
      "[1] \"Erich C. Osterberg--Climate Change Institute\"\n",
      "[1] \"Vin I. Morgan\"\n",
      "[1] \"Tas van Ommen\"\n",
      "[1] \"Mark A.J. Curran\"\n",
      "[1] \"Add: 0000-0002-0675-1230\"\n",
      "[1] \"Add: 0000-0002-2463-1718\"\n",
      "[1] \"Add: 0000-0003-2115-9005\"\n",
      "[1] \"Sara De La Rosa--Geophysical Institute,  University of Bergen\"\n",
      "[1] \"Sönke Maus--Geophysical Institute,  University of Bergen\"\n",
      "[1] \"Stefan Kern--Centre for Climate Analysis and Prediction (CliSAP),  University of Hamburg\"\n",
      "[1] \"Add: 0000-0001-7281-3746\"\n"
     ]
    },
    {
     "name": "stderr",
     "output_type": "stream",
     "text": [
      "Warning message:\n",
      "“Unknown or uninitialised column: `orcid-identifier.path`.”\n",
      "Warning message:\n",
      "“Unknown or uninitialised column: `orcid-identifier.path`.”\n",
      "Warning message:\n",
      "“Unknown or uninitialised column: `orcid-identifier.path`.”\n",
      "Warning message:\n",
      "“Unknown or uninitialised column: `orcid-identifier.path`.”\n"
     ]
    },
    {
     "name": "stdout",
     "output_type": "stream",
     "text": [
      "[1] \"Masaki Nemoto--Research Institute for Hazards in Snowy Areas, Niigata University\"\n",
      "[1] \"Kouichi Nishimura--Nagaoka Institute of Snow and Ice Studies, National Research Institute for Earth Science and Disaster Prevention\"\n",
      "[1] \"Syunichi Kobayashi--Research Institute for Hazards in Snowy Areas, Niigata University\"\n",
      "[1] \"Kaoru Izumi--Research Institute for Hazards in Snowy Areas, Niigata University\"\n",
      "[1] \"Add: 0000-0003-2521-2491\"\n"
     ]
    },
    {
     "name": "stderr",
     "output_type": "stream",
     "text": [
      "Warning message:\n",
      "“Unknown or uninitialised column: `orcid-identifier.path`.”\n",
      "Warning message:\n",
      "“Unknown or uninitialised column: `orcid-identifier.path`.”\n",
      "Warning message:\n",
      "“Unknown or uninitialised column: `orcid-identifier.path`.”\n",
      "Warning message:\n",
      "“Unknown or uninitialised column: `orcid-identifier.path`.”\n",
      "Warning message:\n",
      "“Unknown or uninitialised column: `orcid-identifier.path`.”\n",
      "Warning message:\n",
      "“Unknown or uninitialised column: `orcid-identifier.path`.”\n"
     ]
    },
    {
     "name": "stdout",
     "output_type": "stream",
     "text": [
      "[1] \"Justin F. Beckers--University of Alberta\"\n",
      "[1] \"Angelika H.H. Renner--Norwegian Polar Institute\"\n",
      "[1] \"Gunnar Spreen--Norwegian Polar Institute\"\n",
      "[1] \"Sebastian Gerland--Norwegian Polar Institute\"\n",
      "[1] \"Christian Haas--University of Alberta\"\n",
      "[1] \"Add: 0000-0002-9997-6366\"\n",
      "[1] \"Add: 0000-0003-0751-3995\"\n",
      "[1] \"Add: 0000-0003-0165-8448\"\n",
      "[1] \"Add: 0000-0002-7674-3500\"\n",
      "[1] \"Francisca Bown\"\n",
      "[1] \"Andrés Rivera\"\n",
      "[1] \"César Acuña\"\n",
      "[1] \"Add: 0000-0002-2779-4192\"\n"
     ]
    },
    {
     "name": "stderr",
     "output_type": "stream",
     "text": [
      "Warning message:\n",
      "“Unknown or uninitialised column: `orcid-identifier.path`.”\n",
      "Warning message:\n",
      "“Unknown or uninitialised column: `orcid-identifier.path`.”\n"
     ]
    },
    {
     "name": "stdout",
     "output_type": "stream",
     "text": [
      "[1] \"Florie Giacona--Institut des Sciences de l'Environnement – Université de Genève\"\n",
      "[1] \"Nicolas Eckert--University Grenoble Alpes\"\n",
      "[1] \"Robin Mainieri--University Grenoble Alpes\"\n",
      "[1] \"Brice Martin--Université de Haute-Alsace, Centre de recherche sur les Économies\"\n",
      "[1] \"Christophe Corona--GEOLAB, UMR6042 CNRS/Université Blaise Pascal\"\n",
      "[1] \"Jérôme Lopez-Saez--Institut des Sciences de l'Environnement – Université de Genève\"\n",
      "[1] \"Jean-Matthieu Monnet--University Grenoble Alpes\"\n",
      "[1] \"Mohamed Naaim--University Grenoble Alpes\"\n",
      "[1] \"Markus Stoffel--Institut des Sciences de l'Environnement – Université de Genève\"\n",
      "[1] \"Add: 0000-0002-9539-8685\"\n",
      "[1] \"Add: 0000-0002-9948-9891\"\n",
      "[1] \"Add: 0000-0002-1880-8820\"\n"
     ]
    },
    {
     "name": "stderr",
     "output_type": "stream",
     "text": [
      "Warning message:\n",
      "“Unknown or uninitialised column: `orcid-identifier.path`.”\n",
      "Warning message:\n",
      "“Unknown or uninitialised column: `orcid-identifier.path`.”\n",
      "Warning message:\n",
      "“Unknown or uninitialised column: `orcid-identifier.path`.”\n",
      "Warning message:\n",
      "“Unknown or uninitialised column: `orcid-identifier.path`.”\n",
      "Warning message:\n",
      "“Unknown or uninitialised column: `orcid-identifier.path`.”\n",
      "Warning message:\n",
      "“Unknown or uninitialised column: `orcid-identifier.path`.”\n"
     ]
    },
    {
     "name": "stdout",
     "output_type": "stream",
     "text": [
      "[1] \"Shuhei Takahashi--Kitami Institute of Technology\"\n",
      "[1] \"Konosuke Sugiura--Japanese Agency for Marine–Earth Science and Technology\"\n",
      "[1] \"Takao Kameda--Kitami Institute of Technology\"\n",
      "[1] \"Hiroyuki Enomoto--Kitami Institute of Technology\"\n",
      "[1] \"Yury Kononov--Institute of Geography\"\n",
      "[1] \"Maria D. Ananicheva--Institute of Geography\"\n",
      "[1] \"Gregory Kapustin--Institute of Geography\"\n",
      "[1] \"Error in: 2901 owi:0000-0002-0863-592X\"\n",
      "[1] \"Add: 0000-0003-1900-6501\"\n",
      "[1] \"Add: 0000-0003-2303-8928\"\n"
     ]
    },
    {
     "name": "stderr",
     "output_type": "stream",
     "text": [
      "Warning message:\n",
      "“Unknown or uninitialised column: `orcid-identifier.path`.”\n",
      "Warning message:\n",
      "“Unknown or uninitialised column: `orcid-identifier.path`.”\n",
      "Warning message:\n",
      "“Unknown or uninitialised column: `orcid-identifier.path`.”\n",
      "Warning message:\n",
      "“Unknown or uninitialised column: `orcid-identifier.path`.”\n",
      "Warning message:\n",
      "“Unknown or uninitialised column: `orcid-identifier.path`.”\n",
      "Warning message:\n",
      "“Unknown or uninitialised column: `orcid-identifier.path`.”\n",
      "Warning message:\n",
      "“Unknown or uninitialised column: `orcid-identifier.path`.”\n"
     ]
    },
    {
     "name": "stdout",
     "output_type": "stream",
     "text": [
      "[1] \"J. Hong--Polar Research Center, Jilin University\"\n",
      "[1] \"P. Talalay--Polar Research Center, Jilin University\"\n",
      "[1] \"M. Sysoev--Polar Research Center, Jilin University\"\n",
      "[1] \"X. Fan--Polar Research Center, Jilin University\"\n",
      "[1] \"Add: 0000-0002-8230-4600\"\n"
     ]
    },
    {
     "name": "stderr",
     "output_type": "stream",
     "text": [
      "Warning message:\n",
      "“Unknown or uninitialised column: `orcid-identifier.path`.”\n",
      "Warning message:\n",
      "“Unknown or uninitialised column: `orcid-identifier.path`.”\n",
      "Warning message:\n",
      "“Unknown or uninitialised column: `orcid-identifier.path`.”\n"
     ]
    },
    {
     "name": "stdout",
     "output_type": "stream",
     "text": [
      "[1] \"Michiel M. Helsen--Institute for Marine and Atmospheric Research Utrecht, P.O. Box 80.005, Utrecht University\"\n",
      "[1] \"Roderik S. W. Van De Wal--Institute for Marine and Atmospheric Research Utrecht, P.O. Box 80.005, Utrecht University\"\n",
      "[1] \"Michiel R. Van Den Broeke--Institute for Marine and Atmospheric Research Utrecht, P.O. Box 80.005, Utrecht University\"\n",
      "[1] \"Erik R. Th. Kerstel\"\n",
      "[1] \"Valérie Masson-Delmotte\"\n",
      "[1] \"Harro A. J. Meijer\"\n",
      "[1] \"Carleen H. Reijmer--Institute for Marine and Atmospheric Research Utrecht, P.O. Box 80.005, Utrecht University\"\n",
      "[1] \"Marinus P. Scheele--Royal Netherlands Meteorological Institute\"\n",
      "[1] \"Add: 0000-0001-8299-3883\"\n",
      "[1] \"Add: 0000-0001-8296-381X\"\n"
     ]
    },
    {
     "name": "stderr",
     "output_type": "stream",
     "text": [
      "Warning message:\n",
      "“Unknown or uninitialised column: `orcid-identifier.path`.”\n"
     ]
    },
    {
     "name": "stdout",
     "output_type": "stream",
     "text": [
      "[1] \"Andrés Rivera\"\n",
      "[1] \"Javier Corripio\"\n",
      "[1] \"Claudio Bravo\"\n",
      "[1] \"Sebastián Cisternas\"\n",
      "[1] \"Add: 0000-0003-4822-4786\"\n",
      "[1] \"Add: 0000-0002-2779-4192\"\n",
      "[1] \"Yukari Takeuchi--Forestry and Forest Products Research Institute Tokamachi\"\n",
      "[1] \"Koichi Nishimura--Graduate School of Environmental Studies, Nagoya University\"\n",
      "[1] \"Abani Patra--The University at Buffalo\"\n",
      "[1] \"Add: 0000-0003-2521-2491\"\n"
     ]
    },
    {
     "name": "stderr",
     "output_type": "stream",
     "text": [
      "Warning message:\n",
      "“Unknown or uninitialised column: `orcid-identifier.path`.”\n",
      "Warning message:\n",
      "“Unknown or uninitialised column: `orcid-identifier.path`.”\n"
     ]
    },
    {
     "name": "stdout",
     "output_type": "stream",
     "text": [
      "[1] \"Pat Wongpan\"\n",
      "[1] \"Patricia J. Langhorne\"\n",
      "[1] \"David E. Dempsey\"\n",
      "[1] \"Lisa Hahn-Woernle\"\n",
      "[1] \"Zhifa Sun\"\n",
      "[1] \"Add: 0000-0002-7113-8221\"\n",
      "[1] \"Add: 0000-0003-2135-5129\"\n",
      "[1] \"Add: 0000-0003-0239-7657\"\n"
     ]
    },
    {
     "name": "stderr",
     "output_type": "stream",
     "text": [
      "Warning message:\n",
      "“Unknown or uninitialised column: `orcid-identifier.path`.”\n",
      "Warning message:\n",
      "“Unknown or uninitialised column: `orcid-identifier.path`.”\n"
     ]
    },
    {
     "name": "stdout",
     "output_type": "stream",
     "text": [
      "[1] \"Vernon A. Squire\"\n",
      "[1] \"Fox Colin\"\n",
      "[1] \"Add: 0000-0002-9278-1777\"\n"
     ]
    },
    {
     "name": "stderr",
     "output_type": "stream",
     "text": [
      "Warning message:\n",
      "“Unknown or uninitialised column: `orcid-identifier.path`.”\n"
     ]
    },
    {
     "name": "stdout",
     "output_type": "stream",
     "text": [
      "[1] \"José A. Uribe\"\n",
      "[1] \"Rodrigo Zamora\"\n",
      "[1] \"Guisella Gacitúa\"\n",
      "[1] \"Andrés Rivera\"\n",
      "[1] \"David Ulloa\"\n",
      "[1] \"Add: 0000-0002-5281-2719\"\n",
      "[1] \"Add: 0000-0002-2779-4192\"\n",
      "[1] \"P. Heil\"\n",
      "[1] \"C.W. Fowler\"\n",
      "[1] \"S.E. Lake\"\n",
      "[1] \"Add: 0000-0003-2078-0342\"\n",
      "[1] \"M.J. Paget--Antarctic CRC, University of Tasmania\"\n",
      "[1] \"A. P. Worby--Antarctic CRC, University of Tasmania\"\n",
      "[1] \"K. J. Michael--Antarctic CRC, University of Tasmania\"\n",
      "[1] \"Add: 0000-0002-5427-7393\"\n"
     ]
    },
    {
     "name": "stderr",
     "output_type": "stream",
     "text": [
      "Warning message:\n",
      "“Unknown or uninitialised column: `orcid-identifier.path`.”\n",
      "Warning message:\n",
      "“Unknown or uninitialised column: `orcid-identifier.path`.”\n",
      "Warning message:\n",
      "“Unknown or uninitialised column: `orcid-identifier.path`.”\n",
      "Warning message:\n",
      "“Unknown or uninitialised column: `orcid-identifier.path`.”\n",
      "Warning message:\n",
      "“Unknown or uninitialised column: `orcid-identifier.path`.”\n",
      "Warning message:\n",
      "“Unknown or uninitialised column: `orcid-identifier.path`.”\n",
      "Warning message:\n",
      "“Unknown or uninitialised column: `orcid-identifier.path`.”\n",
      "Warning message:\n",
      "“Unknown or uninitialised column: `orcid-identifier.path`.”\n",
      "Warning message:\n",
      "“Unknown or uninitialised column: `orcid-identifier.path`.”\n",
      "Warning message:\n",
      "“Unknown or uninitialised column: `orcid-identifier.path`.”\n",
      "Warning message:\n",
      "“Unknown or uninitialised column: `orcid-identifier.path`.”\n",
      "Warning message:\n",
      "“Unknown or uninitialised column: `orcid-identifier.path`.”\n",
      "Warning message:\n",
      "“Unknown or uninitialised column: `orcid-identifier.path`.”\n",
      "Warning message:\n",
      "“Unknown or uninitialised column: `orcid-identifier.path`.”\n",
      "Warning message:\n",
      "“Unknown or uninitialised column: `orcid-identifier.path`.”\n"
     ]
    },
    {
     "name": "stdout",
     "output_type": "stream",
     "text": [
      "[1] \"N.G. Patterson--Victoria University of Wellington\"\n",
      "[1] \"N.A.N. Bertler--Victoria University of Wellington\"\n",
      "[1] \"T.R. Naish--Victoria University of Wellington\"\n",
      "[1] \"U. Morgenstern--Institute of Geological and Nuclear Sciences Ltd\"\n",
      "[1] \"Add: 0000-0001-6028-4891\"\n",
      "[1] \"Add: 0000-0002-1185-9932\"\n"
     ]
    },
    {
     "name": "stderr",
     "output_type": "stream",
     "text": [
      "Warning message:\n",
      "“Unknown or uninitialised column: `orcid-identifier.path`.”\n",
      "Warning message:\n",
      "“Unknown or uninitialised column: `orcid-identifier.path`.”\n"
     ]
    },
    {
     "name": "stdout",
     "output_type": "stream",
     "text": [
      "[1] \"Monica Sund--The University Centre in Svalbard (UNIS)\"\n",
      "[1] \"Trond Eiken--University of Oslo\"\n",
      "[1] \"Jon Ove Hagen--University of Oslo\"\n",
      "[1] \"Andreas Kääb--University of Oslo\"\n",
      "[1] \"Add: 0000-0002-6017-6564\"\n"
     ]
    },
    {
     "name": "stderr",
     "output_type": "stream",
     "text": [
      "Warning message:\n",
      "“Unknown or uninitialised column: `orcid-identifier.path`.”\n",
      "Warning message:\n",
      "“Unknown or uninitialised column: `orcid-identifier.path`.”\n",
      "Warning message:\n",
      "“Unknown or uninitialised column: `orcid-identifier.path`.”\n"
     ]
    },
    {
     "name": "stdout",
     "output_type": "stream",
     "text": [
      "[1] \"Frank Pattyn\"\n",
      "[1] \"Bert De Smedt\"\n",
      "[1] \"Sang De Brabander\"\n",
      "[1] \"Wim Van Huele\"\n",
      "[1] \"Anna Agatova\"\n",
      "[1] \"Anatoliy Mistrukov\"\n",
      "[1] \"Hugo Decleir\"\n",
      "[1] \"Add: 0000-0002-1823-218X\"\n"
     ]
    },
    {
     "name": "stderr",
     "output_type": "stream",
     "text": [
      "Warning message:\n",
      "“Unknown or uninitialised column: `orcid-identifier.path`.”\n",
      "Warning message:\n",
      "“Unknown or uninitialised column: `orcid-identifier.path`.”\n",
      "Warning message:\n",
      "“Unknown or uninitialised column: `orcid-identifier.path`.”\n",
      "Warning message:\n",
      "“Unknown or uninitialised column: `orcid-identifier.path`.”\n"
     ]
    },
    {
     "name": "stdout",
     "output_type": "stream",
     "text": [
      "[1] \"Takeshi Matsuoka--Okinawa Subtropical Environment Remote Sensing Center, Communications Research Laboratory\"\n",
      "[1] \"Seiho Uratsuka--Applied Research and Standards Division, Communications Research Laboratory\"\n",
      "[1] \"Makoto Satake--Applied Research and Standards Division, Communications Research Laboratory\"\n",
      "[1] \"Akitsugu Nadai--Applied Research and Standards Division, Communications Research Laboratory\"\n",
      "[1] \"Toshihiko Umehara--Applied Research and Standards Division, Communications Research Laboratory\"\n",
      "[1] \"Hideo Maeno--Applied Research and Standards Division, Communications Research Laboratory\"\n",
      "[1] \"Hiroyuki Wakabayashi--Earth Observation Research Center, National Space Development Agency of Japan\"\n",
      "[1] \"Fumihiko Nishio\"\n",
      "[1] \"Yasushi Fukamachi--Institute of Low Temperature Science, Hokkaido University\"\n",
      "[1] \"Add: 0000-0001-5798-9380\"\n"
     ]
    },
    {
     "name": "stderr",
     "output_type": "stream",
     "text": [
      "Warning message:\n",
      "“Unknown or uninitialised column: `orcid-identifier.path`.”\n"
     ]
    },
    {
     "name": "stdout",
     "output_type": "stream",
     "text": [
      "[1] \"Amy F. Ebnet--Department of Geology, Portland State University\"\n",
      "[1] \"Andrew G. Fountain--Department of Geology, Portland State University\"\n",
      "[1] \"Thomas H. Nylen--Department of Geology, Portland State University\"\n",
      "[1] \"Diane M. Mcknight--Institute of Arctic and Alpine Research, University of Colorado\"\n",
      "[1] \"Christopher L. Jaros--Institute of Arctic and Alpine Research, University of Colorado\"\n",
      "[1] \"Add: 0000-0002-4171-1533\"\n",
      "[1] \"David A. Sutherland--University of Oregon\"\n",
      "[1] \"Fiammetta Straneo\"\n",
      "[1] \"Add: 0000-0002-2843-8608\"\n",
      "[1] \"Add: 0000-0002-1735-2366\"\n",
      "[1] \"Parameshwari Kattel--School of Science\"\n",
      "[1] \"Khim B. Khattri--School of Science\"\n",
      "[1] \"Puskar R. Pokhrel--School of Science\"\n",
      "[1] \"Jeevan Kafle--School of Science\"\n",
      "[1] \"Bhadra Man Tuladhar--School of Science\"\n",
      "[1] \"Shiva P. Pudasaini--Steinmann Institute\"\n",
      "[1] \"Add: 0000-0001-5165-8337\"\n",
      "[1] \"Add: 0000-0003-3252-0396\"\n"
     ]
    },
    {
     "name": "stderr",
     "output_type": "stream",
     "text": [
      "Warning message:\n",
      "“Unknown or uninitialised column: `orcid-identifier.path`.”\n",
      "Warning message:\n",
      "“Unknown or uninitialised column: `orcid-identifier.path`.”\n",
      "Warning message:\n",
      "“Unknown or uninitialised column: `orcid-identifier.path`.”\n",
      "Warning message:\n",
      "“Unknown or uninitialised column: `orcid-identifier.path`.”\n"
     ]
    },
    {
     "name": "stdout",
     "output_type": "stream",
     "text": [
      "[1] \"T. Wu--Department of Mechanics, Technische Hochschule\"\n",
      "[1] \"K. Jöhnk--Department of Mechanics, Technische Hochschule\"\n",
      "[1] \"B. Svendsen--Department of Mechanics, Technische Hochschule\"\n",
      "[1] \"K. Hutter--Department of Mechanics, Technische Hochschule\"\n",
      "[1] \"Add: 0000-0002-5972-4201\"\n"
     ]
    },
    {
     "name": "stderr",
     "output_type": "stream",
     "text": [
      "Warning message:\n",
      "“Unknown or uninitialised column: `orcid-identifier.path`.”\n",
      "Warning message:\n",
      "“Unknown or uninitialised column: `orcid-identifier.path`.”\n",
      "Warning message:\n",
      "“Unknown or uninitialised column: `orcid-identifier.path`.”\n",
      "Warning message:\n",
      "“Unknown or uninitialised column: `orcid-identifier.path`.”\n",
      "Warning message:\n",
      "“Unknown or uninitialised column: `orcid-identifier.path`.”\n"
     ]
    },
    {
     "name": "stdout",
     "output_type": "stream",
     "text": [
      "[1] \"Laurent Testut\"\n",
      "[1] \"Rachael Hurd\"\n",
      "[1] \"Richard Coleman\"\n",
      "[1] \"Frédérique Rémy\"\n",
      "[1] \"Benoît Legrésy\"\n",
      "[1] \"Add: 0000-0002-9553-8246\"\n",
      "[1] \"Add: 0000-0002-3969-2919\"\n",
      "[1] \"Add: 0000-0002-9731-7498\"\n",
      "[1] \"Bryn Hubbard--Centre for Glaciology\"\n",
      "[1] \"Martin Sharp--Department of Geography\"\n",
      "[1] \"Wendy J. Lawson--Department of Geography\"\n",
      "[1] \"Add: 0000-0002-3565-3875\"\n"
     ]
    },
    {
     "name": "stderr",
     "output_type": "stream",
     "text": [
      "Warning message:\n",
      "“Unknown or uninitialised column: `orcid-identifier.path`.”\n",
      "Warning message:\n",
      "“Unknown or uninitialised column: `orcid-identifier.path`.”\n"
     ]
    },
    {
     "name": "stdout",
     "output_type": "stream",
     "text": [
      "[1] \"Nicolas J. Cullen--University of Otago\"\n",
      "[1] \"Thomas Mölg--University of Innsbruck\"\n",
      "[1] \"Georg Kaser--University of Innsbruck\"\n",
      "[1] \"Konrad Steffen--Cooperative Institute for Research in Environmental Sciences\"\n",
      "[1] \"Douglas R. Hardy--University of Massachusetts\"\n",
      "[1] \"Add: 0000-0001-8877-1325\"\n",
      "[1] \"S.P. Carter--Scripps Institution of Oceanography\"\n",
      "[1] \"H.A. Fricker--Scripps Institution of Oceanography\"\n",
      "[1] \"Add: 0000-0002-0921-1432\"\n"
     ]
    },
    {
     "name": "stderr",
     "output_type": "stream",
     "text": [
      "Warning message:\n",
      "“Unknown or uninitialised column: `orcid-identifier.path`.”\n",
      "Warning message:\n",
      "“Unknown or uninitialised column: `orcid-identifier.path`.”\n"
     ]
    },
    {
     "name": "stdout",
     "output_type": "stream",
     "text": [
      "[1] \"Andrew Roberts--Antarctic CRC and Iasos\"\n",
      "[1] \"Ian Allison--Antarctic CRC and Australian Antarctic Division\"\n",
      "[1] \"Victoria I. Lytle--Antarctic CRC and Australian Antarctic Division\"\n",
      "[1] \"Add: 0000-0002-0394-8396\"\n"
     ]
    },
    {
     "name": "stderr",
     "output_type": "stream",
     "text": [
      "Warning message:\n",
      "“Unknown or uninitialised column: `orcid-identifier.path`.”\n",
      "Warning message:\n",
      "“Unknown or uninitialised column: `orcid-identifier.path`.”\n"
     ]
    },
    {
     "name": "stdout",
     "output_type": "stream",
     "text": [
      "[1] \"Rune Verpe Engeset--Hydrology Department, Norwegian Water Resources and Energy Directorate (NVE),\"\n",
      "[1] \"Thomas Vikhamar Schuler--Department of Geosciences, University of Oslo,\"\n",
      "[1] \"Miriam Jackson--Hydrology Department, Norwegian Water Resources and Energy Directorate (NVE),\"\n",
      "[1] \"Add: 0000-0003-3719-6716\"\n",
      "[1] \"Add: 0000-0003-0972-3929\"\n",
      "[1] \"Jorge Arigony-Neto--Institut für Physische Geographie\"\n",
      "[1] \"Frank Rau--Institut für Physische Geographie\"\n",
      "[1] \"Helmut Saurer--Institut für Physische Geographie\"\n",
      "[1] \"Ricardo Jaña--Institut für Physische Geographie\"\n",
      "[1] \"Jefferson Cardia Simões\"\n",
      "[1] \"Steffen Vogt--Institut für Physische Geographie\"\n",
      "[1] \"Add: 0000-0003-3319-1168\"\n",
      "[1] \"Add: 0000-0001-5555-3401\"\n"
     ]
    },
    {
     "name": "stderr",
     "output_type": "stream",
     "text": [
      "Warning message:\n",
      "“Unknown or uninitialised column: `orcid-identifier.path`.”\n",
      "Warning message:\n",
      "“Unknown or uninitialised column: `orcid-identifier.path`.”\n",
      "Warning message:\n",
      "“Unknown or uninitialised column: `orcid-identifier.path`.”\n"
     ]
    },
    {
     "name": "stdout",
     "output_type": "stream",
     "text": [
      "[1] \"Douglas R. MacAyeal--University of Chicago\"\n",
      "[1] \"Julian Freed-Brown--University of Chicago\"\n",
      "[1] \"Wendy W. Zhang--University of Chicago\"\n",
      "[1] \"Jason M. Amundson--University of Chicago\"\n",
      "[1] \"Add: 0000-0003-0647-6176\"\n"
     ]
    },
    {
     "name": "stderr",
     "output_type": "stream",
     "text": [
      "Warning message:\n",
      "“Unknown or uninitialised column: `orcid-identifier.path`.”\n",
      "Warning message:\n",
      "“Unknown or uninitialised column: `orcid-identifier.path`.”\n",
      "Warning message:\n",
      "“Unknown or uninitialised column: `orcid-identifier.path`.”\n",
      "Warning message:\n",
      "“Unknown or uninitialised column: `orcid-identifier.path`.”\n"
     ]
    },
    {
     "name": "stdout",
     "output_type": "stream",
     "text": [
      "[1] \"P. Holmlund--Department of Physical Geography, Stockholm University\"\n",
      "[1] \"K. Gjerde--Norwegian Mapping Authority\"\n",
      "[1] \"N. Gundestrup--Niels Bohr Institute of Astronomy, Physics and Geophysics, University of Copenhagen\"\n",
      "[1] \"M. Hansson--Department of Meteorology, Stockholm University\"\n",
      "[1] \"E. Isaksson--Norwegian Polar Institute\"\n",
      "[1] \"L. Karlöf--Norwegian Polar Institute\"\n",
      "[1] \"M. Nman--Department of Physical Geography, Stockholm University\"\n",
      "[1] \"R. Pettersson--Department of Physical Geography, Stockholm University\"\n",
      "[1] \"F. Pinglot--Laboratoire de Glaciologie et Géophysique de I’Environnement\"\n",
      "[1] \"C. H. Reijmer--Institute for Marine and Atmospheric Research Utrecht (IMAU), University of Utrecht\"\n",
      "[1] \"M. Stenberg--Department of Physical Geography, Stockholm University\"\n",
      "[1] \"M. Thomassen--Institute for Marine and Atmospheric Research Utrecht (IMAU), University of Utrecht\"\n",
      "[1] \"R. van de Wal--Institute for Marine and Atmospheric Research Utrecht (IMAU), University of Utrecht\"\n",
      "[1] \"C. van der Veen--Institute for Marine and Atmospheric Research Utrecht (IMAU), University of Utrecht\"\n",
      "[1] \"F. Wilhelms--Alfred-Wegener-Institut für Polar-und Meeresforschung\"\n",
      "[1] \"J.-G. winther--Norwegian Polar Institute\"\n",
      "[1] \"Add: 0000-0001-8299-3883\"\n"
     ]
    },
    {
     "name": "stderr",
     "output_type": "stream",
     "text": [
      "Warning message:\n",
      "“Unknown or uninitialised column: `orcid-identifier.path`.”\n",
      "Warning message:\n",
      "“Unknown or uninitialised column: `orcid-identifier.path`.”\n",
      "Warning message:\n",
      "“Unknown or uninitialised column: `orcid-identifier.path`.”\n",
      "Warning message:\n",
      "“Unknown or uninitialised column: `orcid-identifier.path`.”\n"
     ]
    },
    {
     "name": "stdout",
     "output_type": "stream",
     "text": [
      "[1] \"Sverrir Gudmundsson--Science Institute, University of Iceland\"\n",
      "[1] \"Magnus Tumi Gudmundsson--Science Institute, University of Iceland\"\n",
      "[1] \"Helgi Björnsson--Science Institute, University of Iceland\"\n",
      "[1] \"Freysteinn Sigmundsson--Nordic Vulcanological Institute, University of Iceland\"\n",
      "[1] \"Helmut Rott--Institut für Meteorologie und Geophysik, Universität Innsbruck\"\n",
      "[1] \"Jens Michael Carstensen--Institute for Mathematical Modelling, Technical University of Denmark\"\n",
      "[1] \"Add: 0000-0002-2535-3908\"\n"
     ]
    },
    {
     "name": "stderr",
     "output_type": "stream",
     "text": [
      "Warning message:\n",
      "“Unknown or uninitialised column: `orcid-identifier.path`.”\n",
      "Warning message:\n",
      "“Unknown or uninitialised column: `orcid-identifier.path`.”\n",
      "Warning message:\n",
      "“Unknown or uninitialised column: `orcid-identifier.path`.”\n",
      "Warning message:\n",
      "“Unknown or uninitialised column: `orcid-identifier.path`.”\n",
      "Warning message:\n",
      "“Unknown or uninitialised column: `orcid-identifier.path`.”\n",
      "Warning message:\n",
      "“Unknown or uninitialised column: `orcid-identifier.path`.”\n",
      "Warning message:\n",
      "“Unknown or uninitialised column: `orcid-identifier.path`.”\n",
      "Warning message:\n",
      "“Unknown or uninitialised column: `orcid-identifier.path`.”\n",
      "Warning message:\n",
      "“Unknown or uninitialised column: `orcid-identifier.path`.”\n",
      "Warning message:\n",
      "“Unknown or uninitialised column: `orcid-identifier.path`.”\n",
      "Warning message:\n",
      "“Unknown or uninitialised column: `orcid-identifier.path`.”\n",
      "Warning message:\n",
      "“Unknown or uninitialised column: `orcid-identifier.path`.”\n"
     ]
    },
    {
     "name": "stdout",
     "output_type": "stream",
     "text": [
      "[1] \"J.E. Box--Byrd Polar Research Center, The Ohio State University\"\n",
      "[1] \"Add: 0000-0003-0052-8705\"\n"
     ]
    },
    {
     "name": "stderr",
     "output_type": "stream",
     "text": [
      "Warning message:\n",
      "“Unknown or uninitialised column: `orcid-identifier.path`.”\n",
      "Warning message:\n",
      "“Unknown or uninitialised column: `orcid-identifier.path`.”\n",
      "Warning message:\n",
      "“Unknown or uninitialised column: `orcid-identifier.path`.”\n",
      "Warning message:\n",
      "“Unknown or uninitialised column: `orcid-identifier.path`.”\n",
      "Warning message:\n",
      "“Unknown or uninitialised column: `orcid-identifier.path`.”\n",
      "Warning message:\n",
      "“Unknown or uninitialised column: `orcid-identifier.path`.”\n"
     ]
    },
    {
     "name": "stdout",
     "output_type": "stream",
     "text": [
      "[1] \"Susanne L. Buchardt--Ice and Climate, Niels Bohr Institute, University of Copenhagen\"\n",
      "[1] \"Dorthe Dahl-Jensen--Ice and Climate, Niels Bohr Institute, University of Copenhagen\"\n",
      "[1] \"Add: 0000-0002-1474-1948\"\n",
      "[1] \"Tjarda J. Roberts--Norwegian Polar Institute, Fram Centre\"\n",
      "[1] \"Andy Hodson--Department of Geography, University of Sheffield\"\n",
      "[1] \"Chris D. Evans--Centre for Ecology and Hydrology, Environment Centre Wales\"\n",
      "[1] \"Kim Holmén--Norwegian Polar Institute, Fram Centre\"\n",
      "[1] \"Add: 0000-0002-1255-7987\"\n"
     ]
    },
    {
     "name": "stderr",
     "output_type": "stream",
     "text": [
      "Warning message:\n",
      "“Unknown or uninitialised column: `orcid-identifier.path`.”\n",
      "Warning message:\n",
      "“Unknown or uninitialised column: `orcid-identifier.path`.”\n",
      "Warning message:\n",
      "“Unknown or uninitialised column: `orcid-identifier.path`.”\n",
      "Warning message:\n",
      "“Unknown or uninitialised column: `orcid-identifier.path`.”\n",
      "Warning message:\n",
      "“Unknown or uninitialised column: `orcid-identifier.path`.”\n"
     ]
    },
    {
     "name": "stdout",
     "output_type": "stream",
     "text": [
      "[1] \"E.J. Steig--University of Washington\"\n",
      "[1] \"Q. Ding--University of Washington\"\n",
      "[1] \"D.S. Battisti--University of Washington\"\n",
      "[1] \"A. Jenkins\"\n",
      "[1] \"Add: 0000-0002-9117-0616\"\n"
     ]
    },
    {
     "name": "stderr",
     "output_type": "stream",
     "text": [
      "Warning message:\n",
      "“Unknown or uninitialised column: `orcid-identifier.path`.”\n",
      "Warning message:\n",
      "“Unknown or uninitialised column: `orcid-identifier.path`.”\n",
      "Warning message:\n",
      "“Unknown or uninitialised column: `orcid-identifier.path`.”\n",
      "Warning message:\n",
      "“Unknown or uninitialised column: `orcid-identifier.path`.”\n",
      "Warning message:\n",
      "“Unknown or uninitialised column: `orcid-identifier.path`.”\n",
      "Warning message:\n",
      "“Unknown or uninitialised column: `orcid-identifier.path`.”\n"
     ]
    },
    {
     "name": "stdout",
     "output_type": "stream",
     "text": [
      "[1] \"Weili Wang--Raytheon ITSS\"\n",
      "[1] \"Roland C. Warner--Australian Antarctic Division, Box 252-80, Hobart, Tasmania 7001, Australia\"\n",
      "[1] \"William F. Budd--Antarctic CRC\"\n",
      "[1] \"Add: 0000-0002-9778-3544\"\n"
     ]
    },
    {
     "name": "stderr",
     "output_type": "stream",
     "text": [
      "Warning message:\n",
      "“Unknown or uninitialised column: `orcid-identifier.path`.”\n",
      "Warning message:\n",
      "“Unknown or uninitialised column: `orcid-identifier.path`.”\n",
      "Warning message:\n",
      "“Unknown or uninitialised column: `orcid-identifier.path`.”\n",
      "Warning message:\n",
      "“Unknown or uninitialised column: `orcid-identifier.path`.”\n",
      "Warning message:\n",
      "“Unknown or uninitialised column: `orcid-identifier.path`.”\n",
      "Warning message:\n",
      "“Unknown or uninitialised column: `orcid-identifier.path`.”\n",
      "Warning message:\n",
      "“Unknown or uninitialised column: `orcid-identifier.path`.”\n"
     ]
    },
    {
     "name": "stdout",
     "output_type": "stream",
     "text": [
      "[1] \"Qiao Liu--Institute of Mountain Hazards and Environment\"\n",
      "[1] \"Wanqin Guo--Cold and Arid Regions Environmental and Engineering Research Institute\"\n",
      "[1] \"Yong Nie--Institute of Mountain Hazards and Environment\"\n",
      "[1] \"Shiyin Liu--Cold and Arid Regions Environmental and Engineering Research Institute\"\n",
      "[1] \"Junli Xu--Cold and Arid Regions Environmental and Engineering Research Institute\"\n",
      "[1] \"Add: 0000-0002-9625-7497\"\n",
      "[1] \"Véronique Verbeke--Laboratoire de Glaciologie\"\n",
      "[1] \"Reginald Lorrain--Laboratoire de Glaciologie\"\n",
      "[1] \"Sigfús J. Johnsen--Niels Bohrs Institute for Astronomy\"\n",
      "[1] \"Jean-Louis Tison--Laboratoire de Glaciologie\"\n",
      "[1] \"Add: 0000-0002-9758-3454\"\n"
     ]
    },
    {
     "name": "stderr",
     "output_type": "stream",
     "text": [
      "Warning message:\n",
      "“Unknown or uninitialised column: `orcid-identifier.path`.”\n",
      "Warning message:\n",
      "“Unknown or uninitialised column: `orcid-identifier.path`.”\n",
      "Warning message:\n",
      "“Unknown or uninitialised column: `orcid-identifier.path`.”\n"
     ]
    },
    {
     "name": "stdout",
     "output_type": "stream",
     "text": [
      "[1] \"Keith Makinson--British Antarctic Survey, Natural Environment Research Council\"\n",
      "[1] \"Paul G.D. Anker--British Antarctic Survey, Natural Environment Research Council\"\n",
      "[1] \"Add: 0000-0002-5791-1767\"\n"
     ]
    },
    {
     "name": "stderr",
     "output_type": "stream",
     "text": [
      "Warning message:\n",
      "“Unknown or uninitialised column: `orcid-identifier.path`.”\n"
     ]
    },
    {
     "name": "stdout",
     "output_type": "stream",
     "text": [
      "[1] \"Yulan Zhang\"\n",
      "[1] \"Shichang Kang\"\n",
      "[1] \"Bjorn Grigholm\"\n",
      "[1] \"Yongjun Zhang\"\n",
      "[1] \"Susan Kaspari\"\n",
      "[1] \"Uwe Morgenstern\"\n",
      "[1] \"Jiawen Ren\"\n",
      "[1] \"Dahe Qin\"\n",
      "[1] \"Paul A. Mayewski\"\n",
      "[1] \"Qianggong Zhang\"\n",
      "[1] \"Zhiyuan Cong\"\n",
      "[1] \"Mika Sillanpää\"\n",
      "[1] \"Margit Schwikowski\"\n",
      "[1] \"Feng Chen\"\n",
      "[1] \"Add: 0000-0002-0856-5183\"\n",
      "[1] \"Add: 0000-0003-2115-9005\"\n",
      "[1] \"Add: 0000-0003-3247-5337\"\n"
     ]
    },
    {
     "name": "stderr",
     "output_type": "stream",
     "text": [
      "Warning message:\n",
      "“Unknown or uninitialised column: `orcid-identifier.path`.”\n",
      "Warning message:\n",
      "“Unknown or uninitialised column: `orcid-identifier.path`.”\n"
     ]
    },
    {
     "name": "stdout",
     "output_type": "stream",
     "text": [
      "[1] \"J.P. Conway--Department of Geography, University of Otago\"\n",
      "[1] \"N.J. Cullen--Department of Geography, University of Otago\"\n",
      "[1] \"Add: 0000-0001-9276-7425\"\n",
      "[1] \"Add: 0000-0001-8877-1325\"\n",
      "[1] \"Naoko Nagatsuka--Department of Earth Sciences, Graduate School of Science, Chiba University\"\n",
      "[1] \"Nozomu Takeuchi--Department of Earth Sciences, Graduate School of Science, Chiba University\"\n",
      "[1] \"Takanori Nakano--Research Institute for Humanity and Nature\"\n",
      "[1] \"Emi Kokado--Research Institute for Humanity and Nature\"\n",
      "[1] \"Zhongqin Li--State Key Laboratory of Cryospheric Sciences/Tien Shan Glaciological Station, Cold and Arid Regions Environmental and Engineering Research Institute, Chinese Academy of Sciences\"\n",
      "[1] \"Add: 0000-0002-3267-5534\"\n"
     ]
    },
    {
     "name": "stderr",
     "output_type": "stream",
     "text": [
      "Warning message:\n",
      "“Unknown or uninitialised column: `orcid-identifier.path`.”\n"
     ]
    },
    {
     "name": "stdout",
     "output_type": "stream",
     "text": [
      "[1] \"Charalampos Charalampidis--Geological Survey of Denmark and Greenland (GEUS)\"\n",
      "[1] \"Dirk Van As--Geological Survey of Denmark and Greenland (GEUS)\"\n",
      "[1] \"William T. Colgan--Geological Survey of Denmark and Greenland (GEUS)\"\n",
      "[1] \"Robert S. Fausto--Geological Survey of Denmark and Greenland (GEUS)\"\n",
      "[1] \"Michael Macferrin--University of Colorado Boulder\"\n",
      "[1] \"Horst Machguth--Geological Survey of Denmark and Greenland (GEUS)\"\n",
      "[1] \"Add: 0000-0003-0853-697X\"\n",
      "[1] \"Add: 0000-0001-8157-7159\"\n",
      "[1] \"Add: 0000-0003-1317-8185\"\n",
      "[1] \"Add: 0000-0001-6334-1660\"\n",
      "[1] \"Add: 0000-0002-6553-8982\"\n"
     ]
    },
    {
     "name": "stderr",
     "output_type": "stream",
     "text": [
      "Warning message:\n",
      "“Unknown or uninitialised column: `orcid-identifier.path`.”\n",
      "Warning message:\n",
      "“Unknown or uninitialised column: `orcid-identifier.path`.”\n",
      "Warning message:\n",
      "“Unknown or uninitialised column: `orcid-identifier.path`.”\n"
     ]
    },
    {
     "name": "stdout",
     "output_type": "stream",
     "text": [
      "[1] \"Kenichi Matsuoka--Norwegian Polar Institute\"\n",
      "[1] \"Frank Pattyn--Université Libre de Bruxelles\"\n",
      "[1] \"Denis Callens--Norwegian Polar Institute\"\n",
      "[1] \"Howard Conway--University of Washington\"\n",
      "[1] \"Add: 0000-0002-3587-3405\"\n",
      "[1] \"Add: 0000-0003-4805-5636\"\n"
     ]
    },
    {
     "name": "stderr",
     "output_type": "stream",
     "text": [
      "Warning message:\n",
      "“Unknown or uninitialised column: `orcid-identifier.path`.”\n",
      "Warning message:\n",
      "“Unknown or uninitialised column: `orcid-identifier.path`.”\n",
      "Warning message:\n",
      "“Unknown or uninitialised column: `orcid-identifier.path`.”\n"
     ]
    },
    {
     "name": "stdout",
     "output_type": "stream",
     "text": [
      "[1] \"Matthias Bigler--Ice and Climate Research, Niels Bohr Institute, University of Copenhagen\"\n",
      "[1] \"Anders Svensson--Ice and Climate Research, Niels Bohr Institute, University of Copenhagen\"\n",
      "[1] \"Jørgen Peder Steffensen--Ice and Climate Research, Niels Bohr Institute, University of Copenhagen\"\n",
      "[1] \"Patrik Kaufmann--Climate and Environmental Physics, Physics Institute, University of Bern\"\n",
      "[1] \"Add: 0000-0002-5516-1093\"\n",
      "[1] \"Add: 0000-0002-4364-6085\"\n"
     ]
    },
    {
     "name": "stderr",
     "output_type": "stream",
     "text": [
      "Warning message:\n",
      "“Unknown or uninitialised column: `orcid-identifier.path`.”\n"
     ]
    },
    {
     "name": "stdout",
     "output_type": "stream",
     "text": [
      "[1] \"Jennifer K. Hutchings--International Arctic Research Center,  University of Alaska Fairbanks\"\n",
      "[1] \"Andrew Roberts--International Arctic Research Center,  University of Alaska Fairbanks\"\n",
      "[1] \"Cathleen A. Geiger--Department of Geography,  University of Delaware\"\n",
      "[1] \"Jacqueline Richter-Menge--US Army Cold Regions Research and Engineering Laboratory\"\n",
      "[1] \"Add: 0000-0002-0394-8396\"\n"
     ]
    },
    {
     "name": "stderr",
     "output_type": "stream",
     "text": [
      "Warning message:\n",
      "“Unknown or uninitialised column: `orcid-identifier.path`.”\n",
      "Warning message:\n",
      "“Unknown or uninitialised column: `orcid-identifier.path`.”\n"
     ]
    },
    {
     "name": "stdout",
     "output_type": "stream",
     "text": [
      "[1] \"Nan Zhang--Polar Research Center, Jilin University\"\n",
      "[1] \"Pavel Talalay--Polar Research Center, Jilin University---0000-0002-8230-4600\"\n",
      "[1] \"Jingbiao Liu--College of Electronics and Information, Hangzhou Dianzi University\"\n",
      "[1] \"Xiaopeng Fan--Polar Research Center, Jilin University\"\n",
      "[1] \"Qingpeng Kong--College of Electronics and Information, Hangzhou Dianzi University\"\n",
      "[1] \"Haibin Yu--College of Electronics and Information, Hangzhou Dianzi University\"\n",
      "[1] \"Yunchen Liu--Polar Research Center, Jilin University\"\n",
      "[1] \"Benkun Liu--College of Electronics and Information, Hangzhou Dianzi University\"\n",
      "[1] \"Da Gong--Polar Research Center, Jilin University\"\n",
      "[1] \"Xingchen Li--Polar Research Center, Jilin University\"\n",
      "[1] \"Wei Wu--Polar Research Center, Jilin University\"\n",
      "[1] \"Jialin Hong--Polar Research Center, Jilin University\"\n",
      "[1] \"Mikhail Sysoev--Polar Research Center, Jilin University\"\n",
      "[1] \"V. Zagorodnov--Byrd Polar Research Center, The Ohio State University\"\n",
      "[1] \"O. Nagornov--Moscow Engineering Physics Institute\"\n",
      "[1] \"L.G. Thompson--Byrd Polar Research Center, The Ohio State University\"\n",
      "[1] \"Add: 0000-0003-1355-788X\"\n"
     ]
    },
    {
     "name": "stderr",
     "output_type": "stream",
     "text": [
      "Warning message:\n",
      "“Unknown or uninitialised column: `orcid-identifier.path`.”\n",
      "Warning message:\n",
      "“Unknown or uninitialised column: `orcid-identifier.path`.”\n",
      "Warning message:\n",
      "“Unknown or uninitialised column: `orcid-identifier.path`.”\n",
      "Warning message:\n",
      "“Unknown or uninitialised column: `orcid-identifier.path`.”\n",
      "Warning message:\n",
      "“Unknown or uninitialised column: `orcid-identifier.path`.”\n",
      "Warning message:\n",
      "“Unknown or uninitialised column: `orcid-identifier.path`.”\n",
      "Warning message:\n",
      "“Unknown or uninitialised column: `orcid-identifier.path`.”\n",
      "Warning message:\n",
      "“Unknown or uninitialised column: `orcid-identifier.path`.”\n"
     ]
    },
    {
     "name": "stdout",
     "output_type": "stream",
     "text": [
      "[1] \"Frank Pattyn--Department of Geography WE-DGGF, Vrije Universiteit Brussel\"\n",
      "[1] \"Matt Nolan--Institute of Northern Engineering\"\n",
      "[1] \"Bernhard Rabus\"\n",
      "[1] \"Shuhei Takahashi--Department of Civil Engineering, Kitami Institute of Technology\"\n",
      "[1] \"Add: 0000-0003-2303-8928\"\n",
      "[1] \"Add: 0000-0003-4805-5636\"\n"
     ]
    },
    {
     "name": "stderr",
     "output_type": "stream",
     "text": [
      "Warning message:\n",
      "“Unknown or uninitialised column: `orcid-identifier.path`.”\n",
      "Warning message:\n",
      "“Unknown or uninitialised column: `orcid-identifier.path`.”\n",
      "Warning message:\n",
      "“Unknown or uninitialised column: `orcid-identifier.path`.”\n"
     ]
    },
    {
     "name": "stdout",
     "output_type": "stream",
     "text": [
      "[1] \"S. A. Sokratov--National Research Institute for Earth Science and Disaster Prevention, Shinjo Branch of Snow and Ice Studies\"\n",
      "[1] \"A. Sato\"\n",
      "[1] \"Add: 0000-0001-9265-2935\"\n"
     ]
    },
    {
     "name": "stderr",
     "output_type": "stream",
     "text": [
      "Warning message:\n",
      "“Unknown or uninitialised column: `orcid-identifier.path`.”\n"
     ]
    },
    {
     "name": "stdout",
     "output_type": "stream",
     "text": [
      "[1] \"Gilles Delaygue--Laboratoire des Sciences du Climat et de l’Environnement, Orme des Mensiers\"\n",
      "[1] \"Valérie Masson--Laboratoire des Sciences du Climat et de l’Environnement, Orme des Mensiers\"\n",
      "[1] \"Jean Jouzel--Laboratoire des Sciences du Climat et de l’Environnement, Orme des Mensiers\"\n",
      "[1] \"Add: 0000-0001-8296-381X\"\n",
      "[1] \"Rafael da Rocha Ribeiro--Centro Polar e Climático, Instituto de Geociências, Universidade Federal do Rio Grande do Sul\"\n",
      "[1] \"Edson Ramirez--Instituto de Hidráulica e Hidrología, Universidad Mayor de San Andrés\"\n",
      "[1] \"Jefferson Cardia Simões--Centro Polar e Climático, Instituto de Geociências, Universidade Federal do Rio Grande do Sul\"\n",
      "[1] \"Abraham Machaca--Instituto de Hidráulica e Hidrología, Universidad Mayor de San Andrés\"\n",
      "[1] \"Add: 0000-0001-5555-3401\"\n",
      "[1] \"K.A. Casey--Earth System Science Interdisciplinary Center, University of Maryland\"\n",
      "[1] \"T.J. Fudge--Department of Earth and Space Sciences, University of Washington\"\n",
      "[1] \"T.A. Neumann--Cryospheric Sciences Laboratory, NASA Goddard Space Flight Center\"\n",
      "[1] \"E.J. Steig--Department of Earth and Space Sciences, University of Washington\"\n",
      "[1] \"M.G.P. Cavitte--Institute for Geophysics, University of Texas\"\n",
      "[1] \"D.D. Blankenship--Institute for Geophysics, University of Texas\"\n",
      "[1] \"Add: 0000-0002-6818-7479\"\n",
      "[1] \"Add: 0000-0002-6115-7525\"\n"
     ]
    },
    {
     "name": "stderr",
     "output_type": "stream",
     "text": [
      "Warning message:\n",
      "“Unknown or uninitialised column: `orcid-identifier.path`.”\n",
      "Warning message:\n",
      "“Unknown or uninitialised column: `orcid-identifier.path`.”\n",
      "Warning message:\n",
      "“Unknown or uninitialised column: `orcid-identifier.path`.”\n",
      "Warning message:\n",
      "“Unknown or uninitialised column: `orcid-identifier.path`.”\n",
      "Warning message:\n",
      "“Unknown or uninitialised column: `orcid-identifier.path`.”\n"
     ]
    },
    {
     "name": "stdout",
     "output_type": "stream",
     "text": [
      "[1] \"Fumio Nakazawa--Department of Environmental Sciences, Faculty of Science, Shinshu University, Asahi 3-1-1\"\n",
      "[1] \"Koji Fujita--Graduate School of Environmental Studies, Nagoya University\"\n",
      "[1] \"Add: 0000-0003-3753-4981\"\n",
      "[1] \"Denis Callens--Laboratoire de Glaciologie, Université Libre de Bruxelles\"\n",
      "[1] \"Nicolas Thonnard--Laboratoire de Glaciologie, Université Libre de Bruxelles\"\n",
      "[1] \"Jan T.M. Lenaerts--Institute for Marine and Atmospheric Research Utrecht, Utrecht University\"\n",
      "[1] \"Jan M. Van Wessem--Institute for Marine and Atmospheric Research Utrecht, Utrecht University\"\n",
      "[1] \"Willem Jan Van de Berg--Institute for Marine and Atmospheric Research Utrecht, Utrecht University\"\n",
      "[1] \"Kenichi Matsuoka--Norwegian Polar Institute\"\n",
      "[1] \"Frank Pattyn--Laboratoire de Glaciologie, Université Libre de Bruxelles\"\n",
      "[1] \"Add: 0000-0003-3221-791X\"\n",
      "[1] \"Add: 0000-0002-8232-2040\"\n",
      "[1] \"Add: 0000-0002-3587-3405\"\n",
      "[1] \"Add: 0000-0003-4805-5636\"\n"
     ]
    },
    {
     "name": "stderr",
     "output_type": "stream",
     "text": [
      "Warning message:\n",
      "“Unknown or uninitialised column: `orcid-identifier.path`.”\n"
     ]
    },
    {
     "name": "stdout",
     "output_type": "stream",
     "text": [
      "[1] \"Y. C. Tai--Institute for Mechanics, Darmstadt Unmersity of Technology\"\n",
      "[1] \"J. M. N.T. Gray--Department of Mathematics, University of Manchester\"\n",
      "[1] \"K. Hutter--Institute for Mechanics, Darmstadt Unmersity of Technology\"\n",
      "[1] \"S. Noelle--Institute of Applied Mathematics, Bonn University\"\n",
      "[1] \"Add: 0000-0003-3554-0499\"\n"
     ]
    },
    {
     "name": "stderr",
     "output_type": "stream",
     "text": [
      "Warning message:\n",
      "“Unknown or uninitialised column: `orcid-identifier.path`.”\n",
      "Warning message:\n",
      "“Unknown or uninitialised column: `orcid-identifier.path`.”\n"
     ]
    },
    {
     "name": "stdout",
     "output_type": "stream",
     "text": [
      "[1] \"Andrey N. Salamatin--Department of Applied Mathematics, Kazan State University\"\n",
      "[1] \"Elena A. Tsyganova--Department of Applied Mathematics, Kazan State University\"\n",
      "[1] \"Vladimir Ya. Lipenkov--Arctic and Antarctic Research Institute\"\n",
      "[1] \"Jean Robert Petit\"\n",
      "[1] \"Add: 0000-0002-5988-6024\"\n"
     ]
    },
    {
     "name": "stderr",
     "output_type": "stream",
     "text": [
      "Warning message:\n",
      "“Unknown or uninitialised column: `orcid-identifier.path`.”\n"
     ]
    },
    {
     "name": "stdout",
     "output_type": "stream",
     "text": [
      "[1] \"Walter N. Meier--University of Colorado\"\n",
      "[1] \"Julienne Stroeve--University of Colorado\"\n",
      "[1] \"Florence Fetterer--University of Colorado\"\n",
      "[1] \"Add: 0000-0003-2857-0550\"\n"
     ]
    },
    {
     "name": "stderr",
     "output_type": "stream",
     "text": [
      "Warning message:\n",
      "“Unknown or uninitialised column: `orcid-identifier.path`.”\n",
      "Warning message:\n",
      "“Unknown or uninitialised column: `orcid-identifier.path`.”\n",
      "Warning message:\n",
      "“Unknown or uninitialised column: `orcid-identifier.path`.”\n"
     ]
    },
    {
     "name": "stdout",
     "output_type": "stream",
     "text": [
      "[1] \"Phuntsho Tshering--Graduate School of Environmental Studies\"\n",
      "[1] \"Koji Fujita--Graduate School of Environmental Studies\"\n",
      "[1] \"Add: 0000-0003-3753-4981\"\n"
     ]
    },
    {
     "name": "stderr",
     "output_type": "stream",
     "text": [
      "Warning message:\n",
      "“Unknown or uninitialised column: `orcid-identifier.path`.”\n",
      "Warning message:\n",
      "“Unknown or uninitialised column: `orcid-identifier.path`.”\n",
      "Warning message:\n",
      "“Unknown or uninitialised column: `orcid-identifier.path`.”\n",
      "Warning message:\n",
      "“Unknown or uninitialised column: `orcid-identifier.path`.”\n"
     ]
    },
    {
     "name": "stdout",
     "output_type": "stream",
     "text": [
      "[1] \"Jean Negrel--Norwegian Polar Institute\"\n",
      "[1] \"Sebastian Gerland--Norwegian Polar Institute\"\n",
      "[1] \"Anthony P. Doulgeris--UiT the Arctic University of Norway\"\n",
      "[1] \"Tom Rune Lauknes\"\n",
      "[1] \"Line Rouyet\"\n",
      "[1] \"Add: 0000-0002-5255-8810\"\n"
     ]
    },
    {
     "name": "stderr",
     "output_type": "stream",
     "text": [
      "Warning message:\n",
      "“Unknown or uninitialised column: `orcid-identifier.path`.”\n"
     ]
    },
    {
     "name": "stdout",
     "output_type": "stream",
     "text": [
      "[1] \"Olaf Albrecht--Institute für Klimaforschung, Eidgenössische Technische Hochschule (ETH)\"\n",
      "[1] \"Peter Jansson--Department of Physical Geography, Stockholm University\"\n",
      "[1] \"Heinz Blatter--Institute für Klimaforschung, Eidgenössische Technische Hochschule (ETH)\"\n",
      "[1] \"Add: 0000-0002-8832-8806\"\n"
     ]
    },
    {
     "name": "stderr",
     "output_type": "stream",
     "text": [
      "Warning message:\n",
      "“Unknown or uninitialised column: `orcid-identifier.path`.”\n",
      "Warning message:\n",
      "“Unknown or uninitialised column: `orcid-identifier.path`.”\n",
      "Warning message:\n",
      "“Unknown or uninitialised column: `orcid-identifier.path`.”\n",
      "Warning message:\n",
      "“Unknown or uninitialised column: `orcid-identifier.path`.”\n"
     ]
    },
    {
     "name": "stdout",
     "output_type": "stream",
     "text": [
      "[1] \"Kathrin Naegeli--University of Fribourg\"\n",
      "[1] \"Matthias Huss--University of Fribourg\"\n",
      "[1] \"Add: 0000-0003-2443-7154\"\n",
      "[1] \"Add: 0000-0002-2377-6923\"\n"
     ]
    },
    {
     "name": "stderr",
     "output_type": "stream",
     "text": [
      "Warning message:\n",
      "“Unknown or uninitialised column: `orcid-identifier.path`.”\n",
      "Warning message:\n",
      "“Unknown or uninitialised column: `orcid-identifier.path`.”\n"
     ]
    },
    {
     "name": "stdout",
     "output_type": "stream",
     "text": [
      "[1] \"Bin Cheng--Finnish Meteorological Institute\"\n",
      "[1] \"Marko Mäkynen--Finnish Meteorological Institute\"\n",
      "[1] \"Markku Similä--Finnish Meteorological Institute\"\n",
      "[1] \"Laura Rontu--Finnish Meteorological Institute\"\n",
      "[1] \"Timo Vihma--Finnish Meteorological Institute\"\n",
      "[1] \"Add: 0000-0003-1250-6300\"\n",
      "[1] \"Add: 0000-0003-1215-1546\"\n"
     ]
    },
    {
     "name": "stderr",
     "output_type": "stream",
     "text": [
      "Warning message:\n",
      "“Unknown or uninitialised column: `orcid-identifier.path`.”\n",
      "Warning message:\n",
      "“Unknown or uninitialised column: `orcid-identifier.path`.”\n",
      "Warning message:\n",
      "“Unknown or uninitialised column: `orcid-identifier.path`.”\n",
      "Warning message:\n",
      "“Unknown or uninitialised column: `orcid-identifier.path`.”\n"
     ]
    },
    {
     "name": "stdout",
     "output_type": "stream",
     "text": [
      "[1] \"Lucas Earl--Graduate School of Geography\"\n",
      "[1] \"Alex Gardner--California Institute of Technology\"\n",
      "[1] \"Add: 0000-0002-8394-8889\"\n",
      "[1] \"Zhongqin Li--Key Laboratory of Cryosphere and Environment/Tien Shan Glaciological Station/Laboratory of Ice Core and Cold Regions Environment, Cold and Arid Regions Environmental and Engineering Research Institute, Chinese Academy of Sciences\"\n",
      "[1] \"Ross Edwards--Desert Research Institute\"\n",
      "[1] \"E. Mosley-Thompson--Byrd Polar Research Center, The Ohio State University\"\n",
      "[1] \"Feiteng Wang--Key Laboratory of Cryosphere and Environment/Tien Shan Glaciological Station/Laboratory of Ice Core and Cold Regions Environment, Cold and Arid Regions Environmental and Engineering Research Institute, Chinese Academy of Sciences\"\n",
      "[1] \"Zhibao Dong--Key Laboratory of Cryosphere and Environment/Tien Shan Glaciological Station/Laboratory of Ice Core and Cold Regions Environment, Cold and Arid Regions Environmental and Engineering Research Institute, Chinese Academy of Sciences\"\n",
      "[1] \"Xiaoni You--Key Laboratory of Cryosphere and Environment/Tien Shan Glaciological Station/Laboratory of Ice Core and Cold Regions Environment, Cold and Arid Regions Environmental and Engineering Research Institute, Chinese Academy of Sciences\"\n",
      "[1] \"Huilin Li--Key Laboratory of Cryosphere and Environment/Tien Shan Glaciological Station/Laboratory of Ice Core and Cold Regions Environment, Cold and Arid Regions Environmental and Engineering Research Institute, Chinese Academy of Sciences\"\n",
      "[1] \"Chuanjin Li--Key Laboratory of Cryosphere and Environment/Tien Shan Glaciological Station/Laboratory of Ice Core and Cold Regions Environment, Cold and Arid Regions Environmental and Engineering Research Institute, Chinese Academy of Sciences\"\n",
      "[1] \"Yuman Zhu--Key Laboratory of Cryosphere and Environment/Tien Shan Glaciological Station/Laboratory of Ice Core and Cold Regions Environment, Cold and Arid Regions Environmental and Engineering Research Institute, Chinese Academy of Sciences\"\n",
      "[1] \"Add: 0000-0002-9233-8775\"\n",
      "[1] \"Ketil Isaksen--Department of Physical Geography, University of Oslo\"\n",
      "[1] \"Daniel Vonder Mühll--Laboratory of Hydraulics, Hydrology and Glaciology, Swiss Federal Institute of Technology (ETH)\"\n",
      "[1] \"Hansueli Gubler--AlPuG\"\n",
      "[1] \"Thomas Kohl--Institute of Geophysics, Swiss Federal Institute of Technology (ETH)\"\n",
      "[1] \"Johan Ludvig Sollid--Department of Physical Geography, University of Oslo\"\n",
      "[1] \"Add: 0000-0003-2356-5330\"\n",
      "[1] \"Add: 0000-0001-6982-6036\"\n"
     ]
    },
    {
     "name": "stderr",
     "output_type": "stream",
     "text": [
      "Warning message:\n",
      "“Unknown or uninitialised column: `orcid-identifier.path`.”\n"
     ]
    },
    {
     "name": "stdout",
     "output_type": "stream",
     "text": [
      "[1] \"Luca Carturan--University of Padova\"\n",
      "[1] \"Federico Cazorzi--University of Udine\"\n",
      "[1] \"Giancarlo Dalla Fontana--University of Padova\"\n",
      "[1] \"Add: 0000-0002-0771-8168\"\n",
      "[1] \"Thomas Grünewald--WSL Institute for Snow and Avalanche Research SLF\"\n",
      "[1] \"Michael Lehning--WSL Institute for Snow and Avalanche Research SLF\"\n",
      "[1] \"Add: 0000-0002-6235-0773\"\n",
      "[1] \"Gino Casassa--Instituto de la Patagonia, Universidad de Magallanes\"\n",
      "[1] \"Katrine Smith--Instituto de la Patagonia, Universidad de Magallanes\"\n",
      "[1] \"Andrés Rivera\"\n",
      "[1] \"José Araos--Departamento de Geografía, Universidad de Chile\"\n",
      "[1] \"Michael Schnirch--Department of Physical Geography, University of Freiburg\"\n",
      "[1] \"Christoph Schneider--Department of Physical Geography, University of Freiburg\"\n",
      "[1] \"Add: 0000-0002-2779-4192\"\n",
      "[1] \"Add: 0000-0002-9914-3217\"\n"
     ]
    },
    {
     "name": "stderr",
     "output_type": "stream",
     "text": [
      "Warning message:\n",
      "“Unknown or uninitialised column: `orcid-identifier.path`.”\n"
     ]
    },
    {
     "name": "stdout",
     "output_type": "stream",
     "text": [
      "[1] \"Christian Huggel--Glaciology and Geomorphodynamics Group, Department of Geography, University of Zurich\"\n",
      "[1] \"Jorge Luis Ceballos--Instituto de Meteorología, Hidrología y Estudios Ambientales\"\n",
      "[1] \"Bernardo Pulgarĺn--Instituto Colombiano de Geología y Minería\"\n",
      "[1] \"Jair Ramírez--Instituto Colombiano de Geología y Minería\"\n",
      "[1] \"Jean-Claude Thouret--Laboratoire Magmas et Volcans UMR 6524 CNRS, Université Blaise-Pascal\"\n",
      "[1] \"Error in: 3143 owi:0000-0002-9397-7325\"\n"
     ]
    },
    {
     "name": "stderr",
     "output_type": "stream",
     "text": [
      "Warning message:\n",
      "“Unknown or uninitialised column: `orcid-identifier.path`.”\n",
      "Warning message:\n",
      "“Unknown or uninitialised column: `orcid-identifier.path`.”\n",
      "Warning message:\n",
      "“Unknown or uninitialised column: `orcid-identifier.path`.”\n",
      "Warning message:\n",
      "“Unknown or uninitialised column: `orcid-identifier.path`.”\n"
     ]
    },
    {
     "name": "stdout",
     "output_type": "stream",
     "text": [
      "[1] \"Manfred Stähli--Institute ofTerrestrial Ecology\"\n",
      "[1] \"Jesko Schaper--Communications Technology Laboratory\"\n",
      "[1] \"Andreas Papritz--Institute ofTerrestrial Ecology\"\n",
      "[1] \"Add: 0000-0002-6870-4747\"\n"
     ]
    },
    {
     "name": "stderr",
     "output_type": "stream",
     "text": [
      "Warning message:\n",
      "“Unknown or uninitialised column: `orcid-identifier.path`.”\n",
      "Warning message:\n",
      "“Unknown or uninitialised column: `orcid-identifier.path`.”\n"
     ]
    },
    {
     "name": "stdout",
     "output_type": "stream",
     "text": [
      "[1] \"Jean-Bruno Brzoska\"\n",
      "[1] \"Frédéric Flin--Institute of Low Temperature Science\"\n",
      "[1] \"Jean Barckicke\"\n",
      "[1] \"Add: 0000-0001-9931-7769\"\n",
      "[1] \"Feiteng Wang--Cold and Arid Regions Environmental and Engineering Research Institute\"\n",
      "[1] \"Zhongqin Li--Cold and Arid Regions Environmental and Engineering Research Institute\"\n",
      "[1] \"R. Edwards--Desert Research Institute\"\n",
      "[1] \"Huilin Li--Cold and Arid Regions Environmental and Engineering Research Institute\"\n",
      "[1] \"Add: 0000-0002-9233-8775\"\n",
      "[1] \"Margit Schwikowski--Paul Scherrer Institut\"\n",
      "[1] \"Sabina Brütsch--Paul Scherrer Institut\"\n",
      "[1] \"Gino Casassa--Centro de Estudios Científicos\"\n",
      "[1] \"Andrés Rivera--Centro de Estudios Científicos\"\n",
      "[1] \"Add: 0000-0002-2779-4192\"\n",
      "[1] \"Add: 0000-0002-0856-5183\"\n"
     ]
    },
    {
     "name": "stderr",
     "output_type": "stream",
     "text": [
      "Warning message:\n",
      "“Unknown or uninitialised column: `orcid-identifier.path`.”\n",
      "Warning message:\n",
      "“Unknown or uninitialised column: `orcid-identifier.path`.”\n",
      "Warning message:\n",
      "“Unknown or uninitialised column: `orcid-identifier.path`.”\n",
      "Warning message:\n",
      "“Unknown or uninitialised column: `orcid-identifier.path`.”\n"
     ]
    },
    {
     "name": "stdout",
     "output_type": "stream",
     "text": [
      "[1] \"Laurie Padman\"\n",
      "[1] \"Helen A. Fricker--Institute of Geophysics and Planetary Physics, Scripps Institution of Oceanography, University of California San Diego\"\n",
      "[1] \"Richard Coleman--Antarctic CRC and School of Geography and Environmental Studies, University of Tasmania\"\n",
      "[1] \"Susan Howard\"\n",
      "[1] \"Lana Erofeeva\"\n",
      "[1] \"Add: 0000-0002-9731-7498\"\n"
     ]
    },
    {
     "name": "stderr",
     "output_type": "stream",
     "text": [
      "Warning message:\n",
      "“Unknown or uninitialised column: `orcid-identifier.path`.”\n",
      "Warning message:\n",
      "“Unknown or uninitialised column: `orcid-identifier.path`.”\n",
      "Warning message:\n",
      "“Unknown or uninitialised column: `orcid-identifier.path`.”\n",
      "Warning message:\n",
      "“Unknown or uninitialised column: `orcid-identifier.path`.”\n",
      "Warning message:\n",
      "“Unknown or uninitialised column: `orcid-identifier.path`.”\n",
      "Warning message:\n",
      "“Unknown or uninitialised column: `orcid-identifier.path`.”\n",
      "Warning message:\n",
      "“Unknown or uninitialised column: `orcid-identifier.path`.”\n",
      "Warning message:\n",
      "“Unknown or uninitialised column: `orcid-identifier.path`.”\n",
      "Warning message:\n",
      "“Unknown or uninitialised column: `orcid-identifier.path`.”\n",
      "Warning message:\n",
      "“Unknown or uninitialised column: `orcid-identifier.path`.”\n",
      "Warning message:\n",
      "“Unknown or uninitialised column: `orcid-identifier.path`.”\n",
      "Warning message:\n",
      "“Unknown or uninitialised column: `orcid-identifier.path`.”\n",
      "Warning message:\n",
      "“Unknown or uninitialised column: `orcid-identifier.path`.”\n",
      "Warning message:\n",
      "“Unknown or uninitialised column: `orcid-identifier.path`.”\n",
      "Warning message:\n",
      "“Unknown or uninitialised column: `orcid-identifier.path`.”\n"
     ]
    },
    {
     "name": "stdout",
     "output_type": "stream",
     "text": [
      "[1] \"Masato Ito--Hokkaido University\"\n",
      "[1] \"Kay I. Ohshima--Hokkaido University\"\n",
      "[1] \"Yasushi Fukamachi--Hokkaido University\"\n",
      "[1] \"Daisuke Simizu--National Institute of Polar Research\"\n",
      "[1] \"Katsushi Iwamoto--National Institute of Polar Research\"\n",
      "[1] \"Yoshimasa Matsumura--Hokkaido University\"\n",
      "[1] \"Andrew R. Mahoney--University of Alaska Fairbanks\"\n",
      "[1] \"Hajo Eicken--University of Alaska Fairbanks\"\n",
      "[1] \"Add: 0000-0001-5798-9380\"\n",
      "[1] \"Andrew M. Rankin\"\n",
      "[1] \"Eric W. Wolff\"\n",
      "[1] \"Robert Mulvaney\"\n",
      "[1] \"Add: 0000-0002-5372-8148\"\n",
      "[1] \"Add: 0000-0002-5914-8531\"\n"
     ]
    },
    {
     "name": "stderr",
     "output_type": "stream",
     "text": [
      "Warning message:\n",
      "“Unknown or uninitialised column: `orcid-identifier.path`.”\n",
      "Warning message:\n",
      "“Unknown or uninitialised column: `orcid-identifier.path`.”\n",
      "Warning message:\n",
      "“Unknown or uninitialised column: `orcid-identifier.path`.”\n"
     ]
    },
    {
     "name": "stdout",
     "output_type": "stream",
     "text": [
      "[1] \"Jiahong Wen--Department of Geography, Shanghai Normal University\"\n",
      "[1] \"Kenneth C. Jezek--Byrd Polar Research Center, The Ohio State University\"\n",
      "[1] \"Andrew J. Monaghan--Byrd Polar Research Center, The Ohio State University\"\n",
      "[1] \"Bo Sun--Polar Research Institute of China\"\n",
      "[1] \"Jiawen Ren--Laboratory of Cryosphere and Environment, Cold and Arid Regions Environmental and Engineering Research Institute, Chinese Academy of Sciences\"\n",
      "[1] \"Philippe Huybrechts--Departement Geografie, Vrije Universiteit Brussel\"\n",
      "[1] \"Add: 0000-0002-8170-2359\"\n",
      "[1] \"Add: 0000-0003-1406-0525\"\n"
     ]
    },
    {
     "name": "stderr",
     "output_type": "stream",
     "text": [
      "Warning message:\n",
      "“Unknown or uninitialised column: `orcid-identifier.path`.”\n",
      "Warning message:\n",
      "“Unknown or uninitialised column: `orcid-identifier.path`.”\n",
      "Warning message:\n",
      "“Unknown or uninitialised column: `orcid-identifier.path`.”\n",
      "Warning message:\n",
      "“Unknown or uninitialised column: `orcid-identifier.path`.”\n",
      "Warning message:\n",
      "“Unknown or uninitialised column: `orcid-identifier.path`.”\n",
      "Warning message:\n",
      "“Unknown or uninitialised column: `orcid-identifier.path`.”\n",
      "Warning message:\n",
      "“Unknown or uninitialised column: `orcid-identifier.path`.”\n"
     ]
    },
    {
     "name": "stdout",
     "output_type": "stream",
     "text": [
      "[1] \"O. Alemany--Laboratoire de Glaciologie et Géophysique de l’Environnement (LGGE), Université Grenoble Alpes and Centre National de la Recherche Scientifique (CNRS)\"\n",
      "[1] \"J. Chappellaz--Laboratoire de Glaciologie et Géophysique de l’Environnement (LGGE), Université Grenoble Alpes and Centre National de la Recherche Scientifique (CNRS)\"\n",
      "[1] \"J. Triest--Laboratoire de Glaciologie et Géophysique de l’Environnement (LGGE), Université Grenoble Alpes and Centre National de la Recherche Scientifique (CNRS)\"\n",
      "[1] \"M. Calzas--Division Technique de l’INSU\"\n",
      "[1] \"O. Cattani--LSCE, IPSL, CEA CNRS UVSQ\"\n",
      "[1] \"J.F. Chemin--Laboratoire de Glaciologie et Géophysique de l’Environnement (LGGE), Université Grenoble Alpes and Centre National de la Recherche Scientifique (CNRS)\"\n",
      "[1] \"Q. Desbois--Laboratoire Interdisciplinaire de Physique (LIPHY), Université Grenoble Alpes and Centre National de la Recherche Scientifique (CNRS)\"\n",
      "[1] \"T. Desbois--Laboratoire Interdisciplinaire de Physique (LIPHY), Université Grenoble Alpes and Centre National de la Recherche Scientifique (CNRS)\"\n",
      "[1] \"R. Duphil--Laboratoire de Glaciologie et Géophysique de l’Environnement (LGGE), Université Grenoble Alpes and Centre National de la Recherche Scientifique (CNRS)\"\n",
      "[1] \"S. Falourd--LSCE, IPSL, CEA CNRS UVSQ\"\n",
      "[1] \"R. Grilli--Laboratoire Interdisciplinaire de Physique (LIPHY), Université Grenoble Alpes and Centre National de la Recherche Scientifique (CNRS)\"\n",
      "[1] \"C. Guillerme--Division Technique de l’INSU\"\n",
      "[1] \"E. Kerstel--Laboratoire Interdisciplinaire de Physique (LIPHY), Université Grenoble Alpes and Centre National de la Recherche Scientifique (CNRS)\"\n",
      "[1] \"B. Laurent--Laboratoire de Glaciologie et Géophysique de l’Environnement (LGGE), Université Grenoble Alpes and Centre National de la Recherche Scientifique (CNRS)\"\n",
      "[1] \"E. Lefebvre--Laboratoire de Glaciologie et Géophysique de l’Environnement (LGGE), Université Grenoble Alpes and Centre National de la Recherche Scientifique (CNRS)\"\n",
      "[1] \"N. Marrocco--Laboratoire Interdisciplinaire de Physique (LIPHY), Université Grenoble Alpes and Centre National de la Recherche Scientifique (CNRS)\"\n",
      "[1] \"O. Pascual--Laboratoire de Glaciologie et Géophysique de l’Environnement (LGGE), Université Grenoble Alpes and Centre National de la Recherche Scientifique (CNRS)\"\n",
      "[1] \"L. Piard--Laboratoire de Glaciologie et Géophysique de l’Environnement (LGGE), Université Grenoble Alpes and Centre National de la Recherche Scientifique (CNRS)\"\n",
      "[1] \"P. Possenti--Laboratoire de Glaciologie et Géophysique de l’Environnement (LGGE), Université Grenoble Alpes and Centre National de la Recherche Scientifique (CNRS)\"\n",
      "[1] \"D. Romanini--Laboratoire Interdisciplinaire de Physique (LIPHY), Université Grenoble Alpes and Centre National de la Recherche Scientifique (CNRS)\"\n",
      "[1] \"V. Thiebaut--LSCE, IPSL, CEA CNRS UVSQ\"\n",
      "[1] \"R. Yamani--LSCE, IPSL, CEA CNRS UVSQ\"\n",
      "[1] \"Add: 0000-0001-5636-264X\"\n"
     ]
    },
    {
     "name": "stderr",
     "output_type": "stream",
     "text": [
      "Warning message:\n",
      "“Unknown or uninitialised column: `orcid-identifier.path`.”\n",
      "Warning message:\n",
      "“Unknown or uninitialised column: `orcid-identifier.path`.”\n",
      "Warning message:\n",
      "“Unknown or uninitialised column: `orcid-identifier.path`.”\n",
      "Warning message:\n",
      "“Unknown or uninitialised column: `orcid-identifier.path`.”\n",
      "Warning message:\n",
      "“Unknown or uninitialised column: `orcid-identifier.path`.”\n",
      "Warning message:\n",
      "“Unknown or uninitialised column: `orcid-identifier.path`.”\n",
      "Warning message:\n",
      "“Unknown or uninitialised column: `orcid-identifier.path`.”\n"
     ]
    },
    {
     "name": "stdout",
     "output_type": "stream",
     "text": [
      "[1] \"Ben W. Brock--Department of Geography, University of Dundee\"\n",
      "[1] \"Ian C. Willis--Department of Geography, University of Cambridge\"\n",
      "[1] \"Martin J. Sharp--Department of Earth and Atmospheric Sciences, University of Alberta\"\n",
      "[1] \"Neil S. Arnold--Scott Polar Research Institute, University of Cambridge\"\n",
      "[1] \"Add: 0000-0002-5377-0776\"\n"
     ]
    },
    {
     "name": "stderr",
     "output_type": "stream",
     "text": [
      "Warning message:\n",
      "“Unknown or uninitialised column: `orcid-identifier.path`.”\n",
      "Warning message:\n",
      "“Unknown or uninitialised column: `orcid-identifier.path`.”\n",
      "Warning message:\n",
      "“Unknown or uninitialised column: `orcid-identifier.path`.”\n",
      "Warning message:\n",
      "“Unknown or uninitialised column: `orcid-identifier.path`.”\n"
     ]
    },
    {
     "name": "stdout",
     "output_type": "stream",
     "text": [
      "[1] \"Ian C. Willis--University of Cambridge\"\n",
      "[1] \"Ed L. Pope--University of Cambridge\"\n",
      "[1] \"Gwendolyn J.-M.C. Leysinger Vieli--Durham University\"\n",
      "[1] \"Neil S. Arnold--University of Cambridge\"\n",
      "[1] \"Sylvan Long--University of Cambridge\"\n",
      "[1] \"Add: 0000-0002-2090-2971\"\n",
      "[1] \"Clemens Schannwell--Glaciology Group\"\n",
      "[1] \"Tavi Murray--Glaciology Group\"\n",
      "[1] \"Bernd Kulessa--Glaciology Group\"\n",
      "[1] \"Alessio Gusmeroli--University of Alaska Fairbanks\"\n",
      "[1] \"Albane Saintenoy--Université Paris Sud\"\n",
      "[1] \"Peter Jansson--Stockholm University\"\n",
      "[1] \"Add: 0000-0002-6160-2107\"\n",
      "[1] \"Add: 0000-0002-8355-5591\"\n",
      "[1] \"Add: 0000-0002-8832-8806\"\n",
      "[1] \"Add: 0000-0002-4830-4949\"\n"
     ]
    },
    {
     "name": "stderr",
     "output_type": "stream",
     "text": [
      "Warning message:\n",
      "“Unknown or uninitialised column: `orcid-identifier.path`.”\n",
      "Warning message:\n",
      "“Unknown or uninitialised column: `orcid-identifier.path`.”\n"
     ]
    },
    {
     "name": "stdout",
     "output_type": "stream",
     "text": [
      "[1] \"Pinlu Cao--Polar Research Center, Jilin University\"\n",
      "[1] \"Cheng Yang--Polar Research Center, Jilin University\"\n",
      "[1] \"Zhichuan Zheng--Polar Research Center, Jilin University\"\n",
      "[1] \"Rusheng Wang--Polar Research Center, Jilin University\"\n",
      "[1] \"Nan Zhang--Polar Research Center, Jilin University\"\n",
      "[1] \"Chunpeng Liu--Polar Research Center, Jilin University\"\n",
      "[1] \"Zhengyi Hu--Polar Research Center, Jilin University\"\n",
      "[1] \"Pavel Talalay--Polar Research Center, Jilin University\"\n"
     ]
    },
    {
     "name": "stderr",
     "output_type": "stream",
     "text": [
      "Warning message:\n",
      "“Unknown or uninitialised column: `orcid-identifier.path`.”\n",
      "Warning message:\n",
      "“Unknown or uninitialised column: `orcid-identifier.path`.”\n",
      "Warning message:\n",
      "“Unknown or uninitialised column: `orcid-identifier.path`.”\n"
     ]
    },
    {
     "name": "stdout",
     "output_type": "stream",
     "text": [
      "[1] \"Abha Sood--Alfred-Wegener-Institut für Polar- und Meeresforschung\"\n",
      "[1] \"Add: 0000-0002-0231-5757\"\n"
     ]
    },
    {
     "name": "stderr",
     "output_type": "stream",
     "text": [
      "Warning message:\n",
      "“Unknown or uninitialised column: `orcid-identifier.path`.”\n"
     ]
    },
    {
     "name": "stdout",
     "output_type": "stream",
     "text": [
      "[1] \"Adina E. Racoviteanu--Department of Geography, University of Colorado\"\n",
      "[1] \"Frank Paul--Department of Geography, University of Zürich-Irchel\"\n",
      "[1] \"Bruce Raup--National Snow and Ice Data Center, University of Colorado\"\n",
      "[1] \"Siri Jodha Singh Khalsa--National Snow and Ice Data Center, University of Colorado\"\n",
      "[1] \"Richard Armstrong--National Snow and Ice Data Center, University of Colorado\"\n",
      "[1] \"Add: 0000-0003-4954-1871\"\n"
     ]
    },
    {
     "name": "stderr",
     "output_type": "stream",
     "text": [
      "Warning message:\n",
      "“Unknown or uninitialised column: `orcid-identifier.path`.”\n"
     ]
    },
    {
     "name": "stdout",
     "output_type": "stream",
     "text": [
      "[1] \"Hoi Ming Lam--University of Bremen\"\n",
      "[1] \"Gunnar Spreen--University of Bremen\"\n",
      "[1] \"Georg Heygster--University of Bremen\"\n",
      "[1] \"Christian Melsheimer--University of Bremen\"\n",
      "[1] \"Neal W. Young--University of Tasmania\"\n",
      "[1] \"Add: 0000-0001-7578-6536\"\n",
      "[1] \"Add: 0000-0003-0165-8448\"\n"
     ]
    },
    {
     "name": "stderr",
     "output_type": "stream",
     "text": [
      "Warning message:\n",
      "“Unknown or uninitialised column: `orcid-identifier.path`.”\n",
      "Warning message:\n",
      "“Unknown or uninitialised column: `orcid-identifier.path`.”\n"
     ]
    },
    {
     "name": "stdout",
     "output_type": "stream",
     "text": [
      "[1] \"R.S.W. van de Wal--Institute for Marine and Atmospheric Research Utrecht, Utrecht University\"\n",
      "[1] \"W. Greuell--Institute for Marine and Atmospheric Research Utrecht, Utrecht University\"\n",
      "[1] \"M.R. van den Broeke--Institute for Marine and Atmospheric Research Utrecht, Utrecht University\"\n",
      "[1] \"C.H. Reijmer--Institute for Marine and Atmospheric Research Utrecht, Utrecht University\"\n",
      "[1] \"J. Oerlemans--Institute for Marine and Atmospheric Research Utrecht, Utrecht University\"\n",
      "[1] \"Add: 0000-0001-8299-3883\"\n"
     ]
    },
    {
     "name": "stderr",
     "output_type": "stream",
     "text": [
      "Warning message:\n",
      "“Unknown or uninitialised column: `orcid-identifier.path`.”\n",
      "Warning message:\n",
      "“Unknown or uninitialised column: `orcid-identifier.path`.”\n",
      "Warning message:\n",
      "“Unknown or uninitialised column: `orcid-identifier.path`.”\n",
      "Warning message:\n",
      "“Unknown or uninitialised column: `orcid-identifier.path`.”\n",
      "Warning message:\n",
      "“Unknown or uninitialised column: `orcid-identifier.path`.”\n",
      "Warning message:\n",
      "“Unknown or uninitialised column: `orcid-identifier.path`.”\n",
      "Warning message:\n",
      "“Unknown or uninitialised column: `orcid-identifier.path`.”\n",
      "Warning message:\n",
      "“Unknown or uninitialised column: `orcid-identifier.path`.”\n",
      "Warning message:\n",
      "“Unknown or uninitialised column: `orcid-identifier.path`.”\n",
      "Warning message:\n",
      "“Unknown or uninitialised column: `orcid-identifier.path`.”\n",
      "Warning message:\n",
      "“Unknown or uninitialised column: `orcid-identifier.path`.”\n",
      "Warning message:\n",
      "“Unknown or uninitialised column: `orcid-identifier.path`.”\n",
      "Warning message:\n",
      "“Unknown or uninitialised column: `orcid-identifier.path`.”\n"
     ]
    },
    {
     "name": "stdout",
     "output_type": "stream",
     "text": [
      "[1] \"H. Zekollari--Earth System Sciences & Departement Geografie, Vrije Universiteit Brussel (VUB)\"\n",
      "[1] \"P. Huybrechts--Earth System Sciences & Departement Geografie, Vrije Universiteit Brussel (VUB)\"\n",
      "[1] \"J.J. Fürst--Earth System Sciences & Departement Geografie, Vrije Universiteit Brussel (VUB)\"\n",
      "[1] \"O. Rybak--Earth System Sciences & Departement Geografie, Vrije Universiteit Brussel (VUB)\"\n",
      "[1] \"O. Eisen--Alfred-Wegener-Institut für Polar- und Meeresforschung (AWI)\"\n",
      "[1] \"Add: 0000-0002-7443-4034\"\n",
      "[1] \"Add: 0000-0002-7234-0544\"\n",
      "[1] \"Add: 0000-0003-1406-0525\"\n"
     ]
    },
    {
     "name": "stderr",
     "output_type": "stream",
     "text": [
      "Warning message:\n",
      "“Unknown or uninitialised column: `orcid-identifier.path`.”\n",
      "Warning message:\n",
      "“Unknown or uninitialised column: `orcid-identifier.path`.”\n",
      "Warning message:\n",
      "“Unknown or uninitialised column: `orcid-identifier.path`.”\n",
      "Warning message:\n",
      "“Unknown or uninitialised column: `orcid-identifier.path`.”\n",
      "Warning message:\n",
      "“Unknown or uninitialised column: `orcid-identifier.path`.”\n",
      "Warning message:\n",
      "“Unknown or uninitialised column: `orcid-identifier.path`.”\n",
      "Warning message:\n",
      "“Unknown or uninitialised column: `orcid-identifier.path`.”\n",
      "Warning message:\n",
      "“Unknown or uninitialised column: `orcid-identifier.path`.”\n",
      "Warning message:\n",
      "“Unknown or uninitialised column: `orcid-identifier.path`.”\n",
      "Warning message:\n",
      "“Unknown or uninitialised column: `orcid-identifier.path`.”\n"
     ]
    },
    {
     "name": "stdout",
     "output_type": "stream",
     "text": [
      "[1] \"Kenichi Matsuoka--Institute of Low Temperature Science, Hokkaido University\"\n",
      "[1] \"Hideo Maeno--Communications Research Laboratory\"\n",
      "[1] \"Seiho Uratsuka--Communications Research Laboratory\"\n",
      "[1] \" Shuji Fujita--Department of Applied Physics, Graduate School of Engineering, Hokkaido University\"\n",
      "[1] \"Teruo Furukawa--National Institute of Polar Research\"\n",
      "[1] \"Okitsugu Watanabe--National Institute of Polar Research\"\n",
      "[1] \"Add: 0000-0002-3587-3405\"\n"
     ]
    },
    {
     "name": "stderr",
     "output_type": "stream",
     "text": [
      "Warning message:\n",
      "“Unknown or uninitialised column: `orcid-identifier.path`.”\n",
      "Warning message:\n",
      "“Unknown or uninitialised column: `orcid-identifier.path`.”\n"
     ]
    },
    {
     "name": "stdout",
     "output_type": "stream",
     "text": [
      "[1] \"J. Cook--Department of Geography, University of Sheffield\"\n",
      "[1] \"A. Hodson--Department of Geography, University of Sheffield\"\n",
      "[1] \"J. Telling--Bristol Glaciology Centre, School of Geographical Sciences, University of Bristol\"\n",
      "[1] \"A. Anesio--Bristol Glaciology Centre, School of Geographical Sciences, University of Bristol\"\n",
      "[1] \"T. Irvine-Fynn--Department of Geography, University of Sheffield\"\n",
      "[1] \"C. Bellas--Bristol Glaciology Centre, School of Geographical Sciences, University of Bristol\"\n",
      "[1] \"Add: 0000-0002-8180-0979\"\n",
      "[1] \"Add: 0000-0002-9270-363X\"\n",
      "[1] \"Add: 0000-0003-3157-6646\"\n",
      "[1] \"Add: 0000-0002-1255-7987\"\n"
     ]
    },
    {
     "name": "stderr",
     "output_type": "stream",
     "text": [
      "Warning message:\n",
      "“Unknown or uninitialised column: `orcid-identifier.path`.”\n",
      "Warning message:\n",
      "“Unknown or uninitialised column: `orcid-identifier.path`.”\n",
      "Warning message:\n",
      "“Unknown or uninitialised column: `orcid-identifier.path`.”\n",
      "Warning message:\n",
      "“Unknown or uninitialised column: `orcid-identifier.path`.”\n",
      "Warning message:\n",
      "“Unknown or uninitialised column: `orcid-identifier.path`.”\n",
      "Warning message:\n",
      "“Unknown or uninitialised column: `orcid-identifier.path`.”\n",
      "Warning message:\n",
      "“Unknown or uninitialised column: `orcid-identifier.path`.”\n",
      "Warning message:\n",
      "“Unknown or uninitialised column: `orcid-identifier.path`.”\n"
     ]
    },
    {
     "name": "stdout",
     "output_type": "stream",
     "text": [
      "[1] \"S. Cook--College of Science\"\n",
      "[1] \"T. Zwinger\"\n",
      "[1] \"I.C. Rutt--College of Science\"\n",
      "[1] \"S. O'Neel\"\n",
      "[1] \"T. Murray--College of Science\"\n",
      "[1] \"Add: 0000-0001-9878-4218\"\n",
      "[1] \"Add: 0000-0003-4015-6010\"\n"
     ]
    },
    {
     "name": "stderr",
     "output_type": "stream",
     "text": [
      "Warning message:\n",
      "“Unknown or uninitialised column: `orcid-identifier.path`.”\n",
      "Warning message:\n",
      "“Unknown or uninitialised column: `orcid-identifier.path`.”\n",
      "Warning message:\n",
      "“Unknown or uninitialised column: `orcid-identifier.path`.”\n",
      "Warning message:\n",
      "“Unknown or uninitialised column: `orcid-identifier.path`.”\n",
      "Warning message:\n",
      "“Unknown or uninitialised column: `orcid-identifier.path`.”\n",
      "Warning message:\n",
      "“Unknown or uninitialised column: `orcid-identifier.path`.”\n",
      "Warning message:\n",
      "“Unknown or uninitialised column: `orcid-identifier.path`.”\n",
      "Warning message:\n",
      "“Unknown or uninitialised column: `orcid-identifier.path`.”\n",
      "Warning message:\n",
      "“Unknown or uninitialised column: `orcid-identifier.path`.”\n"
     ]
    },
    {
     "name": "stdout",
     "output_type": "stream",
     "text": [
      "[1] \"Valentina Radić--Stockholm University\"\n",
      "[1] \"Regine Hock--Geophysical Institute\"\n",
      "[1] \"Johannes Oerlemans--Institute for Marine and Atmospheric Research Utrecht\"\n",
      "[1] \"Error in: 3271 owi:0000-0002-1185-0751\"\n",
      "[1] \"Add: 0000-0001-8336-9441\"\n",
      "[1] \"Donald Perovich--Thayer School of Engineering, Dartmouth College---0000-0002-0576-0864\"\n",
      "[1] \"Bonnie Light--Polar Science Center, University of Washington\"\n",
      "[1] \"Suzanne Dickinson--Polar Science Center, University of Washington\"\n"
     ]
    },
    {
     "name": "stderr",
     "output_type": "stream",
     "text": [
      "Warning message:\n",
      "“Unknown or uninitialised column: `orcid-identifier.path`.”\n",
      "Warning message:\n",
      "“Unknown or uninitialised column: `orcid-identifier.path`.”\n",
      "Warning message:\n",
      "“Unknown or uninitialised column: `orcid-identifier.path`.”\n",
      "Warning message:\n",
      "“Unknown or uninitialised column: `orcid-identifier.path`.”\n"
     ]
    },
    {
     "name": "stdout",
     "output_type": "stream",
     "text": [
      "[1] \"Kristen St John--James Madison University\"\n",
      "[1] \"Sandra Passchier--Department of Earth and Environmental Studies\"\n",
      "[1] \"Brooke TantillO\"\n",
      "[1] \"Dennis Darby--Old Dominion University\"\n",
      "[1] \"Lance Kearns--James Madison University\"\n",
      "[1] \"Add: 0000-0001-7204-7025\"\n",
      "[1] \"Yun Wang--Department of Geophysics/Glaciology\"\n",
      "[1] \"Thorsteinn Thorsteinsson--Department of Geophysics/Glaciology\"\n",
      "[1] \"Josef Kipfstuhl--Department of Geophysics/Glaciology\"\n",
      "[1] \"Heinz Miller--Department of Geophysics/Glaciology\"\n",
      "[1] \"Dorthe Dahl-Jensen--Niels Bohr Institute for Astronomy\"\n",
      "[1] \"Hitoshi Shoji--New Energy Resources Research Center\"\n",
      "[1] \"Add: 0000-0002-1474-1948\"\n"
     ]
    },
    {
     "name": "stderr",
     "output_type": "stream",
     "text": [
      "Warning message:\n",
      "“Unknown or uninitialised column: `orcid-identifier.path`.”\n",
      "Warning message:\n",
      "“Unknown or uninitialised column: `orcid-identifier.path`.”\n"
     ]
    },
    {
     "name": "stdout",
     "output_type": "stream",
     "text": [
      "[1] \"Hans W. Linderholm--Göteborg University\"\n",
      "[1] \"Peter Jansson--Stockholm University\"\n",
      "[1] \"Add: 0000-0002-8832-8806\"\n",
      "[1] \"Add: 0000-0002-1522-8919\"\n",
      "[1] \"Takateru Yamagishi--Center for Climate System Research, The University of Tokyo\"\n",
      "[1] \"Ayako Abe-Ouchi--Center for Climate System Research, The University of Tokyo\"\n",
      "[1] \"Fuyuki Saito--Frontier Research Center for Global Change\"\n",
      "[1] \"Tomonori Segawa--Frontier Research Center for Global Change\"\n",
      "[1] \"Teruyuki Nishimura--Frontier Research Center for Global Change\"\n",
      "[1] \"Add: 0000-0001-5935-9614\"\n",
      "[1] \"Add: 0000-0003-1745-5952\"\n"
     ]
    },
    {
     "name": "stderr",
     "output_type": "stream",
     "text": [
      "Warning message:\n",
      "“Unknown or uninitialised column: `orcid-identifier.path`.”\n"
     ]
    },
    {
     "name": "stdout",
     "output_type": "stream",
     "text": [
      "[1] \"Bruce Jamieson--Department of Civil Engineering, Department of Geology and Geophysics, University of Calgary\"\n",
      "[1] \"Charles Fierz--WSL Swiss Federal Institute for Snow and Avalanche Research SLF\"\n",
      "[1] \"Add: 0000-0001-9490-6732\"\n",
      "[1] \"C. S. M. Doake--British Antarctic Survey, Natural Environment Research Council\"\n",
      "[1] \"H. F. J. Corr--British Antarctic Survey, Natural Environment Research Council\"\n",
      "[1] \"A. Jenkins--British Antarctic Survey, Natural Environment Research Council\"\n",
      "[1] \"Add: 0000-0002-9117-0616\"\n"
     ]
    },
    {
     "name": "stderr",
     "output_type": "stream",
     "text": [
      "Warning message:\n",
      "“Unknown or uninitialised column: `orcid-identifier.path`.”\n",
      "Warning message:\n",
      "“Unknown or uninitialised column: `orcid-identifier.path`.”\n",
      "Warning message:\n",
      "“Unknown or uninitialised column: `orcid-identifier.path`.”\n"
     ]
    },
    {
     "name": "stdout",
     "output_type": "stream",
     "text": [
      "[1] \"Qinghua Yang--Polar Environmental Research and Forecasting Division\"\n",
      "[1] \"Svetlana N. Losa--Alfred Wegener Institute Helmholtz Centre for Polar and Marine Research\"\n",
      "[1] \"Martin Losch--Alfred Wegener Institute Helmholtz Centre for Polar and Marine Research\"\n",
      "[1] \"Jiping Liu--Department of Atmospheric and Environmental Sciences\"\n",
      "[1] \"Zhanhai Zhang--Key Laboratory for Polar Science of the State Oceanic Administration\"\n",
      "[1] \"Lars Nerger--Alfred Wegener Institute Helmholtz Centre for Polar and Marine Research\"\n",
      "[1] \"Hu Yang--Alfred Wegener Institute Helmholtz Centre for Polar and Marine Research\"\n",
      "[1] \"Add: 0000-0003-2054-2256\"\n",
      "[1] \"Add: 0000-0003-2153-1954\"\n",
      "[1] \"Add: 0000-0002-1908-1010\"\n",
      "[1] \"Add: 0000-0002-3824-5244\"\n",
      "[1] \"Silvia Becagli--University of Florence\"\n",
      "[1] \"Marco Proposito\"\n",
      "[1] \"Silvia Benassai--University of Florence\"\n",
      "[1] \"Roberto Gragnani--University of Florence\"\n",
      "[1] \"Olivier Magand\"\n",
      "[1] \"Rita Traversi--University of Florence\"\n",
      "[1] \"Roberto Udisti--University of Florence\"\n",
      "[1] \"Add: 0000-0002-9790-2195\"\n",
      "[1] \"Add: 0000-0003-3633-4849\"\n"
     ]
    },
    {
     "name": "stderr",
     "output_type": "stream",
     "text": [
      "Warning message:\n",
      "“Unknown or uninitialised column: `orcid-identifier.path`.”\n",
      "Warning message:\n",
      "“Unknown or uninitialised column: `orcid-identifier.path`.”\n",
      "Warning message:\n",
      "“Unknown or uninitialised column: `orcid-identifier.path`.”\n",
      "Warning message:\n",
      "“Unknown or uninitialised column: `orcid-identifier.path`.”\n",
      "Warning message:\n",
      "“Unknown or uninitialised column: `orcid-identifier.path`.”\n"
     ]
    },
    {
     "name": "stdout",
     "output_type": "stream",
     "text": [
      "[1] \"Benjamin Brock--Department of Geography, University of Dundee\"\n",
      "[1] \"Andrés Rivera\"\n",
      "[1] \"Gino Casassa\"\n",
      "[1] \"Francisca Bown\"\n",
      "[1] \"César Acuña\"\n",
      "[1] \"Add: 0000-0002-5377-0776\"\n",
      "[1] \"Add: 0000-0002-2779-4192\"\n"
     ]
    },
    {
     "name": "stderr",
     "output_type": "stream",
     "text": [
      "Warning message:\n",
      "“Unknown or uninitialised column: `orcid-identifier.path`.”\n",
      "Warning message:\n",
      "“Unknown or uninitialised column: `orcid-identifier.path`.”\n"
     ]
    },
    {
     "name": "stdout",
     "output_type": "stream",
     "text": [
      "[1] \"Andrew Zammit-Mangion--School of Geographical Sciences, University of Bristol\"\n",
      "[1] \"Jonathan L. Bamber--School of Geographical Sciences, University of Bristol\"\n",
      "[1] \"Nana W. Schoen--School of Geographical Sciences, University of Bristol\"\n",
      "[1] \"Jonathan C. Rougier--Department of Mathematics, University of Bristol\"\n",
      "[1] \"Error in: 3302 owi:0000-0002-4164-6866\"\n",
      "[1] \"Add: 0000-0003-3072-7043\"\n",
      "[1] \"S. Takahashi\"\n",
      "[1] \"T. Kameda\"\n",
      "[1] \"H. Enomoto\"\n",
      "[1] \"T. Shiraiwa\"\n",
      "[1] \"Y. Kodama\"\n",
      "[1] \"S. Fujita\"\n",
      "[1] \"H. Motoyama\"\n",
      "[1] \"O. Watanabe\"\n",
      "[1] \"G. A. Weidner\"\n",
      "[1] \"C. R. Stearns\"\n",
      "[1] \"Add: 0000-0003-2303-8928\"\n"
     ]
    },
    {
     "name": "stderr",
     "output_type": "stream",
     "text": [
      "Warning message:\n",
      "“Unknown or uninitialised column: `orcid-identifier.path`.”\n",
      "Warning message:\n",
      "“Unknown or uninitialised column: `orcid-identifier.path`.”\n",
      "Warning message:\n",
      "“Unknown or uninitialised column: `orcid-identifier.path`.”\n"
     ]
    },
    {
     "name": "stdout",
     "output_type": "stream",
     "text": [
      "[1] \"Claudia Mihalcea--Department of Earth Sciences ‘Ardito Desio’, University of Milan\"\n",
      "[1] \"Christoph Mayer--Commission for Glaciology, Bavarian Academy of Sciences and Humanities\"\n",
      "[1] \"Guglielmina Diolaiuti--Department of Earth Sciences ‘Ardito Desio’, University of Milan\"\n",
      "[1] \"Astrid Lambrecht--Institute for Meteorology and Geophysics, University of Innsbruck\"\n",
      "[1] \"Claudio Smiraglia--Department of Earth Sciences ‘Ardito Desio’, University of Milan\"\n",
      "[1] \"Gianni Tartari--CNR–IRSA, Water Research Institute/National Research Council\"\n",
      "[1] \"Add: 0000-0001-6635-2074\"\n",
      "[1] \"Add: 0000-0002-3883-9309\"\n"
     ]
    },
    {
     "name": "stderr",
     "output_type": "stream",
     "text": [
      "Warning message:\n",
      "“Unknown or uninitialised column: `orcid-identifier.path`.”\n",
      "Warning message:\n",
      "“Unknown or uninitialised column: `orcid-identifier.path`.”\n"
     ]
    },
    {
     "name": "stdout",
     "output_type": "stream",
     "text": [
      "[1] \"Simon G. Sheldon--Centre for Ice and Climate, Niels Bohr Institute, University of Copenhagen\"\n",
      "[1] \"Jørgen P. Steffensen--Centre for Ice and Climate, Niels Bohr Institute, University of Copenhagen\"\n",
      "[1] \"Steffen B. Hansen--Centre for Ice and Climate, Niels Bohr Institute, University of Copenhagen\"\n",
      "[1] \"Trevor J. Popp--Centre for Ice and Climate, Niels Bohr Institute, University of Copenhagen\"\n",
      "[1] \"Sigfús J. Johnsen--Centre for Ice and Climate, Niels Bohr Institute, University of Copenhagen\"\n",
      "[1] \"Add: 0000-0002-5516-1093\"\n"
     ]
    },
    {
     "name": "stderr",
     "output_type": "stream",
     "text": [
      "Warning message:\n",
      "“Unknown or uninitialised column: `orcid-identifier.path`.”\n",
      "Warning message:\n",
      "“Unknown or uninitialised column: `orcid-identifier.path`.”\n",
      "Warning message:\n",
      "“Unknown or uninitialised column: `orcid-identifier.path`.”\n",
      "Warning message:\n",
      "“Unknown or uninitialised column: `orcid-identifier.path`.”\n",
      "Warning message:\n",
      "“Unknown or uninitialised column: `orcid-identifier.path`.”\n",
      "Warning message:\n",
      "“Unknown or uninitialised column: `orcid-identifier.path`.”\n",
      "Warning message:\n",
      "“Unknown or uninitialised column: `orcid-identifier.path`.”\n",
      "Warning message:\n",
      "“Unknown or uninitialised column: `orcid-identifier.path`.”\n",
      "Warning message:\n",
      "“Unknown or uninitialised column: `orcid-identifier.path`.”\n",
      "Warning message:\n",
      "“Unknown or uninitialised column: `orcid-identifier.path`.”\n",
      "Warning message:\n",
      "“Unknown or uninitialised column: `orcid-identifier.path`.”\n",
      "Warning message:\n",
      "“Unknown or uninitialised column: `orcid-identifier.path`.”\n",
      "Warning message:\n",
      "“Unknown or uninitialised column: `orcid-identifier.path`.”\n",
      "Warning message:\n",
      "“Unknown or uninitialised column: `orcid-identifier.path`.”\n"
     ]
    },
    {
     "name": "stdout",
     "output_type": "stream",
     "text": [
      "[1] \"Dustin M. Schroeder--Stanford University---0000-0003-1916-3929\"\n",
      "[1] \"Andrew M. Hilger--Stanford University\"\n",
      "[1] \"John D. Paden--University of Kansas\"\n",
      "[1] \"Duncan A. Young--University of Texas\"\n",
      "[1] \"Hugh F. J. Corr--Natural Environment Research Council\"\n",
      "[1] \"Add: 0000-0003-1916-3929\"\n"
     ]
    },
    {
     "name": "stderr",
     "output_type": "stream",
     "text": [
      "Warning message:\n",
      "“Unknown or uninitialised column: `orcid-identifier.path`.”\n",
      "Warning message:\n",
      "“Unknown or uninitialised column: `orcid-identifier.path`.”\n",
      "Warning message:\n",
      "“Unknown or uninitialised column: `orcid-identifier.path`.”\n",
      "Warning message:\n",
      "“Unknown or uninitialised column: `orcid-identifier.path`.”\n",
      "Warning message:\n",
      "“Unknown or uninitialised column: `orcid-identifier.path`.”\n",
      "Warning message:\n",
      "“Unknown or uninitialised column: `orcid-identifier.path`.”\n"
     ]
    },
    {
     "name": "stdout",
     "output_type": "stream",
     "text": [
      "[1] \"Mark R. Drinkwater\"\n",
      "[1] \"Richard Francis\"\n",
      "[1] \"Guy Ratier\"\n",
      "[1] \"Duncan J. Wingham--Centre for Polar Observation and Modelling, University College London\"\n",
      "[1] \"Add: 0000-0002-9250-3806\"\n"
     ]
    },
    {
     "name": "stderr",
     "output_type": "stream",
     "text": [
      "Warning message:\n",
      "“Unknown or uninitialised column: `orcid-identifier.path`.”\n"
     ]
    },
    {
     "name": "stdout",
     "output_type": "stream",
     "text": [
      "[1] \"F. Paul--Department of Geography,  University of Zürich-Irchel\"\n",
      "[1] \"R.G. Barry--National Snow and Ice Data Center, CIRES,  University of Colorado Boulder\"\n",
      "[1] \"J.G. Cogley--Department of Geography, Trent University,  Peterborough\"\n",
      "[1] \"H. Frey--Department of Geography,  University of Zürich-Irchel\"\n",
      "[1] \"W. Haeberli--Department of Geography,  University of Zürich-Irchel\"\n",
      "[1] \"A. Ohmura--Institute for Atmospheric and Climate Science,  ETH Zürich\"\n",
      "[1] \"C.S.L. Ommanney\"\n",
      "[1] \"B. Raup--National Snow and Ice Data Center, CIRES,  University of Colorado Boulder\"\n",
      "[1] \"A. Rivera\"\n",
      "[1] \"M. Zemp--Department of Geography,  University of Zürich-Irchel\"\n",
      "[1] \"Add: 0000-0001-9239-0859\"\n",
      "[1] \"Add: 0000-0002-2779-4192\"\n"
     ]
    },
    {
     "name": "stderr",
     "output_type": "stream",
     "text": [
      "Warning message:\n",
      "“Unknown or uninitialised column: `orcid-identifier.path`.”\n"
     ]
    },
    {
     "name": "stdout",
     "output_type": "stream",
     "text": [
      "[1] \"C. Molina--Universidad Politécnica de Madrid\"\n",
      "[1] \"F.J. Navarro--Universidad Politécnica de Madrid\"\n",
      "[1] \"J. Calvet--Universitat de Barcelona\"\n",
      "[1] \"D. García-Sellés--Universitat de Barcelona\"\n",
      "[1] \"J.J. Lapazaran--Universidad Politécnica de Madrid\"\n",
      "[1] \"Add: 0000-0003-1820-4960\"\n",
      "[1] \"Add: 0000-0002-5147-0067\"\n"
     ]
    },
    {
     "name": "stderr",
     "output_type": "stream",
     "text": [
      "Warning message:\n",
      "“Unknown or uninitialised column: `orcid-identifier.path`.”\n"
     ]
    },
    {
     "name": "stdout",
     "output_type": "stream",
     "text": [
      "[1] \"Antonio Mondini--Institute of Biology---0000-0003-1810-3633\"\n",
      "[1] \"Johanna Donhauser--Swiss Federal Research Institute WSL\"\n",
      "[1] \"Corina Itcus--Institute of Biology\"\n",
      "[1] \"Constantin Marin--Emil Racovita Institute of Speleology\"\n",
      "[1] \"Aurel Perșoiu--Institute of Biology---0000-0001-9506-0070\"\n",
      "[1] \"Paris Lavin--Laboratorio de Complejidad Microbiana y Ecología Funcional, Instituto Antofagasta, Universidad de Antofagasta\"\n",
      "[1] \"Beat Frey--Swiss Federal Research Institute WSL\"\n",
      "[1] \"Cristina Purcarea--Institute of Biology\"\n",
      "[1] \"Add: 0000-0001-5784-8545\"\n"
     ]
    },
    {
     "name": "stderr",
     "output_type": "stream",
     "text": [
      "Warning message:\n",
      "“Unknown or uninitialised column: `orcid-identifier.path`.”\n"
     ]
    },
    {
     "name": "stdout",
     "output_type": "stream",
     "text": [
      "[1] \"Sergey Sokratov--Moscow State University\"\n",
      "[1] \"Nikolai Kazakov\"\n",
      "[1] \"Add: 0000-0001-9265-2935\"\n",
      "[1] \"Colin Fox--Mathematics Department, University of Auckland\"\n",
      "[1] \"Tim G. Haskell--Industrial Research Limited\"\n",
      "[1] \"Hyuck Chung--Mathematics Department, University of Auckland\"\n",
      "[1] \"Add: 0000-0002-9278-1777\"\n"
     ]
    },
    {
     "name": "stderr",
     "output_type": "stream",
     "text": [
      "Warning message:\n",
      "“Unknown or uninitialised column: `orcid-identifier.path`.”\n",
      "Warning message:\n",
      "“Unknown or uninitialised column: `orcid-identifier.path`.”\n",
      "Warning message:\n",
      "“Unknown or uninitialised column: `orcid-identifier.path`.”\n"
     ]
    },
    {
     "name": "stdout",
     "output_type": "stream",
     "text": [
      "[1] \"Helena J. Sykes--School of the Environment and Society\"\n",
      "[1] \"Tavi Murray--School of the Environment and Society\"\n",
      "[1] \"Adrian Luckman--School of the Environment and Society\"\n",
      "[1] \"Add: 0000-0002-9618-5905\"\n"
     ]
    },
    {
     "name": "stderr",
     "output_type": "stream",
     "text": [
      "Warning message:\n",
      "“Unknown or uninitialised column: `orcid-identifier.path`.”\n"
     ]
    },
    {
     "name": "stdout",
     "output_type": "stream",
     "text": [
      "[1] \"Diedrich Fritzsche--Alfred Wegener Institute for Polar and Marine Research\"\n",
      "[1] \"Rainer Schütt--Alfred Wegener Institute for Polar and Marine Research\"\n",
      "[1] \"Hanno Meyer--Alfred Wegener Institute for Polar and Marine Research\"\n",
      "[1] \"Heinz Miller--Alfred Wegener Institute for Polar and Marine Research\"\n",
      "[1] \"Frank Wilhelms--Alfred Wegener Institute for Polar and Marine Research\"\n",
      "[1] \"Thomas Opel--Alfred Wegener Institute for Polar and Marine Research\"\n",
      "[1] \"Lev M. Savatyugin--Arctic and Antarctic Research Institute\"\n",
      "[1] \"Add: 0000-0002-0018-8993\"\n",
      "[1] \"Add: 0000-0001-7688-3135\"\n",
      "[1] \"Add: 0000-0003-1315-8256\"\n",
      "[1] \"Add: 0000-0003-4129-4706\"\n",
      "[1] \"M. Steffens\"\n",
      "[1] \"M.A. Granskog\"\n",
      "[1] \"H. Kaartokallio\"\n",
      "[1] \"H. Kuosa\"\n",
      "[1] \"K. Luodekari\"\n",
      "[1] \"S. Papadimitriou\"\n",
      "[1] \"D.N. Thomas\"\n",
      "[1] \"Add: 0000-0002-2762-8098\"\n",
      "[1] \"Add: 0000-0002-9641-9054\"\n",
      "[1] \"Add: 0000-0002-5035-4347\"\n",
      "[1] \"Eva Huintjes--RWTH Aachen University\"\n",
      "[1] \"David Loibl--RWTH Aachen University\"\n",
      "[1] \"Frank Lehmkuhl--RWTH Aachen University\"\n",
      "[1] \"Christoph Schneider--RWTH Aachen University\"\n",
      "[1] \"Add: 0000-0002-7583-999X\"\n",
      "[1] \"Add: 0000-0002-9914-3217\"\n"
     ]
    },
    {
     "name": "stderr",
     "output_type": "stream",
     "text": [
      "Warning message:\n",
      "“Unknown or uninitialised column: `orcid-identifier.path`.”\n"
     ]
    },
    {
     "name": "stdout",
     "output_type": "stream",
     "text": [
      "[1] \"Seth Campbell--University of Maine\"\n",
      "[1] \"Samuel Roy--University of Maine\"\n",
      "[1] \"Karl Kreutz--University of Maine\"\n",
      "[1] \"Steven A. Arcone--US Army Cold Regions Research and Engineering Laboratory (CRREL)\"\n",
      "[1] \"Erich C. Osterberg--Department of Earth Sciences, Dartmouth College\"\n",
      "[1] \"Peter Koons--University of Maine\"\n",
      "[1] \"Add: 0000-0002-2491-948X\"\n",
      "[1] \"Add: 0000-0002-0675-1230\"\n"
     ]
    },
    {
     "name": "stderr",
     "output_type": "stream",
     "text": [
      "Warning message:\n",
      "“Unknown or uninitialised column: `orcid-identifier.path`.”\n",
      "Warning message:\n",
      "“Unknown or uninitialised column: `orcid-identifier.path`.”\n",
      "Warning message:\n",
      "“Unknown or uninitialised column: `orcid-identifier.path`.”\n",
      "Warning message:\n",
      "“Unknown or uninitialised column: `orcid-identifier.path`.”\n",
      "Warning message:\n",
      "“Unknown or uninitialised column: `orcid-identifier.path`.”\n",
      "Warning message:\n",
      "“Unknown or uninitialised column: `orcid-identifier.path`.”\n",
      "Warning message:\n",
      "“Unknown or uninitialised column: `orcid-identifier.path`.”\n",
      "Warning message:\n",
      "“Unknown or uninitialised column: `orcid-identifier.path`.”\n",
      "Warning message:\n",
      "“Unknown or uninitialised column: `orcid-identifier.path`.”\n",
      "Warning message:\n",
      "“Unknown or uninitialised column: `orcid-identifier.path`.”\n",
      "Warning message:\n",
      "“Unknown or uninitialised column: `orcid-identifier.path`.”\n",
      "Warning message:\n",
      "“Unknown or uninitialised column: `orcid-identifier.path`.”\n"
     ]
    },
    {
     "name": "stdout",
     "output_type": "stream",
     "text": [
      "[1] \"Nicholas Holschuh--The Pennsylvania State University\"\n",
      "[1] \"Knut Christianson--New York University\"\n",
      "[1] \"Sridhar Anandakrishnan--The Pennsylvania State University\"\n",
      "[1] \"Add: 0000-0003-1703-5085\"\n",
      "[1] \"Joseph S. Walder\"\n",
      "[1] \"Dennis C. Trabant\"\n",
      "[1] \"Michelle Cunico--Department of Geology, Portland State University\"\n",
      "[1] \"Suzanne P. Anderson--Institute of Arctic and Alpine Research, University of Colorado\"\n",
      "[1] \"Robert S. Anderson--Institute of Arctic and Alpine Research, University of Colorado\"\n",
      "[1] \"Andrew G. Fountain--Department of Geology, Portland State University\"\n",
      "[1] \"Andrew Malm--Department of Physics, St Olaf College,  1520 St Olaf Avenue\"\n",
      "[1] \"Add: 0000-0003-3523-2998\"\n",
      "[1] \"Add: 0000-0002-6796-6649\"\n"
     ]
    },
    {
     "name": "stderr",
     "output_type": "stream",
     "text": [
      "Warning message:\n",
      "“Unknown or uninitialised column: `orcid-identifier.path`.”\n"
     ]
    },
    {
     "name": "stdout",
     "output_type": "stream",
     "text": [
      "[1] \"Lars H. Smedsrud--University of Bergen and Bjerknes Centre for Climate Research\"\n",
      "[1] \"Torge Martin--Geomar Helmholtz Centre for Ocean Research Kiel\"\n",
      "[1] \"Add: 0000-0002-0882-8780\"\n",
      "[1] \"Add: 0000-0001-7391-0740\"\n",
      "[1] \"Hernán De Angelis--Department of Physical Geography and Quaternary Geology, Stockholm University\"\n",
      "[1] \"Johan Kleman--Department of Physical Geography and Quaternary Geology, Stockholm University\"\n",
      "[1] \"Add: 0000-0002-8584-272X\"\n"
     ]
    },
    {
     "name": "stderr",
     "output_type": "stream",
     "text": [
      "Warning message:\n",
      "“Unknown or uninitialised column: `orcid-identifier.path`.”\n",
      "Warning message:\n",
      "“Unknown or uninitialised column: `orcid-identifier.path`.”\n",
      "Warning message:\n",
      "“Unknown or uninitialised column: `orcid-identifier.path`.”\n",
      "Warning message:\n",
      "“Unknown or uninitialised column: `orcid-identifier.path`.”\n",
      "Warning message:\n",
      "“Unknown or uninitialised column: `orcid-identifier.path`.”\n",
      "Warning message:\n",
      "“Unknown or uninitialised column: `orcid-identifier.path`.”\n"
     ]
    },
    {
     "name": "stdout",
     "output_type": "stream",
     "text": [
      "[1] \"T.J. Fudge--University of Washington\"\n",
      "[1] \"J.T. Harper--University of Montana\"\n",
      "[1] \"N.F. Humphrey--University of Wyoming\"\n",
      "[1] \"W.T. Pfeffer--Institute of Arctic and Alpine Research\"\n",
      "[1] \"Add: 0000-0002-6818-7479\"\n",
      "[1] \"Add: 0000-0002-5175-2080\"\n"
     ]
    },
    {
     "name": "stderr",
     "output_type": "stream",
     "text": [
      "Warning message:\n",
      "“Unknown or uninitialised column: `orcid-identifier.path`.”\n",
      "Warning message:\n",
      "“Unknown or uninitialised column: `orcid-identifier.path`.”\n",
      "Warning message:\n",
      "“Unknown or uninitialised column: `orcid-identifier.path`.”\n",
      "Warning message:\n",
      "“Unknown or uninitialised column: `orcid-identifier.path`.”\n",
      "Warning message:\n",
      "“Unknown or uninitialised column: `orcid-identifier.path`.”\n",
      "Warning message:\n",
      "“Unknown or uninitialised column: `orcid-identifier.path`.”\n",
      "Warning message:\n",
      "“Unknown or uninitialised column: `orcid-identifier.path`.”\n",
      "Warning message:\n",
      "“Unknown or uninitialised column: `orcid-identifier.path`.”\n",
      "Warning message:\n",
      "“Unknown or uninitialised column: `orcid-identifier.path`.”\n",
      "Warning message:\n",
      "“Unknown or uninitialised column: `orcid-identifier.path`.”\n",
      "Warning message:\n",
      "“Unknown or uninitialised column: `orcid-identifier.path`.”\n"
     ]
    },
    {
     "name": "stdout",
     "output_type": "stream",
     "text": [
      "[1] \"Min Song--Thayer School of Engineering, Dartmouth College\"\n",
      "[1] \"David M. Cole--US Army Cold Regions Research and Engineering Laboratory\"\n",
      "[1] \"Ian Baker--Thayer School of Engineering, Dartmouth College\"\n",
      "[1] \"Add: 0000-0002-3197-4647\"\n"
     ]
    },
    {
     "name": "stderr",
     "output_type": "stream",
     "text": [
      "Warning message:\n",
      "“Unknown or uninitialised column: `orcid-identifier.path`.”\n",
      "Warning message:\n",
      "“Unknown or uninitialised column: `orcid-identifier.path`.”\n",
      "Warning message:\n",
      "“Unknown or uninitialised column: `orcid-identifier.path`.”\n",
      "Warning message:\n",
      "“Unknown or uninitialised column: `orcid-identifier.path`.”\n",
      "Warning message:\n",
      "“Unknown or uninitialised column: `orcid-identifier.path`.”\n"
     ]
    },
    {
     "name": "stdout",
     "output_type": "stream",
     "text": [
      "[1] \"Burcu Ozsoy-Cicek--Department of Geological Sciences,  University of Texas at San Antonio\"\n",
      "[1] \"Stephen F. Ackley--Department of Geological Sciences,  University of Texas at San Antonio\"\n",
      "[1] \"Anthony Worby--Australian Antarctic Division and Antarctic Climate and Ecosystems CRC\"\n",
      "[1] \"Hongjie Xie--Department of Geological Sciences,  University of Texas at San Antonio\"\n",
      "[1] \"Jan Lieser--Australian Antarctic Division and Antarctic Climate and Ecosystems CRC\"\n",
      "[1] \"Error in: 3401 owi:0000-0003-4320-1796\"\n",
      "[1] \"Add: 0000-0001-6870-1311\"\n",
      "[1] \"John Turner--British Antarctic Survey\"\n",
      "[1] \"Tom Lachlan-Cope--British Antarctic Survey\"\n",
      "[1] \"Steve Colwell--British Antarctic Survey\"\n",
      "[1] \"Gareth J. Marshall--British Antarctic Survey\"\n",
      "[1] \"Add: 0000-0002-6111-5122\"\n"
     ]
    },
    {
     "name": "stderr",
     "output_type": "stream",
     "text": [
      "Warning message:\n",
      "“Unknown or uninitialised column: `orcid-identifier.path`.”\n"
     ]
    },
    {
     "name": "stdout",
     "output_type": "stream",
     "text": [
      "[1] \"Daniel Farinotti--Laboratory of Hydraulics\"\n",
      "[1] \"Edward C. King--British Antarctic Survey\"\n",
      "[1] \"Anika Albrecht--University of Potsdam\"\n",
      "[1] \"Matthias Huss--Department of Geosciences\"\n",
      "[1] \"G. Hilmar Gudmundsson--British Antarctic Survey\"\n",
      "[1] \"Add: 0000-0003-3417-4570\"\n",
      "[1] \"Add: 0000-0002-2377-6923\"\n",
      "[1] \"Add: 0000-0003-4236-5369\"\n"
     ]
    },
    {
     "name": "stderr",
     "output_type": "stream",
     "text": [
      "Warning message:\n",
      "“Unknown or uninitialised column: `orcid-identifier.path`.”\n"
     ]
    },
    {
     "name": "stdout",
     "output_type": "stream",
     "text": [
      "[1] \"Shuhei Takahashi--Kitami Institute of Technology\"\n",
      "[1] \"Tomofumi Kosugi--Kitami Institute of Technology\"\n",
      "[1] \"Hiroyuki Enomoto--Kitami Institute of Technology\"\n",
      "[1] \"Add: 0000-0003-2303-8928\"\n"
     ]
    },
    {
     "name": "stderr",
     "output_type": "stream",
     "text": [
      "Warning message:\n",
      "“Unknown or uninitialised column: `orcid-identifier.path`.”\n",
      "Warning message:\n",
      "“Unknown or uninitialised column: `orcid-identifier.path`.”\n",
      "Warning message:\n",
      "“Unknown or uninitialised column: `orcid-identifier.path`.”\n"
     ]
    },
    {
     "name": "stdout",
     "output_type": "stream",
     "text": [
      "[1] \"Yukari Takeuchi--Tohkamachi Experimental Station  Forestry and Forest Products Research Institute\"\n",
      "[1] \"Yasoichi Endo--Tohkamachi Experimental Station  Forestry and Forest Products Research Institute\"\n",
      "[1] \"Shigeki Murakami--Tohkamachi Experimental Station  Forestry and Forest Products Research Institute\"\n",
      "[1] \"Add: 0000-0002-4193-055X\"\n"
     ]
    },
    {
     "name": "stderr",
     "output_type": "stream",
     "text": [
      "Warning message:\n",
      "“Unknown or uninitialised column: `orcid-identifier.path`.”\n"
     ]
    },
    {
     "name": "stdout",
     "output_type": "stream",
     "text": [
      "[1] \"E. Schlosser--Institute of Meteorology and Geophysics\"\n",
      "[1] \"H. Anschütz\"\n",
      "[1] \"E. Isaksson--Norwegian Polar Institute\"\n",
      "[1] \"T. Martma--Institute of Geology\"\n",
      "[1] \"D. Divine--University of Tromsø\"\n",
      "[1] \"O.-A. Nøst--Norwegian Polar Institute\"\n",
      "[1] \"Add: 0000-0002-6139-4088\"\n",
      "[1] \"Add: 0000-0003-0548-6698\"\n",
      "[1] \"Add: 0000-0001-5894-7692\"\n"
     ]
    },
    {
     "name": "stderr",
     "output_type": "stream",
     "text": [
      "Warning message:\n",
      "“Unknown or uninitialised column: `orcid-identifier.path`.”\n",
      "Warning message:\n",
      "“Unknown or uninitialised column: `orcid-identifier.path`.”\n",
      "Warning message:\n",
      "“Unknown or uninitialised column: `orcid-identifier.path`.”\n"
     ]
    },
    {
     "name": "stdout",
     "output_type": "stream",
     "text": [
      "[1] \"Anja Diez--Alfred-Wegener-Institut Helmholtz-Zentrum für Polar- und Meeresforschung\"\n",
      "[1] \"Olaf Eisen--Alfred-Wegener-Institut Helmholtz-Zentrum für Polar- und Meeresforschung\"\n",
      "[1] \"Coen Hofstede--Alfred-Wegener-Institut Helmholtz-Zentrum für Polar- und Meeresforschung\"\n",
      "[1] \"Pascal Bohleber--Institut für Umweltphysik, Universität Heidelberg\"\n",
      "[1] \"Ulrich Polom--Leibniz-Institut für Angewandte Geophysik\"\n",
      "[1] \"Add: 0000-0001-6443-6135\"\n"
     ]
    },
    {
     "name": "stderr",
     "output_type": "stream",
     "text": [
      "Warning message:\n",
      "“Unknown or uninitialised column: `orcid-identifier.path`.”\n"
     ]
    },
    {
     "name": "stdout",
     "output_type": "stream",
     "text": [
      "[1] \"Chaomin Wang\"\n",
      "[1] \"Shugui Hou\"\n",
      "[1] \"Hongxi Pang\"\n",
      "[1] \"Yaping Liu\"\n",
      "[1] \"Heinz W. Gäggeler\"\n",
      "[1] \"Leonhard Tobler\"\n",
      "[1] \"Sönke Szidat\"\n",
      "[1] \"Edith Vogel\"\n",
      "[1] \"Add: 0000-0002-1824-6207\"\n"
     ]
    },
    {
     "name": "stderr",
     "output_type": "stream",
     "text": [
      "Warning message:\n",
      "“Unknown or uninitialised column: `orcid-identifier.path`.”\n"
     ]
    },
    {
     "name": "stdout",
     "output_type": "stream",
     "text": [
      "[1] \"Jonathan L. Carrivick--School of Geography, University of Leeds\"\n",
      "[1] \"Add: 0000-0002-9286-5348\"\n"
     ]
    },
    {
     "name": "stderr",
     "output_type": "stream",
     "text": [
      "Warning message:\n",
      "“Unknown or uninitialised column: `orcid-identifier.path`.”\n",
      "Warning message:\n",
      "“Unknown or uninitialised column: `orcid-identifier.path`.”\n",
      "Warning message:\n",
      "“Unknown or uninitialised column: `orcid-identifier.path`.”\n",
      "Warning message:\n",
      "“Unknown or uninitialised column: `orcid-identifier.path`.”\n"
     ]
    },
    {
     "name": "stdout",
     "output_type": "stream",
     "text": [
      "[1] \"Frank Pattyn--Department of Geography, Vrije Universiteit Brussel\"\n",
      "[1] \"Sang De Brabander--Department of Geography, Vrije Universiteit Brussel\"\n",
      "[1] \"Ann Huyghe--Department of Geography, Vrije Universiteit Brussel\"\n",
      "[1] \"Add: 0000-0003-4805-5636\"\n"
     ]
    },
    {
     "name": "stderr",
     "output_type": "stream",
     "text": [
      "Warning message:\n",
      "“Unknown or uninitialised column: `orcid-identifier.path`.”\n",
      "Warning message:\n",
      "“Unknown or uninitialised column: `orcid-identifier.path`.”\n",
      "Warning message:\n",
      "“Unknown or uninitialised column: `orcid-identifier.path`.”\n",
      "Warning message:\n",
      "“Unknown or uninitialised column: `orcid-identifier.path`.”\n",
      "Warning message:\n",
      "“Unknown or uninitialised column: `orcid-identifier.path`.”\n"
     ]
    },
    {
     "name": "stdout",
     "output_type": "stream",
     "text": [
      "[1] \"Nanna B. Karlsson--Centre for Ice and Climate, Niels Bohr Institute, University of Copenhagen\"\n",
      "[1] \"Dorthe Dahl-Jensen--Centre for Ice and Climate, Niels Bohr Institute, University of Copenhagen\"\n",
      "[1] \"S. Prasad Gogineni--Center for Remote Sensing of Ice Sheets, University of Kansas\"\n",
      "[1] \"John D. Paden--Center for Remote Sensing of Ice Sheets, University of Kansas\"\n",
      "[1] \"Add: 0000-0003-0423-8705\"\n",
      "[1] \"Add: 0000-0002-1474-1948\"\n"
     ]
    },
    {
     "name": "stderr",
     "output_type": "stream",
     "text": [
      "Warning message:\n",
      "“Unknown or uninitialised column: `orcid-identifier.path`.”\n",
      "Warning message:\n",
      "“Unknown or uninitialised column: `orcid-identifier.path`.”\n"
     ]
    },
    {
     "name": "stdout",
     "output_type": "stream",
     "text": [
      "[1] \"Antti E. K. Ojala--Geological Survey of Finland\"\n",
      "[1] \"Gustaf Peterson--Geological Survey of Sweden\"\n",
      "[1] \"Joni Mäkinen--University of Turku\"\n",
      "[1] \"Mark D. Johnson--University of Gothenburg\"\n",
      "[1] \"Kari Kajuutti--University of Turku\"\n",
      "[1] \"Jukka-Pekka Palmu--Geological Survey of Finland\"\n",
      "[1] \"Elina Ahokangas--University of Turku\"\n",
      "[1] \"Christian Öhrling--Geological Survey of Sweden\"\n",
      "[1] \"Add: 0000-0001-8432-6849\"\n",
      "[1] \"Add: 0000-0002-9537-283X\"\n"
     ]
    },
    {
     "name": "stderr",
     "output_type": "stream",
     "text": [
      "Warning message:\n",
      "“Unknown or uninitialised column: `orcid-identifier.path`.”\n",
      "Warning message:\n",
      "“Unknown or uninitialised column: `orcid-identifier.path`.”\n",
      "Warning message:\n",
      "“Unknown or uninitialised column: `orcid-identifier.path`.”\n",
      "Warning message:\n",
      "“Unknown or uninitialised column: `orcid-identifier.path`.”\n",
      "Warning message:\n",
      "“Unknown or uninitialised column: `orcid-identifier.path`.”\n"
     ]
    },
    {
     "name": "stdout",
     "output_type": "stream",
     "text": [
      "[1] \"Frédéric Flin\"\n",
      "[1] \"Jean-Bruno Brzoska\"\n",
      "[1] \"Bernard Lesaffre\"\n",
      "[1] \"Cécile Coléou\"\n",
      "[1] \"Romeu André Pieritz\"\n",
      "[1] \"Add: 0000-0001-9931-7769\"\n"
     ]
    },
    {
     "name": "stderr",
     "output_type": "stream",
     "text": [
      "Warning message:\n",
      "“Unknown or uninitialised column: `orcid-identifier.path`.”\n",
      "Warning message:\n",
      "“Unknown or uninitialised column: `orcid-identifier.path`.”\n"
     ]
    },
    {
     "name": "stdout",
     "output_type": "stream",
     "text": [
      "[1] \"Fiammetta Straneo--Woods Hole Oceanographic Institution (WHOI)\"\n",
      "[1] \"David A. Sutherland--University of Oregon\"\n",
      "[1] \"David Holland--New York University\"\n",
      "[1] \"Carl Gladish--New York University\"\n",
      "[1] \"Gordon S. Hamilton--Climate Change Institute\"\n",
      "[1] \"Helen L. Johnson--University of Oxford\"\n",
      "[1] \"Eric Rignot--University of California\"\n",
      "[1] \"Yun Xu--University of California\"\n",
      "[1] \"Michele Koppes--University of British Columbia\"\n",
      "[1] \"Add: 0000-0002-3716-5517\"\n",
      "[1] \"Add: 0000-0002-2843-8608\"\n",
      "[1] \"Add: 0000-0003-1873-2085\"\n",
      "[1] \"Add: 0000-0002-3366-0481\"\n"
     ]
    },
    {
     "name": "stderr",
     "output_type": "stream",
     "text": [
      "Warning message:\n",
      "“Unknown or uninitialised column: `orcid-identifier.path`.”\n"
     ]
    },
    {
     "name": "stdout",
     "output_type": "stream",
     "text": [
      "[1] \"Hiroyuki Hirashima--Institute of Low Temperature Science, Hokkaido University\"\n",
      "[1] \"Kouichi Nishimura--Nagaoka Institute of Snow and Ice Studies, National Research Institute for Earth Science and Disaster Prevention\"\n",
      "[1] \"Emiko Baba--Institute of Low Temperature Science, Hokkaido University\"\n",
      "[1] \"Akihiro Hachikubo--Kitami Institute of Technology\"\n",
      "[1] \"Michael Lehning--WSL Swiss Federal Institute for Snow and Avalanche Research SLF\"\n",
      "[1] \"Add: 0000-0003-2521-2491\"\n"
     ]
    },
    {
     "name": "stderr",
     "output_type": "stream",
     "text": [
      "Warning message:\n",
      "“Unknown or uninitialised column: `orcid-identifier.path`.”\n",
      "Warning message:\n",
      "“Unknown or uninitialised column: `orcid-identifier.path`.”\n",
      "Warning message:\n",
      "“Unknown or uninitialised column: `orcid-identifier.path`.”\n"
     ]
    },
    {
     "name": "stdout",
     "output_type": "stream",
     "text": [
      "[1] \"Paul Duval--Laboratoire de Glaciologie et Géophysique de I’Environnement\"\n",
      "[1] \"Laurent Arnaud--Laboratoire de Glaciologie et Géophysique de I’Environnement\"\n",
      "[1] \"Olivier Brissaud--Laboratoire de Glaciologie et Géophysique de I’Environnement\"\n",
      "[1] \"Maureen Montagnat--Laboratoire de Glaciologie et Géophysique de I’Environnement\"\n",
      "[1] \"Sophie de la Chapelle--Laboratoire de Glaciologie et Géophysique de I’Environnement\"\n",
      "[1] \"Add: 0000-0002-4432-4205\"\n",
      "[1] \"Christoph Haemmig\"\n",
      "[1] \"Matthias Huss\"\n",
      "[1] \"Hansrudolf Keusen\"\n",
      "[1] \"Josef Hess\"\n",
      "[1] \"Urs Wegmüller\"\n",
      "[1] \"Zhigang Ao\"\n",
      "[1] \"Wubuli Kulubayi\"\n",
      "[1] \"Add: 0000-0002-2377-6923\"\n"
     ]
    },
    {
     "name": "stderr",
     "output_type": "stream",
     "text": [
      "Warning message:\n",
      "“Unknown or uninitialised column: `orcid-identifier.path`.”\n"
     ]
    },
    {
     "name": "stdout",
     "output_type": "stream",
     "text": [
      "[1] \"Christine M. LeDoux--Portland State University\"\n",
      "[1] \"Christina L. Hulbe--University of Otago\"\n",
      "[1] \"Martin P. Forbes--University of Otago\"\n",
      "[1] \"Ted A. Scambos--University of Colorado Boulder\"\n",
      "[1] \"Karen Alley--University of Colorado Boulder\"\n",
      "[1] \"Add: 0000-0003-0358-3806\"\n",
      "[1] \"Add: 0000-0003-4765-7037\"\n",
      "[1] \"Ian Willis--Scott Polar Research Institute and Department of Geography, University of Cambridge\"\n",
      "[1] \"Douglas Mair--Department of Geography and Environment, University of Aberdeen\"\n",
      "[1] \"Bryn Hubbard--Centre for Glaciology, Institute of Geography and Earth Sciences, University of Wales\"\n",
      "[1] \"Peter Nienow--Department of Geography and Topographic Sciences, University of Glasgow\"\n",
      "[1] \"Urs H. Fischer--Laboratory of Hydraulics, Hydrology and Glaciology\"\n",
      "[1] \"Alun Hubbard--Department of Geography, University of Edinburgh\"\n",
      "[1] \"Add: 0000-0002-3565-3875\"\n",
      "[1] \"N. Bertler--Victoria University\"\n",
      "[1] \"P.A. Mayewski--Climate Change Institute\"\n",
      "[1] \"A. Aristarain\"\n",
      "[1] \"P. Barrett--Victoria University\"\n",
      "[1] \"S. Becagli--University of Florence\"\n",
      "[1] \"R. Bernardo\"\n",
      "[1] \"S. Bo--Polar Research Institute of China\"\n",
      "[1] \"Xiao C.--Institute of Climate and Environment\"\n",
      "[1] \"M. Curran\"\n",
      "[1] \"Qin D.--Cold and Arid Regions Environmental and Engineering Research Institute\"\n",
      "[1] \"D. Dixon--Climate Change Institute\"\n",
      "[1] \"F. Ferrona\"\n",
      "[1] \"H. Fischer--Alfred Wegener Institute for Polar and Marine Research\"\n",
      "[1] \"M. Frey--The University of Arizona\"\n",
      "[1] \"M. Frezzotti\"\n",
      "[1] \"F. Fundel--Alfred Wegener Institute for Polar and Marine Research\"\n",
      "[1] \"C. Genthon\"\n",
      "[1] \"R. Gragnani\"\n",
      "[1] \"G. Hamilton--Climate Change Institute\"\n",
      "[1] \"M. Handley--Climate Change Institute\"\n",
      "[1] \"S. Hong--Korea Polar Research Institute\"\n",
      "[1] \"E. Isaksson--Norwegian Polar Institute\"\n",
      "[1] \"Kang J.--Polar Research Institute of China\"\n",
      "[1] \"Ren J.--Cold and Arid Regions Environmental and Engineering Research Institute\"\n",
      "[1] \"K. Kamiyama--National Institute of Polar Research\"\n",
      "[1] \"S. Kanamori--National Institute of Polar Research\"\n",
      "[1] \"E. Kärkäs--University of Helsinki\"\n",
      "[1] \"L. Karlöf--Norwegian Polar Institute\"\n",
      "[1] \"S. Kaspari--Climate Change Institute\"\n",
      "[1] \"K. Kreutz--Climate Change Institute\"\n",
      "[1] \"E. Meyerson--Climate Change Institute\"\n",
      "[1] \"A. Kurbatov--Climate Change Institute\"\n",
      "[1] \"Y. Ming--Polar Research Institute of China\"\n",
      "[1] \"Zhang M.--Cold and Arid Regions Environmental and Engineering Research Institute\"\n",
      "[1] \"H. Motoyama--National Institute of Polar Research\"\n",
      "[1] \"R. Mulvaney\"\n",
      "[1] \"H. Oerter--Alfred Wegener Institute for Polar and Marine Research\"\n",
      "[1] \"E. Osterberg--Climate Change Institute\"\n",
      "[1] \"M. Proposito\"\n",
      "[1] \"A. Pyne--Victoria University\"\n",
      "[1] \"U. Ruth--Alfred Wegener Institute for Polar and Marine Research\"\n",
      "[1] \"J. Simões\"\n",
      "[1] \"B. Smith\"\n",
      "[1] \"S. Sneed--Climate Change Institute\"\n",
      "[1] \"K. Teinilä--Finnish Meteorological Institute\"\n",
      "[1] \"F. Traufetter--Alfred Wegener Institute for Polar and Marine Research\"\n",
      "[1] \"R. Udisti--University of Florence\"\n",
      "[1] \"A. Virkkula--University of Helsinki\"\n",
      "[1] \"O. Watanabe--National Institute of Polar Research\"\n",
      "[1] \"B. Williamson--Climate Change Institute\"\n",
      "[1] \"J-G. Winther--Norwegian Polar Institute\"\n",
      "[1] \"Li Y.--Polar Research Institute of China\"\n",
      "[1] \"E. Wolff\"\n",
      "[1] \"Li Z.--Cold and Arid Regions Environmental and Engineering Research Institute\"\n",
      "[1] \"A. Zielinski--Climate Change Institute\"\n",
      "[1] \"Add: 0000-0002-9819-9251\"\n",
      "[1] \"Add: 0000-0002-0675-1230\"\n",
      "[1] \"Add: 0000-0001-6028-4891\"\n",
      "[1] \"Add: 0000-0003-0535-0416\"\n",
      "[1] \"Add: 0000-0002-2461-2883\"\n",
      "[1] \"Add: 0000-0003-3633-4849\"\n"
     ]
    },
    {
     "name": "stderr",
     "output_type": "stream",
     "text": [
      "Warning message:\n",
      "“Unknown or uninitialised column: `orcid-identifier.path`.”\n",
      "Warning message:\n",
      "“Unknown or uninitialised column: `orcid-identifier.path`.”\n"
     ]
    },
    {
     "name": "stdout",
     "output_type": "stream",
     "text": [
      "[1] \"Dorthe Dahl-Jensen\"\n",
      "[1] \"Niels Gundestrup\"\n",
      "[1] \"S. Prasad Gogineni\"\n",
      "[1] \"Heinz Miller\"\n",
      "[1] \"Add: 0000-0002-1474-1948\"\n"
     ]
    },
    {
     "name": "stderr",
     "output_type": "stream",
     "text": [
      "Warning message:\n",
      "“Unknown or uninitialised column: `orcid-identifier.path`.”\n",
      "Warning message:\n",
      "“Unknown or uninitialised column: `orcid-identifier.path`.”\n",
      "Warning message:\n",
      "“Unknown or uninitialised column: `orcid-identifier.path`.”\n",
      "Warning message:\n",
      "“Unknown or uninitialised column: `orcid-identifier.path`.”\n",
      "Warning message:\n",
      "“Unknown or uninitialised column: `orcid-identifier.path`.”\n"
     ]
    },
    {
     "name": "stdout",
     "output_type": "stream",
     "text": [
      "[1] \"Julian Freed-Brown--University of Chicago\"\n",
      "[1] \"Jason M. Amundson--University of Chicago\"\n",
      "[1] \"Douglas R. MacAyeal--University of Chicago\"\n",
      "[1] \"Wendy W. Zhang--University of Chicago\"\n",
      "[1] \"Add: 0000-0003-0647-6176\"\n"
     ]
    },
    {
     "name": "stderr",
     "output_type": "stream",
     "text": [
      "Warning message:\n",
      "“Unknown or uninitialised column: `orcid-identifier.path`.”\n"
     ]
    },
    {
     "name": "stdout",
     "output_type": "stream",
     "text": [
      "[1] \"Sverrir Aðalsteinn Jónsson--Institute of Earth Sciences, University of Iceland\"\n",
      "[1] \"Ívar Örn Benediktsson--Institute of Earth Sciences, University of Iceland\"\n",
      "[1] \"Ólafur Ingólfsson--Institute of Earth Sciences, University of Iceland\"\n",
      "[1] \"Anders Schomacker--UiT The Arctic University of Norway\"\n",
      "[1] \"Helga Lucia Bergsdóttir--Institute of Earth Sciences, University of Iceland\"\n",
      "[1] \"William R. Jacobson--University of Wisconsin-Milwaukee\"\n",
      "[1] \"Hans Linderson--Lund University\"\n",
      "[1] \"Add: 0000-0002-9966-0767\"\n",
      "[1] \"Add: 0000-0002-8031-9008\"\n",
      "[1] \"Error in: 3469 owi:0000-0001-8143-2005\"\n"
     ]
    },
    {
     "name": "stderr",
     "output_type": "stream",
     "text": [
      "Warning message:\n",
      "“Unknown or uninitialised column: `orcid-identifier.path`.”\n",
      "Warning message:\n",
      "“Unknown or uninitialised column: `orcid-identifier.path`.”\n"
     ]
    },
    {
     "name": "stdout",
     "output_type": "stream",
     "text": [
      "[1] \"Caiping Zhou--Institute of Geographic Sciences and Natural Resources Research, Chinese Academy of Sciences, Datun Road, Chaoyang District\"\n",
      "[1] \"Wenbin Yang--Institute of Geographic Sciences and Natural Resources Research, Chinese Academy of Sciences, Datun Road, Chaoyang District\"\n",
      "[1] \"Liang Wu--Institute of Geographic Sciences and Natural Resources Research, Chinese Academy of Sciences, Datun Road, Chaoyang District\"\n",
      "[1] \"Shiyin Liu--Cold and Arid Regions Environmental and Engineering Research Institute, Chinese Academy of Sciences,  320 West Donggang Road\"\n",
      "[1] \"Add: 0000-0002-9625-7497\"\n",
      "[1] \"Byron R. Parizek--Department of Geosciences and EMS Environment Institute, The Pennsylvania State University\"\n",
      "[1] \"Richard B. Alley--Department of Geosciences and EMS Environment Institute, The Pennsylvania State University\"\n",
      "[1] \"Christina L. Hulbe--Department of Geology, Portland State University\"\n",
      "[1] \"Add: 0000-0003-4765-7037\"\n"
     ]
    },
    {
     "name": "stderr",
     "output_type": "stream",
     "text": [
      "Warning message:\n",
      "“Unknown or uninitialised column: `orcid-identifier.path`.”\n"
     ]
    },
    {
     "name": "stdout",
     "output_type": "stream",
     "text": [
      "[1] \"V.S. Litvinenko--National Mineral Resources University\"\n",
      "[1] \"N.I. Vasiliev--National Mineral Resources University\"\n",
      "[1] \"V.Ya. Lipenkov--Arctic and Antarctic Research Institute\"\n",
      "[1] \"A.N. Dmitriev--National Mineral Resources University\"\n",
      "[1] \"A.V. Podoliak--National Mineral Resources University\"\n",
      "[1] \"Add: 0000-0003-4615-3179\"\n",
      "[1] \"Add: 0000-0002-4295-7535\"\n",
      "[1] \"Add: 0000-0003-4221-5440\"\n",
      "[1] \"J.K. Ehn\"\n",
      "[1] \"M.A. Granskog\"\n",
      "[1] \"T. Papakyriakou\"\n",
      "[1] \"R. Galley\"\n",
      "[1] \"D.G. Barber\"\n",
      "[1] \"Add: 0000-0002-5035-4347\"\n",
      "[1] \"Thomas Turpin-Jelfs--School of Geographical Sciences, University of Bristol\"\n",
      "[1] \"Katerina Michaelides--School of Geographical Sciences, University of Bristol\"\n",
      "[1] \"Joshua J. Blacker--School of Earth and Environment, University of Leeds\"\n",
      "[1] \"Liane G. Benning--School of Earth and Environment, University of Leeds\"\n",
      "[1] \"James M. Williams--School of Geographical Sciences, University of Bristol\"\n",
      "[1] \"Alexandre M. Anesio--School of Geographical Sciences, University of Bristol\"\n",
      "[1] \"Add: 0000-0002-7996-0543\"\n",
      "[1] \"Add: 0000-0003-2990-4014\"\n"
     ]
    },
    {
     "name": "stderr",
     "output_type": "stream",
     "text": [
      "Warning message:\n",
      "“Unknown or uninitialised column: `orcid-identifier.path`.”\n",
      "Warning message:\n",
      "“Unknown or uninitialised column: `orcid-identifier.path`.”\n"
     ]
    },
    {
     "name": "stdout",
     "output_type": "stream",
     "text": [
      "[1] \"Tómas Jóhannesson--Icelandic Meteorological Office\"\n",
      "[1] \"Helgi Björnsson--Institute of Earth Sciences, University of Iceland\"\n",
      "[1] \"Eyjólfur Magnússon--Institute of Earth Sciences, University of Iceland\"\n",
      "[1] \"Sverrir Guðmundsson--Institute of Earth Sciences, University of Iceland\"\n",
      "[1] \"Finnur Pálsson--Institute of Earth Sciences, University of Iceland\"\n",
      "[1] \"Oddur Sigurðsson--Icelandic Meteorological Office\"\n",
      "[1] \"Thorsteinn Thorsteinsson--Icelandic Meteorological Office\"\n",
      "[1] \"Etienne Berthier--Laboratoire d’Etudes en Géophysique et Océanographie Spatiales, Centre National de la Recherche Scientifique, Université de Toulouse\"\n",
      "[1] \"Add: 0000-0001-5978-9155\"\n",
      "[1] \"Nan Zhang--Polar Research Center, Jilin University\"\n",
      "[1] \"Chunlei An--SOA Key Laboratory for Polar Science, Polar Research Institute of China\"\n",
      "[1] \"Xiaopeng Fan--Polar Research Center, Jilin University\"\n",
      "[1] \"Guitao Shi--SOA Key Laboratory for Polar Science, Polar Research Institute of China\"\n",
      "[1] \"Chuanjin Li--State Key Laboratory of Cryospheric Sciences, Cold and Arid Regions Environmental and Engineering Research Institute, Chinese Academy of Sciences\"\n",
      "[1] \"Jingfeng Liu--State Key Laboratory of Cryospheric Sciences, Cold and Arid Regions Environmental and Engineering Research Institute, Chinese Academy of Sciences\"\n",
      "[1] \"Zhengyi Hu--Polar Research Center, Jilin University\"\n",
      "[1] \"Pavel Talalay--Polar Research Center, Jilin University\"\n",
      "[1] \"Youhong Sun--Polar Research Center, Jilin University\"\n",
      "[1] \"Yuansheng Li--SOA Key Laboratory for Polar Science, Polar Research Institute of China\"\n",
      "[1] \"Add: 0000-0002-8230-4600\"\n",
      "[1] \"Cécile Coléou--Centre d’Études de la Neige/Centre National de Recherches Météorologiques/Météo -France\"\n",
      "[1] \"Bernard Lesaffre--Centre d’Études de la Neige/Centre National de Recherches Météorologiques/Météo -France\"\n",
      "[1] \"Jean-Bruno Brzoska--Centre d’Études de la Neige/Centre National de Recherches Météorologiques/Météo -France\"\n",
      "[1] \"Wolfgang Ludwig--European Synchrotron Radiation Facility (ESRF)\"\n",
      "[1] \"Elodie Boller--European Synchrotron Radiation Facility (ESRF)\"\n",
      "[1] \"Add: 0000-0002-3256-3831\"\n",
      "[1] \"Mats A. Granskog--Norwegian Polar Institute\"\n",
      "[1] \"Daiki Nomura--Institute of Low Temperature Science\"\n",
      "[1] \"Susann Müller--Department of Biological and Environmental Sciences\"\n",
      "[1] \"Andreas Krell--Alfred-Wegener-Institut Helmholtz-Zentrum für Polar- und Meeresforschung\"\n",
      "[1] \"Takenobu Toyota--Institute of Low Temperature Science\"\n",
      "[1] \"Hiroshi Hattori--Tokai University\"\n",
      "[1] \"Add: 0000-0002-5035-4347\"\n"
     ]
    },
    {
     "name": "stderr",
     "output_type": "stream",
     "text": [
      "Warning message:\n",
      "“Unknown or uninitialised column: `orcid-identifier.path`.”\n"
     ]
    },
    {
     "name": "stdout",
     "output_type": "stream",
     "text": [
      "[1] \"J. Schwander--Climate and Environmental Physics, Physics Institute, University of Bern\"\n",
      "[1] \"S. Marending--Climate and Environmental Physics, Physics Institute, University of Bern\"\n",
      "[1] \"T.F. Stocker--Climate and Environmental Physics, Physics Institute, University of Bern\"\n",
      "[1] \"H. Fischer--Climate and Environmental Physics, Physics Institute, University of Bern\"\n",
      "[1] \"Add: 0000-0002-2787-4221\"\n",
      "[1] \"Veijo Allan Pohjola--Byrd Polar Research Center, The Ohio State University, Columbus\"\n",
      "[1] \"Jeffrey C. Rogers--Department of Geography, The Ohio State University, Columbus\"\n",
      "[1] \"Add: 0000-0001-6851-1673\"\n"
     ]
    },
    {
     "name": "stderr",
     "output_type": "stream",
     "text": [
      "Warning message:\n",
      "“Unknown or uninitialised column: `orcid-identifier.path`.”\n",
      "Warning message:\n",
      "“Unknown or uninitialised column: `orcid-identifier.path`.”\n",
      "Warning message:\n",
      "“Unknown or uninitialised column: `orcid-identifier.path`.”\n",
      "Warning message:\n",
      "“Unknown or uninitialised column: `orcid-identifier.path`.”\n",
      "Warning message:\n",
      "“Unknown or uninitialised column: `orcid-identifier.path`.”\n",
      "Warning message:\n",
      "“Unknown or uninitialised column: `orcid-identifier.path`.”\n"
     ]
    },
    {
     "name": "stdout",
     "output_type": "stream",
     "text": [
      "[1] \"Eric J. Steig\"\n",
      "[1] \"Paul A. Mayewski\"\n",
      "[1] \"Daniel A. Dixon\"\n",
      "[1] \"Susan D. Kaspari\"\n",
      "[1] \"Markus M. Frey\"\n",
      "[1] \"David P. Schneider\"\n",
      "[1] \"Steven A. Arcone\"\n",
      "[1] \"Gordon S. Hamilton\"\n",
      "[1] \"V. Blue Spikes\"\n",
      "[1] \" Mary Albert\"\n",
      "[1] \"Deb Meese\"\n",
      "[1] \"Anthony J. Gow\"\n",
      "[1] \"Christopher A. Shuman\"\n",
      "[1] \"James W.C. White\"\n",
      "[1] \"Sharon Sneed\"\n",
      "[1] \"Joseph Flaherty\"\n",
      "[1] \"Mark Wumkes\"\n",
      "[1] \"Add: 0000-0003-0535-0416\"\n",
      "[1] \"Mohd Farooq Azam\"\n",
      "[1] \"Patrick Wagnon\"\n",
      "[1] \"Christian Vincent\"\n",
      "[1] \"Alagappan Ramanathan\"\n",
      "[1] \"Anurag Linda\"\n",
      "[1] \"Virendra Bahadur Singh\"\n",
      "[1] \"Error in: 3494 owi:0000-0002-3491-2273\"\n"
     ]
    },
    {
     "name": "stderr",
     "output_type": "stream",
     "text": [
      "Warning message:\n",
      "“Unknown or uninitialised column: `orcid-identifier.path`.”\n"
     ]
    },
    {
     "name": "stdout",
     "output_type": "stream",
     "text": [
      "[1] \"L. Testut--UMR5566, Groupe de Recherche de Géodésie Spatiale, CNES-CNRS\"\n",
      "[1] \"I. E. Tabacco--Dipartimento di Scienze della Terra, Università degli Studi di Milano\"\n",
      "[1] \"C. Bianchi--ING, Via di Vigna Murata 605\"\n",
      "[1] \"F. Rémy--UMR5566, Groupe de Recherche de Géodésie Spatiale, CNES-CNRS\"\n",
      "[1] \"Add: 0000-0002-3969-2919\"\n"
     ]
    },
    {
     "name": "stderr",
     "output_type": "stream",
     "text": [
      "Warning message:\n",
      "“Unknown or uninitialised column: `orcid-identifier.path`.”\n"
     ]
    },
    {
     "name": "stdout",
     "output_type": "stream",
     "text": [
      "[1] \"Jürg Schweizer--WSL Institute for Snow and Avalanche Research SLF\"\n",
      "[1] \"J. Bruce Jamieson--Department of Civil Engineering, University of Calgary\"\n",
      "[1] \"Add: 0000-0001-5076-2968\"\n"
     ]
    },
    {
     "name": "stderr",
     "output_type": "stream",
     "text": [
      "Warning message:\n",
      "“Unknown or uninitialised column: `orcid-identifier.path`.”\n"
     ]
    },
    {
     "name": "stdout",
     "output_type": "stream",
     "text": [
      "[1] \"Clare Eayrs--New York University Abu Dhabi---0000-0003-3129-7604\"\n",
      "[1] \"Daiane Faller--New York University Abu Dhabi\"\n",
      "[1] \"David M. Holland--New York University Abu Dhabi\"\n"
     ]
    },
    {
     "name": "stderr",
     "output_type": "stream",
     "text": [
      "Warning message:\n",
      "“Unknown or uninitialised column: `orcid-identifier.path`.”\n"
     ]
    },
    {
     "name": "stdout",
     "output_type": "stream",
     "text": [
      "[1] \"Shin Sugiyama--Institute of Low Temperature Science\"\n",
      "[1] \"Takeshi Yoshizawa--Institute of Low Temperature Science\"\n",
      "[1] \"Matthias Huss--University of Fribourg\"\n",
      "[1] \"Shun Tsutaki--Institute of Low Temperature Science\"\n",
      "[1] \"Daisuke Nishimura--Institute of Low Temperature Science\"\n",
      "[1] \"Add: 0000-0002-5716-225X\"\n",
      "[1] \"Add: 0000-0002-2377-6923\"\n"
     ]
    },
    {
     "name": "stderr",
     "output_type": "stream",
     "text": [
      "Warning message:\n",
      "“Unknown or uninitialised column: `orcid-identifier.path`.”\n"
     ]
    },
    {
     "name": "stdout",
     "output_type": "stream",
     "text": [
      "[1] \"Stephan Paul--University of Trier\"\n",
      "[1] \"Sascha Willmes--University of Trier\"\n",
      "[1] \"Mario Hoppmann\"\n",
      "[1] \"Priska A. Hunkeler\"\n",
      "[1] \"Christine Wesche\"\n",
      "[1] \"Marcel Nicolaus\"\n",
      "[1] \"Günther Heinemann--University of Trier\"\n",
      "[1] \"Ralph Timmermann\"\n",
      "[1] \"Add: 0000-0002-5136-714X\"\n",
      "[1] \"Add: 0000-0002-4831-9016\"\n"
     ]
    },
    {
     "name": "stderr",
     "output_type": "stream",
     "text": [
      "Warning message:\n",
      "“Unknown or uninitialised column: `orcid-identifier.path`.”\n",
      "Warning message:\n",
      "“Unknown or uninitialised column: `orcid-identifier.path`.”\n"
     ]
    },
    {
     "name": "stdout",
     "output_type": "stream",
     "text": [
      "[1] \"Piers R. F. Barnes--British Antarctic Survey\"\n",
      "[1] \"Robert Mulvaney--British Antarctic Survey\"\n",
      "[1] \"Kenneth Robinson--British Antarctic Survey\"\n",
      "[1] \"Eric W. Wolff--British Antarctic Survey\"\n",
      "[1] \"Add: 0000-0002-5372-8148\"\n",
      "[1] \"Add: 0000-0002-5914-8531\"\n",
      "[1] \"Laurent Mingo--Blue System Integration Ltd.---0000-0001-7863-1257\"\n",
      "[1] \"Gwenn E. Flowers--Simon Fraser University---0000-0002-3574-9324\"\n",
      "[1] \"Anna J. Crawford--Carleton University---0000-0003-3620-1130\"\n",
      "[1] \"Derek R. Mueller--Carleton University\"\n",
      "[1] \"David G. Bigelow--Simon Fraser University\"\n",
      "[1] \"Add: 0000-0003-1375-6475\"\n",
      "[1] \"D. Vikhamar-Schuler--Norwegian Meteorological Institute\"\n",
      "[1] \"I. Hanssen-Bauer--Norwegian Meteorological Institute\"\n",
      "[1] \"T.V. Schuler--Department of Geosciences, University of Oslo\"\n",
      "[1] \"S.D. Mathiesen--UArctic EALAT Institute at International Centre for Reindeer Husbandry\"\n",
      "[1] \"M. Lehning--WSL, Swiss Federal Institute for Forest, Snow and Landscape Research, SLF\"\n",
      "[1] \"Add: 0000-0003-0972-3929\"\n"
     ]
    },
    {
     "name": "stderr",
     "output_type": "stream",
     "text": [
      "Warning message:\n",
      "“Unknown or uninitialised column: `orcid-identifier.path`.”\n",
      "Warning message:\n",
      "“Unknown or uninitialised column: `orcid-identifier.path`.”\n",
      "Warning message:\n",
      "“Unknown or uninitialised column: `orcid-identifier.path`.”\n",
      "Warning message:\n",
      "“Unknown or uninitialised column: `orcid-identifier.path`.”\n",
      "Warning message:\n",
      "“Unknown or uninitialised column: `orcid-identifier.path`.”\n",
      "Warning message:\n",
      "“Unknown or uninitialised column: `orcid-identifier.path`.”\n",
      "Warning message:\n",
      "“Unknown or uninitialised column: `orcid-identifier.path`.”\n"
     ]
    },
    {
     "name": "stdout",
     "output_type": "stream",
     "text": [
      "[1] \"V.S. Kulibaba\"\n",
      "[1] \"M.E. Eglit\"\n",
      "[1] \"Add: 0000-0001-5233-4908\"\n"
     ]
    },
    {
     "name": "stderr",
     "output_type": "stream",
     "text": [
      "Warning message:\n",
      "“Unknown or uninitialised column: `orcid-identifier.path`.”\n"
     ]
    },
    {
     "name": "stdout",
     "output_type": "stream",
     "text": [
      "[1] \"Ryszard Staroszczyk\"\n",
      "[1] \"Add: 0000-0002-0423-1717\"\n"
     ]
    },
    {
     "name": "stderr",
     "output_type": "stream",
     "text": [
      "Warning message:\n",
      "“Unknown or uninitialised column: `orcid-identifier.path`.”\n"
     ]
    },
    {
     "name": "stdout",
     "output_type": "stream",
     "text": [
      "[1] \"Michalea D. King--University of Delaware---0000-0002-8138-4362\"\n",
      "[1] \"Dana E. Veron--University of Delaware\"\n",
      "[1] \"Helga S. Huntley--University of Delaware\"\n"
     ]
    },
    {
     "name": "stderr",
     "output_type": "stream",
     "text": [
      "Warning message:\n",
      "“Unknown or uninitialised column: `orcid-identifier.path`.”\n",
      "Warning message:\n",
      "“Unknown or uninitialised column: `orcid-identifier.path`.”\n",
      "Warning message:\n",
      "“Unknown or uninitialised column: `orcid-identifier.path`.”\n",
      "Warning message:\n",
      "“Unknown or uninitialised column: `orcid-identifier.path`.”\n"
     ]
    },
    {
     "name": "stdout",
     "output_type": "stream",
     "text": [
      "[1] \"G. Diolaiuti--Department of Earth Sciences ‘Ardito Desio’, University of Milan\"\n",
      "[1] \"M.P. Kirkbride--Department of Geography, University of Dundee\"\n",
      "[1] \"C. Smiraglia--Department of Earth Sciences ‘Ardito Desio’, University of Milan\"\n",
      "[1] \"D.I. Benn--School of Geography and Geosciences, University of St Andrews\"\n",
      "[1] \"C. D’Agata--Department of Earth Sciences ‘Ardito Desio’, University of Milan\"\n",
      "[1] \"L. Nicholson--Department of Geography, University of Dundee\"\n",
      "[1] \"Add: 0000-0002-3337-7301\"\n",
      "[1] \"Add: 0000-0001-6635-2074\"\n"
     ]
    },
    {
     "name": "stderr",
     "output_type": "stream",
     "text": [
      "Warning message:\n",
      "“Unknown or uninitialised column: `orcid-identifier.path`.”\n"
     ]
    },
    {
     "name": "stdout",
     "output_type": "stream",
     "text": [
      "[1] \"Melanie Rankl--Institute of Geography\"\n",
      "[1] \"Matthias Braun--Institute of Geography\"\n",
      "[1] \"Add: 0000-0001-5169-1567\"\n"
     ]
    },
    {
     "name": "stderr",
     "output_type": "stream",
     "text": [
      "Warning message:\n",
      "“Unknown or uninitialised column: `orcid-identifier.path`.”\n",
      "Warning message:\n",
      "“Unknown or uninitialised column: `orcid-identifier.path`.”\n",
      "Warning message:\n",
      "“Unknown or uninitialised column: `orcid-identifier.path`.”\n",
      "Warning message:\n",
      "“Unknown or uninitialised column: `orcid-identifier.path`.”\n",
      "Warning message:\n",
      "“Unknown or uninitialised column: `orcid-identifier.path`.”\n"
     ]
    },
    {
     "name": "stdout",
     "output_type": "stream",
     "text": [
      "[1] \"Rajmund Przybylak--Nicolaus Copernicus University\"\n",
      "[1] \"Add: 0000-0003-4101-6116\"\n"
     ]
    },
    {
     "name": "stderr",
     "output_type": "stream",
     "text": [
      "Warning message:\n",
      "“Unknown or uninitialised column: `orcid-identifier.path`.”\n"
     ]
    },
    {
     "name": "stdout",
     "output_type": "stream",
     "text": [
      "[1] \"Alison L. Kohout--National Institute of Water and Atmospheric Research Ltd\"\n",
      "[1] \"Michael H. Meylan--Department of Mathematics,  University of Auckland\"\n",
      "[1] \"David R. Plew--National Institute of Water and Atmospheric Research Ltd\"\n",
      "[1] \"Add: 0000-0002-3164-1367\"\n"
     ]
    },
    {
     "name": "stderr",
     "output_type": "stream",
     "text": [
      "Warning message:\n",
      "“Unknown or uninitialised column: `orcid-identifier.path`.”\n",
      "Warning message:\n",
      "“Unknown or uninitialised column: `orcid-identifier.path`.”\n",
      "Warning message:\n",
      "“Unknown or uninitialised column: `orcid-identifier.path`.”\n",
      "Warning message:\n",
      "“Unknown or uninitialised column: `orcid-identifier.path`.”\n"
     ]
    },
    {
     "name": "stdout",
     "output_type": "stream",
     "text": [
      "[1] \"E. Thibert--Cemagref, UR ETGR\"\n",
      "[1] \"D. Baroudi--Cemagref, UR ETGR\"\n",
      "[1] \"Add: 0000-0003-2843-5367\"\n",
      "[1] \"Madison L. Goldberg--Harvard University---0000-0003-3850-1428\"\n",
      "[1] \"Dustin M. Schroeder--Stanford University---0000-0003-1916-3929\"\n",
      "[1] \"Davide Castelletti--Stanford University\"\n",
      "[1] \"Elisa Mantelli--Stanford University---0000-0001-5096-7998\"\n",
      "[1] \"Neil Ross--Newcastle University---0000-0002-8338-4905\"\n",
      "[1] \"Martin J. Siegert--Imperial College London---0000-0002-0090-4806\"\n"
     ]
    },
    {
     "name": "stderr",
     "output_type": "stream",
     "text": [
      "Warning message:\n",
      "“Unknown or uninitialised column: `orcid-identifier.path`.”\n",
      "Warning message:\n",
      "“Unknown or uninitialised column: `orcid-identifier.path`.”\n"
     ]
    },
    {
     "name": "stdout",
     "output_type": "stream",
     "text": [
      "[1] \"Birgit Sattler--Institute of Ecology, University of Innsbruck\"\n",
      "[1] \"Michael C. Storrie-Lombardi--Kinohi Institute\"\n",
      "[1] \"Christine M. Foreman--Center for Biofilm Engineering and Department of Land Resources and Environmental Sciences, Montana State University\"\n",
      "[1] \"Markus Tilg--Institute of Ecology, University of Innsbruck\"\n",
      "[1] \"Roland Psenner--Institute of Ecology, University of Innsbruck\"\n",
      "[1] \"Add: 0000-0003-0230-4692\"\n"
     ]
    },
    {
     "name": "stderr",
     "output_type": "stream",
     "text": [
      "Warning message:\n",
      "“Unknown or uninitialised column: `orcid-identifier.path`.”\n",
      "Warning message:\n",
      "“Unknown or uninitialised column: `orcid-identifier.path`.”\n",
      "Warning message:\n",
      "“Unknown or uninitialised column: `orcid-identifier.path`.”\n",
      "Warning message:\n",
      "“Unknown or uninitialised column: `orcid-identifier.path`.”\n"
     ]
    },
    {
     "name": "stdout",
     "output_type": "stream",
     "text": [
      "[1] \"Mario Hoppmann--Alfred-Wegener-Institut Helmholtz-Zentrum für Polar- und Meeresforschung\"\n",
      "[1] \"Marcel Nicolaus--Alfred-Wegener-Institut Helmholtz-Zentrum für Polar- und Meeresforschung\"\n",
      "[1] \"Stephan Paul--University of Trier\"\n",
      "[1] \"Priska A. Hunkeler--Alfred-Wegener-Institut Helmholtz-Zentrum für Polar- und Meeresforschung\"\n",
      "[1] \"Günther Heinemann--University of Trier\"\n",
      "[1] \"Sascha Willmes--University of Trier\"\n",
      "[1] \"Ralph Timmermann--Alfred-Wegener-Institut Helmholtz-Zentrum für Polar- und Meeresforschung\"\n",
      "[1] \"Olaf Boebel--Alfred-Wegener-Institut Helmholtz-Zentrum für Polar- und Meeresforschung\"\n",
      "[1] \"Thomas Schmidt--Alfred-Wegener-Institut Helmholtz-Zentrum für Polar- und Meeresforschung\"\n",
      "[1] \"Meike Kühnel--Alfred-Wegener-Institut Helmholtz-Zentrum für Polar- und Meeresforschung\"\n",
      "[1] \"Gert König-Langlo--Alfred-Wegener-Institut Helmholtz-Zentrum für Polar- und Meeresforschung\"\n",
      "[1] \"Rüdiger Gerdes--Alfred-Wegener-Institut Helmholtz-Zentrum für Polar- und Meeresforschung\"\n",
      "[1] \"Add: 0000-0002-5136-714X\"\n",
      "[1] \"Add: 0000-0002-4831-9016\"\n",
      "[1] \"Add: 0000-0002-6100-4107\"\n",
      "[1] \"Claire L. Parkinson\"\n",
      "[1] \"Add: 0000-0001-6730-4197\"\n"
     ]
    },
    {
     "name": "stderr",
     "output_type": "stream",
     "text": [
      "Warning message:\n",
      "“Unknown or uninitialised column: `orcid-identifier.path`.”\n"
     ]
    },
    {
     "name": "stdout",
     "output_type": "stream",
     "text": [
      "[1] \"E. Zege\"\n",
      "[1] \"I. Katsev\"\n",
      "[1] \"A. Malinka\"\n",
      "[1] \"A. Prikhach\"\n",
      "[1] \"I. Polonsky\"\n",
      "[1] \"Add: 0000-0002-0651-5115\"\n"
     ]
    },
    {
     "name": "stderr",
     "output_type": "stream",
     "text": [
      "Warning message:\n",
      "“Unknown or uninitialised column: `orcid-identifier.path`.”\n",
      "Warning message:\n",
      "“Unknown or uninitialised column: `orcid-identifier.path`.”\n",
      "Warning message:\n",
      "“Unknown or uninitialised column: `orcid-identifier.path`.”\n",
      "Warning message:\n",
      "“Unknown or uninitialised column: `orcid-identifier.path`.”\n",
      "Warning message:\n",
      "“Unknown or uninitialised column: `orcid-identifier.path`.”\n"
     ]
    },
    {
     "name": "stdout",
     "output_type": "stream",
     "text": [
      "[1] \"Andrey N. Salamatin--Department of Applied Mathematics, Kazan State University\"\n",
      "[1] \"Catherine Ritz--Laboratoire de Glaciologie et Géophysique de l’Environnement\"\n",
      "[1] \"Add: 0000-0003-0785-8571\"\n"
     ]
    },
    {
     "name": "stderr",
     "output_type": "stream",
     "text": [
      "Warning message:\n",
      "“Unknown or uninitialised column: `orcid-identifier.path`.”\n"
     ]
    },
    {
     "name": "stdout",
     "output_type": "stream",
     "text": [
      "[1] \"John Hulth--Department of Mathematical Sciences and Technology, Norwegian University of Life Sciences\"\n",
      "[1] \"Cecilie Rolstad Denby--Department of Mathematical Sciences and Technology, Norwegian University of Life Sciences\"\n",
      "[1] \"Regine Hock--Geophysical Institute, University of Alaska Fairbanks\"\n",
      "[1] \"Add: 0000-0001-8336-9441\"\n",
      "[1] \"Benjamin H. Hills--University of Washington---0000-0003-4490-7416\"\n",
      "[1] \"Knut Christianson--University of Washington---0000-0002-5116-3032\"\n",
      "[1] \"Nicholas Holschuh--University of Washington---0000-0003-1703-5085\"\n",
      "[1] \"André Nuber--Institute of Geophysics, ETH Zürich\"\n",
      "[1] \"Lasse Rabenstein--Institute of Geophysics, ETH Zürich\"\n",
      "[1] \"Jochen A. Lehmann-Horn--Institute of Geophysics, ETH Zürich\"\n",
      "[1] \"Marian Hertrich--Institute of Geophysics, ETH Zürich\"\n",
      "[1] \"Stefan Hendricks--Alfred Wegener Institute for Polar and Marine Research\"\n",
      "[1] \"Andy Mahoney--Geophysical Institute, University of Alaska Fairbanks\"\n",
      "[1] \"Hajo Eicken--Geophysical Institute, University of Alaska Fairbanks\"\n",
      "[1] \"Add: 0000-0002-1412-3146\"\n",
      "[1] \"Andrew Shepherd--Scott Polar Research Institute\"\n",
      "[1] \"Zhijun Du--Scott Polar Research Institute\"\n",
      "[1] \"Toby J. Benham--Scott Polar Research Institute\"\n",
      "[1] \"Julian A. Dowdeswell--Scott Polar Research Institute\"\n",
      "[1] \"Elizabeth M. Morris\"\n",
      "[1] \"Add: 0000-0002-4914-1299\"\n",
      "[1] \"Add: 0000-0003-1369-9482\"\n"
     ]
    },
    {
     "name": "stderr",
     "output_type": "stream",
     "text": [
      "Warning message:\n",
      "“Unknown or uninitialised column: `orcid-identifier.path`.”\n",
      "Warning message:\n",
      "“Unknown or uninitialised column: `orcid-identifier.path`.”\n",
      "Warning message:\n",
      "“Unknown or uninitialised column: `orcid-identifier.path`.”\n"
     ]
    },
    {
     "name": "stdout",
     "output_type": "stream",
     "text": [
      "[1] \"Gina L. Luciano--Department of Earth Sciences\"\n",
      "[1] \"Mary R. Albert--Geophysical Sciences Division\"\n",
      "[1] \"Add: 0000-0001-7842-2359\"\n"
     ]
    },
    {
     "name": "stderr",
     "output_type": "stream",
     "text": [
      "Warning message:\n",
      "“Unknown or uninitialised column: `orcid-identifier.path`.”\n",
      "Warning message:\n",
      "“Unknown or uninitialised column: `orcid-identifier.path`.”\n",
      "Warning message:\n",
      "“Unknown or uninitialised column: `orcid-identifier.path`.”\n",
      "Warning message:\n",
      "“Unknown or uninitialised column: `orcid-identifier.path`.”\n",
      "Warning message:\n",
      "“Unknown or uninitialised column: `orcid-identifier.path`.”\n",
      "Warning message:\n",
      "“Unknown or uninitialised column: `orcid-identifier.path`.”\n"
     ]
    },
    {
     "name": "stdout",
     "output_type": "stream",
     "text": [
      "[1] \"Peter L. Moore--Iowa State University\"\n",
      "[1] \"Neal R. Iverson--Iowa State University\"\n",
      "[1] \"Denis Cohen--Iowa State University\"\n",
      "[1] \"Add: 0000-0002-9523-6141\"\n",
      "[1] \"Add: 0000-0002-8262-9798\"\n"
     ]
    },
    {
     "name": "stderr",
     "output_type": "stream",
     "text": [
      "Warning message:\n",
      "“Unknown or uninitialised column: `orcid-identifier.path`.”\n",
      "Warning message:\n",
      "“Unknown or uninitialised column: `orcid-identifier.path`.”\n"
     ]
    },
    {
     "name": "stdout",
     "output_type": "stream",
     "text": [
      "[1] \"Gonzalo Barcaza--Ministerio de Obras Públicas\"\n",
      "[1] \"Samuel U. Nussbaumer--University of Zurich\"\n",
      "[1] \"Guillermo Tapia--Ministerio de Obras Públicas\"\n",
      "[1] \"Javier Valdés--Ministerio de Obras Públicas\"\n",
      "[1] \"Juan-Luis García--Institute of Geography, Pontificia Universidad Católica de Chile\"\n",
      "[1] \"Yohan Videla--Centre for Hydrology, University of Saskatchewan\"\n",
      "[1] \"Amapola Albornoz--University of Concepción\"\n",
      "[1] \"Víctor Arias--University of Chile\"\n",
      "[1] \"Error in: 3584 owi:0000-0002-9028-7572\"\n",
      "[1] \"Add: 0000-0002-5314-5815\"\n"
     ]
    },
    {
     "name": "stderr",
     "output_type": "stream",
     "text": [
      "Warning message:\n",
      "“Unknown or uninitialised column: `orcid-identifier.path`.”\n",
      "Warning message:\n",
      "“Unknown or uninitialised column: `orcid-identifier.path`.”\n",
      "Warning message:\n",
      "“Unknown or uninitialised column: `orcid-identifier.path`.”\n"
     ]
    },
    {
     "name": "stdout",
     "output_type": "stream",
     "text": [
      "[1] \"Andreas Wiesmann--Institute of Applied Physics, University of Bern\"\n",
      "[1] \"Charles Fierz--Swiss Federal Institute for Snow and Avalanche Research\"\n",
      "[1] \"Christian Mätzler--Institute of Applied Physics, University of Bern\"\n",
      "[1] \"Add: 0000-0001-9490-6732\"\n"
     ]
    },
    {
     "name": "stderr",
     "output_type": "stream",
     "text": [
      "Warning message:\n",
      "“Unknown or uninitialised column: `orcid-identifier.path`.”\n"
     ]
    },
    {
     "name": "stdout",
     "output_type": "stream",
     "text": [
      "[1] \"Matthew J. Roberts\"\n",
      "[1] \"Finnur Pálsson--Institute of Earth Sciences, University of Iceland\"\n",
      "[1] \"Magnús Tumi Gudmundsson--Institute of Earth Sciences, University of Iceland\"\n",
      "[1] \"Helgi Björnsson--Institute of Earth Sciences, University of Iceland\"\n",
      "[1] \"Fiona S. Tweed--Geography Department, Staffordshire University\"\n",
      "[1] \"Add: 0000-0002-4299-6788\"\n"
     ]
    },
    {
     "name": "stderr",
     "output_type": "stream",
     "text": [
      "Warning message:\n",
      "“Unknown or uninitialised column: `orcid-identifier.path`.”\n",
      "Warning message:\n",
      "“Unknown or uninitialised column: `orcid-identifier.path`.”\n",
      "Warning message:\n",
      "“Unknown or uninitialised column: `orcid-identifier.path`.”\n",
      "Warning message:\n",
      "“Unknown or uninitialised column: `orcid-identifier.path`.”\n",
      "Warning message:\n",
      "“Unknown or uninitialised column: `orcid-identifier.path`.”\n"
     ]
    },
    {
     "name": "stdout",
     "output_type": "stream",
     "text": [
      "[1] \"Christophe Kinnard\"\n",
      "[1] \"Christian M. Zdanowicz\"\n",
      "[1] \"David A. Fisher\"\n",
      "[1] \"Cameron P. Wake\"\n",
      "[1] \"Add: 0000-0002-1045-5063\"\n",
      "[1] \"Add: 0000-0002-5961-5902\"\n"
     ]
    },
    {
     "name": "stderr",
     "output_type": "stream",
     "text": [
      "Warning message:\n",
      "“Unknown or uninitialised column: `orcid-identifier.path`.”\n"
     ]
    },
    {
     "name": "stdout",
     "output_type": "stream",
     "text": [
      "[1] \"Christina Bell--University of Aberdeen\"\n",
      "[1] \"Douglas Mair--University of Aberdeen\"\n",
      "[1] \"David Burgess\"\n",
      "[1] \"Martin Sharp--University of Alberta\"\n",
      "[1] \"Michael Demuth\"\n",
      "[1] \"Fiona Cawkwell--University College Cork\"\n",
      "[1] \"Robert Bingham\"\n",
      "[1] \"Jemma Wadham--School of Geographical Sciences\"\n",
      "[1] \"Add: 0000-0002-0630-2021\"\n"
     ]
    },
    {
     "name": "stderr",
     "output_type": "stream",
     "text": [
      "Warning message:\n",
      "“Unknown or uninitialised column: `orcid-identifier.path`.”\n"
     ]
    },
    {
     "name": "stdout",
     "output_type": "stream",
     "text": [
      "[1] \"Peter D. Neff--Antarctic Research Centre, Victoria University of Wellington\"\n",
      "[1] \"Add: 0000-0003-1697-0936\"\n",
      "[1] \"Frank Pattyn\"\n",
      "[1] \"Charlotte Delcourt\"\n",
      "[1] \"Denis Samyn\"\n",
      "[1] \"Bert de Smedt\"\n",
      "[1] \"Matt Nolan--Institute of Northern Engineering\"\n",
      "[1] \"Add: 0000-0003-4805-5636\"\n"
     ]
    },
    {
     "name": "stderr",
     "output_type": "stream",
     "text": [
      "Warning message:\n",
      "“Unknown or uninitialised column: `orcid-identifier.path`.”\n",
      "Warning message:\n",
      "“Unknown or uninitialised column: `orcid-identifier.path`.”\n",
      "Warning message:\n",
      "“Unknown or uninitialised column: `orcid-identifier.path`.”\n"
     ]
    },
    {
     "name": "stdout",
     "output_type": "stream",
     "text": [
      "[1] \"Luigi Motta--Department of Earth Sciences, University of Turin\"\n",
      "[1] \"Michele Motta--Department of Earth Sciences, University of Turin\"\n",
      "[1] \"Add: 0000-0001-7363-4256\"\n"
     ]
    },
    {
     "name": "stderr",
     "output_type": "stream",
     "text": [
      "Warning message:\n",
      "“Unknown or uninitialised column: `orcid-identifier.path`.”\n"
     ]
    },
    {
     "name": "stdout",
     "output_type": "stream",
     "text": [
      "[1] \"Massimo Frezzotti\"\n",
      "[1] \"Gabriele Bitelli--DISTART, University of Bologna\"\n",
      "[1] \"Paola De Michelis--National Institute of Geophysics and Vulcanology (INGV)\"\n",
      "[1] \"Alberto Deponti--Department of Environmental Sciences, University of Milano–Bicocca\"\n",
      "[1] \"Alessandro Forieri--Department of Earth Sciences, University of Milan\"\n",
      "[1] \"Stefano Gandolfi--DISTART, University of Bologna\"\n",
      "[1] \"Valter Maggi--Department of Environmental Sciences, University of Milano–Bicocca\"\n",
      "[1] \"Francesco Mancini--DISTART, University of Bologna\"\n",
      "[1] \"Frédérique Remy\"\n",
      "[1] \"Ignazio E. Tabacco--Department of Earth Sciences, University of Milan\"\n",
      "[1] \"Stefano Urbini--National Institute of Geophysics and Vulcanology (INGV)\"\n",
      "[1] \"Luca Vittuari--DISTART, University of Bologna\"\n",
      "[1] \"Achille Zirizzottl--National Institute of Geophysics and Vulcanology (INGV)\"\n",
      "[1] \"Add: 0000-0002-8553-345X\"\n"
     ]
    },
    {
     "name": "stderr",
     "output_type": "stream",
     "text": [
      "Warning message:\n",
      "“Unknown or uninitialised column: `orcid-identifier.path`.”\n"
     ]
    },
    {
     "name": "stdout",
     "output_type": "stream",
     "text": [
      "[1] \"Niklas Neckel\"\n",
      "[1] \"Reinhard Drews\"\n",
      "[1] \"Wolfgang Rack--University of Canterbury\"\n",
      "[1] \"Daniel Steinhage\"\n",
      "[1] \"Add: 0000-0003-4300-5488\"\n",
      "[1] \"Add: 0000-0002-2328-294X\"\n",
      "[1] \"Add: 0000-0003-2447-377X\"\n"
     ]
    },
    {
     "name": "stderr",
     "output_type": "stream",
     "text": [
      "Warning message:\n",
      "“Unknown or uninitialised column: `orcid-identifier.path`.”\n"
     ]
    },
    {
     "name": "stdout",
     "output_type": "stream",
     "text": [
      "[1] \"Emanuela Bianchi Janetti\"\n",
      "[1] \"Elisa Gorni\"\n",
      "[1] \"Betty Sovilla\"\n",
      "[1] \"Daniele Bocchiola\"\n",
      "[1] \"Add: 0000-0003-4086-851X\"\n"
     ]
    },
    {
     "name": "stderr",
     "output_type": "stream",
     "text": [
      "Warning message:\n",
      "“Unknown or uninitialised column: `orcid-identifier.path`.”\n",
      "Warning message:\n",
      "“Unknown or uninitialised column: `orcid-identifier.path`.”\n",
      "Warning message:\n",
      "“Unknown or uninitialised column: `orcid-identifier.path`.”\n",
      "Warning message:\n",
      "“Unknown or uninitialised column: `orcid-identifier.path`.”\n",
      "Warning message:\n",
      "“Unknown or uninitialised column: `orcid-identifier.path`.”\n"
     ]
    },
    {
     "name": "stdout",
     "output_type": "stream",
     "text": [
      "[1] \"Mark A.J. Curran--Antarctic CRC and Australian Antarctic Division\"\n",
      "[1] \"Anne S. Palmer\"\n",
      "[1] \"Tas D. van Ommen--Antarctic CRC and Australian Antarctic Division\"\n",
      "[1] \"Vin I. Morgan--Antarctic CRC and Australian Antarctic Division\"\n",
      "[1] \"Katrina L. Phillips\"\n",
      "[1] \"Alison J. McMorrow\"\n",
      "[1] \"Paul A. Mayewski--Institute for Quaternary Research and Climate Studies\"\n",
      "[1] \"Add: 0000-0002-2463-1718\"\n",
      "[1] \"Andreas Kääb--Department of Geography, University of Zürich-Irchel,\"\n",
      "[1] \"Bernard Lefauconnier--Le Mollard,\"\n",
      "[1] \"Kjetil Melvold--Department of Geosciences, University of Oslo,\"\n",
      "[1] \"Add: 0000-0002-6017-6564\"\n"
     ]
    },
    {
     "name": "stderr",
     "output_type": "stream",
     "text": [
      "Warning message:\n",
      "“Unknown or uninitialised column: `orcid-identifier.path`.”\n",
      "Warning message:\n",
      "“Unknown or uninitialised column: `orcid-identifier.path`.”\n"
     ]
    },
    {
     "name": "stdout",
     "output_type": "stream",
     "text": [
      "[1] \"G. R. Burns\"\n",
      "[1] \"W. J. R. French\"\n",
      "[1] \"P. A. Greet\"\n",
      "[1] \"P. F. B. Williams\"\n",
      "[1] \"K. Finlayson\"\n",
      "[1] \"R. P. Lowe\"\n",
      "[1] \"Add: 0000-0001-9305-6190\"\n"
     ]
    },
    {
     "name": "stderr",
     "output_type": "stream",
     "text": [
      "Warning message:\n",
      "“Unknown or uninitialised column: `orcid-identifier.path`.”\n",
      "Warning message:\n",
      "“Unknown or uninitialised column: `orcid-identifier.path`.”\n"
     ]
    },
    {
     "name": "stdout",
     "output_type": "stream",
     "text": [
      "[1] \"Yu.Ya. Macheret--Institute of Geography\"\n",
      "[1] \"J. Otero--Universidad Politécnica de Madrid\"\n",
      "[1] \"F.J. Navarro--Universidad Politécnica de Madrid\"\n",
      "[1] \"E.V. Vasilenko--Institute of Industrial Research Akadempribor\"\n",
      "[1] \"M.I. Corcuera--Universidad Politécnica de Madrid\"\n",
      "[1] \"M.L. Cuadrado--Universidad Politécnica de Madrid\"\n",
      "[1] \"A.F. Glazovsky--Institute of Geography\"\n",
      "[1] \"Add: 0000-0001-5687-5381\"\n",
      "[1] \"Add: 0000-0001-6275-7517\"\n",
      "[1] \"Brice R. Rea--Department of Earth Sciences, Cardiff University\"\n",
      "[1] \"Duncan H. B. Irving--Department of Earth Sciences, Cardiff University\"\n",
      "[1] \"Bryn Hubbard--Centre for Glaciology, Institute of Geography and Earth Science, University of Wales\"\n",
      "[1] \"John Mckinley--School of Engineering, Cardiff University\"\n",
      "[1] \"Add: 0000-0002-3565-3875\"\n"
     ]
    },
    {
     "name": "stderr",
     "output_type": "stream",
     "text": [
      "Warning message:\n",
      "“Unknown or uninitialised column: `orcid-identifier.path`.”\n"
     ]
    },
    {
     "name": "stdout",
     "output_type": "stream",
     "text": [
      "[1] \"Shuji Fujita\"\n",
      "[1] \"Kenichi Matsuoka\"\n",
      "[1] \"Hideo Maeno\"\n",
      "[1] \"Teruo Furukawa\"\n",
      "[1] \"Add: 0000-0002-3587-3405\"\n"
     ]
    },
    {
     "name": "stderr",
     "output_type": "stream",
     "text": [
      "Warning message:\n",
      "“Unknown or uninitialised column: `orcid-identifier.path`.”\n",
      "Warning message:\n",
      "“Unknown or uninitialised column: `orcid-identifier.path`.”\n",
      "Warning message:\n",
      "“Unknown or uninitialised column: `orcid-identifier.path`.”\n",
      "Warning message:\n",
      "“Unknown or uninitialised column: `orcid-identifier.path`.”\n",
      "Warning message:\n",
      "“Unknown or uninitialised column: `orcid-identifier.path`.”\n"
     ]
    },
    {
     "name": "stdout",
     "output_type": "stream",
     "text": [
      "[1] \"Anthony A. Arendt--University of Alaska\"\n",
      "[1] \"Scott B. Luthcke\"\n",
      "[1] \"Regine Hock--University of Alaska\"\n",
      "[1] \"Add: 0000-0001-8336-9441\"\n"
     ]
    },
    {
     "name": "stderr",
     "output_type": "stream",
     "text": [
      "Warning message:\n",
      "“Unknown or uninitialised column: `orcid-identifier.path`.”\n",
      "Warning message:\n",
      "“Unknown or uninitialised column: `orcid-identifier.path`.”\n"
     ]
    },
    {
     "name": "stdout",
     "output_type": "stream",
     "text": [
      "[1] \"Robert S. Anderson--Department of Geological Sciences,  University of Colorado\"\n",
      "[1] \"Joseph S. Walder\"\n",
      "[1] \"Suzanne P. Anderson--Institute of Arctic and Alpine Research, University of Colorado\"\n",
      "[1] \"Dennis C. Trabant\"\n",
      "[1] \"Andrew G. Fountain--Department of Geology, Portland State University\"\n",
      "[1] \"Add: 0000-0003-3523-2998\"\n",
      "[1] \"Add: 0000-0002-6796-6649\"\n"
     ]
    },
    {
     "name": "stderr",
     "output_type": "stream",
     "text": [
      "Warning message:\n",
      "“Unknown or uninitialised column: `orcid-identifier.path`.”\n",
      "Warning message:\n",
      "“Unknown or uninitialised column: `orcid-identifier.path`.”\n",
      "Warning message:\n",
      "“Unknown or uninitialised column: `orcid-identifier.path`.”\n",
      "Warning message:\n",
      "“Unknown or uninitialised column: `orcid-identifier.path`.”\n",
      "Warning message:\n",
      "“Unknown or uninitialised column: `orcid-identifier.path`.”\n"
     ]
    },
    {
     "name": "stdout",
     "output_type": "stream",
     "text": [
      "[1] \"Jérôme Weiss--Laboratoire de Glaciologie et Géophysique de l’Environnement du CNRS\"\n",
      "[1] \"Jérôme Vidot--Laboratoire de Glaciologie et Géophysique de l’Environnement du CNRS\"\n",
      "[1] \"Michel Gay--Laboratoire de Glaciologie et Géophysique de l’Environnement du CNRS\"\n",
      "[1] \"Laurent Arnaud--Laboratoire de Glaciologie et Géophysique de l’Environnement du CNRS\"\n",
      "[1] \"Paul Duval--Laboratoire de Glaciologie et Géophysique de l’Environnement du CNRS\"\n",
      "[1] \"Jean Robert Petit--Laboratoire de Glaciologie et Géophysique de l’Environnement du CNRS\"\n",
      "[1] \"Add: 0000-0002-4432-4205\"\n"
     ]
    },
    {
     "name": "stderr",
     "output_type": "stream",
     "text": [
      "Warning message:\n",
      "“Unknown or uninitialised column: `orcid-identifier.path`.”\n"
     ]
    },
    {
     "name": "stdout",
     "output_type": "stream",
     "text": [
      "[1] \"Ted A. Scambos--University of Colorado\"\n",
      "[1] \"Etienne Berthier--Université de Toulouse\"\n",
      "[1] \"Christopher A. Shuman--University of Maryland\"\n",
      "[1] \"Add: 0000-0001-5978-9155\"\n"
     ]
    },
    {
     "name": "stderr",
     "output_type": "stream",
     "text": [
      "Warning message:\n",
      "“Unknown or uninitialised column: `orcid-identifier.path`.”\n",
      "Warning message:\n",
      "“Unknown or uninitialised column: `orcid-identifier.path`.”\n"
     ]
    },
    {
     "name": "stdout",
     "output_type": "stream",
     "text": [
      "[1] \"M.A. Lange--Institute for Geophysics\"\n",
      "[1] \"N. Blindow--Institute for Geophysics\"\n",
      "[1] \"B. Breuer--Institute for Geophysics\"\n",
      "[1] \"K. Grosfeld--University of Bremen\"\n",
      "[1] \"T. Kleiner--Institute for Geophysics\"\n",
      "[1] \"C.-O. Mohrholz--Institute for Geophysics\"\n",
      "[1] \"M. Nicolaus\"\n",
      "[1] \"C. Oelke--Institute for Geophysics\"\n",
      "[1] \"H. Sandhäger\"\n",
      "[1] \"M. Thoma--Institute for Geophysics\"\n",
      "[1] \"Add: 0000-0002-4033-3905\"\n",
      "[1] \"Add: 0000-0003-0903-1746\"\n",
      "[1] \"Add: 0000-0001-5936-179X\"\n",
      "[1] \"Add: 0000-0001-7825-5765\"\n",
      "[1] \"Kristín Jónsdóttir--Department of Earth Sciences – Geophysics, Uppsala University\"\n",
      "[1] \"Ari Tryggvason--Department of Earth Sciences – Geophysics, Uppsala University\"\n",
      "[1] \"Roland Roberts--Department of Earth Sciences – Geophysics, Uppsala University\"\n",
      "[1] \"Bjoörn Lund--Department of Earth Sciences – Geophysics, Uppsala University\"\n",
      "[1] \"Heidi Soosalu--Bullard Laboratories, Department of Earth Sciences, University of Cambridge\"\n",
      "[1] \"Reynir Böðvarsson--Department of Earth Sciences – Geophysics, Uppsala University\"\n",
      "[1] \"Add: 0000-0002-1960-0810\"\n"
     ]
    },
    {
     "name": "stderr",
     "output_type": "stream",
     "text": [
      "Warning message:\n",
      "“Unknown or uninitialised column: `orcid-identifier.path`.”\n",
      "Warning message:\n",
      "“Unknown or uninitialised column: `orcid-identifier.path`.”\n",
      "Warning message:\n",
      "“Unknown or uninitialised column: `orcid-identifier.path`.”\n",
      "Warning message:\n",
      "“Unknown or uninitialised column: `orcid-identifier.path`.”\n",
      "Warning message:\n",
      "“Unknown or uninitialised column: `orcid-identifier.path`.”\n",
      "Warning message:\n",
      "“Unknown or uninitialised column: `orcid-identifier.path`.”\n",
      "Warning message:\n",
      "“Unknown or uninitialised column: `orcid-identifier.path`.”\n"
     ]
    },
    {
     "name": "stdout",
     "output_type": "stream",
     "text": [
      "[1] \"David Rippin--Department of Geography, University of Hull\"\n",
      "[1] \"Ian Willis--Scott Polar Research Institute, University of Cambridge\"\n",
      "[1] \"Neil Arnold--Scott Polar Research Institute, University of Cambridge\"\n",
      "[1] \"Add: 0000-0002-0750-7088\"\n",
      "[1] \"Alison F. Banwell--The University of Cambridge---0000-0001-9545-829X\"\n",
      "[1] \"Ian C. Willis--The University of Cambridge\"\n",
      "[1] \"Grant J. Macdonald--The University of Chicago\"\n",
      "[1] \"Becky Goodsell\"\n",
      "[1] \"David P. Mayer--The University of Chicago---0000-0001-8351-1807\"\n",
      "[1] \"Anthony Powell\"\n",
      "[1] \"Douglas R. Macayeal--The University of Chicago---0000-0003-0647-6176\"\n",
      "[1] \"Add: 0000-0002-9295-085X\"\n",
      "[1] \"Kjetil Melvold\"\n",
      "[1] \"Thomas Schuler\"\n",
      "[1] \"Gaute Lappegard\"\n",
      "[1] \"Add: 0000-0003-0972-3929\"\n",
      "[1] \"Alexey A. Ekaykin--Arctic and Antarctic Research Institute\"\n",
      "[1] \"Vladimir Ya. Lipenkov--Arctic and Antarctic Research Institute\"\n",
      "[1] \"Narcisse I. Barkov--Arctic and Antarctic Research Institute\"\n",
      "[1] \"Jean Robert Petit--Laboratoire de Glaciologie et Géophysique de l’Environnement du CNRS\"\n",
      "[1] \"Valerie Masson-Delmotte--Laboratoire des Sciences du Climat et de l’Environnement\"\n",
      "[1] \"Add: 0000-0001-8296-381X\"\n"
     ]
    },
    {
     "name": "stderr",
     "output_type": "stream",
     "text": [
      "Warning message:\n",
      "“Unknown or uninitialised column: `orcid-identifier.path`.”\n",
      "Warning message:\n",
      "“Unknown or uninitialised column: `orcid-identifier.path`.”\n",
      "Warning message:\n",
      "“Unknown or uninitialised column: `orcid-identifier.path`.”\n",
      "Warning message:\n",
      "“Unknown or uninitialised column: `orcid-identifier.path`.”\n",
      "Warning message:\n",
      "“Unknown or uninitialised column: `orcid-identifier.path`.”\n",
      "Warning message:\n",
      "“Unknown or uninitialised column: `orcid-identifier.path`.”\n",
      "Warning message:\n",
      "“Unknown or uninitialised column: `orcid-identifier.path`.”\n",
      "Warning message:\n",
      "“Unknown or uninitialised column: `orcid-identifier.path`.”\n"
     ]
    },
    {
     "name": "stdout",
     "output_type": "stream",
     "text": [
      "[1] \"Vivienne Raper--Bristol Glaciology Centre, School of Geographical Sciences, University of Bristol, University Road\"\n",
      "[1] \"Jonathan Bamber--Bristol Glaciology Centre, School of Geographical Sciences, University of Bristol, University Road\"\n",
      "[1] \"William Krabill--Code 972, NASA Wallops Flight Facility\"\n",
      "[1] \"Add: 0000-0002-2280-2819\"\n"
     ]
    },
    {
     "name": "stderr",
     "output_type": "stream",
     "text": [
      "Warning message:\n",
      "“Unknown or uninitialised column: `orcid-identifier.path`.”\n",
      "Warning message:\n",
      "“Unknown or uninitialised column: `orcid-identifier.path`.”\n"
     ]
    },
    {
     "name": "stdout",
     "output_type": "stream",
     "text": [
      "[1] \"Sam Pimentel--Simon Fraser University\"\n",
      "[1] \"Gwenn E. Flowers--Simon Fraser University---0000-0002-3574-9324\"\n",
      "[1] \"Martin J. Sharp--University of Alberta\"\n",
      "[1] \"Bradley Danielson--University of Alberta\"\n",
      "[1] \"Luke Copland--University of Ottawa\"\n",
      "[1] \"Wesley Van Wychen--University of Ottawa\"\n",
      "[1] \"Angus Duncan--University of Alberta\"\n",
      "[1] \"Jeffrey L. Kavanaugh--University of Alberta\"\n",
      "[1] \"Add: 0000-0001-7753-1748\"\n",
      "[1] \"Add: 0000-0002-4275-6768\"\n"
     ]
    },
    {
     "name": "stderr",
     "output_type": "stream",
     "text": [
      "Warning message:\n",
      "“Unknown or uninitialised column: `orcid-identifier.path`.”\n"
     ]
    },
    {
     "name": "stdout",
     "output_type": "stream",
     "text": [
      "[1] \"Urs H. Fischer--Laboratory of Hydraulics, Hydrology and Glaciology\"\n",
      "[1] \"Bryn Hubbard--Centre for Glaciology, Institute of Geography and Earth Sciences, University of Wales\"\n",
      "[1] \"Add: 0000-0002-3565-3875\"\n"
     ]
    },
    {
     "name": "stderr",
     "output_type": "stream",
     "text": [
      "Warning message:\n",
      "“Unknown or uninitialised column: `orcid-identifier.path`.”\n"
     ]
    },
    {
     "name": "stdout",
     "output_type": "stream",
     "text": [
      "[1] \"Richard Hodgkins--Department of Geography, Royal Holloway, University of London\"\n",
      "[1] \"Richard Cooper--The Macaulay Institute\"\n",
      "[1] \"Jemma Wadham--Bristol Glaciology Centre, School of Geographical Sciences, University of Bristol\"\n",
      "[1] \"Martyn Tranter--Bristol Glaciology Centre, School of Geographical Sciences, University of Bristol\"\n",
      "[1] \"Add: 0000-0003-2071-3094\"\n"
     ]
    },
    {
     "name": "stderr",
     "output_type": "stream",
     "text": [
      "Warning message:\n",
      "“Unknown or uninitialised column: `orcid-identifier.path`.”\n",
      "Warning message:\n",
      "“Unknown or uninitialised column: `orcid-identifier.path`.”\n"
     ]
    },
    {
     "name": "stdout",
     "output_type": "stream",
     "text": [
      "[1] \"Eric Rignot--Jet Propulsion Laboratory, California Institute of Technology\"\n",
      "[1] \"David G. Vaughan--British Antarctic Survey, Natural Environment Research Council\"\n",
      "[1] \"Marjorie Schmeltz--Jet Propulsion Laboratory, California Institute of Technology\"\n",
      "[1] \"Todd Dupont--Geosciences, The Pennsylvania State University, University Park\"\n",
      "[1] \"Douglas Macayeal--Department of Geophysical Sciences, University of Chicago\"\n",
      "[1] \"Add: 0000-0002-3366-0481\"\n",
      "[1] \"Patrick Heimbach--Massachusetts Institute of Technology\"\n",
      "[1] \"Véronique Bugnion--University of Bergen\"\n",
      "[1] \"Add: 0000-0003-3925-6161\"\n"
     ]
    },
    {
     "name": "stderr",
     "output_type": "stream",
     "text": [
      "Warning message:\n",
      "“Unknown or uninitialised column: `orcid-identifier.path`.”\n",
      "Warning message:\n",
      "“Unknown or uninitialised column: `orcid-identifier.path`.”\n",
      "Warning message:\n",
      "“Unknown or uninitialised column: `orcid-identifier.path`.”\n",
      "Warning message:\n",
      "“Unknown or uninitialised column: `orcid-identifier.path`.”\n",
      "Warning message:\n",
      "“Unknown or uninitialised column: `orcid-identifier.path`.”\n",
      "Warning message:\n",
      "“Unknown or uninitialised column: `orcid-identifier.path`.”\n"
     ]
    },
    {
     "name": "stdout",
     "output_type": "stream",
     "text": [
      "[1] \"Richard C.A. Hindmarsh\"\n",
      "[1] \"Add: 0000-0003-1633-2416\"\n",
      "[1] \"Graham Stuart--Faculty of the Environment, University of Leeds\"\n",
      "[1] \"Tavi Murray--Faculty of the Environment, University of Leeds\"\n",
      "[1] \"Alex Brisbourne--SEIS-UK NERC Geophysical Equipment Facility, University of Leicester\"\n",
      "[1] \"Peter Styles--School of Earth Sciences and Geography, Keele University\"\n",
      "[1] \"Sam Toon--School of Earth Sciences and Geography, Keele University\"\n",
      "[1] \"Add: 0000-0003-0961-6066\"\n"
     ]
    },
    {
     "name": "stderr",
     "output_type": "stream",
     "text": [
      "Warning message:\n",
      "“Unknown or uninitialised column: `orcid-identifier.path`.”\n",
      "Warning message:\n",
      "“Unknown or uninitialised column: `orcid-identifier.path`.”\n",
      "Warning message:\n",
      "“Unknown or uninitialised column: `orcid-identifier.path`.”\n"
     ]
    },
    {
     "name": "stdout",
     "output_type": "stream",
     "text": [
      "[1] \"V. I. Lytle--Antarctic CRC and Australian Antarctic Division\"\n",
      "[1] \"A. P. Worby--Antarctic CRC and Australian Antarctic Division\"\n",
      "[1] \"R. Massom--Antarctic CRC\"\n",
      "[1] \"M.J. Paget--Antarctic CRC and IASOS\"\n",
      "[1] \"I. Allison--Antarctic CRC and Australian Antarctic Division\"\n",
      "[1] \"X. Wu--Antarctic CRC and Australian Antarctic Division\"\n",
      "[1] \"A. Roberts--Antarctic CRC and IASOS\"\n",
      "[1] \"Add: 0000-0002-0394-8396\"\n",
      "[1] \"Add: 0000-0003-1533-5084\"\n"
     ]
    },
    {
     "name": "stderr",
     "output_type": "stream",
     "text": [
      "Warning message:\n",
      "“Unknown or uninitialised column: `orcid-identifier.path`.”\n",
      "Warning message:\n",
      "“Unknown or uninitialised column: `orcid-identifier.path`.”\n",
      "Warning message:\n",
      "“Unknown or uninitialised column: `orcid-identifier.path`.”\n"
     ]
    },
    {
     "name": "stdout",
     "output_type": "stream",
     "text": [
      "[1] \"Christopher M. DeBeer--University of Alberta\"\n",
      "[1] \"Martin J. Sharp--University of Alberta\"\n",
      "[1] \"Add: 0000-0003-1828-0293\"\n"
     ]
    },
    {
     "name": "stderr",
     "output_type": "stream",
     "text": [
      "Warning message:\n",
      "“Unknown or uninitialised column: `orcid-identifier.path`.”\n",
      "Warning message:\n",
      "“Unknown or uninitialised column: `orcid-identifier.path`.”\n"
     ]
    },
    {
     "name": "stdout",
     "output_type": "stream",
     "text": [
      "[1] \"Florence Naaim-Bouvet\"\n",
      "[1] \"Mohamed Naaim\"\n",
      "[1] \"Hervé Bellot\"\n",
      "[1] \"Kouichi Nishimura\"\n",
      "[1] \"Add: 0000-0003-2521-2491\"\n"
     ]
    },
    {
     "name": "stderr",
     "output_type": "stream",
     "text": [
      "Warning message:\n",
      "“Unknown or uninitialised column: `orcid-identifier.path`.”\n",
      "Warning message:\n",
      "“Unknown or uninitialised column: `orcid-identifier.path`.”\n",
      "Warning message:\n",
      "“Unknown or uninitialised column: `orcid-identifier.path`.”\n"
     ]
    },
    {
     "name": "stdout",
     "output_type": "stream",
     "text": [
      "[1] \"Pedro Skvarca\"\n",
      "[1] \"Hernán De Angelis\"\n",
      "[1] \"Evgeniy Ermolin\"\n",
      "[1] \"Add: 0000-0002-8584-272X\"\n",
      "[1] \"Magnú s T. Guðmundsson--Institute of Earth Sciences, University of Iceland\"\n",
      "[1] \"Þórdís Högnadóttir--Institute of Earth Sciences, University of Iceland\"\n",
      "[1] \"Arnór Bergur Kristinsson\"\n",
      "[1] \"Snæbjörn Guðbjörnsson\"\n",
      "[1] \"Add: 0000-0003-4596-1510\"\n",
      "[1] \"M. Mangir Murshed\"\n",
      "[1] \"Sérgio H. Faria\"\n",
      "[1] \"Werner F. Kuhs\"\n",
      "[1] \" Sepp Kipfstuhl\"\n",
      "[1] \"Frank Wilhelms\"\n",
      "[1] \"Add: 0000-0001-7688-3135\"\n"
     ]
    },
    {
     "name": "stderr",
     "output_type": "stream",
     "text": [
      "Warning message:\n",
      "“Unknown or uninitialised column: `orcid-identifier.path`.”\n",
      "Warning message:\n",
      "“Unknown or uninitialised column: `orcid-identifier.path`.”\n"
     ]
    },
    {
     "name": "stdout",
     "output_type": "stream",
     "text": [
      "[1] \"Patrick Heimbach--Massachusetts Institute of Technology\"\n",
      "[1] \"Martin Losch--Alfred-Wegener-Institut für Polar- und Meeresforschung\"\n",
      "[1] \"Add: 0000-0003-3925-6161\"\n",
      "[1] \"Add: 0000-0002-3824-5244\"\n",
      "[1] \"N.I. Vasiliev--St. Petersburg Mining Institute\"\n",
      "[1] \"P.G. Talalay--St. Petersburg Mining Institute\"\n",
      "[1] \"N.E. Bobin--St. Petersburg Mining Institute\"\n",
      "[1] \"V.K. Chistyakov--St. Petersburg Mining Institute\"\n",
      "[1] \"V.M. Zubkov--St. Petersburg Mining Institute\"\n",
      "[1] \"A.V. Krasilev--St. Petersburg Mining Institute\"\n",
      "[1] \"A.N. Dmitriev--St. Petersburg Mining Institute\"\n",
      "[1] \"S.V. Yankilevich--St. Petersburg Mining Institute\"\n",
      "[1] \"V.Ya. Lipenkov\"\n",
      "[1] \"Add: 0000-0003-4615-3179\"\n",
      "[1] \"Error in: 3714 owi:0000-0002-2279-699X\"\n",
      "[1] \"Add: 0000-0002-8230-4600\"\n",
      "[1] \"Add: 0000-0003-4221-5440\"\n",
      "[1] \"Elisabeth Schlosser--Institute of Meteorology and Geophysics, University of Innsbruck\"\n",
      "[1] \"Carleen Reijmer--Institute for Marine and Atmospheric Research, University of Utrecht\"\n",
      "[1] \"Hans Oerter\"\n",
      "[1] \"Wolfgang Graf\"\n",
      "[1] \"Add: 0000-0001-8299-3883\"\n"
     ]
    },
    {
     "name": "stderr",
     "output_type": "stream",
     "text": [
      "Warning message:\n",
      "“Unknown or uninitialised column: `orcid-identifier.path`.”\n",
      "Warning message:\n",
      "“Unknown or uninitialised column: `orcid-identifier.path`.”\n",
      "Warning message:\n",
      "“Unknown or uninitialised column: `orcid-identifier.path`.”\n",
      "Warning message:\n",
      "“Unknown or uninitialised column: `orcid-identifier.path`.”\n",
      "Warning message:\n",
      "“Unknown or uninitialised column: `orcid-identifier.path`.”\n"
     ]
    },
    {
     "name": "stdout",
     "output_type": "stream",
     "text": [
      "[1] \"I. E. Tabacco--Sezione Geofisica, Dipartimento di Scienze delle Terra, Università degli Studi di Milano\"\n",
      "[1] \"C. Bianchi--Istituto Nazitonale di Geofisica\"\n",
      "[1] \"M. Chiappini--Istituto Nazitonale di Geofisica\"\n",
      "[1] \"A. Zirizzotti--Istituto Nazitonale di Geofisica\"\n",
      "[1] \"E. Zuccheretti--Istituto Nazitonale di Geofisica\"\n",
      "[1] \"Add: 0000-0001-7586-9219\"\n"
     ]
    },
    {
     "name": "stderr",
     "output_type": "stream",
     "text": [
      "Warning message:\n",
      "“Unknown or uninitialised column: `orcid-identifier.path`.”\n",
      "Warning message:\n",
      "“Unknown or uninitialised column: `orcid-identifier.path`.”\n",
      "Warning message:\n",
      "“Unknown or uninitialised column: `orcid-identifier.path`.”\n",
      "Warning message:\n",
      "“Unknown or uninitialised column: `orcid-identifier.path`.”\n"
     ]
    },
    {
     "name": "stdout",
     "output_type": "stream",
     "text": [
      "[1] \"Nanna B. Karlsson--University of Hull\"\n",
      "[1] \"David M. Rippin--University of Hull\"\n",
      "[1] \"David G. Vaughan\"\n",
      "[1] \"Hugh F.J. Corr\"\n",
      "[1] \"Add: 0000-0003-0423-8705\"\n",
      "[1] \"Sudeep Thakuri\"\n",
      "[1] \"Franco Salerno\"\n",
      "[1] \"Tobias Bolch\"\n",
      "[1] \"Nicolas Guyennon\"\n",
      "[1] \"Gianni Tartari\"\n",
      "[1] \"Add: 0000-0002-5278-9985\"\n",
      "[1] \"Add: 0000-0002-0306-0610\"\n",
      "[1] \"Add: 0000-0002-3419-6780\"\n",
      "[1] \"Add: 0000-0002-8201-5059\"\n"
     ]
    },
    {
     "name": "stderr",
     "output_type": "stream",
     "text": [
      "Warning message:\n",
      "“Unknown or uninitialised column: `orcid-identifier.path`.”\n",
      "Warning message:\n",
      "“Unknown or uninitialised column: `orcid-identifier.path`.”\n",
      "Warning message:\n",
      "“Unknown or uninitialised column: `orcid-identifier.path`.”\n",
      "Warning message:\n",
      "“Unknown or uninitialised column: `orcid-identifier.path`.”\n"
     ]
    },
    {
     "name": "stdout",
     "output_type": "stream",
     "text": [
      "[1] \"S. Campbell--U.S. Army-CRREL\"\n",
      "[1] \"Z. Courville--U.S. Army-CRREL\"\n",
      "[1] \"S. Sinclair--U.S. Army-CRREL\"\n",
      "[1] \"J. Wilner--Middlebury College\"\n",
      "[1] \"Add: 0000-0002-5968-6620\"\n",
      "[1] \"Shiqiao Zhou\"\n",
      "[1] \"Shichang Kang\"\n",
      "[1] \"Zhiyuan Cong\"\n",
      "[1] \"Add: 0000-0003-2115-9005\"\n",
      "[1] \"Jari Haapala--Finnish Meteorological Institute\"\n",
      "[1] \"Mikko Lensu--Finnish Meteorological Institute\"\n",
      "[1] \"Marie Dumont--Norwegian Polar Institute, Fram Centre\"\n",
      "[1] \"Angelika H.H. Renner--Norwegian Polar Institute, Fram Centre\"\n",
      "[1] \"Mats A. Granskog--Norwegian Polar Institute, Fram Centre\"\n",
      "[1] \"Sebastian Gerland--Norwegian Polar Institute, Fram Centre\"\n",
      "[1] \"Add: 0000-0002-9997-6366\"\n",
      "[1] \"Add: 0000-0002-5035-4347\"\n",
      "[1] \"Add: 0000-0002-4002-5873\"\n"
     ]
    },
    {
     "name": "stderr",
     "output_type": "stream",
     "text": [
      "Warning message:\n",
      "“Unknown or uninitialised column: `orcid-identifier.path`.”\n",
      "Warning message:\n",
      "“Unknown or uninitialised column: `orcid-identifier.path`.”\n",
      "Warning message:\n",
      "“Unknown or uninitialised column: `orcid-identifier.path`.”\n",
      "Warning message:\n",
      "“Unknown or uninitialised column: `orcid-identifier.path`.”\n",
      "Warning message:\n",
      "“Unknown or uninitialised column: `orcid-identifier.path`.”\n"
     ]
    },
    {
     "name": "stdout",
     "output_type": "stream",
     "text": [
      "[1] \"Peter Sampl\"\n",
      "[1] \"Thomas Zwinger\"\n",
      "[1] \"Add: 0000-0003-3360-4401\"\n",
      "[1] \"Nanna B. Karlsson--Alfred-Wegener-Institut Helmholtz-Zentrum für Polar- und Meeresforschung---0000-0003-0423-8705\"\n",
      "[1] \"Sebastian Razik--Alfred-Wegener-Institut Helmholtz-Zentrum für Polar- und Meeresforschung\"\n",
      "[1] \"Maria Hörhold--Alfred-Wegener-Institut Helmholtz-Zentrum für Polar- und Meeresforschung\"\n",
      "[1] \"Anna Winter--Alfred-Wegener-Institut Helmholtz-Zentrum für Polar- und Meeresforschung\"\n",
      "[1] \"Daniel Steinhage--Alfred-Wegener-Institut Helmholtz-Zentrum für Polar- und Meeresforschung\"\n",
      "[1] \"Tobias Binder--Alfred-Wegener-Institut Helmholtz-Zentrum für Polar- und Meeresforschung\"\n",
      "[1] \"Olaf Eisen--Alfred-Wegener-Institut Helmholtz-Zentrum für Polar- und Meeresforschung---0000-0002-6380-962X\"\n"
     ]
    },
    {
     "name": "stderr",
     "output_type": "stream",
     "text": [
      "Warning message:\n",
      "“Unknown or uninitialised column: `orcid-identifier.path`.”\n"
     ]
    },
    {
     "name": "stdout",
     "output_type": "stream",
     "text": [
      "[1] \"Trevor J. Popp--Center for Ice and Climate, Niels Bohr Institute, University of Copenhagen\"\n",
      "[1] \"Steffen B. Hansen--Center for Ice and Climate, Niels Bohr Institute, University of Copenhagen\"\n",
      "[1] \"Simon G. Sheldon--Center for Ice and Climate, Niels Bohr Institute, University of Copenhagen\"\n",
      "[1] \"Christian Panton--Center for Ice and Climate, Niels Bohr Institute, University of Copenhagen\"\n",
      "[1] \"Add: 0000-0003-4438-271X\"\n"
     ]
    },
    {
     "name": "stderr",
     "output_type": "stream",
     "text": [
      "Warning message:\n",
      "“Unknown or uninitialised column: `orcid-identifier.path`.”\n"
     ]
    },
    {
     "name": "stdout",
     "output_type": "stream",
     "text": [
      "[1] \"Stefanie Linow--Alfred Wegener Institute Helmholtz Centre for Polar and Marine Research\"\n",
      "[1] \"Thomas Hollands--Alfred Wegener Institute Helmholtz Centre for Polar and Marine Research\"\n",
      "[1] \"Wolfgang Dierking--Alfred Wegener Institute Helmholtz Centre for Polar and Marine Research\"\n",
      "[1] \"Add: 0000-0003-0824-4037\"\n",
      "[1] \"Add: 0000-0001-8896-3976\"\n"
     ]
    },
    {
     "name": "stderr",
     "output_type": "stream",
     "text": [
      "Warning message:\n",
      "“Unknown or uninitialised column: `orcid-identifier.path`.”\n",
      "Warning message:\n",
      "“Unknown or uninitialised column: `orcid-identifier.path`.”\n",
      "Warning message:\n",
      "“Unknown or uninitialised column: `orcid-identifier.path`.”\n",
      "Warning message:\n",
      "“Unknown or uninitialised column: `orcid-identifier.path`.”\n",
      "Warning message:\n",
      "“Unknown or uninitialised column: `orcid-identifier.path`.”\n",
      "Warning message:\n",
      "“Unknown or uninitialised column: `orcid-identifier.path`.”\n"
     ]
    },
    {
     "name": "stdout",
     "output_type": "stream",
     "text": [
      "[1] \"Simon G. Sheldon--Centre for Ice and Climate, Niels Bohr Institute, University of Copenhagen\"\n",
      "[1] \"Trevor J. Popp--Centre for Ice and Climate, Niels Bohr Institute, University of Copenhagen\"\n",
      "[1] \"Steffen B. Hansen--Centre for Ice and Climate, Niels Bohr Institute, University of Copenhagen\"\n",
      "[1] \"Jørgen P. Steffensen--Centre for Ice and Climate, Niels Bohr Institute, University of Copenhagen\"\n",
      "[1] \"Add: 0000-0002-5516-1093\"\n"
     ]
    },
    {
     "name": "stderr",
     "output_type": "stream",
     "text": [
      "Warning message:\n",
      "“Unknown or uninitialised column: `orcid-identifier.path`.”\n",
      "Warning message:\n",
      "“Unknown or uninitialised column: `orcid-identifier.path`.”\n"
     ]
    },
    {
     "name": "stdout",
     "output_type": "stream",
     "text": [
      "[1] \"Roger J. Braithwaite--School of Environment and Development, University of Manchester\"\n",
      "[1] \"Sarah C.B. Raper--Dalton Research Institute, Manchester Metropolitan University\"\n",
      "[1] \"Krys Chutko--Department of Geography, Queen’s University\"\n",
      "[1] \"Add: 0000-0002-0387-7591\"\n"
     ]
    },
    {
     "name": "stderr",
     "output_type": "stream",
     "text": [
      "Warning message:\n",
      "“Unknown or uninitialised column: `orcid-identifier.path`.”\n",
      "Warning message:\n",
      "“Unknown or uninitialised column: `orcid-identifier.path`.”\n",
      "Warning message:\n",
      "“Unknown or uninitialised column: `orcid-identifier.path`.”\n"
     ]
    },
    {
     "name": "stdout",
     "output_type": "stream",
     "text": [
      "[1] \"Sascha Willmes\"\n",
      "[1] \"Jörg Bareiss\"\n",
      "[1] \"Christian Haas\"\n",
      "[1] \" Marcel Nicolaus\"\n",
      "[1] \"Add: 0000-0002-7674-3500\"\n"
     ]
    },
    {
     "name": "stderr",
     "output_type": "stream",
     "text": [
      "Warning message:\n",
      "“Unknown or uninitialised column: `orcid-identifier.path`.”\n",
      "Warning message:\n",
      "“Unknown or uninitialised column: `orcid-identifier.path`.”\n",
      "Warning message:\n",
      "“Unknown or uninitialised column: `orcid-identifier.path`.”\n",
      "Warning message:\n",
      "“Unknown or uninitialised column: `orcid-identifier.path`.”\n"
     ]
    },
    {
     "name": "stdout",
     "output_type": "stream",
     "text": [
      "[1] \"Raymond C. Smith--Institute of Computational Earth System Science, University of California\"\n",
      "[1] \"Sharon E. Stammerjohn--Institute of Computational Earth System Science, University of California\"\n",
      "[1] \"Add: 0000-0002-1697-8244\"\n"
     ]
    },
    {
     "name": "stderr",
     "output_type": "stream",
     "text": [
      "Warning message:\n",
      "“Unknown or uninitialised column: `orcid-identifier.path`.”\n"
     ]
    },
    {
     "name": "stdout",
     "output_type": "stream",
     "text": [
      "[1] \"Wanqin Guo--Cold and Arid Regions Environmental and Engineering Research Institute, Chinese Academy of Sciences\"\n",
      "[1] \"Shiyin Liu--Cold and Arid Regions Environmental and Engineering Research Institute, Chinese Academy of Sciences\"\n",
      "[1] \"Junfeng Wei--Cold and Arid Regions Environmental and Engineering Research Institute, Chinese Academy of Sciences\"\n",
      "[1] \"Weijia Bao--Cold and Arid Regions Environmental and Engineering Research Institute, Chinese Academy of Sciences\"\n",
      "[1] \"Add: 0000-0002-3211-9300\"\n",
      "[1] \"Bruce H. Vaughn--Institute of Arctic and Alpine Research, University of Colorado\"\n",
      "[1] \"Andrew G. Fountain--Department of Geology, Portland State University\"\n",
      "[1] \"Add: 0000-0001-6503-957X\"\n",
      "[1] \"C. Vincent--UJF–Grenoble I/CNRS, Laboratoire de Glaciologie et Géophysique de l’Environnement\"\n",
      "[1] \"E. Thibert--IRSTEA, UR ETGR\"\n",
      "[1] \"M. Harter--UJF–Grenoble I/CNRS, Laboratoire de Glaciologie et Géophysique de l’Environnement\"\n",
      "[1] \"A. Soruco--Universidad Mayor de San Andrés, Instituto de Investigaciones Geológicas y del Medio Ambiente\"\n",
      "[1] \"A. Gilbert--UJF–Grenoble I/CNRS, Laboratoire de Glaciologie et Géophysique de l’Environnement\"\n",
      "[1] \"Add: 0000-0001-9009-5143\"\n",
      "[1] \"Add: 0000-0003-2843-5367\"\n"
     ]
    },
    {
     "name": "stderr",
     "output_type": "stream",
     "text": [
      "Warning message:\n",
      "“Unknown or uninitialised column: `orcid-identifier.path`.”\n"
     ]
    },
    {
     "name": "stdout",
     "output_type": "stream",
     "text": [
      "[1] \"R. A. Massom\"\n",
      "[1] \"P.T. Harris\"\n",
      "[1] \"Kelvin J. Michael\"\n",
      "[1] \"M.J. Potter\"\n",
      "[1] \"Add: 0000-0003-1533-5084\"\n"
     ]
    },
    {
     "name": "stderr",
     "output_type": "stream",
     "text": [
      "Warning message:\n",
      "“Unknown or uninitialised column: `orcid-identifier.path`.”\n",
      "Warning message:\n",
      "“Unknown or uninitialised column: `orcid-identifier.path`.”\n"
     ]
    },
    {
     "name": "stdout",
     "output_type": "stream",
     "text": [
      "[1] \"A. Savvin--Institut für Mechanik, Technische Universität Darmstadt\"\n",
      "[1] \"R. Greve--Institut für Mechanik, Technische Universität Darmstadt\"\n",
      "[1] \"R. Calov--Potsdam-Institut für Klimafolgenforschung\"\n",
      "[1] \"B. Mügge--Institut für Mechanik, Technische Universität Darmstadt\"\n",
      "[1] \"K. Hutter--Institut für Mechanik, Technische Universität Darmstadt\"\n",
      "[1] \"Add: 0000-0002-1341-4777\"\n"
     ]
    },
    {
     "name": "stderr",
     "output_type": "stream",
     "text": [
      "Warning message:\n",
      "“Unknown or uninitialised column: `orcid-identifier.path`.”\n",
      "Warning message:\n",
      "“Unknown or uninitialised column: `orcid-identifier.path`.”\n",
      "Warning message:\n",
      "“Unknown or uninitialised column: `orcid-identifier.path`.”\n",
      "Warning message:\n",
      "“Unknown or uninitialised column: `orcid-identifier.path`.”\n"
     ]
    },
    {
     "name": "stdout",
     "output_type": "stream",
     "text": [
      "[1] \"Meibing Jin\"\n",
      "[1] \"Clara J. Deal\"\n",
      "[1] \"Jia Wang\"\n",
      "[1] \"Kyung-Hoon Shin\"\n",
      "[1] \"Nori Tanaka\"\n",
      "[1] \"Terry E. Whitledge\"\n",
      "[1] \"Sang Heon Lee\"\n",
      "[1] \"Rolf R. Gradinger\"\n",
      "[1] \"Add: 0000-0002-3169-4274\"\n"
     ]
    },
    {
     "name": "stderr",
     "output_type": "stream",
     "text": [
      "Warning message:\n",
      "“Unknown or uninitialised column: `orcid-identifier.path`.”\n",
      "Warning message:\n",
      "“Unknown or uninitialised column: `orcid-identifier.path`.”\n"
     ]
    },
    {
     "name": "stdout",
     "output_type": "stream",
     "text": [
      "[1] \"Marion Réveillet--Laboratoire de Glaciologie et Géophysique de l’Environnement (LGGE), Université Grenoble Alpes\"\n",
      "[1] \"Antoine Rabatel--Laboratoire de Glaciologie et Géophysique de l’Environnement (LGGE), Université Grenoble Alpes\"\n",
      "[1] \"Fabien Gillet-Chaulet--Laboratoire de Glaciologie et Géophysique de l’Environnement (LGGE), Université Grenoble Alpes\"\n",
      "[1] \"Alvaro Soruco--Instituto de Investigaciones Geológicas y del Medio Ambiente, Universidad Mayor de San Andrés\"\n",
      "[1] \"Add: 0000-0002-5304-1055\"\n"
     ]
    },
    {
     "name": "stderr",
     "output_type": "stream",
     "text": [
      "Warning message:\n",
      "“Unknown or uninitialised column: `orcid-identifier.path`.”\n",
      "Warning message:\n",
      "“Unknown or uninitialised column: `orcid-identifier.path`.”\n",
      "Warning message:\n",
      "“Unknown or uninitialised column: `orcid-identifier.path`.”\n",
      "Warning message:\n",
      "“Unknown or uninitialised column: `orcid-identifier.path`.”\n",
      "Warning message:\n",
      "“Unknown or uninitialised column: `orcid-identifier.path`.”\n",
      "Warning message:\n",
      "“Unknown or uninitialised column: `orcid-identifier.path`.”\n",
      "Warning message:\n",
      "“Unknown or uninitialised column: `orcid-identifier.path`.”\n",
      "Warning message:\n",
      "“Unknown or uninitialised column: `orcid-identifier.path`.”\n"
     ]
    },
    {
     "name": "stdout",
     "output_type": "stream",
     "text": [
      "[1] \"Bhanu Pratap--Centre for Glaciology, Wadia Institute of Himalayan Geology\"\n",
      "[1] \"D.P. Dobhal--Centre for Glaciology, Wadia Institute of Himalayan Geology\"\n",
      "[1] \"Manish Mehta--Centre for Glaciology, Wadia Institute of Himalayan Geology\"\n",
      "[1] \"Rakesh Bhambri--Centre for Glaciology, Wadia Institute of Himalayan Geology\"\n",
      "[1] \"Add: 0000-0001-9454-7274\"\n"
     ]
    },
    {
     "name": "stderr",
     "output_type": "stream",
     "text": [
      "Warning message:\n",
      "“Unknown or uninitialised column: `orcid-identifier.path`.”\n"
     ]
    },
    {
     "name": "stdout",
     "output_type": "stream",
     "text": [
      "[1] \"Jason M. Amundson--University of Chicago\"\n",
      "[1] \"Justin C. Burton--University of Chicago\"\n",
      "[1] \"Sergio Correa-Legisos--Universidad de Santiago de Chile\"\n",
      "[1] \"Add: 0000-0002-4797-8968\"\n"
     ]
    },
    {
     "name": "stderr",
     "output_type": "stream",
     "text": [
      "Warning message:\n",
      "“Unknown or uninitialised column: `orcid-identifier.path`.”\n",
      "Warning message:\n",
      "“Unknown or uninitialised column: `orcid-identifier.path`.”\n",
      "Warning message:\n",
      "“Unknown or uninitialised column: `orcid-identifier.path`.”\n",
      "Warning message:\n",
      "“Unknown or uninitialised column: `orcid-identifier.path`.”\n"
     ]
    },
    {
     "name": "stdout",
     "output_type": "stream",
     "text": [
      "[1] \"K. Görgen--Department of Climatology, Faculty of Geography/Geosciences, University of Trier\"\n",
      "[1] \"J. Bareiss--Department of Climatology, Faculty of Geography/Geosciences, University of Trier\"\n",
      "[1] \"A. Helbig--Department of Climatology, Faculty of Geography/Geosciences, University of Trier\"\n",
      "[1] \"A. Rinke--Alfred Wegener Institute for Polar and Marine Research\"\n",
      "[1] \"K. Dethloff--Alfred Wegener Institute for Polar and Marine Research\"\n",
      "[1] \"Error in: 3802 owi:0000-0002-4208-3444\"\n",
      "[1] \"Add: 0000-0002-6685-9219\"\n"
     ]
    },
    {
     "name": "stderr",
     "output_type": "stream",
     "text": [
      "Warning message:\n",
      "“Unknown or uninitialised column: `orcid-identifier.path`.”\n"
     ]
    },
    {
     "name": "stdout",
     "output_type": "stream",
     "text": [
      "[1] \"Z. Namsaraev--Center for Protein Engineering, University of Liège\"\n",
      "[1] \"M.-J. Mano--Center for Protein Engineering, University of Liège\"\n",
      "[1] \"R. Fernandez--Center for Protein Engineering, University of Liège\"\n",
      "[1] \"Annick Wilmotte--Center for Protein Engineering, University of Liège\"\n",
      "[1] \"Add: 0000-0003-3546-3489\"\n"
     ]
    },
    {
     "name": "stderr",
     "output_type": "stream",
     "text": [
      "Warning message:\n",
      "“Unknown or uninitialised column: `orcid-identifier.path`.”\n",
      "Warning message:\n",
      "“Unknown or uninitialised column: `orcid-identifier.path`.”\n",
      "Warning message:\n",
      "“Unknown or uninitialised column: `orcid-identifier.path`.”\n"
     ]
    },
    {
     "name": "stdout",
     "output_type": "stream",
     "text": [
      "[1] \"Sourav Laha--Indian Institute of Science Education and Research\"\n",
      "[1] \"Reshama Kumari--Indian Institute of Science Education and Research\"\n",
      "[1] \"Sunil Singh--HNB Garhwal University\"\n",
      "[1] \"Aditya Mishra--HNB Garhwal University\"\n",
      "[1] \"Tushar Sharma--HNB Garhwal University\"\n",
      "[1] \"Argha Banerjee--Indian Institute of Science Education and Research\"\n",
      "[1] \"Harish Chandra Nainwal--HNB Garhwal University\"\n",
      "[1] \"R. Shankar--The Institute of Mathematical Sciences\"\n",
      "[1] \"Add: 0000-0003-3215-8542\"\n",
      "[1] \"Add: 0000-0002-4808-9337\"\n"
     ]
    },
    {
     "name": "stderr",
     "output_type": "stream",
     "text": [
      "Warning message:\n",
      "“Unknown or uninitialised column: `orcid-identifier.path`.”\n",
      "Warning message:\n",
      "“Unknown or uninitialised column: `orcid-identifier.path`.”\n",
      "Warning message:\n",
      "“Unknown or uninitialised column: `orcid-identifier.path`.”\n",
      "Warning message:\n",
      "“Unknown or uninitialised column: `orcid-identifier.path`.”\n",
      "Warning message:\n",
      "“Unknown or uninitialised column: `orcid-identifier.path`.”\n",
      "Warning message:\n",
      "“Unknown or uninitialised column: `orcid-identifier.path`.”\n"
     ]
    },
    {
     "name": "stdout",
     "output_type": "stream",
     "text": [
      "[1] \"B. De Boer--Institute for Marine and Atmospheric Research Utrecht (IMAU), Utrecht University\"\n",
      "[1] \"R.S.W. van de Wal--Institute for Marine and Atmospheric Research Utrecht (IMAU), Utrecht University\"\n",
      "[1] \"R. Bintanja--Royal Netherlands Meteorological Institute\"\n",
      "[1] \"L.J. Lourens--Department of Earth Sciences, Faculty of Geosciences, Utrecht University\"\n",
      "[1] \"E. Tuenter--Institute for Marine and Atmospheric Research Utrecht (IMAU), Utrecht University\"\n",
      "[1] \"Add: 0000-0002-3696-6654\"\n"
     ]
    },
    {
     "name": "stderr",
     "output_type": "stream",
     "text": [
      "Warning message:\n",
      "“Unknown or uninitialised column: `orcid-identifier.path`.”\n",
      "Warning message:\n",
      "“Unknown or uninitialised column: `orcid-identifier.path`.”\n",
      "Warning message:\n",
      "“Unknown or uninitialised column: `orcid-identifier.path`.”\n",
      "Warning message:\n",
      "“Unknown or uninitialised column: `orcid-identifier.path`.”\n",
      "Warning message:\n",
      "“Unknown or uninitialised column: `orcid-identifier.path`.”\n",
      "Warning message:\n",
      "“Unknown or uninitialised column: `orcid-identifier.path`.”\n",
      "Warning message:\n",
      "“Unknown or uninitialised column: `orcid-identifier.path`.”\n",
      "Warning message:\n",
      "“Unknown or uninitialised column: `orcid-identifier.path`.”\n",
      "Warning message:\n",
      "“Unknown or uninitialised column: `orcid-identifier.path`.”\n",
      "Warning message:\n",
      "“Unknown or uninitialised column: `orcid-identifier.path`.”\n",
      "Warning message:\n",
      "“Unknown or uninitialised column: `orcid-identifier.path`.”\n",
      "Warning message:\n",
      "“Unknown or uninitialised column: `orcid-identifier.path`.”\n",
      "Warning message:\n",
      "“Unknown or uninitialised column: `orcid-identifier.path`.”\n",
      "Warning message:\n",
      "“Unknown or uninitialised column: `orcid-identifier.path`.”\n"
     ]
    },
    {
     "name": "stdout",
     "output_type": "stream",
     "text": [
      "[1] \"Peter D. Ditlevsen--The Niels Bohr Institute\"\n",
      "[1] \"Susanne Ditlevsen--Department of Biostatistics\"\n",
      "[1] \"Katrine K. Andersen--The Niels Bohr Institute\"\n",
      "[1] \"Add: 0000-0003-4178-2195\"\n",
      "[1] \"Add: 0000-0002-1998-2783\"\n"
     ]
    },
    {
     "name": "stderr",
     "output_type": "stream",
     "text": [
      "Warning message:\n",
      "“Unknown or uninitialised column: `orcid-identifier.path`.”\n"
     ]
    },
    {
     "name": "stdout",
     "output_type": "stream",
     "text": [
      "[1] \"Surendra Adhikari\"\n",
      "[1] \"Philippe Huybrechts\"\n",
      "[1] \"Add: 0000-0003-1021-6860\"\n",
      "[1] \"Add: 0000-0003-1406-0525\"\n"
     ]
    },
    {
     "name": "stderr",
     "output_type": "stream",
     "text": [
      "Warning message:\n",
      "“Unknown or uninitialised column: `orcid-identifier.path`.”\n",
      "Warning message:\n",
      "“Unknown or uninitialised column: `orcid-identifier.path`.”\n",
      "Warning message:\n",
      "“Unknown or uninitialised column: `orcid-identifier.path`.”\n",
      "Warning message:\n",
      "“Unknown or uninitialised column: `orcid-identifier.path`.”\n",
      "Warning message:\n",
      "“Unknown or uninitialised column: `orcid-identifier.path`.”\n",
      "Warning message:\n",
      "“Unknown or uninitialised column: `orcid-identifier.path`.”\n",
      "Warning message:\n",
      "“Unknown or uninitialised column: `orcid-identifier.path`.”\n",
      "Warning message:\n",
      "“Unknown or uninitialised column: `orcid-identifier.path`.”\n",
      "Warning message:\n",
      "“Unknown or uninitialised column: `orcid-identifier.path`.”\n",
      "Warning message:\n",
      "“Unknown or uninitialised column: `orcid-identifier.path`.”\n"
     ]
    }
   ],
   "source": [
    "# itterate over df \n",
    "for (row in 1:nrow(df)) {\n",
    "    if ( nchar(toString(df$doi[row] )) > 1 ) {\n",
    "        Sys.sleep(1)\n",
    "        # get the orcid data\n",
    "        orcidwriters <- try(\n",
    "            orcid_doi(dois=toString(df$doi[row]), fuzzy=FALSE)[[1]]$`orcid-identifier.path`,\n",
    "            silent=TRUE)\n",
    "        if(class(orcidwriters) %in% 'try-error') {next}\n",
    "        if (length(orcidwriters) == 0) {next}\n",
    "        # get out writers name\n",
    "        names <- namesfilter(writers[row][[1]])\n",
    "        # itterate over orcid data\n",
    "        for ( owi in 1:length(orcidwriters)) {\n",
    "            # get the name of the orcid id\n",
    "            res <- orcid_id(orcid = orcidwriters[[owi]])\n",
    "            family_name <- try( str_to_lower(res[[1]]$name$`family-name`[[1]]),\n",
    "                               silent=TRUE)\n",
    "            given_name <- try(str_to_lower(res[[1]]$name$`given-name`[[1]]),\n",
    "                               silent=TRUE)\n",
    "            if(class(family_name) %in% 'try-error') {next}\n",
    "            if(class(given_name) %in% 'try-error') {next}\n",
    "            # if no family name just skip\n",
    "            if (identical(family_name, character(0))) {next}\n",
    "\n",
    "            # find index of the writer for the orcidid\n",
    "            #  match family names\n",
    "            thiswirter_index <- 1\n",
    "            thiswirter <- list()\n",
    "            for ( wi in 1:length(names) ) {\n",
    "                # itterate over the writer as the name order can be different\n",
    "                for ( wii in 1:length(names[[wi]]) ) {\n",
    "                    # we use str_detect as family name is not always one, example spanish\n",
    "                    if ( str_detect(family_name, names[[wi]][[wii]] ) ) {\n",
    "                        thiswirter[thiswirter_index] <- wi\n",
    "                        thiswirter_index <- thiswirter_index+1\n",
    "                    }\n",
    "                }                                \n",
    "            }\n",
    "            # if multiple family name match we try to filter by the given name\n",
    "            if ( length(thiswirter) < 1 ) {\n",
    "                print(str_c(\"Error in: \", row, \" owi:\", orcidwriters[[owi]] ) )\n",
    "                next\n",
    "            }\n",
    "            truewriter <- thiswirter[[1]]\n",
    "            if ( length(thiswirter) > 1 & !identical(given_name, character(0)) ) {\n",
    "                # itterate ofer the names where the family name match\n",
    "                for ( wi in 1:length(thiswirter) )  {\n",
    "                    userindex <- thiswirter[[wi]]\n",
    "                    # if we have more data than just the familyname\n",
    "                    if (length(names[[userindex]]) > 1 ) {\n",
    "                        # itterate over the data\n",
    "                        for ( wii in 1:length(names[[userindex]]) ) {\n",
    "                            # if the given name match\n",
    "                            if ( str_detect(given_name, names[[userindex]][[wii]] ) ){\n",
    "                                truewriter <- userindex\n",
    "                                break\n",
    "                            }\n",
    "                        }\n",
    "                    } \n",
    "                }\n",
    "            }\n",
    "            # enrich data \n",
    "            # if index have no orcid id alread we add            \n",
    "            if ( !str_detect( writers[row][[1]][truewriter], \"---\" )) {\n",
    "                print(str_c(\"Add: \", orcidwriters[[owi]] ))\n",
    "                writers[row][[1]][truewriter] <- str_c( writers[row][[1]][truewriter], \"---\", orcidwriters[[owi]] )                 \n",
    "            }\n",
    "        }\n",
    "        # make the enriched writerstring\n",
    "        result <- \"\"\n",
    "        for ( wi in 1:length(writers[row][[1]]) ) {\n",
    "            if ( wi < length(writers[row][[1]]) ) {\n",
    "                result <- str_c(result, writers[row][[1]][wi], \"#\" )\n",
    "            } else {\n",
    "                result <- str_c(result, writers[row][[1]][wi] )\n",
    "            }\n",
    "        }\n",
    "        # update df\n",
    "        df$writer[row] <- result        \n",
    "    };\n",
    "}"
   ]
  },
  {
   "cell_type": "code",
   "execution_count": 9,
   "metadata": {},
   "outputs": [],
   "source": [
    "# save df as csv\n",
    "write.table(df, file = str_replace(filename, \"journal_\", \"journal_enrichment_\"), row.names = FALSE, sep=\"|\")"
   ]
  }
 ],
 "metadata": {
  "kernelspec": {
   "display_name": "R",
   "language": "R",
   "name": "ir"
  },
  "language_info": {
   "codemirror_mode": "r",
   "file_extension": ".r",
   "mimetype": "text/x-r-source",
   "name": "R",
   "pygments_lexer": "r",
   "version": "3.6.3"
  }
 },
 "nbformat": 4,
 "nbformat_minor": 4
}
